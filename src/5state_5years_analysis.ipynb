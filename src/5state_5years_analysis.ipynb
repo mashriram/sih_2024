{
 "cells": [
  {
   "cell_type": "code",
   "execution_count": 27,
   "metadata": {},
   "outputs": [
    {
     "data": {
      "text/plain": [
       "True"
      ]
     },
     "execution_count": 27,
     "metadata": {},
     "output_type": "execute_result"
    }
   ],
   "source": [
    "import numpy as np\n",
    "import pandas as pd\n",
    "import plotly.express as px\n",
    "import os\n",
    "from dotenv import load_dotenv\n",
    "load_dotenv()"
   ]
  },
  {
   "cell_type": "code",
   "execution_count": 28,
   "metadata": {},
   "outputs": [
    {
     "name": "stdout",
     "output_type": "stream",
     "text": [
      "data/\n"
     ]
    }
   ],
   "source": [
    "print(os.environ.get(\"DATA_SOURCE_DIR\"))"
   ]
  },
  {
   "cell_type": "code",
   "execution_count": 29,
   "metadata": {},
   "outputs": [],
   "source": [
    "DATA_SOURCE = \"../data/5_yr_data/\""
   ]
  },
  {
   "cell_type": "code",
   "execution_count": 30,
   "metadata": {},
   "outputs": [],
   "source": [
    "mp_5yrs = pd.read_csv(DATA_SOURCE+\"MP5_years.csv\")\n",
    "up_5yrs = pd.read_csv(DATA_SOURCE+\"UP5_years.csv\")\n",
    "pb_5yrs = pd.read_csv(DATA_SOURCE+\"PB5_years.csv\")\n",
    "rj_5yrs = pd.read_csv(DATA_SOURCE+\"RJ5_years.csv\")\n",
    "wb_5yrs = pd.read_csv(DATA_SOURCE+\"WB5_years.csv\")"
   ]
  },
  {
   "cell_type": "code",
   "execution_count": 41,
   "metadata": {},
   "outputs": [],
   "source": [
    "YEARS= [2024]\n",
    "STATE_DFS = {'up':up_5yrs,\"mp\":mp_5yrs,\"pb\":pb_5yrs,'rj':rj_5yrs,\"wb\":wb_5yrs}"
   ]
  },
  {
   "cell_type": "code",
   "execution_count": 42,
   "metadata": {},
   "outputs": [],
   "source": [
    "up_5yrs['state'] = \"up\"\n",
    "up_5yrs['datetime'] = pd.to_datetime(up_5yrs['date'])\n",
    "up_5yrs['day_of_week_name'] = up_5yrs['datetime'].dt.day_name()\n",
    "up_5yrs['week_number'] = up_5yrs['datetime'].dt.isocalendar().week\n",
    "state_year = up_5yrs[up_5yrs['year'] == 2024]\n",
    "state_year_gb = state_year.groupby(['week_number',\"commodity\"]).agg({\"modal_rs_quintal\" : \"mean\"}).reset_index()\n",
    "# px.line(state_year_gb, x=\"week_number\", y=\"modal_rs_quintal\",color=\"commodity\")"
   ]
  },
  {
   "cell_type": "code",
   "execution_count": 44,
   "metadata": {},
   "outputs": [
    {
     "name": "stdout",
     "output_type": "stream",
     "text": [
      "2024 up\n",
      "   week_number commodity  modal_rs_quintal\n",
      "0            1     Onion       1931.686520\n",
      "1            1    Potato        745.951402\n",
      "2            1      Rice       2748.390358\n",
      "3            1     Wheat       2462.610963\n",
      "4            2     Onion       1905.065401\n",
      "2024 mp\n",
      "   week_number commodity  modal_rs_quintal\n",
      "0            1     Onion        726.512500\n",
      "1            1    Potato        481.380952\n",
      "2            1     Wheat       2439.107623\n",
      "3            2     Onion        868.602273\n",
      "4            2    Potato        658.727273\n",
      "2024 pb\n",
      "   week_number commodity  modal_rs_quintal\n",
      "0            1     Onion       2218.151316\n",
      "1            1    Potato        638.089595\n",
      "2            2     Onion       2306.503145\n",
      "3            2    Potato        625.315341\n",
      "4            3     Onion       2262.911672\n",
      "2024 rj\n",
      "   week_number commodity  modal_rs_quintal\n",
      "0            1     Onion       1822.197368\n",
      "1            1    Potato        856.559441\n",
      "2            1      Rice       4450.500000\n",
      "3            1     Wheat       2436.666667\n",
      "4            2     Onion       1801.305195\n",
      "2024 wb\n",
      "   week_number commodity  modal_rs_quintal\n",
      "0            1     Onion       2733.000000\n",
      "1            1    Potato       1325.222930\n",
      "2            1      Rice       3681.695842\n",
      "3            1     Wheat       2497.987805\n",
      "4            2     Onion       2617.576687\n"
     ]
    }
   ],
   "source": [
    "for year in YEARS:\n",
    "    for state, df in STATE_DFS.items():\n",
    "        df['state'] = state\n",
    "        df['datetime'] = pd.to_datetime(df['date'])\n",
    "        df['day_of_week_name'] = df['datetime'].dt.day_name()\n",
    "        df['week_number'] = df['datetime'].dt.isocalendar().week\n",
    "        state_year = df[df['year'] == year]\n",
    "        state_year_gb = state_year.groupby(['week_number',\"commodity\"]).agg({\"modal_rs_quintal\" : \"mean\"}).reset_index()\n",
    "        px.line(state_year_gb, x=\"week_number\", y=\"modal_rs_quintal\",color=\"commodity\")"
   ]
  },
  {
   "cell_type": "code",
   "execution_count": null,
   "metadata": {},
   "outputs": [],
   "source": [
    "mp_yearly = mp_5yrs.groupby([\"year\",\"month\",\"commodity\"]).agg({\"modal_rs_quintal\": \"mean\",\"min_rs_quintal\":\"mean\",'max_rs_quintal':'mean'}).reset_index()\n",
    "mp_yearly.shape"
   ]
  },
  {
   "cell_type": "code",
   "execution_count": 112,
   "metadata": {},
   "outputs": [],
   "source": [
    "mp_yearly['state'] = \"MP\""
   ]
  },
  {
   "cell_type": "code",
   "execution_count": null,
   "metadata": {},
   "outputs": [],
   "source": [
    "up_yearly = (\n",
    "    up_5yrs.groupby([\"year\",\"month\" ,\"commodity\"])\n",
    "    .agg(\n",
    "        {\"modal_rs_quintal\": \"mean\", \"min_rs_quintal\": \"mean\", \"max_rs_quintal\": \"mean\"}\n",
    "    )\n",
    "    .reset_index()\n",
    ")\n",
    "up_yearly['state'] = \"UP\"\n",
    "up_yearly.shape"
   ]
  },
  {
   "cell_type": "code",
   "execution_count": null,
   "metadata": {},
   "outputs": [],
   "source": [
    "wb_yearly = (\n",
    "    wb_5yrs.groupby([\"year\",\"month\" ,\"commodity\"])\n",
    "    .agg(\n",
    "        {\"modal_rs_quintal\": \"mean\", \"min_rs_quintal\": \"mean\", \"max_rs_quintal\": \"mean\"}\n",
    "    )\n",
    "    .reset_index()\n",
    ")\n",
    "wb_yearly['state'] = \"WB\"\n",
    "wb_yearly.shape"
   ]
  },
  {
   "cell_type": "code",
   "execution_count": null,
   "metadata": {},
   "outputs": [],
   "source": [
    "rj_yearly = (\n",
    "    rj_5yrs.groupby([\"year\",\"month\" ,\"commodity\"])\n",
    "    .agg(\n",
    "        {\"modal_rs_quintal\": \"mean\", \"min_rs_quintal\": \"mean\", \"max_rs_quintal\": \"mean\"}\n",
    "    )\n",
    "    .reset_index()\n",
    ")\n",
    "rj_yearly['state'] = \"RJ\"\n",
    "rj_yearly.shape"
   ]
  },
  {
   "cell_type": "code",
   "execution_count": null,
   "metadata": {},
   "outputs": [],
   "source": [
    "pb_yearly = (\n",
    "    pb_5yrs.groupby([\"year\",\"month\" ,\"commodity\"])\n",
    "    .agg(\n",
    "        {\"modal_rs_quintal\": \"mean\", \"min_rs_quintal\": \"mean\", \"max_rs_quintal\": \"mean\"}\n",
    "    )\n",
    "    .reset_index()\n",
    ")\n",
    "pb_yearly['state'] = \"PB\"\n",
    "pb_yearly.shape"
   ]
  },
  {
   "cell_type": "code",
   "execution_count": 117,
   "metadata": {},
   "outputs": [],
   "source": [
    "mp_yearly_district = (\n",
    "    mp_5yrs.groupby([\"year\",\"district_name\",\"commodity\"])\n",
    "    .agg(\n",
    "        {\"modal_rs_quintal\": \"mean\", \"min_rs_quintal\": \"mean\", \"max_rs_quintal\": \"mean\"}\n",
    "    )\n",
    "    .reset_index()\n",
    ")"
   ]
  },
  {
   "cell_type": "code",
   "execution_count": 118,
   "metadata": {},
   "outputs": [],
   "source": [
    "mp_pivoted_df = mp_yearly_district.pivot_table(\n",
    "    index=\"year\", columns=\"commodity\", values=\"modal_rs_quintal\", fill_value=0\n",
    ")"
   ]
  },
  {
   "cell_type": "code",
   "execution_count": 132,
   "metadata": {},
   "outputs": [],
   "source": [
    "wb_yearly_district = (\n",
    "    wb_5yrs.groupby([\"year\",\"district_name\",\"commodity\"])\n",
    "    .agg(\n",
    "        {\"modal_rs_quintal\": \"mean\", \"min_rs_quintal\": \"mean\", \"max_rs_quintal\": \"mean\"}\n",
    "    )\n",
    "    .reset_index()\n",
    ")"
   ]
  },
  {
   "cell_type": "code",
   "execution_count": null,
   "metadata": {},
   "outputs": [],
   "source": [
    "wb_pivoted_df = wb_yearly_district.pivot_table(\n",
    "    index=\"year\", columns=\"commodity\", values=\"modal_rs_quintal\", fill_value=0\n",
    ")"
   ]
  },
  {
   "cell_type": "code",
   "execution_count": 119,
   "metadata": {},
   "outputs": [],
   "source": [
    "up_yearly_district = (\n",
    "    up_5yrs.groupby([\"year\", \"district_name\", \"commodity\"])\n",
    "    .agg(\n",
    "        {\"modal_rs_quintal\": \"mean\", \"min_rs_quintal\": \"mean\", \"max_rs_quintal\": \"mean\"}\n",
    "    )\n",
    "    .reset_index()\n",
    ")"
   ]
  },
  {
   "cell_type": "code",
   "execution_count": 120,
   "metadata": {},
   "outputs": [],
   "source": [
    "up_pivoted_df = up_yearly_district.pivot_table(\n",
    "    index=\"year\", columns=\"commodity\", values=\"modal_rs_quintal\", fill_value=0\n",
    ")"
   ]
  },
  {
   "cell_type": "code",
   "execution_count": 146,
   "metadata": {},
   "outputs": [],
   "source": [
    "rj_yearly_district = (\n",
    "    rj_5yrs.groupby([\"year\", \"district_name\", \"commodity\"])\n",
    "    .agg(\n",
    "        {\"modal_rs_quintal\": \"mean\", \"min_rs_quintal\": \"mean\", \"max_rs_quintal\": \"mean\"}\n",
    "    )\n",
    "    .reset_index()\n",
    ")"
   ]
  },
  {
   "cell_type": "code",
   "execution_count": 147,
   "metadata": {},
   "outputs": [],
   "source": [
    "rj_pivoted_df = rj_yearly_district.pivot_table(\n",
    "    index=\"year\", columns=\"commodity\", values=\"modal_rs_quintal\", fill_value=0\n",
    ")"
   ]
  },
  {
   "cell_type": "code",
   "execution_count": 148,
   "metadata": {},
   "outputs": [],
   "source": [
    "pb_yearly_district = (\n",
    "    pb_5yrs.groupby([\"year\", \"district_name\", \"commodity\"])\n",
    "    .agg(\n",
    "        {\"modal_rs_quintal\": \"mean\", \"min_rs_quintal\": \"mean\", \"max_rs_quintal\": \"mean\"}\n",
    "    )\n",
    "    .reset_index()\n",
    ")"
   ]
  },
  {
   "cell_type": "code",
   "execution_count": 149,
   "metadata": {},
   "outputs": [],
   "source": [
    "pb_pivoted_df = pb_yearly_district.pivot_table(\n",
    "    index=\"year\", columns=\"commodity\", values=\"modal_rs_quintal\", fill_value=0\n",
    ")"
   ]
  },
  {
   "cell_type": "code",
   "execution_count": null,
   "metadata": {},
   "outputs": [],
   "source": [
    "up_df = up_pivoted_df.reset_index()\n",
    "up_df.head()"
   ]
  },
  {
   "cell_type": "code",
   "execution_count": null,
   "metadata": {},
   "outputs": [],
   "source": [
    "up_df.columns = [\"year\", \"Onion\", \"Potato\", \"Rice\", \"Wheat\"]\n",
    "up_df['state'] = \"UP\"\n",
    "up_df.head()"
   ]
  },
  {
   "cell_type": "code",
   "execution_count": null,
   "metadata": {},
   "outputs": [],
   "source": [
    "wb_df = wb_pivoted_df.reset_index()\n",
    "wb_df.columns = [\"year\", \"Onion\", \"Potato\", \"Rice\", \"Wheat\"]\n",
    "wb_df['state'] = \"WB\"\n",
    "wb_df.head()"
   ]
  },
  {
   "cell_type": "code",
   "execution_count": null,
   "metadata": {},
   "outputs": [],
   "source": [
    "mp_df = mp_pivoted_df.reset_index()\n",
    "mp_df.columns = [\"year\", \"Onion\", \"Potato\", \"Rice\", \"Wheat\"]\n",
    "mp_df['state'] = \"MP\"\n",
    "mp_df.head()"
   ]
  },
  {
   "cell_type": "code",
   "execution_count": null,
   "metadata": {},
   "outputs": [],
   "source": [
    "rj_df = rj_pivoted_df.reset_index()\n",
    "rj_df.columns = [\"year\", \"Onion\", \"Potato\", \"Rice\", \"Wheat\"]\n",
    "rj_df['state'] = \"RJ\"\n",
    "rj_df.head()"
   ]
  },
  {
   "cell_type": "code",
   "execution_count": null,
   "metadata": {},
   "outputs": [],
   "source": [
    "pb_df = pb_pivoted_df.reset_index()\n",
    "pb_df.columns = [\"year\", \"Onion\", \"Potato\", \"Rice\", \"Wheat\"]\n",
    "pb_df['state'] = \"PB\"\n",
    "pb_df.head()"
   ]
  },
  {
   "cell_type": "code",
   "execution_count": 163,
   "metadata": {},
   "outputs": [],
   "source": [
    "df_s = pd.merge(up_df, mp_df, how=\"outer\")\n",
    "df_s = pd.merge(df_s, wb_df, how=\"outer\")\n",
    "df_s = pd.merge(df_s, rj_df, how=\"outer\")\n",
    "df_s = pd.merge(df_s, pb_df, how=\"outer\")"
   ]
  },
  {
   "cell_type": "code",
   "execution_count": null,
   "metadata": {},
   "outputs": [],
   "source": [
    "df_s.shape"
   ]
  },
  {
   "cell_type": "code",
   "execution_count": null,
   "metadata": {},
   "outputs": [],
   "source": [
    "df_s.head()"
   ]
  },
  {
   "cell_type": "code",
   "execution_count": 166,
   "metadata": {},
   "outputs": [],
   "source": [
    "import plotly.express as px\n",
    "# df = px.data.gapminder().query(\"continent == 'Oceania'\")"
   ]
  },
  {
   "cell_type": "code",
   "execution_count": null,
   "metadata": {},
   "outputs": [],
   "source": [
    "fig = px.line(df_s, x='year', y='Onion', color='state', symbol=\"state\")\n",
    "fig.show()"
   ]
  },
  {
   "cell_type": "code",
   "execution_count": null,
   "metadata": {},
   "outputs": [],
   "source": [
    "fig = px.line(df_s, x='year', y='Potato', color='state', symbol=\"state\")\n",
    "fig.show()"
   ]
  },
  {
   "cell_type": "code",
   "execution_count": null,
   "metadata": {},
   "outputs": [],
   "source": [
    "fig = px.line(df_s, x='year', y='Rice', color='state', symbol=\"state\")\n",
    "fig.show()"
   ]
  },
  {
   "cell_type": "code",
   "execution_count": null,
   "metadata": {},
   "outputs": [],
   "source": [
    "fig = px.line(df_s, x='year', y='Wheat', color='state', symbol=\"state\")\n",
    "fig.show()"
   ]
  },
  {
   "cell_type": "code",
   "execution_count": null,
   "metadata": {},
   "outputs": [],
   "source": []
  }
 ],
 "metadata": {
  "kernelspec": {
   "display_name": "sihvenv",
   "language": "python",
   "name": "python3"
  },
  "language_info": {
   "codemirror_mode": {
    "name": "ipython",
    "version": 3
   },
   "file_extension": ".py",
   "mimetype": "text/x-python",
   "name": "python",
   "nbconvert_exporter": "python",
   "pygments_lexer": "ipython3",
   "version": "3.12.3"
  }
 },
 "nbformat": 4,
 "nbformat_minor": 2
}
