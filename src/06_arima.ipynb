{
 "cells": [
  {
   "cell_type": "code",
   "execution_count": 1,
   "metadata": {},
   "outputs": [],
   "source": [
    "import pandas as pd\n",
    "import numpy as np\n",
    "import matplotlib as mpl\n",
    "import matplotlib.pyplot as plt\n",
    "import plotly.express as px"
   ]
  },
  {
   "cell_type": "code",
   "execution_count": 2,
   "metadata": {},
   "outputs": [],
   "source": [
    "df_up = pd.read_csv(\"../data/5_yr_data/UP5_years.csv\")\n",
    "df_up['datetime'] = pd.to_datetime(df_up['date'])\n",
    "df_up.drop(columns=[\"Unnamed: 0\"], axis=1, inplace=True)\n",
    "df_up.sort_values(by=\"datetime\", ascending=True, inplace=True)\n",
    "df_up.head()"
   ]
  },
  {
   "cell_type": "code",
   "execution_count": 3,
   "metadata": {},
   "outputs": [],
   "source": [
    "TRAIN_LEN = int(0.8 * len(df_up))\n",
    "up_train, up_test = (df_up[:TRAIN_LEN],df_up[TRAIN_LEN:])\n",
    "up_train.set_index('datetime', inplace=True)\n",
    "up_train.sort_index(inplace=True)\n",
    "up_test.set_index('datetime', inplace=True)\n",
    "up_test.sort_index(inplace=True)"
   ]
  },
  {
   "cell_type": "code",
   "execution_count": 4,
   "metadata": {},
   "outputs": [],
   "source": [
    "up_train"
   ]
  },
  {
   "cell_type": "code",
   "execution_count": 18,
   "metadata": {},
   "outputs": [],
   "source": []
  },
  {
   "cell_type": "code",
   "execution_count": 17,
   "metadata": {},
   "outputs": [],
   "source": [
    "df_up_dt"
   ]
  },
  {
   "cell_type": "code",
   "execution_count": 5,
   "metadata": {},
   "outputs": [],
   "source": [
    "from statsmodels.tsa.arima_model import ARIMA"
   ]
  },
  {
   "cell_type": "code",
   "execution_count": 19,
   "metadata": {},
   "outputs": [],
   "source": [
    "from statsmodels.tsa.stattools import kpss\n",
    "commodities = df_up['commodity'].unique()\n",
    "for commodity in commodities:\n",
    "    up_train_commodity = up_train[up_train['commodity'] == commodity]\n",
    "    up_train_commodity_dt = up_train_commodity.groupby(\"datetime\").agg({\"modal_rs_quintal\":\"mean\"})\n",
    "    res = kpss(up_train_commodity_dt['modal_rs_quintal'])\n",
    "    kpss_stat, p_value, used_lag, critical_values = res\n",
    "    print(\"KPSS results for \"+ commodity)\n",
    "    print(\"KPSS Statistic:\", kpss_stat)\n",
    "    print(\"p-value:\", p_value)\n",
    "    print(\"Number of lags used:\", used_lag)\n",
    "    print(\"Critical values:\", end=\" \")\n",
    "    for key, value in critical_values.items():\n",
    "        print(f\"\\t{key}: {value}\", end=\"\\t\", )\n",
    "    print(\"\\n---------------------------------------------\")"
   ]
  },
  {
   "cell_type": "markdown",
   "metadata": {},
   "source": [
    " #### Based on the above results, we would see that\n",
    " - #### p-value is very less compared to 0.05\n",
    " - #### KPSS statistic is also much higher than the crirical values\n",
    " #### So, the data is not stationary"
   ]
  },
  {
   "cell_type": "code",
   "execution_count": 7,
   "metadata": {},
   "outputs": [],
   "source": [
    "from statsmodels.tsa.stattools import adfuller\n",
    "\n",
    "commodities = df_up['commodity'].unique()\n",
    "for commodity in commodities:\n",
    "    res = adfuller(up_train[up_train['commodity'] == commodity]['modal_rs_quintal'], maxlag=10)\n",
    "    adf_stat, p_value, used_lag, nobs, critical_values, store = res\n",
    "    print(\"ADF results for \"+ commodity)\n",
    "    print(\"ADF Statistic:\", adf_stat)\n",
    "    print(\"p-value:\", p_value)\n",
    "    print(\"Number of lags used:\", used_lag)\n",
    "    print(\"Number of observations used:\", nobs)\n",
    "    print(\"Critical values:\", end=\" \")\n",
    "    for key, value in critical_values.items():\n",
    "        print(f\"\\t{key}: {value}\", end=\"\\t\", )\n",
    "    print(\"\\n---------------------------------------------\")"
   ]
  },
  {
   "cell_type": "markdown",
   "metadata": {},
   "source": [
    " #### Based on the above results, we would see that\n",
    " - #### p-value is very less compared to 0.05\n",
    " - #### ADF statistic is also much lesser than the crirical values\n",
    " #### So, the data is stationary"
   ]
  },
  {
   "cell_type": "code",
   "execution_count": 8,
   "metadata": {},
   "outputs": [],
   "source": [
    "x = np.linspace(0, 10 * np.pi, 1000)\n",
    "\n",
    "y = np.sin(x)\n",
    "\n",
    "plt.figure(figsize=(12,4))\n",
    "plt.plot(x, y)\n",
    "\n",
    "# Add labels and title\n",
    "plt.title('Sine Curve')\n",
    "plt.xlabel('x values (radians)')\n",
    "plt.ylabel('sin(x)')\n",
    "\n",
    "# Show the plot\n",
    "plt.grid(True)  # Add a grid for better visualization\n",
    "plt.show()"
   ]
  },
  {
   "cell_type": "code",
   "execution_count": 9,
   "metadata": {},
   "outputs": [],
   "source": [
    "res = adfuller(y)\n",
    "adf_stat, p_value, used_lag, nobs, critical_values, store = res\n",
    "\n",
    "print(\"ADF Statistic:\", adf_stat)\n",
    "print(\"p-value:\", p_value)\n",
    "print(\"Number of lags used:\", used_lag)\n",
    "print(\"Number of observations used:\", nobs)\n",
    "print(\"Critical values:\")\n",
    "for key, value in critical_values.items():\n",
    "    print(f\"\\t{key}: {value}\")"
   ]
  },
  {
   "cell_type": "markdown",
   "metadata": {},
   "source": []
  },
  {
   "cell_type": "code",
   "execution_count": 15,
   "metadata": {},
   "outputs": [],
   "source": [
    "from scipy.stats import boxcox\n",
    "\n",
    "for commodity in commodities:\n",
    "    boxcox_commodity_up = pd.Series(boxcox(df_up[df_up['commodity'] == commodity]['modal_rs_quintal'],lmbda=0),index=df_up[df_up['commodity'] == commodity].datetime)\n",
    "    print(boxcox_commodity_up ,commodity)\n",
    "    plt.plot(boxcox_commodity_up)\n",
    "    plt.show()"
   ]
  },
  {
   "cell_type": "code",
   "execution_count": null,
   "metadata": {},
   "outputs": [],
   "source": []
  }
 ],
 "metadata": {
  "kernelspec": {
   "display_name": "sihvenv",
   "language": "python",
   "name": "python3"
  },
  "language_info": {
   "codemirror_mode": {
    "name": "ipython",
    "version": 3
   },
   "file_extension": ".py",
   "mimetype": "text/x-python",
   "name": "python",
   "nbconvert_exporter": "python",
   "pygments_lexer": "ipython3",
   "version": "3.12.3"
  }
 },
 "nbformat": 4,
 "nbformat_minor": 2
}
