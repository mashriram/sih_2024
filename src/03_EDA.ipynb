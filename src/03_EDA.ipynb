{
 "cells": [
  {
   "cell_type": "code",
   "execution_count": 1,
   "metadata": {},
   "outputs": [
    {
     "data": {
      "text/plain": [
       "True"
      ]
     },
     "execution_count": 1,
     "metadata": {},
     "output_type": "execute_result"
    }
   ],
   "source": [
    "import numpy as np\n",
    "import pandas as pd\n",
    "import plotly.express as px\n",
    "import os\n",
    "from dotenv import load_dotenv\n",
    "load_dotenv()"
   ]
  },
  {
   "cell_type": "markdown",
   "metadata": {},
   "source": [
    "lets get the data of top 5 states 10 years  and do some eda and analysis on it\n"
   ]
  },
  {
   "cell_type": "code",
   "execution_count": 2,
   "metadata": {},
   "outputs": [
    {
     "name": "stdout",
     "output_type": "stream",
     "text": [
      "data/\n"
     ]
    }
   ],
   "source": [
    "print(os.environ.get(\"DATA_SOURCE_DIR\"))\n"
   ]
  },
  {
   "cell_type": "code",
   "execution_count": 3,
   "metadata": {},
   "outputs": [],
   "source": [
    "# from create_statewise_dfs import get_statewise_datasets\n",
    "# state_datasets = get_statewise_datasets(states=['WB','up','mp','rj','pb'],commodities=['rice','wheat','potato','onion'],start_year=2018,end_year=2024)\n",
    "# SOURCE_DIR = os.environ.get(\n",
    "#     \"DATA_SOURCE_DIR\",\"../sih_2024_data_source/\")\n",
    "# STATE_WISE_DATA = SOURCE_DIR + \"statewise_results/Onion\"\n",
    "# state_datasets: dict[str, pd.DataFrame] = dict()\n",
    "# print(os.listdir(STATE_WISE_DATA))\n",
    "# files = [\n",
    "#         os.path.join(STATE_WISE_DATA, file)\n",
    "#         for file in os.listdir(STATE_WISE_DATA)\n",
    "#         if file.endswith(\".csv\")\n",
    "#     ]\n",
    "# for file in files :\n",
    "#     print(file)\n",
    "#     state_name = file.split(\"/\")[-1].lower().replace(\"_all_years.csv\",\"\")\n",
    "#     print(state_name)\n",
    "#     df = pd.read_csv(file)\n",
    "#     df.rename(columns={\"1\":\"district_name\",\"2\":\"market_name\",\"3\":\"commodity\",\"4\":\"variety\",\"5\":\"grade\",\"6\":\"min_rs_quintal\",\"7\":\"max_rs_quintal\",\"8\":\"modal_rs_quintal\",\"9\":\"date\"},inplace=True)\n",
    "#     df.drop(columns=\"0\",inplace=True)\n",
    "#     state_datasets[state_name] = df\n"
   ]
  },
  {
   "cell_type": "code",
   "execution_count": 4,
   "metadata": {},
   "outputs": [],
   "source": [
    "# state_datasets"
   ]
  },
  {
   "cell_type": "code",
   "execution_count": 5,
   "metadata": {},
   "outputs": [],
   "source": [
    "DATA_SOURCE = \"../data/5_yr_data/\""
   ]
  },
  {
   "cell_type": "code",
   "execution_count": 6,
   "metadata": {},
   "outputs": [],
   "source": [
    "mp_5yrs = pd.read_csv(DATA_SOURCE+\"MP5_years.csv\")\n",
    "up_5yrs = pd.read_csv(DATA_SOURCE+\"UP5_years.csv\")\n",
    "pb_5yrs = pd.read_csv(DATA_SOURCE+\"PB5_years.csv\")\n",
    "rj_5yrs = pd.read_csv(DATA_SOURCE+\"RJ5_years.csv\")\n",
    "wb_5yrs = pd.read_csv(DATA_SOURCE+\"WB5_years.csv\")"
   ]
  },
  {
   "cell_type": "code",
   "execution_count": 7,
   "metadata": {},
   "outputs": [
    {
     "data": {
      "text/html": [
       "<div>\n",
       "<style scoped>\n",
       "    .dataframe tbody tr th:only-of-type {\n",
       "        vertical-align: middle;\n",
       "    }\n",
       "\n",
       "    .dataframe tbody tr th {\n",
       "        vertical-align: top;\n",
       "    }\n",
       "\n",
       "    .dataframe thead th {\n",
       "        text-align: right;\n",
       "    }\n",
       "</style>\n",
       "<table border=\"1\" class=\"dataframe\">\n",
       "  <thead>\n",
       "    <tr style=\"text-align: right;\">\n",
       "      <th></th>\n",
       "      <th>Unnamed: 0</th>\n",
       "      <th>district_name</th>\n",
       "      <th>market_name</th>\n",
       "      <th>commodity</th>\n",
       "      <th>variety</th>\n",
       "      <th>grade</th>\n",
       "      <th>min_rs_quintal</th>\n",
       "      <th>max_rs_quintal</th>\n",
       "      <th>modal_rs_quintal</th>\n",
       "      <th>date</th>\n",
       "      <th>year</th>\n",
       "      <th>month</th>\n",
       "      <th>day_of_month</th>\n",
       "    </tr>\n",
       "  </thead>\n",
       "  <tbody>\n",
       "    <tr>\n",
       "      <th>0</th>\n",
       "      <td>76176</td>\n",
       "      <td>Alirajpur</td>\n",
       "      <td>Alirajpur(F&amp;V)</td>\n",
       "      <td>Potato</td>\n",
       "      <td>Potato</td>\n",
       "      <td>FAQ</td>\n",
       "      <td>1200.0</td>\n",
       "      <td>1400.0</td>\n",
       "      <td>1300.0</td>\n",
       "      <td>14 Feb 2020</td>\n",
       "      <td>2020</td>\n",
       "      <td>Feb</td>\n",
       "      <td>14</td>\n",
       "    </tr>\n",
       "    <tr>\n",
       "      <th>1</th>\n",
       "      <td>76177</td>\n",
       "      <td>Alirajpur</td>\n",
       "      <td>Alirajpur(F&amp;V)</td>\n",
       "      <td>Potato</td>\n",
       "      <td>Potato</td>\n",
       "      <td>FAQ</td>\n",
       "      <td>1400.0</td>\n",
       "      <td>1400.0</td>\n",
       "      <td>1400.0</td>\n",
       "      <td>26 Oct 2019</td>\n",
       "      <td>2019</td>\n",
       "      <td>Oct</td>\n",
       "      <td>26</td>\n",
       "    </tr>\n",
       "    <tr>\n",
       "      <th>2</th>\n",
       "      <td>76178</td>\n",
       "      <td>Alirajpur</td>\n",
       "      <td>Alirajpur(F&amp;V)</td>\n",
       "      <td>Potato</td>\n",
       "      <td>Potato</td>\n",
       "      <td>FAQ</td>\n",
       "      <td>1900.0</td>\n",
       "      <td>2100.0</td>\n",
       "      <td>2000.0</td>\n",
       "      <td>18 Oct 2019</td>\n",
       "      <td>2019</td>\n",
       "      <td>Oct</td>\n",
       "      <td>18</td>\n",
       "    </tr>\n",
       "    <tr>\n",
       "      <th>3</th>\n",
       "      <td>76179</td>\n",
       "      <td>Anupur</td>\n",
       "      <td>Anuppur</td>\n",
       "      <td>Potato</td>\n",
       "      <td>Other</td>\n",
       "      <td>FAQ</td>\n",
       "      <td>1000.0</td>\n",
       "      <td>1000.0</td>\n",
       "      <td>1000.0</td>\n",
       "      <td>24 Nov 2019</td>\n",
       "      <td>2019</td>\n",
       "      <td>Nov</td>\n",
       "      <td>24</td>\n",
       "    </tr>\n",
       "    <tr>\n",
       "      <th>4</th>\n",
       "      <td>76180</td>\n",
       "      <td>Anupur</td>\n",
       "      <td>Anuppur</td>\n",
       "      <td>Potato</td>\n",
       "      <td>Other</td>\n",
       "      <td>FAQ</td>\n",
       "      <td>1000.0</td>\n",
       "      <td>1000.0</td>\n",
       "      <td>1000.0</td>\n",
       "      <td>30 Jan 2020</td>\n",
       "      <td>2020</td>\n",
       "      <td>Jan</td>\n",
       "      <td>30</td>\n",
       "    </tr>\n",
       "    <tr>\n",
       "      <th>...</th>\n",
       "      <td>...</td>\n",
       "      <td>...</td>\n",
       "      <td>...</td>\n",
       "      <td>...</td>\n",
       "      <td>...</td>\n",
       "      <td>...</td>\n",
       "      <td>...</td>\n",
       "      <td>...</td>\n",
       "      <td>...</td>\n",
       "      <td>...</td>\n",
       "      <td>...</td>\n",
       "      <td>...</td>\n",
       "      <td>...</td>\n",
       "    </tr>\n",
       "    <tr>\n",
       "      <th>440739</th>\n",
       "      <td>712011</td>\n",
       "      <td>Bhopal</td>\n",
       "      <td>Berasia</td>\n",
       "      <td>Rice</td>\n",
       "      <td>1009 Kar</td>\n",
       "      <td>FAQ</td>\n",
       "      <td>2600.0</td>\n",
       "      <td>2605.0</td>\n",
       "      <td>2600.0</td>\n",
       "      <td>02 Nov 2023</td>\n",
       "      <td>2023</td>\n",
       "      <td>Nov</td>\n",
       "      <td>2</td>\n",
       "    </tr>\n",
       "    <tr>\n",
       "      <th>440740</th>\n",
       "      <td>712012</td>\n",
       "      <td>Bhopal</td>\n",
       "      <td>Berasia</td>\n",
       "      <td>Rice</td>\n",
       "      <td>1009 Kar</td>\n",
       "      <td>FAQ</td>\n",
       "      <td>2700.0</td>\n",
       "      <td>2700.0</td>\n",
       "      <td>2700.0</td>\n",
       "      <td>04 Nov 2023</td>\n",
       "      <td>2023</td>\n",
       "      <td>Nov</td>\n",
       "      <td>4</td>\n",
       "    </tr>\n",
       "    <tr>\n",
       "      <th>440741</th>\n",
       "      <td>712013</td>\n",
       "      <td>Bhopal</td>\n",
       "      <td>Berasia</td>\n",
       "      <td>Rice</td>\n",
       "      <td>1009 Kar</td>\n",
       "      <td>FAQ</td>\n",
       "      <td>2730.0</td>\n",
       "      <td>2730.0</td>\n",
       "      <td>2730.0</td>\n",
       "      <td>31 Oct 2023</td>\n",
       "      <td>2023</td>\n",
       "      <td>Oct</td>\n",
       "      <td>31</td>\n",
       "    </tr>\n",
       "    <tr>\n",
       "      <th>440742</th>\n",
       "      <td>712014</td>\n",
       "      <td>Bhopal</td>\n",
       "      <td>Berasia</td>\n",
       "      <td>Rice</td>\n",
       "      <td>1009 Kar</td>\n",
       "      <td>FAQ</td>\n",
       "      <td>1200.0</td>\n",
       "      <td>4470.0</td>\n",
       "      <td>4260.0</td>\n",
       "      <td>02 Dec 2023</td>\n",
       "      <td>2023</td>\n",
       "      <td>Dec</td>\n",
       "      <td>2</td>\n",
       "    </tr>\n",
       "    <tr>\n",
       "      <th>440743</th>\n",
       "      <td>712015</td>\n",
       "      <td>Bhopal</td>\n",
       "      <td>Berasia</td>\n",
       "      <td>Rice</td>\n",
       "      <td>1009 Kar</td>\n",
       "      <td>FAQ</td>\n",
       "      <td>2000.0</td>\n",
       "      <td>4150.0</td>\n",
       "      <td>3515.0</td>\n",
       "      <td>06 Nov 2023</td>\n",
       "      <td>2023</td>\n",
       "      <td>Nov</td>\n",
       "      <td>6</td>\n",
       "    </tr>\n",
       "  </tbody>\n",
       "</table>\n",
       "<p>440744 rows × 13 columns</p>\n",
       "</div>"
      ],
      "text/plain": [
       "        Unnamed: 0 district_name     market_name commodity   variety grade  \\\n",
       "0            76176     Alirajpur  Alirajpur(F&V)    Potato    Potato   FAQ   \n",
       "1            76177     Alirajpur  Alirajpur(F&V)    Potato    Potato   FAQ   \n",
       "2            76178     Alirajpur  Alirajpur(F&V)    Potato    Potato   FAQ   \n",
       "3            76179        Anupur         Anuppur    Potato     Other   FAQ   \n",
       "4            76180        Anupur         Anuppur    Potato     Other   FAQ   \n",
       "...            ...           ...             ...       ...       ...   ...   \n",
       "440739      712011        Bhopal         Berasia      Rice  1009 Kar   FAQ   \n",
       "440740      712012        Bhopal         Berasia      Rice  1009 Kar   FAQ   \n",
       "440741      712013        Bhopal         Berasia      Rice  1009 Kar   FAQ   \n",
       "440742      712014        Bhopal         Berasia      Rice  1009 Kar   FAQ   \n",
       "440743      712015        Bhopal         Berasia      Rice  1009 Kar   FAQ   \n",
       "\n",
       "        min_rs_quintal  max_rs_quintal  modal_rs_quintal         date  year  \\\n",
       "0               1200.0          1400.0            1300.0  14 Feb 2020  2020   \n",
       "1               1400.0          1400.0            1400.0  26 Oct 2019  2019   \n",
       "2               1900.0          2100.0            2000.0  18 Oct 2019  2019   \n",
       "3               1000.0          1000.0            1000.0  24 Nov 2019  2019   \n",
       "4               1000.0          1000.0            1000.0  30 Jan 2020  2020   \n",
       "...                ...             ...               ...          ...   ...   \n",
       "440739          2600.0          2605.0            2600.0  02 Nov 2023  2023   \n",
       "440740          2700.0          2700.0            2700.0  04 Nov 2023  2023   \n",
       "440741          2730.0          2730.0            2730.0  31 Oct 2023  2023   \n",
       "440742          1200.0          4470.0            4260.0  02 Dec 2023  2023   \n",
       "440743          2000.0          4150.0            3515.0  06 Nov 2023  2023   \n",
       "\n",
       "       month  day_of_month  \n",
       "0        Feb            14  \n",
       "1        Oct            26  \n",
       "2        Oct            18  \n",
       "3        Nov            24  \n",
       "4        Jan            30  \n",
       "...      ...           ...  \n",
       "440739   Nov             2  \n",
       "440740   Nov             4  \n",
       "440741   Oct            31  \n",
       "440742   Dec             2  \n",
       "440743   Nov             6  \n",
       "\n",
       "[440744 rows x 13 columns]"
      ]
     },
     "execution_count": 7,
     "metadata": {},
     "output_type": "execute_result"
    }
   ],
   "source": [
    "mp_5yrs"
   ]
  },
  {
   "cell_type": "code",
   "execution_count": 8,
   "metadata": {},
   "outputs": [
    {
     "data": {
      "text/html": [
       "<div>\n",
       "<style scoped>\n",
       "    .dataframe tbody tr th:only-of-type {\n",
       "        vertical-align: middle;\n",
       "    }\n",
       "\n",
       "    .dataframe tbody tr th {\n",
       "        vertical-align: top;\n",
       "    }\n",
       "\n",
       "    .dataframe thead th {\n",
       "        text-align: right;\n",
       "    }\n",
       "</style>\n",
       "<table border=\"1\" class=\"dataframe\">\n",
       "  <thead>\n",
       "    <tr style=\"text-align: right;\">\n",
       "      <th></th>\n",
       "      <th>Unnamed: 0</th>\n",
       "      <th>district_name</th>\n",
       "      <th>market_name</th>\n",
       "      <th>commodity</th>\n",
       "      <th>variety</th>\n",
       "      <th>grade</th>\n",
       "      <th>min_rs_quintal</th>\n",
       "      <th>max_rs_quintal</th>\n",
       "      <th>modal_rs_quintal</th>\n",
       "      <th>date</th>\n",
       "      <th>year</th>\n",
       "      <th>month</th>\n",
       "      <th>day_of_month</th>\n",
       "    </tr>\n",
       "  </thead>\n",
       "  <tbody>\n",
       "    <tr>\n",
       "      <th>0</th>\n",
       "      <td>446185</td>\n",
       "      <td>Auraiya</td>\n",
       "      <td>Achalda</td>\n",
       "      <td>Potato</td>\n",
       "      <td>Badshah</td>\n",
       "      <td>FAQ</td>\n",
       "      <td>600.0</td>\n",
       "      <td>700.0</td>\n",
       "      <td>670.0</td>\n",
       "      <td>04 Oct 2019</td>\n",
       "      <td>2019</td>\n",
       "      <td>Oct</td>\n",
       "      <td>4</td>\n",
       "    </tr>\n",
       "    <tr>\n",
       "      <th>1</th>\n",
       "      <td>446186</td>\n",
       "      <td>Auraiya</td>\n",
       "      <td>Achalda</td>\n",
       "      <td>Potato</td>\n",
       "      <td>Badshah</td>\n",
       "      <td>FAQ</td>\n",
       "      <td>780.0</td>\n",
       "      <td>820.0</td>\n",
       "      <td>800.0</td>\n",
       "      <td>05 Dec 2019</td>\n",
       "      <td>2019</td>\n",
       "      <td>Dec</td>\n",
       "      <td>5</td>\n",
       "    </tr>\n",
       "    <tr>\n",
       "      <th>2</th>\n",
       "      <td>446187</td>\n",
       "      <td>Auraiya</td>\n",
       "      <td>Achalda</td>\n",
       "      <td>Potato</td>\n",
       "      <td>Badshah</td>\n",
       "      <td>FAQ</td>\n",
       "      <td>850.0</td>\n",
       "      <td>920.0</td>\n",
       "      <td>900.0</td>\n",
       "      <td>17 Dec 2019</td>\n",
       "      <td>2019</td>\n",
       "      <td>Dec</td>\n",
       "      <td>17</td>\n",
       "    </tr>\n",
       "    <tr>\n",
       "      <th>3</th>\n",
       "      <td>446188</td>\n",
       "      <td>Auraiya</td>\n",
       "      <td>Achalda</td>\n",
       "      <td>Potato</td>\n",
       "      <td>Badshah</td>\n",
       "      <td>FAQ</td>\n",
       "      <td>890.0</td>\n",
       "      <td>950.0</td>\n",
       "      <td>900.0</td>\n",
       "      <td>18 Oct 2019</td>\n",
       "      <td>2019</td>\n",
       "      <td>Oct</td>\n",
       "      <td>18</td>\n",
       "    </tr>\n",
       "    <tr>\n",
       "      <th>4</th>\n",
       "      <td>446189</td>\n",
       "      <td>Auraiya</td>\n",
       "      <td>Achalda</td>\n",
       "      <td>Potato</td>\n",
       "      <td>Badshah</td>\n",
       "      <td>FAQ</td>\n",
       "      <td>1000.0</td>\n",
       "      <td>1090.0</td>\n",
       "      <td>1060.0</td>\n",
       "      <td>29 Jan 2020</td>\n",
       "      <td>2020</td>\n",
       "      <td>Jan</td>\n",
       "      <td>29</td>\n",
       "    </tr>\n",
       "    <tr>\n",
       "      <th>...</th>\n",
       "      <td>...</td>\n",
       "      <td>...</td>\n",
       "      <td>...</td>\n",
       "      <td>...</td>\n",
       "      <td>...</td>\n",
       "      <td>...</td>\n",
       "      <td>...</td>\n",
       "      <td>...</td>\n",
       "      <td>...</td>\n",
       "      <td>...</td>\n",
       "      <td>...</td>\n",
       "      <td>...</td>\n",
       "      <td>...</td>\n",
       "    </tr>\n",
       "    <tr>\n",
       "      <th>1226689</th>\n",
       "      <td>2383601</td>\n",
       "      <td>Badaun</td>\n",
       "      <td>Wazirganj</td>\n",
       "      <td>Rice</td>\n",
       "      <td>III</td>\n",
       "      <td>FAQ</td>\n",
       "      <td>2380.0</td>\n",
       "      <td>2460.0</td>\n",
       "      <td>2420.0</td>\n",
       "      <td>28 Apr 2021</td>\n",
       "      <td>2021</td>\n",
       "      <td>Apr</td>\n",
       "      <td>28</td>\n",
       "    </tr>\n",
       "    <tr>\n",
       "      <th>1226690</th>\n",
       "      <td>2383602</td>\n",
       "      <td>Badaun</td>\n",
       "      <td>Wazirganj</td>\n",
       "      <td>Rice</td>\n",
       "      <td>III</td>\n",
       "      <td>FAQ</td>\n",
       "      <td>2390.0</td>\n",
       "      <td>2485.0</td>\n",
       "      <td>2435.0</td>\n",
       "      <td>17 May 2021</td>\n",
       "      <td>2021</td>\n",
       "      <td>May</td>\n",
       "      <td>17</td>\n",
       "    </tr>\n",
       "    <tr>\n",
       "      <th>1226691</th>\n",
       "      <td>2383603</td>\n",
       "      <td>Badaun</td>\n",
       "      <td>Wazirganj</td>\n",
       "      <td>Rice</td>\n",
       "      <td>III</td>\n",
       "      <td>FAQ</td>\n",
       "      <td>2400.0</td>\n",
       "      <td>2480.0</td>\n",
       "      <td>2440.0</td>\n",
       "      <td>27 May 2021</td>\n",
       "      <td>2021</td>\n",
       "      <td>May</td>\n",
       "      <td>27</td>\n",
       "    </tr>\n",
       "    <tr>\n",
       "      <th>1226692</th>\n",
       "      <td>2383604</td>\n",
       "      <td>Badaun</td>\n",
       "      <td>Wazirganj</td>\n",
       "      <td>Rice</td>\n",
       "      <td>III</td>\n",
       "      <td>FAQ</td>\n",
       "      <td>2440.0</td>\n",
       "      <td>2540.0</td>\n",
       "      <td>2490.0</td>\n",
       "      <td>14 Jun 2021</td>\n",
       "      <td>2021</td>\n",
       "      <td>Jun</td>\n",
       "      <td>14</td>\n",
       "    </tr>\n",
       "    <tr>\n",
       "      <th>1226693</th>\n",
       "      <td>2383605</td>\n",
       "      <td>Badaun</td>\n",
       "      <td>Wazirganj</td>\n",
       "      <td>Rice</td>\n",
       "      <td>III</td>\n",
       "      <td>FAQ</td>\n",
       "      <td>2440.0</td>\n",
       "      <td>2540.0</td>\n",
       "      <td>2490.0</td>\n",
       "      <td>23 Aug 2021</td>\n",
       "      <td>2021</td>\n",
       "      <td>Aug</td>\n",
       "      <td>23</td>\n",
       "    </tr>\n",
       "  </tbody>\n",
       "</table>\n",
       "<p>1226694 rows × 13 columns</p>\n",
       "</div>"
      ],
      "text/plain": [
       "         Unnamed: 0 district_name market_name commodity  variety grade  \\\n",
       "0            446185       Auraiya     Achalda    Potato  Badshah   FAQ   \n",
       "1            446186       Auraiya     Achalda    Potato  Badshah   FAQ   \n",
       "2            446187       Auraiya     Achalda    Potato  Badshah   FAQ   \n",
       "3            446188       Auraiya     Achalda    Potato  Badshah   FAQ   \n",
       "4            446189       Auraiya     Achalda    Potato  Badshah   FAQ   \n",
       "...             ...           ...         ...       ...      ...   ...   \n",
       "1226689     2383601        Badaun   Wazirganj      Rice      III   FAQ   \n",
       "1226690     2383602        Badaun   Wazirganj      Rice      III   FAQ   \n",
       "1226691     2383603        Badaun   Wazirganj      Rice      III   FAQ   \n",
       "1226692     2383604        Badaun   Wazirganj      Rice      III   FAQ   \n",
       "1226693     2383605        Badaun   Wazirganj      Rice      III   FAQ   \n",
       "\n",
       "         min_rs_quintal  max_rs_quintal  modal_rs_quintal         date  year  \\\n",
       "0                 600.0           700.0             670.0  04 Oct 2019  2019   \n",
       "1                 780.0           820.0             800.0  05 Dec 2019  2019   \n",
       "2                 850.0           920.0             900.0  17 Dec 2019  2019   \n",
       "3                 890.0           950.0             900.0  18 Oct 2019  2019   \n",
       "4                1000.0          1090.0            1060.0  29 Jan 2020  2020   \n",
       "...                 ...             ...               ...          ...   ...   \n",
       "1226689          2380.0          2460.0            2420.0  28 Apr 2021  2021   \n",
       "1226690          2390.0          2485.0            2435.0  17 May 2021  2021   \n",
       "1226691          2400.0          2480.0            2440.0  27 May 2021  2021   \n",
       "1226692          2440.0          2540.0            2490.0  14 Jun 2021  2021   \n",
       "1226693          2440.0          2540.0            2490.0  23 Aug 2021  2021   \n",
       "\n",
       "        month  day_of_month  \n",
       "0         Oct             4  \n",
       "1         Dec             5  \n",
       "2         Dec            17  \n",
       "3         Oct            18  \n",
       "4         Jan            29  \n",
       "...       ...           ...  \n",
       "1226689   Apr            28  \n",
       "1226690   May            17  \n",
       "1226691   May            27  \n",
       "1226692   Jun            14  \n",
       "1226693   Aug            23  \n",
       "\n",
       "[1226694 rows x 13 columns]"
      ]
     },
     "execution_count": 8,
     "metadata": {},
     "output_type": "execute_result"
    }
   ],
   "source": [
    "up_5yrs"
   ]
  },
  {
   "cell_type": "code",
   "execution_count": 37,
   "metadata": {},
   "outputs": [
    {
     "data": {
      "text/plain": [
       "26500.0"
      ]
     },
     "execution_count": 37,
     "metadata": {},
     "output_type": "execute_result"
    }
   ],
   "source": [
    "up_5yrs.max_rs_quintal.max()"
   ]
  },
  {
   "cell_type": "code",
   "execution_count": 9,
   "metadata": {},
   "outputs": [
    {
     "name": "stdout",
     "output_type": "stream",
     "text": [
      "<class 'pandas.core.frame.DataFrame'>\n",
      "RangeIndex: 440744 entries, 0 to 440743\n",
      "Data columns (total 13 columns):\n",
      " #   Column            Non-Null Count   Dtype  \n",
      "---  ------            --------------   -----  \n",
      " 0   Unnamed: 0        440744 non-null  int64  \n",
      " 1   district_name     440744 non-null  object \n",
      " 2   market_name       440744 non-null  object \n",
      " 3   commodity         440744 non-null  object \n",
      " 4   variety           440744 non-null  object \n",
      " 5   grade             440744 non-null  object \n",
      " 6   min_rs_quintal    440744 non-null  float64\n",
      " 7   max_rs_quintal    440744 non-null  float64\n",
      " 8   modal_rs_quintal  440744 non-null  float64\n",
      " 9   date              440744 non-null  object \n",
      " 10  year              440744 non-null  int64  \n",
      " 11  month             440744 non-null  object \n",
      " 12  day_of_month      440744 non-null  int64  \n",
      "dtypes: float64(3), int64(3), object(7)\n",
      "memory usage: 43.7+ MB\n"
     ]
    }
   ],
   "source": [
    "mp_5yrs.info()"
   ]
  },
  {
   "cell_type": "code",
   "execution_count": 10,
   "metadata": {},
   "outputs": [
    {
     "name": "stdout",
     "output_type": "stream",
     "text": [
      "<class 'pandas.core.frame.DataFrame'>\n",
      "RangeIndex: 1226694 entries, 0 to 1226693\n",
      "Data columns (total 13 columns):\n",
      " #   Column            Non-Null Count    Dtype  \n",
      "---  ------            --------------    -----  \n",
      " 0   Unnamed: 0        1226694 non-null  int64  \n",
      " 1   district_name     1226694 non-null  object \n",
      " 2   market_name       1226694 non-null  object \n",
      " 3   commodity         1226694 non-null  object \n",
      " 4   variety           1226694 non-null  object \n",
      " 5   grade             1226694 non-null  object \n",
      " 6   min_rs_quintal    1226694 non-null  float64\n",
      " 7   max_rs_quintal    1226694 non-null  float64\n",
      " 8   modal_rs_quintal  1226694 non-null  float64\n",
      " 9   date              1226694 non-null  object \n",
      " 10  year              1226694 non-null  int64  \n",
      " 11  month             1226694 non-null  object \n",
      " 12  day_of_month      1226694 non-null  int64  \n",
      "dtypes: float64(3), int64(3), object(7)\n",
      "memory usage: 121.7+ MB\n"
     ]
    }
   ],
   "source": [
    "up_5yrs.info()"
   ]
  },
  {
   "cell_type": "code",
   "execution_count": 11,
   "metadata": {},
   "outputs": [
    {
     "data": {
      "text/html": [
       "<div>\n",
       "<style scoped>\n",
       "    .dataframe tbody tr th:only-of-type {\n",
       "        vertical-align: middle;\n",
       "    }\n",
       "\n",
       "    .dataframe tbody tr th {\n",
       "        vertical-align: top;\n",
       "    }\n",
       "\n",
       "    .dataframe thead th {\n",
       "        text-align: right;\n",
       "    }\n",
       "</style>\n",
       "<table border=\"1\" class=\"dataframe\">\n",
       "  <thead>\n",
       "    <tr style=\"text-align: right;\">\n",
       "      <th></th>\n",
       "      <th>Unnamed: 0</th>\n",
       "      <th>min_rs_quintal</th>\n",
       "      <th>max_rs_quintal</th>\n",
       "      <th>modal_rs_quintal</th>\n",
       "      <th>year</th>\n",
       "      <th>day_of_month</th>\n",
       "    </tr>\n",
       "  </thead>\n",
       "  <tbody>\n",
       "    <tr>\n",
       "      <th>count</th>\n",
       "      <td>440744.000000</td>\n",
       "      <td>440744.000000</td>\n",
       "      <td>440744.000000</td>\n",
       "      <td>440744.000000</td>\n",
       "      <td>440744.000000</td>\n",
       "      <td>440744.000000</td>\n",
       "    </tr>\n",
       "    <tr>\n",
       "      <th>mean</th>\n",
       "      <td>399755.692872</td>\n",
       "      <td>1652.771064</td>\n",
       "      <td>1971.579096</td>\n",
       "      <td>1811.116963</td>\n",
       "      <td>2021.008753</td>\n",
       "      <td>15.901365</td>\n",
       "    </tr>\n",
       "    <tr>\n",
       "      <th>std</th>\n",
       "      <td>177869.719183</td>\n",
       "      <td>635.350577</td>\n",
       "      <td>680.123736</td>\n",
       "      <td>601.154073</td>\n",
       "      <td>1.966603</td>\n",
       "      <td>8.717877</td>\n",
       "    </tr>\n",
       "    <tr>\n",
       "      <th>min</th>\n",
       "      <td>76176.000000</td>\n",
       "      <td>0.000000</td>\n",
       "      <td>0.000000</td>\n",
       "      <td>1.000000</td>\n",
       "      <td>2018.000000</td>\n",
       "      <td>1.000000</td>\n",
       "    </tr>\n",
       "    <tr>\n",
       "      <th>25%</th>\n",
       "      <td>254393.750000</td>\n",
       "      <td>1466.000000</td>\n",
       "      <td>1680.000000</td>\n",
       "      <td>1600.000000</td>\n",
       "      <td>2019.000000</td>\n",
       "      <td>8.000000</td>\n",
       "    </tr>\n",
       "    <tr>\n",
       "      <th>50%</th>\n",
       "      <td>417308.500000</td>\n",
       "      <td>1800.000000</td>\n",
       "      <td>1980.000000</td>\n",
       "      <td>1900.000000</td>\n",
       "      <td>2021.000000</td>\n",
       "      <td>16.000000</td>\n",
       "    </tr>\n",
       "    <tr>\n",
       "      <th>75%</th>\n",
       "      <td>527494.250000</td>\n",
       "      <td>2039.000000</td>\n",
       "      <td>2325.000000</td>\n",
       "      <td>2200.000000</td>\n",
       "      <td>2023.000000</td>\n",
       "      <td>23.000000</td>\n",
       "    </tr>\n",
       "    <tr>\n",
       "      <th>max</th>\n",
       "      <td>712015.000000</td>\n",
       "      <td>21180.000000</td>\n",
       "      <td>34200.000000</td>\n",
       "      <td>25390.000000</td>\n",
       "      <td>2024.000000</td>\n",
       "      <td>31.000000</td>\n",
       "    </tr>\n",
       "  </tbody>\n",
       "</table>\n",
       "</div>"
      ],
      "text/plain": [
       "          Unnamed: 0  min_rs_quintal  max_rs_quintal  modal_rs_quintal  \\\n",
       "count  440744.000000   440744.000000   440744.000000     440744.000000   \n",
       "mean   399755.692872     1652.771064     1971.579096       1811.116963   \n",
       "std    177869.719183      635.350577      680.123736        601.154073   \n",
       "min     76176.000000        0.000000        0.000000          1.000000   \n",
       "25%    254393.750000     1466.000000     1680.000000       1600.000000   \n",
       "50%    417308.500000     1800.000000     1980.000000       1900.000000   \n",
       "75%    527494.250000     2039.000000     2325.000000       2200.000000   \n",
       "max    712015.000000    21180.000000    34200.000000      25390.000000   \n",
       "\n",
       "                year   day_of_month  \n",
       "count  440744.000000  440744.000000  \n",
       "mean     2021.008753      15.901365  \n",
       "std         1.966603       8.717877  \n",
       "min      2018.000000       1.000000  \n",
       "25%      2019.000000       8.000000  \n",
       "50%      2021.000000      16.000000  \n",
       "75%      2023.000000      23.000000  \n",
       "max      2024.000000      31.000000  "
      ]
     },
     "execution_count": 11,
     "metadata": {},
     "output_type": "execute_result"
    }
   ],
   "source": [
    "mp_5yrs.describe()"
   ]
  },
  {
   "cell_type": "code",
   "execution_count": 12,
   "metadata": {},
   "outputs": [
    {
     "data": {
      "text/html": [
       "<div>\n",
       "<style scoped>\n",
       "    .dataframe tbody tr th:only-of-type {\n",
       "        vertical-align: middle;\n",
       "    }\n",
       "\n",
       "    .dataframe tbody tr th {\n",
       "        vertical-align: top;\n",
       "    }\n",
       "\n",
       "    .dataframe thead th {\n",
       "        text-align: right;\n",
       "    }\n",
       "</style>\n",
       "<table border=\"1\" class=\"dataframe\">\n",
       "  <thead>\n",
       "    <tr style=\"text-align: right;\">\n",
       "      <th></th>\n",
       "      <th>Unnamed: 0</th>\n",
       "      <th>min_rs_quintal</th>\n",
       "      <th>max_rs_quintal</th>\n",
       "      <th>modal_rs_quintal</th>\n",
       "      <th>year</th>\n",
       "      <th>day_of_month</th>\n",
       "    </tr>\n",
       "  </thead>\n",
       "  <tbody>\n",
       "    <tr>\n",
       "      <th>count</th>\n",
       "      <td>1.226694e+06</td>\n",
       "      <td>1.226694e+06</td>\n",
       "      <td>1.226694e+06</td>\n",
       "      <td>1.226694e+06</td>\n",
       "      <td>1.226694e+06</td>\n",
       "      <td>1.226694e+06</td>\n",
       "    </tr>\n",
       "    <tr>\n",
       "      <th>mean</th>\n",
       "      <td>1.409854e+06</td>\n",
       "      <td>1.704229e+03</td>\n",
       "      <td>1.821545e+03</td>\n",
       "      <td>1.772429e+03</td>\n",
       "      <td>2.020855e+03</td>\n",
       "      <td>1.572314e+01</td>\n",
       "    </tr>\n",
       "    <tr>\n",
       "      <th>std</th>\n",
       "      <td>6.214841e+05</td>\n",
       "      <td>7.698786e+02</td>\n",
       "      <td>7.849455e+02</td>\n",
       "      <td>7.662350e+02</td>\n",
       "      <td>1.934080e+00</td>\n",
       "      <td>8.784076e+00</td>\n",
       "    </tr>\n",
       "    <tr>\n",
       "      <th>min</th>\n",
       "      <td>4.461850e+05</td>\n",
       "      <td>0.000000e+00</td>\n",
       "      <td>0.000000e+00</td>\n",
       "      <td>1.100000e+01</td>\n",
       "      <td>2.018000e+03</td>\n",
       "      <td>1.000000e+00</td>\n",
       "    </tr>\n",
       "    <tr>\n",
       "      <th>25%</th>\n",
       "      <td>8.240552e+05</td>\n",
       "      <td>1.075000e+03</td>\n",
       "      <td>1.200000e+03</td>\n",
       "      <td>1.150000e+03</td>\n",
       "      <td>2.019000e+03</td>\n",
       "      <td>8.000000e+00</td>\n",
       "    </tr>\n",
       "    <tr>\n",
       "      <th>50%</th>\n",
       "      <td>1.228248e+06</td>\n",
       "      <td>1.725000e+03</td>\n",
       "      <td>1.830000e+03</td>\n",
       "      <td>1.785000e+03</td>\n",
       "      <td>2.021000e+03</td>\n",
       "      <td>1.600000e+01</td>\n",
       "    </tr>\n",
       "    <tr>\n",
       "      <th>75%</th>\n",
       "      <td>1.991744e+06</td>\n",
       "      <td>2.280000e+03</td>\n",
       "      <td>2.400000e+03</td>\n",
       "      <td>2.340000e+03</td>\n",
       "      <td>2.023000e+03</td>\n",
       "      <td>2.300000e+01</td>\n",
       "    </tr>\n",
       "    <tr>\n",
       "      <th>max</th>\n",
       "      <td>2.383605e+06</td>\n",
       "      <td>1.050000e+04</td>\n",
       "      <td>2.650000e+04</td>\n",
       "      <td>1.054000e+04</td>\n",
       "      <td>2.024000e+03</td>\n",
       "      <td>3.100000e+01</td>\n",
       "    </tr>\n",
       "  </tbody>\n",
       "</table>\n",
       "</div>"
      ],
      "text/plain": [
       "         Unnamed: 0  min_rs_quintal  max_rs_quintal  modal_rs_quintal  \\\n",
       "count  1.226694e+06    1.226694e+06    1.226694e+06      1.226694e+06   \n",
       "mean   1.409854e+06    1.704229e+03    1.821545e+03      1.772429e+03   \n",
       "std    6.214841e+05    7.698786e+02    7.849455e+02      7.662350e+02   \n",
       "min    4.461850e+05    0.000000e+00    0.000000e+00      1.100000e+01   \n",
       "25%    8.240552e+05    1.075000e+03    1.200000e+03      1.150000e+03   \n",
       "50%    1.228248e+06    1.725000e+03    1.830000e+03      1.785000e+03   \n",
       "75%    1.991744e+06    2.280000e+03    2.400000e+03      2.340000e+03   \n",
       "max    2.383605e+06    1.050000e+04    2.650000e+04      1.054000e+04   \n",
       "\n",
       "               year  day_of_month  \n",
       "count  1.226694e+06  1.226694e+06  \n",
       "mean   2.020855e+03  1.572314e+01  \n",
       "std    1.934080e+00  8.784076e+00  \n",
       "min    2.018000e+03  1.000000e+00  \n",
       "25%    2.019000e+03  8.000000e+00  \n",
       "50%    2.021000e+03  1.600000e+01  \n",
       "75%    2.023000e+03  2.300000e+01  \n",
       "max    2.024000e+03  3.100000e+01  "
      ]
     },
     "execution_count": 12,
     "metadata": {},
     "output_type": "execute_result"
    }
   ],
   "source": [
    "up_5yrs.describe()"
   ]
  },
  {
   "cell_type": "code",
   "execution_count": 13,
   "metadata": {},
   "outputs": [
    {
     "data": {
      "text/plain": [
       "district_name\n",
       "Dhar           24312\n",
       "Shajapur       23666\n",
       "Sagar          22212\n",
       "Dewas          18342\n",
       "Rajgarh        17151\n",
       "Sehore         16641\n",
       "Indore         15771\n",
       "Ujjain         15268\n",
       "Mandsaur       14882\n",
       "Khargone       14624\n",
       "Ratlam         13698\n",
       "Hoshangabad    12890\n",
       "Shivpuri       11679\n",
       "Harda          11391\n",
       "Jhabua         11336\n",
       "Guna           11125\n",
       "Vidisha        10927\n",
       "Chhatarpur      9943\n",
       "Raisen          9227\n",
       "Morena          9059\n",
       "Tikamgarh       8958\n",
       "Bhopal          8432\n",
       "Jabalpur        8175\n",
       "Gwalior         7856\n",
       "Khandwa         7789\n",
       "Satna           7455\n",
       "Ashoknagar      7199\n",
       "Chhindwara      7046\n",
       "Bhind           6647\n",
       "Rewa            6015\n",
       "Panna           5703\n",
       "Narsinghpur     5479\n",
       "Damoh           5362\n",
       "Sheopur         5037\n",
       "Neemuch         4819\n",
       "Datia           4659\n",
       "Badwani         4540\n",
       "Alirajpur       4101\n",
       "Seoni           3940\n",
       "Dindori         3649\n",
       "Mandla          3588\n",
       "Shehdol         3145\n",
       "Betul           3008\n",
       "Burhanpur       2718\n",
       "Katni           2715\n",
       "Anupur          2270\n",
       "Umariya         2173\n",
       "Sidhi           1610\n",
       "Balaghat        1353\n",
       "Singroli        1159\n",
       "Name: count, dtype: int64"
      ]
     },
     "execution_count": 13,
     "metadata": {},
     "output_type": "execute_result"
    }
   ],
   "source": [
    "mp_5yrs.district_name.value_counts()"
   ]
  },
  {
   "cell_type": "code",
   "execution_count": 14,
   "metadata": {},
   "outputs": [
    {
     "data": {
      "text/plain": [
       "district_name\n",
       "Bulandshahar                45548\n",
       "Agra                        37614\n",
       "Badaun                      33350\n",
       "Jhansi                      30504\n",
       "Hamirpur                    30371\n",
       "                            ...  \n",
       "Sant Kabir Nagar             4774\n",
       "Bhadohi(Sant Ravi Nagar)     4123\n",
       "Kushinagar                   3881\n",
       "Kaushambi                    2944\n",
       "Shravasti                    1688\n",
       "Name: count, Length: 73, dtype: int64"
      ]
     },
     "execution_count": 14,
     "metadata": {},
     "output_type": "execute_result"
    }
   ],
   "source": [
    "up_5yrs.district_name.value_counts()"
   ]
  },
  {
   "cell_type": "code",
   "execution_count": 15,
   "metadata": {},
   "outputs": [
    {
     "data": {
      "text/plain": [
       "market_name\n",
       "Kalapipal        6399\n",
       "Sanwer           5389\n",
       "Petlawad         5125\n",
       "Ashta            4774\n",
       "Dhamnod          4540\n",
       "                 ... \n",
       "Machalpur         122\n",
       "Piprai            118\n",
       "Pandhana(F&V)      65\n",
       "Katangi            60\n",
       "Khanyadhana        29\n",
       "Name: count, Length: 287, dtype: int64"
      ]
     },
     "execution_count": 15,
     "metadata": {},
     "output_type": "execute_result"
    }
   ],
   "source": [
    "mp_5yrs.market_name.value_counts()"
   ]
  },
  {
   "cell_type": "code",
   "execution_count": 16,
   "metadata": {},
   "outputs": [
    {
     "data": {
      "text/plain": [
       "market_name\n",
       "Faizabad          9614\n",
       "Gazipur           9279\n",
       "Muzzafarnagar     8565\n",
       "Unnao             8512\n",
       "Lakhimpur         8492\n",
       "                  ... \n",
       "Manjhanpur         276\n",
       "Tanda(Rampur)      243\n",
       "Bhinga             240\n",
       "Jhansi (Grain)     109\n",
       "Lediyari            22\n",
       "Name: count, Length: 241, dtype: int64"
      ]
     },
     "execution_count": 16,
     "metadata": {},
     "output_type": "execute_result"
    }
   ],
   "source": [
    "up_5yrs.market_name.value_counts()"
   ]
  },
  {
   "cell_type": "code",
   "execution_count": 17,
   "metadata": {},
   "outputs": [
    {
     "data": {
      "text/plain": [
       "commodity\n",
       "Wheat     326322\n",
       "Onion      62190\n",
       "Potato     52196\n",
       "Rice          36\n",
       "Name: count, dtype: int64"
      ]
     },
     "execution_count": 17,
     "metadata": {},
     "output_type": "execute_result"
    }
   ],
   "source": [
    "mp_5yrs.commodity.value_counts()"
   ]
  },
  {
   "cell_type": "code",
   "execution_count": 18,
   "metadata": {},
   "outputs": [
    {
     "data": {
      "text/plain": [
       "commodity\n",
       "Potato    373434\n",
       "Onion     334849\n",
       "Wheat     294167\n",
       "Rice      224244\n",
       "Name: count, dtype: int64"
      ]
     },
     "execution_count": 18,
     "metadata": {},
     "output_type": "execute_result"
    }
   ],
   "source": [
    "up_5yrs.commodity.value_counts()"
   ]
  },
  {
   "cell_type": "code",
   "execution_count": 19,
   "metadata": {},
   "outputs": [
    {
     "data": {
      "text/plain": [
       "variety\n",
       "Other                   171527\n",
       "Mill Quality             48283\n",
       "Lokwan                   47065\n",
       "Local                    32547\n",
       "147 Average              22154\n",
       "Onion                    19210\n",
       "Potato                   13959\n",
       "Deshi                     9372\n",
       "Lok-1                     8142\n",
       "Medium                    8085\n",
       "MP Sharbati               6914\n",
       "Desi                      6829\n",
       "Lok -1 (Nilami Rate)      6464\n",
       "Sharbati                  6028\n",
       "MP(Desi)                  5182\n",
       "1st Sort                  5037\n",
       "Dara Mill Quality         4811\n",
       "(Red Nanital)             3526\n",
       "Red                       3435\n",
       "Wheat                     2549\n",
       "Lokwan MP No. 1           2245\n",
       "MP Lokwan                 1323\n",
       "Medium Fine                936\n",
       "WH-542                     844\n",
       "Jyoti                      603\n",
       "PISSI                      597\n",
       "Hybrid                     461\n",
       "Nasik                      385\n",
       "White                      360\n",
       "1482                       348\n",
       "Dara                       249\n",
       "Wheat-Organic              160\n",
       "Wheat Mix                  151\n",
       "Small                      134\n",
       "147 Best                   134\n",
       "Onion-Organic              133\n",
       "Chips                      115\n",
       "Big                        115\n",
       "Malwa Shakti                77\n",
       "Bellary                     60\n",
       "Lokwan MP No. 2             41\n",
       "MP Quality                  31\n",
       "Sujata                      31\n",
       "Govt. Quality               20\n",
       "Mohan Mondal                17\n",
       "1009 Kar                    14\n",
       "Dry F.A.Q.                  12\n",
       "Puna                         7\n",
       "Sona                         4\n",
       "Chandausi                    3\n",
       "2189 No. 1                   3\n",
       "Chandermukhi                 3\n",
       "Pole                         2\n",
       "Small - I                    2\n",
       "Coarse                       1\n",
       "Kufri Khasi_garo             1\n",
       "343                          1\n",
       "Bombay (U.P.)                1\n",
       "Parmal                       1\n",
       "Name: count, dtype: int64"
      ]
     },
     "execution_count": 19,
     "metadata": {},
     "output_type": "execute_result"
    }
   ],
   "source": [
    "mp_5yrs.variety.value_counts()"
   ]
  },
  {
   "cell_type": "code",
   "execution_count": 20,
   "metadata": {},
   "outputs": [
    {
     "data": {
      "text/plain": [
       "grade\n",
       "FAQ    440744\n",
       "Name: count, dtype: int64"
      ]
     },
     "execution_count": 20,
     "metadata": {},
     "output_type": "execute_result"
    }
   ],
   "source": [
    "mp_5yrs.grade.value_counts()"
   ]
  },
  {
   "cell_type": "code",
   "execution_count": 21,
   "metadata": {},
   "outputs": [
    {
     "data": {
      "text/plain": [
       "grade\n",
       "FAQ       1226683\n",
       "Medium          7\n",
       "Large           4\n",
       "Name: count, dtype: int64"
      ]
     },
     "execution_count": 21,
     "metadata": {},
     "output_type": "execute_result"
    }
   ],
   "source": [
    "up_5yrs.grade.value_counts()"
   ]
  },
  {
   "cell_type": "markdown",
   "metadata": {},
   "source": [
    "Lets first extract the date month and year column from `date`"
   ]
  },
  {
   "cell_type": "code",
   "execution_count": 22,
   "metadata": {},
   "outputs": [
    {
     "data": {
      "text/plain": [
       "0         2020\n",
       "1         2019\n",
       "2         2019\n",
       "3         2019\n",
       "4         2020\n",
       "          ... \n",
       "440739    2023\n",
       "440740    2023\n",
       "440741    2023\n",
       "440742    2023\n",
       "440743    2023\n",
       "Name: date, Length: 440744, dtype: object"
      ]
     },
     "execution_count": 22,
     "metadata": {},
     "output_type": "execute_result"
    }
   ],
   "source": [
    "mp_5yrs.date.str.split(\" \").str[2]"
   ]
  },
  {
   "cell_type": "code",
   "execution_count": 23,
   "metadata": {},
   "outputs": [],
   "source": [
    "# andhra['year'] = andhra.date.str.split(\" \").str[2]\n",
    "# andhra[\"month\"] = andhra.date.str.split(\" \").str[1]\n",
    "# andhra[\"day_of_month\"] = andhra.date.str.split(\" \").str[0]"
   ]
  },
  {
   "cell_type": "code",
   "execution_count": 24,
   "metadata": {},
   "outputs": [],
   "source": [
    "mp_yearly = mp_5yrs.groupby([\"year\",\"month\",\"commodity\"]).agg({\"modal_rs_quintal\": \"mean\",\"min_rs_quintal\":\"mean\",'max_rs_quintal':'mean'}).reset_index()"
   ]
  },
  {
   "cell_type": "code",
   "execution_count": 25,
   "metadata": {},
   "outputs": [],
   "source": [
    "up_yearly = (\n",
    "    up_5yrs.groupby([\"year\",\"month\" ,\"commodity\"])\n",
    "    .agg(\n",
    "        {\"modal_rs_quintal\": \"mean\", \"min_rs_quintal\": \"mean\", \"max_rs_quintal\": \"mean\"}\n",
    "    )\n",
    "    .reset_index()\n",
    ")"
   ]
  },
  {
   "cell_type": "code",
   "execution_count": 26,
   "metadata": {},
   "outputs": [
    {
     "data": {
      "text/html": [
       "<div>\n",
       "<style scoped>\n",
       "    .dataframe tbody tr th:only-of-type {\n",
       "        vertical-align: middle;\n",
       "    }\n",
       "\n",
       "    .dataframe tbody tr th {\n",
       "        vertical-align: top;\n",
       "    }\n",
       "\n",
       "    .dataframe thead th {\n",
       "        text-align: right;\n",
       "    }\n",
       "</style>\n",
       "<table border=\"1\" class=\"dataframe\">\n",
       "  <thead>\n",
       "    <tr style=\"text-align: right;\">\n",
       "      <th></th>\n",
       "      <th>year</th>\n",
       "      <th>month</th>\n",
       "      <th>commodity</th>\n",
       "      <th>modal_rs_quintal</th>\n",
       "      <th>min_rs_quintal</th>\n",
       "      <th>max_rs_quintal</th>\n",
       "    </tr>\n",
       "  </thead>\n",
       "  <tbody>\n",
       "    <tr>\n",
       "      <th>0</th>\n",
       "      <td>2018</td>\n",
       "      <td>Apr</td>\n",
       "      <td>Onion</td>\n",
       "      <td>670.614907</td>\n",
       "      <td>494.950311</td>\n",
       "      <td>819.144928</td>\n",
       "    </tr>\n",
       "    <tr>\n",
       "      <th>1</th>\n",
       "      <td>2018</td>\n",
       "      <td>Apr</td>\n",
       "      <td>Potato</td>\n",
       "      <td>813.873321</td>\n",
       "      <td>637.938580</td>\n",
       "      <td>994.884837</td>\n",
       "    </tr>\n",
       "    <tr>\n",
       "      <th>2</th>\n",
       "      <td>2018</td>\n",
       "      <td>Apr</td>\n",
       "      <td>Rice</td>\n",
       "      <td>1735.000000</td>\n",
       "      <td>1735.000000</td>\n",
       "      <td>1735.000000</td>\n",
       "    </tr>\n",
       "    <tr>\n",
       "      <th>3</th>\n",
       "      <td>2018</td>\n",
       "      <td>Apr</td>\n",
       "      <td>Wheat</td>\n",
       "      <td>1710.852037</td>\n",
       "      <td>1610.589323</td>\n",
       "      <td>1814.700675</td>\n",
       "    </tr>\n",
       "    <tr>\n",
       "      <th>4</th>\n",
       "      <td>2018</td>\n",
       "      <td>Aug</td>\n",
       "      <td>Onion</td>\n",
       "      <td>781.157627</td>\n",
       "      <td>509.145763</td>\n",
       "      <td>1006.405085</td>\n",
       "    </tr>\n",
       "    <tr>\n",
       "      <th>...</th>\n",
       "      <td>...</td>\n",
       "      <td>...</td>\n",
       "      <td>...</td>\n",
       "      <td>...</td>\n",
       "      <td>...</td>\n",
       "      <td>...</td>\n",
       "    </tr>\n",
       "    <tr>\n",
       "      <th>247</th>\n",
       "      <td>2024</td>\n",
       "      <td>May</td>\n",
       "      <td>Onion</td>\n",
       "      <td>954.772185</td>\n",
       "      <td>507.529801</td>\n",
       "      <td>1626.082119</td>\n",
       "    </tr>\n",
       "    <tr>\n",
       "      <th>248</th>\n",
       "      <td>2024</td>\n",
       "      <td>May</td>\n",
       "      <td>Potato</td>\n",
       "      <td>1587.941176</td>\n",
       "      <td>1199.611765</td>\n",
       "      <td>1646.070588</td>\n",
       "    </tr>\n",
       "    <tr>\n",
       "      <th>249</th>\n",
       "      <td>2024</td>\n",
       "      <td>May</td>\n",
       "      <td>Wheat</td>\n",
       "      <td>2425.996127</td>\n",
       "      <td>2271.616120</td>\n",
       "      <td>2627.777442</td>\n",
       "    </tr>\n",
       "    <tr>\n",
       "      <th>250</th>\n",
       "      <td>2024</td>\n",
       "      <td>Sep</td>\n",
       "      <td>Onion</td>\n",
       "      <td>2500.000000</td>\n",
       "      <td>2500.000000</td>\n",
       "      <td>2500.000000</td>\n",
       "    </tr>\n",
       "    <tr>\n",
       "      <th>251</th>\n",
       "      <td>2024</td>\n",
       "      <td>Sep</td>\n",
       "      <td>Wheat</td>\n",
       "      <td>2523.973684</td>\n",
       "      <td>2417.868421</td>\n",
       "      <td>2535.368421</td>\n",
       "    </tr>\n",
       "  </tbody>\n",
       "</table>\n",
       "<p>252 rows × 6 columns</p>\n",
       "</div>"
      ],
      "text/plain": [
       "     year month commodity  modal_rs_quintal  min_rs_quintal  max_rs_quintal\n",
       "0    2018   Apr     Onion        670.614907      494.950311      819.144928\n",
       "1    2018   Apr    Potato        813.873321      637.938580      994.884837\n",
       "2    2018   Apr      Rice       1735.000000     1735.000000     1735.000000\n",
       "3    2018   Apr     Wheat       1710.852037     1610.589323     1814.700675\n",
       "4    2018   Aug     Onion        781.157627      509.145763     1006.405085\n",
       "..    ...   ...       ...               ...             ...             ...\n",
       "247  2024   May     Onion        954.772185      507.529801     1626.082119\n",
       "248  2024   May    Potato       1587.941176     1199.611765     1646.070588\n",
       "249  2024   May     Wheat       2425.996127     2271.616120     2627.777442\n",
       "250  2024   Sep     Onion       2500.000000     2500.000000     2500.000000\n",
       "251  2024   Sep     Wheat       2523.973684     2417.868421     2535.368421\n",
       "\n",
       "[252 rows x 6 columns]"
      ]
     },
     "execution_count": 26,
     "metadata": {},
     "output_type": "execute_result"
    }
   ],
   "source": [
    "mp_yearly"
   ]
  },
  {
   "cell_type": "code",
   "execution_count": 27,
   "metadata": {},
   "outputs": [
    {
     "data": {
      "text/html": [
       "<div>\n",
       "<style scoped>\n",
       "    .dataframe tbody tr th:only-of-type {\n",
       "        vertical-align: middle;\n",
       "    }\n",
       "\n",
       "    .dataframe tbody tr th {\n",
       "        vertical-align: top;\n",
       "    }\n",
       "\n",
       "    .dataframe thead th {\n",
       "        text-align: right;\n",
       "    }\n",
       "</style>\n",
       "<table border=\"1\" class=\"dataframe\">\n",
       "  <thead>\n",
       "    <tr style=\"text-align: right;\">\n",
       "      <th></th>\n",
       "      <th>year</th>\n",
       "      <th>month</th>\n",
       "      <th>commodity</th>\n",
       "      <th>modal_rs_quintal</th>\n",
       "      <th>min_rs_quintal</th>\n",
       "      <th>max_rs_quintal</th>\n",
       "    </tr>\n",
       "  </thead>\n",
       "  <tbody>\n",
       "    <tr>\n",
       "      <th>0</th>\n",
       "      <td>2018</td>\n",
       "      <td>Apr</td>\n",
       "      <td>Onion</td>\n",
       "      <td>1051.819009</td>\n",
       "      <td>973.276171</td>\n",
       "      <td>1094.066533</td>\n",
       "    </tr>\n",
       "    <tr>\n",
       "      <th>1</th>\n",
       "      <td>2018</td>\n",
       "      <td>Apr</td>\n",
       "      <td>Potato</td>\n",
       "      <td>832.345467</td>\n",
       "      <td>755.080488</td>\n",
       "      <td>862.757631</td>\n",
       "    </tr>\n",
       "    <tr>\n",
       "      <th>2</th>\n",
       "      <td>2018</td>\n",
       "      <td>Apr</td>\n",
       "      <td>Rice</td>\n",
       "      <td>2302.875200</td>\n",
       "      <td>2217.546000</td>\n",
       "      <td>2333.180000</td>\n",
       "    </tr>\n",
       "    <tr>\n",
       "      <th>3</th>\n",
       "      <td>2018</td>\n",
       "      <td>Apr</td>\n",
       "      <td>Wheat</td>\n",
       "      <td>1703.699893</td>\n",
       "      <td>1620.188402</td>\n",
       "      <td>1659.047835</td>\n",
       "    </tr>\n",
       "    <tr>\n",
       "      <th>4</th>\n",
       "      <td>2018</td>\n",
       "      <td>Aug</td>\n",
       "      <td>Onion</td>\n",
       "      <td>1377.477138</td>\n",
       "      <td>1310.061741</td>\n",
       "      <td>1427.844226</td>\n",
       "    </tr>\n",
       "    <tr>\n",
       "      <th>...</th>\n",
       "      <td>...</td>\n",
       "      <td>...</td>\n",
       "      <td>...</td>\n",
       "      <td>...</td>\n",
       "      <td>...</td>\n",
       "      <td>...</td>\n",
       "    </tr>\n",
       "    <tr>\n",
       "      <th>319</th>\n",
       "      <td>2024</td>\n",
       "      <td>May</td>\n",
       "      <td>Wheat</td>\n",
       "      <td>2325.828225</td>\n",
       "      <td>2294.166073</td>\n",
       "      <td>2358.731765</td>\n",
       "    </tr>\n",
       "    <tr>\n",
       "      <th>320</th>\n",
       "      <td>2024</td>\n",
       "      <td>Sep</td>\n",
       "      <td>Onion</td>\n",
       "      <td>3336.481481</td>\n",
       "      <td>3234.814815</td>\n",
       "      <td>3437.407407</td>\n",
       "    </tr>\n",
       "    <tr>\n",
       "      <th>321</th>\n",
       "      <td>2024</td>\n",
       "      <td>Sep</td>\n",
       "      <td>Potato</td>\n",
       "      <td>2132.000000</td>\n",
       "      <td>2052.333333</td>\n",
       "      <td>2217.500000</td>\n",
       "    </tr>\n",
       "    <tr>\n",
       "      <th>322</th>\n",
       "      <td>2024</td>\n",
       "      <td>Sep</td>\n",
       "      <td>Rice</td>\n",
       "      <td>3090.000000</td>\n",
       "      <td>3023.333333</td>\n",
       "      <td>3155.555556</td>\n",
       "    </tr>\n",
       "    <tr>\n",
       "      <th>323</th>\n",
       "      <td>2024</td>\n",
       "      <td>Sep</td>\n",
       "      <td>Wheat</td>\n",
       "      <td>2481.466667</td>\n",
       "      <td>2399.266667</td>\n",
       "      <td>2528.533333</td>\n",
       "    </tr>\n",
       "  </tbody>\n",
       "</table>\n",
       "<p>324 rows × 6 columns</p>\n",
       "</div>"
      ],
      "text/plain": [
       "     year month commodity  modal_rs_quintal  min_rs_quintal  max_rs_quintal\n",
       "0    2018   Apr     Onion       1051.819009      973.276171     1094.066533\n",
       "1    2018   Apr    Potato        832.345467      755.080488      862.757631\n",
       "2    2018   Apr      Rice       2302.875200     2217.546000     2333.180000\n",
       "3    2018   Apr     Wheat       1703.699893     1620.188402     1659.047835\n",
       "4    2018   Aug     Onion       1377.477138     1310.061741     1427.844226\n",
       "..    ...   ...       ...               ...             ...             ...\n",
       "319  2024   May     Wheat       2325.828225     2294.166073     2358.731765\n",
       "320  2024   Sep     Onion       3336.481481     3234.814815     3437.407407\n",
       "321  2024   Sep    Potato       2132.000000     2052.333333     2217.500000\n",
       "322  2024   Sep      Rice       3090.000000     3023.333333     3155.555556\n",
       "323  2024   Sep     Wheat       2481.466667     2399.266667     2528.533333\n",
       "\n",
       "[324 rows x 6 columns]"
      ]
     },
     "execution_count": 27,
     "metadata": {},
     "output_type": "execute_result"
    }
   ],
   "source": [
    "up_yearly"
   ]
  },
  {
   "cell_type": "code",
   "execution_count": 28,
   "metadata": {},
   "outputs": [
    {
     "data": {
      "application/vnd.plotly.v1+json": {
       "config": {
        "plotlyServerURL": "https://plot.ly"
       },
       "data": [
        {
         "alignmentgroup": "True",
         "customdata": [
          [
           "Apr"
          ],
          [
           "Aug"
          ],
          [
           "Dec"
          ],
          [
           "Feb"
          ],
          [
           "Jan"
          ],
          [
           "Jul"
          ],
          [
           "Jun"
          ],
          [
           "Mar"
          ],
          [
           "May"
          ],
          [
           "Nov"
          ],
          [
           "Oct"
          ],
          [
           "Sep"
          ],
          [
           "Apr"
          ],
          [
           "Aug"
          ],
          [
           "Dec"
          ],
          [
           "Feb"
          ],
          [
           "Jan"
          ],
          [
           "Jul"
          ],
          [
           "Jun"
          ],
          [
           "Mar"
          ],
          [
           "May"
          ],
          [
           "Nov"
          ],
          [
           "Oct"
          ],
          [
           "Sep"
          ],
          [
           "Apr"
          ],
          [
           "Aug"
          ],
          [
           "Dec"
          ],
          [
           "Feb"
          ],
          [
           "Jan"
          ],
          [
           "Jul"
          ],
          [
           "Jun"
          ],
          [
           "Mar"
          ],
          [
           "May"
          ],
          [
           "Nov"
          ],
          [
           "Oct"
          ],
          [
           "Sep"
          ],
          [
           "Apr"
          ],
          [
           "Aug"
          ],
          [
           "Dec"
          ],
          [
           "Feb"
          ],
          [
           "Jan"
          ],
          [
           "Jul"
          ],
          [
           "Jun"
          ],
          [
           "Mar"
          ],
          [
           "May"
          ],
          [
           "Nov"
          ],
          [
           "Oct"
          ],
          [
           "Sep"
          ],
          [
           "Apr"
          ],
          [
           "Aug"
          ],
          [
           "Dec"
          ],
          [
           "Feb"
          ],
          [
           "Jan"
          ],
          [
           "Jul"
          ],
          [
           "Jun"
          ],
          [
           "Mar"
          ],
          [
           "May"
          ],
          [
           "Nov"
          ],
          [
           "Oct"
          ],
          [
           "Sep"
          ],
          [
           "Apr"
          ],
          [
           "Aug"
          ],
          [
           "Dec"
          ],
          [
           "Feb"
          ],
          [
           "Jan"
          ],
          [
           "Jul"
          ],
          [
           "Jun"
          ],
          [
           "Mar"
          ],
          [
           "May"
          ],
          [
           "Nov"
          ],
          [
           "Oct"
          ],
          [
           "Sep"
          ],
          [
           "Apr"
          ],
          [
           "Aug"
          ],
          [
           "Feb"
          ],
          [
           "Jan"
          ],
          [
           "Jul"
          ],
          [
           "Jun"
          ],
          [
           "Mar"
          ],
          [
           "May"
          ],
          [
           "Sep"
          ],
          [
           "Apr"
          ],
          [
           "Aug"
          ],
          [
           "Dec"
          ],
          [
           "Feb"
          ],
          [
           "Jan"
          ],
          [
           "Jul"
          ],
          [
           "Jun"
          ],
          [
           "Mar"
          ],
          [
           "May"
          ],
          [
           "Nov"
          ],
          [
           "Oct"
          ],
          [
           "Sep"
          ],
          [
           "Apr"
          ],
          [
           "Aug"
          ],
          [
           "Dec"
          ],
          [
           "Feb"
          ],
          [
           "Jan"
          ],
          [
           "Jul"
          ],
          [
           "Jun"
          ],
          [
           "Mar"
          ],
          [
           "May"
          ],
          [
           "Nov"
          ],
          [
           "Oct"
          ],
          [
           "Sep"
          ],
          [
           "Apr"
          ],
          [
           "Aug"
          ],
          [
           "Dec"
          ],
          [
           "Feb"
          ],
          [
           "Jan"
          ],
          [
           "Jul"
          ],
          [
           "Jun"
          ],
          [
           "Mar"
          ],
          [
           "May"
          ],
          [
           "Nov"
          ],
          [
           "Oct"
          ],
          [
           "Sep"
          ],
          [
           "Apr"
          ],
          [
           "Aug"
          ],
          [
           "Dec"
          ],
          [
           "Feb"
          ],
          [
           "Jan"
          ],
          [
           "Jul"
          ],
          [
           "Jun"
          ],
          [
           "Mar"
          ],
          [
           "May"
          ],
          [
           "Nov"
          ],
          [
           "Oct"
          ],
          [
           "Sep"
          ],
          [
           "Apr"
          ],
          [
           "Aug"
          ],
          [
           "Dec"
          ],
          [
           "Feb"
          ],
          [
           "Jan"
          ],
          [
           "Jul"
          ],
          [
           "Jun"
          ],
          [
           "Mar"
          ],
          [
           "May"
          ],
          [
           "Nov"
          ],
          [
           "Oct"
          ],
          [
           "Sep"
          ],
          [
           "Apr"
          ],
          [
           "Aug"
          ],
          [
           "Dec"
          ],
          [
           "Feb"
          ],
          [
           "Jan"
          ],
          [
           "Jul"
          ],
          [
           "Jun"
          ],
          [
           "Mar"
          ],
          [
           "May"
          ],
          [
           "Nov"
          ],
          [
           "Oct"
          ],
          [
           "Sep"
          ],
          [
           "Apr"
          ],
          [
           "Aug"
          ],
          [
           "Feb"
          ],
          [
           "Jan"
          ],
          [
           "Jul"
          ],
          [
           "Jun"
          ],
          [
           "Mar"
          ],
          [
           "May"
          ],
          [
           "Sep"
          ],
          [
           "Apr"
          ],
          [
           "Aug"
          ],
          [
           "Dec"
          ],
          [
           "Feb"
          ],
          [
           "Jan"
          ],
          [
           "Jul"
          ],
          [
           "Jun"
          ],
          [
           "Mar"
          ],
          [
           "May"
          ],
          [
           "Nov"
          ],
          [
           "Oct"
          ],
          [
           "Sep"
          ],
          [
           "Apr"
          ],
          [
           "Aug"
          ],
          [
           "Dec"
          ],
          [
           "Feb"
          ],
          [
           "Jan"
          ],
          [
           "Jul"
          ],
          [
           "Jun"
          ],
          [
           "Mar"
          ],
          [
           "May"
          ],
          [
           "Nov"
          ],
          [
           "Oct"
          ],
          [
           "Sep"
          ],
          [
           "Apr"
          ],
          [
           "Aug"
          ],
          [
           "Dec"
          ],
          [
           "Feb"
          ],
          [
           "Jan"
          ],
          [
           "Jul"
          ],
          [
           "Jun"
          ],
          [
           "Mar"
          ],
          [
           "May"
          ],
          [
           "Nov"
          ],
          [
           "Oct"
          ],
          [
           "Sep"
          ],
          [
           "Apr"
          ],
          [
           "Aug"
          ],
          [
           "Dec"
          ],
          [
           "Feb"
          ],
          [
           "Jan"
          ],
          [
           "Jul"
          ],
          [
           "Jun"
          ],
          [
           "Mar"
          ],
          [
           "May"
          ],
          [
           "Nov"
          ],
          [
           "Oct"
          ],
          [
           "Sep"
          ],
          [
           "Apr"
          ],
          [
           "Aug"
          ],
          [
           "Dec"
          ],
          [
           "Feb"
          ],
          [
           "Jan"
          ],
          [
           "Jul"
          ],
          [
           "Jun"
          ],
          [
           "Mar"
          ],
          [
           "May"
          ],
          [
           "Nov"
          ],
          [
           "Oct"
          ],
          [
           "Sep"
          ],
          [
           "Apr"
          ],
          [
           "Aug"
          ],
          [
           "Dec"
          ],
          [
           "Feb"
          ],
          [
           "Jan"
          ],
          [
           "Jul"
          ],
          [
           "Jun"
          ],
          [
           "Mar"
          ],
          [
           "May"
          ],
          [
           "Nov"
          ],
          [
           "Oct"
          ],
          [
           "Sep"
          ],
          [
           "Apr"
          ],
          [
           "Aug"
          ],
          [
           "Feb"
          ],
          [
           "Jan"
          ],
          [
           "Jul"
          ],
          [
           "Jun"
          ],
          [
           "Mar"
          ],
          [
           "May"
          ],
          [
           "Sep"
          ]
         ],
         "hovertemplate": "commodity=Onion<br>year=%{x}<br>value=%{y}<br>month=%{customdata[0]}<extra></extra>",
         "legendgroup": "Onion",
         "marker": {
          "color": "#636efa"
         },
         "name": "Onion",
         "notched": false,
         "offsetgroup": "Onion",
         "orientation": "v",
         "showlegend": true,
         "type": "box",
         "x": [
          2018,
          2018,
          2018,
          2018,
          2018,
          2018,
          2018,
          2018,
          2018,
          2018,
          2018,
          2018,
          2019,
          2019,
          2019,
          2019,
          2019,
          2019,
          2019,
          2019,
          2019,
          2019,
          2019,
          2019,
          2020,
          2020,
          2020,
          2020,
          2020,
          2020,
          2020,
          2020,
          2020,
          2020,
          2020,
          2020,
          2021,
          2021,
          2021,
          2021,
          2021,
          2021,
          2021,
          2021,
          2021,
          2021,
          2021,
          2021,
          2022,
          2022,
          2022,
          2022,
          2022,
          2022,
          2022,
          2022,
          2022,
          2022,
          2022,
          2022,
          2023,
          2023,
          2023,
          2023,
          2023,
          2023,
          2023,
          2023,
          2023,
          2023,
          2023,
          2023,
          2024,
          2024,
          2024,
          2024,
          2024,
          2024,
          2024,
          2024,
          2024,
          2018,
          2018,
          2018,
          2018,
          2018,
          2018,
          2018,
          2018,
          2018,
          2018,
          2018,
          2018,
          2019,
          2019,
          2019,
          2019,
          2019,
          2019,
          2019,
          2019,
          2019,
          2019,
          2019,
          2019,
          2020,
          2020,
          2020,
          2020,
          2020,
          2020,
          2020,
          2020,
          2020,
          2020,
          2020,
          2020,
          2021,
          2021,
          2021,
          2021,
          2021,
          2021,
          2021,
          2021,
          2021,
          2021,
          2021,
          2021,
          2022,
          2022,
          2022,
          2022,
          2022,
          2022,
          2022,
          2022,
          2022,
          2022,
          2022,
          2022,
          2023,
          2023,
          2023,
          2023,
          2023,
          2023,
          2023,
          2023,
          2023,
          2023,
          2023,
          2023,
          2024,
          2024,
          2024,
          2024,
          2024,
          2024,
          2024,
          2024,
          2024,
          2018,
          2018,
          2018,
          2018,
          2018,
          2018,
          2018,
          2018,
          2018,
          2018,
          2018,
          2018,
          2019,
          2019,
          2019,
          2019,
          2019,
          2019,
          2019,
          2019,
          2019,
          2019,
          2019,
          2019,
          2020,
          2020,
          2020,
          2020,
          2020,
          2020,
          2020,
          2020,
          2020,
          2020,
          2020,
          2020,
          2021,
          2021,
          2021,
          2021,
          2021,
          2021,
          2021,
          2021,
          2021,
          2021,
          2021,
          2021,
          2022,
          2022,
          2022,
          2022,
          2022,
          2022,
          2022,
          2022,
          2022,
          2022,
          2022,
          2022,
          2023,
          2023,
          2023,
          2023,
          2023,
          2023,
          2023,
          2023,
          2023,
          2023,
          2023,
          2023,
          2024,
          2024,
          2024,
          2024,
          2024,
          2024,
          2024,
          2024,
          2024
         ],
         "x0": " ",
         "xaxis": "x",
         "y": [
          670.6149068322982,
          781.1576271186441,
          605.7048808172531,
          1364.264325323475,
          1987.4442379182155,
          852.8244147157191,
          627.0250368188513,
          894.7582608695652,
          531.742504409171,
          826.1461187214612,
          769.6861626248217,
          641.5414201183432,
          514.9772502472799,
          1031.3487064116985,
          2751.484375,
          482.4258142340169,
          536.8249708284715,
          794.2836113837095,
          629.8583569405099,
          478.5267857142857,
          562.0129611166501,
          2636.0876865671644,
          2246.9180790960454,
          1653.0371517027863,
          881.5896226415094,
          760.4208809135399,
          2054.12106918239,
          1773.5358490566039,
          2871.4321880650996,
          702.9462025316456,
          655.7798076923076,
          1320.723404255319,
          557.1644908616188,
          2593.911231884058,
          2120.1720779220777,
          1368.9765258215962,
          1024.789667896679,
          1327.3945172824792,
          1164.0734966592427,
          2343.6369863013697,
          1971.8405365126678,
          1397.3118279569892,
          1337.0795454545455,
          1448.4607104413349,
          1008.909307875895,
          1399.267029972752,
          1746.9936868686868,
          1174.795267489712,
          851.0169491525423,
          839.2074569789675,
          918.9085418464193,
          1375.1332007952287,
          1239.8015488867377,
          860.793979303857,
          772.0816326530612,
          1154.415991902834,
          729.2497785651019,
          1066.664279319606,
          1012.1141141141142,
          767.6057142857143,
          761.5014749262536,
          1165.9310344827586,
          2021.046776232617,
          859.6507782101168,
          971.2330754352031,
          948.8354218880535,
          763.334879406308,
          834.3762376237623,
          717.8965517241379,
          2724.8068880688807,
          1739.7651444547996,
          1256.279605263158,
          1113.1755027422303,
          2462.620029455081,
          594.1365979381443,
          646.6495098039215,
          2194.834474885845,
          1685.5268065268065,
          1176.0754257907543,
          954.7721854304635,
          2500,
          494.9503105590062,
          509.1457627118644,
          418.4143019296254,
          930.9852125693161,
          1393.3531598513011,
          555.4046822742475,
          403.16494845360825,
          642.8486956521739,
          385.32804232804233,
          567.7412480974125,
          525.1098430813124,
          426.0103550295858,
          357.0435212660732,
          681.0281214848144,
          2154.3046875,
          346.16043425814235,
          368.52392065344225,
          515.0686947988223,
          381.0113314447592,
          340.2689075630252,
          387.0508474576271,
          1882.0074626865671,
          1500.7612994350281,
          1144.515479876161,
          754.8443396226415,
          530.4486133768353,
          1523.2641509433963,
          1219.2132075471698,
          1973.1808318264013,
          494.6107594936709,
          441.2067307692308,
          888.6112185686653,
          421.62140992167105,
          1800.3532608695652,
          1622.8701298701299,
          878.7676056338029,
          802.9944649446494,
          900.7985697258641,
          785.5790645879732,
          1581.8780821917808,
          1408.9135618479881,
          984.9832735961768,
          910.0151515151515,
          1043.1743810548978,
          818.0930787589499,
          996.8814713896458,
          1146.6035353535353,
          772.4670781893004,
          633.3549351944167,
          571.744741873805,
          604.6738567730803,
          884.4980119284294,
          777.3291384317522,
          580.063029162747,
          497.0231910946197,
          817.4848178137652,
          525.1390611160319,
          690.5658012533572,
          652.1981981981982,
          499.0726530612245,
          535.4631268436578,
          760.8520871143376,
          1440.385587863464,
          598.636186770428,
          633.4748549323017,
          634.1169590643275,
          494.34879406307977,
          603.2287128712871,
          469.6896551724138,
          1793.5571955719556,
          1091.2292637465052,
          816.0109649122807,
          573.2138939670932,
          1313.2164948453608,
          502.99226804123714,
          576.375,
          1067.3310502283105,
          775.553613053613,
          555.5571776155717,
          507.5298013245033,
          2500,
          819.1449275362319,
          1006.4050847457627,
          769.5402951191827,
          1700.3216266173752,
          2424.3624535315985,
          1119.031772575251,
          865.4845360824743,
          1119.9947826086957,
          656.4814814814815,
          1054.5114155251142,
          1007.1269614835949,
          847.1257396449704,
          678.6993076162215,
          1375.2249718785151,
          3302.2265625,
          641.7225572979494,
          696.5110851808635,
          1093.1717369970559,
          925.7034938621341,
          621.5388655462185,
          741.3479561316052,
          3330.4402985074626,
          2922.162429378531,
          2189.953560371517,
          1003.1792452830189,
          992.0097879282218,
          2497.6650943396226,
          2285.835849056604,
          3708.6636528028935,
          891.7879746835443,
          863.8926282051282,
          1706.237911025145,
          702.9843342036554,
          3260.873188405797,
          2528.1525974025976,
          1780.0399061032863,
          1235.0479704797049,
          1663.6340882002385,
          1572.6369710467707,
          3021.6027397260273,
          2444.8345752608047,
          1750.6463560334528,
          1751.1300505050506,
          1818.1528525296017,
          1203.439140811456,
          1831.2479564032697,
          2252.344696969697,
          1497.09670781893,
          1094.6251246261215,
          1153.9541108986616,
          1235.197584124245,
          1871.9393638170975,
          1706.3727008712488,
          1200.815616180621,
          1099.352504638219,
          1522.2672064777328,
          976.2285208148804,
          1446.658012533572,
          1366.7397397397397,
          1048.6048979591837,
          1004.9931170108161,
          1565.4201451905626,
          2684.370417193426,
          1117.1118677042803,
          1311.0038684719536,
          1282.2447786131997,
          1062.9452690166977,
          1057.150495049505,
          982.051724137931,
          3535.959409594096,
          2309.4156570363466,
          1676.3793859649122,
          1552.127970749543,
          2996.075110456554,
          1633.2577319587629,
          1383.2769607843138,
          2605.9292237442924,
          2197.2109557109557,
          1467.3406326034062,
          1626.082119205298,
          2500
         ],
         "y0": " ",
         "yaxis": "y"
        },
        {
         "alignmentgroup": "True",
         "customdata": [
          [
           "Apr"
          ],
          [
           "Aug"
          ],
          [
           "Dec"
          ],
          [
           "Feb"
          ],
          [
           "Jan"
          ],
          [
           "Jul"
          ],
          [
           "Jun"
          ],
          [
           "Mar"
          ],
          [
           "May"
          ],
          [
           "Nov"
          ],
          [
           "Oct"
          ],
          [
           "Sep"
          ],
          [
           "Apr"
          ],
          [
           "Aug"
          ],
          [
           "Dec"
          ],
          [
           "Feb"
          ],
          [
           "Jan"
          ],
          [
           "Jul"
          ],
          [
           "Jun"
          ],
          [
           "Mar"
          ],
          [
           "May"
          ],
          [
           "Nov"
          ],
          [
           "Oct"
          ],
          [
           "Sep"
          ],
          [
           "Apr"
          ],
          [
           "Aug"
          ],
          [
           "Dec"
          ],
          [
           "Feb"
          ],
          [
           "Jan"
          ],
          [
           "Jul"
          ],
          [
           "Jun"
          ],
          [
           "Mar"
          ],
          [
           "May"
          ],
          [
           "Nov"
          ],
          [
           "Oct"
          ],
          [
           "Sep"
          ],
          [
           "Apr"
          ],
          [
           "Aug"
          ],
          [
           "Dec"
          ],
          [
           "Feb"
          ],
          [
           "Jan"
          ],
          [
           "Jul"
          ],
          [
           "Jun"
          ],
          [
           "Mar"
          ],
          [
           "May"
          ],
          [
           "Nov"
          ],
          [
           "Oct"
          ],
          [
           "Sep"
          ],
          [
           "Apr"
          ],
          [
           "Aug"
          ],
          [
           "Dec"
          ],
          [
           "Feb"
          ],
          [
           "Jan"
          ],
          [
           "Jul"
          ],
          [
           "Jun"
          ],
          [
           "Mar"
          ],
          [
           "May"
          ],
          [
           "Nov"
          ],
          [
           "Oct"
          ],
          [
           "Sep"
          ],
          [
           "Apr"
          ],
          [
           "Aug"
          ],
          [
           "Dec"
          ],
          [
           "Feb"
          ],
          [
           "Jan"
          ],
          [
           "Jul"
          ],
          [
           "Jun"
          ],
          [
           "Mar"
          ],
          [
           "May"
          ],
          [
           "Nov"
          ],
          [
           "Oct"
          ],
          [
           "Sep"
          ],
          [
           "Apr"
          ],
          [
           "Aug"
          ],
          [
           "Feb"
          ],
          [
           "Jan"
          ],
          [
           "Jul"
          ],
          [
           "Jun"
          ],
          [
           "Mar"
          ],
          [
           "May"
          ],
          [
           "Apr"
          ],
          [
           "Aug"
          ],
          [
           "Dec"
          ],
          [
           "Feb"
          ],
          [
           "Jan"
          ],
          [
           "Jul"
          ],
          [
           "Jun"
          ],
          [
           "Mar"
          ],
          [
           "May"
          ],
          [
           "Nov"
          ],
          [
           "Oct"
          ],
          [
           "Sep"
          ],
          [
           "Apr"
          ],
          [
           "Aug"
          ],
          [
           "Dec"
          ],
          [
           "Feb"
          ],
          [
           "Jan"
          ],
          [
           "Jul"
          ],
          [
           "Jun"
          ],
          [
           "Mar"
          ],
          [
           "May"
          ],
          [
           "Nov"
          ],
          [
           "Oct"
          ],
          [
           "Sep"
          ],
          [
           "Apr"
          ],
          [
           "Aug"
          ],
          [
           "Dec"
          ],
          [
           "Feb"
          ],
          [
           "Jan"
          ],
          [
           "Jul"
          ],
          [
           "Jun"
          ],
          [
           "Mar"
          ],
          [
           "May"
          ],
          [
           "Nov"
          ],
          [
           "Oct"
          ],
          [
           "Sep"
          ],
          [
           "Apr"
          ],
          [
           "Aug"
          ],
          [
           "Dec"
          ],
          [
           "Feb"
          ],
          [
           "Jan"
          ],
          [
           "Jul"
          ],
          [
           "Jun"
          ],
          [
           "Mar"
          ],
          [
           "May"
          ],
          [
           "Nov"
          ],
          [
           "Oct"
          ],
          [
           "Sep"
          ],
          [
           "Apr"
          ],
          [
           "Aug"
          ],
          [
           "Dec"
          ],
          [
           "Feb"
          ],
          [
           "Jan"
          ],
          [
           "Jul"
          ],
          [
           "Jun"
          ],
          [
           "Mar"
          ],
          [
           "May"
          ],
          [
           "Nov"
          ],
          [
           "Oct"
          ],
          [
           "Sep"
          ],
          [
           "Apr"
          ],
          [
           "Aug"
          ],
          [
           "Dec"
          ],
          [
           "Feb"
          ],
          [
           "Jan"
          ],
          [
           "Jul"
          ],
          [
           "Jun"
          ],
          [
           "Mar"
          ],
          [
           "May"
          ],
          [
           "Nov"
          ],
          [
           "Oct"
          ],
          [
           "Sep"
          ],
          [
           "Apr"
          ],
          [
           "Aug"
          ],
          [
           "Feb"
          ],
          [
           "Jan"
          ],
          [
           "Jul"
          ],
          [
           "Jun"
          ],
          [
           "Mar"
          ],
          [
           "May"
          ],
          [
           "Apr"
          ],
          [
           "Aug"
          ],
          [
           "Dec"
          ],
          [
           "Feb"
          ],
          [
           "Jan"
          ],
          [
           "Jul"
          ],
          [
           "Jun"
          ],
          [
           "Mar"
          ],
          [
           "May"
          ],
          [
           "Nov"
          ],
          [
           "Oct"
          ],
          [
           "Sep"
          ],
          [
           "Apr"
          ],
          [
           "Aug"
          ],
          [
           "Dec"
          ],
          [
           "Feb"
          ],
          [
           "Jan"
          ],
          [
           "Jul"
          ],
          [
           "Jun"
          ],
          [
           "Mar"
          ],
          [
           "May"
          ],
          [
           "Nov"
          ],
          [
           "Oct"
          ],
          [
           "Sep"
          ],
          [
           "Apr"
          ],
          [
           "Aug"
          ],
          [
           "Dec"
          ],
          [
           "Feb"
          ],
          [
           "Jan"
          ],
          [
           "Jul"
          ],
          [
           "Jun"
          ],
          [
           "Mar"
          ],
          [
           "May"
          ],
          [
           "Nov"
          ],
          [
           "Oct"
          ],
          [
           "Sep"
          ],
          [
           "Apr"
          ],
          [
           "Aug"
          ],
          [
           "Dec"
          ],
          [
           "Feb"
          ],
          [
           "Jan"
          ],
          [
           "Jul"
          ],
          [
           "Jun"
          ],
          [
           "Mar"
          ],
          [
           "May"
          ],
          [
           "Nov"
          ],
          [
           "Oct"
          ],
          [
           "Sep"
          ],
          [
           "Apr"
          ],
          [
           "Aug"
          ],
          [
           "Dec"
          ],
          [
           "Feb"
          ],
          [
           "Jan"
          ],
          [
           "Jul"
          ],
          [
           "Jun"
          ],
          [
           "Mar"
          ],
          [
           "May"
          ],
          [
           "Nov"
          ],
          [
           "Oct"
          ],
          [
           "Sep"
          ],
          [
           "Apr"
          ],
          [
           "Aug"
          ],
          [
           "Dec"
          ],
          [
           "Feb"
          ],
          [
           "Jan"
          ],
          [
           "Jul"
          ],
          [
           "Jun"
          ],
          [
           "Mar"
          ],
          [
           "May"
          ],
          [
           "Nov"
          ],
          [
           "Oct"
          ],
          [
           "Sep"
          ],
          [
           "Apr"
          ],
          [
           "Aug"
          ],
          [
           "Feb"
          ],
          [
           "Jan"
          ],
          [
           "Jul"
          ],
          [
           "Jun"
          ],
          [
           "Mar"
          ],
          [
           "May"
          ]
         ],
         "hovertemplate": "commodity=Potato<br>year=%{x}<br>value=%{y}<br>month=%{customdata[0]}<extra></extra>",
         "legendgroup": "Potato",
         "marker": {
          "color": "#EF553B"
         },
         "name": "Potato",
         "notched": false,
         "offsetgroup": "Potato",
         "orientation": "v",
         "showlegend": true,
         "type": "box",
         "x": [
          2018,
          2018,
          2018,
          2018,
          2018,
          2018,
          2018,
          2018,
          2018,
          2018,
          2018,
          2018,
          2019,
          2019,
          2019,
          2019,
          2019,
          2019,
          2019,
          2019,
          2019,
          2019,
          2019,
          2019,
          2020,
          2020,
          2020,
          2020,
          2020,
          2020,
          2020,
          2020,
          2020,
          2020,
          2020,
          2020,
          2021,
          2021,
          2021,
          2021,
          2021,
          2021,
          2021,
          2021,
          2021,
          2021,
          2021,
          2021,
          2022,
          2022,
          2022,
          2022,
          2022,
          2022,
          2022,
          2022,
          2022,
          2022,
          2022,
          2022,
          2023,
          2023,
          2023,
          2023,
          2023,
          2023,
          2023,
          2023,
          2023,
          2023,
          2023,
          2023,
          2024,
          2024,
          2024,
          2024,
          2024,
          2024,
          2024,
          2024,
          2018,
          2018,
          2018,
          2018,
          2018,
          2018,
          2018,
          2018,
          2018,
          2018,
          2018,
          2018,
          2019,
          2019,
          2019,
          2019,
          2019,
          2019,
          2019,
          2019,
          2019,
          2019,
          2019,
          2019,
          2020,
          2020,
          2020,
          2020,
          2020,
          2020,
          2020,
          2020,
          2020,
          2020,
          2020,
          2020,
          2021,
          2021,
          2021,
          2021,
          2021,
          2021,
          2021,
          2021,
          2021,
          2021,
          2021,
          2021,
          2022,
          2022,
          2022,
          2022,
          2022,
          2022,
          2022,
          2022,
          2022,
          2022,
          2022,
          2022,
          2023,
          2023,
          2023,
          2023,
          2023,
          2023,
          2023,
          2023,
          2023,
          2023,
          2023,
          2023,
          2024,
          2024,
          2024,
          2024,
          2024,
          2024,
          2024,
          2024,
          2018,
          2018,
          2018,
          2018,
          2018,
          2018,
          2018,
          2018,
          2018,
          2018,
          2018,
          2018,
          2019,
          2019,
          2019,
          2019,
          2019,
          2019,
          2019,
          2019,
          2019,
          2019,
          2019,
          2019,
          2020,
          2020,
          2020,
          2020,
          2020,
          2020,
          2020,
          2020,
          2020,
          2020,
          2020,
          2020,
          2021,
          2021,
          2021,
          2021,
          2021,
          2021,
          2021,
          2021,
          2021,
          2021,
          2021,
          2021,
          2022,
          2022,
          2022,
          2022,
          2022,
          2022,
          2022,
          2022,
          2022,
          2022,
          2022,
          2022,
          2023,
          2023,
          2023,
          2023,
          2023,
          2023,
          2023,
          2023,
          2023,
          2023,
          2023,
          2023,
          2024,
          2024,
          2024,
          2024,
          2024,
          2024,
          2024,
          2024
         ],
         "x0": " ",
         "xaxis": "x",
         "y": [
          813.8733205374281,
          1018.6012965964344,
          771.1961077844311,
          528.3442340791738,
          495.4719101123595,
          1066.8894389438944,
          1066.6735751295337,
          615.773095623987,
          922.5597826086956,
          1065.6987740805605,
          1072.85347985348,
          1027.3867313915857,
          750.2941176470588,
          762.2107438016529,
          1129.7900262467192,
          726.771052631579,
          702.2724902216428,
          814.7685305591677,
          861.4479452054794,
          721.7771226415094,
          842.8078947368421,
          982.05,
          876.8148148148148,
          762.7713068181819,
          1317.4301675977654,
          1703.5400843881857,
          2054.477966101695,
          1037.9322033898304,
          1148.0751341681573,
          1508.3565891472867,
          1333.9757793764988,
          1037.164461247637,
          1336.0923076923077,
          2644.311808118081,
          2247.752808988764,
          1989.1764705882354,
          1029.0704761904763,
          990.8050397877984,
          993.8097502972652,
          1027.987870619946,
          1339.415172413793,
          1016.8989501312336,
          1085.645799011532,
          932.0044052863436,
          1152.728997289973,
          1244.9453551912568,
          1068.0530612244897,
          921.4869791666666,
          885.5765765765766,
          1295.6423200859292,
          1170.7027027027027,
          817.6496815286624,
          878.7037422037422,
          1285.5969976905312,
          1174.7635294117647,
          865.349358974359,
          1033.754945054945,
          1356.858163265306,
          1420.8509454949944,
          1353.0415400202635,
          930,
          1146.0943181818182,
          963.6139534883721,
          904.9197396963124,
          1022.7304890738814,
          1134.0369198312237,
          1052.598108747045,
          867.3661016949153,
          1002.8648018648018,
          1073.4679943100996,
          1125.626423690205,
          1111.5666666666666,
          1578.9084507042253,
          1595.3100775193798,
          769.8728323699422,
          568.1363636363636,
          1565.4017857142858,
          1552.3978494623657,
          1233.387640449438,
          1587.9411764705883,
          637.9385796545106,
          837.4165316045381,
          609.251497005988,
          383.87091222030983,
          378.7271268057785,
          845.7805280528053,
          859.7098445595855,
          466.4683954619125,
          748.5235507246376,
          868.1786339754816,
          854.1794871794872,
          833.8446601941747,
          599.3223039215686,
          624.8691460055096,
          908.1102362204724,
          579.896052631579,
          539.5984354628422,
          667.6007802340703,
          713.0534246575343,
          571.7818396226415,
          685.5052631578948,
          807.06875,
          724.3019943019943,
          631.0525568181819,
          1183.2122905027934,
          1475.84388185654,
          1768.471186440678,
          807.9830508474577,
          892.0304114490161,
          1291.0368217054263,
          1189.6786570743404,
          825.1965973534972,
          1142.726153846154,
          2275.249077490775,
          1938.152808988764,
          1654.9816176470588,
          864.9104761904762,
          849.5238726790451,
          834.3674197384066,
          822.6159029649596,
          1123.5020689655173,
          863.2480314960629,
          930.322899505766,
          754.4328193832599,
          1013.9024390243902,
          1064.7131147540983,
          908.2503401360544,
          788.7643229166666,
          714.5664414414415,
          1071.6659505907626,
          911.1805019305019,
          654.0106157112526,
          706.2453222453222,
          1075.107390300231,
          978.8282352941177,
          686.0544871794872,
          855.6681318681319,
          1088.130612244898,
          1183.448275862069,
          1109.9300911854104,
          746.5651074589127,
          963.7193181818182,
          784.9271317829457,
          725.1952277657267,
          814.7804370447451,
          938.2700421940929,
          865.5200945626477,
          691.0361581920904,
          798.6013986013986,
          873.3968705547653,
          915.5706150341686,
          917.4813333333333,
          1046.7887323943662,
          1315.953488372093,
          604.5260115606936,
          478.21022727272725,
          1271.3482142857142,
          1217.3763440860216,
          825.0056179775281,
          1199.6117647058823,
          994.8848368522073,
          1209.0129659643435,
          928.0179640718563,
          663.8089500860585,
          610.0465489566614,
          1280.3696369636964,
          1265.516407599309,
          759.5413290113452,
          1110.9420289855072,
          1243.4290718038528,
          1283.2216117216117,
          1212.9045307443366,
          925.0637254901961,
          900.7438016528926,
          1357.6640419947507,
          889.3131578947368,
          854.728813559322,
          961.7685305591677,
          1013.0739726027397,
          880.0955188679245,
          1003.7828947368421,
          1178.24125,
          1061.4102564102564,
          907.4034090909091,
          1421.2011173184358,
          1924.9535864978902,
          2320.015254237288,
          1268.4237288135594,
          1361.8354203935598,
          1704.9147286821706,
          1456.2853717026378,
          1239.281663516068,
          1463.5938461538462,
          2985.3044280442805,
          2540.2044943820224,
          2260.705882352941,
          1192.1085714285714,
          1134.1206896551723,
          1172.5303210463733,
          1208.711590296496,
          1537.911724137931,
          1188.007874015748,
          1261.0329489291598,
          1102.4746696035243,
          1308.7940379403794,
          1420.3060109289618,
          1228.9319727891157,
          1057.8606770833333,
          1085.0146396396397,
          1552.576799140709,
          1436.8291505791506,
          1001.3768577494692,
          1079.954261954262,
          1527.635103926097,
          1409.6870588235295,
          1037.784188034188,
          1248.6637362637362,
          1639.4867346938775,
          1665.579532814238,
          1612.113475177305,
          1135.1175726927938,
          1384.3715909090909,
          1194.5131782945737,
          1121.0553145336225,
          1274.5265348595212,
          1393.7584388185653,
          1305.9468085106382,
          1066.7242937853107,
          1262.586247086247,
          1300.7994310099573,
          1365.5227790432803,
          1362.5013333333334,
          1539.3169014084508,
          1654.2868217054263,
          1218.791907514451,
          967.2727272727273,
          1590.2589285714287,
          1613.6451612903227,
          1314.4157303370787,
          1646.070588235294
         ],
         "y0": " ",
         "yaxis": "y"
        },
        {
         "alignmentgroup": "True",
         "customdata": [
          [
           "Apr"
          ],
          [
           "Dec"
          ],
          [
           "Feb"
          ],
          [
           "Jun"
          ],
          [
           "May"
          ],
          [
           "Jan"
          ],
          [
           "Jul"
          ],
          [
           "Dec"
          ],
          [
           "Nov"
          ],
          [
           "Oct"
          ],
          [
           "Apr"
          ],
          [
           "Dec"
          ],
          [
           "Feb"
          ],
          [
           "Jun"
          ],
          [
           "May"
          ],
          [
           "Jan"
          ],
          [
           "Jul"
          ],
          [
           "Dec"
          ],
          [
           "Nov"
          ],
          [
           "Oct"
          ],
          [
           "Apr"
          ],
          [
           "Dec"
          ],
          [
           "Feb"
          ],
          [
           "Jun"
          ],
          [
           "May"
          ],
          [
           "Jan"
          ],
          [
           "Jul"
          ],
          [
           "Dec"
          ],
          [
           "Nov"
          ],
          [
           "Oct"
          ]
         ],
         "hovertemplate": "commodity=Rice<br>year=%{x}<br>value=%{y}<br>month=%{customdata[0]}<extra></extra>",
         "legendgroup": "Rice",
         "marker": {
          "color": "#00cc96"
         },
         "name": "Rice",
         "notched": false,
         "offsetgroup": "Rice",
         "orientation": "v",
         "showlegend": true,
         "type": "box",
         "x": [
          2018,
          2018,
          2018,
          2018,
          2018,
          2019,
          2019,
          2023,
          2023,
          2023,
          2018,
          2018,
          2018,
          2018,
          2018,
          2019,
          2019,
          2023,
          2023,
          2023,
          2018,
          2018,
          2018,
          2018,
          2018,
          2019,
          2019,
          2023,
          2023,
          2023
         ],
         "x0": " ",
         "xaxis": "x",
         "y": [
          1735,
          1750,
          3200,
          1736,
          1250,
          1750,
          1550,
          4300,
          3117.5,
          2730,
          1735,
          1750,
          3200,
          1735,
          1200,
          1750,
          1550,
          1333.3333333333333,
          2216.6666666666665,
          2730,
          1735,
          1750,
          3200,
          1737,
          1300,
          1750,
          1550,
          4480,
          3327.5,
          2730
         ],
         "y0": " ",
         "yaxis": "y"
        },
        {
         "alignmentgroup": "True",
         "customdata": [
          [
           "Apr"
          ],
          [
           "Aug"
          ],
          [
           "Dec"
          ],
          [
           "Feb"
          ],
          [
           "Jan"
          ],
          [
           "Jul"
          ],
          [
           "Jun"
          ],
          [
           "Mar"
          ],
          [
           "May"
          ],
          [
           "Nov"
          ],
          [
           "Oct"
          ],
          [
           "Sep"
          ],
          [
           "Apr"
          ],
          [
           "Aug"
          ],
          [
           "Dec"
          ],
          [
           "Feb"
          ],
          [
           "Jan"
          ],
          [
           "Jul"
          ],
          [
           "Jun"
          ],
          [
           "Mar"
          ],
          [
           "May"
          ],
          [
           "Nov"
          ],
          [
           "Oct"
          ],
          [
           "Sep"
          ],
          [
           "Apr"
          ],
          [
           "Aug"
          ],
          [
           "Dec"
          ],
          [
           "Feb"
          ],
          [
           "Jan"
          ],
          [
           "Jul"
          ],
          [
           "Jun"
          ],
          [
           "Mar"
          ],
          [
           "May"
          ],
          [
           "Nov"
          ],
          [
           "Oct"
          ],
          [
           "Sep"
          ],
          [
           "Apr"
          ],
          [
           "Aug"
          ],
          [
           "Dec"
          ],
          [
           "Feb"
          ],
          [
           "Jan"
          ],
          [
           "Jul"
          ],
          [
           "Jun"
          ],
          [
           "Mar"
          ],
          [
           "May"
          ],
          [
           "Nov"
          ],
          [
           "Oct"
          ],
          [
           "Sep"
          ],
          [
           "Apr"
          ],
          [
           "Aug"
          ],
          [
           "Dec"
          ],
          [
           "Feb"
          ],
          [
           "Jan"
          ],
          [
           "Jul"
          ],
          [
           "Jun"
          ],
          [
           "Mar"
          ],
          [
           "May"
          ],
          [
           "Nov"
          ],
          [
           "Oct"
          ],
          [
           "Sep"
          ],
          [
           "Apr"
          ],
          [
           "Aug"
          ],
          [
           "Dec"
          ],
          [
           "Feb"
          ],
          [
           "Jan"
          ],
          [
           "Jul"
          ],
          [
           "Jun"
          ],
          [
           "Mar"
          ],
          [
           "May"
          ],
          [
           "Nov"
          ],
          [
           "Oct"
          ],
          [
           "Sep"
          ],
          [
           "Apr"
          ],
          [
           "Aug"
          ],
          [
           "Feb"
          ],
          [
           "Jan"
          ],
          [
           "Jul"
          ],
          [
           "Jun"
          ],
          [
           "Mar"
          ],
          [
           "May"
          ],
          [
           "Sep"
          ],
          [
           "Apr"
          ],
          [
           "Aug"
          ],
          [
           "Dec"
          ],
          [
           "Feb"
          ],
          [
           "Jan"
          ],
          [
           "Jul"
          ],
          [
           "Jun"
          ],
          [
           "Mar"
          ],
          [
           "May"
          ],
          [
           "Nov"
          ],
          [
           "Oct"
          ],
          [
           "Sep"
          ],
          [
           "Apr"
          ],
          [
           "Aug"
          ],
          [
           "Dec"
          ],
          [
           "Feb"
          ],
          [
           "Jan"
          ],
          [
           "Jul"
          ],
          [
           "Jun"
          ],
          [
           "Mar"
          ],
          [
           "May"
          ],
          [
           "Nov"
          ],
          [
           "Oct"
          ],
          [
           "Sep"
          ],
          [
           "Apr"
          ],
          [
           "Aug"
          ],
          [
           "Dec"
          ],
          [
           "Feb"
          ],
          [
           "Jan"
          ],
          [
           "Jul"
          ],
          [
           "Jun"
          ],
          [
           "Mar"
          ],
          [
           "May"
          ],
          [
           "Nov"
          ],
          [
           "Oct"
          ],
          [
           "Sep"
          ],
          [
           "Apr"
          ],
          [
           "Aug"
          ],
          [
           "Dec"
          ],
          [
           "Feb"
          ],
          [
           "Jan"
          ],
          [
           "Jul"
          ],
          [
           "Jun"
          ],
          [
           "Mar"
          ],
          [
           "May"
          ],
          [
           "Nov"
          ],
          [
           "Oct"
          ],
          [
           "Sep"
          ],
          [
           "Apr"
          ],
          [
           "Aug"
          ],
          [
           "Dec"
          ],
          [
           "Feb"
          ],
          [
           "Jan"
          ],
          [
           "Jul"
          ],
          [
           "Jun"
          ],
          [
           "Mar"
          ],
          [
           "May"
          ],
          [
           "Nov"
          ],
          [
           "Oct"
          ],
          [
           "Sep"
          ],
          [
           "Apr"
          ],
          [
           "Aug"
          ],
          [
           "Dec"
          ],
          [
           "Feb"
          ],
          [
           "Jan"
          ],
          [
           "Jul"
          ],
          [
           "Jun"
          ],
          [
           "Mar"
          ],
          [
           "May"
          ],
          [
           "Nov"
          ],
          [
           "Oct"
          ],
          [
           "Sep"
          ],
          [
           "Apr"
          ],
          [
           "Aug"
          ],
          [
           "Feb"
          ],
          [
           "Jan"
          ],
          [
           "Jul"
          ],
          [
           "Jun"
          ],
          [
           "Mar"
          ],
          [
           "May"
          ],
          [
           "Sep"
          ],
          [
           "Apr"
          ],
          [
           "Aug"
          ],
          [
           "Dec"
          ],
          [
           "Feb"
          ],
          [
           "Jan"
          ],
          [
           "Jul"
          ],
          [
           "Jun"
          ],
          [
           "Mar"
          ],
          [
           "May"
          ],
          [
           "Nov"
          ],
          [
           "Oct"
          ],
          [
           "Sep"
          ],
          [
           "Apr"
          ],
          [
           "Aug"
          ],
          [
           "Dec"
          ],
          [
           "Feb"
          ],
          [
           "Jan"
          ],
          [
           "Jul"
          ],
          [
           "Jun"
          ],
          [
           "Mar"
          ],
          [
           "May"
          ],
          [
           "Nov"
          ],
          [
           "Oct"
          ],
          [
           "Sep"
          ],
          [
           "Apr"
          ],
          [
           "Aug"
          ],
          [
           "Dec"
          ],
          [
           "Feb"
          ],
          [
           "Jan"
          ],
          [
           "Jul"
          ],
          [
           "Jun"
          ],
          [
           "Mar"
          ],
          [
           "May"
          ],
          [
           "Nov"
          ],
          [
           "Oct"
          ],
          [
           "Sep"
          ],
          [
           "Apr"
          ],
          [
           "Aug"
          ],
          [
           "Dec"
          ],
          [
           "Feb"
          ],
          [
           "Jan"
          ],
          [
           "Jul"
          ],
          [
           "Jun"
          ],
          [
           "Mar"
          ],
          [
           "May"
          ],
          [
           "Nov"
          ],
          [
           "Oct"
          ],
          [
           "Sep"
          ],
          [
           "Apr"
          ],
          [
           "Aug"
          ],
          [
           "Dec"
          ],
          [
           "Feb"
          ],
          [
           "Jan"
          ],
          [
           "Jul"
          ],
          [
           "Jun"
          ],
          [
           "Mar"
          ],
          [
           "May"
          ],
          [
           "Nov"
          ],
          [
           "Oct"
          ],
          [
           "Sep"
          ],
          [
           "Apr"
          ],
          [
           "Aug"
          ],
          [
           "Dec"
          ],
          [
           "Feb"
          ],
          [
           "Jan"
          ],
          [
           "Jul"
          ],
          [
           "Jun"
          ],
          [
           "Mar"
          ],
          [
           "May"
          ],
          [
           "Nov"
          ],
          [
           "Oct"
          ],
          [
           "Sep"
          ],
          [
           "Apr"
          ],
          [
           "Aug"
          ],
          [
           "Feb"
          ],
          [
           "Jan"
          ],
          [
           "Jul"
          ],
          [
           "Jun"
          ],
          [
           "Mar"
          ],
          [
           "May"
          ],
          [
           "Sep"
          ]
         ],
         "hovertemplate": "commodity=Wheat<br>year=%{x}<br>value=%{y}<br>month=%{customdata[0]}<extra></extra>",
         "legendgroup": "Wheat",
         "marker": {
          "color": "#ab63fa"
         },
         "name": "Wheat",
         "notched": false,
         "offsetgroup": "Wheat",
         "orientation": "v",
         "showlegend": true,
         "type": "box",
         "x": [
          2018,
          2018,
          2018,
          2018,
          2018,
          2018,
          2018,
          2018,
          2018,
          2018,
          2018,
          2018,
          2019,
          2019,
          2019,
          2019,
          2019,
          2019,
          2019,
          2019,
          2019,
          2019,
          2019,
          2019,
          2020,
          2020,
          2020,
          2020,
          2020,
          2020,
          2020,
          2020,
          2020,
          2020,
          2020,
          2020,
          2021,
          2021,
          2021,
          2021,
          2021,
          2021,
          2021,
          2021,
          2021,
          2021,
          2021,
          2021,
          2022,
          2022,
          2022,
          2022,
          2022,
          2022,
          2022,
          2022,
          2022,
          2022,
          2022,
          2022,
          2023,
          2023,
          2023,
          2023,
          2023,
          2023,
          2023,
          2023,
          2023,
          2023,
          2023,
          2023,
          2024,
          2024,
          2024,
          2024,
          2024,
          2024,
          2024,
          2024,
          2024,
          2018,
          2018,
          2018,
          2018,
          2018,
          2018,
          2018,
          2018,
          2018,
          2018,
          2018,
          2018,
          2019,
          2019,
          2019,
          2019,
          2019,
          2019,
          2019,
          2019,
          2019,
          2019,
          2019,
          2019,
          2020,
          2020,
          2020,
          2020,
          2020,
          2020,
          2020,
          2020,
          2020,
          2020,
          2020,
          2020,
          2021,
          2021,
          2021,
          2021,
          2021,
          2021,
          2021,
          2021,
          2021,
          2021,
          2021,
          2021,
          2022,
          2022,
          2022,
          2022,
          2022,
          2022,
          2022,
          2022,
          2022,
          2022,
          2022,
          2022,
          2023,
          2023,
          2023,
          2023,
          2023,
          2023,
          2023,
          2023,
          2023,
          2023,
          2023,
          2023,
          2024,
          2024,
          2024,
          2024,
          2024,
          2024,
          2024,
          2024,
          2024,
          2018,
          2018,
          2018,
          2018,
          2018,
          2018,
          2018,
          2018,
          2018,
          2018,
          2018,
          2018,
          2019,
          2019,
          2019,
          2019,
          2019,
          2019,
          2019,
          2019,
          2019,
          2019,
          2019,
          2019,
          2020,
          2020,
          2020,
          2020,
          2020,
          2020,
          2020,
          2020,
          2020,
          2020,
          2020,
          2020,
          2021,
          2021,
          2021,
          2021,
          2021,
          2021,
          2021,
          2021,
          2021,
          2021,
          2021,
          2021,
          2022,
          2022,
          2022,
          2022,
          2022,
          2022,
          2022,
          2022,
          2022,
          2022,
          2022,
          2022,
          2023,
          2023,
          2023,
          2023,
          2023,
          2023,
          2023,
          2023,
          2023,
          2023,
          2023,
          2023,
          2024,
          2024,
          2024,
          2024,
          2024,
          2024,
          2024,
          2024,
          2024
         ],
         "x0": " ",
         "xaxis": "x",
         "y": [
          1710.8520366353337,
          1897.8335412147505,
          1949.1294800605754,
          1657.1119817997978,
          1639.447292504138,
          1831.4546311254712,
          1756.8244490768313,
          1699.0910031023784,
          1744.5557023785323,
          1923.937047756874,
          1898.7016150383902,
          1894.4268905070119,
          1793.6971275752774,
          1963.8968952734012,
          2057.9494882064973,
          1941.7192934032569,
          1980.4130718954248,
          1893.6561767005473,
          1832.3378182570896,
          1860.3449062950504,
          1848.7546153846154,
          2044.8100104275286,
          2006.6347471644613,
          1943.41715261959,
          1864.390549662488,
          1694.8999561211058,
          1608.9068755439512,
          2030.2079825381977,
          2124.421122639,
          1766.4714580467676,
          1790.6547293589422,
          1830.6650152439024,
          1860.7791212347524,
          1667.6719518862767,
          1632.901287553648,
          1622.7784391534392,
          1859.056,
          1785.1223470661673,
          1931.0057119543044,
          1705.2953523238382,
          1752.363738317757,
          1756.5667796610169,
          1764.1366583541146,
          1740.442775763853,
          1886.1236263736264,
          1940.1690918213749,
          1912.4357604373758,
          1876.3830508474575,
          2061.511135857461,
          2223.99195647031,
          2531.1391304347826,
          1972.3604147675478,
          1947.9893955461293,
          2091.4625910395057,
          2006.8377343277566,
          2084.422197263631,
          2081.892647633946,
          2445.4893263757117,
          2267.7009777294948,
          2223.4938644135987,
          2136.219789473684,
          2375.4656593406594,
          2489.6201596216374,
          2357.2001755926253,
          2629.8056443024493,
          2253.532353541539,
          2233.0365157078745,
          2127.047913862719,
          2195.838910505837,
          2546.0743814594425,
          2483.126434034417,
          2387.559633027523,
          2353.8519193233574,
          2623.6064505619806,
          2356.3369822485206,
          2484.360712733594,
          2522.7107416204803,
          2470.854729241877,
          2368.0962807438514,
          2425.9961273145345,
          2523.9736842105262,
          1610.5893227283682,
          1807.756805856833,
          1864.0206966178698,
          1578.3382204246714,
          1570.1012106881058,
          1739.1954765751211,
          1662.5327575938059,
          1602.705791106515,
          1653.5619028257777,
          1841.849493487699,
          1816.248080487159,
          1811.9793176914777,
          1693.795384310618,
          1906.0384615384614,
          1977.4083222073875,
          1841.3132762903672,
          1897.7701960784314,
          1832.9886630179828,
          1757.408404057131,
          1755.364488226814,
          1764.33,
          1961.7307612095933,
          1938.1649929111531,
          1884.475125284738,
          1802.304243008679,
          1598.4387889425186,
          1493.027415143603,
          1940.229809791082,
          2038.3777600425644,
          1681.8242778541953,
          1692.4227987029185,
          1702.9474085365853,
          1775.085636046801,
          1518.792782941498,
          1500.7271612507664,
          1495.0152116402116,
          1759.6266666666668,
          1691.1782771535582,
          1834.3031415748674,
          1601.4893553223387,
          1633.2680373831777,
          1661.6648587570621,
          1634.6256857855362,
          1617.8894355256343,
          1816.4574175824175,
          1835.6884094330155,
          1817.0047216699802,
          1777.3832627118645,
          1945.479398663697,
          2114.098414951502,
          2400.389016018307,
          1870.5656335460346,
          1855.2538706256628,
          1987.3537850364157,
          1893.8453940737754,
          1940.6964468041658,
          1969.1325772389519,
          2300.4715370018976,
          2152.480988593156,
          2115.148662240998,
          1973.2448421052632,
          2258.3278388278386,
          2367.4566952409104,
          2197.6581796897863,
          2495.10303514377,
          2136.5368442539293,
          2097.9424724602204,
          1932.749798115747,
          2051.5274319066148,
          2399.8371437519572,
          2340.4311663479925,
          2272.8905878355417,
          2198.305139882889,
          2487.162892979313,
          2257.9778106508875,
          2440.9069969578445,
          2406.8213248878333,
          2331.1527797833937,
          2188.45725854829,
          2271.6161200532492,
          2417.8684210526317,
          1814.7006748614124,
          1994.8644522776572,
          2042.0908632004039,
          1741.430990899899,
          1717.423977299598,
          1933.279213785676,
          1860.0434782608695,
          1802.6690796277146,
          1846.3592193535271,
          2022.9663531114327,
          1995.2460947842203,
          1987.9016747572816,
          1907.3496038034866,
          2020.0922150139018,
          2134.6895861148196,
          2030.1487717361304,
          2065.762091503268,
          1960.064698983581,
          1909.8598633823226,
          1965.1054781355117,
          1949.438076923077,
          2130.3762252346196,
          2077.742261342155,
          1993.0839635535306,
          1925.3187078109931,
          1807.4462483545415,
          1764.4442993907746,
          2101.9005300904273,
          2202.413939877627,
          1860.7661623108665,
          1895.0558742828637,
          1923.9889481707316,
          1950.8376898182723,
          1865.800437397485,
          1806.5953402820355,
          1767.8955026455026,
          1953.1302857142857,
          1883.5500624219726,
          2019.0334557323542,
          1803.9433283358321,
          1895.03738317757,
          1858.316384180791,
          1905.8628428927682,
          1875.5787156913516,
          1965.261446886447,
          2045.0426492724537,
          2016.6287276341948,
          1981.5669491525423,
          2207.9914625092797,
          2305.8497752543176,
          2632.30823798627,
          2082.264813126709,
          2043.9906680805939,
          2178.0527918781722,
          2104.458778472082,
          2214.078721666326,
          2198.0166210402817,
          2552.357685009488,
          2352.83432916893,
          2301.347415007041,
          2339.118315789474,
          2501.610576923077,
          2665.5595625184746,
          2469.979514193737,
          2726.2888711395103,
          2377.387446417636,
          2374.452264381885,
          2289.170524899058,
          2366.35953307393,
          2712.4253053554653,
          2651.2076959847036,
          2468.8814135236153,
          2553.69238776838,
          2719.943801922137,
          2591.4846153846156,
          2688.9891351586266,
          2607.1551860649247,
          2605.970974729242,
          2577.8020395920817,
          2627.7774416071643,
          2535.3684210526317
         ],
         "y0": " ",
         "yaxis": "y"
        }
       ],
       "layout": {
        "boxmode": "group",
        "legend": {
         "title": {
          "text": "commodity"
         },
         "tracegroupgap": 0
        },
        "margin": {
         "t": 60
        },
        "template": {
         "data": {
          "bar": [
           {
            "error_x": {
             "color": "#2a3f5f"
            },
            "error_y": {
             "color": "#2a3f5f"
            },
            "marker": {
             "line": {
              "color": "#E5ECF6",
              "width": 0.5
             },
             "pattern": {
              "fillmode": "overlay",
              "size": 10,
              "solidity": 0.2
             }
            },
            "type": "bar"
           }
          ],
          "barpolar": [
           {
            "marker": {
             "line": {
              "color": "#E5ECF6",
              "width": 0.5
             },
             "pattern": {
              "fillmode": "overlay",
              "size": 10,
              "solidity": 0.2
             }
            },
            "type": "barpolar"
           }
          ],
          "carpet": [
           {
            "aaxis": {
             "endlinecolor": "#2a3f5f",
             "gridcolor": "white",
             "linecolor": "white",
             "minorgridcolor": "white",
             "startlinecolor": "#2a3f5f"
            },
            "baxis": {
             "endlinecolor": "#2a3f5f",
             "gridcolor": "white",
             "linecolor": "white",
             "minorgridcolor": "white",
             "startlinecolor": "#2a3f5f"
            },
            "type": "carpet"
           }
          ],
          "choropleth": [
           {
            "colorbar": {
             "outlinewidth": 0,
             "ticks": ""
            },
            "type": "choropleth"
           }
          ],
          "contour": [
           {
            "colorbar": {
             "outlinewidth": 0,
             "ticks": ""
            },
            "colorscale": [
             [
              0,
              "#0d0887"
             ],
             [
              0.1111111111111111,
              "#46039f"
             ],
             [
              0.2222222222222222,
              "#7201a8"
             ],
             [
              0.3333333333333333,
              "#9c179e"
             ],
             [
              0.4444444444444444,
              "#bd3786"
             ],
             [
              0.5555555555555556,
              "#d8576b"
             ],
             [
              0.6666666666666666,
              "#ed7953"
             ],
             [
              0.7777777777777778,
              "#fb9f3a"
             ],
             [
              0.8888888888888888,
              "#fdca26"
             ],
             [
              1,
              "#f0f921"
             ]
            ],
            "type": "contour"
           }
          ],
          "contourcarpet": [
           {
            "colorbar": {
             "outlinewidth": 0,
             "ticks": ""
            },
            "type": "contourcarpet"
           }
          ],
          "heatmap": [
           {
            "colorbar": {
             "outlinewidth": 0,
             "ticks": ""
            },
            "colorscale": [
             [
              0,
              "#0d0887"
             ],
             [
              0.1111111111111111,
              "#46039f"
             ],
             [
              0.2222222222222222,
              "#7201a8"
             ],
             [
              0.3333333333333333,
              "#9c179e"
             ],
             [
              0.4444444444444444,
              "#bd3786"
             ],
             [
              0.5555555555555556,
              "#d8576b"
             ],
             [
              0.6666666666666666,
              "#ed7953"
             ],
             [
              0.7777777777777778,
              "#fb9f3a"
             ],
             [
              0.8888888888888888,
              "#fdca26"
             ],
             [
              1,
              "#f0f921"
             ]
            ],
            "type": "heatmap"
           }
          ],
          "heatmapgl": [
           {
            "colorbar": {
             "outlinewidth": 0,
             "ticks": ""
            },
            "colorscale": [
             [
              0,
              "#0d0887"
             ],
             [
              0.1111111111111111,
              "#46039f"
             ],
             [
              0.2222222222222222,
              "#7201a8"
             ],
             [
              0.3333333333333333,
              "#9c179e"
             ],
             [
              0.4444444444444444,
              "#bd3786"
             ],
             [
              0.5555555555555556,
              "#d8576b"
             ],
             [
              0.6666666666666666,
              "#ed7953"
             ],
             [
              0.7777777777777778,
              "#fb9f3a"
             ],
             [
              0.8888888888888888,
              "#fdca26"
             ],
             [
              1,
              "#f0f921"
             ]
            ],
            "type": "heatmapgl"
           }
          ],
          "histogram": [
           {
            "marker": {
             "pattern": {
              "fillmode": "overlay",
              "size": 10,
              "solidity": 0.2
             }
            },
            "type": "histogram"
           }
          ],
          "histogram2d": [
           {
            "colorbar": {
             "outlinewidth": 0,
             "ticks": ""
            },
            "colorscale": [
             [
              0,
              "#0d0887"
             ],
             [
              0.1111111111111111,
              "#46039f"
             ],
             [
              0.2222222222222222,
              "#7201a8"
             ],
             [
              0.3333333333333333,
              "#9c179e"
             ],
             [
              0.4444444444444444,
              "#bd3786"
             ],
             [
              0.5555555555555556,
              "#d8576b"
             ],
             [
              0.6666666666666666,
              "#ed7953"
             ],
             [
              0.7777777777777778,
              "#fb9f3a"
             ],
             [
              0.8888888888888888,
              "#fdca26"
             ],
             [
              1,
              "#f0f921"
             ]
            ],
            "type": "histogram2d"
           }
          ],
          "histogram2dcontour": [
           {
            "colorbar": {
             "outlinewidth": 0,
             "ticks": ""
            },
            "colorscale": [
             [
              0,
              "#0d0887"
             ],
             [
              0.1111111111111111,
              "#46039f"
             ],
             [
              0.2222222222222222,
              "#7201a8"
             ],
             [
              0.3333333333333333,
              "#9c179e"
             ],
             [
              0.4444444444444444,
              "#bd3786"
             ],
             [
              0.5555555555555556,
              "#d8576b"
             ],
             [
              0.6666666666666666,
              "#ed7953"
             ],
             [
              0.7777777777777778,
              "#fb9f3a"
             ],
             [
              0.8888888888888888,
              "#fdca26"
             ],
             [
              1,
              "#f0f921"
             ]
            ],
            "type": "histogram2dcontour"
           }
          ],
          "mesh3d": [
           {
            "colorbar": {
             "outlinewidth": 0,
             "ticks": ""
            },
            "type": "mesh3d"
           }
          ],
          "parcoords": [
           {
            "line": {
             "colorbar": {
              "outlinewidth": 0,
              "ticks": ""
             }
            },
            "type": "parcoords"
           }
          ],
          "pie": [
           {
            "automargin": true,
            "type": "pie"
           }
          ],
          "scatter": [
           {
            "fillpattern": {
             "fillmode": "overlay",
             "size": 10,
             "solidity": 0.2
            },
            "type": "scatter"
           }
          ],
          "scatter3d": [
           {
            "line": {
             "colorbar": {
              "outlinewidth": 0,
              "ticks": ""
             }
            },
            "marker": {
             "colorbar": {
              "outlinewidth": 0,
              "ticks": ""
             }
            },
            "type": "scatter3d"
           }
          ],
          "scattercarpet": [
           {
            "marker": {
             "colorbar": {
              "outlinewidth": 0,
              "ticks": ""
             }
            },
            "type": "scattercarpet"
           }
          ],
          "scattergeo": [
           {
            "marker": {
             "colorbar": {
              "outlinewidth": 0,
              "ticks": ""
             }
            },
            "type": "scattergeo"
           }
          ],
          "scattergl": [
           {
            "marker": {
             "colorbar": {
              "outlinewidth": 0,
              "ticks": ""
             }
            },
            "type": "scattergl"
           }
          ],
          "scattermapbox": [
           {
            "marker": {
             "colorbar": {
              "outlinewidth": 0,
              "ticks": ""
             }
            },
            "type": "scattermapbox"
           }
          ],
          "scatterpolar": [
           {
            "marker": {
             "colorbar": {
              "outlinewidth": 0,
              "ticks": ""
             }
            },
            "type": "scatterpolar"
           }
          ],
          "scatterpolargl": [
           {
            "marker": {
             "colorbar": {
              "outlinewidth": 0,
              "ticks": ""
             }
            },
            "type": "scatterpolargl"
           }
          ],
          "scatterternary": [
           {
            "marker": {
             "colorbar": {
              "outlinewidth": 0,
              "ticks": ""
             }
            },
            "type": "scatterternary"
           }
          ],
          "surface": [
           {
            "colorbar": {
             "outlinewidth": 0,
             "ticks": ""
            },
            "colorscale": [
             [
              0,
              "#0d0887"
             ],
             [
              0.1111111111111111,
              "#46039f"
             ],
             [
              0.2222222222222222,
              "#7201a8"
             ],
             [
              0.3333333333333333,
              "#9c179e"
             ],
             [
              0.4444444444444444,
              "#bd3786"
             ],
             [
              0.5555555555555556,
              "#d8576b"
             ],
             [
              0.6666666666666666,
              "#ed7953"
             ],
             [
              0.7777777777777778,
              "#fb9f3a"
             ],
             [
              0.8888888888888888,
              "#fdca26"
             ],
             [
              1,
              "#f0f921"
             ]
            ],
            "type": "surface"
           }
          ],
          "table": [
           {
            "cells": {
             "fill": {
              "color": "#EBF0F8"
             },
             "line": {
              "color": "white"
             }
            },
            "header": {
             "fill": {
              "color": "#C8D4E3"
             },
             "line": {
              "color": "white"
             }
            },
            "type": "table"
           }
          ]
         },
         "layout": {
          "annotationdefaults": {
           "arrowcolor": "#2a3f5f",
           "arrowhead": 0,
           "arrowwidth": 1
          },
          "autotypenumbers": "strict",
          "coloraxis": {
           "colorbar": {
            "outlinewidth": 0,
            "ticks": ""
           }
          },
          "colorscale": {
           "diverging": [
            [
             0,
             "#8e0152"
            ],
            [
             0.1,
             "#c51b7d"
            ],
            [
             0.2,
             "#de77ae"
            ],
            [
             0.3,
             "#f1b6da"
            ],
            [
             0.4,
             "#fde0ef"
            ],
            [
             0.5,
             "#f7f7f7"
            ],
            [
             0.6,
             "#e6f5d0"
            ],
            [
             0.7,
             "#b8e186"
            ],
            [
             0.8,
             "#7fbc41"
            ],
            [
             0.9,
             "#4d9221"
            ],
            [
             1,
             "#276419"
            ]
           ],
           "sequential": [
            [
             0,
             "#0d0887"
            ],
            [
             0.1111111111111111,
             "#46039f"
            ],
            [
             0.2222222222222222,
             "#7201a8"
            ],
            [
             0.3333333333333333,
             "#9c179e"
            ],
            [
             0.4444444444444444,
             "#bd3786"
            ],
            [
             0.5555555555555556,
             "#d8576b"
            ],
            [
             0.6666666666666666,
             "#ed7953"
            ],
            [
             0.7777777777777778,
             "#fb9f3a"
            ],
            [
             0.8888888888888888,
             "#fdca26"
            ],
            [
             1,
             "#f0f921"
            ]
           ],
           "sequentialminus": [
            [
             0,
             "#0d0887"
            ],
            [
             0.1111111111111111,
             "#46039f"
            ],
            [
             0.2222222222222222,
             "#7201a8"
            ],
            [
             0.3333333333333333,
             "#9c179e"
            ],
            [
             0.4444444444444444,
             "#bd3786"
            ],
            [
             0.5555555555555556,
             "#d8576b"
            ],
            [
             0.6666666666666666,
             "#ed7953"
            ],
            [
             0.7777777777777778,
             "#fb9f3a"
            ],
            [
             0.8888888888888888,
             "#fdca26"
            ],
            [
             1,
             "#f0f921"
            ]
           ]
          },
          "colorway": [
           "#636efa",
           "#EF553B",
           "#00cc96",
           "#ab63fa",
           "#FFA15A",
           "#19d3f3",
           "#FF6692",
           "#B6E880",
           "#FF97FF",
           "#FECB52"
          ],
          "font": {
           "color": "#2a3f5f"
          },
          "geo": {
           "bgcolor": "white",
           "lakecolor": "white",
           "landcolor": "#E5ECF6",
           "showlakes": true,
           "showland": true,
           "subunitcolor": "white"
          },
          "hoverlabel": {
           "align": "left"
          },
          "hovermode": "closest",
          "mapbox": {
           "style": "light"
          },
          "paper_bgcolor": "white",
          "plot_bgcolor": "#E5ECF6",
          "polar": {
           "angularaxis": {
            "gridcolor": "white",
            "linecolor": "white",
            "ticks": ""
           },
           "bgcolor": "#E5ECF6",
           "radialaxis": {
            "gridcolor": "white",
            "linecolor": "white",
            "ticks": ""
           }
          },
          "scene": {
           "xaxis": {
            "backgroundcolor": "#E5ECF6",
            "gridcolor": "white",
            "gridwidth": 2,
            "linecolor": "white",
            "showbackground": true,
            "ticks": "",
            "zerolinecolor": "white"
           },
           "yaxis": {
            "backgroundcolor": "#E5ECF6",
            "gridcolor": "white",
            "gridwidth": 2,
            "linecolor": "white",
            "showbackground": true,
            "ticks": "",
            "zerolinecolor": "white"
           },
           "zaxis": {
            "backgroundcolor": "#E5ECF6",
            "gridcolor": "white",
            "gridwidth": 2,
            "linecolor": "white",
            "showbackground": true,
            "ticks": "",
            "zerolinecolor": "white"
           }
          },
          "shapedefaults": {
           "line": {
            "color": "#2a3f5f"
           }
          },
          "ternary": {
           "aaxis": {
            "gridcolor": "white",
            "linecolor": "white",
            "ticks": ""
           },
           "baxis": {
            "gridcolor": "white",
            "linecolor": "white",
            "ticks": ""
           },
           "bgcolor": "#E5ECF6",
           "caxis": {
            "gridcolor": "white",
            "linecolor": "white",
            "ticks": ""
           }
          },
          "title": {
           "x": 0.05
          },
          "xaxis": {
           "automargin": true,
           "gridcolor": "white",
           "linecolor": "white",
           "ticks": "",
           "title": {
            "standoff": 15
           },
           "zerolinecolor": "white",
           "zerolinewidth": 2
          },
          "yaxis": {
           "automargin": true,
           "gridcolor": "white",
           "linecolor": "white",
           "ticks": "",
           "title": {
            "standoff": 15
           },
           "zerolinecolor": "white",
           "zerolinewidth": 2
          }
         }
        },
        "xaxis": {
         "anchor": "y",
         "domain": [
          0,
          1
         ],
         "title": {
          "text": "year"
         }
        },
        "yaxis": {
         "anchor": "x",
         "domain": [
          0,
          1
         ],
         "title": {
          "text": "value"
         }
        }
       }
      }
     },
     "metadata": {},
     "output_type": "display_data"
    }
   ],
   "source": [
    "px.box(\n",
    "    data_frame=mp_yearly,\n",
    "    x=mp_yearly[\"year\"],\n",
    "    y=[\n",
    "        mp_yearly[\"modal_rs_quintal\"],\n",
    "        mp_yearly[\"min_rs_quintal\"],\n",
    "        mp_yearly[\"max_rs_quintal\"],\n",
    "    ],\n",
    "    color=mp_yearly[\"commodity\"],\n",
    "    hover_data=\"month\",\n",
    ")"
   ]
  },
  {
   "cell_type": "code",
   "execution_count": 29,
   "metadata": {},
   "outputs": [],
   "source": [
    "up_5yrs_plot = up_yearly[up_yearly[\"year\"] > 2018]"
   ]
  },
  {
   "cell_type": "code",
   "execution_count": 36,
   "metadata": {},
   "outputs": [
    {
     "data": {
      "text/plain": [
       "5090.224514563107"
      ]
     },
     "execution_count": 36,
     "metadata": {},
     "output_type": "execute_result"
    }
   ],
   "source": [
    "up_5yrs_plot.max_rs_quintal.max()"
   ]
  },
  {
   "cell_type": "code",
   "execution_count": 35,
   "metadata": {},
   "outputs": [
    {
     "data": {
      "application/vnd.plotly.v1+json": {
       "config": {
        "plotlyServerURL": "https://plot.ly"
       },
       "data": [
        {
         "alignmentgroup": "True",
         "customdata": [
          [
           "Apr"
          ],
          [
           "Aug"
          ],
          [
           "Dec"
          ],
          [
           "Feb"
          ],
          [
           "Jan"
          ],
          [
           "Jul"
          ],
          [
           "Jun"
          ],
          [
           "Mar"
          ],
          [
           "May"
          ],
          [
           "Nov"
          ],
          [
           "Oct"
          ],
          [
           "Sep"
          ],
          [
           "Apr"
          ],
          [
           "Aug"
          ],
          [
           "Dec"
          ],
          [
           "Feb"
          ],
          [
           "Jan"
          ],
          [
           "Jul"
          ],
          [
           "Jun"
          ],
          [
           "Mar"
          ],
          [
           "May"
          ],
          [
           "Nov"
          ],
          [
           "Oct"
          ],
          [
           "Sep"
          ],
          [
           "Apr"
          ],
          [
           "Aug"
          ],
          [
           "Dec"
          ],
          [
           "Feb"
          ],
          [
           "Jan"
          ],
          [
           "Jul"
          ],
          [
           "Jun"
          ],
          [
           "Mar"
          ],
          [
           "May"
          ],
          [
           "Nov"
          ],
          [
           "Oct"
          ],
          [
           "Sep"
          ],
          [
           "Apr"
          ],
          [
           "Aug"
          ],
          [
           "Dec"
          ],
          [
           "Feb"
          ],
          [
           "Jan"
          ],
          [
           "Jul"
          ],
          [
           "Jun"
          ],
          [
           "Mar"
          ],
          [
           "May"
          ],
          [
           "Nov"
          ],
          [
           "Oct"
          ],
          [
           "Sep"
          ],
          [
           "Apr"
          ],
          [
           "Aug"
          ],
          [
           "Dec"
          ],
          [
           "Feb"
          ],
          [
           "Jan"
          ],
          [
           "Jul"
          ],
          [
           "Jun"
          ],
          [
           "Mar"
          ],
          [
           "May"
          ],
          [
           "Nov"
          ],
          [
           "Oct"
          ],
          [
           "Sep"
          ],
          [
           "Apr"
          ],
          [
           "Aug"
          ],
          [
           "Feb"
          ],
          [
           "Jan"
          ],
          [
           "Jul"
          ],
          [
           "Jun"
          ],
          [
           "Mar"
          ],
          [
           "May"
          ],
          [
           "Sep"
          ],
          [
           "Apr"
          ],
          [
           "Aug"
          ],
          [
           "Dec"
          ],
          [
           "Feb"
          ],
          [
           "Jan"
          ],
          [
           "Jul"
          ],
          [
           "Jun"
          ],
          [
           "Mar"
          ],
          [
           "May"
          ],
          [
           "Nov"
          ],
          [
           "Oct"
          ],
          [
           "Sep"
          ],
          [
           "Apr"
          ],
          [
           "Aug"
          ],
          [
           "Dec"
          ],
          [
           "Feb"
          ],
          [
           "Jan"
          ],
          [
           "Jul"
          ],
          [
           "Jun"
          ],
          [
           "Mar"
          ],
          [
           "May"
          ],
          [
           "Nov"
          ],
          [
           "Oct"
          ],
          [
           "Sep"
          ],
          [
           "Apr"
          ],
          [
           "Aug"
          ],
          [
           "Dec"
          ],
          [
           "Feb"
          ],
          [
           "Jan"
          ],
          [
           "Jul"
          ],
          [
           "Jun"
          ],
          [
           "Mar"
          ],
          [
           "May"
          ],
          [
           "Nov"
          ],
          [
           "Oct"
          ],
          [
           "Sep"
          ],
          [
           "Apr"
          ],
          [
           "Aug"
          ],
          [
           "Dec"
          ],
          [
           "Feb"
          ],
          [
           "Jan"
          ],
          [
           "Jul"
          ],
          [
           "Jun"
          ],
          [
           "Mar"
          ],
          [
           "May"
          ],
          [
           "Nov"
          ],
          [
           "Oct"
          ],
          [
           "Sep"
          ],
          [
           "Apr"
          ],
          [
           "Aug"
          ],
          [
           "Dec"
          ],
          [
           "Feb"
          ],
          [
           "Jan"
          ],
          [
           "Jul"
          ],
          [
           "Jun"
          ],
          [
           "Mar"
          ],
          [
           "May"
          ],
          [
           "Nov"
          ],
          [
           "Oct"
          ],
          [
           "Sep"
          ],
          [
           "Apr"
          ],
          [
           "Aug"
          ],
          [
           "Feb"
          ],
          [
           "Jan"
          ],
          [
           "Jul"
          ],
          [
           "Jun"
          ],
          [
           "Mar"
          ],
          [
           "May"
          ],
          [
           "Sep"
          ],
          [
           "Apr"
          ],
          [
           "Aug"
          ],
          [
           "Dec"
          ],
          [
           "Feb"
          ],
          [
           "Jan"
          ],
          [
           "Jul"
          ],
          [
           "Jun"
          ],
          [
           "Mar"
          ],
          [
           "May"
          ],
          [
           "Nov"
          ],
          [
           "Oct"
          ],
          [
           "Sep"
          ],
          [
           "Apr"
          ],
          [
           "Aug"
          ],
          [
           "Dec"
          ],
          [
           "Feb"
          ],
          [
           "Jan"
          ],
          [
           "Jul"
          ],
          [
           "Jun"
          ],
          [
           "Mar"
          ],
          [
           "May"
          ],
          [
           "Nov"
          ],
          [
           "Oct"
          ],
          [
           "Sep"
          ],
          [
           "Apr"
          ],
          [
           "Aug"
          ],
          [
           "Dec"
          ],
          [
           "Feb"
          ],
          [
           "Jan"
          ],
          [
           "Jul"
          ],
          [
           "Jun"
          ],
          [
           "Mar"
          ],
          [
           "May"
          ],
          [
           "Nov"
          ],
          [
           "Oct"
          ],
          [
           "Sep"
          ],
          [
           "Apr"
          ],
          [
           "Aug"
          ],
          [
           "Dec"
          ],
          [
           "Feb"
          ],
          [
           "Jan"
          ],
          [
           "Jul"
          ],
          [
           "Jun"
          ],
          [
           "Mar"
          ],
          [
           "May"
          ],
          [
           "Nov"
          ],
          [
           "Oct"
          ],
          [
           "Sep"
          ],
          [
           "Apr"
          ],
          [
           "Aug"
          ],
          [
           "Dec"
          ],
          [
           "Feb"
          ],
          [
           "Jan"
          ],
          [
           "Jul"
          ],
          [
           "Jun"
          ],
          [
           "Mar"
          ],
          [
           "May"
          ],
          [
           "Nov"
          ],
          [
           "Oct"
          ],
          [
           "Sep"
          ],
          [
           "Apr"
          ],
          [
           "Aug"
          ],
          [
           "Feb"
          ],
          [
           "Jan"
          ],
          [
           "Jul"
          ],
          [
           "Jun"
          ],
          [
           "Mar"
          ],
          [
           "May"
          ],
          [
           "Sep"
          ]
         ],
         "hovertemplate": "commodity=Onion<br>year=%{x}<br>value=%{y}<br>month=%{customdata[0]}<extra></extra>",
         "legendgroup": "Onion",
         "marker": {
          "color": "#636efa"
         },
         "name": "Onion",
         "notched": false,
         "offsetgroup": "Onion",
         "orientation": "v",
         "showlegend": true,
         "type": "box",
         "x": [
          2019,
          2019,
          2019,
          2019,
          2019,
          2019,
          2019,
          2019,
          2019,
          2019,
          2019,
          2019,
          2020,
          2020,
          2020,
          2020,
          2020,
          2020,
          2020,
          2020,
          2020,
          2020,
          2020,
          2020,
          2021,
          2021,
          2021,
          2021,
          2021,
          2021,
          2021,
          2021,
          2021,
          2021,
          2021,
          2021,
          2022,
          2022,
          2022,
          2022,
          2022,
          2022,
          2022,
          2022,
          2022,
          2022,
          2022,
          2022,
          2023,
          2023,
          2023,
          2023,
          2023,
          2023,
          2023,
          2023,
          2023,
          2023,
          2023,
          2023,
          2024,
          2024,
          2024,
          2024,
          2024,
          2024,
          2024,
          2024,
          2024,
          2019,
          2019,
          2019,
          2019,
          2019,
          2019,
          2019,
          2019,
          2019,
          2019,
          2019,
          2019,
          2020,
          2020,
          2020,
          2020,
          2020,
          2020,
          2020,
          2020,
          2020,
          2020,
          2020,
          2020,
          2021,
          2021,
          2021,
          2021,
          2021,
          2021,
          2021,
          2021,
          2021,
          2021,
          2021,
          2021,
          2022,
          2022,
          2022,
          2022,
          2022,
          2022,
          2022,
          2022,
          2022,
          2022,
          2022,
          2022,
          2023,
          2023,
          2023,
          2023,
          2023,
          2023,
          2023,
          2023,
          2023,
          2023,
          2023,
          2023,
          2024,
          2024,
          2024,
          2024,
          2024,
          2024,
          2024,
          2024,
          2024,
          2019,
          2019,
          2019,
          2019,
          2019,
          2019,
          2019,
          2019,
          2019,
          2019,
          2019,
          2019,
          2020,
          2020,
          2020,
          2020,
          2020,
          2020,
          2020,
          2020,
          2020,
          2020,
          2020,
          2020,
          2021,
          2021,
          2021,
          2021,
          2021,
          2021,
          2021,
          2021,
          2021,
          2021,
          2021,
          2021,
          2022,
          2022,
          2022,
          2022,
          2022,
          2022,
          2022,
          2022,
          2022,
          2022,
          2022,
          2022,
          2023,
          2023,
          2023,
          2023,
          2023,
          2023,
          2023,
          2023,
          2023,
          2023,
          2023,
          2023,
          2024,
          2024,
          2024,
          2024,
          2024,
          2024,
          2024,
          2024,
          2024
         ],
         "x0": " ",
         "xaxis": "x",
         "y": [
          852.250462962963,
          1446.0090197009258,
          4971.474514563107,
          832.6268055884442,
          905.2340241796201,
          1184.0316143497757,
          966.3201119925338,
          833.4307553956835,
          908.9017643214986,
          3683.475195822454,
          3194.766031660853,
          2332.180339805825,
          1558.2262142381903,
          1180.8086820899402,
          2733.843556315452,
          2713.772551857212,
          4395.462865026443,
          1149.728258191673,
          987.6932416953035,
          2093.563579722458,
          1052.510569456428,
          3652.810700636943,
          3094.4976099426385,
          1842.1733333333334,
          1392.4604098153302,
          1981.604798870854,
          1856.5904568068747,
          2801.5844930417493,
          2406.784929356358,
          1968.8687772424869,
          1614.3320895522388,
          2274.694580134915,
          1418.7509042681456,
          2418.062656641604,
          2391.5553734488412,
          1884.6383918709962,
          1437.526996370236,
          1408.2486631016043,
          1365.7601296596433,
          2064.5647681451615,
          1883.1595601436265,
          1360.1728025770824,
          1222.100307287094,
          2066.8990825688074,
          1226.9795213989876,
          1596.102384291725,
          1443.4044600938967,
          1373.5991525423728,
          1162.9620454545454,
          1702.6751858736059,
          2762.364368633025,
          1357.6436839456467,
          1365.2495395948436,
          1415.1575976518402,
          1116.6347156129616,
          1195.397926267281,
          1114.4848010728654,
          3555.8105814824057,
          2201.238349176907,
          1941.358646953405,
          1694.6931763575203,
          2936.2084450402144,
          1584.623241145075,
          1883.0815440289505,
          2762.3092404241506,
          1904.5420433996383,
          1787.1131534972546,
          1596.1198622767376,
          3336.4814814814813,
          791.53125,
          1373.4478993591265,
          4849.593446601942,
          767.2119346436183,
          842.9019861830743,
          1115.560538116592,
          900.0429304713019,
          772.0490107913669,
          847.4737529949902,
          3582.909196402669,
          3094.5551381808423,
          2247.3449029126214,
          1484.3047238855622,
          1110.8682089940214,
          2639.0656123103226,
          2611.1213217559093,
          4255.556679696482,
          1082.4932249322494,
          924.8093928980527,
          2005.100821297083,
          987.4165228645384,
          3556.419363057325,
          3004.8341300191205,
          1763.2011494252874,
          1318.2049076650644,
          1904.196894848271,
          1778.3030303030303,
          2715.132703777336,
          2318.4770127831353,
          1892.9011241110347,
          1540.9015858208954,
          2193.256106071179,
          1347.8500120569086,
          2338.091478696742,
          2310.3439475532664,
          1808.857300640601,
          1360.7568058076224,
          1335.7350713012477,
          1293.5184070386663,
          1981.796370967742,
          1797.8242818671454,
          1286.3844914864244,
          1149.4769534679544,
          1985.6139731827805,
          1153.7075471698113,
          1520.205002337541,
          1370.7765258215964,
          1301.7747881355933,
          1092.7638636363636,
          1627.5178903345725,
          2670.2117981520964,
          1285.773527931555,
          1293.593462246777,
          1343.1043124858884,
          1048.2354407432586,
          1124.9297235023041,
          1046.7903442109969,
          3453.9500873471425,
          2118.9619754231394,
          1866.071012544803,
          1617.2847188851513,
          2843.1610813226093,
          1510.2957302280447,
          1803.8458383594693,
          2672.811296256222,
          1822.2893309222422,
          1707.7581761756983,
          1519.4114482461803,
          3234.814814814815,
          902.3650462962963,
          1500.830524566817,
          5090.224514563107,
          877.1056121240824,
          950.8488773747841,
          1237.7919282511211,
          1013.6854876341578,
          885.1072392086331,
          958.4654759311696,
          3777.5065274151434,
          3276.67668365978,
          2408.9126213592235,
          1627.2109115103126,
          1241.646217832077,
          2805.9856807010046,
          2792.0793535938255,
          4472.108530696712,
          1208.7169253510717,
          1057.0973654066438,
          2165.3633531577457,
          1113.591673856773,
          3734.2815286624204,
          3186.3353250478012,
          1912.4806896551725,
          1458.1502656210473,
          2049.9106092684074,
          1920.0445499773857,
          2887.932902584493,
          2483.0327427674365,
          2038.4540032117459,
          1681.9867070895523,
          2358.1258432193536,
          1485.9915601639739,
          2482.0538847117796,
          2458.3025052680873,
          1951.9166114424563,
          1501.2325317604357,
          1474.4463012477718,
          1428.7638342208845,
          2129.1847278225805,
          1944.3684919210054,
          1424.756327657616,
          1284.9885864793678,
          2144.1204422488827,
          1288.942936033134,
          1663.8106591865358,
          1505.31220657277,
          1438.1103813559323,
          1220.816590909091,
          1770.672630111524,
          2833.6969912343047,
          1418.4511826874686,
          1427.16620626151,
          1477.928200496726,
          1176.7677317017901,
          1256.1882488479262,
          1171.502682163612,
          3635.880958322935,
          2272.376072339439,
          2008.9827508960573,
          1768.1816434406535,
          3023.9754244861483,
          1651.2700145560407,
          1949.832810615199,
          2846.947413979658,
          1980.7045660036167,
          1853.8085461924086,
          1668.681730148483,
          3437.4074074074074
         ],
         "y0": " ",
         "yaxis": "y"
        },
        {
         "alignmentgroup": "True",
         "customdata": [
          [
           "Apr"
          ],
          [
           "Aug"
          ],
          [
           "Dec"
          ],
          [
           "Feb"
          ],
          [
           "Jan"
          ],
          [
           "Jul"
          ],
          [
           "Jun"
          ],
          [
           "Mar"
          ],
          [
           "May"
          ],
          [
           "Nov"
          ],
          [
           "Oct"
          ],
          [
           "Sep"
          ],
          [
           "Apr"
          ],
          [
           "Aug"
          ],
          [
           "Dec"
          ],
          [
           "Feb"
          ],
          [
           "Jan"
          ],
          [
           "Jul"
          ],
          [
           "Jun"
          ],
          [
           "Mar"
          ],
          [
           "May"
          ],
          [
           "Nov"
          ],
          [
           "Oct"
          ],
          [
           "Sep"
          ],
          [
           "Apr"
          ],
          [
           "Aug"
          ],
          [
           "Dec"
          ],
          [
           "Feb"
          ],
          [
           "Jan"
          ],
          [
           "Jul"
          ],
          [
           "Jun"
          ],
          [
           "Mar"
          ],
          [
           "May"
          ],
          [
           "Nov"
          ],
          [
           "Oct"
          ],
          [
           "Sep"
          ],
          [
           "Apr"
          ],
          [
           "Aug"
          ],
          [
           "Dec"
          ],
          [
           "Feb"
          ],
          [
           "Jan"
          ],
          [
           "Jul"
          ],
          [
           "Jun"
          ],
          [
           "Mar"
          ],
          [
           "May"
          ],
          [
           "Nov"
          ],
          [
           "Oct"
          ],
          [
           "Sep"
          ],
          [
           "Apr"
          ],
          [
           "Aug"
          ],
          [
           "Dec"
          ],
          [
           "Feb"
          ],
          [
           "Jan"
          ],
          [
           "Jul"
          ],
          [
           "Jun"
          ],
          [
           "Mar"
          ],
          [
           "May"
          ],
          [
           "Nov"
          ],
          [
           "Oct"
          ],
          [
           "Sep"
          ],
          [
           "Apr"
          ],
          [
           "Aug"
          ],
          [
           "Feb"
          ],
          [
           "Jan"
          ],
          [
           "Jul"
          ],
          [
           "Jun"
          ],
          [
           "Mar"
          ],
          [
           "May"
          ],
          [
           "Sep"
          ],
          [
           "Apr"
          ],
          [
           "Aug"
          ],
          [
           "Dec"
          ],
          [
           "Feb"
          ],
          [
           "Jan"
          ],
          [
           "Jul"
          ],
          [
           "Jun"
          ],
          [
           "Mar"
          ],
          [
           "May"
          ],
          [
           "Nov"
          ],
          [
           "Oct"
          ],
          [
           "Sep"
          ],
          [
           "Apr"
          ],
          [
           "Aug"
          ],
          [
           "Dec"
          ],
          [
           "Feb"
          ],
          [
           "Jan"
          ],
          [
           "Jul"
          ],
          [
           "Jun"
          ],
          [
           "Mar"
          ],
          [
           "May"
          ],
          [
           "Nov"
          ],
          [
           "Oct"
          ],
          [
           "Sep"
          ],
          [
           "Apr"
          ],
          [
           "Aug"
          ],
          [
           "Dec"
          ],
          [
           "Feb"
          ],
          [
           "Jan"
          ],
          [
           "Jul"
          ],
          [
           "Jun"
          ],
          [
           "Mar"
          ],
          [
           "May"
          ],
          [
           "Nov"
          ],
          [
           "Oct"
          ],
          [
           "Sep"
          ],
          [
           "Apr"
          ],
          [
           "Aug"
          ],
          [
           "Dec"
          ],
          [
           "Feb"
          ],
          [
           "Jan"
          ],
          [
           "Jul"
          ],
          [
           "Jun"
          ],
          [
           "Mar"
          ],
          [
           "May"
          ],
          [
           "Nov"
          ],
          [
           "Oct"
          ],
          [
           "Sep"
          ],
          [
           "Apr"
          ],
          [
           "Aug"
          ],
          [
           "Dec"
          ],
          [
           "Feb"
          ],
          [
           "Jan"
          ],
          [
           "Jul"
          ],
          [
           "Jun"
          ],
          [
           "Mar"
          ],
          [
           "May"
          ],
          [
           "Nov"
          ],
          [
           "Oct"
          ],
          [
           "Sep"
          ],
          [
           "Apr"
          ],
          [
           "Aug"
          ],
          [
           "Feb"
          ],
          [
           "Jan"
          ],
          [
           "Jul"
          ],
          [
           "Jun"
          ],
          [
           "Mar"
          ],
          [
           "May"
          ],
          [
           "Sep"
          ],
          [
           "Apr"
          ],
          [
           "Aug"
          ],
          [
           "Dec"
          ],
          [
           "Feb"
          ],
          [
           "Jan"
          ],
          [
           "Jul"
          ],
          [
           "Jun"
          ],
          [
           "Mar"
          ],
          [
           "May"
          ],
          [
           "Nov"
          ],
          [
           "Oct"
          ],
          [
           "Sep"
          ],
          [
           "Apr"
          ],
          [
           "Aug"
          ],
          [
           "Dec"
          ],
          [
           "Feb"
          ],
          [
           "Jan"
          ],
          [
           "Jul"
          ],
          [
           "Jun"
          ],
          [
           "Mar"
          ],
          [
           "May"
          ],
          [
           "Nov"
          ],
          [
           "Oct"
          ],
          [
           "Sep"
          ],
          [
           "Apr"
          ],
          [
           "Aug"
          ],
          [
           "Dec"
          ],
          [
           "Feb"
          ],
          [
           "Jan"
          ],
          [
           "Jul"
          ],
          [
           "Jun"
          ],
          [
           "Mar"
          ],
          [
           "May"
          ],
          [
           "Nov"
          ],
          [
           "Oct"
          ],
          [
           "Sep"
          ],
          [
           "Apr"
          ],
          [
           "Aug"
          ],
          [
           "Dec"
          ],
          [
           "Feb"
          ],
          [
           "Jan"
          ],
          [
           "Jul"
          ],
          [
           "Jun"
          ],
          [
           "Mar"
          ],
          [
           "May"
          ],
          [
           "Nov"
          ],
          [
           "Oct"
          ],
          [
           "Sep"
          ],
          [
           "Apr"
          ],
          [
           "Aug"
          ],
          [
           "Dec"
          ],
          [
           "Feb"
          ],
          [
           "Jan"
          ],
          [
           "Jul"
          ],
          [
           "Jun"
          ],
          [
           "Mar"
          ],
          [
           "May"
          ],
          [
           "Nov"
          ],
          [
           "Oct"
          ],
          [
           "Sep"
          ],
          [
           "Apr"
          ],
          [
           "Aug"
          ],
          [
           "Feb"
          ],
          [
           "Jan"
          ],
          [
           "Jul"
          ],
          [
           "Jun"
          ],
          [
           "Mar"
          ],
          [
           "May"
          ],
          [
           "Sep"
          ]
         ],
         "hovertemplate": "commodity=Potato<br>year=%{x}<br>value=%{y}<br>month=%{customdata[0]}<extra></extra>",
         "legendgroup": "Potato",
         "marker": {
          "color": "#EF553B"
         },
         "name": "Potato",
         "notched": false,
         "offsetgroup": "Potato",
         "orientation": "v",
         "showlegend": true,
         "type": "box",
         "x": [
          2019,
          2019,
          2019,
          2019,
          2019,
          2019,
          2019,
          2019,
          2019,
          2019,
          2019,
          2019,
          2020,
          2020,
          2020,
          2020,
          2020,
          2020,
          2020,
          2020,
          2020,
          2020,
          2020,
          2020,
          2021,
          2021,
          2021,
          2021,
          2021,
          2021,
          2021,
          2021,
          2021,
          2021,
          2021,
          2021,
          2022,
          2022,
          2022,
          2022,
          2022,
          2022,
          2022,
          2022,
          2022,
          2022,
          2022,
          2022,
          2023,
          2023,
          2023,
          2023,
          2023,
          2023,
          2023,
          2023,
          2023,
          2023,
          2023,
          2023,
          2024,
          2024,
          2024,
          2024,
          2024,
          2024,
          2024,
          2024,
          2024,
          2019,
          2019,
          2019,
          2019,
          2019,
          2019,
          2019,
          2019,
          2019,
          2019,
          2019,
          2019,
          2020,
          2020,
          2020,
          2020,
          2020,
          2020,
          2020,
          2020,
          2020,
          2020,
          2020,
          2020,
          2021,
          2021,
          2021,
          2021,
          2021,
          2021,
          2021,
          2021,
          2021,
          2021,
          2021,
          2021,
          2022,
          2022,
          2022,
          2022,
          2022,
          2022,
          2022,
          2022,
          2022,
          2022,
          2022,
          2022,
          2023,
          2023,
          2023,
          2023,
          2023,
          2023,
          2023,
          2023,
          2023,
          2023,
          2023,
          2023,
          2024,
          2024,
          2024,
          2024,
          2024,
          2024,
          2024,
          2024,
          2024,
          2019,
          2019,
          2019,
          2019,
          2019,
          2019,
          2019,
          2019,
          2019,
          2019,
          2019,
          2019,
          2020,
          2020,
          2020,
          2020,
          2020,
          2020,
          2020,
          2020,
          2020,
          2020,
          2020,
          2020,
          2021,
          2021,
          2021,
          2021,
          2021,
          2021,
          2021,
          2021,
          2021,
          2021,
          2021,
          2021,
          2022,
          2022,
          2022,
          2022,
          2022,
          2022,
          2022,
          2022,
          2022,
          2022,
          2022,
          2022,
          2023,
          2023,
          2023,
          2023,
          2023,
          2023,
          2023,
          2023,
          2023,
          2023,
          2023,
          2023,
          2024,
          2024,
          2024,
          2024,
          2024,
          2024,
          2024,
          2024,
          2024
         ],
         "x0": " ",
         "xaxis": "x",
         "y": [
          626.862676056338,
          820.1144104803493,
          1137.3652855081427,
          543.773918469218,
          574.4574935873947,
          830.3144993768176,
          780.2825335062689,
          584.6787842669845,
          708.9575320512821,
          913.3897736797989,
          837.6547095070423,
          783.6777251184834,
          1463.477807876641,
          2109.600953097567,
          1774.7815354713314,
          1007.3128406365817,
          1189.3329355608591,
          1893.5900975958104,
          1571.7618515205725,
          1165.7084957131722,
          1473.96806304438,
          2928.419799206164,
          2623.7361776229864,
          2372.863959165557,
          791.1242280285036,
          1000.6519361190111,
          947.9920849822954,
          672.3043281214593,
          880.680971659919,
          1010.676750216076,
          993.5879396984925,
          694.3971722365038,
          954.8356102003643,
          1341.1694001874414,
          1064.872703695699,
          971.2637000412032,
          878.0102360559849,
          1468.849193214729,
          1222.117365019804,
          794.2672554032071,
          809.2150291423814,
          1353.0321120689655,
          1203.1462515362557,
          873.1875,
          1019.1176221705099,
          1511.441452991453,
          1509.7622827719374,
          1462.3361295357004,
          743.5281586163256,
          1138.0584429588096,
          849.2828498293516,
          682.2649159179913,
          862.3306434487153,
          1105.732019291256,
          957.7914672216441,
          626.4978632478633,
          887.4133882595263,
          998.647963800905,
          1023.0926870748299,
          1086.3703164029976,
          1468.6002670821279,
          2182.4873684210525,
          760.5064301552106,
          721.7426003069502,
          2148.8737076829516,
          1757.6762559038214,
          1141.6562840339795,
          1624.8802370733702,
          2132,
          572.3123446561723,
          762.256768558952,
          1062.7870542156256,
          490.46131447587356,
          520.9400879443019,
          772.6852928957209,
          722.8229571984435,
          531.0260230433055,
          653.5122195512821,
          850.7833193629506,
          776.0231073943662,
          726.1436225015455,
          1393.884559283184,
          2035.2239779282668,
          1690.3016520894073,
          941.4209723130587,
          1116.7319013524263,
          1820.9464413234944,
          1506.0420393559928,
          1098.0823590542998,
          1408.6476565740356,
          2845.1421900537007,
          2548.102307357423,
          2296.869729249889,
          731.610213776722,
          937.426383723474,
          881.7733805457196,
          615.7079084523,
          817.0599190283401,
          949.3247623163353,
          933.5632510377977,
          637.2600685518423,
          894.3879781420765,
          1272.4707122774132,
          1000.2705856926734,
          909.9388133498146,
          816.3421767286401,
          1399.2637567232107,
          1150.3908692933082,
          731.3237276318847,
          742.8170274771024,
          1282.9081896551725,
          1134.2974190905368,
          810.3695746527778,
          953.115506663846,
          1437.8149572649572,
          1439.8603304012015,
          1393.6747951619195,
          683.2621809744779,
          1074.4608583135648,
          785.0358361774744,
          621.2667588113338,
          797.1758335102994,
          1042.4548123296288,
          894.9273673257024,
          566.2224358974358,
          825.264675592173,
          933.6156108597285,
          957.03125,
          1022.2348043297252,
          1391.1798352993546,
          2101.225684210526,
          695.9383592017739,
          658.7836000877,
          2063.775795661869,
          1680.601975096608,
          1070.1426704421694,
          1545.630083793174,
          2052.3333333333335,
          667.9604391052195,
          866.2587336244542,
          1192.9787672644816,
          584.5923460898503,
          616.0058629534628,
          879.1742833402576,
          822.8994811932555,
          628.8539928486293,
          751.2183493589744,
          968.7818524727578,
          891.9916373239437,
          831.3307232639604,
          1529.9764534277974,
          2180.073488838726,
          1834.7906705539358,
          1064.447133202529,
          1238.2416467780429,
          1960.9747679124018,
          1636.853533094812,
          1227.8648999740192,
          1537.1107424305267,
          3001.4821386878357,
          2702.1680452764476,
          2444.232134931203,
          844.4061757719714,
          1062.200831327937,
          1005.3386794417829,
          724.8987083616587,
          936.2198380566801,
          1069.7826274848746,
          1049.747651299978,
          746.8365467009426,
          1009.3622495446266,
          1401.3619962511716,
          1119.731359412146,
          1028.160486196951,
          934.2717777313558,
          1536.816921803889,
          1282.3297894517407,
          847.2228677666744,
          860.6865112406329,
          1421.4696120689655,
          1268.445104465383,
          930.3528645833334,
          1081.3101332769197,
          1580.0529914529914,
          1575.2915683329757,
          1528.2358564182598,
          792.7951908879983,
          1200.7328013802028,
          906.4502986348123,
          733.9253628196268,
          917.6351667020599,
          1168.4367791989935,
          1016.335691987513,
          673.4839743589744,
          939.0692070030896,
          1056.5572398190045,
          1084.343537414966,
          1150.470024979184,
          1539.8215001112842,
          2261.692,
          815.3212860310422,
          777.8846744135058,
          2230.496452463004,
          1830.8692571919278,
          1207.3776954911784,
          1697.2791743306764,
          2217.5
         ],
         "y0": " ",
         "yaxis": "y"
        },
        {
         "alignmentgroup": "True",
         "customdata": [
          [
           "Apr"
          ],
          [
           "Aug"
          ],
          [
           "Dec"
          ],
          [
           "Feb"
          ],
          [
           "Jan"
          ],
          [
           "Jul"
          ],
          [
           "Jun"
          ],
          [
           "Mar"
          ],
          [
           "May"
          ],
          [
           "Nov"
          ],
          [
           "Oct"
          ],
          [
           "Sep"
          ],
          [
           "Apr"
          ],
          [
           "Aug"
          ],
          [
           "Dec"
          ],
          [
           "Feb"
          ],
          [
           "Jan"
          ],
          [
           "Jul"
          ],
          [
           "Jun"
          ],
          [
           "Mar"
          ],
          [
           "May"
          ],
          [
           "Nov"
          ],
          [
           "Oct"
          ],
          [
           "Sep"
          ],
          [
           "Apr"
          ],
          [
           "Aug"
          ],
          [
           "Dec"
          ],
          [
           "Feb"
          ],
          [
           "Jan"
          ],
          [
           "Jul"
          ],
          [
           "Jun"
          ],
          [
           "Mar"
          ],
          [
           "May"
          ],
          [
           "Nov"
          ],
          [
           "Oct"
          ],
          [
           "Sep"
          ],
          [
           "Apr"
          ],
          [
           "Aug"
          ],
          [
           "Dec"
          ],
          [
           "Feb"
          ],
          [
           "Jan"
          ],
          [
           "Jul"
          ],
          [
           "Jun"
          ],
          [
           "Mar"
          ],
          [
           "May"
          ],
          [
           "Nov"
          ],
          [
           "Oct"
          ],
          [
           "Sep"
          ],
          [
           "Apr"
          ],
          [
           "Aug"
          ],
          [
           "Dec"
          ],
          [
           "Feb"
          ],
          [
           "Jan"
          ],
          [
           "Jul"
          ],
          [
           "Jun"
          ],
          [
           "Mar"
          ],
          [
           "May"
          ],
          [
           "Nov"
          ],
          [
           "Oct"
          ],
          [
           "Sep"
          ],
          [
           "Apr"
          ],
          [
           "Aug"
          ],
          [
           "Feb"
          ],
          [
           "Jan"
          ],
          [
           "Jul"
          ],
          [
           "Jun"
          ],
          [
           "Mar"
          ],
          [
           "May"
          ],
          [
           "Sep"
          ],
          [
           "Apr"
          ],
          [
           "Aug"
          ],
          [
           "Dec"
          ],
          [
           "Feb"
          ],
          [
           "Jan"
          ],
          [
           "Jul"
          ],
          [
           "Jun"
          ],
          [
           "Mar"
          ],
          [
           "May"
          ],
          [
           "Nov"
          ],
          [
           "Oct"
          ],
          [
           "Sep"
          ],
          [
           "Apr"
          ],
          [
           "Aug"
          ],
          [
           "Dec"
          ],
          [
           "Feb"
          ],
          [
           "Jan"
          ],
          [
           "Jul"
          ],
          [
           "Jun"
          ],
          [
           "Mar"
          ],
          [
           "May"
          ],
          [
           "Nov"
          ],
          [
           "Oct"
          ],
          [
           "Sep"
          ],
          [
           "Apr"
          ],
          [
           "Aug"
          ],
          [
           "Dec"
          ],
          [
           "Feb"
          ],
          [
           "Jan"
          ],
          [
           "Jul"
          ],
          [
           "Jun"
          ],
          [
           "Mar"
          ],
          [
           "May"
          ],
          [
           "Nov"
          ],
          [
           "Oct"
          ],
          [
           "Sep"
          ],
          [
           "Apr"
          ],
          [
           "Aug"
          ],
          [
           "Dec"
          ],
          [
           "Feb"
          ],
          [
           "Jan"
          ],
          [
           "Jul"
          ],
          [
           "Jun"
          ],
          [
           "Mar"
          ],
          [
           "May"
          ],
          [
           "Nov"
          ],
          [
           "Oct"
          ],
          [
           "Sep"
          ],
          [
           "Apr"
          ],
          [
           "Aug"
          ],
          [
           "Dec"
          ],
          [
           "Feb"
          ],
          [
           "Jan"
          ],
          [
           "Jul"
          ],
          [
           "Jun"
          ],
          [
           "Mar"
          ],
          [
           "May"
          ],
          [
           "Nov"
          ],
          [
           "Oct"
          ],
          [
           "Sep"
          ],
          [
           "Apr"
          ],
          [
           "Aug"
          ],
          [
           "Feb"
          ],
          [
           "Jan"
          ],
          [
           "Jul"
          ],
          [
           "Jun"
          ],
          [
           "Mar"
          ],
          [
           "May"
          ],
          [
           "Sep"
          ],
          [
           "Apr"
          ],
          [
           "Aug"
          ],
          [
           "Dec"
          ],
          [
           "Feb"
          ],
          [
           "Jan"
          ],
          [
           "Jul"
          ],
          [
           "Jun"
          ],
          [
           "Mar"
          ],
          [
           "May"
          ],
          [
           "Nov"
          ],
          [
           "Oct"
          ],
          [
           "Sep"
          ],
          [
           "Apr"
          ],
          [
           "Aug"
          ],
          [
           "Dec"
          ],
          [
           "Feb"
          ],
          [
           "Jan"
          ],
          [
           "Jul"
          ],
          [
           "Jun"
          ],
          [
           "Mar"
          ],
          [
           "May"
          ],
          [
           "Nov"
          ],
          [
           "Oct"
          ],
          [
           "Sep"
          ],
          [
           "Apr"
          ],
          [
           "Aug"
          ],
          [
           "Dec"
          ],
          [
           "Feb"
          ],
          [
           "Jan"
          ],
          [
           "Jul"
          ],
          [
           "Jun"
          ],
          [
           "Mar"
          ],
          [
           "May"
          ],
          [
           "Nov"
          ],
          [
           "Oct"
          ],
          [
           "Sep"
          ],
          [
           "Apr"
          ],
          [
           "Aug"
          ],
          [
           "Dec"
          ],
          [
           "Feb"
          ],
          [
           "Jan"
          ],
          [
           "Jul"
          ],
          [
           "Jun"
          ],
          [
           "Mar"
          ],
          [
           "May"
          ],
          [
           "Nov"
          ],
          [
           "Oct"
          ],
          [
           "Sep"
          ],
          [
           "Apr"
          ],
          [
           "Aug"
          ],
          [
           "Dec"
          ],
          [
           "Feb"
          ],
          [
           "Jan"
          ],
          [
           "Jul"
          ],
          [
           "Jun"
          ],
          [
           "Mar"
          ],
          [
           "May"
          ],
          [
           "Nov"
          ],
          [
           "Oct"
          ],
          [
           "Sep"
          ],
          [
           "Apr"
          ],
          [
           "Aug"
          ],
          [
           "Feb"
          ],
          [
           "Jan"
          ],
          [
           "Jul"
          ],
          [
           "Jun"
          ],
          [
           "Mar"
          ],
          [
           "May"
          ],
          [
           "Sep"
          ]
         ],
         "hovertemplate": "commodity=Rice<br>year=%{x}<br>value=%{y}<br>month=%{customdata[0]}<extra></extra>",
         "legendgroup": "Rice",
         "marker": {
          "color": "#00cc96"
         },
         "name": "Rice",
         "notched": false,
         "offsetgroup": "Rice",
         "orientation": "v",
         "showlegend": true,
         "type": "box",
         "x": [
          2019,
          2019,
          2019,
          2019,
          2019,
          2019,
          2019,
          2019,
          2019,
          2019,
          2019,
          2019,
          2020,
          2020,
          2020,
          2020,
          2020,
          2020,
          2020,
          2020,
          2020,
          2020,
          2020,
          2020,
          2021,
          2021,
          2021,
          2021,
          2021,
          2021,
          2021,
          2021,
          2021,
          2021,
          2021,
          2021,
          2022,
          2022,
          2022,
          2022,
          2022,
          2022,
          2022,
          2022,
          2022,
          2022,
          2022,
          2022,
          2023,
          2023,
          2023,
          2023,
          2023,
          2023,
          2023,
          2023,
          2023,
          2023,
          2023,
          2023,
          2024,
          2024,
          2024,
          2024,
          2024,
          2024,
          2024,
          2024,
          2024,
          2019,
          2019,
          2019,
          2019,
          2019,
          2019,
          2019,
          2019,
          2019,
          2019,
          2019,
          2019,
          2020,
          2020,
          2020,
          2020,
          2020,
          2020,
          2020,
          2020,
          2020,
          2020,
          2020,
          2020,
          2021,
          2021,
          2021,
          2021,
          2021,
          2021,
          2021,
          2021,
          2021,
          2021,
          2021,
          2021,
          2022,
          2022,
          2022,
          2022,
          2022,
          2022,
          2022,
          2022,
          2022,
          2022,
          2022,
          2022,
          2023,
          2023,
          2023,
          2023,
          2023,
          2023,
          2023,
          2023,
          2023,
          2023,
          2023,
          2023,
          2024,
          2024,
          2024,
          2024,
          2024,
          2024,
          2024,
          2024,
          2024,
          2019,
          2019,
          2019,
          2019,
          2019,
          2019,
          2019,
          2019,
          2019,
          2019,
          2019,
          2019,
          2020,
          2020,
          2020,
          2020,
          2020,
          2020,
          2020,
          2020,
          2020,
          2020,
          2020,
          2020,
          2021,
          2021,
          2021,
          2021,
          2021,
          2021,
          2021,
          2021,
          2021,
          2021,
          2021,
          2021,
          2022,
          2022,
          2022,
          2022,
          2022,
          2022,
          2022,
          2022,
          2022,
          2022,
          2022,
          2022,
          2023,
          2023,
          2023,
          2023,
          2023,
          2023,
          2023,
          2023,
          2023,
          2023,
          2023,
          2023,
          2024,
          2024,
          2024,
          2024,
          2024,
          2024,
          2024,
          2024,
          2024
         ],
         "x0": " ",
         "xaxis": "x",
         "y": [
          2394.2817044301655,
          2477.652158894646,
          2468.969775755606,
          2361.063749138525,
          2338.263336416898,
          2463.8889636608346,
          2441.487822096717,
          2387.8772622573215,
          2426.486924859318,
          2486.2186666666666,
          2501.753042233357,
          2484.085829686974,
          2554.285977180714,
          2571.3479252165985,
          2389.2531779661017,
          2495.9935308137556,
          2490.774482109228,
          2560.3159984120684,
          2545.9487354750513,
          2492.2646017699117,
          2551.0486342438376,
          2435.002326483133,
          2503.471684587814,
          2553.3887688984883,
          2451.6716666666666,
          2516.0946148092744,
          2484.269189954015,
          2412.5877773452708,
          2409.0257806826435,
          2520.9418733802295,
          2516.139350453172,
          2429.5355709595037,
          2491.755606407323,
          2508.5091125198096,
          2528.900142146411,
          2515.4418841070824,
          2535.413104414856,
          2606.7655677655675,
          2559.19439987163,
          2507.096025186934,
          2495.4733664772725,
          2582.6737363025804,
          2585.2148249828415,
          2529.717160629345,
          2579.602099927589,
          2586.5891878669277,
          2621.6388888888887,
          2610.4749615975425,
          2608.7241379310344,
          2729.3973135383526,
          2748.1037390029323,
          2619.5031206657422,
          2614.089964274115,
          2709.8573651452284,
          2660.0558906882593,
          2584.9084880636606,
          2633.616506463374,
          2743.3793315089915,
          2749.587610556348,
          2724.9830877428,
          2918.6418892760357,
          3126.6442861987116,
          2873.2916819347747,
          2780.621166791324,
          3057.589233278956,
          2946.3058954393773,
          2921.2606886114263,
          2926.012941587968,
          3090,
          2304.4061548867094,
          2380.727115716753,
          2372.802729931752,
          2271.964162646451,
          2251.0826395312984,
          2367.1359353970392,
          2333.319449346982,
          2300.1990786442907,
          2334.9198940748097,
          2396.0523333333335,
          2407.2208303507514,
          2393.540558734433,
          2477.0945896209055,
          2488.9740082079343,
          2323.1857344632767,
          2405.5178753830437,
          2395.376647834275,
          2494.2874156411276,
          2458.9863294600136,
          2408.270353982301,
          2467.1345769487007,
          2377.433889104304,
          2447.5824372759857,
          2491.715262778978,
          2388.1245833333332,
          2455.5878833208676,
          2420.594269543686,
          2350.706500583885,
          2337.559186637618,
          2460.9526101443907,
          2455.85913897281,
          2367.8606348048156,
          2429.3940503432495,
          2447.5364500792393,
          2467.5717839374556,
          2455.540494747543,
          2470.944288717589,
          2544.5964035964034,
          2495.3482028241333,
          2441.504132231405,
          2421.40625,
          2519.0332272887945,
          2521.104667124228,
          2467.7083790706183,
          2514.109341057205,
          2518.957273320287,
          2551.6510416666665,
          2546.551766513057,
          2542.775359892869,
          2657.855072463768,
          2678.3548387096776,
          2554.9365464632456,
          2550.5440077947387,
          2643.26867219917,
          2594.4085695006747,
          2519.9903846153848,
          2567.842890288366,
          2674.794370602033,
          2680.4671897289586,
          2651.9805760214335,
          2849.8474641889275,
          3059.393014581214,
          2804.918285086112,
          2711.647718773373,
          2990.324959216966,
          2880.5494994438263,
          2847.9250851305333,
          2859.242392444911,
          3023.3333333333335,
          2416.193101115996,
          2495.1246977547494,
          2491.7533311667207,
          2385.882150241213,
          2363.3919210607464,
          2479.0245625841185,
          2443.3551006000707,
          2415.7831523527475,
          2449.059913935783,
          2513.984,
          2528.270579813887,
          2509.5981151127567,
          2600.41994847258,
          2611.3885088919287,
          2446.6158192090397,
          2525.747020769493,
          2517.077212806026,
          2614.1417229059152,
          2580.9477101845523,
          2529.0252212389382,
          2595.8844103930714,
          2497.761147731679,
          2564.1293906810038,
          2611.055795536357,
          2509.6454166666667,
          2574.9008975317875,
          2537.8019101521045,
          2474.864927987544,
          2462.4549745824256,
          2582.4509440947795,
          2578.4240936555893,
          2493.5322874863186,
          2556.2004576659037,
          2567.791204437401,
          2587.540867093106,
          2574.384276516435,
          2592.615627189909,
          2669.2051282051284,
          2620.3661745827985,
          2562.438803620622,
          2542.2066761363635,
          2646.914103923648,
          2648.260466712423,
          2589.645810464691,
          2641.9876900796526,
          2648.1865622961514,
          2686.5465277777776,
          2675.9920122887866,
          2671.9333779712088,
          2791.2099681866384,
          2813.2199413489734,
          2683.6827323162274,
          2677.2461838259173,
          2774.72683264177,
          2721.9217273954114,
          2647.7131962864723,
          2695.951607557176,
          2806.641516810008,
          2811.9746790299573,
          2785.0391828533157,
          2984.791715060008,
          3193.004408273991,
          2939.204104067424,
          2846.8511593118924,
          3121.0437194127244,
          3010.5402298850577,
          2988.9591373439275,
          2990.302553340329,
          3155.5555555555557
         ],
         "y0": " ",
         "yaxis": "y"
        },
        {
         "alignmentgroup": "True",
         "customdata": [
          [
           "Apr"
          ],
          [
           "Aug"
          ],
          [
           "Dec"
          ],
          [
           "Feb"
          ],
          [
           "Jan"
          ],
          [
           "Jul"
          ],
          [
           "Jun"
          ],
          [
           "Mar"
          ],
          [
           "May"
          ],
          [
           "Nov"
          ],
          [
           "Oct"
          ],
          [
           "Sep"
          ],
          [
           "Apr"
          ],
          [
           "Aug"
          ],
          [
           "Dec"
          ],
          [
           "Feb"
          ],
          [
           "Jan"
          ],
          [
           "Jul"
          ],
          [
           "Jun"
          ],
          [
           "Mar"
          ],
          [
           "May"
          ],
          [
           "Nov"
          ],
          [
           "Oct"
          ],
          [
           "Sep"
          ],
          [
           "Apr"
          ],
          [
           "Aug"
          ],
          [
           "Dec"
          ],
          [
           "Feb"
          ],
          [
           "Jan"
          ],
          [
           "Jul"
          ],
          [
           "Jun"
          ],
          [
           "Mar"
          ],
          [
           "May"
          ],
          [
           "Nov"
          ],
          [
           "Oct"
          ],
          [
           "Sep"
          ],
          [
           "Apr"
          ],
          [
           "Aug"
          ],
          [
           "Dec"
          ],
          [
           "Feb"
          ],
          [
           "Jan"
          ],
          [
           "Jul"
          ],
          [
           "Jun"
          ],
          [
           "Mar"
          ],
          [
           "May"
          ],
          [
           "Nov"
          ],
          [
           "Oct"
          ],
          [
           "Sep"
          ],
          [
           "Apr"
          ],
          [
           "Aug"
          ],
          [
           "Dec"
          ],
          [
           "Feb"
          ],
          [
           "Jan"
          ],
          [
           "Jul"
          ],
          [
           "Jun"
          ],
          [
           "Mar"
          ],
          [
           "May"
          ],
          [
           "Nov"
          ],
          [
           "Oct"
          ],
          [
           "Sep"
          ],
          [
           "Apr"
          ],
          [
           "Aug"
          ],
          [
           "Feb"
          ],
          [
           "Jan"
          ],
          [
           "Jul"
          ],
          [
           "Jun"
          ],
          [
           "Mar"
          ],
          [
           "May"
          ],
          [
           "Sep"
          ],
          [
           "Apr"
          ],
          [
           "Aug"
          ],
          [
           "Dec"
          ],
          [
           "Feb"
          ],
          [
           "Jan"
          ],
          [
           "Jul"
          ],
          [
           "Jun"
          ],
          [
           "Mar"
          ],
          [
           "May"
          ],
          [
           "Nov"
          ],
          [
           "Oct"
          ],
          [
           "Sep"
          ],
          [
           "Apr"
          ],
          [
           "Aug"
          ],
          [
           "Dec"
          ],
          [
           "Feb"
          ],
          [
           "Jan"
          ],
          [
           "Jul"
          ],
          [
           "Jun"
          ],
          [
           "Mar"
          ],
          [
           "May"
          ],
          [
           "Nov"
          ],
          [
           "Oct"
          ],
          [
           "Sep"
          ],
          [
           "Apr"
          ],
          [
           "Aug"
          ],
          [
           "Dec"
          ],
          [
           "Feb"
          ],
          [
           "Jan"
          ],
          [
           "Jul"
          ],
          [
           "Jun"
          ],
          [
           "Mar"
          ],
          [
           "May"
          ],
          [
           "Nov"
          ],
          [
           "Oct"
          ],
          [
           "Sep"
          ],
          [
           "Apr"
          ],
          [
           "Aug"
          ],
          [
           "Dec"
          ],
          [
           "Feb"
          ],
          [
           "Jan"
          ],
          [
           "Jul"
          ],
          [
           "Jun"
          ],
          [
           "Mar"
          ],
          [
           "May"
          ],
          [
           "Nov"
          ],
          [
           "Oct"
          ],
          [
           "Sep"
          ],
          [
           "Apr"
          ],
          [
           "Aug"
          ],
          [
           "Dec"
          ],
          [
           "Feb"
          ],
          [
           "Jan"
          ],
          [
           "Jul"
          ],
          [
           "Jun"
          ],
          [
           "Mar"
          ],
          [
           "May"
          ],
          [
           "Nov"
          ],
          [
           "Oct"
          ],
          [
           "Sep"
          ],
          [
           "Apr"
          ],
          [
           "Aug"
          ],
          [
           "Feb"
          ],
          [
           "Jan"
          ],
          [
           "Jul"
          ],
          [
           "Jun"
          ],
          [
           "Mar"
          ],
          [
           "May"
          ],
          [
           "Sep"
          ],
          [
           "Apr"
          ],
          [
           "Aug"
          ],
          [
           "Dec"
          ],
          [
           "Feb"
          ],
          [
           "Jan"
          ],
          [
           "Jul"
          ],
          [
           "Jun"
          ],
          [
           "Mar"
          ],
          [
           "May"
          ],
          [
           "Nov"
          ],
          [
           "Oct"
          ],
          [
           "Sep"
          ],
          [
           "Apr"
          ],
          [
           "Aug"
          ],
          [
           "Dec"
          ],
          [
           "Feb"
          ],
          [
           "Jan"
          ],
          [
           "Jul"
          ],
          [
           "Jun"
          ],
          [
           "Mar"
          ],
          [
           "May"
          ],
          [
           "Nov"
          ],
          [
           "Oct"
          ],
          [
           "Sep"
          ],
          [
           "Apr"
          ],
          [
           "Aug"
          ],
          [
           "Dec"
          ],
          [
           "Feb"
          ],
          [
           "Jan"
          ],
          [
           "Jul"
          ],
          [
           "Jun"
          ],
          [
           "Mar"
          ],
          [
           "May"
          ],
          [
           "Nov"
          ],
          [
           "Oct"
          ],
          [
           "Sep"
          ],
          [
           "Apr"
          ],
          [
           "Aug"
          ],
          [
           "Dec"
          ],
          [
           "Feb"
          ],
          [
           "Jan"
          ],
          [
           "Jul"
          ],
          [
           "Jun"
          ],
          [
           "Mar"
          ],
          [
           "May"
          ],
          [
           "Nov"
          ],
          [
           "Oct"
          ],
          [
           "Sep"
          ],
          [
           "Apr"
          ],
          [
           "Aug"
          ],
          [
           "Dec"
          ],
          [
           "Feb"
          ],
          [
           "Jan"
          ],
          [
           "Jul"
          ],
          [
           "Jun"
          ],
          [
           "Mar"
          ],
          [
           "May"
          ],
          [
           "Nov"
          ],
          [
           "Oct"
          ],
          [
           "Sep"
          ],
          [
           "Apr"
          ],
          [
           "Aug"
          ],
          [
           "Feb"
          ],
          [
           "Jan"
          ],
          [
           "Jul"
          ],
          [
           "Jun"
          ],
          [
           "Mar"
          ],
          [
           "May"
          ],
          [
           "Sep"
          ]
         ],
         "hovertemplate": "commodity=Wheat<br>year=%{x}<br>value=%{y}<br>month=%{customdata[0]}<extra></extra>",
         "legendgroup": "Wheat",
         "marker": {
          "color": "#ab63fa"
         },
         "name": "Wheat",
         "notched": false,
         "offsetgroup": "Wheat",
         "orientation": "v",
         "showlegend": true,
         "type": "box",
         "x": [
          2019,
          2019,
          2019,
          2019,
          2019,
          2019,
          2019,
          2019,
          2019,
          2019,
          2019,
          2019,
          2020,
          2020,
          2020,
          2020,
          2020,
          2020,
          2020,
          2020,
          2020,
          2020,
          2020,
          2020,
          2021,
          2021,
          2021,
          2021,
          2021,
          2021,
          2021,
          2021,
          2021,
          2021,
          2021,
          2021,
          2022,
          2022,
          2022,
          2022,
          2022,
          2022,
          2022,
          2022,
          2022,
          2022,
          2022,
          2022,
          2023,
          2023,
          2023,
          2023,
          2023,
          2023,
          2023,
          2023,
          2023,
          2023,
          2023,
          2023,
          2024,
          2024,
          2024,
          2024,
          2024,
          2024,
          2024,
          2024,
          2024,
          2019,
          2019,
          2019,
          2019,
          2019,
          2019,
          2019,
          2019,
          2019,
          2019,
          2019,
          2019,
          2020,
          2020,
          2020,
          2020,
          2020,
          2020,
          2020,
          2020,
          2020,
          2020,
          2020,
          2020,
          2021,
          2021,
          2021,
          2021,
          2021,
          2021,
          2021,
          2021,
          2021,
          2021,
          2021,
          2021,
          2022,
          2022,
          2022,
          2022,
          2022,
          2022,
          2022,
          2022,
          2022,
          2022,
          2022,
          2022,
          2023,
          2023,
          2023,
          2023,
          2023,
          2023,
          2023,
          2023,
          2023,
          2023,
          2023,
          2023,
          2024,
          2024,
          2024,
          2024,
          2024,
          2024,
          2024,
          2024,
          2024,
          2019,
          2019,
          2019,
          2019,
          2019,
          2019,
          2019,
          2019,
          2019,
          2019,
          2019,
          2019,
          2020,
          2020,
          2020,
          2020,
          2020,
          2020,
          2020,
          2020,
          2020,
          2020,
          2020,
          2020,
          2021,
          2021,
          2021,
          2021,
          2021,
          2021,
          2021,
          2021,
          2021,
          2021,
          2021,
          2021,
          2022,
          2022,
          2022,
          2022,
          2022,
          2022,
          2022,
          2022,
          2022,
          2022,
          2022,
          2022,
          2023,
          2023,
          2023,
          2023,
          2023,
          2023,
          2023,
          2023,
          2023,
          2023,
          2023,
          2023,
          2024,
          2024,
          2024,
          2024,
          2024,
          2024,
          2024,
          2024,
          2024
         ],
         "x0": " ",
         "xaxis": "x",
         "y": [
          1840.396870189841,
          1879.0625608568646,
          1962.8032704402515,
          1902.199784308439,
          1868.57636539391,
          1836.0352721326792,
          1834.767340376665,
          1908.2156095014357,
          1830.2111087465419,
          1937.8215353938185,
          1920.9528823374571,
          1896.5496909177366,
          1952.898538011696,
          1839.958573072497,
          1673.9327003630272,
          2003.4113227797156,
          2016.5308580030105,
          1893.508743523316,
          1918.8556675062973,
          1988.0833035395067,
          1918.3033026286228,
          1693.0700225879316,
          1706.4356261022929,
          1767.2508290624057,
          1901.0182323856613,
          1707.264740221833,
          1915.6826451053998,
          1703.7096194186395,
          1698.9874893375036,
          1701.777025036819,
          1917.0315990193408,
          1684.5751160092807,
          1960.3208478513357,
          1909.8830389870043,
          1867.829037037037,
          1800.609809264305,
          2037.3317013463893,
          2216.6079958463138,
          2543.5497490129724,
          1966.1152,
          1930.365165336374,
          2067.4338552915765,
          2039.7682811016145,
          2020.187125748503,
          2051.4545454545455,
          2429.981083123426,
          2304.8271604938273,
          2265.982939312698,
          2152.474087311718,
          2280.8592929577467,
          2456.9651126891017,
          2540.6370322993284,
          2675.354104254044,
          2251.9295292829775,
          2242.3218445859875,
          2248.374554102259,
          2164.644807411019,
          2442.170101406608,
          2339.8380561299855,
          2308.5505052974736,
          2336.463962729515,
          2462.48182055977,
          2477.052597612133,
          2485.72352,
          2422.5162767039674,
          2378.2288871349647,
          2445.804211911813,
          2325.8282252316467,
          2481.4666666666667,
          1780.0174448435096,
          1824.8349561830576,
          1901.1524528301886,
          1845.813696414128,
          1816.3508941517641,
          1793.9366970334033,
          1785.546623794212,
          1849.876533542156,
          1770.2094062566503,
          1880.163260219342,
          1866.3851013424585,
          1846.8495007132667,
          1903.6538011695907,
          1781.8454161871884,
          1632.4454063110863,
          1939.3471961363027,
          1945.175112895133,
          1840.3785621761658,
          1861.1599496221663,
          1932.294243832678,
          1867.121321051449,
          1653.0903517263635,
          1667.5088183421517,
          1721.9782936388303,
          1827.3618665018541,
          1662.324284880327,
          1870.1053999422465,
          1664.6359005094396,
          1655.3087858970714,
          1656.5419734904272,
          1804.9553255243802,
          1645.9921693735498,
          1860.5017421602788,
          1867.2459180273243,
          1825.7582222222222,
          1757.1367847411443,
          2002.0722154222767,
          2164.268951194185,
          2482.732938522279,
          1917.7888,
          1877.403078677309,
          2025.375,
          2002.5422602089268,
          1972.1946107784431,
          2012.5471515151514,
          2370.3853904282114,
          2251.3257575757575,
          2214.9663660736046,
          2112.4983405667604,
          2228.7938028169015,
          2402.769064526088,
          2481.0617204988807,
          2616.8193529059317,
          2201.3297755883964,
          2187.5735031847134,
          2192.8751486325805,
          2124.2515845928815,
          2385.4779195289498,
          2289.1503692762185,
          2258.0456397718012,
          2301.283365305563,
          2411.6272560816114,
          2425.967731526299,
          2432.34976,
          2374.4155645981687,
          2332.0515653775324,
          2394.49588680487,
          2294.166072701354,
          2399.266666666667,
          1833.1831708568498,
          1888.1032132424536,
          1977.4221383647798,
          1921.416554327312,
          1891.4589173513775,
          1848.480495211399,
          1824.234956361966,
          1928.0274079874707,
          1811.4264737178123,
          1953.3115653040877,
          1936.673861542511,
          1913.2831669044222,
          1974.703216374269,
          1862.0629075565785,
          1716.3557665456576,
          2023.7636168500135,
          2033.7576517812342,
          1908.553756476684,
          1910.5025188916877,
          2013.4075795495173,
          1915.4309144012582,
          1735.8322039367538,
          1749.6572604350383,
          1810.9297558034368,
          1904.7654511742892,
          1755.3272037361355,
          1949.63413225527,
          1748.3596044351214,
          1741.6849587716804,
          1752.3303387334315,
          1906.8733315172976,
          1728.5440835266822,
          1939.3289779326365,
          1949.3478840386538,
          1906.7505185185184,
          1842.559128065395,
          2064.1155446756425,
          2259.7505192107997,
          2591.5324309080656,
          2004.19712,
          1960.7748004561004,
          2106.460043196544,
          2068.9764957264956,
          2061.9745508982037,
          2078.6555151515154,
          2480.009235936188,
          2352.8089225589224,
          2311.805995612966,
          2187.259892775083,
          2326.0774647887324,
          2505.131830811979,
          2590.240166293572,
          2721.9014379868186,
          2297.713464696223,
          2286.893248407643,
          2297.6019619500594,
          2202.2254997562163,
          2489.966306836768,
          2384.768389955687,
          2352.568052159739,
          2371.722937791176,
          2505.665969134188,
          2523.3401097128108,
          2534.68064,
          2462.6370803662257,
          2415.076295711655,
          2492.575189206976,
          2358.7317652649085,
          2528.5333333333333
         ],
         "y0": " ",
         "yaxis": "y"
        }
       ],
       "layout": {
        "boxmode": "group",
        "legend": {
         "title": {
          "text": "commodity"
         },
         "tracegroupgap": 0
        },
        "margin": {
         "t": 60
        },
        "template": {
         "data": {
          "bar": [
           {
            "error_x": {
             "color": "#2a3f5f"
            },
            "error_y": {
             "color": "#2a3f5f"
            },
            "marker": {
             "line": {
              "color": "#E5ECF6",
              "width": 0.5
             },
             "pattern": {
              "fillmode": "overlay",
              "size": 10,
              "solidity": 0.2
             }
            },
            "type": "bar"
           }
          ],
          "barpolar": [
           {
            "marker": {
             "line": {
              "color": "#E5ECF6",
              "width": 0.5
             },
             "pattern": {
              "fillmode": "overlay",
              "size": 10,
              "solidity": 0.2
             }
            },
            "type": "barpolar"
           }
          ],
          "carpet": [
           {
            "aaxis": {
             "endlinecolor": "#2a3f5f",
             "gridcolor": "white",
             "linecolor": "white",
             "minorgridcolor": "white",
             "startlinecolor": "#2a3f5f"
            },
            "baxis": {
             "endlinecolor": "#2a3f5f",
             "gridcolor": "white",
             "linecolor": "white",
             "minorgridcolor": "white",
             "startlinecolor": "#2a3f5f"
            },
            "type": "carpet"
           }
          ],
          "choropleth": [
           {
            "colorbar": {
             "outlinewidth": 0,
             "ticks": ""
            },
            "type": "choropleth"
           }
          ],
          "contour": [
           {
            "colorbar": {
             "outlinewidth": 0,
             "ticks": ""
            },
            "colorscale": [
             [
              0,
              "#0d0887"
             ],
             [
              0.1111111111111111,
              "#46039f"
             ],
             [
              0.2222222222222222,
              "#7201a8"
             ],
             [
              0.3333333333333333,
              "#9c179e"
             ],
             [
              0.4444444444444444,
              "#bd3786"
             ],
             [
              0.5555555555555556,
              "#d8576b"
             ],
             [
              0.6666666666666666,
              "#ed7953"
             ],
             [
              0.7777777777777778,
              "#fb9f3a"
             ],
             [
              0.8888888888888888,
              "#fdca26"
             ],
             [
              1,
              "#f0f921"
             ]
            ],
            "type": "contour"
           }
          ],
          "contourcarpet": [
           {
            "colorbar": {
             "outlinewidth": 0,
             "ticks": ""
            },
            "type": "contourcarpet"
           }
          ],
          "heatmap": [
           {
            "colorbar": {
             "outlinewidth": 0,
             "ticks": ""
            },
            "colorscale": [
             [
              0,
              "#0d0887"
             ],
             [
              0.1111111111111111,
              "#46039f"
             ],
             [
              0.2222222222222222,
              "#7201a8"
             ],
             [
              0.3333333333333333,
              "#9c179e"
             ],
             [
              0.4444444444444444,
              "#bd3786"
             ],
             [
              0.5555555555555556,
              "#d8576b"
             ],
             [
              0.6666666666666666,
              "#ed7953"
             ],
             [
              0.7777777777777778,
              "#fb9f3a"
             ],
             [
              0.8888888888888888,
              "#fdca26"
             ],
             [
              1,
              "#f0f921"
             ]
            ],
            "type": "heatmap"
           }
          ],
          "heatmapgl": [
           {
            "colorbar": {
             "outlinewidth": 0,
             "ticks": ""
            },
            "colorscale": [
             [
              0,
              "#0d0887"
             ],
             [
              0.1111111111111111,
              "#46039f"
             ],
             [
              0.2222222222222222,
              "#7201a8"
             ],
             [
              0.3333333333333333,
              "#9c179e"
             ],
             [
              0.4444444444444444,
              "#bd3786"
             ],
             [
              0.5555555555555556,
              "#d8576b"
             ],
             [
              0.6666666666666666,
              "#ed7953"
             ],
             [
              0.7777777777777778,
              "#fb9f3a"
             ],
             [
              0.8888888888888888,
              "#fdca26"
             ],
             [
              1,
              "#f0f921"
             ]
            ],
            "type": "heatmapgl"
           }
          ],
          "histogram": [
           {
            "marker": {
             "pattern": {
              "fillmode": "overlay",
              "size": 10,
              "solidity": 0.2
             }
            },
            "type": "histogram"
           }
          ],
          "histogram2d": [
           {
            "colorbar": {
             "outlinewidth": 0,
             "ticks": ""
            },
            "colorscale": [
             [
              0,
              "#0d0887"
             ],
             [
              0.1111111111111111,
              "#46039f"
             ],
             [
              0.2222222222222222,
              "#7201a8"
             ],
             [
              0.3333333333333333,
              "#9c179e"
             ],
             [
              0.4444444444444444,
              "#bd3786"
             ],
             [
              0.5555555555555556,
              "#d8576b"
             ],
             [
              0.6666666666666666,
              "#ed7953"
             ],
             [
              0.7777777777777778,
              "#fb9f3a"
             ],
             [
              0.8888888888888888,
              "#fdca26"
             ],
             [
              1,
              "#f0f921"
             ]
            ],
            "type": "histogram2d"
           }
          ],
          "histogram2dcontour": [
           {
            "colorbar": {
             "outlinewidth": 0,
             "ticks": ""
            },
            "colorscale": [
             [
              0,
              "#0d0887"
             ],
             [
              0.1111111111111111,
              "#46039f"
             ],
             [
              0.2222222222222222,
              "#7201a8"
             ],
             [
              0.3333333333333333,
              "#9c179e"
             ],
             [
              0.4444444444444444,
              "#bd3786"
             ],
             [
              0.5555555555555556,
              "#d8576b"
             ],
             [
              0.6666666666666666,
              "#ed7953"
             ],
             [
              0.7777777777777778,
              "#fb9f3a"
             ],
             [
              0.8888888888888888,
              "#fdca26"
             ],
             [
              1,
              "#f0f921"
             ]
            ],
            "type": "histogram2dcontour"
           }
          ],
          "mesh3d": [
           {
            "colorbar": {
             "outlinewidth": 0,
             "ticks": ""
            },
            "type": "mesh3d"
           }
          ],
          "parcoords": [
           {
            "line": {
             "colorbar": {
              "outlinewidth": 0,
              "ticks": ""
             }
            },
            "type": "parcoords"
           }
          ],
          "pie": [
           {
            "automargin": true,
            "type": "pie"
           }
          ],
          "scatter": [
           {
            "fillpattern": {
             "fillmode": "overlay",
             "size": 10,
             "solidity": 0.2
            },
            "type": "scatter"
           }
          ],
          "scatter3d": [
           {
            "line": {
             "colorbar": {
              "outlinewidth": 0,
              "ticks": ""
             }
            },
            "marker": {
             "colorbar": {
              "outlinewidth": 0,
              "ticks": ""
             }
            },
            "type": "scatter3d"
           }
          ],
          "scattercarpet": [
           {
            "marker": {
             "colorbar": {
              "outlinewidth": 0,
              "ticks": ""
             }
            },
            "type": "scattercarpet"
           }
          ],
          "scattergeo": [
           {
            "marker": {
             "colorbar": {
              "outlinewidth": 0,
              "ticks": ""
             }
            },
            "type": "scattergeo"
           }
          ],
          "scattergl": [
           {
            "marker": {
             "colorbar": {
              "outlinewidth": 0,
              "ticks": ""
             }
            },
            "type": "scattergl"
           }
          ],
          "scattermapbox": [
           {
            "marker": {
             "colorbar": {
              "outlinewidth": 0,
              "ticks": ""
             }
            },
            "type": "scattermapbox"
           }
          ],
          "scatterpolar": [
           {
            "marker": {
             "colorbar": {
              "outlinewidth": 0,
              "ticks": ""
             }
            },
            "type": "scatterpolar"
           }
          ],
          "scatterpolargl": [
           {
            "marker": {
             "colorbar": {
              "outlinewidth": 0,
              "ticks": ""
             }
            },
            "type": "scatterpolargl"
           }
          ],
          "scatterternary": [
           {
            "marker": {
             "colorbar": {
              "outlinewidth": 0,
              "ticks": ""
             }
            },
            "type": "scatterternary"
           }
          ],
          "surface": [
           {
            "colorbar": {
             "outlinewidth": 0,
             "ticks": ""
            },
            "colorscale": [
             [
              0,
              "#0d0887"
             ],
             [
              0.1111111111111111,
              "#46039f"
             ],
             [
              0.2222222222222222,
              "#7201a8"
             ],
             [
              0.3333333333333333,
              "#9c179e"
             ],
             [
              0.4444444444444444,
              "#bd3786"
             ],
             [
              0.5555555555555556,
              "#d8576b"
             ],
             [
              0.6666666666666666,
              "#ed7953"
             ],
             [
              0.7777777777777778,
              "#fb9f3a"
             ],
             [
              0.8888888888888888,
              "#fdca26"
             ],
             [
              1,
              "#f0f921"
             ]
            ],
            "type": "surface"
           }
          ],
          "table": [
           {
            "cells": {
             "fill": {
              "color": "#EBF0F8"
             },
             "line": {
              "color": "white"
             }
            },
            "header": {
             "fill": {
              "color": "#C8D4E3"
             },
             "line": {
              "color": "white"
             }
            },
            "type": "table"
           }
          ]
         },
         "layout": {
          "annotationdefaults": {
           "arrowcolor": "#2a3f5f",
           "arrowhead": 0,
           "arrowwidth": 1
          },
          "autotypenumbers": "strict",
          "coloraxis": {
           "colorbar": {
            "outlinewidth": 0,
            "ticks": ""
           }
          },
          "colorscale": {
           "diverging": [
            [
             0,
             "#8e0152"
            ],
            [
             0.1,
             "#c51b7d"
            ],
            [
             0.2,
             "#de77ae"
            ],
            [
             0.3,
             "#f1b6da"
            ],
            [
             0.4,
             "#fde0ef"
            ],
            [
             0.5,
             "#f7f7f7"
            ],
            [
             0.6,
             "#e6f5d0"
            ],
            [
             0.7,
             "#b8e186"
            ],
            [
             0.8,
             "#7fbc41"
            ],
            [
             0.9,
             "#4d9221"
            ],
            [
             1,
             "#276419"
            ]
           ],
           "sequential": [
            [
             0,
             "#0d0887"
            ],
            [
             0.1111111111111111,
             "#46039f"
            ],
            [
             0.2222222222222222,
             "#7201a8"
            ],
            [
             0.3333333333333333,
             "#9c179e"
            ],
            [
             0.4444444444444444,
             "#bd3786"
            ],
            [
             0.5555555555555556,
             "#d8576b"
            ],
            [
             0.6666666666666666,
             "#ed7953"
            ],
            [
             0.7777777777777778,
             "#fb9f3a"
            ],
            [
             0.8888888888888888,
             "#fdca26"
            ],
            [
             1,
             "#f0f921"
            ]
           ],
           "sequentialminus": [
            [
             0,
             "#0d0887"
            ],
            [
             0.1111111111111111,
             "#46039f"
            ],
            [
             0.2222222222222222,
             "#7201a8"
            ],
            [
             0.3333333333333333,
             "#9c179e"
            ],
            [
             0.4444444444444444,
             "#bd3786"
            ],
            [
             0.5555555555555556,
             "#d8576b"
            ],
            [
             0.6666666666666666,
             "#ed7953"
            ],
            [
             0.7777777777777778,
             "#fb9f3a"
            ],
            [
             0.8888888888888888,
             "#fdca26"
            ],
            [
             1,
             "#f0f921"
            ]
           ]
          },
          "colorway": [
           "#636efa",
           "#EF553B",
           "#00cc96",
           "#ab63fa",
           "#FFA15A",
           "#19d3f3",
           "#FF6692",
           "#B6E880",
           "#FF97FF",
           "#FECB52"
          ],
          "font": {
           "color": "#2a3f5f"
          },
          "geo": {
           "bgcolor": "white",
           "lakecolor": "white",
           "landcolor": "#E5ECF6",
           "showlakes": true,
           "showland": true,
           "subunitcolor": "white"
          },
          "hoverlabel": {
           "align": "left"
          },
          "hovermode": "closest",
          "mapbox": {
           "style": "light"
          },
          "paper_bgcolor": "white",
          "plot_bgcolor": "#E5ECF6",
          "polar": {
           "angularaxis": {
            "gridcolor": "white",
            "linecolor": "white",
            "ticks": ""
           },
           "bgcolor": "#E5ECF6",
           "radialaxis": {
            "gridcolor": "white",
            "linecolor": "white",
            "ticks": ""
           }
          },
          "scene": {
           "xaxis": {
            "backgroundcolor": "#E5ECF6",
            "gridcolor": "white",
            "gridwidth": 2,
            "linecolor": "white",
            "showbackground": true,
            "ticks": "",
            "zerolinecolor": "white"
           },
           "yaxis": {
            "backgroundcolor": "#E5ECF6",
            "gridcolor": "white",
            "gridwidth": 2,
            "linecolor": "white",
            "showbackground": true,
            "ticks": "",
            "zerolinecolor": "white"
           },
           "zaxis": {
            "backgroundcolor": "#E5ECF6",
            "gridcolor": "white",
            "gridwidth": 2,
            "linecolor": "white",
            "showbackground": true,
            "ticks": "",
            "zerolinecolor": "white"
           }
          },
          "shapedefaults": {
           "line": {
            "color": "#2a3f5f"
           }
          },
          "ternary": {
           "aaxis": {
            "gridcolor": "white",
            "linecolor": "white",
            "ticks": ""
           },
           "baxis": {
            "gridcolor": "white",
            "linecolor": "white",
            "ticks": ""
           },
           "bgcolor": "#E5ECF6",
           "caxis": {
            "gridcolor": "white",
            "linecolor": "white",
            "ticks": ""
           }
          },
          "title": {
           "x": 0.05
          },
          "xaxis": {
           "automargin": true,
           "gridcolor": "white",
           "linecolor": "white",
           "ticks": "",
           "title": {
            "standoff": 15
           },
           "zerolinecolor": "white",
           "zerolinewidth": 2
          },
          "yaxis": {
           "automargin": true,
           "gridcolor": "white",
           "linecolor": "white",
           "ticks": "",
           "title": {
            "standoff": 15
           },
           "zerolinecolor": "white",
           "zerolinewidth": 2
          }
         }
        },
        "xaxis": {
         "anchor": "y",
         "domain": [
          0,
          1
         ],
         "title": {
          "text": "year"
         }
        },
        "yaxis": {
         "anchor": "x",
         "domain": [
          0,
          1
         ],
         "range": [
          0,
          10000
         ],
         "title": {
          "text": "value"
         }
        }
       }
      }
     },
     "metadata": {},
     "output_type": "display_data"
    }
   ],
   "source": [
    "px.box(\n",
    "    data_frame=up_5yrs_plot,\n",
    "    x=up_5yrs_plot[\"year\"],\n",
    "    y=[\n",
    "        up_5yrs_plot[\"modal_rs_quintal\"],\n",
    "        up_5yrs_plot[\"min_rs_quintal\"],\n",
    "        up_5yrs_plot[\"max_rs_quintal\"],\n",
    "    ],\n",
    "    color=up_5yrs_plot[\"commodity\"],\n",
    "    range_y=[0,10000],\n",
    "    hover_data=\"month\"\n",
    ")"
   ]
  },
  {
   "cell_type": "code",
   "execution_count": 31,
   "metadata": {},
   "outputs": [],
   "source": [
    "mp_yearly_district = (\n",
    "    mp_5yrs.groupby([\"year\",\"district_name\",\"commodity\"])\n",
    "    .agg(\n",
    "        {\"modal_rs_quintal\": \"mean\", \"min_rs_quintal\": \"mean\", \"max_rs_quintal\": \"mean\"}\n",
    "    )\n",
    "    .reset_index()\n",
    ")"
   ]
  },
  {
   "cell_type": "code",
   "execution_count": 32,
   "metadata": {},
   "outputs": [
    {
     "data": {
      "text/html": [
       "<div>\n",
       "<style scoped>\n",
       "    .dataframe tbody tr th:only-of-type {\n",
       "        vertical-align: middle;\n",
       "    }\n",
       "\n",
       "    .dataframe tbody tr th {\n",
       "        vertical-align: top;\n",
       "    }\n",
       "\n",
       "    .dataframe thead th {\n",
       "        text-align: right;\n",
       "    }\n",
       "</style>\n",
       "<table border=\"1\" class=\"dataframe\">\n",
       "  <thead>\n",
       "    <tr style=\"text-align: right;\">\n",
       "      <th></th>\n",
       "      <th>Unnamed: 0</th>\n",
       "      <th>district_name</th>\n",
       "      <th>market_name</th>\n",
       "      <th>commodity</th>\n",
       "      <th>variety</th>\n",
       "      <th>grade</th>\n",
       "      <th>min_rs_quintal</th>\n",
       "      <th>max_rs_quintal</th>\n",
       "      <th>modal_rs_quintal</th>\n",
       "      <th>date</th>\n",
       "      <th>year</th>\n",
       "      <th>month</th>\n",
       "      <th>day_of_month</th>\n",
       "    </tr>\n",
       "  </thead>\n",
       "  <tbody>\n",
       "    <tr>\n",
       "      <th>0</th>\n",
       "      <td>446185</td>\n",
       "      <td>Auraiya</td>\n",
       "      <td>Achalda</td>\n",
       "      <td>Potato</td>\n",
       "      <td>Badshah</td>\n",
       "      <td>FAQ</td>\n",
       "      <td>600.0</td>\n",
       "      <td>700.0</td>\n",
       "      <td>670.0</td>\n",
       "      <td>04 Oct 2019</td>\n",
       "      <td>2019</td>\n",
       "      <td>Oct</td>\n",
       "      <td>4</td>\n",
       "    </tr>\n",
       "    <tr>\n",
       "      <th>1</th>\n",
       "      <td>446186</td>\n",
       "      <td>Auraiya</td>\n",
       "      <td>Achalda</td>\n",
       "      <td>Potato</td>\n",
       "      <td>Badshah</td>\n",
       "      <td>FAQ</td>\n",
       "      <td>780.0</td>\n",
       "      <td>820.0</td>\n",
       "      <td>800.0</td>\n",
       "      <td>05 Dec 2019</td>\n",
       "      <td>2019</td>\n",
       "      <td>Dec</td>\n",
       "      <td>5</td>\n",
       "    </tr>\n",
       "    <tr>\n",
       "      <th>2</th>\n",
       "      <td>446187</td>\n",
       "      <td>Auraiya</td>\n",
       "      <td>Achalda</td>\n",
       "      <td>Potato</td>\n",
       "      <td>Badshah</td>\n",
       "      <td>FAQ</td>\n",
       "      <td>850.0</td>\n",
       "      <td>920.0</td>\n",
       "      <td>900.0</td>\n",
       "      <td>17 Dec 2019</td>\n",
       "      <td>2019</td>\n",
       "      <td>Dec</td>\n",
       "      <td>17</td>\n",
       "    </tr>\n",
       "    <tr>\n",
       "      <th>3</th>\n",
       "      <td>446188</td>\n",
       "      <td>Auraiya</td>\n",
       "      <td>Achalda</td>\n",
       "      <td>Potato</td>\n",
       "      <td>Badshah</td>\n",
       "      <td>FAQ</td>\n",
       "      <td>890.0</td>\n",
       "      <td>950.0</td>\n",
       "      <td>900.0</td>\n",
       "      <td>18 Oct 2019</td>\n",
       "      <td>2019</td>\n",
       "      <td>Oct</td>\n",
       "      <td>18</td>\n",
       "    </tr>\n",
       "    <tr>\n",
       "      <th>4</th>\n",
       "      <td>446189</td>\n",
       "      <td>Auraiya</td>\n",
       "      <td>Achalda</td>\n",
       "      <td>Potato</td>\n",
       "      <td>Badshah</td>\n",
       "      <td>FAQ</td>\n",
       "      <td>1000.0</td>\n",
       "      <td>1090.0</td>\n",
       "      <td>1060.0</td>\n",
       "      <td>29 Jan 2020</td>\n",
       "      <td>2020</td>\n",
       "      <td>Jan</td>\n",
       "      <td>29</td>\n",
       "    </tr>\n",
       "    <tr>\n",
       "      <th>...</th>\n",
       "      <td>...</td>\n",
       "      <td>...</td>\n",
       "      <td>...</td>\n",
       "      <td>...</td>\n",
       "      <td>...</td>\n",
       "      <td>...</td>\n",
       "      <td>...</td>\n",
       "      <td>...</td>\n",
       "      <td>...</td>\n",
       "      <td>...</td>\n",
       "      <td>...</td>\n",
       "      <td>...</td>\n",
       "      <td>...</td>\n",
       "    </tr>\n",
       "    <tr>\n",
       "      <th>1226689</th>\n",
       "      <td>2383601</td>\n",
       "      <td>Badaun</td>\n",
       "      <td>Wazirganj</td>\n",
       "      <td>Rice</td>\n",
       "      <td>III</td>\n",
       "      <td>FAQ</td>\n",
       "      <td>2380.0</td>\n",
       "      <td>2460.0</td>\n",
       "      <td>2420.0</td>\n",
       "      <td>28 Apr 2021</td>\n",
       "      <td>2021</td>\n",
       "      <td>Apr</td>\n",
       "      <td>28</td>\n",
       "    </tr>\n",
       "    <tr>\n",
       "      <th>1226690</th>\n",
       "      <td>2383602</td>\n",
       "      <td>Badaun</td>\n",
       "      <td>Wazirganj</td>\n",
       "      <td>Rice</td>\n",
       "      <td>III</td>\n",
       "      <td>FAQ</td>\n",
       "      <td>2390.0</td>\n",
       "      <td>2485.0</td>\n",
       "      <td>2435.0</td>\n",
       "      <td>17 May 2021</td>\n",
       "      <td>2021</td>\n",
       "      <td>May</td>\n",
       "      <td>17</td>\n",
       "    </tr>\n",
       "    <tr>\n",
       "      <th>1226691</th>\n",
       "      <td>2383603</td>\n",
       "      <td>Badaun</td>\n",
       "      <td>Wazirganj</td>\n",
       "      <td>Rice</td>\n",
       "      <td>III</td>\n",
       "      <td>FAQ</td>\n",
       "      <td>2400.0</td>\n",
       "      <td>2480.0</td>\n",
       "      <td>2440.0</td>\n",
       "      <td>27 May 2021</td>\n",
       "      <td>2021</td>\n",
       "      <td>May</td>\n",
       "      <td>27</td>\n",
       "    </tr>\n",
       "    <tr>\n",
       "      <th>1226692</th>\n",
       "      <td>2383604</td>\n",
       "      <td>Badaun</td>\n",
       "      <td>Wazirganj</td>\n",
       "      <td>Rice</td>\n",
       "      <td>III</td>\n",
       "      <td>FAQ</td>\n",
       "      <td>2440.0</td>\n",
       "      <td>2540.0</td>\n",
       "      <td>2490.0</td>\n",
       "      <td>14 Jun 2021</td>\n",
       "      <td>2021</td>\n",
       "      <td>Jun</td>\n",
       "      <td>14</td>\n",
       "    </tr>\n",
       "    <tr>\n",
       "      <th>1226693</th>\n",
       "      <td>2383605</td>\n",
       "      <td>Badaun</td>\n",
       "      <td>Wazirganj</td>\n",
       "      <td>Rice</td>\n",
       "      <td>III</td>\n",
       "      <td>FAQ</td>\n",
       "      <td>2440.0</td>\n",
       "      <td>2540.0</td>\n",
       "      <td>2490.0</td>\n",
       "      <td>23 Aug 2021</td>\n",
       "      <td>2021</td>\n",
       "      <td>Aug</td>\n",
       "      <td>23</td>\n",
       "    </tr>\n",
       "  </tbody>\n",
       "</table>\n",
       "<p>1226694 rows × 13 columns</p>\n",
       "</div>"
      ],
      "text/plain": [
       "         Unnamed: 0 district_name market_name commodity  variety grade  \\\n",
       "0            446185       Auraiya     Achalda    Potato  Badshah   FAQ   \n",
       "1            446186       Auraiya     Achalda    Potato  Badshah   FAQ   \n",
       "2            446187       Auraiya     Achalda    Potato  Badshah   FAQ   \n",
       "3            446188       Auraiya     Achalda    Potato  Badshah   FAQ   \n",
       "4            446189       Auraiya     Achalda    Potato  Badshah   FAQ   \n",
       "...             ...           ...         ...       ...      ...   ...   \n",
       "1226689     2383601        Badaun   Wazirganj      Rice      III   FAQ   \n",
       "1226690     2383602        Badaun   Wazirganj      Rice      III   FAQ   \n",
       "1226691     2383603        Badaun   Wazirganj      Rice      III   FAQ   \n",
       "1226692     2383604        Badaun   Wazirganj      Rice      III   FAQ   \n",
       "1226693     2383605        Badaun   Wazirganj      Rice      III   FAQ   \n",
       "\n",
       "         min_rs_quintal  max_rs_quintal  modal_rs_quintal         date  year  \\\n",
       "0                 600.0           700.0             670.0  04 Oct 2019  2019   \n",
       "1                 780.0           820.0             800.0  05 Dec 2019  2019   \n",
       "2                 850.0           920.0             900.0  17 Dec 2019  2019   \n",
       "3                 890.0           950.0             900.0  18 Oct 2019  2019   \n",
       "4                1000.0          1090.0            1060.0  29 Jan 2020  2020   \n",
       "...                 ...             ...               ...          ...   ...   \n",
       "1226689          2380.0          2460.0            2420.0  28 Apr 2021  2021   \n",
       "1226690          2390.0          2485.0            2435.0  17 May 2021  2021   \n",
       "1226691          2400.0          2480.0            2440.0  27 May 2021  2021   \n",
       "1226692          2440.0          2540.0            2490.0  14 Jun 2021  2021   \n",
       "1226693          2440.0          2540.0            2490.0  23 Aug 2021  2021   \n",
       "\n",
       "        month  day_of_month  \n",
       "0         Oct             4  \n",
       "1         Dec             5  \n",
       "2         Dec            17  \n",
       "3         Oct            18  \n",
       "4         Jan            29  \n",
       "...       ...           ...  \n",
       "1226689   Apr            28  \n",
       "1226690   May            17  \n",
       "1226691   May            27  \n",
       "1226692   Jun            14  \n",
       "1226693   Aug            23  \n",
       "\n",
       "[1226694 rows x 13 columns]"
      ]
     },
     "execution_count": 32,
     "metadata": {},
     "output_type": "execute_result"
    }
   ],
   "source": [
    "up_5yrs"
   ]
  },
  {
   "cell_type": "code",
   "execution_count": 33,
   "metadata": {},
   "outputs": [],
   "source": [
    "up_yearly_district = (\n",
    "    up_5yrs.groupby([\"year\", \"district_name\", \"commodity\"])\n",
    "    .agg(\n",
    "        {\"modal_rs_quintal\": \"mean\", \"min_rs_quintal\": \"mean\", \"max_rs_quintal\": \"mean\"}\n",
    "    )\n",
    "    .reset_index()\n",
    ")"
   ]
  },
  {
   "cell_type": "code",
   "execution_count": null,
   "metadata": {},
   "outputs": [],
   "source": []
  },
  {
   "cell_type": "code",
   "execution_count": 34,
   "metadata": {},
   "outputs": [
    {
     "data": {
      "text/html": [
       "<div>\n",
       "<style scoped>\n",
       "    .dataframe tbody tr th:only-of-type {\n",
       "        vertical-align: middle;\n",
       "    }\n",
       "\n",
       "    .dataframe tbody tr th {\n",
       "        vertical-align: top;\n",
       "    }\n",
       "\n",
       "    .dataframe thead th {\n",
       "        text-align: right;\n",
       "    }\n",
       "</style>\n",
       "<table border=\"1\" class=\"dataframe\">\n",
       "  <thead>\n",
       "    <tr style=\"text-align: right;\">\n",
       "      <th></th>\n",
       "      <th>year</th>\n",
       "      <th>district_name</th>\n",
       "      <th>commodity</th>\n",
       "      <th>modal_rs_quintal</th>\n",
       "      <th>min_rs_quintal</th>\n",
       "      <th>max_rs_quintal</th>\n",
       "    </tr>\n",
       "  </thead>\n",
       "  <tbody>\n",
       "    <tr>\n",
       "      <th>0</th>\n",
       "      <td>2018</td>\n",
       "      <td>Alirajpur</td>\n",
       "      <td>Onion</td>\n",
       "      <td>1400.877193</td>\n",
       "      <td>1305.263158</td>\n",
       "      <td>1476.315789</td>\n",
       "    </tr>\n",
       "    <tr>\n",
       "      <th>1</th>\n",
       "      <td>2018</td>\n",
       "      <td>Alirajpur</td>\n",
       "      <td>Potato</td>\n",
       "      <td>1415.384615</td>\n",
       "      <td>1325.641026</td>\n",
       "      <td>1506.410256</td>\n",
       "    </tr>\n",
       "    <tr>\n",
       "      <th>2</th>\n",
       "      <td>2018</td>\n",
       "      <td>Alirajpur</td>\n",
       "      <td>Wheat</td>\n",
       "      <td>1670.207469</td>\n",
       "      <td>1605.894191</td>\n",
       "      <td>1733.767635</td>\n",
       "    </tr>\n",
       "    <tr>\n",
       "      <th>3</th>\n",
       "      <td>2018</td>\n",
       "      <td>Anupur</td>\n",
       "      <td>Wheat</td>\n",
       "      <td>1716.029508</td>\n",
       "      <td>1710.980328</td>\n",
       "      <td>1719.488525</td>\n",
       "    </tr>\n",
       "    <tr>\n",
       "      <th>4</th>\n",
       "      <td>2018</td>\n",
       "      <td>Ashoknagar</td>\n",
       "      <td>Wheat</td>\n",
       "      <td>1981.976030</td>\n",
       "      <td>1841.968539</td>\n",
       "      <td>2126.259925</td>\n",
       "    </tr>\n",
       "    <tr>\n",
       "      <th>...</th>\n",
       "      <td>...</td>\n",
       "      <td>...</td>\n",
       "      <td>...</td>\n",
       "      <td>...</td>\n",
       "      <td>...</td>\n",
       "      <td>...</td>\n",
       "    </tr>\n",
       "    <tr>\n",
       "      <th>746</th>\n",
       "      <td>2024</td>\n",
       "      <td>Ujjain</td>\n",
       "      <td>Onion</td>\n",
       "      <td>1365.107345</td>\n",
       "      <td>635.850282</td>\n",
       "      <td>1786.748588</td>\n",
       "    </tr>\n",
       "    <tr>\n",
       "      <th>747</th>\n",
       "      <td>2024</td>\n",
       "      <td>Ujjain</td>\n",
       "      <td>Potato</td>\n",
       "      <td>1662.007752</td>\n",
       "      <td>1025.914729</td>\n",
       "      <td>1983.697674</td>\n",
       "    </tr>\n",
       "    <tr>\n",
       "      <th>748</th>\n",
       "      <td>2024</td>\n",
       "      <td>Ujjain</td>\n",
       "      <td>Wheat</td>\n",
       "      <td>2449.169935</td>\n",
       "      <td>2208.668301</td>\n",
       "      <td>2726.221405</td>\n",
       "    </tr>\n",
       "    <tr>\n",
       "      <th>749</th>\n",
       "      <td>2024</td>\n",
       "      <td>Umariya</td>\n",
       "      <td>Wheat</td>\n",
       "      <td>2341.310811</td>\n",
       "      <td>2280.437838</td>\n",
       "      <td>2327.040541</td>\n",
       "    </tr>\n",
       "    <tr>\n",
       "      <th>750</th>\n",
       "      <td>2024</td>\n",
       "      <td>Vidisha</td>\n",
       "      <td>Wheat</td>\n",
       "      <td>2630.759403</td>\n",
       "      <td>2431.609513</td>\n",
       "      <td>3082.277655</td>\n",
       "    </tr>\n",
       "  </tbody>\n",
       "</table>\n",
       "<p>751 rows × 6 columns</p>\n",
       "</div>"
      ],
      "text/plain": [
       "     year district_name commodity  modal_rs_quintal  min_rs_quintal  \\\n",
       "0    2018     Alirajpur     Onion       1400.877193     1305.263158   \n",
       "1    2018     Alirajpur    Potato       1415.384615     1325.641026   \n",
       "2    2018     Alirajpur     Wheat       1670.207469     1605.894191   \n",
       "3    2018        Anupur     Wheat       1716.029508     1710.980328   \n",
       "4    2018    Ashoknagar     Wheat       1981.976030     1841.968539   \n",
       "..    ...           ...       ...               ...             ...   \n",
       "746  2024        Ujjain     Onion       1365.107345      635.850282   \n",
       "747  2024        Ujjain    Potato       1662.007752     1025.914729   \n",
       "748  2024        Ujjain     Wheat       2449.169935     2208.668301   \n",
       "749  2024       Umariya     Wheat       2341.310811     2280.437838   \n",
       "750  2024       Vidisha     Wheat       2630.759403     2431.609513   \n",
       "\n",
       "     max_rs_quintal  \n",
       "0       1476.315789  \n",
       "1       1506.410256  \n",
       "2       1733.767635  \n",
       "3       1719.488525  \n",
       "4       2126.259925  \n",
       "..              ...  \n",
       "746     1786.748588  \n",
       "747     1983.697674  \n",
       "748     2726.221405  \n",
       "749     2327.040541  \n",
       "750     3082.277655  \n",
       "\n",
       "[751 rows x 6 columns]"
      ]
     },
     "execution_count": 34,
     "metadata": {},
     "output_type": "execute_result"
    }
   ],
   "source": [
    "mp_yearly_district"
   ]
  },
  {
   "cell_type": "code",
   "execution_count": 35,
   "metadata": {},
   "outputs": [
    {
     "data": {
      "application/vnd.plotly.v1+json": {
       "config": {
        "plotlyServerURL": "https://plot.ly"
       },
       "data": [
        {
         "alignmentgroup": "True",
         "hovertemplate": "commodity=Onion<br>year=%{x}<br>value=%{y}<extra></extra>",
         "legendgroup": "Onion",
         "marker": {
          "color": "#636efa",
          "pattern": {
           "shape": ""
          }
         },
         "name": "Onion",
         "offsetgroup": "Onion",
         "orientation": "v",
         "showlegend": true,
         "textposition": "auto",
         "type": "bar",
         "x": [
          2018,
          2019,
          2020,
          2021,
          2022,
          2023,
          2024
         ],
         "xaxis": "x",
         "y": [
          869.962522758752,
          1024.3080355609145,
          1572.0500221481534,
          1526.4354729559827,
          976.7071510105741,
          1171.777439814442,
          1511.9710169535958
         ],
         "yaxis": "y"
        },
        {
         "alignmentgroup": "True",
         "hovertemplate": "commodity=Potato<br>year=%{x}<br>value=%{y}<extra></extra>",
         "legendgroup": "Potato",
         "marker": {
          "color": "#EF553B",
          "pattern": {
           "shape": ""
          }
         },
         "name": "Potato",
         "offsetgroup": "Potato",
         "orientation": "v",
         "showlegend": true,
         "textposition": "auto",
         "type": "bar",
         "x": [
          2018,
          2019,
          2020,
          2021,
          2022,
          2023,
          2024
         ],
         "xaxis": "x",
         "y": [
          887.563697112241,
          818.0414087228907,
          1626.0135029190835,
          1042.9292394518407,
          1093.1431665621908,
          976.97786801052,
          1236.7109234318732
         ],
         "yaxis": "y"
        },
        {
         "alignmentgroup": "True",
         "hovertemplate": "commodity=Rice<br>year=%{x}<br>value=%{y}<extra></extra>",
         "legendgroup": "Rice",
         "marker": {
          "color": "#00cc96",
          "pattern": {
           "shape": ""
          }
         },
         "name": "Rice",
         "offsetgroup": "Rice",
         "orientation": "v",
         "showlegend": true,
         "textposition": "auto",
         "type": "bar",
         "x": [
          2018,
          2019,
          2020,
          2021,
          2022,
          2023,
          2024
         ],
         "xaxis": "x",
         "y": [
          2260.6,
          1731.8181818181818,
          0,
          0,
          0,
          3433.5,
          0
         ],
         "yaxis": "y"
        },
        {
         "alignmentgroup": "True",
         "hovertemplate": "commodity=Wheat<br>year=%{x}<br>value=%{y}<extra></extra>",
         "legendgroup": "Wheat",
         "marker": {
          "color": "#ab63fa",
          "pattern": {
           "shape": ""
          }
         },
         "name": "Wheat",
         "offsetgroup": "Wheat",
         "orientation": "v",
         "showlegend": true,
         "textposition": "auto",
         "type": "bar",
         "x": [
          2018,
          2019,
          2020,
          2021,
          2022,
          2023,
          2024
         ],
         "xaxis": "x",
         "y": [
          1770.3277307928913,
          1913.8399562427355,
          1832.559744740951,
          1797.3875868369855,
          2124.7892792291514,
          2303.7267939854896,
          2412.975806556365
         ],
         "yaxis": "y"
        }
       ],
       "layout": {
        "barmode": "group",
        "legend": {
         "title": {
          "text": "commodity"
         },
         "tracegroupgap": 0
        },
        "margin": {
         "t": 60
        },
        "template": {
         "data": {
          "bar": [
           {
            "error_x": {
             "color": "#2a3f5f"
            },
            "error_y": {
             "color": "#2a3f5f"
            },
            "marker": {
             "line": {
              "color": "#E5ECF6",
              "width": 0.5
             },
             "pattern": {
              "fillmode": "overlay",
              "size": 10,
              "solidity": 0.2
             }
            },
            "type": "bar"
           }
          ],
          "barpolar": [
           {
            "marker": {
             "line": {
              "color": "#E5ECF6",
              "width": 0.5
             },
             "pattern": {
              "fillmode": "overlay",
              "size": 10,
              "solidity": 0.2
             }
            },
            "type": "barpolar"
           }
          ],
          "carpet": [
           {
            "aaxis": {
             "endlinecolor": "#2a3f5f",
             "gridcolor": "white",
             "linecolor": "white",
             "minorgridcolor": "white",
             "startlinecolor": "#2a3f5f"
            },
            "baxis": {
             "endlinecolor": "#2a3f5f",
             "gridcolor": "white",
             "linecolor": "white",
             "minorgridcolor": "white",
             "startlinecolor": "#2a3f5f"
            },
            "type": "carpet"
           }
          ],
          "choropleth": [
           {
            "colorbar": {
             "outlinewidth": 0,
             "ticks": ""
            },
            "type": "choropleth"
           }
          ],
          "contour": [
           {
            "colorbar": {
             "outlinewidth": 0,
             "ticks": ""
            },
            "colorscale": [
             [
              0,
              "#0d0887"
             ],
             [
              0.1111111111111111,
              "#46039f"
             ],
             [
              0.2222222222222222,
              "#7201a8"
             ],
             [
              0.3333333333333333,
              "#9c179e"
             ],
             [
              0.4444444444444444,
              "#bd3786"
             ],
             [
              0.5555555555555556,
              "#d8576b"
             ],
             [
              0.6666666666666666,
              "#ed7953"
             ],
             [
              0.7777777777777778,
              "#fb9f3a"
             ],
             [
              0.8888888888888888,
              "#fdca26"
             ],
             [
              1,
              "#f0f921"
             ]
            ],
            "type": "contour"
           }
          ],
          "contourcarpet": [
           {
            "colorbar": {
             "outlinewidth": 0,
             "ticks": ""
            },
            "type": "contourcarpet"
           }
          ],
          "heatmap": [
           {
            "colorbar": {
             "outlinewidth": 0,
             "ticks": ""
            },
            "colorscale": [
             [
              0,
              "#0d0887"
             ],
             [
              0.1111111111111111,
              "#46039f"
             ],
             [
              0.2222222222222222,
              "#7201a8"
             ],
             [
              0.3333333333333333,
              "#9c179e"
             ],
             [
              0.4444444444444444,
              "#bd3786"
             ],
             [
              0.5555555555555556,
              "#d8576b"
             ],
             [
              0.6666666666666666,
              "#ed7953"
             ],
             [
              0.7777777777777778,
              "#fb9f3a"
             ],
             [
              0.8888888888888888,
              "#fdca26"
             ],
             [
              1,
              "#f0f921"
             ]
            ],
            "type": "heatmap"
           }
          ],
          "heatmapgl": [
           {
            "colorbar": {
             "outlinewidth": 0,
             "ticks": ""
            },
            "colorscale": [
             [
              0,
              "#0d0887"
             ],
             [
              0.1111111111111111,
              "#46039f"
             ],
             [
              0.2222222222222222,
              "#7201a8"
             ],
             [
              0.3333333333333333,
              "#9c179e"
             ],
             [
              0.4444444444444444,
              "#bd3786"
             ],
             [
              0.5555555555555556,
              "#d8576b"
             ],
             [
              0.6666666666666666,
              "#ed7953"
             ],
             [
              0.7777777777777778,
              "#fb9f3a"
             ],
             [
              0.8888888888888888,
              "#fdca26"
             ],
             [
              1,
              "#f0f921"
             ]
            ],
            "type": "heatmapgl"
           }
          ],
          "histogram": [
           {
            "marker": {
             "pattern": {
              "fillmode": "overlay",
              "size": 10,
              "solidity": 0.2
             }
            },
            "type": "histogram"
           }
          ],
          "histogram2d": [
           {
            "colorbar": {
             "outlinewidth": 0,
             "ticks": ""
            },
            "colorscale": [
             [
              0,
              "#0d0887"
             ],
             [
              0.1111111111111111,
              "#46039f"
             ],
             [
              0.2222222222222222,
              "#7201a8"
             ],
             [
              0.3333333333333333,
              "#9c179e"
             ],
             [
              0.4444444444444444,
              "#bd3786"
             ],
             [
              0.5555555555555556,
              "#d8576b"
             ],
             [
              0.6666666666666666,
              "#ed7953"
             ],
             [
              0.7777777777777778,
              "#fb9f3a"
             ],
             [
              0.8888888888888888,
              "#fdca26"
             ],
             [
              1,
              "#f0f921"
             ]
            ],
            "type": "histogram2d"
           }
          ],
          "histogram2dcontour": [
           {
            "colorbar": {
             "outlinewidth": 0,
             "ticks": ""
            },
            "colorscale": [
             [
              0,
              "#0d0887"
             ],
             [
              0.1111111111111111,
              "#46039f"
             ],
             [
              0.2222222222222222,
              "#7201a8"
             ],
             [
              0.3333333333333333,
              "#9c179e"
             ],
             [
              0.4444444444444444,
              "#bd3786"
             ],
             [
              0.5555555555555556,
              "#d8576b"
             ],
             [
              0.6666666666666666,
              "#ed7953"
             ],
             [
              0.7777777777777778,
              "#fb9f3a"
             ],
             [
              0.8888888888888888,
              "#fdca26"
             ],
             [
              1,
              "#f0f921"
             ]
            ],
            "type": "histogram2dcontour"
           }
          ],
          "mesh3d": [
           {
            "colorbar": {
             "outlinewidth": 0,
             "ticks": ""
            },
            "type": "mesh3d"
           }
          ],
          "parcoords": [
           {
            "line": {
             "colorbar": {
              "outlinewidth": 0,
              "ticks": ""
             }
            },
            "type": "parcoords"
           }
          ],
          "pie": [
           {
            "automargin": true,
            "type": "pie"
           }
          ],
          "scatter": [
           {
            "fillpattern": {
             "fillmode": "overlay",
             "size": 10,
             "solidity": 0.2
            },
            "type": "scatter"
           }
          ],
          "scatter3d": [
           {
            "line": {
             "colorbar": {
              "outlinewidth": 0,
              "ticks": ""
             }
            },
            "marker": {
             "colorbar": {
              "outlinewidth": 0,
              "ticks": ""
             }
            },
            "type": "scatter3d"
           }
          ],
          "scattercarpet": [
           {
            "marker": {
             "colorbar": {
              "outlinewidth": 0,
              "ticks": ""
             }
            },
            "type": "scattercarpet"
           }
          ],
          "scattergeo": [
           {
            "marker": {
             "colorbar": {
              "outlinewidth": 0,
              "ticks": ""
             }
            },
            "type": "scattergeo"
           }
          ],
          "scattergl": [
           {
            "marker": {
             "colorbar": {
              "outlinewidth": 0,
              "ticks": ""
             }
            },
            "type": "scattergl"
           }
          ],
          "scattermapbox": [
           {
            "marker": {
             "colorbar": {
              "outlinewidth": 0,
              "ticks": ""
             }
            },
            "type": "scattermapbox"
           }
          ],
          "scatterpolar": [
           {
            "marker": {
             "colorbar": {
              "outlinewidth": 0,
              "ticks": ""
             }
            },
            "type": "scatterpolar"
           }
          ],
          "scatterpolargl": [
           {
            "marker": {
             "colorbar": {
              "outlinewidth": 0,
              "ticks": ""
             }
            },
            "type": "scatterpolargl"
           }
          ],
          "scatterternary": [
           {
            "marker": {
             "colorbar": {
              "outlinewidth": 0,
              "ticks": ""
             }
            },
            "type": "scatterternary"
           }
          ],
          "surface": [
           {
            "colorbar": {
             "outlinewidth": 0,
             "ticks": ""
            },
            "colorscale": [
             [
              0,
              "#0d0887"
             ],
             [
              0.1111111111111111,
              "#46039f"
             ],
             [
              0.2222222222222222,
              "#7201a8"
             ],
             [
              0.3333333333333333,
              "#9c179e"
             ],
             [
              0.4444444444444444,
              "#bd3786"
             ],
             [
              0.5555555555555556,
              "#d8576b"
             ],
             [
              0.6666666666666666,
              "#ed7953"
             ],
             [
              0.7777777777777778,
              "#fb9f3a"
             ],
             [
              0.8888888888888888,
              "#fdca26"
             ],
             [
              1,
              "#f0f921"
             ]
            ],
            "type": "surface"
           }
          ],
          "table": [
           {
            "cells": {
             "fill": {
              "color": "#EBF0F8"
             },
             "line": {
              "color": "white"
             }
            },
            "header": {
             "fill": {
              "color": "#C8D4E3"
             },
             "line": {
              "color": "white"
             }
            },
            "type": "table"
           }
          ]
         },
         "layout": {
          "annotationdefaults": {
           "arrowcolor": "#2a3f5f",
           "arrowhead": 0,
           "arrowwidth": 1
          },
          "autotypenumbers": "strict",
          "coloraxis": {
           "colorbar": {
            "outlinewidth": 0,
            "ticks": ""
           }
          },
          "colorscale": {
           "diverging": [
            [
             0,
             "#8e0152"
            ],
            [
             0.1,
             "#c51b7d"
            ],
            [
             0.2,
             "#de77ae"
            ],
            [
             0.3,
             "#f1b6da"
            ],
            [
             0.4,
             "#fde0ef"
            ],
            [
             0.5,
             "#f7f7f7"
            ],
            [
             0.6,
             "#e6f5d0"
            ],
            [
             0.7,
             "#b8e186"
            ],
            [
             0.8,
             "#7fbc41"
            ],
            [
             0.9,
             "#4d9221"
            ],
            [
             1,
             "#276419"
            ]
           ],
           "sequential": [
            [
             0,
             "#0d0887"
            ],
            [
             0.1111111111111111,
             "#46039f"
            ],
            [
             0.2222222222222222,
             "#7201a8"
            ],
            [
             0.3333333333333333,
             "#9c179e"
            ],
            [
             0.4444444444444444,
             "#bd3786"
            ],
            [
             0.5555555555555556,
             "#d8576b"
            ],
            [
             0.6666666666666666,
             "#ed7953"
            ],
            [
             0.7777777777777778,
             "#fb9f3a"
            ],
            [
             0.8888888888888888,
             "#fdca26"
            ],
            [
             1,
             "#f0f921"
            ]
           ],
           "sequentialminus": [
            [
             0,
             "#0d0887"
            ],
            [
             0.1111111111111111,
             "#46039f"
            ],
            [
             0.2222222222222222,
             "#7201a8"
            ],
            [
             0.3333333333333333,
             "#9c179e"
            ],
            [
             0.4444444444444444,
             "#bd3786"
            ],
            [
             0.5555555555555556,
             "#d8576b"
            ],
            [
             0.6666666666666666,
             "#ed7953"
            ],
            [
             0.7777777777777778,
             "#fb9f3a"
            ],
            [
             0.8888888888888888,
             "#fdca26"
            ],
            [
             1,
             "#f0f921"
            ]
           ]
          },
          "colorway": [
           "#636efa",
           "#EF553B",
           "#00cc96",
           "#ab63fa",
           "#FFA15A",
           "#19d3f3",
           "#FF6692",
           "#B6E880",
           "#FF97FF",
           "#FECB52"
          ],
          "font": {
           "color": "#2a3f5f"
          },
          "geo": {
           "bgcolor": "white",
           "lakecolor": "white",
           "landcolor": "#E5ECF6",
           "showlakes": true,
           "showland": true,
           "subunitcolor": "white"
          },
          "hoverlabel": {
           "align": "left"
          },
          "hovermode": "closest",
          "mapbox": {
           "style": "light"
          },
          "paper_bgcolor": "white",
          "plot_bgcolor": "#E5ECF6",
          "polar": {
           "angularaxis": {
            "gridcolor": "white",
            "linecolor": "white",
            "ticks": ""
           },
           "bgcolor": "#E5ECF6",
           "radialaxis": {
            "gridcolor": "white",
            "linecolor": "white",
            "ticks": ""
           }
          },
          "scene": {
           "xaxis": {
            "backgroundcolor": "#E5ECF6",
            "gridcolor": "white",
            "gridwidth": 2,
            "linecolor": "white",
            "showbackground": true,
            "ticks": "",
            "zerolinecolor": "white"
           },
           "yaxis": {
            "backgroundcolor": "#E5ECF6",
            "gridcolor": "white",
            "gridwidth": 2,
            "linecolor": "white",
            "showbackground": true,
            "ticks": "",
            "zerolinecolor": "white"
           },
           "zaxis": {
            "backgroundcolor": "#E5ECF6",
            "gridcolor": "white",
            "gridwidth": 2,
            "linecolor": "white",
            "showbackground": true,
            "ticks": "",
            "zerolinecolor": "white"
           }
          },
          "shapedefaults": {
           "line": {
            "color": "#2a3f5f"
           }
          },
          "ternary": {
           "aaxis": {
            "gridcolor": "white",
            "linecolor": "white",
            "ticks": ""
           },
           "baxis": {
            "gridcolor": "white",
            "linecolor": "white",
            "ticks": ""
           },
           "bgcolor": "#E5ECF6",
           "caxis": {
            "gridcolor": "white",
            "linecolor": "white",
            "ticks": ""
           }
          },
          "title": {
           "x": 0.05
          },
          "xaxis": {
           "automargin": true,
           "gridcolor": "white",
           "linecolor": "white",
           "ticks": "",
           "title": {
            "standoff": 15
           },
           "zerolinecolor": "white",
           "zerolinewidth": 2
          },
          "yaxis": {
           "automargin": true,
           "gridcolor": "white",
           "linecolor": "white",
           "ticks": "",
           "title": {
            "standoff": 15
           },
           "zerolinecolor": "white",
           "zerolinewidth": 2
          }
         }
        },
        "xaxis": {
         "anchor": "y",
         "domain": [
          0,
          1
         ],
         "gridcolor": "#bbbbbb",
         "showgrid": true,
         "title": {
          "text": "year"
         }
        },
        "yaxis": {
         "anchor": "x",
         "domain": [
          0,
          1
         ],
         "showgrid": false,
         "title": {
          "text": "value"
         }
        }
       }
      }
     },
     "metadata": {},
     "output_type": "display_data"
    }
   ],
   "source": [
    "# Pivot the DataFrame to create separate columns for each district\n",
    "mp_pivoted_df = mp_yearly_district.pivot_table(\n",
    "    index=\"year\", columns=\"commodity\", values=\"modal_rs_quintal\", fill_value=0\n",
    ")\n",
    "\n",
    "# Create the grouped bar chart\n",
    "fig = px.bar(\n",
    "    data_frame=mp_pivoted_df,\n",
    "    barmode=\"group\",\n",
    ")\n",
    "fig.update_layout(\n",
    "    xaxis_showgrid=True,  # Add grid lines on the x-axis\n",
    "    yaxis_showgrid=False\n",
    ")\n",
    "\n",
    "# Optionally, customize grid line appearance\n",
    "fig.update_layout(\n",
    "    xaxis_gridcolor=\"#bbbbbb\",  # Set grid line color for x-axis\n",
    ")\n",
    "fig.show()"
   ]
  },
  {
   "cell_type": "code",
   "execution_count": 36,
   "metadata": {},
   "outputs": [
    {
     "data": {
      "application/vnd.plotly.v1+json": {
       "config": {
        "plotlyServerURL": "https://plot.ly"
       },
       "data": [
        {
         "alignmentgroup": "True",
         "hovertemplate": "commodity=Onion<br>year=%{x}<br>value=%{y}<extra></extra>",
         "legendgroup": "Onion",
         "marker": {
          "color": "#636efa",
          "pattern": {
           "shape": ""
          }
         },
         "name": "Onion",
         "offsetgroup": "Onion",
         "orientation": "v",
         "showlegend": true,
         "textposition": "auto",
         "type": "bar",
         "x": [
          2018,
          2019,
          2020,
          2021,
          2022,
          2023,
          2024
         ],
         "xaxis": "x",
         "y": [
          1419.7398681694804,
          1669.9212095289301,
          2241.912673129002,
          2076.4752702087444,
          1547.3511736761072,
          1754.1826985687233,
          2053.5739048528953
         ],
         "yaxis": "y"
        },
        {
         "alignmentgroup": "True",
         "hovertemplate": "commodity=Potato<br>year=%{x}<br>value=%{y}<extra></extra>",
         "legendgroup": "Potato",
         "marker": {
          "color": "#EF553B",
          "pattern": {
           "shape": ""
          }
         },
         "name": "Potato",
         "offsetgroup": "Potato",
         "orientation": "v",
         "showlegend": true,
         "textposition": "auto",
         "type": "bar",
         "x": [
          2018,
          2019,
          2020,
          2021,
          2022,
          2023,
          2024
         ],
         "xaxis": "x",
         "y": [
          988.3625352645574,
          777.6067067355875,
          1819.071117359476,
          957.5477250072729,
          1199.6978447287406,
          926.7382213826077,
          1525.3479937465536
         ],
         "yaxis": "y"
        },
        {
         "alignmentgroup": "True",
         "hovertemplate": "commodity=Rice<br>year=%{x}<br>value=%{y}<extra></extra>",
         "legendgroup": "Rice",
         "marker": {
          "color": "#00cc96",
          "pattern": {
           "shape": ""
          }
         },
         "name": "Rice",
         "offsetgroup": "Rice",
         "orientation": "v",
         "showlegend": true,
         "textposition": "auto",
         "type": "bar",
         "x": [
          2018,
          2019,
          2020,
          2021,
          2022,
          2023,
          2024
         ],
         "xaxis": "x",
         "y": [
          2327.091767908471,
          2463.1665907779256,
          2549.6295961648257,
          2478.131282301615,
          2574.2852668433798,
          2704.6929170702833,
          2959.963966880541
         ],
         "yaxis": "y"
        },
        {
         "alignmentgroup": "True",
         "hovertemplate": "commodity=Wheat<br>year=%{x}<br>value=%{y}<extra></extra>",
         "legendgroup": "Wheat",
         "marker": {
          "color": "#ab63fa",
          "pattern": {
           "shape": ""
          }
         },
         "name": "Wheat",
         "offsetgroup": "Wheat",
         "orientation": "v",
         "showlegend": true,
         "textposition": "auto",
         "type": "bar",
         "x": [
          2018,
          2019,
          2020,
          2021,
          2022,
          2023,
          2024
         ],
         "xaxis": "x",
         "y": [
          1715.2137356189237,
          1881.4883439962039,
          1877.8820946807111,
          1818.6349879617997,
          2152.1134454812814,
          2336.2338479728996,
          2417.911821759033
         ],
         "yaxis": "y"
        }
       ],
       "layout": {
        "barmode": "group",
        "legend": {
         "title": {
          "text": "commodity"
         },
         "tracegroupgap": 0
        },
        "margin": {
         "t": 60
        },
        "template": {
         "data": {
          "bar": [
           {
            "error_x": {
             "color": "#2a3f5f"
            },
            "error_y": {
             "color": "#2a3f5f"
            },
            "marker": {
             "line": {
              "color": "#E5ECF6",
              "width": 0.5
             },
             "pattern": {
              "fillmode": "overlay",
              "size": 10,
              "solidity": 0.2
             }
            },
            "type": "bar"
           }
          ],
          "barpolar": [
           {
            "marker": {
             "line": {
              "color": "#E5ECF6",
              "width": 0.5
             },
             "pattern": {
              "fillmode": "overlay",
              "size": 10,
              "solidity": 0.2
             }
            },
            "type": "barpolar"
           }
          ],
          "carpet": [
           {
            "aaxis": {
             "endlinecolor": "#2a3f5f",
             "gridcolor": "white",
             "linecolor": "white",
             "minorgridcolor": "white",
             "startlinecolor": "#2a3f5f"
            },
            "baxis": {
             "endlinecolor": "#2a3f5f",
             "gridcolor": "white",
             "linecolor": "white",
             "minorgridcolor": "white",
             "startlinecolor": "#2a3f5f"
            },
            "type": "carpet"
           }
          ],
          "choropleth": [
           {
            "colorbar": {
             "outlinewidth": 0,
             "ticks": ""
            },
            "type": "choropleth"
           }
          ],
          "contour": [
           {
            "colorbar": {
             "outlinewidth": 0,
             "ticks": ""
            },
            "colorscale": [
             [
              0,
              "#0d0887"
             ],
             [
              0.1111111111111111,
              "#46039f"
             ],
             [
              0.2222222222222222,
              "#7201a8"
             ],
             [
              0.3333333333333333,
              "#9c179e"
             ],
             [
              0.4444444444444444,
              "#bd3786"
             ],
             [
              0.5555555555555556,
              "#d8576b"
             ],
             [
              0.6666666666666666,
              "#ed7953"
             ],
             [
              0.7777777777777778,
              "#fb9f3a"
             ],
             [
              0.8888888888888888,
              "#fdca26"
             ],
             [
              1,
              "#f0f921"
             ]
            ],
            "type": "contour"
           }
          ],
          "contourcarpet": [
           {
            "colorbar": {
             "outlinewidth": 0,
             "ticks": ""
            },
            "type": "contourcarpet"
           }
          ],
          "heatmap": [
           {
            "colorbar": {
             "outlinewidth": 0,
             "ticks": ""
            },
            "colorscale": [
             [
              0,
              "#0d0887"
             ],
             [
              0.1111111111111111,
              "#46039f"
             ],
             [
              0.2222222222222222,
              "#7201a8"
             ],
             [
              0.3333333333333333,
              "#9c179e"
             ],
             [
              0.4444444444444444,
              "#bd3786"
             ],
             [
              0.5555555555555556,
              "#d8576b"
             ],
             [
              0.6666666666666666,
              "#ed7953"
             ],
             [
              0.7777777777777778,
              "#fb9f3a"
             ],
             [
              0.8888888888888888,
              "#fdca26"
             ],
             [
              1,
              "#f0f921"
             ]
            ],
            "type": "heatmap"
           }
          ],
          "heatmapgl": [
           {
            "colorbar": {
             "outlinewidth": 0,
             "ticks": ""
            },
            "colorscale": [
             [
              0,
              "#0d0887"
             ],
             [
              0.1111111111111111,
              "#46039f"
             ],
             [
              0.2222222222222222,
              "#7201a8"
             ],
             [
              0.3333333333333333,
              "#9c179e"
             ],
             [
              0.4444444444444444,
              "#bd3786"
             ],
             [
              0.5555555555555556,
              "#d8576b"
             ],
             [
              0.6666666666666666,
              "#ed7953"
             ],
             [
              0.7777777777777778,
              "#fb9f3a"
             ],
             [
              0.8888888888888888,
              "#fdca26"
             ],
             [
              1,
              "#f0f921"
             ]
            ],
            "type": "heatmapgl"
           }
          ],
          "histogram": [
           {
            "marker": {
             "pattern": {
              "fillmode": "overlay",
              "size": 10,
              "solidity": 0.2
             }
            },
            "type": "histogram"
           }
          ],
          "histogram2d": [
           {
            "colorbar": {
             "outlinewidth": 0,
             "ticks": ""
            },
            "colorscale": [
             [
              0,
              "#0d0887"
             ],
             [
              0.1111111111111111,
              "#46039f"
             ],
             [
              0.2222222222222222,
              "#7201a8"
             ],
             [
              0.3333333333333333,
              "#9c179e"
             ],
             [
              0.4444444444444444,
              "#bd3786"
             ],
             [
              0.5555555555555556,
              "#d8576b"
             ],
             [
              0.6666666666666666,
              "#ed7953"
             ],
             [
              0.7777777777777778,
              "#fb9f3a"
             ],
             [
              0.8888888888888888,
              "#fdca26"
             ],
             [
              1,
              "#f0f921"
             ]
            ],
            "type": "histogram2d"
           }
          ],
          "histogram2dcontour": [
           {
            "colorbar": {
             "outlinewidth": 0,
             "ticks": ""
            },
            "colorscale": [
             [
              0,
              "#0d0887"
             ],
             [
              0.1111111111111111,
              "#46039f"
             ],
             [
              0.2222222222222222,
              "#7201a8"
             ],
             [
              0.3333333333333333,
              "#9c179e"
             ],
             [
              0.4444444444444444,
              "#bd3786"
             ],
             [
              0.5555555555555556,
              "#d8576b"
             ],
             [
              0.6666666666666666,
              "#ed7953"
             ],
             [
              0.7777777777777778,
              "#fb9f3a"
             ],
             [
              0.8888888888888888,
              "#fdca26"
             ],
             [
              1,
              "#f0f921"
             ]
            ],
            "type": "histogram2dcontour"
           }
          ],
          "mesh3d": [
           {
            "colorbar": {
             "outlinewidth": 0,
             "ticks": ""
            },
            "type": "mesh3d"
           }
          ],
          "parcoords": [
           {
            "line": {
             "colorbar": {
              "outlinewidth": 0,
              "ticks": ""
             }
            },
            "type": "parcoords"
           }
          ],
          "pie": [
           {
            "automargin": true,
            "type": "pie"
           }
          ],
          "scatter": [
           {
            "fillpattern": {
             "fillmode": "overlay",
             "size": 10,
             "solidity": 0.2
            },
            "type": "scatter"
           }
          ],
          "scatter3d": [
           {
            "line": {
             "colorbar": {
              "outlinewidth": 0,
              "ticks": ""
             }
            },
            "marker": {
             "colorbar": {
              "outlinewidth": 0,
              "ticks": ""
             }
            },
            "type": "scatter3d"
           }
          ],
          "scattercarpet": [
           {
            "marker": {
             "colorbar": {
              "outlinewidth": 0,
              "ticks": ""
             }
            },
            "type": "scattercarpet"
           }
          ],
          "scattergeo": [
           {
            "marker": {
             "colorbar": {
              "outlinewidth": 0,
              "ticks": ""
             }
            },
            "type": "scattergeo"
           }
          ],
          "scattergl": [
           {
            "marker": {
             "colorbar": {
              "outlinewidth": 0,
              "ticks": ""
             }
            },
            "type": "scattergl"
           }
          ],
          "scattermapbox": [
           {
            "marker": {
             "colorbar": {
              "outlinewidth": 0,
              "ticks": ""
             }
            },
            "type": "scattermapbox"
           }
          ],
          "scatterpolar": [
           {
            "marker": {
             "colorbar": {
              "outlinewidth": 0,
              "ticks": ""
             }
            },
            "type": "scatterpolar"
           }
          ],
          "scatterpolargl": [
           {
            "marker": {
             "colorbar": {
              "outlinewidth": 0,
              "ticks": ""
             }
            },
            "type": "scatterpolargl"
           }
          ],
          "scatterternary": [
           {
            "marker": {
             "colorbar": {
              "outlinewidth": 0,
              "ticks": ""
             }
            },
            "type": "scatterternary"
           }
          ],
          "surface": [
           {
            "colorbar": {
             "outlinewidth": 0,
             "ticks": ""
            },
            "colorscale": [
             [
              0,
              "#0d0887"
             ],
             [
              0.1111111111111111,
              "#46039f"
             ],
             [
              0.2222222222222222,
              "#7201a8"
             ],
             [
              0.3333333333333333,
              "#9c179e"
             ],
             [
              0.4444444444444444,
              "#bd3786"
             ],
             [
              0.5555555555555556,
              "#d8576b"
             ],
             [
              0.6666666666666666,
              "#ed7953"
             ],
             [
              0.7777777777777778,
              "#fb9f3a"
             ],
             [
              0.8888888888888888,
              "#fdca26"
             ],
             [
              1,
              "#f0f921"
             ]
            ],
            "type": "surface"
           }
          ],
          "table": [
           {
            "cells": {
             "fill": {
              "color": "#EBF0F8"
             },
             "line": {
              "color": "white"
             }
            },
            "header": {
             "fill": {
              "color": "#C8D4E3"
             },
             "line": {
              "color": "white"
             }
            },
            "type": "table"
           }
          ]
         },
         "layout": {
          "annotationdefaults": {
           "arrowcolor": "#2a3f5f",
           "arrowhead": 0,
           "arrowwidth": 1
          },
          "autotypenumbers": "strict",
          "coloraxis": {
           "colorbar": {
            "outlinewidth": 0,
            "ticks": ""
           }
          },
          "colorscale": {
           "diverging": [
            [
             0,
             "#8e0152"
            ],
            [
             0.1,
             "#c51b7d"
            ],
            [
             0.2,
             "#de77ae"
            ],
            [
             0.3,
             "#f1b6da"
            ],
            [
             0.4,
             "#fde0ef"
            ],
            [
             0.5,
             "#f7f7f7"
            ],
            [
             0.6,
             "#e6f5d0"
            ],
            [
             0.7,
             "#b8e186"
            ],
            [
             0.8,
             "#7fbc41"
            ],
            [
             0.9,
             "#4d9221"
            ],
            [
             1,
             "#276419"
            ]
           ],
           "sequential": [
            [
             0,
             "#0d0887"
            ],
            [
             0.1111111111111111,
             "#46039f"
            ],
            [
             0.2222222222222222,
             "#7201a8"
            ],
            [
             0.3333333333333333,
             "#9c179e"
            ],
            [
             0.4444444444444444,
             "#bd3786"
            ],
            [
             0.5555555555555556,
             "#d8576b"
            ],
            [
             0.6666666666666666,
             "#ed7953"
            ],
            [
             0.7777777777777778,
             "#fb9f3a"
            ],
            [
             0.8888888888888888,
             "#fdca26"
            ],
            [
             1,
             "#f0f921"
            ]
           ],
           "sequentialminus": [
            [
             0,
             "#0d0887"
            ],
            [
             0.1111111111111111,
             "#46039f"
            ],
            [
             0.2222222222222222,
             "#7201a8"
            ],
            [
             0.3333333333333333,
             "#9c179e"
            ],
            [
             0.4444444444444444,
             "#bd3786"
            ],
            [
             0.5555555555555556,
             "#d8576b"
            ],
            [
             0.6666666666666666,
             "#ed7953"
            ],
            [
             0.7777777777777778,
             "#fb9f3a"
            ],
            [
             0.8888888888888888,
             "#fdca26"
            ],
            [
             1,
             "#f0f921"
            ]
           ]
          },
          "colorway": [
           "#636efa",
           "#EF553B",
           "#00cc96",
           "#ab63fa",
           "#FFA15A",
           "#19d3f3",
           "#FF6692",
           "#B6E880",
           "#FF97FF",
           "#FECB52"
          ],
          "font": {
           "color": "#2a3f5f"
          },
          "geo": {
           "bgcolor": "white",
           "lakecolor": "white",
           "landcolor": "#E5ECF6",
           "showlakes": true,
           "showland": true,
           "subunitcolor": "white"
          },
          "hoverlabel": {
           "align": "left"
          },
          "hovermode": "closest",
          "mapbox": {
           "style": "light"
          },
          "paper_bgcolor": "white",
          "plot_bgcolor": "#E5ECF6",
          "polar": {
           "angularaxis": {
            "gridcolor": "white",
            "linecolor": "white",
            "ticks": ""
           },
           "bgcolor": "#E5ECF6",
           "radialaxis": {
            "gridcolor": "white",
            "linecolor": "white",
            "ticks": ""
           }
          },
          "scene": {
           "xaxis": {
            "backgroundcolor": "#E5ECF6",
            "gridcolor": "white",
            "gridwidth": 2,
            "linecolor": "white",
            "showbackground": true,
            "ticks": "",
            "zerolinecolor": "white"
           },
           "yaxis": {
            "backgroundcolor": "#E5ECF6",
            "gridcolor": "white",
            "gridwidth": 2,
            "linecolor": "white",
            "showbackground": true,
            "ticks": "",
            "zerolinecolor": "white"
           },
           "zaxis": {
            "backgroundcolor": "#E5ECF6",
            "gridcolor": "white",
            "gridwidth": 2,
            "linecolor": "white",
            "showbackground": true,
            "ticks": "",
            "zerolinecolor": "white"
           }
          },
          "shapedefaults": {
           "line": {
            "color": "#2a3f5f"
           }
          },
          "ternary": {
           "aaxis": {
            "gridcolor": "white",
            "linecolor": "white",
            "ticks": ""
           },
           "baxis": {
            "gridcolor": "white",
            "linecolor": "white",
            "ticks": ""
           },
           "bgcolor": "#E5ECF6",
           "caxis": {
            "gridcolor": "white",
            "linecolor": "white",
            "ticks": ""
           }
          },
          "title": {
           "x": 0.05
          },
          "xaxis": {
           "automargin": true,
           "gridcolor": "white",
           "linecolor": "white",
           "ticks": "",
           "title": {
            "standoff": 15
           },
           "zerolinecolor": "white",
           "zerolinewidth": 2
          },
          "yaxis": {
           "automargin": true,
           "gridcolor": "white",
           "linecolor": "white",
           "ticks": "",
           "title": {
            "standoff": 15
           },
           "zerolinecolor": "white",
           "zerolinewidth": 2
          }
         }
        },
        "xaxis": {
         "anchor": "y",
         "domain": [
          0,
          1
         ],
         "gridcolor": "#bbbbbb",
         "showgrid": true,
         "title": {
          "text": "year"
         }
        },
        "yaxis": {
         "anchor": "x",
         "domain": [
          0,
          1
         ],
         "showgrid": false,
         "title": {
          "text": "value"
         }
        }
       }
      }
     },
     "metadata": {},
     "output_type": "display_data"
    }
   ],
   "source": [
    "# up_yearly_district = up_yearly.groupby()\n",
    "up_pivoted_df = up_yearly_district.pivot_table(\n",
    "    index=\"year\", columns=\"commodity\", values=\"modal_rs_quintal\", fill_value=0\n",
    ")\n",
    "\n",
    "# Create the grouped bar chart\n",
    "fig = px.bar(\n",
    "    data_frame=up_pivoted_df,\n",
    "    barmode=\"group\",\n",
    ")\n",
    "fig.update_layout(\n",
    "    xaxis_showgrid=True, yaxis_showgrid=False  # Add grid lines on the x-axis\n",
    ")\n",
    "\n",
    "# Optionally, customize grid line appearance\n",
    "fig.update_layout(\n",
    "    xaxis_gridcolor=\"#bbbbbb\",  # Set grid line color for x-axis\n",
    ")\n",
    "fig.show()"
   ]
  },
  {
   "cell_type": "code",
   "execution_count": 37,
   "metadata": {},
   "outputs": [
    {
     "data": {
      "text/html": [
       "<div>\n",
       "<style scoped>\n",
       "    .dataframe tbody tr th:only-of-type {\n",
       "        vertical-align: middle;\n",
       "    }\n",
       "\n",
       "    .dataframe tbody tr th {\n",
       "        vertical-align: top;\n",
       "    }\n",
       "\n",
       "    .dataframe thead th {\n",
       "        text-align: right;\n",
       "    }\n",
       "</style>\n",
       "<table border=\"1\" class=\"dataframe\">\n",
       "  <thead>\n",
       "    <tr style=\"text-align: right;\">\n",
       "      <th>commodity</th>\n",
       "      <th>Onion</th>\n",
       "      <th>Potato</th>\n",
       "      <th>Rice</th>\n",
       "      <th>Wheat</th>\n",
       "    </tr>\n",
       "    <tr>\n",
       "      <th>year</th>\n",
       "      <th></th>\n",
       "      <th></th>\n",
       "      <th></th>\n",
       "      <th></th>\n",
       "    </tr>\n",
       "  </thead>\n",
       "  <tbody>\n",
       "    <tr>\n",
       "      <th>2018</th>\n",
       "      <td>1419.739868</td>\n",
       "      <td>988.362535</td>\n",
       "      <td>2327.091768</td>\n",
       "      <td>1715.213736</td>\n",
       "    </tr>\n",
       "    <tr>\n",
       "      <th>2019</th>\n",
       "      <td>1669.921210</td>\n",
       "      <td>777.606707</td>\n",
       "      <td>2463.166591</td>\n",
       "      <td>1881.488344</td>\n",
       "    </tr>\n",
       "    <tr>\n",
       "      <th>2020</th>\n",
       "      <td>2241.912673</td>\n",
       "      <td>1819.071117</td>\n",
       "      <td>2549.629596</td>\n",
       "      <td>1877.882095</td>\n",
       "    </tr>\n",
       "    <tr>\n",
       "      <th>2021</th>\n",
       "      <td>2076.475270</td>\n",
       "      <td>957.547725</td>\n",
       "      <td>2478.131282</td>\n",
       "      <td>1818.634988</td>\n",
       "    </tr>\n",
       "    <tr>\n",
       "      <th>2022</th>\n",
       "      <td>1547.351174</td>\n",
       "      <td>1199.697845</td>\n",
       "      <td>2574.285267</td>\n",
       "      <td>2152.113445</td>\n",
       "    </tr>\n",
       "    <tr>\n",
       "      <th>2023</th>\n",
       "      <td>1754.182699</td>\n",
       "      <td>926.738221</td>\n",
       "      <td>2704.692917</td>\n",
       "      <td>2336.233848</td>\n",
       "    </tr>\n",
       "    <tr>\n",
       "      <th>2024</th>\n",
       "      <td>2053.573905</td>\n",
       "      <td>1525.347994</td>\n",
       "      <td>2959.963967</td>\n",
       "      <td>2417.911822</td>\n",
       "    </tr>\n",
       "  </tbody>\n",
       "</table>\n",
       "</div>"
      ],
      "text/plain": [
       "commodity        Onion       Potato         Rice        Wheat\n",
       "year                                                         \n",
       "2018       1419.739868   988.362535  2327.091768  1715.213736\n",
       "2019       1669.921210   777.606707  2463.166591  1881.488344\n",
       "2020       2241.912673  1819.071117  2549.629596  1877.882095\n",
       "2021       2076.475270   957.547725  2478.131282  1818.634988\n",
       "2022       1547.351174  1199.697845  2574.285267  2152.113445\n",
       "2023       1754.182699   926.738221  2704.692917  2336.233848\n",
       "2024       2053.573905  1525.347994  2959.963967  2417.911822"
      ]
     },
     "execution_count": 37,
     "metadata": {},
     "output_type": "execute_result"
    }
   ],
   "source": [
    "up_pivoted_df"
   ]
  },
  {
   "cell_type": "code",
   "execution_count": 38,
   "metadata": {},
   "outputs": [
    {
     "data": {
      "text/html": [
       "<div>\n",
       "<style scoped>\n",
       "    .dataframe tbody tr th:only-of-type {\n",
       "        vertical-align: middle;\n",
       "    }\n",
       "\n",
       "    .dataframe tbody tr th {\n",
       "        vertical-align: top;\n",
       "    }\n",
       "\n",
       "    .dataframe thead th {\n",
       "        text-align: right;\n",
       "    }\n",
       "</style>\n",
       "<table border=\"1\" class=\"dataframe\">\n",
       "  <thead>\n",
       "    <tr style=\"text-align: right;\">\n",
       "      <th>commodity</th>\n",
       "      <th>Onion</th>\n",
       "      <th>Potato</th>\n",
       "      <th>Rice</th>\n",
       "      <th>Wheat</th>\n",
       "    </tr>\n",
       "    <tr>\n",
       "      <th>year</th>\n",
       "      <th></th>\n",
       "      <th></th>\n",
       "      <th></th>\n",
       "      <th></th>\n",
       "    </tr>\n",
       "  </thead>\n",
       "  <tbody>\n",
       "    <tr>\n",
       "      <th>2018</th>\n",
       "      <td>869.962523</td>\n",
       "      <td>887.563697</td>\n",
       "      <td>2260.600000</td>\n",
       "      <td>1770.327731</td>\n",
       "    </tr>\n",
       "    <tr>\n",
       "      <th>2019</th>\n",
       "      <td>1024.308036</td>\n",
       "      <td>818.041409</td>\n",
       "      <td>1731.818182</td>\n",
       "      <td>1913.839956</td>\n",
       "    </tr>\n",
       "    <tr>\n",
       "      <th>2020</th>\n",
       "      <td>1572.050022</td>\n",
       "      <td>1626.013503</td>\n",
       "      <td>0.000000</td>\n",
       "      <td>1832.559745</td>\n",
       "    </tr>\n",
       "    <tr>\n",
       "      <th>2021</th>\n",
       "      <td>1526.435473</td>\n",
       "      <td>1042.929239</td>\n",
       "      <td>0.000000</td>\n",
       "      <td>1797.387587</td>\n",
       "    </tr>\n",
       "    <tr>\n",
       "      <th>2022</th>\n",
       "      <td>976.707151</td>\n",
       "      <td>1093.143167</td>\n",
       "      <td>0.000000</td>\n",
       "      <td>2124.789279</td>\n",
       "    </tr>\n",
       "    <tr>\n",
       "      <th>2023</th>\n",
       "      <td>1171.777440</td>\n",
       "      <td>976.977868</td>\n",
       "      <td>3433.500000</td>\n",
       "      <td>2303.726794</td>\n",
       "    </tr>\n",
       "    <tr>\n",
       "      <th>2024</th>\n",
       "      <td>1511.971017</td>\n",
       "      <td>1236.710923</td>\n",
       "      <td>0.000000</td>\n",
       "      <td>2412.975807</td>\n",
       "    </tr>\n",
       "  </tbody>\n",
       "</table>\n",
       "</div>"
      ],
      "text/plain": [
       "commodity        Onion       Potato         Rice        Wheat\n",
       "year                                                         \n",
       "2018        869.962523   887.563697  2260.600000  1770.327731\n",
       "2019       1024.308036   818.041409  1731.818182  1913.839956\n",
       "2020       1572.050022  1626.013503     0.000000  1832.559745\n",
       "2021       1526.435473  1042.929239     0.000000  1797.387587\n",
       "2022        976.707151  1093.143167     0.000000  2124.789279\n",
       "2023       1171.777440   976.977868  3433.500000  2303.726794\n",
       "2024       1511.971017  1236.710923     0.000000  2412.975807"
      ]
     },
     "execution_count": 38,
     "metadata": {},
     "output_type": "execute_result"
    }
   ],
   "source": [
    "mp_pivoted_df"
   ]
  },
  {
   "cell_type": "code",
   "execution_count": 39,
   "metadata": {},
   "outputs": [
    {
     "data": {
      "text/plain": [
       "['Onion', 'Potato', 'Rice', 'Wheat']"
      ]
     },
     "execution_count": 39,
     "metadata": {},
     "output_type": "execute_result"
    }
   ],
   "source": [
    "list(mp_pivoted_df.columns)"
   ]
  },
  {
   "cell_type": "code",
   "execution_count": 40,
   "metadata": {},
   "outputs": [
    {
     "data": {
      "application/vnd.plotly.v1+json": {
       "config": {
        "plotlyServerURL": "https://plot.ly"
       },
       "data": [
        {
         "hovertemplate": "variable=wide_variable_0<br>x=%{x}<br>value=%{y}<extra></extra>",
         "legendgroup": "wide_variable_0",
         "line": {
          "color": "#636efa",
          "dash": "solid"
         },
         "marker": {
          "symbol": "circle"
         },
         "mode": "lines",
         "name": "wide_variable_0",
         "orientation": "v",
         "showlegend": true,
         "type": "scatter",
         "x": [
          2018,
          2019,
          2020,
          2021,
          2022,
          2023,
          2024
         ],
         "xaxis": "x",
         "y": [
          869.962522758752,
          1024.3080355609145,
          1572.0500221481534,
          1526.4354729559827,
          976.7071510105741,
          1171.777439814442,
          1511.9710169535958
         ],
         "yaxis": "y"
        },
        {
         "hovertemplate": "variable=wide_variable_1<br>x=%{x}<br>value=%{y}<extra></extra>",
         "legendgroup": "wide_variable_1",
         "line": {
          "color": "#EF553B",
          "dash": "solid"
         },
         "marker": {
          "symbol": "circle"
         },
         "mode": "lines",
         "name": "wide_variable_1",
         "orientation": "v",
         "showlegend": true,
         "type": "scatter",
         "x": [
          2018,
          2019,
          2020,
          2021,
          2022,
          2023,
          2024
         ],
         "xaxis": "x",
         "y": [
          1419.7398681694804,
          1669.9212095289301,
          2241.912673129002,
          2076.4752702087444,
          1547.3511736761072,
          1754.1826985687233,
          2053.5739048528953
         ],
         "yaxis": "y"
        }
       ],
       "layout": {
        "legend": {
         "title": {
          "text": "variable"
         },
         "tracegroupgap": 0
        },
        "margin": {
         "t": 60
        },
        "template": {
         "data": {
          "bar": [
           {
            "error_x": {
             "color": "#2a3f5f"
            },
            "error_y": {
             "color": "#2a3f5f"
            },
            "marker": {
             "line": {
              "color": "#E5ECF6",
              "width": 0.5
             },
             "pattern": {
              "fillmode": "overlay",
              "size": 10,
              "solidity": 0.2
             }
            },
            "type": "bar"
           }
          ],
          "barpolar": [
           {
            "marker": {
             "line": {
              "color": "#E5ECF6",
              "width": 0.5
             },
             "pattern": {
              "fillmode": "overlay",
              "size": 10,
              "solidity": 0.2
             }
            },
            "type": "barpolar"
           }
          ],
          "carpet": [
           {
            "aaxis": {
             "endlinecolor": "#2a3f5f",
             "gridcolor": "white",
             "linecolor": "white",
             "minorgridcolor": "white",
             "startlinecolor": "#2a3f5f"
            },
            "baxis": {
             "endlinecolor": "#2a3f5f",
             "gridcolor": "white",
             "linecolor": "white",
             "minorgridcolor": "white",
             "startlinecolor": "#2a3f5f"
            },
            "type": "carpet"
           }
          ],
          "choropleth": [
           {
            "colorbar": {
             "outlinewidth": 0,
             "ticks": ""
            },
            "type": "choropleth"
           }
          ],
          "contour": [
           {
            "colorbar": {
             "outlinewidth": 0,
             "ticks": ""
            },
            "colorscale": [
             [
              0,
              "#0d0887"
             ],
             [
              0.1111111111111111,
              "#46039f"
             ],
             [
              0.2222222222222222,
              "#7201a8"
             ],
             [
              0.3333333333333333,
              "#9c179e"
             ],
             [
              0.4444444444444444,
              "#bd3786"
             ],
             [
              0.5555555555555556,
              "#d8576b"
             ],
             [
              0.6666666666666666,
              "#ed7953"
             ],
             [
              0.7777777777777778,
              "#fb9f3a"
             ],
             [
              0.8888888888888888,
              "#fdca26"
             ],
             [
              1,
              "#f0f921"
             ]
            ],
            "type": "contour"
           }
          ],
          "contourcarpet": [
           {
            "colorbar": {
             "outlinewidth": 0,
             "ticks": ""
            },
            "type": "contourcarpet"
           }
          ],
          "heatmap": [
           {
            "colorbar": {
             "outlinewidth": 0,
             "ticks": ""
            },
            "colorscale": [
             [
              0,
              "#0d0887"
             ],
             [
              0.1111111111111111,
              "#46039f"
             ],
             [
              0.2222222222222222,
              "#7201a8"
             ],
             [
              0.3333333333333333,
              "#9c179e"
             ],
             [
              0.4444444444444444,
              "#bd3786"
             ],
             [
              0.5555555555555556,
              "#d8576b"
             ],
             [
              0.6666666666666666,
              "#ed7953"
             ],
             [
              0.7777777777777778,
              "#fb9f3a"
             ],
             [
              0.8888888888888888,
              "#fdca26"
             ],
             [
              1,
              "#f0f921"
             ]
            ],
            "type": "heatmap"
           }
          ],
          "heatmapgl": [
           {
            "colorbar": {
             "outlinewidth": 0,
             "ticks": ""
            },
            "colorscale": [
             [
              0,
              "#0d0887"
             ],
             [
              0.1111111111111111,
              "#46039f"
             ],
             [
              0.2222222222222222,
              "#7201a8"
             ],
             [
              0.3333333333333333,
              "#9c179e"
             ],
             [
              0.4444444444444444,
              "#bd3786"
             ],
             [
              0.5555555555555556,
              "#d8576b"
             ],
             [
              0.6666666666666666,
              "#ed7953"
             ],
             [
              0.7777777777777778,
              "#fb9f3a"
             ],
             [
              0.8888888888888888,
              "#fdca26"
             ],
             [
              1,
              "#f0f921"
             ]
            ],
            "type": "heatmapgl"
           }
          ],
          "histogram": [
           {
            "marker": {
             "pattern": {
              "fillmode": "overlay",
              "size": 10,
              "solidity": 0.2
             }
            },
            "type": "histogram"
           }
          ],
          "histogram2d": [
           {
            "colorbar": {
             "outlinewidth": 0,
             "ticks": ""
            },
            "colorscale": [
             [
              0,
              "#0d0887"
             ],
             [
              0.1111111111111111,
              "#46039f"
             ],
             [
              0.2222222222222222,
              "#7201a8"
             ],
             [
              0.3333333333333333,
              "#9c179e"
             ],
             [
              0.4444444444444444,
              "#bd3786"
             ],
             [
              0.5555555555555556,
              "#d8576b"
             ],
             [
              0.6666666666666666,
              "#ed7953"
             ],
             [
              0.7777777777777778,
              "#fb9f3a"
             ],
             [
              0.8888888888888888,
              "#fdca26"
             ],
             [
              1,
              "#f0f921"
             ]
            ],
            "type": "histogram2d"
           }
          ],
          "histogram2dcontour": [
           {
            "colorbar": {
             "outlinewidth": 0,
             "ticks": ""
            },
            "colorscale": [
             [
              0,
              "#0d0887"
             ],
             [
              0.1111111111111111,
              "#46039f"
             ],
             [
              0.2222222222222222,
              "#7201a8"
             ],
             [
              0.3333333333333333,
              "#9c179e"
             ],
             [
              0.4444444444444444,
              "#bd3786"
             ],
             [
              0.5555555555555556,
              "#d8576b"
             ],
             [
              0.6666666666666666,
              "#ed7953"
             ],
             [
              0.7777777777777778,
              "#fb9f3a"
             ],
             [
              0.8888888888888888,
              "#fdca26"
             ],
             [
              1,
              "#f0f921"
             ]
            ],
            "type": "histogram2dcontour"
           }
          ],
          "mesh3d": [
           {
            "colorbar": {
             "outlinewidth": 0,
             "ticks": ""
            },
            "type": "mesh3d"
           }
          ],
          "parcoords": [
           {
            "line": {
             "colorbar": {
              "outlinewidth": 0,
              "ticks": ""
             }
            },
            "type": "parcoords"
           }
          ],
          "pie": [
           {
            "automargin": true,
            "type": "pie"
           }
          ],
          "scatter": [
           {
            "fillpattern": {
             "fillmode": "overlay",
             "size": 10,
             "solidity": 0.2
            },
            "type": "scatter"
           }
          ],
          "scatter3d": [
           {
            "line": {
             "colorbar": {
              "outlinewidth": 0,
              "ticks": ""
             }
            },
            "marker": {
             "colorbar": {
              "outlinewidth": 0,
              "ticks": ""
             }
            },
            "type": "scatter3d"
           }
          ],
          "scattercarpet": [
           {
            "marker": {
             "colorbar": {
              "outlinewidth": 0,
              "ticks": ""
             }
            },
            "type": "scattercarpet"
           }
          ],
          "scattergeo": [
           {
            "marker": {
             "colorbar": {
              "outlinewidth": 0,
              "ticks": ""
             }
            },
            "type": "scattergeo"
           }
          ],
          "scattergl": [
           {
            "marker": {
             "colorbar": {
              "outlinewidth": 0,
              "ticks": ""
             }
            },
            "type": "scattergl"
           }
          ],
          "scattermapbox": [
           {
            "marker": {
             "colorbar": {
              "outlinewidth": 0,
              "ticks": ""
             }
            },
            "type": "scattermapbox"
           }
          ],
          "scatterpolar": [
           {
            "marker": {
             "colorbar": {
              "outlinewidth": 0,
              "ticks": ""
             }
            },
            "type": "scatterpolar"
           }
          ],
          "scatterpolargl": [
           {
            "marker": {
             "colorbar": {
              "outlinewidth": 0,
              "ticks": ""
             }
            },
            "type": "scatterpolargl"
           }
          ],
          "scatterternary": [
           {
            "marker": {
             "colorbar": {
              "outlinewidth": 0,
              "ticks": ""
             }
            },
            "type": "scatterternary"
           }
          ],
          "surface": [
           {
            "colorbar": {
             "outlinewidth": 0,
             "ticks": ""
            },
            "colorscale": [
             [
              0,
              "#0d0887"
             ],
             [
              0.1111111111111111,
              "#46039f"
             ],
             [
              0.2222222222222222,
              "#7201a8"
             ],
             [
              0.3333333333333333,
              "#9c179e"
             ],
             [
              0.4444444444444444,
              "#bd3786"
             ],
             [
              0.5555555555555556,
              "#d8576b"
             ],
             [
              0.6666666666666666,
              "#ed7953"
             ],
             [
              0.7777777777777778,
              "#fb9f3a"
             ],
             [
              0.8888888888888888,
              "#fdca26"
             ],
             [
              1,
              "#f0f921"
             ]
            ],
            "type": "surface"
           }
          ],
          "table": [
           {
            "cells": {
             "fill": {
              "color": "#EBF0F8"
             },
             "line": {
              "color": "white"
             }
            },
            "header": {
             "fill": {
              "color": "#C8D4E3"
             },
             "line": {
              "color": "white"
             }
            },
            "type": "table"
           }
          ]
         },
         "layout": {
          "annotationdefaults": {
           "arrowcolor": "#2a3f5f",
           "arrowhead": 0,
           "arrowwidth": 1
          },
          "autotypenumbers": "strict",
          "coloraxis": {
           "colorbar": {
            "outlinewidth": 0,
            "ticks": ""
           }
          },
          "colorscale": {
           "diverging": [
            [
             0,
             "#8e0152"
            ],
            [
             0.1,
             "#c51b7d"
            ],
            [
             0.2,
             "#de77ae"
            ],
            [
             0.3,
             "#f1b6da"
            ],
            [
             0.4,
             "#fde0ef"
            ],
            [
             0.5,
             "#f7f7f7"
            ],
            [
             0.6,
             "#e6f5d0"
            ],
            [
             0.7,
             "#b8e186"
            ],
            [
             0.8,
             "#7fbc41"
            ],
            [
             0.9,
             "#4d9221"
            ],
            [
             1,
             "#276419"
            ]
           ],
           "sequential": [
            [
             0,
             "#0d0887"
            ],
            [
             0.1111111111111111,
             "#46039f"
            ],
            [
             0.2222222222222222,
             "#7201a8"
            ],
            [
             0.3333333333333333,
             "#9c179e"
            ],
            [
             0.4444444444444444,
             "#bd3786"
            ],
            [
             0.5555555555555556,
             "#d8576b"
            ],
            [
             0.6666666666666666,
             "#ed7953"
            ],
            [
             0.7777777777777778,
             "#fb9f3a"
            ],
            [
             0.8888888888888888,
             "#fdca26"
            ],
            [
             1,
             "#f0f921"
            ]
           ],
           "sequentialminus": [
            [
             0,
             "#0d0887"
            ],
            [
             0.1111111111111111,
             "#46039f"
            ],
            [
             0.2222222222222222,
             "#7201a8"
            ],
            [
             0.3333333333333333,
             "#9c179e"
            ],
            [
             0.4444444444444444,
             "#bd3786"
            ],
            [
             0.5555555555555556,
             "#d8576b"
            ],
            [
             0.6666666666666666,
             "#ed7953"
            ],
            [
             0.7777777777777778,
             "#fb9f3a"
            ],
            [
             0.8888888888888888,
             "#fdca26"
            ],
            [
             1,
             "#f0f921"
            ]
           ]
          },
          "colorway": [
           "#636efa",
           "#EF553B",
           "#00cc96",
           "#ab63fa",
           "#FFA15A",
           "#19d3f3",
           "#FF6692",
           "#B6E880",
           "#FF97FF",
           "#FECB52"
          ],
          "font": {
           "color": "#2a3f5f"
          },
          "geo": {
           "bgcolor": "white",
           "lakecolor": "white",
           "landcolor": "#E5ECF6",
           "showlakes": true,
           "showland": true,
           "subunitcolor": "white"
          },
          "hoverlabel": {
           "align": "left"
          },
          "hovermode": "closest",
          "mapbox": {
           "style": "light"
          },
          "paper_bgcolor": "white",
          "plot_bgcolor": "#E5ECF6",
          "polar": {
           "angularaxis": {
            "gridcolor": "white",
            "linecolor": "white",
            "ticks": ""
           },
           "bgcolor": "#E5ECF6",
           "radialaxis": {
            "gridcolor": "white",
            "linecolor": "white",
            "ticks": ""
           }
          },
          "scene": {
           "xaxis": {
            "backgroundcolor": "#E5ECF6",
            "gridcolor": "white",
            "gridwidth": 2,
            "linecolor": "white",
            "showbackground": true,
            "ticks": "",
            "zerolinecolor": "white"
           },
           "yaxis": {
            "backgroundcolor": "#E5ECF6",
            "gridcolor": "white",
            "gridwidth": 2,
            "linecolor": "white",
            "showbackground": true,
            "ticks": "",
            "zerolinecolor": "white"
           },
           "zaxis": {
            "backgroundcolor": "#E5ECF6",
            "gridcolor": "white",
            "gridwidth": 2,
            "linecolor": "white",
            "showbackground": true,
            "ticks": "",
            "zerolinecolor": "white"
           }
          },
          "shapedefaults": {
           "line": {
            "color": "#2a3f5f"
           }
          },
          "ternary": {
           "aaxis": {
            "gridcolor": "white",
            "linecolor": "white",
            "ticks": ""
           },
           "baxis": {
            "gridcolor": "white",
            "linecolor": "white",
            "ticks": ""
           },
           "bgcolor": "#E5ECF6",
           "caxis": {
            "gridcolor": "white",
            "linecolor": "white",
            "ticks": ""
           }
          },
          "title": {
           "x": 0.05
          },
          "xaxis": {
           "automargin": true,
           "gridcolor": "white",
           "linecolor": "white",
           "ticks": "",
           "title": {
            "standoff": 15
           },
           "zerolinecolor": "white",
           "zerolinewidth": 2
          },
          "yaxis": {
           "automargin": true,
           "gridcolor": "white",
           "linecolor": "white",
           "ticks": "",
           "title": {
            "standoff": 15
           },
           "zerolinecolor": "white",
           "zerolinewidth": 2
          }
         }
        },
        "xaxis": {
         "anchor": "y",
         "domain": [
          0,
          1
         ],
         "title": {
          "text": "x"
         }
        },
        "yaxis": {
         "anchor": "x",
         "domain": [
          0,
          1
         ],
         "title": {
          "text": "value"
         }
        }
       }
      }
     },
     "metadata": {},
     "output_type": "display_data"
    }
   ],
   "source": [
    "px.line(x=mp_pivoted_df.index,y=[mp_pivoted_df.Onion,up_pivoted_df.Onion])"
   ]
  },
  {
   "cell_type": "code",
   "execution_count": 41,
   "metadata": {},
   "outputs": [
    {
     "data": {
      "application/vnd.plotly.v1+json": {
       "config": {
        "plotlyServerURL": "https://plot.ly"
       },
       "data": [
        {
         "hovertemplate": "variable=wide_variable_0<br>x=%{x}<br>value=%{y}<extra></extra>",
         "legendgroup": "wide_variable_0",
         "line": {
          "color": "#636efa",
          "dash": "solid"
         },
         "marker": {
          "symbol": "circle"
         },
         "mode": "lines",
         "name": "wide_variable_0",
         "orientation": "v",
         "showlegend": true,
         "type": "scatter",
         "x": [
          2018,
          2019,
          2020,
          2021,
          2022,
          2023,
          2024
         ],
         "xaxis": "x",
         "y": [
          1770.3277307928913,
          1913.8399562427355,
          1832.559744740951,
          1797.3875868369855,
          2124.7892792291514,
          2303.7267939854896,
          2412.975806556365
         ],
         "yaxis": "y"
        },
        {
         "hovertemplate": "variable=wide_variable_1<br>x=%{x}<br>value=%{y}<extra></extra>",
         "legendgroup": "wide_variable_1",
         "line": {
          "color": "#EF553B",
          "dash": "solid"
         },
         "marker": {
          "symbol": "circle"
         },
         "mode": "lines",
         "name": "wide_variable_1",
         "orientation": "v",
         "showlegend": true,
         "type": "scatter",
         "x": [
          2018,
          2019,
          2020,
          2021,
          2022,
          2023,
          2024
         ],
         "xaxis": "x",
         "y": [
          1715.2137356189237,
          1881.4883439962039,
          1877.8820946807111,
          1818.6349879617997,
          2152.1134454812814,
          2336.2338479728996,
          2417.911821759033
         ],
         "yaxis": "y"
        }
       ],
       "layout": {
        "legend": {
         "title": {
          "text": "variable"
         },
         "tracegroupgap": 0
        },
        "margin": {
         "t": 60
        },
        "template": {
         "data": {
          "bar": [
           {
            "error_x": {
             "color": "#2a3f5f"
            },
            "error_y": {
             "color": "#2a3f5f"
            },
            "marker": {
             "line": {
              "color": "#E5ECF6",
              "width": 0.5
             },
             "pattern": {
              "fillmode": "overlay",
              "size": 10,
              "solidity": 0.2
             }
            },
            "type": "bar"
           }
          ],
          "barpolar": [
           {
            "marker": {
             "line": {
              "color": "#E5ECF6",
              "width": 0.5
             },
             "pattern": {
              "fillmode": "overlay",
              "size": 10,
              "solidity": 0.2
             }
            },
            "type": "barpolar"
           }
          ],
          "carpet": [
           {
            "aaxis": {
             "endlinecolor": "#2a3f5f",
             "gridcolor": "white",
             "linecolor": "white",
             "minorgridcolor": "white",
             "startlinecolor": "#2a3f5f"
            },
            "baxis": {
             "endlinecolor": "#2a3f5f",
             "gridcolor": "white",
             "linecolor": "white",
             "minorgridcolor": "white",
             "startlinecolor": "#2a3f5f"
            },
            "type": "carpet"
           }
          ],
          "choropleth": [
           {
            "colorbar": {
             "outlinewidth": 0,
             "ticks": ""
            },
            "type": "choropleth"
           }
          ],
          "contour": [
           {
            "colorbar": {
             "outlinewidth": 0,
             "ticks": ""
            },
            "colorscale": [
             [
              0,
              "#0d0887"
             ],
             [
              0.1111111111111111,
              "#46039f"
             ],
             [
              0.2222222222222222,
              "#7201a8"
             ],
             [
              0.3333333333333333,
              "#9c179e"
             ],
             [
              0.4444444444444444,
              "#bd3786"
             ],
             [
              0.5555555555555556,
              "#d8576b"
             ],
             [
              0.6666666666666666,
              "#ed7953"
             ],
             [
              0.7777777777777778,
              "#fb9f3a"
             ],
             [
              0.8888888888888888,
              "#fdca26"
             ],
             [
              1,
              "#f0f921"
             ]
            ],
            "type": "contour"
           }
          ],
          "contourcarpet": [
           {
            "colorbar": {
             "outlinewidth": 0,
             "ticks": ""
            },
            "type": "contourcarpet"
           }
          ],
          "heatmap": [
           {
            "colorbar": {
             "outlinewidth": 0,
             "ticks": ""
            },
            "colorscale": [
             [
              0,
              "#0d0887"
             ],
             [
              0.1111111111111111,
              "#46039f"
             ],
             [
              0.2222222222222222,
              "#7201a8"
             ],
             [
              0.3333333333333333,
              "#9c179e"
             ],
             [
              0.4444444444444444,
              "#bd3786"
             ],
             [
              0.5555555555555556,
              "#d8576b"
             ],
             [
              0.6666666666666666,
              "#ed7953"
             ],
             [
              0.7777777777777778,
              "#fb9f3a"
             ],
             [
              0.8888888888888888,
              "#fdca26"
             ],
             [
              1,
              "#f0f921"
             ]
            ],
            "type": "heatmap"
           }
          ],
          "heatmapgl": [
           {
            "colorbar": {
             "outlinewidth": 0,
             "ticks": ""
            },
            "colorscale": [
             [
              0,
              "#0d0887"
             ],
             [
              0.1111111111111111,
              "#46039f"
             ],
             [
              0.2222222222222222,
              "#7201a8"
             ],
             [
              0.3333333333333333,
              "#9c179e"
             ],
             [
              0.4444444444444444,
              "#bd3786"
             ],
             [
              0.5555555555555556,
              "#d8576b"
             ],
             [
              0.6666666666666666,
              "#ed7953"
             ],
             [
              0.7777777777777778,
              "#fb9f3a"
             ],
             [
              0.8888888888888888,
              "#fdca26"
             ],
             [
              1,
              "#f0f921"
             ]
            ],
            "type": "heatmapgl"
           }
          ],
          "histogram": [
           {
            "marker": {
             "pattern": {
              "fillmode": "overlay",
              "size": 10,
              "solidity": 0.2
             }
            },
            "type": "histogram"
           }
          ],
          "histogram2d": [
           {
            "colorbar": {
             "outlinewidth": 0,
             "ticks": ""
            },
            "colorscale": [
             [
              0,
              "#0d0887"
             ],
             [
              0.1111111111111111,
              "#46039f"
             ],
             [
              0.2222222222222222,
              "#7201a8"
             ],
             [
              0.3333333333333333,
              "#9c179e"
             ],
             [
              0.4444444444444444,
              "#bd3786"
             ],
             [
              0.5555555555555556,
              "#d8576b"
             ],
             [
              0.6666666666666666,
              "#ed7953"
             ],
             [
              0.7777777777777778,
              "#fb9f3a"
             ],
             [
              0.8888888888888888,
              "#fdca26"
             ],
             [
              1,
              "#f0f921"
             ]
            ],
            "type": "histogram2d"
           }
          ],
          "histogram2dcontour": [
           {
            "colorbar": {
             "outlinewidth": 0,
             "ticks": ""
            },
            "colorscale": [
             [
              0,
              "#0d0887"
             ],
             [
              0.1111111111111111,
              "#46039f"
             ],
             [
              0.2222222222222222,
              "#7201a8"
             ],
             [
              0.3333333333333333,
              "#9c179e"
             ],
             [
              0.4444444444444444,
              "#bd3786"
             ],
             [
              0.5555555555555556,
              "#d8576b"
             ],
             [
              0.6666666666666666,
              "#ed7953"
             ],
             [
              0.7777777777777778,
              "#fb9f3a"
             ],
             [
              0.8888888888888888,
              "#fdca26"
             ],
             [
              1,
              "#f0f921"
             ]
            ],
            "type": "histogram2dcontour"
           }
          ],
          "mesh3d": [
           {
            "colorbar": {
             "outlinewidth": 0,
             "ticks": ""
            },
            "type": "mesh3d"
           }
          ],
          "parcoords": [
           {
            "line": {
             "colorbar": {
              "outlinewidth": 0,
              "ticks": ""
             }
            },
            "type": "parcoords"
           }
          ],
          "pie": [
           {
            "automargin": true,
            "type": "pie"
           }
          ],
          "scatter": [
           {
            "fillpattern": {
             "fillmode": "overlay",
             "size": 10,
             "solidity": 0.2
            },
            "type": "scatter"
           }
          ],
          "scatter3d": [
           {
            "line": {
             "colorbar": {
              "outlinewidth": 0,
              "ticks": ""
             }
            },
            "marker": {
             "colorbar": {
              "outlinewidth": 0,
              "ticks": ""
             }
            },
            "type": "scatter3d"
           }
          ],
          "scattercarpet": [
           {
            "marker": {
             "colorbar": {
              "outlinewidth": 0,
              "ticks": ""
             }
            },
            "type": "scattercarpet"
           }
          ],
          "scattergeo": [
           {
            "marker": {
             "colorbar": {
              "outlinewidth": 0,
              "ticks": ""
             }
            },
            "type": "scattergeo"
           }
          ],
          "scattergl": [
           {
            "marker": {
             "colorbar": {
              "outlinewidth": 0,
              "ticks": ""
             }
            },
            "type": "scattergl"
           }
          ],
          "scattermapbox": [
           {
            "marker": {
             "colorbar": {
              "outlinewidth": 0,
              "ticks": ""
             }
            },
            "type": "scattermapbox"
           }
          ],
          "scatterpolar": [
           {
            "marker": {
             "colorbar": {
              "outlinewidth": 0,
              "ticks": ""
             }
            },
            "type": "scatterpolar"
           }
          ],
          "scatterpolargl": [
           {
            "marker": {
             "colorbar": {
              "outlinewidth": 0,
              "ticks": ""
             }
            },
            "type": "scatterpolargl"
           }
          ],
          "scatterternary": [
           {
            "marker": {
             "colorbar": {
              "outlinewidth": 0,
              "ticks": ""
             }
            },
            "type": "scatterternary"
           }
          ],
          "surface": [
           {
            "colorbar": {
             "outlinewidth": 0,
             "ticks": ""
            },
            "colorscale": [
             [
              0,
              "#0d0887"
             ],
             [
              0.1111111111111111,
              "#46039f"
             ],
             [
              0.2222222222222222,
              "#7201a8"
             ],
             [
              0.3333333333333333,
              "#9c179e"
             ],
             [
              0.4444444444444444,
              "#bd3786"
             ],
             [
              0.5555555555555556,
              "#d8576b"
             ],
             [
              0.6666666666666666,
              "#ed7953"
             ],
             [
              0.7777777777777778,
              "#fb9f3a"
             ],
             [
              0.8888888888888888,
              "#fdca26"
             ],
             [
              1,
              "#f0f921"
             ]
            ],
            "type": "surface"
           }
          ],
          "table": [
           {
            "cells": {
             "fill": {
              "color": "#EBF0F8"
             },
             "line": {
              "color": "white"
             }
            },
            "header": {
             "fill": {
              "color": "#C8D4E3"
             },
             "line": {
              "color": "white"
             }
            },
            "type": "table"
           }
          ]
         },
         "layout": {
          "annotationdefaults": {
           "arrowcolor": "#2a3f5f",
           "arrowhead": 0,
           "arrowwidth": 1
          },
          "autotypenumbers": "strict",
          "coloraxis": {
           "colorbar": {
            "outlinewidth": 0,
            "ticks": ""
           }
          },
          "colorscale": {
           "diverging": [
            [
             0,
             "#8e0152"
            ],
            [
             0.1,
             "#c51b7d"
            ],
            [
             0.2,
             "#de77ae"
            ],
            [
             0.3,
             "#f1b6da"
            ],
            [
             0.4,
             "#fde0ef"
            ],
            [
             0.5,
             "#f7f7f7"
            ],
            [
             0.6,
             "#e6f5d0"
            ],
            [
             0.7,
             "#b8e186"
            ],
            [
             0.8,
             "#7fbc41"
            ],
            [
             0.9,
             "#4d9221"
            ],
            [
             1,
             "#276419"
            ]
           ],
           "sequential": [
            [
             0,
             "#0d0887"
            ],
            [
             0.1111111111111111,
             "#46039f"
            ],
            [
             0.2222222222222222,
             "#7201a8"
            ],
            [
             0.3333333333333333,
             "#9c179e"
            ],
            [
             0.4444444444444444,
             "#bd3786"
            ],
            [
             0.5555555555555556,
             "#d8576b"
            ],
            [
             0.6666666666666666,
             "#ed7953"
            ],
            [
             0.7777777777777778,
             "#fb9f3a"
            ],
            [
             0.8888888888888888,
             "#fdca26"
            ],
            [
             1,
             "#f0f921"
            ]
           ],
           "sequentialminus": [
            [
             0,
             "#0d0887"
            ],
            [
             0.1111111111111111,
             "#46039f"
            ],
            [
             0.2222222222222222,
             "#7201a8"
            ],
            [
             0.3333333333333333,
             "#9c179e"
            ],
            [
             0.4444444444444444,
             "#bd3786"
            ],
            [
             0.5555555555555556,
             "#d8576b"
            ],
            [
             0.6666666666666666,
             "#ed7953"
            ],
            [
             0.7777777777777778,
             "#fb9f3a"
            ],
            [
             0.8888888888888888,
             "#fdca26"
            ],
            [
             1,
             "#f0f921"
            ]
           ]
          },
          "colorway": [
           "#636efa",
           "#EF553B",
           "#00cc96",
           "#ab63fa",
           "#FFA15A",
           "#19d3f3",
           "#FF6692",
           "#B6E880",
           "#FF97FF",
           "#FECB52"
          ],
          "font": {
           "color": "#2a3f5f"
          },
          "geo": {
           "bgcolor": "white",
           "lakecolor": "white",
           "landcolor": "#E5ECF6",
           "showlakes": true,
           "showland": true,
           "subunitcolor": "white"
          },
          "hoverlabel": {
           "align": "left"
          },
          "hovermode": "closest",
          "mapbox": {
           "style": "light"
          },
          "paper_bgcolor": "white",
          "plot_bgcolor": "#E5ECF6",
          "polar": {
           "angularaxis": {
            "gridcolor": "white",
            "linecolor": "white",
            "ticks": ""
           },
           "bgcolor": "#E5ECF6",
           "radialaxis": {
            "gridcolor": "white",
            "linecolor": "white",
            "ticks": ""
           }
          },
          "scene": {
           "xaxis": {
            "backgroundcolor": "#E5ECF6",
            "gridcolor": "white",
            "gridwidth": 2,
            "linecolor": "white",
            "showbackground": true,
            "ticks": "",
            "zerolinecolor": "white"
           },
           "yaxis": {
            "backgroundcolor": "#E5ECF6",
            "gridcolor": "white",
            "gridwidth": 2,
            "linecolor": "white",
            "showbackground": true,
            "ticks": "",
            "zerolinecolor": "white"
           },
           "zaxis": {
            "backgroundcolor": "#E5ECF6",
            "gridcolor": "white",
            "gridwidth": 2,
            "linecolor": "white",
            "showbackground": true,
            "ticks": "",
            "zerolinecolor": "white"
           }
          },
          "shapedefaults": {
           "line": {
            "color": "#2a3f5f"
           }
          },
          "ternary": {
           "aaxis": {
            "gridcolor": "white",
            "linecolor": "white",
            "ticks": ""
           },
           "baxis": {
            "gridcolor": "white",
            "linecolor": "white",
            "ticks": ""
           },
           "bgcolor": "#E5ECF6",
           "caxis": {
            "gridcolor": "white",
            "linecolor": "white",
            "ticks": ""
           }
          },
          "title": {
           "x": 0.05
          },
          "xaxis": {
           "automargin": true,
           "gridcolor": "white",
           "linecolor": "white",
           "ticks": "",
           "title": {
            "standoff": 15
           },
           "zerolinecolor": "white",
           "zerolinewidth": 2
          },
          "yaxis": {
           "automargin": true,
           "gridcolor": "white",
           "linecolor": "white",
           "ticks": "",
           "title": {
            "standoff": 15
           },
           "zerolinecolor": "white",
           "zerolinewidth": 2
          }
         }
        },
        "xaxis": {
         "anchor": "y",
         "domain": [
          0,
          1
         ],
         "title": {
          "text": "x"
         }
        },
        "yaxis": {
         "anchor": "x",
         "domain": [
          0,
          1
         ],
         "title": {
          "text": "value"
         }
        }
       }
      }
     },
     "metadata": {},
     "output_type": "display_data"
    }
   ],
   "source": [
    "px.line(x=mp_pivoted_df.index, y=[mp_pivoted_df.Wheat, up_pivoted_df.Wheat])"
   ]
  },
  {
   "cell_type": "code",
   "execution_count": 42,
   "metadata": {},
   "outputs": [
    {
     "data": {
      "application/vnd.plotly.v1+json": {
       "config": {
        "plotlyServerURL": "https://plot.ly"
       },
       "data": [
        {
         "hovertemplate": "variable=wide_variable_0<br>x=%{x}<br>value=%{y}<extra></extra>",
         "legendgroup": "wide_variable_0",
         "line": {
          "color": "#636efa",
          "dash": "solid"
         },
         "marker": {
          "symbol": "circle"
         },
         "mode": "lines",
         "name": "wide_variable_0",
         "orientation": "v",
         "showlegend": true,
         "type": "scatter",
         "x": [
          2018,
          2019,
          2020,
          2021,
          2022,
          2023,
          2024
         ],
         "xaxis": "x",
         "y": [
          887.563697112241,
          818.0414087228907,
          1626.0135029190835,
          1042.9292394518407,
          1093.1431665621908,
          976.97786801052,
          1236.7109234318732
         ],
         "yaxis": "y"
        },
        {
         "hovertemplate": "variable=wide_variable_1<br>x=%{x}<br>value=%{y}<extra></extra>",
         "legendgroup": "wide_variable_1",
         "line": {
          "color": "#EF553B",
          "dash": "solid"
         },
         "marker": {
          "symbol": "circle"
         },
         "mode": "lines",
         "name": "wide_variable_1",
         "orientation": "v",
         "showlegend": true,
         "type": "scatter",
         "x": [
          2018,
          2019,
          2020,
          2021,
          2022,
          2023,
          2024
         ],
         "xaxis": "x",
         "y": [
          988.3625352645574,
          777.6067067355875,
          1819.071117359476,
          957.5477250072729,
          1199.6978447287406,
          926.7382213826077,
          1525.3479937465536
         ],
         "yaxis": "y"
        }
       ],
       "layout": {
        "legend": {
         "title": {
          "text": "variable"
         },
         "tracegroupgap": 0
        },
        "margin": {
         "t": 60
        },
        "template": {
         "data": {
          "bar": [
           {
            "error_x": {
             "color": "#2a3f5f"
            },
            "error_y": {
             "color": "#2a3f5f"
            },
            "marker": {
             "line": {
              "color": "#E5ECF6",
              "width": 0.5
             },
             "pattern": {
              "fillmode": "overlay",
              "size": 10,
              "solidity": 0.2
             }
            },
            "type": "bar"
           }
          ],
          "barpolar": [
           {
            "marker": {
             "line": {
              "color": "#E5ECF6",
              "width": 0.5
             },
             "pattern": {
              "fillmode": "overlay",
              "size": 10,
              "solidity": 0.2
             }
            },
            "type": "barpolar"
           }
          ],
          "carpet": [
           {
            "aaxis": {
             "endlinecolor": "#2a3f5f",
             "gridcolor": "white",
             "linecolor": "white",
             "minorgridcolor": "white",
             "startlinecolor": "#2a3f5f"
            },
            "baxis": {
             "endlinecolor": "#2a3f5f",
             "gridcolor": "white",
             "linecolor": "white",
             "minorgridcolor": "white",
             "startlinecolor": "#2a3f5f"
            },
            "type": "carpet"
           }
          ],
          "choropleth": [
           {
            "colorbar": {
             "outlinewidth": 0,
             "ticks": ""
            },
            "type": "choropleth"
           }
          ],
          "contour": [
           {
            "colorbar": {
             "outlinewidth": 0,
             "ticks": ""
            },
            "colorscale": [
             [
              0,
              "#0d0887"
             ],
             [
              0.1111111111111111,
              "#46039f"
             ],
             [
              0.2222222222222222,
              "#7201a8"
             ],
             [
              0.3333333333333333,
              "#9c179e"
             ],
             [
              0.4444444444444444,
              "#bd3786"
             ],
             [
              0.5555555555555556,
              "#d8576b"
             ],
             [
              0.6666666666666666,
              "#ed7953"
             ],
             [
              0.7777777777777778,
              "#fb9f3a"
             ],
             [
              0.8888888888888888,
              "#fdca26"
             ],
             [
              1,
              "#f0f921"
             ]
            ],
            "type": "contour"
           }
          ],
          "contourcarpet": [
           {
            "colorbar": {
             "outlinewidth": 0,
             "ticks": ""
            },
            "type": "contourcarpet"
           }
          ],
          "heatmap": [
           {
            "colorbar": {
             "outlinewidth": 0,
             "ticks": ""
            },
            "colorscale": [
             [
              0,
              "#0d0887"
             ],
             [
              0.1111111111111111,
              "#46039f"
             ],
             [
              0.2222222222222222,
              "#7201a8"
             ],
             [
              0.3333333333333333,
              "#9c179e"
             ],
             [
              0.4444444444444444,
              "#bd3786"
             ],
             [
              0.5555555555555556,
              "#d8576b"
             ],
             [
              0.6666666666666666,
              "#ed7953"
             ],
             [
              0.7777777777777778,
              "#fb9f3a"
             ],
             [
              0.8888888888888888,
              "#fdca26"
             ],
             [
              1,
              "#f0f921"
             ]
            ],
            "type": "heatmap"
           }
          ],
          "heatmapgl": [
           {
            "colorbar": {
             "outlinewidth": 0,
             "ticks": ""
            },
            "colorscale": [
             [
              0,
              "#0d0887"
             ],
             [
              0.1111111111111111,
              "#46039f"
             ],
             [
              0.2222222222222222,
              "#7201a8"
             ],
             [
              0.3333333333333333,
              "#9c179e"
             ],
             [
              0.4444444444444444,
              "#bd3786"
             ],
             [
              0.5555555555555556,
              "#d8576b"
             ],
             [
              0.6666666666666666,
              "#ed7953"
             ],
             [
              0.7777777777777778,
              "#fb9f3a"
             ],
             [
              0.8888888888888888,
              "#fdca26"
             ],
             [
              1,
              "#f0f921"
             ]
            ],
            "type": "heatmapgl"
           }
          ],
          "histogram": [
           {
            "marker": {
             "pattern": {
              "fillmode": "overlay",
              "size": 10,
              "solidity": 0.2
             }
            },
            "type": "histogram"
           }
          ],
          "histogram2d": [
           {
            "colorbar": {
             "outlinewidth": 0,
             "ticks": ""
            },
            "colorscale": [
             [
              0,
              "#0d0887"
             ],
             [
              0.1111111111111111,
              "#46039f"
             ],
             [
              0.2222222222222222,
              "#7201a8"
             ],
             [
              0.3333333333333333,
              "#9c179e"
             ],
             [
              0.4444444444444444,
              "#bd3786"
             ],
             [
              0.5555555555555556,
              "#d8576b"
             ],
             [
              0.6666666666666666,
              "#ed7953"
             ],
             [
              0.7777777777777778,
              "#fb9f3a"
             ],
             [
              0.8888888888888888,
              "#fdca26"
             ],
             [
              1,
              "#f0f921"
             ]
            ],
            "type": "histogram2d"
           }
          ],
          "histogram2dcontour": [
           {
            "colorbar": {
             "outlinewidth": 0,
             "ticks": ""
            },
            "colorscale": [
             [
              0,
              "#0d0887"
             ],
             [
              0.1111111111111111,
              "#46039f"
             ],
             [
              0.2222222222222222,
              "#7201a8"
             ],
             [
              0.3333333333333333,
              "#9c179e"
             ],
             [
              0.4444444444444444,
              "#bd3786"
             ],
             [
              0.5555555555555556,
              "#d8576b"
             ],
             [
              0.6666666666666666,
              "#ed7953"
             ],
             [
              0.7777777777777778,
              "#fb9f3a"
             ],
             [
              0.8888888888888888,
              "#fdca26"
             ],
             [
              1,
              "#f0f921"
             ]
            ],
            "type": "histogram2dcontour"
           }
          ],
          "mesh3d": [
           {
            "colorbar": {
             "outlinewidth": 0,
             "ticks": ""
            },
            "type": "mesh3d"
           }
          ],
          "parcoords": [
           {
            "line": {
             "colorbar": {
              "outlinewidth": 0,
              "ticks": ""
             }
            },
            "type": "parcoords"
           }
          ],
          "pie": [
           {
            "automargin": true,
            "type": "pie"
           }
          ],
          "scatter": [
           {
            "fillpattern": {
             "fillmode": "overlay",
             "size": 10,
             "solidity": 0.2
            },
            "type": "scatter"
           }
          ],
          "scatter3d": [
           {
            "line": {
             "colorbar": {
              "outlinewidth": 0,
              "ticks": ""
             }
            },
            "marker": {
             "colorbar": {
              "outlinewidth": 0,
              "ticks": ""
             }
            },
            "type": "scatter3d"
           }
          ],
          "scattercarpet": [
           {
            "marker": {
             "colorbar": {
              "outlinewidth": 0,
              "ticks": ""
             }
            },
            "type": "scattercarpet"
           }
          ],
          "scattergeo": [
           {
            "marker": {
             "colorbar": {
              "outlinewidth": 0,
              "ticks": ""
             }
            },
            "type": "scattergeo"
           }
          ],
          "scattergl": [
           {
            "marker": {
             "colorbar": {
              "outlinewidth": 0,
              "ticks": ""
             }
            },
            "type": "scattergl"
           }
          ],
          "scattermapbox": [
           {
            "marker": {
             "colorbar": {
              "outlinewidth": 0,
              "ticks": ""
             }
            },
            "type": "scattermapbox"
           }
          ],
          "scatterpolar": [
           {
            "marker": {
             "colorbar": {
              "outlinewidth": 0,
              "ticks": ""
             }
            },
            "type": "scatterpolar"
           }
          ],
          "scatterpolargl": [
           {
            "marker": {
             "colorbar": {
              "outlinewidth": 0,
              "ticks": ""
             }
            },
            "type": "scatterpolargl"
           }
          ],
          "scatterternary": [
           {
            "marker": {
             "colorbar": {
              "outlinewidth": 0,
              "ticks": ""
             }
            },
            "type": "scatterternary"
           }
          ],
          "surface": [
           {
            "colorbar": {
             "outlinewidth": 0,
             "ticks": ""
            },
            "colorscale": [
             [
              0,
              "#0d0887"
             ],
             [
              0.1111111111111111,
              "#46039f"
             ],
             [
              0.2222222222222222,
              "#7201a8"
             ],
             [
              0.3333333333333333,
              "#9c179e"
             ],
             [
              0.4444444444444444,
              "#bd3786"
             ],
             [
              0.5555555555555556,
              "#d8576b"
             ],
             [
              0.6666666666666666,
              "#ed7953"
             ],
             [
              0.7777777777777778,
              "#fb9f3a"
             ],
             [
              0.8888888888888888,
              "#fdca26"
             ],
             [
              1,
              "#f0f921"
             ]
            ],
            "type": "surface"
           }
          ],
          "table": [
           {
            "cells": {
             "fill": {
              "color": "#EBF0F8"
             },
             "line": {
              "color": "white"
             }
            },
            "header": {
             "fill": {
              "color": "#C8D4E3"
             },
             "line": {
              "color": "white"
             }
            },
            "type": "table"
           }
          ]
         },
         "layout": {
          "annotationdefaults": {
           "arrowcolor": "#2a3f5f",
           "arrowhead": 0,
           "arrowwidth": 1
          },
          "autotypenumbers": "strict",
          "coloraxis": {
           "colorbar": {
            "outlinewidth": 0,
            "ticks": ""
           }
          },
          "colorscale": {
           "diverging": [
            [
             0,
             "#8e0152"
            ],
            [
             0.1,
             "#c51b7d"
            ],
            [
             0.2,
             "#de77ae"
            ],
            [
             0.3,
             "#f1b6da"
            ],
            [
             0.4,
             "#fde0ef"
            ],
            [
             0.5,
             "#f7f7f7"
            ],
            [
             0.6,
             "#e6f5d0"
            ],
            [
             0.7,
             "#b8e186"
            ],
            [
             0.8,
             "#7fbc41"
            ],
            [
             0.9,
             "#4d9221"
            ],
            [
             1,
             "#276419"
            ]
           ],
           "sequential": [
            [
             0,
             "#0d0887"
            ],
            [
             0.1111111111111111,
             "#46039f"
            ],
            [
             0.2222222222222222,
             "#7201a8"
            ],
            [
             0.3333333333333333,
             "#9c179e"
            ],
            [
             0.4444444444444444,
             "#bd3786"
            ],
            [
             0.5555555555555556,
             "#d8576b"
            ],
            [
             0.6666666666666666,
             "#ed7953"
            ],
            [
             0.7777777777777778,
             "#fb9f3a"
            ],
            [
             0.8888888888888888,
             "#fdca26"
            ],
            [
             1,
             "#f0f921"
            ]
           ],
           "sequentialminus": [
            [
             0,
             "#0d0887"
            ],
            [
             0.1111111111111111,
             "#46039f"
            ],
            [
             0.2222222222222222,
             "#7201a8"
            ],
            [
             0.3333333333333333,
             "#9c179e"
            ],
            [
             0.4444444444444444,
             "#bd3786"
            ],
            [
             0.5555555555555556,
             "#d8576b"
            ],
            [
             0.6666666666666666,
             "#ed7953"
            ],
            [
             0.7777777777777778,
             "#fb9f3a"
            ],
            [
             0.8888888888888888,
             "#fdca26"
            ],
            [
             1,
             "#f0f921"
            ]
           ]
          },
          "colorway": [
           "#636efa",
           "#EF553B",
           "#00cc96",
           "#ab63fa",
           "#FFA15A",
           "#19d3f3",
           "#FF6692",
           "#B6E880",
           "#FF97FF",
           "#FECB52"
          ],
          "font": {
           "color": "#2a3f5f"
          },
          "geo": {
           "bgcolor": "white",
           "lakecolor": "white",
           "landcolor": "#E5ECF6",
           "showlakes": true,
           "showland": true,
           "subunitcolor": "white"
          },
          "hoverlabel": {
           "align": "left"
          },
          "hovermode": "closest",
          "mapbox": {
           "style": "light"
          },
          "paper_bgcolor": "white",
          "plot_bgcolor": "#E5ECF6",
          "polar": {
           "angularaxis": {
            "gridcolor": "white",
            "linecolor": "white",
            "ticks": ""
           },
           "bgcolor": "#E5ECF6",
           "radialaxis": {
            "gridcolor": "white",
            "linecolor": "white",
            "ticks": ""
           }
          },
          "scene": {
           "xaxis": {
            "backgroundcolor": "#E5ECF6",
            "gridcolor": "white",
            "gridwidth": 2,
            "linecolor": "white",
            "showbackground": true,
            "ticks": "",
            "zerolinecolor": "white"
           },
           "yaxis": {
            "backgroundcolor": "#E5ECF6",
            "gridcolor": "white",
            "gridwidth": 2,
            "linecolor": "white",
            "showbackground": true,
            "ticks": "",
            "zerolinecolor": "white"
           },
           "zaxis": {
            "backgroundcolor": "#E5ECF6",
            "gridcolor": "white",
            "gridwidth": 2,
            "linecolor": "white",
            "showbackground": true,
            "ticks": "",
            "zerolinecolor": "white"
           }
          },
          "shapedefaults": {
           "line": {
            "color": "#2a3f5f"
           }
          },
          "ternary": {
           "aaxis": {
            "gridcolor": "white",
            "linecolor": "white",
            "ticks": ""
           },
           "baxis": {
            "gridcolor": "white",
            "linecolor": "white",
            "ticks": ""
           },
           "bgcolor": "#E5ECF6",
           "caxis": {
            "gridcolor": "white",
            "linecolor": "white",
            "ticks": ""
           }
          },
          "title": {
           "x": 0.05
          },
          "xaxis": {
           "automargin": true,
           "gridcolor": "white",
           "linecolor": "white",
           "ticks": "",
           "title": {
            "standoff": 15
           },
           "zerolinecolor": "white",
           "zerolinewidth": 2
          },
          "yaxis": {
           "automargin": true,
           "gridcolor": "white",
           "linecolor": "white",
           "ticks": "",
           "title": {
            "standoff": 15
           },
           "zerolinecolor": "white",
           "zerolinewidth": 2
          }
         }
        },
        "xaxis": {
         "anchor": "y",
         "domain": [
          0,
          1
         ],
         "title": {
          "text": "x"
         }
        },
        "yaxis": {
         "anchor": "x",
         "domain": [
          0,
          1
         ],
         "title": {
          "text": "value"
         }
        }
       }
      }
     },
     "metadata": {},
     "output_type": "display_data"
    }
   ],
   "source": [
    "px.line(x=mp_pivoted_df.index, y=[mp_pivoted_df.Potato, up_pivoted_df.Potato])"
   ]
  },
  {
   "cell_type": "code",
   "execution_count": 107,
   "metadata": {},
   "outputs": [],
   "source": [
    "class Analyser:\n",
    "    def __init__(self,dataframes: dict[str,pd.DataFrame] |None = None) -> None:\n",
    "        if(dataframes == None):\n",
    "            dataframes = dict()\n",
    "        self.dataframes = dataframes\n",
    "        self.applied_dfs:dict[str,dict[str,pd.DataFrame]] = {'yearly':dict(),'yearly_district':dict(),'pivots':dict()}\n",
    "\n",
    "    def add_dataframe(self,dataframe:dict[str,pd.DataFrame]):\n",
    "        self.dataframes.update(dataframe)\n",
    "\n",
    "    # def _apply_to_all_dataframes(self,method_name:str,column_name:str|None = None,args: list|None = None,kwargs:dict|None = None):\n",
    "    #     for dataframe_name,dataframe in self.dataframes.items():\n",
    "    #         method = getattr(dataframe,method_name)\n",
    "    #         if column_name is not None:\n",
    "    #             result = dataframe.apply(method_name,args=*args,kwargs=**kwargs)\n",
    "    #         elif args is not None and kwargs is not None:\n",
    "    #             result = method(*args, **kwargs)\n",
    "    #         else:\n",
    "    #             result = method()\n",
    "    #         print(f\"Result for {dataframe_name}.{method_name} : {result}\")\n",
    "    #         self.applied_dfs[dataframe_name+\".\"+method_name] = result\n",
    "\n",
    "    def analyze(self):\n",
    "        # self._apply_to_all_dataframes(\"describe\")\n",
    "        for dataframe_name,dataframe in self.dataframes.items():\n",
    "            self.applied_dfs[\"yearly\"][dataframe_name+\"_yearly\"] = dataframe.groupby([\"year\",\"month\" ,\"commodity\"])\\\n",
    "                .agg({\"modal_rs_quintal\": \"mean\", \"min_rs_quintal\": \"mean\", \"max_rs_quintal\": \"mean\"})\\\n",
    "                .reset_index()\n",
    "            print(self.applied_dfs['yearly'][dataframe_name+'_yearly'])\n",
    "            px.box(\n",
    "                data_frame=self.applied_dfs['yearly'][dataframe_name+\"_yearly\"],\n",
    "                x=self.applied_dfs['yearly'][dataframe_name+\"_yearly\"][\"year\"],\n",
    "                y=[\n",
    "                    self.applied_dfs['yearly'][dataframe_name+\"_yearly\"][\"modal_rs_quintal\"],\n",
    "                    self.applied_dfs['yearly'][dataframe_name+\"_yearly\"][\"min_rs_quintal\"],\n",
    "                    self.applied_dfs['yearly'][dataframe_name+\"_yearly\"][\"max_rs_quintal\"],\n",
    "                ],\n",
    "                color=self.applied_dfs['yearly'][dataframe_name+\"_yearly\"][\"commodity\"],\n",
    "                hover_data=\"month\",)\n",
    "            self.applied_dfs['yearly_district'][dataframe_name+\"_yearly_district\"] = (\n",
    "                dataframe.groupby([\"year\",\"district_name\",\"commodity\"])\n",
    "                .agg(\n",
    "                    {\"modal_rs_quintal\": \"mean\", \"min_rs_quintal\": \"mean\", \"max_rs_quintal\": \"mean\"}\n",
    "                )\n",
    "                .reset_index())\n",
    "            self.applied_dfs[\"pivots\"][dataframe_name + \"_yearly_pivot\"] = self.applied_dfs[\"yearly_district\"][\n",
    "                dataframe_name + \"_yearly_district\"\n",
    "                ].pivot_table(\n",
    "                    index=\"year\",\n",
    "                    columns=\"commodity\",\n",
    "                    values=\"modal_rs_quintal\",\n",
    "                    fill_value=0,\n",
    "                )\n",
    "            fig = px.bar(\n",
    "                data_frame=self.applied_dfs[\"pivots\"][dataframe_name + \"_yearly_pivot\"],\n",
    "                barmode=\"group\",\n",
    "            )\n",
    "            fig.update_layout(\n",
    "                xaxis_showgrid=True, yaxis_showgrid=False  # Add grid lines on the x-axis\n",
    "            )\n",
    "\n",
    "            # Optionally, customize grid line appearance\n",
    "            fig.update_layout(\n",
    "                xaxis_gridcolor=\"#bbbbbb\",  # Set grid line color for x-axis\n",
    "            )\n",
    "            fig.show()\n",
    "\n",
    "    def pivot_plot(self):\n",
    "        columns = [\"Onion\", \"Potato\", \"Rice\", \"Wheat\"]\n",
    "        for column in columns:\n",
    "            y_list = [dataframe[column] for dataframe in self.applied_dfs[\"pivots\"].values()]\n",
    "            years = {\n",
    "                dataframe_name:dataframe.index  for dataframe_name,dataframe in self.applied_dfs[\"pivots\"].items() \n",
    "            }\n",
    "            print(\"column:\",column,\"with\",list(list(years.values())[0]))\n",
    "            print(\"y list \",y_list)\n",
    "            px.line(\n",
    "                x=list(list(years.values())[0]),\n",
    "                y=y_list\n",
    "            )"
   ]
  },
  {
   "cell_type": "code",
   "execution_count": 108,
   "metadata": {},
   "outputs": [],
   "source": [
    "dataframes = {\"UP\":up_5yrs,\"MP\":mp_5yrs,\"RJ\":rj_5yrs,\"PB\":pb_5yrs,\"WB\":wb_5yrs}"
   ]
  },
  {
   "cell_type": "code",
   "execution_count": 109,
   "metadata": {},
   "outputs": [],
   "source": [
    "analyser = Analyser(dataframes=dataframes)"
   ]
  },
  {
   "cell_type": "code",
   "execution_count": 110,
   "metadata": {},
   "outputs": [
    {
     "name": "stdout",
     "output_type": "stream",
     "text": [
      "     year month commodity  modal_rs_quintal  min_rs_quintal  max_rs_quintal\n",
      "0    2018   Apr     Onion       1051.819009      973.276171     1094.066533\n",
      "1    2018   Apr    Potato        832.345467      755.080488      862.757631\n",
      "2    2018   Apr      Rice       2302.875200     2217.546000     2333.180000\n",
      "3    2018   Apr     Wheat       1703.699893     1620.188402     1659.047835\n",
      "4    2018   Aug     Onion       1377.477138     1310.061741     1427.844226\n",
      "..    ...   ...       ...               ...             ...             ...\n",
      "319  2024   May     Wheat       2325.828225     2294.166073     2358.731765\n",
      "320  2024   Sep     Onion       3336.481481     3234.814815     3437.407407\n",
      "321  2024   Sep    Potato       2132.000000     2052.333333     2217.500000\n",
      "322  2024   Sep      Rice       3090.000000     3023.333333     3155.555556\n",
      "323  2024   Sep     Wheat       2481.466667     2399.266667     2528.533333\n",
      "\n",
      "[324 rows x 6 columns]\n"
     ]
    },
    {
     "data": {
      "application/vnd.plotly.v1+json": {
       "config": {
        "plotlyServerURL": "https://plot.ly"
       },
       "data": [
        {
         "alignmentgroup": "True",
         "hovertemplate": "commodity=Onion<br>year=%{x}<br>value=%{y}<extra></extra>",
         "legendgroup": "Onion",
         "marker": {
          "color": "#636efa",
          "pattern": {
           "shape": ""
          }
         },
         "name": "Onion",
         "offsetgroup": "Onion",
         "orientation": "v",
         "showlegend": true,
         "textposition": "auto",
         "type": "bar",
         "x": [
          2018,
          2019,
          2020,
          2021,
          2022,
          2023,
          2024
         ],
         "xaxis": "x",
         "y": [
          1419.7398681694804,
          1669.9212095289301,
          2241.912673129002,
          2076.4752702087444,
          1547.3511736761072,
          1754.1826985687233,
          2053.5739048528953
         ],
         "yaxis": "y"
        },
        {
         "alignmentgroup": "True",
         "hovertemplate": "commodity=Potato<br>year=%{x}<br>value=%{y}<extra></extra>",
         "legendgroup": "Potato",
         "marker": {
          "color": "#EF553B",
          "pattern": {
           "shape": ""
          }
         },
         "name": "Potato",
         "offsetgroup": "Potato",
         "orientation": "v",
         "showlegend": true,
         "textposition": "auto",
         "type": "bar",
         "x": [
          2018,
          2019,
          2020,
          2021,
          2022,
          2023,
          2024
         ],
         "xaxis": "x",
         "y": [
          988.3625352645574,
          777.6067067355875,
          1819.071117359476,
          957.5477250072729,
          1199.6978447287406,
          926.7382213826077,
          1525.3479937465536
         ],
         "yaxis": "y"
        },
        {
         "alignmentgroup": "True",
         "hovertemplate": "commodity=Rice<br>year=%{x}<br>value=%{y}<extra></extra>",
         "legendgroup": "Rice",
         "marker": {
          "color": "#00cc96",
          "pattern": {
           "shape": ""
          }
         },
         "name": "Rice",
         "offsetgroup": "Rice",
         "orientation": "v",
         "showlegend": true,
         "textposition": "auto",
         "type": "bar",
         "x": [
          2018,
          2019,
          2020,
          2021,
          2022,
          2023,
          2024
         ],
         "xaxis": "x",
         "y": [
          2327.091767908471,
          2463.1665907779256,
          2549.6295961648257,
          2478.131282301615,
          2574.2852668433798,
          2704.6929170702833,
          2959.963966880541
         ],
         "yaxis": "y"
        },
        {
         "alignmentgroup": "True",
         "hovertemplate": "commodity=Wheat<br>year=%{x}<br>value=%{y}<extra></extra>",
         "legendgroup": "Wheat",
         "marker": {
          "color": "#ab63fa",
          "pattern": {
           "shape": ""
          }
         },
         "name": "Wheat",
         "offsetgroup": "Wheat",
         "orientation": "v",
         "showlegend": true,
         "textposition": "auto",
         "type": "bar",
         "x": [
          2018,
          2019,
          2020,
          2021,
          2022,
          2023,
          2024
         ],
         "xaxis": "x",
         "y": [
          1715.2137356189237,
          1881.4883439962039,
          1877.8820946807111,
          1818.6349879617997,
          2152.1134454812814,
          2336.2338479728996,
          2417.911821759033
         ],
         "yaxis": "y"
        }
       ],
       "layout": {
        "barmode": "group",
        "legend": {
         "title": {
          "text": "commodity"
         },
         "tracegroupgap": 0
        },
        "margin": {
         "t": 60
        },
        "template": {
         "data": {
          "bar": [
           {
            "error_x": {
             "color": "#2a3f5f"
            },
            "error_y": {
             "color": "#2a3f5f"
            },
            "marker": {
             "line": {
              "color": "#E5ECF6",
              "width": 0.5
             },
             "pattern": {
              "fillmode": "overlay",
              "size": 10,
              "solidity": 0.2
             }
            },
            "type": "bar"
           }
          ],
          "barpolar": [
           {
            "marker": {
             "line": {
              "color": "#E5ECF6",
              "width": 0.5
             },
             "pattern": {
              "fillmode": "overlay",
              "size": 10,
              "solidity": 0.2
             }
            },
            "type": "barpolar"
           }
          ],
          "carpet": [
           {
            "aaxis": {
             "endlinecolor": "#2a3f5f",
             "gridcolor": "white",
             "linecolor": "white",
             "minorgridcolor": "white",
             "startlinecolor": "#2a3f5f"
            },
            "baxis": {
             "endlinecolor": "#2a3f5f",
             "gridcolor": "white",
             "linecolor": "white",
             "minorgridcolor": "white",
             "startlinecolor": "#2a3f5f"
            },
            "type": "carpet"
           }
          ],
          "choropleth": [
           {
            "colorbar": {
             "outlinewidth": 0,
             "ticks": ""
            },
            "type": "choropleth"
           }
          ],
          "contour": [
           {
            "colorbar": {
             "outlinewidth": 0,
             "ticks": ""
            },
            "colorscale": [
             [
              0,
              "#0d0887"
             ],
             [
              0.1111111111111111,
              "#46039f"
             ],
             [
              0.2222222222222222,
              "#7201a8"
             ],
             [
              0.3333333333333333,
              "#9c179e"
             ],
             [
              0.4444444444444444,
              "#bd3786"
             ],
             [
              0.5555555555555556,
              "#d8576b"
             ],
             [
              0.6666666666666666,
              "#ed7953"
             ],
             [
              0.7777777777777778,
              "#fb9f3a"
             ],
             [
              0.8888888888888888,
              "#fdca26"
             ],
             [
              1,
              "#f0f921"
             ]
            ],
            "type": "contour"
           }
          ],
          "contourcarpet": [
           {
            "colorbar": {
             "outlinewidth": 0,
             "ticks": ""
            },
            "type": "contourcarpet"
           }
          ],
          "heatmap": [
           {
            "colorbar": {
             "outlinewidth": 0,
             "ticks": ""
            },
            "colorscale": [
             [
              0,
              "#0d0887"
             ],
             [
              0.1111111111111111,
              "#46039f"
             ],
             [
              0.2222222222222222,
              "#7201a8"
             ],
             [
              0.3333333333333333,
              "#9c179e"
             ],
             [
              0.4444444444444444,
              "#bd3786"
             ],
             [
              0.5555555555555556,
              "#d8576b"
             ],
             [
              0.6666666666666666,
              "#ed7953"
             ],
             [
              0.7777777777777778,
              "#fb9f3a"
             ],
             [
              0.8888888888888888,
              "#fdca26"
             ],
             [
              1,
              "#f0f921"
             ]
            ],
            "type": "heatmap"
           }
          ],
          "heatmapgl": [
           {
            "colorbar": {
             "outlinewidth": 0,
             "ticks": ""
            },
            "colorscale": [
             [
              0,
              "#0d0887"
             ],
             [
              0.1111111111111111,
              "#46039f"
             ],
             [
              0.2222222222222222,
              "#7201a8"
             ],
             [
              0.3333333333333333,
              "#9c179e"
             ],
             [
              0.4444444444444444,
              "#bd3786"
             ],
             [
              0.5555555555555556,
              "#d8576b"
             ],
             [
              0.6666666666666666,
              "#ed7953"
             ],
             [
              0.7777777777777778,
              "#fb9f3a"
             ],
             [
              0.8888888888888888,
              "#fdca26"
             ],
             [
              1,
              "#f0f921"
             ]
            ],
            "type": "heatmapgl"
           }
          ],
          "histogram": [
           {
            "marker": {
             "pattern": {
              "fillmode": "overlay",
              "size": 10,
              "solidity": 0.2
             }
            },
            "type": "histogram"
           }
          ],
          "histogram2d": [
           {
            "colorbar": {
             "outlinewidth": 0,
             "ticks": ""
            },
            "colorscale": [
             [
              0,
              "#0d0887"
             ],
             [
              0.1111111111111111,
              "#46039f"
             ],
             [
              0.2222222222222222,
              "#7201a8"
             ],
             [
              0.3333333333333333,
              "#9c179e"
             ],
             [
              0.4444444444444444,
              "#bd3786"
             ],
             [
              0.5555555555555556,
              "#d8576b"
             ],
             [
              0.6666666666666666,
              "#ed7953"
             ],
             [
              0.7777777777777778,
              "#fb9f3a"
             ],
             [
              0.8888888888888888,
              "#fdca26"
             ],
             [
              1,
              "#f0f921"
             ]
            ],
            "type": "histogram2d"
           }
          ],
          "histogram2dcontour": [
           {
            "colorbar": {
             "outlinewidth": 0,
             "ticks": ""
            },
            "colorscale": [
             [
              0,
              "#0d0887"
             ],
             [
              0.1111111111111111,
              "#46039f"
             ],
             [
              0.2222222222222222,
              "#7201a8"
             ],
             [
              0.3333333333333333,
              "#9c179e"
             ],
             [
              0.4444444444444444,
              "#bd3786"
             ],
             [
              0.5555555555555556,
              "#d8576b"
             ],
             [
              0.6666666666666666,
              "#ed7953"
             ],
             [
              0.7777777777777778,
              "#fb9f3a"
             ],
             [
              0.8888888888888888,
              "#fdca26"
             ],
             [
              1,
              "#f0f921"
             ]
            ],
            "type": "histogram2dcontour"
           }
          ],
          "mesh3d": [
           {
            "colorbar": {
             "outlinewidth": 0,
             "ticks": ""
            },
            "type": "mesh3d"
           }
          ],
          "parcoords": [
           {
            "line": {
             "colorbar": {
              "outlinewidth": 0,
              "ticks": ""
             }
            },
            "type": "parcoords"
           }
          ],
          "pie": [
           {
            "automargin": true,
            "type": "pie"
           }
          ],
          "scatter": [
           {
            "fillpattern": {
             "fillmode": "overlay",
             "size": 10,
             "solidity": 0.2
            },
            "type": "scatter"
           }
          ],
          "scatter3d": [
           {
            "line": {
             "colorbar": {
              "outlinewidth": 0,
              "ticks": ""
             }
            },
            "marker": {
             "colorbar": {
              "outlinewidth": 0,
              "ticks": ""
             }
            },
            "type": "scatter3d"
           }
          ],
          "scattercarpet": [
           {
            "marker": {
             "colorbar": {
              "outlinewidth": 0,
              "ticks": ""
             }
            },
            "type": "scattercarpet"
           }
          ],
          "scattergeo": [
           {
            "marker": {
             "colorbar": {
              "outlinewidth": 0,
              "ticks": ""
             }
            },
            "type": "scattergeo"
           }
          ],
          "scattergl": [
           {
            "marker": {
             "colorbar": {
              "outlinewidth": 0,
              "ticks": ""
             }
            },
            "type": "scattergl"
           }
          ],
          "scattermapbox": [
           {
            "marker": {
             "colorbar": {
              "outlinewidth": 0,
              "ticks": ""
             }
            },
            "type": "scattermapbox"
           }
          ],
          "scatterpolar": [
           {
            "marker": {
             "colorbar": {
              "outlinewidth": 0,
              "ticks": ""
             }
            },
            "type": "scatterpolar"
           }
          ],
          "scatterpolargl": [
           {
            "marker": {
             "colorbar": {
              "outlinewidth": 0,
              "ticks": ""
             }
            },
            "type": "scatterpolargl"
           }
          ],
          "scatterternary": [
           {
            "marker": {
             "colorbar": {
              "outlinewidth": 0,
              "ticks": ""
             }
            },
            "type": "scatterternary"
           }
          ],
          "surface": [
           {
            "colorbar": {
             "outlinewidth": 0,
             "ticks": ""
            },
            "colorscale": [
             [
              0,
              "#0d0887"
             ],
             [
              0.1111111111111111,
              "#46039f"
             ],
             [
              0.2222222222222222,
              "#7201a8"
             ],
             [
              0.3333333333333333,
              "#9c179e"
             ],
             [
              0.4444444444444444,
              "#bd3786"
             ],
             [
              0.5555555555555556,
              "#d8576b"
             ],
             [
              0.6666666666666666,
              "#ed7953"
             ],
             [
              0.7777777777777778,
              "#fb9f3a"
             ],
             [
              0.8888888888888888,
              "#fdca26"
             ],
             [
              1,
              "#f0f921"
             ]
            ],
            "type": "surface"
           }
          ],
          "table": [
           {
            "cells": {
             "fill": {
              "color": "#EBF0F8"
             },
             "line": {
              "color": "white"
             }
            },
            "header": {
             "fill": {
              "color": "#C8D4E3"
             },
             "line": {
              "color": "white"
             }
            },
            "type": "table"
           }
          ]
         },
         "layout": {
          "annotationdefaults": {
           "arrowcolor": "#2a3f5f",
           "arrowhead": 0,
           "arrowwidth": 1
          },
          "autotypenumbers": "strict",
          "coloraxis": {
           "colorbar": {
            "outlinewidth": 0,
            "ticks": ""
           }
          },
          "colorscale": {
           "diverging": [
            [
             0,
             "#8e0152"
            ],
            [
             0.1,
             "#c51b7d"
            ],
            [
             0.2,
             "#de77ae"
            ],
            [
             0.3,
             "#f1b6da"
            ],
            [
             0.4,
             "#fde0ef"
            ],
            [
             0.5,
             "#f7f7f7"
            ],
            [
             0.6,
             "#e6f5d0"
            ],
            [
             0.7,
             "#b8e186"
            ],
            [
             0.8,
             "#7fbc41"
            ],
            [
             0.9,
             "#4d9221"
            ],
            [
             1,
             "#276419"
            ]
           ],
           "sequential": [
            [
             0,
             "#0d0887"
            ],
            [
             0.1111111111111111,
             "#46039f"
            ],
            [
             0.2222222222222222,
             "#7201a8"
            ],
            [
             0.3333333333333333,
             "#9c179e"
            ],
            [
             0.4444444444444444,
             "#bd3786"
            ],
            [
             0.5555555555555556,
             "#d8576b"
            ],
            [
             0.6666666666666666,
             "#ed7953"
            ],
            [
             0.7777777777777778,
             "#fb9f3a"
            ],
            [
             0.8888888888888888,
             "#fdca26"
            ],
            [
             1,
             "#f0f921"
            ]
           ],
           "sequentialminus": [
            [
             0,
             "#0d0887"
            ],
            [
             0.1111111111111111,
             "#46039f"
            ],
            [
             0.2222222222222222,
             "#7201a8"
            ],
            [
             0.3333333333333333,
             "#9c179e"
            ],
            [
             0.4444444444444444,
             "#bd3786"
            ],
            [
             0.5555555555555556,
             "#d8576b"
            ],
            [
             0.6666666666666666,
             "#ed7953"
            ],
            [
             0.7777777777777778,
             "#fb9f3a"
            ],
            [
             0.8888888888888888,
             "#fdca26"
            ],
            [
             1,
             "#f0f921"
            ]
           ]
          },
          "colorway": [
           "#636efa",
           "#EF553B",
           "#00cc96",
           "#ab63fa",
           "#FFA15A",
           "#19d3f3",
           "#FF6692",
           "#B6E880",
           "#FF97FF",
           "#FECB52"
          ],
          "font": {
           "color": "#2a3f5f"
          },
          "geo": {
           "bgcolor": "white",
           "lakecolor": "white",
           "landcolor": "#E5ECF6",
           "showlakes": true,
           "showland": true,
           "subunitcolor": "white"
          },
          "hoverlabel": {
           "align": "left"
          },
          "hovermode": "closest",
          "mapbox": {
           "style": "light"
          },
          "paper_bgcolor": "white",
          "plot_bgcolor": "#E5ECF6",
          "polar": {
           "angularaxis": {
            "gridcolor": "white",
            "linecolor": "white",
            "ticks": ""
           },
           "bgcolor": "#E5ECF6",
           "radialaxis": {
            "gridcolor": "white",
            "linecolor": "white",
            "ticks": ""
           }
          },
          "scene": {
           "xaxis": {
            "backgroundcolor": "#E5ECF6",
            "gridcolor": "white",
            "gridwidth": 2,
            "linecolor": "white",
            "showbackground": true,
            "ticks": "",
            "zerolinecolor": "white"
           },
           "yaxis": {
            "backgroundcolor": "#E5ECF6",
            "gridcolor": "white",
            "gridwidth": 2,
            "linecolor": "white",
            "showbackground": true,
            "ticks": "",
            "zerolinecolor": "white"
           },
           "zaxis": {
            "backgroundcolor": "#E5ECF6",
            "gridcolor": "white",
            "gridwidth": 2,
            "linecolor": "white",
            "showbackground": true,
            "ticks": "",
            "zerolinecolor": "white"
           }
          },
          "shapedefaults": {
           "line": {
            "color": "#2a3f5f"
           }
          },
          "ternary": {
           "aaxis": {
            "gridcolor": "white",
            "linecolor": "white",
            "ticks": ""
           },
           "baxis": {
            "gridcolor": "white",
            "linecolor": "white",
            "ticks": ""
           },
           "bgcolor": "#E5ECF6",
           "caxis": {
            "gridcolor": "white",
            "linecolor": "white",
            "ticks": ""
           }
          },
          "title": {
           "x": 0.05
          },
          "xaxis": {
           "automargin": true,
           "gridcolor": "white",
           "linecolor": "white",
           "ticks": "",
           "title": {
            "standoff": 15
           },
           "zerolinecolor": "white",
           "zerolinewidth": 2
          },
          "yaxis": {
           "automargin": true,
           "gridcolor": "white",
           "linecolor": "white",
           "ticks": "",
           "title": {
            "standoff": 15
           },
           "zerolinecolor": "white",
           "zerolinewidth": 2
          }
         }
        },
        "xaxis": {
         "anchor": "y",
         "domain": [
          0,
          1
         ],
         "gridcolor": "#bbbbbb",
         "showgrid": true,
         "title": {
          "text": "year"
         }
        },
        "yaxis": {
         "anchor": "x",
         "domain": [
          0,
          1
         ],
         "showgrid": false,
         "title": {
          "text": "value"
         }
        }
       }
      }
     },
     "metadata": {},
     "output_type": "display_data"
    },
    {
     "name": "stdout",
     "output_type": "stream",
     "text": [
      "     year month commodity  modal_rs_quintal  min_rs_quintal  max_rs_quintal\n",
      "0    2018   Apr     Onion        670.614907      494.950311      819.144928\n",
      "1    2018   Apr    Potato        813.873321      637.938580      994.884837\n",
      "2    2018   Apr      Rice       1735.000000     1735.000000     1735.000000\n",
      "3    2018   Apr     Wheat       1710.852037     1610.589323     1814.700675\n",
      "4    2018   Aug     Onion        781.157627      509.145763     1006.405085\n",
      "..    ...   ...       ...               ...             ...             ...\n",
      "247  2024   May     Onion        954.772185      507.529801     1626.082119\n",
      "248  2024   May    Potato       1587.941176     1199.611765     1646.070588\n",
      "249  2024   May     Wheat       2425.996127     2271.616120     2627.777442\n",
      "250  2024   Sep     Onion       2500.000000     2500.000000     2500.000000\n",
      "251  2024   Sep     Wheat       2523.973684     2417.868421     2535.368421\n",
      "\n",
      "[252 rows x 6 columns]\n"
     ]
    },
    {
     "data": {
      "application/vnd.plotly.v1+json": {
       "config": {
        "plotlyServerURL": "https://plot.ly"
       },
       "data": [
        {
         "alignmentgroup": "True",
         "hovertemplate": "commodity=Onion<br>year=%{x}<br>value=%{y}<extra></extra>",
         "legendgroup": "Onion",
         "marker": {
          "color": "#636efa",
          "pattern": {
           "shape": ""
          }
         },
         "name": "Onion",
         "offsetgroup": "Onion",
         "orientation": "v",
         "showlegend": true,
         "textposition": "auto",
         "type": "bar",
         "x": [
          2018,
          2019,
          2020,
          2021,
          2022,
          2023,
          2024
         ],
         "xaxis": "x",
         "y": [
          869.962522758752,
          1024.3080355609145,
          1572.0500221481534,
          1526.4354729559827,
          976.7071510105741,
          1171.777439814442,
          1511.9710169535958
         ],
         "yaxis": "y"
        },
        {
         "alignmentgroup": "True",
         "hovertemplate": "commodity=Potato<br>year=%{x}<br>value=%{y}<extra></extra>",
         "legendgroup": "Potato",
         "marker": {
          "color": "#EF553B",
          "pattern": {
           "shape": ""
          }
         },
         "name": "Potato",
         "offsetgroup": "Potato",
         "orientation": "v",
         "showlegend": true,
         "textposition": "auto",
         "type": "bar",
         "x": [
          2018,
          2019,
          2020,
          2021,
          2022,
          2023,
          2024
         ],
         "xaxis": "x",
         "y": [
          887.563697112241,
          818.0414087228907,
          1626.0135029190835,
          1042.9292394518407,
          1093.1431665621908,
          976.97786801052,
          1236.7109234318732
         ],
         "yaxis": "y"
        },
        {
         "alignmentgroup": "True",
         "hovertemplate": "commodity=Rice<br>year=%{x}<br>value=%{y}<extra></extra>",
         "legendgroup": "Rice",
         "marker": {
          "color": "#00cc96",
          "pattern": {
           "shape": ""
          }
         },
         "name": "Rice",
         "offsetgroup": "Rice",
         "orientation": "v",
         "showlegend": true,
         "textposition": "auto",
         "type": "bar",
         "x": [
          2018,
          2019,
          2020,
          2021,
          2022,
          2023,
          2024
         ],
         "xaxis": "x",
         "y": [
          2260.6,
          1731.8181818181818,
          0,
          0,
          0,
          3433.5,
          0
         ],
         "yaxis": "y"
        },
        {
         "alignmentgroup": "True",
         "hovertemplate": "commodity=Wheat<br>year=%{x}<br>value=%{y}<extra></extra>",
         "legendgroup": "Wheat",
         "marker": {
          "color": "#ab63fa",
          "pattern": {
           "shape": ""
          }
         },
         "name": "Wheat",
         "offsetgroup": "Wheat",
         "orientation": "v",
         "showlegend": true,
         "textposition": "auto",
         "type": "bar",
         "x": [
          2018,
          2019,
          2020,
          2021,
          2022,
          2023,
          2024
         ],
         "xaxis": "x",
         "y": [
          1770.3277307928913,
          1913.8399562427355,
          1832.559744740951,
          1797.3875868369855,
          2124.7892792291514,
          2303.7267939854896,
          2412.975806556365
         ],
         "yaxis": "y"
        }
       ],
       "layout": {
        "barmode": "group",
        "legend": {
         "title": {
          "text": "commodity"
         },
         "tracegroupgap": 0
        },
        "margin": {
         "t": 60
        },
        "template": {
         "data": {
          "bar": [
           {
            "error_x": {
             "color": "#2a3f5f"
            },
            "error_y": {
             "color": "#2a3f5f"
            },
            "marker": {
             "line": {
              "color": "#E5ECF6",
              "width": 0.5
             },
             "pattern": {
              "fillmode": "overlay",
              "size": 10,
              "solidity": 0.2
             }
            },
            "type": "bar"
           }
          ],
          "barpolar": [
           {
            "marker": {
             "line": {
              "color": "#E5ECF6",
              "width": 0.5
             },
             "pattern": {
              "fillmode": "overlay",
              "size": 10,
              "solidity": 0.2
             }
            },
            "type": "barpolar"
           }
          ],
          "carpet": [
           {
            "aaxis": {
             "endlinecolor": "#2a3f5f",
             "gridcolor": "white",
             "linecolor": "white",
             "minorgridcolor": "white",
             "startlinecolor": "#2a3f5f"
            },
            "baxis": {
             "endlinecolor": "#2a3f5f",
             "gridcolor": "white",
             "linecolor": "white",
             "minorgridcolor": "white",
             "startlinecolor": "#2a3f5f"
            },
            "type": "carpet"
           }
          ],
          "choropleth": [
           {
            "colorbar": {
             "outlinewidth": 0,
             "ticks": ""
            },
            "type": "choropleth"
           }
          ],
          "contour": [
           {
            "colorbar": {
             "outlinewidth": 0,
             "ticks": ""
            },
            "colorscale": [
             [
              0,
              "#0d0887"
             ],
             [
              0.1111111111111111,
              "#46039f"
             ],
             [
              0.2222222222222222,
              "#7201a8"
             ],
             [
              0.3333333333333333,
              "#9c179e"
             ],
             [
              0.4444444444444444,
              "#bd3786"
             ],
             [
              0.5555555555555556,
              "#d8576b"
             ],
             [
              0.6666666666666666,
              "#ed7953"
             ],
             [
              0.7777777777777778,
              "#fb9f3a"
             ],
             [
              0.8888888888888888,
              "#fdca26"
             ],
             [
              1,
              "#f0f921"
             ]
            ],
            "type": "contour"
           }
          ],
          "contourcarpet": [
           {
            "colorbar": {
             "outlinewidth": 0,
             "ticks": ""
            },
            "type": "contourcarpet"
           }
          ],
          "heatmap": [
           {
            "colorbar": {
             "outlinewidth": 0,
             "ticks": ""
            },
            "colorscale": [
             [
              0,
              "#0d0887"
             ],
             [
              0.1111111111111111,
              "#46039f"
             ],
             [
              0.2222222222222222,
              "#7201a8"
             ],
             [
              0.3333333333333333,
              "#9c179e"
             ],
             [
              0.4444444444444444,
              "#bd3786"
             ],
             [
              0.5555555555555556,
              "#d8576b"
             ],
             [
              0.6666666666666666,
              "#ed7953"
             ],
             [
              0.7777777777777778,
              "#fb9f3a"
             ],
             [
              0.8888888888888888,
              "#fdca26"
             ],
             [
              1,
              "#f0f921"
             ]
            ],
            "type": "heatmap"
           }
          ],
          "heatmapgl": [
           {
            "colorbar": {
             "outlinewidth": 0,
             "ticks": ""
            },
            "colorscale": [
             [
              0,
              "#0d0887"
             ],
             [
              0.1111111111111111,
              "#46039f"
             ],
             [
              0.2222222222222222,
              "#7201a8"
             ],
             [
              0.3333333333333333,
              "#9c179e"
             ],
             [
              0.4444444444444444,
              "#bd3786"
             ],
             [
              0.5555555555555556,
              "#d8576b"
             ],
             [
              0.6666666666666666,
              "#ed7953"
             ],
             [
              0.7777777777777778,
              "#fb9f3a"
             ],
             [
              0.8888888888888888,
              "#fdca26"
             ],
             [
              1,
              "#f0f921"
             ]
            ],
            "type": "heatmapgl"
           }
          ],
          "histogram": [
           {
            "marker": {
             "pattern": {
              "fillmode": "overlay",
              "size": 10,
              "solidity": 0.2
             }
            },
            "type": "histogram"
           }
          ],
          "histogram2d": [
           {
            "colorbar": {
             "outlinewidth": 0,
             "ticks": ""
            },
            "colorscale": [
             [
              0,
              "#0d0887"
             ],
             [
              0.1111111111111111,
              "#46039f"
             ],
             [
              0.2222222222222222,
              "#7201a8"
             ],
             [
              0.3333333333333333,
              "#9c179e"
             ],
             [
              0.4444444444444444,
              "#bd3786"
             ],
             [
              0.5555555555555556,
              "#d8576b"
             ],
             [
              0.6666666666666666,
              "#ed7953"
             ],
             [
              0.7777777777777778,
              "#fb9f3a"
             ],
             [
              0.8888888888888888,
              "#fdca26"
             ],
             [
              1,
              "#f0f921"
             ]
            ],
            "type": "histogram2d"
           }
          ],
          "histogram2dcontour": [
           {
            "colorbar": {
             "outlinewidth": 0,
             "ticks": ""
            },
            "colorscale": [
             [
              0,
              "#0d0887"
             ],
             [
              0.1111111111111111,
              "#46039f"
             ],
             [
              0.2222222222222222,
              "#7201a8"
             ],
             [
              0.3333333333333333,
              "#9c179e"
             ],
             [
              0.4444444444444444,
              "#bd3786"
             ],
             [
              0.5555555555555556,
              "#d8576b"
             ],
             [
              0.6666666666666666,
              "#ed7953"
             ],
             [
              0.7777777777777778,
              "#fb9f3a"
             ],
             [
              0.8888888888888888,
              "#fdca26"
             ],
             [
              1,
              "#f0f921"
             ]
            ],
            "type": "histogram2dcontour"
           }
          ],
          "mesh3d": [
           {
            "colorbar": {
             "outlinewidth": 0,
             "ticks": ""
            },
            "type": "mesh3d"
           }
          ],
          "parcoords": [
           {
            "line": {
             "colorbar": {
              "outlinewidth": 0,
              "ticks": ""
             }
            },
            "type": "parcoords"
           }
          ],
          "pie": [
           {
            "automargin": true,
            "type": "pie"
           }
          ],
          "scatter": [
           {
            "fillpattern": {
             "fillmode": "overlay",
             "size": 10,
             "solidity": 0.2
            },
            "type": "scatter"
           }
          ],
          "scatter3d": [
           {
            "line": {
             "colorbar": {
              "outlinewidth": 0,
              "ticks": ""
             }
            },
            "marker": {
             "colorbar": {
              "outlinewidth": 0,
              "ticks": ""
             }
            },
            "type": "scatter3d"
           }
          ],
          "scattercarpet": [
           {
            "marker": {
             "colorbar": {
              "outlinewidth": 0,
              "ticks": ""
             }
            },
            "type": "scattercarpet"
           }
          ],
          "scattergeo": [
           {
            "marker": {
             "colorbar": {
              "outlinewidth": 0,
              "ticks": ""
             }
            },
            "type": "scattergeo"
           }
          ],
          "scattergl": [
           {
            "marker": {
             "colorbar": {
              "outlinewidth": 0,
              "ticks": ""
             }
            },
            "type": "scattergl"
           }
          ],
          "scattermapbox": [
           {
            "marker": {
             "colorbar": {
              "outlinewidth": 0,
              "ticks": ""
             }
            },
            "type": "scattermapbox"
           }
          ],
          "scatterpolar": [
           {
            "marker": {
             "colorbar": {
              "outlinewidth": 0,
              "ticks": ""
             }
            },
            "type": "scatterpolar"
           }
          ],
          "scatterpolargl": [
           {
            "marker": {
             "colorbar": {
              "outlinewidth": 0,
              "ticks": ""
             }
            },
            "type": "scatterpolargl"
           }
          ],
          "scatterternary": [
           {
            "marker": {
             "colorbar": {
              "outlinewidth": 0,
              "ticks": ""
             }
            },
            "type": "scatterternary"
           }
          ],
          "surface": [
           {
            "colorbar": {
             "outlinewidth": 0,
             "ticks": ""
            },
            "colorscale": [
             [
              0,
              "#0d0887"
             ],
             [
              0.1111111111111111,
              "#46039f"
             ],
             [
              0.2222222222222222,
              "#7201a8"
             ],
             [
              0.3333333333333333,
              "#9c179e"
             ],
             [
              0.4444444444444444,
              "#bd3786"
             ],
             [
              0.5555555555555556,
              "#d8576b"
             ],
             [
              0.6666666666666666,
              "#ed7953"
             ],
             [
              0.7777777777777778,
              "#fb9f3a"
             ],
             [
              0.8888888888888888,
              "#fdca26"
             ],
             [
              1,
              "#f0f921"
             ]
            ],
            "type": "surface"
           }
          ],
          "table": [
           {
            "cells": {
             "fill": {
              "color": "#EBF0F8"
             },
             "line": {
              "color": "white"
             }
            },
            "header": {
             "fill": {
              "color": "#C8D4E3"
             },
             "line": {
              "color": "white"
             }
            },
            "type": "table"
           }
          ]
         },
         "layout": {
          "annotationdefaults": {
           "arrowcolor": "#2a3f5f",
           "arrowhead": 0,
           "arrowwidth": 1
          },
          "autotypenumbers": "strict",
          "coloraxis": {
           "colorbar": {
            "outlinewidth": 0,
            "ticks": ""
           }
          },
          "colorscale": {
           "diverging": [
            [
             0,
             "#8e0152"
            ],
            [
             0.1,
             "#c51b7d"
            ],
            [
             0.2,
             "#de77ae"
            ],
            [
             0.3,
             "#f1b6da"
            ],
            [
             0.4,
             "#fde0ef"
            ],
            [
             0.5,
             "#f7f7f7"
            ],
            [
             0.6,
             "#e6f5d0"
            ],
            [
             0.7,
             "#b8e186"
            ],
            [
             0.8,
             "#7fbc41"
            ],
            [
             0.9,
             "#4d9221"
            ],
            [
             1,
             "#276419"
            ]
           ],
           "sequential": [
            [
             0,
             "#0d0887"
            ],
            [
             0.1111111111111111,
             "#46039f"
            ],
            [
             0.2222222222222222,
             "#7201a8"
            ],
            [
             0.3333333333333333,
             "#9c179e"
            ],
            [
             0.4444444444444444,
             "#bd3786"
            ],
            [
             0.5555555555555556,
             "#d8576b"
            ],
            [
             0.6666666666666666,
             "#ed7953"
            ],
            [
             0.7777777777777778,
             "#fb9f3a"
            ],
            [
             0.8888888888888888,
             "#fdca26"
            ],
            [
             1,
             "#f0f921"
            ]
           ],
           "sequentialminus": [
            [
             0,
             "#0d0887"
            ],
            [
             0.1111111111111111,
             "#46039f"
            ],
            [
             0.2222222222222222,
             "#7201a8"
            ],
            [
             0.3333333333333333,
             "#9c179e"
            ],
            [
             0.4444444444444444,
             "#bd3786"
            ],
            [
             0.5555555555555556,
             "#d8576b"
            ],
            [
             0.6666666666666666,
             "#ed7953"
            ],
            [
             0.7777777777777778,
             "#fb9f3a"
            ],
            [
             0.8888888888888888,
             "#fdca26"
            ],
            [
             1,
             "#f0f921"
            ]
           ]
          },
          "colorway": [
           "#636efa",
           "#EF553B",
           "#00cc96",
           "#ab63fa",
           "#FFA15A",
           "#19d3f3",
           "#FF6692",
           "#B6E880",
           "#FF97FF",
           "#FECB52"
          ],
          "font": {
           "color": "#2a3f5f"
          },
          "geo": {
           "bgcolor": "white",
           "lakecolor": "white",
           "landcolor": "#E5ECF6",
           "showlakes": true,
           "showland": true,
           "subunitcolor": "white"
          },
          "hoverlabel": {
           "align": "left"
          },
          "hovermode": "closest",
          "mapbox": {
           "style": "light"
          },
          "paper_bgcolor": "white",
          "plot_bgcolor": "#E5ECF6",
          "polar": {
           "angularaxis": {
            "gridcolor": "white",
            "linecolor": "white",
            "ticks": ""
           },
           "bgcolor": "#E5ECF6",
           "radialaxis": {
            "gridcolor": "white",
            "linecolor": "white",
            "ticks": ""
           }
          },
          "scene": {
           "xaxis": {
            "backgroundcolor": "#E5ECF6",
            "gridcolor": "white",
            "gridwidth": 2,
            "linecolor": "white",
            "showbackground": true,
            "ticks": "",
            "zerolinecolor": "white"
           },
           "yaxis": {
            "backgroundcolor": "#E5ECF6",
            "gridcolor": "white",
            "gridwidth": 2,
            "linecolor": "white",
            "showbackground": true,
            "ticks": "",
            "zerolinecolor": "white"
           },
           "zaxis": {
            "backgroundcolor": "#E5ECF6",
            "gridcolor": "white",
            "gridwidth": 2,
            "linecolor": "white",
            "showbackground": true,
            "ticks": "",
            "zerolinecolor": "white"
           }
          },
          "shapedefaults": {
           "line": {
            "color": "#2a3f5f"
           }
          },
          "ternary": {
           "aaxis": {
            "gridcolor": "white",
            "linecolor": "white",
            "ticks": ""
           },
           "baxis": {
            "gridcolor": "white",
            "linecolor": "white",
            "ticks": ""
           },
           "bgcolor": "#E5ECF6",
           "caxis": {
            "gridcolor": "white",
            "linecolor": "white",
            "ticks": ""
           }
          },
          "title": {
           "x": 0.05
          },
          "xaxis": {
           "automargin": true,
           "gridcolor": "white",
           "linecolor": "white",
           "ticks": "",
           "title": {
            "standoff": 15
           },
           "zerolinecolor": "white",
           "zerolinewidth": 2
          },
          "yaxis": {
           "automargin": true,
           "gridcolor": "white",
           "linecolor": "white",
           "ticks": "",
           "title": {
            "standoff": 15
           },
           "zerolinecolor": "white",
           "zerolinewidth": 2
          }
         }
        },
        "xaxis": {
         "anchor": "y",
         "domain": [
          0,
          1
         ],
         "gridcolor": "#bbbbbb",
         "showgrid": true,
         "title": {
          "text": "year"
         }
        },
        "yaxis": {
         "anchor": "x",
         "domain": [
          0,
          1
         ],
         "showgrid": false,
         "title": {
          "text": "value"
         }
        }
       }
      }
     },
     "metadata": {},
     "output_type": "display_data"
    },
    {
     "name": "stdout",
     "output_type": "stream",
     "text": [
      "     year month commodity  modal_rs_quintal  min_rs_quintal  max_rs_quintal\n",
      "0    2018   Apr     Onion        823.835735      674.072046      950.953890\n",
      "1    2018   Apr    Potato        968.488372      829.651163     1094.634551\n",
      "2    2018   Apr     Wheat       1655.974324     1581.829730     1720.116757\n",
      "3    2018   Aug     Onion       1224.927374     1041.946927     1372.081006\n",
      "4    2018   Aug    Potato       1213.048048     1076.411411     1328.378378\n",
      "..    ...   ...       ...               ...             ...             ...\n",
      "241  2024   May     Onion       1404.630936     1149.805970     1609.238806\n",
      "242  2024   May    Potato       1522.611111     1303.784722     1699.312500\n",
      "243  2024   May     Wheat       2424.830180     2317.493377     2524.409177\n",
      "244  2024   Sep    Potato       2050.000000     1900.000000     2150.000000\n",
      "245  2024   Sep     Wheat       2680.000000     2650.000000     2690.000000\n",
      "\n",
      "[246 rows x 6 columns]\n"
     ]
    },
    {
     "data": {
      "application/vnd.plotly.v1+json": {
       "config": {
        "plotlyServerURL": "https://plot.ly"
       },
       "data": [
        {
         "alignmentgroup": "True",
         "hovertemplate": "commodity=Onion<br>year=%{x}<br>value=%{y}<extra></extra>",
         "legendgroup": "Onion",
         "marker": {
          "color": "#636efa",
          "pattern": {
           "shape": ""
          }
         },
         "name": "Onion",
         "offsetgroup": "Onion",
         "orientation": "v",
         "showlegend": true,
         "textposition": "auto",
         "type": "bar",
         "x": [
          2018,
          2019,
          2020,
          2021,
          2022,
          2023,
          2024
         ],
         "xaxis": "x",
         "y": [
          1235.6844374868497,
          1586.3598986439022,
          2127.568283851077,
          1757.5034693063524,
          1544.51696559675,
          1920.0084784578605,
          1898.3277475807383
         ],
         "yaxis": "y"
        },
        {
         "alignmentgroup": "True",
         "hovertemplate": "commodity=Potato<br>year=%{x}<br>value=%{y}<extra></extra>",
         "legendgroup": "Potato",
         "marker": {
          "color": "#EF553B",
          "pattern": {
           "shape": ""
          }
         },
         "name": "Potato",
         "offsetgroup": "Potato",
         "orientation": "v",
         "showlegend": true,
         "textposition": "auto",
         "type": "bar",
         "x": [
          2018,
          2019,
          2020,
          2021,
          2022,
          2023,
          2024
         ],
         "xaxis": "x",
         "y": [
          907.8187660380293,
          877.045925287075,
          1755.4734998075921,
          1030.075927361029,
          1258.3130733794221,
          972.7106268272994,
          1543.89318017458
         ],
         "yaxis": "y"
        },
        {
         "alignmentgroup": "True",
         "hovertemplate": "commodity=Rice<br>year=%{x}<br>value=%{y}<extra></extra>",
         "legendgroup": "Rice",
         "marker": {
          "color": "#00cc96",
          "pattern": {
           "shape": ""
          }
         },
         "name": "Rice",
         "offsetgroup": "Rice",
         "orientation": "v",
         "showlegend": true,
         "textposition": "auto",
         "type": "bar",
         "x": [
          2018,
          2019,
          2020,
          2021,
          2022,
          2023,
          2024
         ],
         "xaxis": "x",
         "y": [
          0,
          3175,
          0,
          0,
          0,
          3451,
          4453
         ],
         "yaxis": "y"
        },
        {
         "alignmentgroup": "True",
         "hovertemplate": "commodity=Wheat<br>year=%{x}<br>value=%{y}<extra></extra>",
         "legendgroup": "Wheat",
         "marker": {
          "color": "#ab63fa",
          "pattern": {
           "shape": ""
          }
         },
         "name": "Wheat",
         "offsetgroup": "Wheat",
         "orientation": "v",
         "showlegend": true,
         "textposition": "auto",
         "type": "bar",
         "x": [
          2018,
          2019,
          2020,
          2021,
          2022,
          2023,
          2024
         ],
         "xaxis": "x",
         "y": [
          1760.8192001474963,
          1954.7357624108135,
          1792.4673368050258,
          1814.1736507113592,
          2197.601405777327,
          2335.939244322101,
          2500.7283909644857
         ],
         "yaxis": "y"
        }
       ],
       "layout": {
        "barmode": "group",
        "legend": {
         "title": {
          "text": "commodity"
         },
         "tracegroupgap": 0
        },
        "margin": {
         "t": 60
        },
        "template": {
         "data": {
          "bar": [
           {
            "error_x": {
             "color": "#2a3f5f"
            },
            "error_y": {
             "color": "#2a3f5f"
            },
            "marker": {
             "line": {
              "color": "#E5ECF6",
              "width": 0.5
             },
             "pattern": {
              "fillmode": "overlay",
              "size": 10,
              "solidity": 0.2
             }
            },
            "type": "bar"
           }
          ],
          "barpolar": [
           {
            "marker": {
             "line": {
              "color": "#E5ECF6",
              "width": 0.5
             },
             "pattern": {
              "fillmode": "overlay",
              "size": 10,
              "solidity": 0.2
             }
            },
            "type": "barpolar"
           }
          ],
          "carpet": [
           {
            "aaxis": {
             "endlinecolor": "#2a3f5f",
             "gridcolor": "white",
             "linecolor": "white",
             "minorgridcolor": "white",
             "startlinecolor": "#2a3f5f"
            },
            "baxis": {
             "endlinecolor": "#2a3f5f",
             "gridcolor": "white",
             "linecolor": "white",
             "minorgridcolor": "white",
             "startlinecolor": "#2a3f5f"
            },
            "type": "carpet"
           }
          ],
          "choropleth": [
           {
            "colorbar": {
             "outlinewidth": 0,
             "ticks": ""
            },
            "type": "choropleth"
           }
          ],
          "contour": [
           {
            "colorbar": {
             "outlinewidth": 0,
             "ticks": ""
            },
            "colorscale": [
             [
              0,
              "#0d0887"
             ],
             [
              0.1111111111111111,
              "#46039f"
             ],
             [
              0.2222222222222222,
              "#7201a8"
             ],
             [
              0.3333333333333333,
              "#9c179e"
             ],
             [
              0.4444444444444444,
              "#bd3786"
             ],
             [
              0.5555555555555556,
              "#d8576b"
             ],
             [
              0.6666666666666666,
              "#ed7953"
             ],
             [
              0.7777777777777778,
              "#fb9f3a"
             ],
             [
              0.8888888888888888,
              "#fdca26"
             ],
             [
              1,
              "#f0f921"
             ]
            ],
            "type": "contour"
           }
          ],
          "contourcarpet": [
           {
            "colorbar": {
             "outlinewidth": 0,
             "ticks": ""
            },
            "type": "contourcarpet"
           }
          ],
          "heatmap": [
           {
            "colorbar": {
             "outlinewidth": 0,
             "ticks": ""
            },
            "colorscale": [
             [
              0,
              "#0d0887"
             ],
             [
              0.1111111111111111,
              "#46039f"
             ],
             [
              0.2222222222222222,
              "#7201a8"
             ],
             [
              0.3333333333333333,
              "#9c179e"
             ],
             [
              0.4444444444444444,
              "#bd3786"
             ],
             [
              0.5555555555555556,
              "#d8576b"
             ],
             [
              0.6666666666666666,
              "#ed7953"
             ],
             [
              0.7777777777777778,
              "#fb9f3a"
             ],
             [
              0.8888888888888888,
              "#fdca26"
             ],
             [
              1,
              "#f0f921"
             ]
            ],
            "type": "heatmap"
           }
          ],
          "heatmapgl": [
           {
            "colorbar": {
             "outlinewidth": 0,
             "ticks": ""
            },
            "colorscale": [
             [
              0,
              "#0d0887"
             ],
             [
              0.1111111111111111,
              "#46039f"
             ],
             [
              0.2222222222222222,
              "#7201a8"
             ],
             [
              0.3333333333333333,
              "#9c179e"
             ],
             [
              0.4444444444444444,
              "#bd3786"
             ],
             [
              0.5555555555555556,
              "#d8576b"
             ],
             [
              0.6666666666666666,
              "#ed7953"
             ],
             [
              0.7777777777777778,
              "#fb9f3a"
             ],
             [
              0.8888888888888888,
              "#fdca26"
             ],
             [
              1,
              "#f0f921"
             ]
            ],
            "type": "heatmapgl"
           }
          ],
          "histogram": [
           {
            "marker": {
             "pattern": {
              "fillmode": "overlay",
              "size": 10,
              "solidity": 0.2
             }
            },
            "type": "histogram"
           }
          ],
          "histogram2d": [
           {
            "colorbar": {
             "outlinewidth": 0,
             "ticks": ""
            },
            "colorscale": [
             [
              0,
              "#0d0887"
             ],
             [
              0.1111111111111111,
              "#46039f"
             ],
             [
              0.2222222222222222,
              "#7201a8"
             ],
             [
              0.3333333333333333,
              "#9c179e"
             ],
             [
              0.4444444444444444,
              "#bd3786"
             ],
             [
              0.5555555555555556,
              "#d8576b"
             ],
             [
              0.6666666666666666,
              "#ed7953"
             ],
             [
              0.7777777777777778,
              "#fb9f3a"
             ],
             [
              0.8888888888888888,
              "#fdca26"
             ],
             [
              1,
              "#f0f921"
             ]
            ],
            "type": "histogram2d"
           }
          ],
          "histogram2dcontour": [
           {
            "colorbar": {
             "outlinewidth": 0,
             "ticks": ""
            },
            "colorscale": [
             [
              0,
              "#0d0887"
             ],
             [
              0.1111111111111111,
              "#46039f"
             ],
             [
              0.2222222222222222,
              "#7201a8"
             ],
             [
              0.3333333333333333,
              "#9c179e"
             ],
             [
              0.4444444444444444,
              "#bd3786"
             ],
             [
              0.5555555555555556,
              "#d8576b"
             ],
             [
              0.6666666666666666,
              "#ed7953"
             ],
             [
              0.7777777777777778,
              "#fb9f3a"
             ],
             [
              0.8888888888888888,
              "#fdca26"
             ],
             [
              1,
              "#f0f921"
             ]
            ],
            "type": "histogram2dcontour"
           }
          ],
          "mesh3d": [
           {
            "colorbar": {
             "outlinewidth": 0,
             "ticks": ""
            },
            "type": "mesh3d"
           }
          ],
          "parcoords": [
           {
            "line": {
             "colorbar": {
              "outlinewidth": 0,
              "ticks": ""
             }
            },
            "type": "parcoords"
           }
          ],
          "pie": [
           {
            "automargin": true,
            "type": "pie"
           }
          ],
          "scatter": [
           {
            "fillpattern": {
             "fillmode": "overlay",
             "size": 10,
             "solidity": 0.2
            },
            "type": "scatter"
           }
          ],
          "scatter3d": [
           {
            "line": {
             "colorbar": {
              "outlinewidth": 0,
              "ticks": ""
             }
            },
            "marker": {
             "colorbar": {
              "outlinewidth": 0,
              "ticks": ""
             }
            },
            "type": "scatter3d"
           }
          ],
          "scattercarpet": [
           {
            "marker": {
             "colorbar": {
              "outlinewidth": 0,
              "ticks": ""
             }
            },
            "type": "scattercarpet"
           }
          ],
          "scattergeo": [
           {
            "marker": {
             "colorbar": {
              "outlinewidth": 0,
              "ticks": ""
             }
            },
            "type": "scattergeo"
           }
          ],
          "scattergl": [
           {
            "marker": {
             "colorbar": {
              "outlinewidth": 0,
              "ticks": ""
             }
            },
            "type": "scattergl"
           }
          ],
          "scattermapbox": [
           {
            "marker": {
             "colorbar": {
              "outlinewidth": 0,
              "ticks": ""
             }
            },
            "type": "scattermapbox"
           }
          ],
          "scatterpolar": [
           {
            "marker": {
             "colorbar": {
              "outlinewidth": 0,
              "ticks": ""
             }
            },
            "type": "scatterpolar"
           }
          ],
          "scatterpolargl": [
           {
            "marker": {
             "colorbar": {
              "outlinewidth": 0,
              "ticks": ""
             }
            },
            "type": "scatterpolargl"
           }
          ],
          "scatterternary": [
           {
            "marker": {
             "colorbar": {
              "outlinewidth": 0,
              "ticks": ""
             }
            },
            "type": "scatterternary"
           }
          ],
          "surface": [
           {
            "colorbar": {
             "outlinewidth": 0,
             "ticks": ""
            },
            "colorscale": [
             [
              0,
              "#0d0887"
             ],
             [
              0.1111111111111111,
              "#46039f"
             ],
             [
              0.2222222222222222,
              "#7201a8"
             ],
             [
              0.3333333333333333,
              "#9c179e"
             ],
             [
              0.4444444444444444,
              "#bd3786"
             ],
             [
              0.5555555555555556,
              "#d8576b"
             ],
             [
              0.6666666666666666,
              "#ed7953"
             ],
             [
              0.7777777777777778,
              "#fb9f3a"
             ],
             [
              0.8888888888888888,
              "#fdca26"
             ],
             [
              1,
              "#f0f921"
             ]
            ],
            "type": "surface"
           }
          ],
          "table": [
           {
            "cells": {
             "fill": {
              "color": "#EBF0F8"
             },
             "line": {
              "color": "white"
             }
            },
            "header": {
             "fill": {
              "color": "#C8D4E3"
             },
             "line": {
              "color": "white"
             }
            },
            "type": "table"
           }
          ]
         },
         "layout": {
          "annotationdefaults": {
           "arrowcolor": "#2a3f5f",
           "arrowhead": 0,
           "arrowwidth": 1
          },
          "autotypenumbers": "strict",
          "coloraxis": {
           "colorbar": {
            "outlinewidth": 0,
            "ticks": ""
           }
          },
          "colorscale": {
           "diverging": [
            [
             0,
             "#8e0152"
            ],
            [
             0.1,
             "#c51b7d"
            ],
            [
             0.2,
             "#de77ae"
            ],
            [
             0.3,
             "#f1b6da"
            ],
            [
             0.4,
             "#fde0ef"
            ],
            [
             0.5,
             "#f7f7f7"
            ],
            [
             0.6,
             "#e6f5d0"
            ],
            [
             0.7,
             "#b8e186"
            ],
            [
             0.8,
             "#7fbc41"
            ],
            [
             0.9,
             "#4d9221"
            ],
            [
             1,
             "#276419"
            ]
           ],
           "sequential": [
            [
             0,
             "#0d0887"
            ],
            [
             0.1111111111111111,
             "#46039f"
            ],
            [
             0.2222222222222222,
             "#7201a8"
            ],
            [
             0.3333333333333333,
             "#9c179e"
            ],
            [
             0.4444444444444444,
             "#bd3786"
            ],
            [
             0.5555555555555556,
             "#d8576b"
            ],
            [
             0.6666666666666666,
             "#ed7953"
            ],
            [
             0.7777777777777778,
             "#fb9f3a"
            ],
            [
             0.8888888888888888,
             "#fdca26"
            ],
            [
             1,
             "#f0f921"
            ]
           ],
           "sequentialminus": [
            [
             0,
             "#0d0887"
            ],
            [
             0.1111111111111111,
             "#46039f"
            ],
            [
             0.2222222222222222,
             "#7201a8"
            ],
            [
             0.3333333333333333,
             "#9c179e"
            ],
            [
             0.4444444444444444,
             "#bd3786"
            ],
            [
             0.5555555555555556,
             "#d8576b"
            ],
            [
             0.6666666666666666,
             "#ed7953"
            ],
            [
             0.7777777777777778,
             "#fb9f3a"
            ],
            [
             0.8888888888888888,
             "#fdca26"
            ],
            [
             1,
             "#f0f921"
            ]
           ]
          },
          "colorway": [
           "#636efa",
           "#EF553B",
           "#00cc96",
           "#ab63fa",
           "#FFA15A",
           "#19d3f3",
           "#FF6692",
           "#B6E880",
           "#FF97FF",
           "#FECB52"
          ],
          "font": {
           "color": "#2a3f5f"
          },
          "geo": {
           "bgcolor": "white",
           "lakecolor": "white",
           "landcolor": "#E5ECF6",
           "showlakes": true,
           "showland": true,
           "subunitcolor": "white"
          },
          "hoverlabel": {
           "align": "left"
          },
          "hovermode": "closest",
          "mapbox": {
           "style": "light"
          },
          "paper_bgcolor": "white",
          "plot_bgcolor": "#E5ECF6",
          "polar": {
           "angularaxis": {
            "gridcolor": "white",
            "linecolor": "white",
            "ticks": ""
           },
           "bgcolor": "#E5ECF6",
           "radialaxis": {
            "gridcolor": "white",
            "linecolor": "white",
            "ticks": ""
           }
          },
          "scene": {
           "xaxis": {
            "backgroundcolor": "#E5ECF6",
            "gridcolor": "white",
            "gridwidth": 2,
            "linecolor": "white",
            "showbackground": true,
            "ticks": "",
            "zerolinecolor": "white"
           },
           "yaxis": {
            "backgroundcolor": "#E5ECF6",
            "gridcolor": "white",
            "gridwidth": 2,
            "linecolor": "white",
            "showbackground": true,
            "ticks": "",
            "zerolinecolor": "white"
           },
           "zaxis": {
            "backgroundcolor": "#E5ECF6",
            "gridcolor": "white",
            "gridwidth": 2,
            "linecolor": "white",
            "showbackground": true,
            "ticks": "",
            "zerolinecolor": "white"
           }
          },
          "shapedefaults": {
           "line": {
            "color": "#2a3f5f"
           }
          },
          "ternary": {
           "aaxis": {
            "gridcolor": "white",
            "linecolor": "white",
            "ticks": ""
           },
           "baxis": {
            "gridcolor": "white",
            "linecolor": "white",
            "ticks": ""
           },
           "bgcolor": "#E5ECF6",
           "caxis": {
            "gridcolor": "white",
            "linecolor": "white",
            "ticks": ""
           }
          },
          "title": {
           "x": 0.05
          },
          "xaxis": {
           "automargin": true,
           "gridcolor": "white",
           "linecolor": "white",
           "ticks": "",
           "title": {
            "standoff": 15
           },
           "zerolinecolor": "white",
           "zerolinewidth": 2
          },
          "yaxis": {
           "automargin": true,
           "gridcolor": "white",
           "linecolor": "white",
           "ticks": "",
           "title": {
            "standoff": 15
           },
           "zerolinecolor": "white",
           "zerolinewidth": 2
          }
         }
        },
        "xaxis": {
         "anchor": "y",
         "domain": [
          0,
          1
         ],
         "gridcolor": "#bbbbbb",
         "showgrid": true,
         "title": {
          "text": "year"
         }
        },
        "yaxis": {
         "anchor": "x",
         "domain": [
          0,
          1
         ],
         "showgrid": false,
         "title": {
          "text": "value"
         }
        }
       }
      }
     },
     "metadata": {},
     "output_type": "display_data"
    },
    {
     "name": "stdout",
     "output_type": "stream",
     "text": [
      "     year month commodity  modal_rs_quintal  min_rs_quintal  max_rs_quintal\n",
      "0    2018   Apr     Onion       1002.033755      878.951175     1121.095238\n",
      "1    2018   Apr    Potato        586.627137      493.762286      661.985043\n",
      "2    2018   Apr     Wheat       1733.517528     1733.245395     1731.646465\n",
      "3    2018   Aug     Onion       1419.150741     1281.611139     1545.718958\n",
      "4    2018   Aug    Potato        883.738827      766.835196      984.095903\n",
      "..    ...   ...       ...               ...             ...             ...\n",
      "215  2024   May     Onion       1720.569840     1524.208478     1920.674079\n",
      "216  2024   May    Potato       1294.376717     1119.651406     1465.172662\n",
      "217  2024   May     Wheat       2275.625000     2273.734375     2273.663281\n",
      "218  2024   Sep     Onion       3264.750000     2825.000000     3550.000000\n",
      "219  2024   Sep    Potato       1750.000000     1550.000000     1925.000000\n",
      "\n",
      "[220 rows x 6 columns]\n"
     ]
    },
    {
     "data": {
      "application/vnd.plotly.v1+json": {
       "config": {
        "plotlyServerURL": "https://plot.ly"
       },
       "data": [
        {
         "alignmentgroup": "True",
         "hovertemplate": "commodity=Onion<br>year=%{x}<br>value=%{y}<extra></extra>",
         "legendgroup": "Onion",
         "marker": {
          "color": "#636efa",
          "pattern": {
           "shape": ""
          }
         },
         "name": "Onion",
         "offsetgroup": "Onion",
         "orientation": "v",
         "showlegend": true,
         "textposition": "auto",
         "type": "bar",
         "x": [
          2018,
          2019,
          2020,
          2021,
          2022,
          2023,
          2024
         ],
         "xaxis": "x",
         "y": [
          1476.7406601443652,
          1831.237544273646,
          2288.7855583816445,
          2115.165002954125,
          1666.0702510077538,
          1916.3198611371697,
          2301.682196862272
         ],
         "yaxis": "y"
        },
        {
         "alignmentgroup": "True",
         "hovertemplate": "commodity=Potato<br>year=%{x}<br>value=%{y}<extra></extra>",
         "legendgroup": "Potato",
         "marker": {
          "color": "#EF553B",
          "pattern": {
           "shape": ""
          }
         },
         "name": "Potato",
         "offsetgroup": "Potato",
         "orientation": "v",
         "showlegend": true,
         "textposition": "auto",
         "type": "bar",
         "x": [
          2018,
          2019,
          2020,
          2021,
          2022,
          2023,
          2024
         ],
         "xaxis": "x",
         "y": [
          695.7066838441531,
          709.7282946253126,
          1630.6038021234015,
          767.6435653401712,
          1017.1483929892421,
          845.7628918493792,
          1175.9837839005986
         ],
         "yaxis": "y"
        },
        {
         "alignmentgroup": "True",
         "hovertemplate": "commodity=Rice<br>year=%{x}<br>value=%{y}<extra></extra>",
         "legendgroup": "Rice",
         "marker": {
          "color": "#00cc96",
          "pattern": {
           "shape": ""
          }
         },
         "name": "Rice",
         "offsetgroup": "Rice",
         "orientation": "v",
         "showlegend": true,
         "textposition": "auto",
         "type": "bar",
         "x": [
          2018,
          2019,
          2020,
          2021,
          2022,
          2023,
          2024
         ],
         "xaxis": "x",
         "y": [
          3174.906810035842,
          2475,
          2000,
          0,
          0,
          1034.3333333333333,
          0
         ],
         "yaxis": "y"
        },
        {
         "alignmentgroup": "True",
         "hovertemplate": "commodity=Wheat<br>year=%{x}<br>value=%{y}<extra></extra>",
         "legendgroup": "Wheat",
         "marker": {
          "color": "#ab63fa",
          "pattern": {
           "shape": ""
          }
         },
         "name": "Wheat",
         "offsetgroup": "Wheat",
         "orientation": "v",
         "showlegend": true,
         "textposition": "auto",
         "type": "bar",
         "x": [
          2018,
          2019,
          2020,
          2021,
          2022,
          2023,
          2024
         ],
         "xaxis": "x",
         "y": [
          1736.5837007831585,
          1839.9764403505374,
          1923.9178407990712,
          1975.5201795333346,
          2015.7940755114807,
          2129.6025703479413,
          2276.5935052547584
         ],
         "yaxis": "y"
        }
       ],
       "layout": {
        "barmode": "group",
        "legend": {
         "title": {
          "text": "commodity"
         },
         "tracegroupgap": 0
        },
        "margin": {
         "t": 60
        },
        "template": {
         "data": {
          "bar": [
           {
            "error_x": {
             "color": "#2a3f5f"
            },
            "error_y": {
             "color": "#2a3f5f"
            },
            "marker": {
             "line": {
              "color": "#E5ECF6",
              "width": 0.5
             },
             "pattern": {
              "fillmode": "overlay",
              "size": 10,
              "solidity": 0.2
             }
            },
            "type": "bar"
           }
          ],
          "barpolar": [
           {
            "marker": {
             "line": {
              "color": "#E5ECF6",
              "width": 0.5
             },
             "pattern": {
              "fillmode": "overlay",
              "size": 10,
              "solidity": 0.2
             }
            },
            "type": "barpolar"
           }
          ],
          "carpet": [
           {
            "aaxis": {
             "endlinecolor": "#2a3f5f",
             "gridcolor": "white",
             "linecolor": "white",
             "minorgridcolor": "white",
             "startlinecolor": "#2a3f5f"
            },
            "baxis": {
             "endlinecolor": "#2a3f5f",
             "gridcolor": "white",
             "linecolor": "white",
             "minorgridcolor": "white",
             "startlinecolor": "#2a3f5f"
            },
            "type": "carpet"
           }
          ],
          "choropleth": [
           {
            "colorbar": {
             "outlinewidth": 0,
             "ticks": ""
            },
            "type": "choropleth"
           }
          ],
          "contour": [
           {
            "colorbar": {
             "outlinewidth": 0,
             "ticks": ""
            },
            "colorscale": [
             [
              0,
              "#0d0887"
             ],
             [
              0.1111111111111111,
              "#46039f"
             ],
             [
              0.2222222222222222,
              "#7201a8"
             ],
             [
              0.3333333333333333,
              "#9c179e"
             ],
             [
              0.4444444444444444,
              "#bd3786"
             ],
             [
              0.5555555555555556,
              "#d8576b"
             ],
             [
              0.6666666666666666,
              "#ed7953"
             ],
             [
              0.7777777777777778,
              "#fb9f3a"
             ],
             [
              0.8888888888888888,
              "#fdca26"
             ],
             [
              1,
              "#f0f921"
             ]
            ],
            "type": "contour"
           }
          ],
          "contourcarpet": [
           {
            "colorbar": {
             "outlinewidth": 0,
             "ticks": ""
            },
            "type": "contourcarpet"
           }
          ],
          "heatmap": [
           {
            "colorbar": {
             "outlinewidth": 0,
             "ticks": ""
            },
            "colorscale": [
             [
              0,
              "#0d0887"
             ],
             [
              0.1111111111111111,
              "#46039f"
             ],
             [
              0.2222222222222222,
              "#7201a8"
             ],
             [
              0.3333333333333333,
              "#9c179e"
             ],
             [
              0.4444444444444444,
              "#bd3786"
             ],
             [
              0.5555555555555556,
              "#d8576b"
             ],
             [
              0.6666666666666666,
              "#ed7953"
             ],
             [
              0.7777777777777778,
              "#fb9f3a"
             ],
             [
              0.8888888888888888,
              "#fdca26"
             ],
             [
              1,
              "#f0f921"
             ]
            ],
            "type": "heatmap"
           }
          ],
          "heatmapgl": [
           {
            "colorbar": {
             "outlinewidth": 0,
             "ticks": ""
            },
            "colorscale": [
             [
              0,
              "#0d0887"
             ],
             [
              0.1111111111111111,
              "#46039f"
             ],
             [
              0.2222222222222222,
              "#7201a8"
             ],
             [
              0.3333333333333333,
              "#9c179e"
             ],
             [
              0.4444444444444444,
              "#bd3786"
             ],
             [
              0.5555555555555556,
              "#d8576b"
             ],
             [
              0.6666666666666666,
              "#ed7953"
             ],
             [
              0.7777777777777778,
              "#fb9f3a"
             ],
             [
              0.8888888888888888,
              "#fdca26"
             ],
             [
              1,
              "#f0f921"
             ]
            ],
            "type": "heatmapgl"
           }
          ],
          "histogram": [
           {
            "marker": {
             "pattern": {
              "fillmode": "overlay",
              "size": 10,
              "solidity": 0.2
             }
            },
            "type": "histogram"
           }
          ],
          "histogram2d": [
           {
            "colorbar": {
             "outlinewidth": 0,
             "ticks": ""
            },
            "colorscale": [
             [
              0,
              "#0d0887"
             ],
             [
              0.1111111111111111,
              "#46039f"
             ],
             [
              0.2222222222222222,
              "#7201a8"
             ],
             [
              0.3333333333333333,
              "#9c179e"
             ],
             [
              0.4444444444444444,
              "#bd3786"
             ],
             [
              0.5555555555555556,
              "#d8576b"
             ],
             [
              0.6666666666666666,
              "#ed7953"
             ],
             [
              0.7777777777777778,
              "#fb9f3a"
             ],
             [
              0.8888888888888888,
              "#fdca26"
             ],
             [
              1,
              "#f0f921"
             ]
            ],
            "type": "histogram2d"
           }
          ],
          "histogram2dcontour": [
           {
            "colorbar": {
             "outlinewidth": 0,
             "ticks": ""
            },
            "colorscale": [
             [
              0,
              "#0d0887"
             ],
             [
              0.1111111111111111,
              "#46039f"
             ],
             [
              0.2222222222222222,
              "#7201a8"
             ],
             [
              0.3333333333333333,
              "#9c179e"
             ],
             [
              0.4444444444444444,
              "#bd3786"
             ],
             [
              0.5555555555555556,
              "#d8576b"
             ],
             [
              0.6666666666666666,
              "#ed7953"
             ],
             [
              0.7777777777777778,
              "#fb9f3a"
             ],
             [
              0.8888888888888888,
              "#fdca26"
             ],
             [
              1,
              "#f0f921"
             ]
            ],
            "type": "histogram2dcontour"
           }
          ],
          "mesh3d": [
           {
            "colorbar": {
             "outlinewidth": 0,
             "ticks": ""
            },
            "type": "mesh3d"
           }
          ],
          "parcoords": [
           {
            "line": {
             "colorbar": {
              "outlinewidth": 0,
              "ticks": ""
             }
            },
            "type": "parcoords"
           }
          ],
          "pie": [
           {
            "automargin": true,
            "type": "pie"
           }
          ],
          "scatter": [
           {
            "fillpattern": {
             "fillmode": "overlay",
             "size": 10,
             "solidity": 0.2
            },
            "type": "scatter"
           }
          ],
          "scatter3d": [
           {
            "line": {
             "colorbar": {
              "outlinewidth": 0,
              "ticks": ""
             }
            },
            "marker": {
             "colorbar": {
              "outlinewidth": 0,
              "ticks": ""
             }
            },
            "type": "scatter3d"
           }
          ],
          "scattercarpet": [
           {
            "marker": {
             "colorbar": {
              "outlinewidth": 0,
              "ticks": ""
             }
            },
            "type": "scattercarpet"
           }
          ],
          "scattergeo": [
           {
            "marker": {
             "colorbar": {
              "outlinewidth": 0,
              "ticks": ""
             }
            },
            "type": "scattergeo"
           }
          ],
          "scattergl": [
           {
            "marker": {
             "colorbar": {
              "outlinewidth": 0,
              "ticks": ""
             }
            },
            "type": "scattergl"
           }
          ],
          "scattermapbox": [
           {
            "marker": {
             "colorbar": {
              "outlinewidth": 0,
              "ticks": ""
             }
            },
            "type": "scattermapbox"
           }
          ],
          "scatterpolar": [
           {
            "marker": {
             "colorbar": {
              "outlinewidth": 0,
              "ticks": ""
             }
            },
            "type": "scatterpolar"
           }
          ],
          "scatterpolargl": [
           {
            "marker": {
             "colorbar": {
              "outlinewidth": 0,
              "ticks": ""
             }
            },
            "type": "scatterpolargl"
           }
          ],
          "scatterternary": [
           {
            "marker": {
             "colorbar": {
              "outlinewidth": 0,
              "ticks": ""
             }
            },
            "type": "scatterternary"
           }
          ],
          "surface": [
           {
            "colorbar": {
             "outlinewidth": 0,
             "ticks": ""
            },
            "colorscale": [
             [
              0,
              "#0d0887"
             ],
             [
              0.1111111111111111,
              "#46039f"
             ],
             [
              0.2222222222222222,
              "#7201a8"
             ],
             [
              0.3333333333333333,
              "#9c179e"
             ],
             [
              0.4444444444444444,
              "#bd3786"
             ],
             [
              0.5555555555555556,
              "#d8576b"
             ],
             [
              0.6666666666666666,
              "#ed7953"
             ],
             [
              0.7777777777777778,
              "#fb9f3a"
             ],
             [
              0.8888888888888888,
              "#fdca26"
             ],
             [
              1,
              "#f0f921"
             ]
            ],
            "type": "surface"
           }
          ],
          "table": [
           {
            "cells": {
             "fill": {
              "color": "#EBF0F8"
             },
             "line": {
              "color": "white"
             }
            },
            "header": {
             "fill": {
              "color": "#C8D4E3"
             },
             "line": {
              "color": "white"
             }
            },
            "type": "table"
           }
          ]
         },
         "layout": {
          "annotationdefaults": {
           "arrowcolor": "#2a3f5f",
           "arrowhead": 0,
           "arrowwidth": 1
          },
          "autotypenumbers": "strict",
          "coloraxis": {
           "colorbar": {
            "outlinewidth": 0,
            "ticks": ""
           }
          },
          "colorscale": {
           "diverging": [
            [
             0,
             "#8e0152"
            ],
            [
             0.1,
             "#c51b7d"
            ],
            [
             0.2,
             "#de77ae"
            ],
            [
             0.3,
             "#f1b6da"
            ],
            [
             0.4,
             "#fde0ef"
            ],
            [
             0.5,
             "#f7f7f7"
            ],
            [
             0.6,
             "#e6f5d0"
            ],
            [
             0.7,
             "#b8e186"
            ],
            [
             0.8,
             "#7fbc41"
            ],
            [
             0.9,
             "#4d9221"
            ],
            [
             1,
             "#276419"
            ]
           ],
           "sequential": [
            [
             0,
             "#0d0887"
            ],
            [
             0.1111111111111111,
             "#46039f"
            ],
            [
             0.2222222222222222,
             "#7201a8"
            ],
            [
             0.3333333333333333,
             "#9c179e"
            ],
            [
             0.4444444444444444,
             "#bd3786"
            ],
            [
             0.5555555555555556,
             "#d8576b"
            ],
            [
             0.6666666666666666,
             "#ed7953"
            ],
            [
             0.7777777777777778,
             "#fb9f3a"
            ],
            [
             0.8888888888888888,
             "#fdca26"
            ],
            [
             1,
             "#f0f921"
            ]
           ],
           "sequentialminus": [
            [
             0,
             "#0d0887"
            ],
            [
             0.1111111111111111,
             "#46039f"
            ],
            [
             0.2222222222222222,
             "#7201a8"
            ],
            [
             0.3333333333333333,
             "#9c179e"
            ],
            [
             0.4444444444444444,
             "#bd3786"
            ],
            [
             0.5555555555555556,
             "#d8576b"
            ],
            [
             0.6666666666666666,
             "#ed7953"
            ],
            [
             0.7777777777777778,
             "#fb9f3a"
            ],
            [
             0.8888888888888888,
             "#fdca26"
            ],
            [
             1,
             "#f0f921"
            ]
           ]
          },
          "colorway": [
           "#636efa",
           "#EF553B",
           "#00cc96",
           "#ab63fa",
           "#FFA15A",
           "#19d3f3",
           "#FF6692",
           "#B6E880",
           "#FF97FF",
           "#FECB52"
          ],
          "font": {
           "color": "#2a3f5f"
          },
          "geo": {
           "bgcolor": "white",
           "lakecolor": "white",
           "landcolor": "#E5ECF6",
           "showlakes": true,
           "showland": true,
           "subunitcolor": "white"
          },
          "hoverlabel": {
           "align": "left"
          },
          "hovermode": "closest",
          "mapbox": {
           "style": "light"
          },
          "paper_bgcolor": "white",
          "plot_bgcolor": "#E5ECF6",
          "polar": {
           "angularaxis": {
            "gridcolor": "white",
            "linecolor": "white",
            "ticks": ""
           },
           "bgcolor": "#E5ECF6",
           "radialaxis": {
            "gridcolor": "white",
            "linecolor": "white",
            "ticks": ""
           }
          },
          "scene": {
           "xaxis": {
            "backgroundcolor": "#E5ECF6",
            "gridcolor": "white",
            "gridwidth": 2,
            "linecolor": "white",
            "showbackground": true,
            "ticks": "",
            "zerolinecolor": "white"
           },
           "yaxis": {
            "backgroundcolor": "#E5ECF6",
            "gridcolor": "white",
            "gridwidth": 2,
            "linecolor": "white",
            "showbackground": true,
            "ticks": "",
            "zerolinecolor": "white"
           },
           "zaxis": {
            "backgroundcolor": "#E5ECF6",
            "gridcolor": "white",
            "gridwidth": 2,
            "linecolor": "white",
            "showbackground": true,
            "ticks": "",
            "zerolinecolor": "white"
           }
          },
          "shapedefaults": {
           "line": {
            "color": "#2a3f5f"
           }
          },
          "ternary": {
           "aaxis": {
            "gridcolor": "white",
            "linecolor": "white",
            "ticks": ""
           },
           "baxis": {
            "gridcolor": "white",
            "linecolor": "white",
            "ticks": ""
           },
           "bgcolor": "#E5ECF6",
           "caxis": {
            "gridcolor": "white",
            "linecolor": "white",
            "ticks": ""
           }
          },
          "title": {
           "x": 0.05
          },
          "xaxis": {
           "automargin": true,
           "gridcolor": "white",
           "linecolor": "white",
           "ticks": "",
           "title": {
            "standoff": 15
           },
           "zerolinecolor": "white",
           "zerolinewidth": 2
          },
          "yaxis": {
           "automargin": true,
           "gridcolor": "white",
           "linecolor": "white",
           "ticks": "",
           "title": {
            "standoff": 15
           },
           "zerolinecolor": "white",
           "zerolinewidth": 2
          }
         }
        },
        "xaxis": {
         "anchor": "y",
         "domain": [
          0,
          1
         ],
         "gridcolor": "#bbbbbb",
         "showgrid": true,
         "title": {
          "text": "year"
         }
        },
        "yaxis": {
         "anchor": "x",
         "domain": [
          0,
          1
         ],
         "showgrid": false,
         "title": {
          "text": "value"
         }
        }
       }
      }
     },
     "metadata": {},
     "output_type": "display_data"
    },
    {
     "name": "stdout",
     "output_type": "stream",
     "text": [
      "     year month commodity  modal_rs_quintal  min_rs_quintal  max_rs_quintal\n",
      "0    2018   Apr     Onion       1130.507585     1029.148191     1222.987165\n",
      "1    2018   Apr    Potato        978.379602      945.727218     1009.155100\n",
      "2    2018   Apr      Rice       2964.213421     2891.677668     3029.359186\n",
      "3    2018   Apr     Wheat       1705.487106     1674.584527     1735.816619\n",
      "4    2018   Aug     Onion       1877.689429     1782.380730     1974.639850\n",
      "..    ...   ...       ...               ...             ...             ...\n",
      "319  2024   May     Wheat       2512.597222     2446.555556     2596.888889\n",
      "320  2024   Sep     Onion       4201.363636     4098.181818     4358.181818\n",
      "321  2024   Sep    Potato       2578.571429     2527.142857     2639.285714\n",
      "322  2024   Sep      Rice       3770.384615     3693.076923     3860.000000\n",
      "323  2024   Sep     Wheat       2462.500000     2375.000000     2550.000000\n",
      "\n",
      "[324 rows x 6 columns]\n"
     ]
    },
    {
     "data": {
      "application/vnd.plotly.v1+json": {
       "config": {
        "plotlyServerURL": "https://plot.ly"
       },
       "data": [
        {
         "alignmentgroup": "True",
         "hovertemplate": "commodity=Onion<br>year=%{x}<br>value=%{y}<extra></extra>",
         "legendgroup": "Onion",
         "marker": {
          "color": "#636efa",
          "pattern": {
           "shape": ""
          }
         },
         "name": "Onion",
         "offsetgroup": "Onion",
         "orientation": "v",
         "showlegend": true,
         "textposition": "auto",
         "type": "bar",
         "x": [
          2018,
          2019,
          2020,
          2021,
          2022,
          2023,
          2024
         ],
         "xaxis": "x",
         "y": [
          1924.4814442228296,
          2123.7720880149946,
          2878.018144728644,
          2788.6069091275467,
          2073.6561841685666,
          2441.559755821192,
          2638.8059906075005
         ],
         "yaxis": "y"
        },
        {
         "alignmentgroup": "True",
         "hovertemplate": "commodity=Potato<br>year=%{x}<br>value=%{y}<extra></extra>",
         "legendgroup": "Potato",
         "marker": {
          "color": "#EF553B",
          "pattern": {
           "shape": ""
          }
         },
         "name": "Potato",
         "offsetgroup": "Potato",
         "orientation": "v",
         "showlegend": true,
         "textposition": "auto",
         "type": "bar",
         "x": [
          2018,
          2019,
          2020,
          2021,
          2022,
          2023,
          2024
         ],
         "xaxis": "x",
         "y": [
          1146.212774914104,
          1029.603234892364,
          2132.579202519912,
          1104.6503283131208,
          1746.1450701124072,
          1316.9268836326257,
          1972.4432854475324
         ],
         "yaxis": "y"
        },
        {
         "alignmentgroup": "True",
         "hovertemplate": "commodity=Rice<br>year=%{x}<br>value=%{y}<extra></extra>",
         "legendgroup": "Rice",
         "marker": {
          "color": "#00cc96",
          "pattern": {
           "shape": ""
          }
         },
         "name": "Rice",
         "offsetgroup": "Rice",
         "orientation": "v",
         "showlegend": true,
         "textposition": "auto",
         "type": "bar",
         "x": [
          2018,
          2019,
          2020,
          2021,
          2022,
          2023,
          2024
         ],
         "xaxis": "x",
         "y": [
          3025.6610473796386,
          2932.0142207736017,
          2938.2045456880014,
          3145.0255842239358,
          3743.0701503482123,
          3593.8197967051433,
          3852.946309100278
         ],
         "yaxis": "y"
        },
        {
         "alignmentgroup": "True",
         "hovertemplate": "commodity=Wheat<br>year=%{x}<br>value=%{y}<extra></extra>",
         "legendgroup": "Wheat",
         "marker": {
          "color": "#ab63fa",
          "pattern": {
           "shape": ""
          }
         },
         "name": "Wheat",
         "offsetgroup": "Wheat",
         "orientation": "v",
         "showlegend": true,
         "textposition": "auto",
         "type": "bar",
         "x": [
          2018,
          2019,
          2020,
          2021,
          2022,
          2023,
          2024
         ],
         "xaxis": "x",
         "y": [
          1717.4928702778386,
          1920.1296492814333,
          1965.5910874183442,
          1898.13090593561,
          2143.8563236612695,
          2500.0108476048304,
          2507.698918024175
         ],
         "yaxis": "y"
        }
       ],
       "layout": {
        "barmode": "group",
        "legend": {
         "title": {
          "text": "commodity"
         },
         "tracegroupgap": 0
        },
        "margin": {
         "t": 60
        },
        "template": {
         "data": {
          "bar": [
           {
            "error_x": {
             "color": "#2a3f5f"
            },
            "error_y": {
             "color": "#2a3f5f"
            },
            "marker": {
             "line": {
              "color": "#E5ECF6",
              "width": 0.5
             },
             "pattern": {
              "fillmode": "overlay",
              "size": 10,
              "solidity": 0.2
             }
            },
            "type": "bar"
           }
          ],
          "barpolar": [
           {
            "marker": {
             "line": {
              "color": "#E5ECF6",
              "width": 0.5
             },
             "pattern": {
              "fillmode": "overlay",
              "size": 10,
              "solidity": 0.2
             }
            },
            "type": "barpolar"
           }
          ],
          "carpet": [
           {
            "aaxis": {
             "endlinecolor": "#2a3f5f",
             "gridcolor": "white",
             "linecolor": "white",
             "minorgridcolor": "white",
             "startlinecolor": "#2a3f5f"
            },
            "baxis": {
             "endlinecolor": "#2a3f5f",
             "gridcolor": "white",
             "linecolor": "white",
             "minorgridcolor": "white",
             "startlinecolor": "#2a3f5f"
            },
            "type": "carpet"
           }
          ],
          "choropleth": [
           {
            "colorbar": {
             "outlinewidth": 0,
             "ticks": ""
            },
            "type": "choropleth"
           }
          ],
          "contour": [
           {
            "colorbar": {
             "outlinewidth": 0,
             "ticks": ""
            },
            "colorscale": [
             [
              0,
              "#0d0887"
             ],
             [
              0.1111111111111111,
              "#46039f"
             ],
             [
              0.2222222222222222,
              "#7201a8"
             ],
             [
              0.3333333333333333,
              "#9c179e"
             ],
             [
              0.4444444444444444,
              "#bd3786"
             ],
             [
              0.5555555555555556,
              "#d8576b"
             ],
             [
              0.6666666666666666,
              "#ed7953"
             ],
             [
              0.7777777777777778,
              "#fb9f3a"
             ],
             [
              0.8888888888888888,
              "#fdca26"
             ],
             [
              1,
              "#f0f921"
             ]
            ],
            "type": "contour"
           }
          ],
          "contourcarpet": [
           {
            "colorbar": {
             "outlinewidth": 0,
             "ticks": ""
            },
            "type": "contourcarpet"
           }
          ],
          "heatmap": [
           {
            "colorbar": {
             "outlinewidth": 0,
             "ticks": ""
            },
            "colorscale": [
             [
              0,
              "#0d0887"
             ],
             [
              0.1111111111111111,
              "#46039f"
             ],
             [
              0.2222222222222222,
              "#7201a8"
             ],
             [
              0.3333333333333333,
              "#9c179e"
             ],
             [
              0.4444444444444444,
              "#bd3786"
             ],
             [
              0.5555555555555556,
              "#d8576b"
             ],
             [
              0.6666666666666666,
              "#ed7953"
             ],
             [
              0.7777777777777778,
              "#fb9f3a"
             ],
             [
              0.8888888888888888,
              "#fdca26"
             ],
             [
              1,
              "#f0f921"
             ]
            ],
            "type": "heatmap"
           }
          ],
          "heatmapgl": [
           {
            "colorbar": {
             "outlinewidth": 0,
             "ticks": ""
            },
            "colorscale": [
             [
              0,
              "#0d0887"
             ],
             [
              0.1111111111111111,
              "#46039f"
             ],
             [
              0.2222222222222222,
              "#7201a8"
             ],
             [
              0.3333333333333333,
              "#9c179e"
             ],
             [
              0.4444444444444444,
              "#bd3786"
             ],
             [
              0.5555555555555556,
              "#d8576b"
             ],
             [
              0.6666666666666666,
              "#ed7953"
             ],
             [
              0.7777777777777778,
              "#fb9f3a"
             ],
             [
              0.8888888888888888,
              "#fdca26"
             ],
             [
              1,
              "#f0f921"
             ]
            ],
            "type": "heatmapgl"
           }
          ],
          "histogram": [
           {
            "marker": {
             "pattern": {
              "fillmode": "overlay",
              "size": 10,
              "solidity": 0.2
             }
            },
            "type": "histogram"
           }
          ],
          "histogram2d": [
           {
            "colorbar": {
             "outlinewidth": 0,
             "ticks": ""
            },
            "colorscale": [
             [
              0,
              "#0d0887"
             ],
             [
              0.1111111111111111,
              "#46039f"
             ],
             [
              0.2222222222222222,
              "#7201a8"
             ],
             [
              0.3333333333333333,
              "#9c179e"
             ],
             [
              0.4444444444444444,
              "#bd3786"
             ],
             [
              0.5555555555555556,
              "#d8576b"
             ],
             [
              0.6666666666666666,
              "#ed7953"
             ],
             [
              0.7777777777777778,
              "#fb9f3a"
             ],
             [
              0.8888888888888888,
              "#fdca26"
             ],
             [
              1,
              "#f0f921"
             ]
            ],
            "type": "histogram2d"
           }
          ],
          "histogram2dcontour": [
           {
            "colorbar": {
             "outlinewidth": 0,
             "ticks": ""
            },
            "colorscale": [
             [
              0,
              "#0d0887"
             ],
             [
              0.1111111111111111,
              "#46039f"
             ],
             [
              0.2222222222222222,
              "#7201a8"
             ],
             [
              0.3333333333333333,
              "#9c179e"
             ],
             [
              0.4444444444444444,
              "#bd3786"
             ],
             [
              0.5555555555555556,
              "#d8576b"
             ],
             [
              0.6666666666666666,
              "#ed7953"
             ],
             [
              0.7777777777777778,
              "#fb9f3a"
             ],
             [
              0.8888888888888888,
              "#fdca26"
             ],
             [
              1,
              "#f0f921"
             ]
            ],
            "type": "histogram2dcontour"
           }
          ],
          "mesh3d": [
           {
            "colorbar": {
             "outlinewidth": 0,
             "ticks": ""
            },
            "type": "mesh3d"
           }
          ],
          "parcoords": [
           {
            "line": {
             "colorbar": {
              "outlinewidth": 0,
              "ticks": ""
             }
            },
            "type": "parcoords"
           }
          ],
          "pie": [
           {
            "automargin": true,
            "type": "pie"
           }
          ],
          "scatter": [
           {
            "fillpattern": {
             "fillmode": "overlay",
             "size": 10,
             "solidity": 0.2
            },
            "type": "scatter"
           }
          ],
          "scatter3d": [
           {
            "line": {
             "colorbar": {
              "outlinewidth": 0,
              "ticks": ""
             }
            },
            "marker": {
             "colorbar": {
              "outlinewidth": 0,
              "ticks": ""
             }
            },
            "type": "scatter3d"
           }
          ],
          "scattercarpet": [
           {
            "marker": {
             "colorbar": {
              "outlinewidth": 0,
              "ticks": ""
             }
            },
            "type": "scattercarpet"
           }
          ],
          "scattergeo": [
           {
            "marker": {
             "colorbar": {
              "outlinewidth": 0,
              "ticks": ""
             }
            },
            "type": "scattergeo"
           }
          ],
          "scattergl": [
           {
            "marker": {
             "colorbar": {
              "outlinewidth": 0,
              "ticks": ""
             }
            },
            "type": "scattergl"
           }
          ],
          "scattermapbox": [
           {
            "marker": {
             "colorbar": {
              "outlinewidth": 0,
              "ticks": ""
             }
            },
            "type": "scattermapbox"
           }
          ],
          "scatterpolar": [
           {
            "marker": {
             "colorbar": {
              "outlinewidth": 0,
              "ticks": ""
             }
            },
            "type": "scatterpolar"
           }
          ],
          "scatterpolargl": [
           {
            "marker": {
             "colorbar": {
              "outlinewidth": 0,
              "ticks": ""
             }
            },
            "type": "scatterpolargl"
           }
          ],
          "scatterternary": [
           {
            "marker": {
             "colorbar": {
              "outlinewidth": 0,
              "ticks": ""
             }
            },
            "type": "scatterternary"
           }
          ],
          "surface": [
           {
            "colorbar": {
             "outlinewidth": 0,
             "ticks": ""
            },
            "colorscale": [
             [
              0,
              "#0d0887"
             ],
             [
              0.1111111111111111,
              "#46039f"
             ],
             [
              0.2222222222222222,
              "#7201a8"
             ],
             [
              0.3333333333333333,
              "#9c179e"
             ],
             [
              0.4444444444444444,
              "#bd3786"
             ],
             [
              0.5555555555555556,
              "#d8576b"
             ],
             [
              0.6666666666666666,
              "#ed7953"
             ],
             [
              0.7777777777777778,
              "#fb9f3a"
             ],
             [
              0.8888888888888888,
              "#fdca26"
             ],
             [
              1,
              "#f0f921"
             ]
            ],
            "type": "surface"
           }
          ],
          "table": [
           {
            "cells": {
             "fill": {
              "color": "#EBF0F8"
             },
             "line": {
              "color": "white"
             }
            },
            "header": {
             "fill": {
              "color": "#C8D4E3"
             },
             "line": {
              "color": "white"
             }
            },
            "type": "table"
           }
          ]
         },
         "layout": {
          "annotationdefaults": {
           "arrowcolor": "#2a3f5f",
           "arrowhead": 0,
           "arrowwidth": 1
          },
          "autotypenumbers": "strict",
          "coloraxis": {
           "colorbar": {
            "outlinewidth": 0,
            "ticks": ""
           }
          },
          "colorscale": {
           "diverging": [
            [
             0,
             "#8e0152"
            ],
            [
             0.1,
             "#c51b7d"
            ],
            [
             0.2,
             "#de77ae"
            ],
            [
             0.3,
             "#f1b6da"
            ],
            [
             0.4,
             "#fde0ef"
            ],
            [
             0.5,
             "#f7f7f7"
            ],
            [
             0.6,
             "#e6f5d0"
            ],
            [
             0.7,
             "#b8e186"
            ],
            [
             0.8,
             "#7fbc41"
            ],
            [
             0.9,
             "#4d9221"
            ],
            [
             1,
             "#276419"
            ]
           ],
           "sequential": [
            [
             0,
             "#0d0887"
            ],
            [
             0.1111111111111111,
             "#46039f"
            ],
            [
             0.2222222222222222,
             "#7201a8"
            ],
            [
             0.3333333333333333,
             "#9c179e"
            ],
            [
             0.4444444444444444,
             "#bd3786"
            ],
            [
             0.5555555555555556,
             "#d8576b"
            ],
            [
             0.6666666666666666,
             "#ed7953"
            ],
            [
             0.7777777777777778,
             "#fb9f3a"
            ],
            [
             0.8888888888888888,
             "#fdca26"
            ],
            [
             1,
             "#f0f921"
            ]
           ],
           "sequentialminus": [
            [
             0,
             "#0d0887"
            ],
            [
             0.1111111111111111,
             "#46039f"
            ],
            [
             0.2222222222222222,
             "#7201a8"
            ],
            [
             0.3333333333333333,
             "#9c179e"
            ],
            [
             0.4444444444444444,
             "#bd3786"
            ],
            [
             0.5555555555555556,
             "#d8576b"
            ],
            [
             0.6666666666666666,
             "#ed7953"
            ],
            [
             0.7777777777777778,
             "#fb9f3a"
            ],
            [
             0.8888888888888888,
             "#fdca26"
            ],
            [
             1,
             "#f0f921"
            ]
           ]
          },
          "colorway": [
           "#636efa",
           "#EF553B",
           "#00cc96",
           "#ab63fa",
           "#FFA15A",
           "#19d3f3",
           "#FF6692",
           "#B6E880",
           "#FF97FF",
           "#FECB52"
          ],
          "font": {
           "color": "#2a3f5f"
          },
          "geo": {
           "bgcolor": "white",
           "lakecolor": "white",
           "landcolor": "#E5ECF6",
           "showlakes": true,
           "showland": true,
           "subunitcolor": "white"
          },
          "hoverlabel": {
           "align": "left"
          },
          "hovermode": "closest",
          "mapbox": {
           "style": "light"
          },
          "paper_bgcolor": "white",
          "plot_bgcolor": "#E5ECF6",
          "polar": {
           "angularaxis": {
            "gridcolor": "white",
            "linecolor": "white",
            "ticks": ""
           },
           "bgcolor": "#E5ECF6",
           "radialaxis": {
            "gridcolor": "white",
            "linecolor": "white",
            "ticks": ""
           }
          },
          "scene": {
           "xaxis": {
            "backgroundcolor": "#E5ECF6",
            "gridcolor": "white",
            "gridwidth": 2,
            "linecolor": "white",
            "showbackground": true,
            "ticks": "",
            "zerolinecolor": "white"
           },
           "yaxis": {
            "backgroundcolor": "#E5ECF6",
            "gridcolor": "white",
            "gridwidth": 2,
            "linecolor": "white",
            "showbackground": true,
            "ticks": "",
            "zerolinecolor": "white"
           },
           "zaxis": {
            "backgroundcolor": "#E5ECF6",
            "gridcolor": "white",
            "gridwidth": 2,
            "linecolor": "white",
            "showbackground": true,
            "ticks": "",
            "zerolinecolor": "white"
           }
          },
          "shapedefaults": {
           "line": {
            "color": "#2a3f5f"
           }
          },
          "ternary": {
           "aaxis": {
            "gridcolor": "white",
            "linecolor": "white",
            "ticks": ""
           },
           "baxis": {
            "gridcolor": "white",
            "linecolor": "white",
            "ticks": ""
           },
           "bgcolor": "#E5ECF6",
           "caxis": {
            "gridcolor": "white",
            "linecolor": "white",
            "ticks": ""
           }
          },
          "title": {
           "x": 0.05
          },
          "xaxis": {
           "automargin": true,
           "gridcolor": "white",
           "linecolor": "white",
           "ticks": "",
           "title": {
            "standoff": 15
           },
           "zerolinecolor": "white",
           "zerolinewidth": 2
          },
          "yaxis": {
           "automargin": true,
           "gridcolor": "white",
           "linecolor": "white",
           "ticks": "",
           "title": {
            "standoff": 15
           },
           "zerolinecolor": "white",
           "zerolinewidth": 2
          }
         }
        },
        "xaxis": {
         "anchor": "y",
         "domain": [
          0,
          1
         ],
         "gridcolor": "#bbbbbb",
         "showgrid": true,
         "title": {
          "text": "year"
         }
        },
        "yaxis": {
         "anchor": "x",
         "domain": [
          0,
          1
         ],
         "showgrid": false,
         "title": {
          "text": "value"
         }
        }
       }
      }
     },
     "metadata": {},
     "output_type": "display_data"
    }
   ],
   "source": [
    "analyser.analyze()"
   ]
  },
  {
   "cell_type": "code",
   "execution_count": 106,
   "metadata": {},
   "outputs": [
    {
     "name": "stdout",
     "output_type": "stream",
     "text": [
      "column: Onion with [2018, 2019, 2020, 2021, 2022, 2023, 2024]\n",
      "y list  [year\n",
      "2018    1419.739868\n",
      "2019    1669.921210\n",
      "2020    2241.912673\n",
      "2021    2076.475270\n",
      "2022    1547.351174\n",
      "2023    1754.182699\n",
      "2024    2053.573905\n",
      "Name: Onion, dtype: float64, year\n",
      "2018     869.962523\n",
      "2019    1024.308036\n",
      "2020    1572.050022\n",
      "2021    1526.435473\n",
      "2022     976.707151\n",
      "2023    1171.777440\n",
      "2024    1511.971017\n",
      "Name: Onion, dtype: float64, year\n",
      "2018    1235.684437\n",
      "2019    1586.359899\n",
      "2020    2127.568284\n",
      "2021    1757.503469\n",
      "2022    1544.516966\n",
      "2023    1920.008478\n",
      "2024    1898.327748\n",
      "Name: Onion, dtype: float64, year\n",
      "2018    1476.740660\n",
      "2019    1831.237544\n",
      "2020    2288.785558\n",
      "2021    2115.165003\n",
      "2022    1666.070251\n",
      "2023    1916.319861\n",
      "2024    2301.682197\n",
      "Name: Onion, dtype: float64, year\n",
      "2018    1924.481444\n",
      "2019    2123.772088\n",
      "2020    2878.018145\n",
      "2021    2788.606909\n",
      "2022    2073.656184\n",
      "2023    2441.559756\n",
      "2024    2638.805991\n",
      "Name: Onion, dtype: float64]\n",
      "column: Potato with [2018, 2019, 2020, 2021, 2022, 2023, 2024]\n",
      "y list  [year\n",
      "2018     988.362535\n",
      "2019     777.606707\n",
      "2020    1819.071117\n",
      "2021     957.547725\n",
      "2022    1199.697845\n",
      "2023     926.738221\n",
      "2024    1525.347994\n",
      "Name: Potato, dtype: float64, year\n",
      "2018     887.563697\n",
      "2019     818.041409\n",
      "2020    1626.013503\n",
      "2021    1042.929239\n",
      "2022    1093.143167\n",
      "2023     976.977868\n",
      "2024    1236.710923\n",
      "Name: Potato, dtype: float64, year\n",
      "2018     907.818766\n",
      "2019     877.045925\n",
      "2020    1755.473500\n",
      "2021    1030.075927\n",
      "2022    1258.313073\n",
      "2023     972.710627\n",
      "2024    1543.893180\n",
      "Name: Potato, dtype: float64, year\n",
      "2018     695.706684\n",
      "2019     709.728295\n",
      "2020    1630.603802\n",
      "2021     767.643565\n",
      "2022    1017.148393\n",
      "2023     845.762892\n",
      "2024    1175.983784\n",
      "Name: Potato, dtype: float64, year\n",
      "2018    1146.212775\n",
      "2019    1029.603235\n",
      "2020    2132.579203\n",
      "2021    1104.650328\n",
      "2022    1746.145070\n",
      "2023    1316.926884\n",
      "2024    1972.443285\n",
      "Name: Potato, dtype: float64]\n",
      "column: Rice with [2018, 2019, 2020, 2021, 2022, 2023, 2024]\n",
      "y list  [year\n",
      "2018    2327.091768\n",
      "2019    2463.166591\n",
      "2020    2549.629596\n",
      "2021    2478.131282\n",
      "2022    2574.285267\n",
      "2023    2704.692917\n",
      "2024    2959.963967\n",
      "Name: Rice, dtype: float64, year\n",
      "2018    2260.600000\n",
      "2019    1731.818182\n",
      "2020       0.000000\n",
      "2021       0.000000\n",
      "2022       0.000000\n",
      "2023    3433.500000\n",
      "2024       0.000000\n",
      "Name: Rice, dtype: float64, year\n",
      "2018       0.0\n",
      "2019    3175.0\n",
      "2020       0.0\n",
      "2021       0.0\n",
      "2022       0.0\n",
      "2023    3451.0\n",
      "2024    4453.0\n",
      "Name: Rice, dtype: float64, year\n",
      "2018    3174.906810\n",
      "2019    2475.000000\n",
      "2020    2000.000000\n",
      "2021       0.000000\n",
      "2022       0.000000\n",
      "2023    1034.333333\n",
      "2024       0.000000\n",
      "Name: Rice, dtype: float64, year\n",
      "2018    3025.661047\n",
      "2019    2932.014221\n",
      "2020    2938.204546\n",
      "2021    3145.025584\n",
      "2022    3743.070150\n",
      "2023    3593.819797\n",
      "2024    3852.946309\n",
      "Name: Rice, dtype: float64]\n",
      "column: Wheat with [2018, 2019, 2020, 2021, 2022, 2023, 2024]\n",
      "y list  [year\n",
      "2018    1715.213736\n",
      "2019    1881.488344\n",
      "2020    1877.882095\n",
      "2021    1818.634988\n",
      "2022    2152.113445\n",
      "2023    2336.233848\n",
      "2024    2417.911822\n",
      "Name: Wheat, dtype: float64, year\n",
      "2018    1770.327731\n",
      "2019    1913.839956\n",
      "2020    1832.559745\n",
      "2021    1797.387587\n",
      "2022    2124.789279\n",
      "2023    2303.726794\n",
      "2024    2412.975807\n",
      "Name: Wheat, dtype: float64, year\n",
      "2018    1760.819200\n",
      "2019    1954.735762\n",
      "2020    1792.467337\n",
      "2021    1814.173651\n",
      "2022    2197.601406\n",
      "2023    2335.939244\n",
      "2024    2500.728391\n",
      "Name: Wheat, dtype: float64, year\n",
      "2018    1736.583701\n",
      "2019    1839.976440\n",
      "2020    1923.917841\n",
      "2021    1975.520180\n",
      "2022    2015.794076\n",
      "2023    2129.602570\n",
      "2024    2276.593505\n",
      "Name: Wheat, dtype: float64, year\n",
      "2018    1717.492870\n",
      "2019    1920.129649\n",
      "2020    1965.591087\n",
      "2021    1898.130906\n",
      "2022    2143.856324\n",
      "2023    2500.010848\n",
      "2024    2507.698918\n",
      "Name: Wheat, dtype: float64]\n"
     ]
    }
   ],
   "source": [
    "analyser.pivot_plot()"
   ]
  },
  {
   "cell_type": "code",
   "execution_count": null,
   "metadata": {},
   "outputs": [],
   "source": []
  }
 ],
 "metadata": {
  "kernelspec": {
   "display_name": ".venv",
   "language": "python",
   "name": "python3"
  },
  "language_info": {
   "codemirror_mode": {
    "name": "ipython",
    "version": 3
   },
   "file_extension": ".py",
   "mimetype": "text/x-python",
   "name": "python",
   "nbconvert_exporter": "python",
   "pygments_lexer": "ipython3",
   "version": "3.12.3"
  }
 },
 "nbformat": 4,
 "nbformat_minor": 2
}
