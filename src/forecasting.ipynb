{
 "cells": [
  {
   "cell_type": "code",
   "execution_count": 1,
   "metadata": {},
   "outputs": [
    {
     "data": {
      "text/plain": [
       "True"
      ]
     },
     "execution_count": 1,
     "metadata": {},
     "output_type": "execute_result"
    }
   ],
   "source": [
    "import numpy as np\n",
    "import pandas as pd\n",
    "import plotly.express as px\n",
    "import os\n",
    "from dotenv import load_dotenv\n",
    "load_dotenv()"
   ]
  },
  {
   "cell_type": "code",
   "execution_count": 2,
   "metadata": {},
   "outputs": [
    {
     "name": "stdout",
     "output_type": "stream",
     "text": [
      "data/\n"
     ]
    }
   ],
   "source": [
    "print(os.environ.get(\"DATA_SOURCE_DIR\"))"
   ]
  },
  {
   "cell_type": "code",
   "execution_count": 3,
   "metadata": {},
   "outputs": [],
   "source": [
    "DATA_SOURCE = \"../data/5_yr_data/\""
   ]
  },
  {
   "cell_type": "code",
   "execution_count": 4,
   "metadata": {},
   "outputs": [],
   "source": [
    "up_5yrs = pd.read_csv(DATA_SOURCE+\"UP5_years.csv\")"
   ]
  },
  {
   "cell_type": "code",
   "execution_count": 5,
   "metadata": {},
   "outputs": [
    {
     "data": {
      "text/html": [
       "<div>\n",
       "<style scoped>\n",
       "    .dataframe tbody tr th:only-of-type {\n",
       "        vertical-align: middle;\n",
       "    }\n",
       "\n",
       "    .dataframe tbody tr th {\n",
       "        vertical-align: top;\n",
       "    }\n",
       "\n",
       "    .dataframe thead th {\n",
       "        text-align: right;\n",
       "    }\n",
       "</style>\n",
       "<table border=\"1\" class=\"dataframe\">\n",
       "  <thead>\n",
       "    <tr style=\"text-align: right;\">\n",
       "      <th></th>\n",
       "      <th>Unnamed: 0</th>\n",
       "      <th>district_name</th>\n",
       "      <th>market_name</th>\n",
       "      <th>commodity</th>\n",
       "      <th>variety</th>\n",
       "      <th>grade</th>\n",
       "      <th>min_rs_quintal</th>\n",
       "      <th>max_rs_quintal</th>\n",
       "      <th>modal_rs_quintal</th>\n",
       "      <th>date</th>\n",
       "      <th>year</th>\n",
       "      <th>month</th>\n",
       "      <th>day_of_month</th>\n",
       "    </tr>\n",
       "  </thead>\n",
       "  <tbody>\n",
       "    <tr>\n",
       "      <th>0</th>\n",
       "      <td>446185</td>\n",
       "      <td>Auraiya</td>\n",
       "      <td>Achalda</td>\n",
       "      <td>Potato</td>\n",
       "      <td>Badshah</td>\n",
       "      <td>FAQ</td>\n",
       "      <td>600.0</td>\n",
       "      <td>700.0</td>\n",
       "      <td>670.0</td>\n",
       "      <td>04 Oct 2019</td>\n",
       "      <td>2019</td>\n",
       "      <td>Oct</td>\n",
       "      <td>4</td>\n",
       "    </tr>\n",
       "    <tr>\n",
       "      <th>1</th>\n",
       "      <td>446186</td>\n",
       "      <td>Auraiya</td>\n",
       "      <td>Achalda</td>\n",
       "      <td>Potato</td>\n",
       "      <td>Badshah</td>\n",
       "      <td>FAQ</td>\n",
       "      <td>780.0</td>\n",
       "      <td>820.0</td>\n",
       "      <td>800.0</td>\n",
       "      <td>05 Dec 2019</td>\n",
       "      <td>2019</td>\n",
       "      <td>Dec</td>\n",
       "      <td>5</td>\n",
       "    </tr>\n",
       "    <tr>\n",
       "      <th>2</th>\n",
       "      <td>446187</td>\n",
       "      <td>Auraiya</td>\n",
       "      <td>Achalda</td>\n",
       "      <td>Potato</td>\n",
       "      <td>Badshah</td>\n",
       "      <td>FAQ</td>\n",
       "      <td>850.0</td>\n",
       "      <td>920.0</td>\n",
       "      <td>900.0</td>\n",
       "      <td>17 Dec 2019</td>\n",
       "      <td>2019</td>\n",
       "      <td>Dec</td>\n",
       "      <td>17</td>\n",
       "    </tr>\n",
       "    <tr>\n",
       "      <th>3</th>\n",
       "      <td>446188</td>\n",
       "      <td>Auraiya</td>\n",
       "      <td>Achalda</td>\n",
       "      <td>Potato</td>\n",
       "      <td>Badshah</td>\n",
       "      <td>FAQ</td>\n",
       "      <td>890.0</td>\n",
       "      <td>950.0</td>\n",
       "      <td>900.0</td>\n",
       "      <td>18 Oct 2019</td>\n",
       "      <td>2019</td>\n",
       "      <td>Oct</td>\n",
       "      <td>18</td>\n",
       "    </tr>\n",
       "    <tr>\n",
       "      <th>4</th>\n",
       "      <td>446189</td>\n",
       "      <td>Auraiya</td>\n",
       "      <td>Achalda</td>\n",
       "      <td>Potato</td>\n",
       "      <td>Badshah</td>\n",
       "      <td>FAQ</td>\n",
       "      <td>1000.0</td>\n",
       "      <td>1090.0</td>\n",
       "      <td>1060.0</td>\n",
       "      <td>29 Jan 2020</td>\n",
       "      <td>2020</td>\n",
       "      <td>Jan</td>\n",
       "      <td>29</td>\n",
       "    </tr>\n",
       "  </tbody>\n",
       "</table>\n",
       "</div>"
      ],
      "text/plain": [
       "   Unnamed: 0 district_name market_name commodity  variety grade  \\\n",
       "0      446185       Auraiya     Achalda    Potato  Badshah   FAQ   \n",
       "1      446186       Auraiya     Achalda    Potato  Badshah   FAQ   \n",
       "2      446187       Auraiya     Achalda    Potato  Badshah   FAQ   \n",
       "3      446188       Auraiya     Achalda    Potato  Badshah   FAQ   \n",
       "4      446189       Auraiya     Achalda    Potato  Badshah   FAQ   \n",
       "\n",
       "   min_rs_quintal  max_rs_quintal  modal_rs_quintal         date  year month  \\\n",
       "0           600.0           700.0             670.0  04 Oct 2019  2019   Oct   \n",
       "1           780.0           820.0             800.0  05 Dec 2019  2019   Dec   \n",
       "2           850.0           920.0             900.0  17 Dec 2019  2019   Dec   \n",
       "3           890.0           950.0             900.0  18 Oct 2019  2019   Oct   \n",
       "4          1000.0          1090.0            1060.0  29 Jan 2020  2020   Jan   \n",
       "\n",
       "   day_of_month  \n",
       "0             4  \n",
       "1             5  \n",
       "2            17  \n",
       "3            18  \n",
       "4            29  "
      ]
     },
     "execution_count": 5,
     "metadata": {},
     "output_type": "execute_result"
    }
   ],
   "source": [
    "up_5yrs.head()"
   ]
  },
  {
   "cell_type": "code",
   "execution_count": 6,
   "metadata": {},
   "outputs": [],
   "source": [
    "up_5yrs.drop(columns=['Unnamed: 0'], inplace=True)"
   ]
  },
  {
   "cell_type": "code",
   "execution_count": 7,
   "metadata": {},
   "outputs": [
    {
     "data": {
      "text/html": [
       "<div>\n",
       "<style scoped>\n",
       "    .dataframe tbody tr th:only-of-type {\n",
       "        vertical-align: middle;\n",
       "    }\n",
       "\n",
       "    .dataframe tbody tr th {\n",
       "        vertical-align: top;\n",
       "    }\n",
       "\n",
       "    .dataframe thead th {\n",
       "        text-align: right;\n",
       "    }\n",
       "</style>\n",
       "<table border=\"1\" class=\"dataframe\">\n",
       "  <thead>\n",
       "    <tr style=\"text-align: right;\">\n",
       "      <th></th>\n",
       "      <th>district_name</th>\n",
       "      <th>market_name</th>\n",
       "      <th>commodity</th>\n",
       "      <th>variety</th>\n",
       "      <th>grade</th>\n",
       "      <th>min_rs_quintal</th>\n",
       "      <th>max_rs_quintal</th>\n",
       "      <th>modal_rs_quintal</th>\n",
       "      <th>date</th>\n",
       "      <th>year</th>\n",
       "      <th>month</th>\n",
       "      <th>day_of_month</th>\n",
       "    </tr>\n",
       "  </thead>\n",
       "  <tbody>\n",
       "    <tr>\n",
       "      <th>0</th>\n",
       "      <td>Auraiya</td>\n",
       "      <td>Achalda</td>\n",
       "      <td>Potato</td>\n",
       "      <td>Badshah</td>\n",
       "      <td>FAQ</td>\n",
       "      <td>600.0</td>\n",
       "      <td>700.0</td>\n",
       "      <td>670.0</td>\n",
       "      <td>04 Oct 2019</td>\n",
       "      <td>2019</td>\n",
       "      <td>Oct</td>\n",
       "      <td>4</td>\n",
       "    </tr>\n",
       "    <tr>\n",
       "      <th>1</th>\n",
       "      <td>Auraiya</td>\n",
       "      <td>Achalda</td>\n",
       "      <td>Potato</td>\n",
       "      <td>Badshah</td>\n",
       "      <td>FAQ</td>\n",
       "      <td>780.0</td>\n",
       "      <td>820.0</td>\n",
       "      <td>800.0</td>\n",
       "      <td>05 Dec 2019</td>\n",
       "      <td>2019</td>\n",
       "      <td>Dec</td>\n",
       "      <td>5</td>\n",
       "    </tr>\n",
       "    <tr>\n",
       "      <th>2</th>\n",
       "      <td>Auraiya</td>\n",
       "      <td>Achalda</td>\n",
       "      <td>Potato</td>\n",
       "      <td>Badshah</td>\n",
       "      <td>FAQ</td>\n",
       "      <td>850.0</td>\n",
       "      <td>920.0</td>\n",
       "      <td>900.0</td>\n",
       "      <td>17 Dec 2019</td>\n",
       "      <td>2019</td>\n",
       "      <td>Dec</td>\n",
       "      <td>17</td>\n",
       "    </tr>\n",
       "    <tr>\n",
       "      <th>3</th>\n",
       "      <td>Auraiya</td>\n",
       "      <td>Achalda</td>\n",
       "      <td>Potato</td>\n",
       "      <td>Badshah</td>\n",
       "      <td>FAQ</td>\n",
       "      <td>890.0</td>\n",
       "      <td>950.0</td>\n",
       "      <td>900.0</td>\n",
       "      <td>18 Oct 2019</td>\n",
       "      <td>2019</td>\n",
       "      <td>Oct</td>\n",
       "      <td>18</td>\n",
       "    </tr>\n",
       "    <tr>\n",
       "      <th>4</th>\n",
       "      <td>Auraiya</td>\n",
       "      <td>Achalda</td>\n",
       "      <td>Potato</td>\n",
       "      <td>Badshah</td>\n",
       "      <td>FAQ</td>\n",
       "      <td>1000.0</td>\n",
       "      <td>1090.0</td>\n",
       "      <td>1060.0</td>\n",
       "      <td>29 Jan 2020</td>\n",
       "      <td>2020</td>\n",
       "      <td>Jan</td>\n",
       "      <td>29</td>\n",
       "    </tr>\n",
       "  </tbody>\n",
       "</table>\n",
       "</div>"
      ],
      "text/plain": [
       "  district_name market_name commodity  variety grade  min_rs_quintal  \\\n",
       "0       Auraiya     Achalda    Potato  Badshah   FAQ           600.0   \n",
       "1       Auraiya     Achalda    Potato  Badshah   FAQ           780.0   \n",
       "2       Auraiya     Achalda    Potato  Badshah   FAQ           850.0   \n",
       "3       Auraiya     Achalda    Potato  Badshah   FAQ           890.0   \n",
       "4       Auraiya     Achalda    Potato  Badshah   FAQ          1000.0   \n",
       "\n",
       "   max_rs_quintal  modal_rs_quintal         date  year month  day_of_month  \n",
       "0           700.0             670.0  04 Oct 2019  2019   Oct             4  \n",
       "1           820.0             800.0  05 Dec 2019  2019   Dec             5  \n",
       "2           920.0             900.0  17 Dec 2019  2019   Dec            17  \n",
       "3           950.0             900.0  18 Oct 2019  2019   Oct            18  \n",
       "4          1090.0            1060.0  29 Jan 2020  2020   Jan            29  "
      ]
     },
     "execution_count": 7,
     "metadata": {},
     "output_type": "execute_result"
    }
   ],
   "source": [
    "up_5yrs.head()"
   ]
  },
  {
   "cell_type": "code",
   "execution_count": 8,
   "metadata": {},
   "outputs": [
    {
     "data": {
      "text/plain": [
       "(1226694, 12)"
      ]
     },
     "execution_count": 8,
     "metadata": {},
     "output_type": "execute_result"
    }
   ],
   "source": [
    "up_5yrs.shape"
   ]
  },
  {
   "cell_type": "markdown",
   "metadata": {},
   "source": [
    "## Missing Values"
   ]
  },
  {
   "cell_type": "code",
   "execution_count": 9,
   "metadata": {},
   "outputs": [
    {
     "name": "stdout",
     "output_type": "stream",
     "text": [
      "<class 'pandas.core.frame.DataFrame'>\n",
      "RangeIndex: 1226694 entries, 0 to 1226693\n",
      "Data columns (total 12 columns):\n",
      " #   Column            Non-Null Count    Dtype  \n",
      "---  ------            --------------    -----  \n",
      " 0   district_name     1226694 non-null  object \n",
      " 1   market_name       1226694 non-null  object \n",
      " 2   commodity         1226694 non-null  object \n",
      " 3   variety           1226694 non-null  object \n",
      " 4   grade             1226694 non-null  object \n",
      " 5   min_rs_quintal    1226694 non-null  float64\n",
      " 6   max_rs_quintal    1226694 non-null  float64\n",
      " 7   modal_rs_quintal  1226694 non-null  float64\n",
      " 8   date              1226694 non-null  object \n",
      " 9   year              1226694 non-null  int64  \n",
      " 10  month             1226694 non-null  object \n",
      " 11  day_of_month      1226694 non-null  int64  \n",
      "dtypes: float64(3), int64(2), object(7)\n",
      "memory usage: 112.3+ MB\n"
     ]
    }
   ],
   "source": [
    "up_5yrs.info()"
   ]
  },
  {
   "cell_type": "markdown",
   "metadata": {},
   "source": [
    "### I think we have populated the missing data with zero and so the above command says that there is no missing value\n",
    "### Need to check where we are populating with zero when data is not present"
   ]
  },
  {
   "cell_type": "code",
   "execution_count": 10,
   "metadata": {},
   "outputs": [
    {
     "data": {
      "text/html": [
       "<div>\n",
       "<style scoped>\n",
       "    .dataframe tbody tr th:only-of-type {\n",
       "        vertical-align: middle;\n",
       "    }\n",
       "\n",
       "    .dataframe tbody tr th {\n",
       "        vertical-align: top;\n",
       "    }\n",
       "\n",
       "    .dataframe thead th {\n",
       "        text-align: right;\n",
       "    }\n",
       "</style>\n",
       "<table border=\"1\" class=\"dataframe\">\n",
       "  <thead>\n",
       "    <tr style=\"text-align: right;\">\n",
       "      <th></th>\n",
       "      <th>min_rs_quintal</th>\n",
       "      <th>max_rs_quintal</th>\n",
       "      <th>modal_rs_quintal</th>\n",
       "      <th>year</th>\n",
       "      <th>day_of_month</th>\n",
       "    </tr>\n",
       "  </thead>\n",
       "  <tbody>\n",
       "    <tr>\n",
       "      <th>count</th>\n",
       "      <td>1.226694e+06</td>\n",
       "      <td>1.226694e+06</td>\n",
       "      <td>1.226694e+06</td>\n",
       "      <td>1.226694e+06</td>\n",
       "      <td>1.226694e+06</td>\n",
       "    </tr>\n",
       "    <tr>\n",
       "      <th>mean</th>\n",
       "      <td>1.704229e+03</td>\n",
       "      <td>1.821545e+03</td>\n",
       "      <td>1.772429e+03</td>\n",
       "      <td>2.020855e+03</td>\n",
       "      <td>1.572314e+01</td>\n",
       "    </tr>\n",
       "    <tr>\n",
       "      <th>std</th>\n",
       "      <td>7.698786e+02</td>\n",
       "      <td>7.849455e+02</td>\n",
       "      <td>7.662350e+02</td>\n",
       "      <td>1.934080e+00</td>\n",
       "      <td>8.784076e+00</td>\n",
       "    </tr>\n",
       "    <tr>\n",
       "      <th>min</th>\n",
       "      <td>0.000000e+00</td>\n",
       "      <td>0.000000e+00</td>\n",
       "      <td>1.100000e+01</td>\n",
       "      <td>2.018000e+03</td>\n",
       "      <td>1.000000e+00</td>\n",
       "    </tr>\n",
       "    <tr>\n",
       "      <th>25%</th>\n",
       "      <td>1.075000e+03</td>\n",
       "      <td>1.200000e+03</td>\n",
       "      <td>1.150000e+03</td>\n",
       "      <td>2.019000e+03</td>\n",
       "      <td>8.000000e+00</td>\n",
       "    </tr>\n",
       "    <tr>\n",
       "      <th>50%</th>\n",
       "      <td>1.725000e+03</td>\n",
       "      <td>1.830000e+03</td>\n",
       "      <td>1.785000e+03</td>\n",
       "      <td>2.021000e+03</td>\n",
       "      <td>1.600000e+01</td>\n",
       "    </tr>\n",
       "    <tr>\n",
       "      <th>75%</th>\n",
       "      <td>2.280000e+03</td>\n",
       "      <td>2.400000e+03</td>\n",
       "      <td>2.340000e+03</td>\n",
       "      <td>2.023000e+03</td>\n",
       "      <td>2.300000e+01</td>\n",
       "    </tr>\n",
       "    <tr>\n",
       "      <th>max</th>\n",
       "      <td>1.050000e+04</td>\n",
       "      <td>2.650000e+04</td>\n",
       "      <td>1.054000e+04</td>\n",
       "      <td>2.024000e+03</td>\n",
       "      <td>3.100000e+01</td>\n",
       "    </tr>\n",
       "  </tbody>\n",
       "</table>\n",
       "</div>"
      ],
      "text/plain": [
       "       min_rs_quintal  max_rs_quintal  modal_rs_quintal          year  \\\n",
       "count    1.226694e+06    1.226694e+06      1.226694e+06  1.226694e+06   \n",
       "mean     1.704229e+03    1.821545e+03      1.772429e+03  2.020855e+03   \n",
       "std      7.698786e+02    7.849455e+02      7.662350e+02  1.934080e+00   \n",
       "min      0.000000e+00    0.000000e+00      1.100000e+01  2.018000e+03   \n",
       "25%      1.075000e+03    1.200000e+03      1.150000e+03  2.019000e+03   \n",
       "50%      1.725000e+03    1.830000e+03      1.785000e+03  2.021000e+03   \n",
       "75%      2.280000e+03    2.400000e+03      2.340000e+03  2.023000e+03   \n",
       "max      1.050000e+04    2.650000e+04      1.054000e+04  2.024000e+03   \n",
       "\n",
       "       day_of_month  \n",
       "count  1.226694e+06  \n",
       "mean   1.572314e+01  \n",
       "std    8.784076e+00  \n",
       "min    1.000000e+00  \n",
       "25%    8.000000e+00  \n",
       "50%    1.600000e+01  \n",
       "75%    2.300000e+01  \n",
       "max    3.100000e+01  "
      ]
     },
     "execution_count": 10,
     "metadata": {},
     "output_type": "execute_result"
    }
   ],
   "source": [
    "up_5yrs.describe()"
   ]
  },
  {
   "cell_type": "code",
   "execution_count": 11,
   "metadata": {},
   "outputs": [],
   "source": [
    "def get_outlier_data(field, df):\n",
    "    outlier_data = []\n",
    "    unique_commodities = set(df.commodity.values)\n",
    "\n",
    "    for commodity in unique_commodities:\n",
    "        min_rs = df[df['commodity'] == commodity][field]\n",
    "        \n",
    "        commodity_values = {\n",
    "            'commodity': commodity,\n",
    "            'min_value': min_rs.min(),\n",
    "            '5th_percentile': min_rs.quantile(0.05),\n",
    "            '25th_percentile': min_rs.quantile(0.25),\n",
    "            '50th_percentile': min_rs.quantile(0.50),\n",
    "            '75th_percentile': min_rs.quantile(0.75),\n",
    "            '90th_percentile': min_rs.quantile(0.90),\n",
    "            '95th_percentile': min_rs.quantile(0.95),\n",
    "            '99th_percentile': min_rs.quantile(0.99),\n",
    "            '99.5th_percentile': min_rs.quantile(0.995),\n",
    "            'max_value': min_rs.max()\n",
    "        }\n",
    "        \n",
    "        outlier_data.append(commodity_values)\n",
    "\n",
    "    df_outliers = pd.DataFrame(outlier_data)\n",
    "    return df_outliers\n"
   ]
  },
  {
   "cell_type": "code",
   "execution_count": 12,
   "metadata": {},
   "outputs": [
    {
     "data": {
      "text/html": [
       "<div>\n",
       "<style scoped>\n",
       "    .dataframe tbody tr th:only-of-type {\n",
       "        vertical-align: middle;\n",
       "    }\n",
       "\n",
       "    .dataframe tbody tr th {\n",
       "        vertical-align: top;\n",
       "    }\n",
       "\n",
       "    .dataframe thead th {\n",
       "        text-align: right;\n",
       "    }\n",
       "</style>\n",
       "<table border=\"1\" class=\"dataframe\">\n",
       "  <thead>\n",
       "    <tr style=\"text-align: right;\">\n",
       "      <th></th>\n",
       "      <th>commodity</th>\n",
       "      <th>min_value</th>\n",
       "      <th>5th_percentile</th>\n",
       "      <th>25th_percentile</th>\n",
       "      <th>50th_percentile</th>\n",
       "      <th>75th_percentile</th>\n",
       "      <th>90th_percentile</th>\n",
       "      <th>95th_percentile</th>\n",
       "      <th>99th_percentile</th>\n",
       "      <th>99.5th_percentile</th>\n",
       "      <th>max_value</th>\n",
       "    </tr>\n",
       "  </thead>\n",
       "  <tbody>\n",
       "    <tr>\n",
       "      <th>0</th>\n",
       "      <td>Onion</td>\n",
       "      <td>0.0</td>\n",
       "      <td>750.0</td>\n",
       "      <td>1100.0</td>\n",
       "      <td>1450.0</td>\n",
       "      <td>2050.0</td>\n",
       "      <td>2900.0</td>\n",
       "      <td>3400.0</td>\n",
       "      <td>4442.6</td>\n",
       "      <td>5000.000</td>\n",
       "      <td>10500.0</td>\n",
       "    </tr>\n",
       "    <tr>\n",
       "      <th>1</th>\n",
       "      <td>Rice</td>\n",
       "      <td>0.0</td>\n",
       "      <td>2050.0</td>\n",
       "      <td>2300.0</td>\n",
       "      <td>2440.0</td>\n",
       "      <td>2600.0</td>\n",
       "      <td>2850.0</td>\n",
       "      <td>2950.0</td>\n",
       "      <td>3300.0</td>\n",
       "      <td>4715.700</td>\n",
       "      <td>9800.0</td>\n",
       "    </tr>\n",
       "    <tr>\n",
       "      <th>2</th>\n",
       "      <td>Wheat</td>\n",
       "      <td>0.0</td>\n",
       "      <td>1570.0</td>\n",
       "      <td>1750.0</td>\n",
       "      <td>1900.0</td>\n",
       "      <td>2150.0</td>\n",
       "      <td>2370.0</td>\n",
       "      <td>2450.0</td>\n",
       "      <td>2650.0</td>\n",
       "      <td>2710.000</td>\n",
       "      <td>7020.0</td>\n",
       "    </tr>\n",
       "    <tr>\n",
       "      <th>3</th>\n",
       "      <td>Potato</td>\n",
       "      <td>0.0</td>\n",
       "      <td>450.0</td>\n",
       "      <td>700.0</td>\n",
       "      <td>945.0</td>\n",
       "      <td>1290.0</td>\n",
       "      <td>1700.0</td>\n",
       "      <td>2200.0</td>\n",
       "      <td>2900.0</td>\n",
       "      <td>3009.175</td>\n",
       "      <td>7400.0</td>\n",
       "    </tr>\n",
       "  </tbody>\n",
       "</table>\n",
       "</div>"
      ],
      "text/plain": [
       "  commodity  min_value  5th_percentile  25th_percentile  50th_percentile  \\\n",
       "0     Onion        0.0           750.0           1100.0           1450.0   \n",
       "1      Rice        0.0          2050.0           2300.0           2440.0   \n",
       "2     Wheat        0.0          1570.0           1750.0           1900.0   \n",
       "3    Potato        0.0           450.0            700.0            945.0   \n",
       "\n",
       "   75th_percentile  90th_percentile  95th_percentile  99th_percentile  \\\n",
       "0           2050.0           2900.0           3400.0           4442.6   \n",
       "1           2600.0           2850.0           2950.0           3300.0   \n",
       "2           2150.0           2370.0           2450.0           2650.0   \n",
       "3           1290.0           1700.0           2200.0           2900.0   \n",
       "\n",
       "   99.5th_percentile  max_value  \n",
       "0           5000.000    10500.0  \n",
       "1           4715.700     9800.0  \n",
       "2           2710.000     7020.0  \n",
       "3           3009.175     7400.0  "
      ]
     },
     "execution_count": 12,
     "metadata": {},
     "output_type": "execute_result"
    }
   ],
   "source": [
    "get_outlier_data('min_rs_quintal', up_5yrs)"
   ]
  },
  {
   "cell_type": "code",
   "execution_count": 13,
   "metadata": {},
   "outputs": [
    {
     "data": {
      "text/html": [
       "<div>\n",
       "<style scoped>\n",
       "    .dataframe tbody tr th:only-of-type {\n",
       "        vertical-align: middle;\n",
       "    }\n",
       "\n",
       "    .dataframe tbody tr th {\n",
       "        vertical-align: top;\n",
       "    }\n",
       "\n",
       "    .dataframe thead th {\n",
       "        text-align: right;\n",
       "    }\n",
       "</style>\n",
       "<table border=\"1\" class=\"dataframe\">\n",
       "  <thead>\n",
       "    <tr style=\"text-align: right;\">\n",
       "      <th></th>\n",
       "      <th>commodity</th>\n",
       "      <th>min_value</th>\n",
       "      <th>5th_percentile</th>\n",
       "      <th>25th_percentile</th>\n",
       "      <th>50th_percentile</th>\n",
       "      <th>75th_percentile</th>\n",
       "      <th>90th_percentile</th>\n",
       "      <th>95th_percentile</th>\n",
       "      <th>99th_percentile</th>\n",
       "      <th>99.5th_percentile</th>\n",
       "      <th>max_value</th>\n",
       "    </tr>\n",
       "  </thead>\n",
       "  <tbody>\n",
       "    <tr>\n",
       "      <th>0</th>\n",
       "      <td>Onion</td>\n",
       "      <td>0.0</td>\n",
       "      <td>850.0</td>\n",
       "      <td>1250.0</td>\n",
       "      <td>1600.0</td>\n",
       "      <td>2200.0</td>\n",
       "      <td>3100.0</td>\n",
       "      <td>3600.0</td>\n",
       "      <td>4650.0</td>\n",
       "      <td>5250.00</td>\n",
       "      <td>11050.0</td>\n",
       "    </tr>\n",
       "    <tr>\n",
       "      <th>1</th>\n",
       "      <td>Rice</td>\n",
       "      <td>0.0</td>\n",
       "      <td>2185.0</td>\n",
       "      <td>2400.0</td>\n",
       "      <td>2550.0</td>\n",
       "      <td>2725.0</td>\n",
       "      <td>3000.0</td>\n",
       "      <td>3100.0</td>\n",
       "      <td>3480.0</td>\n",
       "      <td>4797.85</td>\n",
       "      <td>26500.0</td>\n",
       "    </tr>\n",
       "    <tr>\n",
       "      <th>2</th>\n",
       "      <td>Wheat</td>\n",
       "      <td>0.0</td>\n",
       "      <td>1640.0</td>\n",
       "      <td>1840.0</td>\n",
       "      <td>1975.0</td>\n",
       "      <td>2270.0</td>\n",
       "      <td>2460.0</td>\n",
       "      <td>2550.0</td>\n",
       "      <td>2750.0</td>\n",
       "      <td>2810.00</td>\n",
       "      <td>16700.0</td>\n",
       "    </tr>\n",
       "    <tr>\n",
       "      <th>3</th>\n",
       "      <td>Potato</td>\n",
       "      <td>0.0</td>\n",
       "      <td>550.0</td>\n",
       "      <td>800.0</td>\n",
       "      <td>1060.0</td>\n",
       "      <td>1400.0</td>\n",
       "      <td>1850.0</td>\n",
       "      <td>2360.0</td>\n",
       "      <td>3050.0</td>\n",
       "      <td>3200.00</td>\n",
       "      <td>11200.0</td>\n",
       "    </tr>\n",
       "  </tbody>\n",
       "</table>\n",
       "</div>"
      ],
      "text/plain": [
       "  commodity  min_value  5th_percentile  25th_percentile  50th_percentile  \\\n",
       "0     Onion        0.0           850.0           1250.0           1600.0   \n",
       "1      Rice        0.0          2185.0           2400.0           2550.0   \n",
       "2     Wheat        0.0          1640.0           1840.0           1975.0   \n",
       "3    Potato        0.0           550.0            800.0           1060.0   \n",
       "\n",
       "   75th_percentile  90th_percentile  95th_percentile  99th_percentile  \\\n",
       "0           2200.0           3100.0           3600.0           4650.0   \n",
       "1           2725.0           3000.0           3100.0           3480.0   \n",
       "2           2270.0           2460.0           2550.0           2750.0   \n",
       "3           1400.0           1850.0           2360.0           3050.0   \n",
       "\n",
       "   99.5th_percentile  max_value  \n",
       "0            5250.00    11050.0  \n",
       "1            4797.85    26500.0  \n",
       "2            2810.00    16700.0  \n",
       "3            3200.00    11200.0  "
      ]
     },
     "execution_count": 13,
     "metadata": {},
     "output_type": "execute_result"
    }
   ],
   "source": [
    "get_outlier_data('max_rs_quintal', up_5yrs)"
   ]
  },
  {
   "cell_type": "code",
   "execution_count": 24,
   "metadata": {},
   "outputs": [
    {
     "data": {
      "text/html": [
       "<div>\n",
       "<style scoped>\n",
       "    .dataframe tbody tr th:only-of-type {\n",
       "        vertical-align: middle;\n",
       "    }\n",
       "\n",
       "    .dataframe tbody tr th {\n",
       "        vertical-align: top;\n",
       "    }\n",
       "\n",
       "    .dataframe thead th {\n",
       "        text-align: right;\n",
       "    }\n",
       "</style>\n",
       "<table border=\"1\" class=\"dataframe\">\n",
       "  <thead>\n",
       "    <tr style=\"text-align: right;\">\n",
       "      <th></th>\n",
       "      <th>commodity</th>\n",
       "      <th>min_value</th>\n",
       "      <th>5th_percentile</th>\n",
       "      <th>25th_percentile</th>\n",
       "      <th>50th_percentile</th>\n",
       "      <th>75th_percentile</th>\n",
       "      <th>90th_percentile</th>\n",
       "      <th>95th_percentile</th>\n",
       "      <th>99th_percentile</th>\n",
       "      <th>99.5th_percentile</th>\n",
       "      <th>max_value</th>\n",
       "    </tr>\n",
       "  </thead>\n",
       "  <tbody>\n",
       "    <tr>\n",
       "      <th>0</th>\n",
       "      <td>Onion</td>\n",
       "      <td>88.0</td>\n",
       "      <td>800.0</td>\n",
       "      <td>1190.0</td>\n",
       "      <td>1530.0</td>\n",
       "      <td>2140.0</td>\n",
       "      <td>3000.0</td>\n",
       "      <td>3500.0</td>\n",
       "      <td>4500.0</td>\n",
       "      <td>5100.0</td>\n",
       "      <td>10540.0</td>\n",
       "    </tr>\n",
       "    <tr>\n",
       "      <th>1</th>\n",
       "      <td>Rice</td>\n",
       "      <td>21.0</td>\n",
       "      <td>2135.0</td>\n",
       "      <td>2355.0</td>\n",
       "      <td>2500.0</td>\n",
       "      <td>2665.0</td>\n",
       "      <td>2940.0</td>\n",
       "      <td>3005.0</td>\n",
       "      <td>3380.0</td>\n",
       "      <td>4750.0</td>\n",
       "      <td>9820.0</td>\n",
       "    </tr>\n",
       "    <tr>\n",
       "      <th>2</th>\n",
       "      <td>Wheat</td>\n",
       "      <td>17.0</td>\n",
       "      <td>1620.0</td>\n",
       "      <td>1800.0</td>\n",
       "      <td>1935.0</td>\n",
       "      <td>2220.0</td>\n",
       "      <td>2415.0</td>\n",
       "      <td>2500.0</td>\n",
       "      <td>2700.0</td>\n",
       "      <td>2760.0</td>\n",
       "      <td>7040.0</td>\n",
       "    </tr>\n",
       "    <tr>\n",
       "      <th>3</th>\n",
       "      <td>Potato</td>\n",
       "      <td>11.0</td>\n",
       "      <td>510.0</td>\n",
       "      <td>760.0</td>\n",
       "      <td>1000.0</td>\n",
       "      <td>1350.0</td>\n",
       "      <td>1775.0</td>\n",
       "      <td>2300.0</td>\n",
       "      <td>2970.0</td>\n",
       "      <td>3100.0</td>\n",
       "      <td>9050.0</td>\n",
       "    </tr>\n",
       "  </tbody>\n",
       "</table>\n",
       "</div>"
      ],
      "text/plain": [
       "  commodity  min_value  5th_percentile  25th_percentile  50th_percentile  \\\n",
       "0     Onion       88.0           800.0           1190.0           1530.0   \n",
       "1      Rice       21.0          2135.0           2355.0           2500.0   \n",
       "2     Wheat       17.0          1620.0           1800.0           1935.0   \n",
       "3    Potato       11.0           510.0            760.0           1000.0   \n",
       "\n",
       "   75th_percentile  90th_percentile  95th_percentile  99th_percentile  \\\n",
       "0           2140.0           3000.0           3500.0           4500.0   \n",
       "1           2665.0           2940.0           3005.0           3380.0   \n",
       "2           2220.0           2415.0           2500.0           2700.0   \n",
       "3           1350.0           1775.0           2300.0           2970.0   \n",
       "\n",
       "   99.5th_percentile  max_value  \n",
       "0             5100.0    10540.0  \n",
       "1             4750.0     9820.0  \n",
       "2             2760.0     7040.0  \n",
       "3             3100.0     9050.0  "
      ]
     },
     "execution_count": 24,
     "metadata": {},
     "output_type": "execute_result"
    }
   ],
   "source": [
    "get_outlier_data('modal_rs_quintal', up_5yrs)"
   ]
  },
  {
   "cell_type": "code",
   "execution_count": 31,
   "metadata": {},
   "outputs": [
    {
     "data": {
      "text/plain": [
       "year\n",
       "2020    1136\n",
       "2019     456\n",
       "2023      58\n",
       "2021      10\n",
       "2018       3\n",
       "2022       3\n",
       "2024       2\n",
       "Name: count, dtype: int64"
      ]
     },
     "execution_count": 31,
     "metadata": {},
     "output_type": "execute_result"
    }
   ],
   "source": [
    "up_5yrs[(up_5yrs['modal_rs_quintal'] > 5100) & (up_5yrs['commodity'] == 'Onion')]['year'].value_counts()"
   ]
  },
  {
   "cell_type": "code",
   "execution_count": 66,
   "metadata": {},
   "outputs": [
    {
     "data": {
      "text/html": [
       "<div>\n",
       "<style scoped>\n",
       "    .dataframe tbody tr th:only-of-type {\n",
       "        vertical-align: middle;\n",
       "    }\n",
       "\n",
       "    .dataframe tbody tr th {\n",
       "        vertical-align: top;\n",
       "    }\n",
       "\n",
       "    .dataframe thead th {\n",
       "        text-align: right;\n",
       "    }\n",
       "</style>\n",
       "<table border=\"1\" class=\"dataframe\">\n",
       "  <thead>\n",
       "    <tr style=\"text-align: right;\">\n",
       "      <th></th>\n",
       "      <th>district_name</th>\n",
       "      <th>market_name</th>\n",
       "      <th>commodity</th>\n",
       "      <th>variety</th>\n",
       "      <th>grade</th>\n",
       "      <th>min_rs_quintal</th>\n",
       "      <th>max_rs_quintal</th>\n",
       "      <th>modal_rs_quintal</th>\n",
       "      <th>date</th>\n",
       "      <th>year</th>\n",
       "      <th>month</th>\n",
       "      <th>day_of_month</th>\n",
       "    </tr>\n",
       "  </thead>\n",
       "  <tbody>\n",
       "    <tr>\n",
       "      <th>593535</th>\n",
       "      <td>Meerut</td>\n",
       "      <td>Meerut</td>\n",
       "      <td>Wheat</td>\n",
       "      <td>Dara</td>\n",
       "      <td>FAQ</td>\n",
       "      <td>2920.0</td>\n",
       "      <td>3100.0</td>\n",
       "      <td>3015.0</td>\n",
       "      <td>27 Jan 2023</td>\n",
       "      <td>2023</td>\n",
       "      <td>Jan</td>\n",
       "      <td>27</td>\n",
       "    </tr>\n",
       "    <tr>\n",
       "      <th>609596</th>\n",
       "      <td>Meerut</td>\n",
       "      <td>Meerut</td>\n",
       "      <td>Wheat</td>\n",
       "      <td>Dara</td>\n",
       "      <td>FAQ</td>\n",
       "      <td>2925.0</td>\n",
       "      <td>3150.0</td>\n",
       "      <td>3010.0</td>\n",
       "      <td>25 Jan 2023</td>\n",
       "      <td>2023</td>\n",
       "      <td>Jan</td>\n",
       "      <td>25</td>\n",
       "    </tr>\n",
       "    <tr>\n",
       "      <th>616177</th>\n",
       "      <td>Gonda</td>\n",
       "      <td>Gonda</td>\n",
       "      <td>Wheat</td>\n",
       "      <td>Dara</td>\n",
       "      <td>FAQ</td>\n",
       "      <td>3900.0</td>\n",
       "      <td>3980.0</td>\n",
       "      <td>3940.0</td>\n",
       "      <td>19 Jan 2023</td>\n",
       "      <td>2023</td>\n",
       "      <td>Jan</td>\n",
       "      <td>19</td>\n",
       "    </tr>\n",
       "  </tbody>\n",
       "</table>\n",
       "</div>"
      ],
      "text/plain": [
       "       district_name market_name commodity variety grade  min_rs_quintal  \\\n",
       "593535        Meerut      Meerut     Wheat    Dara   FAQ          2920.0   \n",
       "609596        Meerut      Meerut     Wheat    Dara   FAQ          2925.0   \n",
       "616177         Gonda       Gonda     Wheat    Dara   FAQ          3900.0   \n",
       "\n",
       "        max_rs_quintal  modal_rs_quintal         date  year month  \\\n",
       "593535          3100.0            3015.0  27 Jan 2023  2023   Jan   \n",
       "609596          3150.0            3010.0  25 Jan 2023  2023   Jan   \n",
       "616177          3980.0            3940.0  19 Jan 2023  2023   Jan   \n",
       "\n",
       "        day_of_month  \n",
       "593535            27  \n",
       "609596            25  \n",
       "616177            19  "
      ]
     },
     "execution_count": 66,
     "metadata": {},
     "output_type": "execute_result"
    }
   ],
   "source": [
    "up_5yrs[(up_5yrs['modal_rs_quintal'] > 3000) & (up_5yrs['commodity'] == 'Wheat') & (up_5yrs.year == 2023) & (up_5yrs.month == 'Jan')]"
   ]
  },
  {
   "cell_type": "markdown",
   "metadata": {},
   "source": [
    "### From the above data, it is clear that the modal_price > 5100 was pre-dominantly during Covid Period. So we would be capping it to 5100."
   ]
  },
  {
   "cell_type": "code",
   "execution_count": 47,
   "metadata": {},
   "outputs": [
    {
     "data": {
      "text/plain": [
       "district_name\n",
       "Gautam Budh Nagar    791\n",
       "Fatehpur              44\n",
       "Hathras               10\n",
       "Ayodhya                1\n",
       "Name: count, dtype: int64"
      ]
     },
     "execution_count": 47,
     "metadata": {},
     "output_type": "execute_result"
    }
   ],
   "source": [
    "# up_5yrs[(up_5yrs['modal_rs_quintal'] > 4750) & (up_5yrs['commodity'] == 'Rice')]['year'].value_counts()\n",
    "# up_5yrs[(up_5yrs['modal_rs_quintal'] > 5000) & (up_5yrs['commodity'] == 'Rice')]['district_name'].value_counts()\n",
    "up_5yrs[(up_5yrs['variety'] == 'Fine(Basmati)') & (up_5yrs['commodity'] == 'Rice')]['district_name'].value_counts()"
   ]
  },
  {
   "cell_type": "markdown",
   "metadata": {},
   "source": [
    "### We clearly see from the data above that the `Fine(Basmati)` vareity of rice mainly sold in `Gautam Budh Nagar` district is having clearly more than double the price of the other vareities available"
   ]
  },
  {
   "cell_type": "markdown",
   "metadata": {},
   "source": [
    "### To do proper prediction we will initially not include the `Fine(Basmati)` in the model as it may skew the learnings of th model but later we may try including by possibly using hyperparameters"
   ]
  },
  {
   "cell_type": "markdown",
   "metadata": {},
   "source": [
    "### We could clearly see that there are outliers in all the chosen categories"
   ]
  },
  {
   "cell_type": "code",
   "execution_count": 19,
   "metadata": {},
   "outputs": [
    {
     "data": {
      "text/plain": [
       "year\n",
       "2020    1108\n",
       "2019     465\n",
       "2023      57\n",
       "2021       8\n",
       "2018       7\n",
       "2022       3\n",
       "2024       2\n",
       "Name: count, dtype: int64"
      ]
     },
     "execution_count": 19,
     "metadata": {},
     "output_type": "execute_result"
    }
   ],
   "source": [
    "up_5yrs[(up_5yrs['commodity'] == \"Onion\") & (up_5yrs['max_rs_quintal'] > 5250)]['year'].value_counts()"
   ]
  },
  {
   "cell_type": "code",
   "execution_count": 20,
   "metadata": {},
   "outputs": [
    {
     "data": {
      "text/plain": [
       "year\n",
       "2021    266\n",
       "2020    238\n",
       "2022    231\n",
       "2023    182\n",
       "2024    145\n",
       "2019     45\n",
       "2018     15\n",
       "Name: count, dtype: int64"
      ]
     },
     "execution_count": 20,
     "metadata": {},
     "output_type": "execute_result"
    }
   ],
   "source": [
    "up_5yrs[(up_5yrs['commodity'] == \"Rice\") & (up_5yrs['max_rs_quintal'] > 4798)]['year'].value_counts()"
   ]
  },
  {
   "cell_type": "code",
   "execution_count": 22,
   "metadata": {},
   "outputs": [
    {
     "data": {
      "text/plain": [
       "year\n",
       "2020    1470\n",
       "2024      49\n",
       "2019      15\n",
       "2021       9\n",
       "2018       8\n",
       "2022       2\n",
       "2023       2\n",
       "Name: count, dtype: int64"
      ]
     },
     "execution_count": 22,
     "metadata": {},
     "output_type": "execute_result"
    }
   ],
   "source": [
    "up_5yrs[(up_5yrs['commodity'] == \"Potato\") & (up_5yrs['max_rs_quintal'] > 3200)]['year'].value_counts()"
   ]
  },
  {
   "cell_type": "code",
   "execution_count": 23,
   "metadata": {},
   "outputs": [
    {
     "data": {
      "text/plain": [
       "year\n",
       "2023    1299\n",
       "2022      82\n",
       "2024      36\n",
       "2020      19\n",
       "2018      11\n",
       "2019      10\n",
       "2021       8\n",
       "Name: count, dtype: int64"
      ]
     },
     "execution_count": 23,
     "metadata": {},
     "output_type": "execute_result"
    }
   ],
   "source": [
    "up_5yrs[(up_5yrs['commodity'] == \"Wheat\") & (up_5yrs['max_rs_quintal'] > 2810)]['year'].value_counts()"
   ]
  },
  {
   "cell_type": "code",
   "execution_count": null,
   "metadata": {},
   "outputs": [],
   "source": []
  }
 ],
 "metadata": {
  "kernelspec": {
   "display_name": "sihvenv",
   "language": "python",
   "name": "python3"
  },
  "language_info": {
   "codemirror_mode": {
    "name": "ipython",
    "version": 3
   },
   "file_extension": ".py",
   "mimetype": "text/x-python",
   "name": "python",
   "nbconvert_exporter": "python",
   "pygments_lexer": "ipython3",
   "version": "3.12.3"
  }
 },
 "nbformat": 4,
 "nbformat_minor": 2
}
