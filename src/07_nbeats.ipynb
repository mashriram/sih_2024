{
 "cells": [
  {
   "cell_type": "code",
   "execution_count": 1,
   "metadata": {},
   "outputs": [],
   "source": [
    "import numpy as np\n",
    "import pandas as pd\n",
    "from scipy.special import boxcox, inv_boxcox\n",
    "from scipy.stats import boxcox_normmax\n",
    "import matplotlib.pyplot as plt\n",
    "from neuralforecast import NeuralForecast\n",
    "from neuralforecast.models import NBEATS\n",
    "from neuralforecast.losses.pytorch import MAE, DistributionLoss\n",
    "from sklearn.metrics import mean_absolute_error, mean_squared_error"
   ]
  },
  {
   "cell_type": "code",
   "execution_count": 2,
   "metadata": {},
   "outputs": [
    {
     "data": {
      "text/html": [
       "<div>\n",
       "<style scoped>\n",
       "    .dataframe tbody tr th:only-of-type {\n",
       "        vertical-align: middle;\n",
       "    }\n",
       "\n",
       "    .dataframe tbody tr th {\n",
       "        vertical-align: top;\n",
       "    }\n",
       "\n",
       "    .dataframe thead th {\n",
       "        text-align: right;\n",
       "    }\n",
       "</style>\n",
       "<table border=\"1\" class=\"dataframe\">\n",
       "  <thead>\n",
       "    <tr style=\"text-align: right;\">\n",
       "      <th></th>\n",
       "      <th>district_name</th>\n",
       "      <th>market_name</th>\n",
       "      <th>commodity</th>\n",
       "      <th>variety</th>\n",
       "      <th>grade</th>\n",
       "      <th>min_rs_quintal</th>\n",
       "      <th>max_rs_quintal</th>\n",
       "      <th>modal_rs_quintal</th>\n",
       "      <th>date</th>\n",
       "      <th>year</th>\n",
       "      <th>month</th>\n",
       "      <th>day_of_month</th>\n",
       "      <th>datetime</th>\n",
       "    </tr>\n",
       "  </thead>\n",
       "  <tbody>\n",
       "    <tr>\n",
       "      <th>714742</th>\n",
       "      <td>Bijnor</td>\n",
       "      <td>Bijnaur</td>\n",
       "      <td>Onion</td>\n",
       "      <td>Red</td>\n",
       "      <td>FAQ</td>\n",
       "      <td>2950.0</td>\n",
       "      <td>3040.0</td>\n",
       "      <td>3000.0</td>\n",
       "      <td>01 Jan 2018</td>\n",
       "      <td>2018</td>\n",
       "      <td>Jan</td>\n",
       "      <td>1</td>\n",
       "      <td>2018-01-01</td>\n",
       "    </tr>\n",
       "    <tr>\n",
       "      <th>433767</th>\n",
       "      <td>Mau(Maunathbhanjan)</td>\n",
       "      <td>Kopaganj</td>\n",
       "      <td>Wheat</td>\n",
       "      <td>Dara</td>\n",
       "      <td>FAQ</td>\n",
       "      <td>1525.0</td>\n",
       "      <td>1625.0</td>\n",
       "      <td>1575.0</td>\n",
       "      <td>01 Jan 2018</td>\n",
       "      <td>2018</td>\n",
       "      <td>Jan</td>\n",
       "      <td>1</td>\n",
       "      <td>2018-01-01</td>\n",
       "    </tr>\n",
       "    <tr>\n",
       "      <th>439485</th>\n",
       "      <td>Gorakhpur</td>\n",
       "      <td>Gorakhpur</td>\n",
       "      <td>Wheat</td>\n",
       "      <td>Dara</td>\n",
       "      <td>FAQ</td>\n",
       "      <td>1560.0</td>\n",
       "      <td>1590.0</td>\n",
       "      <td>1575.0</td>\n",
       "      <td>01 Jan 2018</td>\n",
       "      <td>2018</td>\n",
       "      <td>Jan</td>\n",
       "      <td>1</td>\n",
       "      <td>2018-01-01</td>\n",
       "    </tr>\n",
       "    <tr>\n",
       "      <th>83163</th>\n",
       "      <td>Shahjahanpur</td>\n",
       "      <td>Tilhar</td>\n",
       "      <td>Potato</td>\n",
       "      <td>Potato</td>\n",
       "      <td>FAQ</td>\n",
       "      <td>490.0</td>\n",
       "      <td>510.0</td>\n",
       "      <td>500.0</td>\n",
       "      <td>01 Jan 2018</td>\n",
       "      <td>2018</td>\n",
       "      <td>Jan</td>\n",
       "      <td>1</td>\n",
       "      <td>2018-01-01</td>\n",
       "    </tr>\n",
       "    <tr>\n",
       "      <th>730321</th>\n",
       "      <td>Bulandshahar</td>\n",
       "      <td>Divai</td>\n",
       "      <td>Onion</td>\n",
       "      <td>Red</td>\n",
       "      <td>FAQ</td>\n",
       "      <td>2800.0</td>\n",
       "      <td>3000.0</td>\n",
       "      <td>2900.0</td>\n",
       "      <td>01 Jan 2018</td>\n",
       "      <td>2018</td>\n",
       "      <td>Jan</td>\n",
       "      <td>1</td>\n",
       "      <td>2018-01-01</td>\n",
       "    </tr>\n",
       "  </tbody>\n",
       "</table>\n",
       "</div>"
      ],
      "text/plain": [
       "              district_name market_name commodity variety grade  \\\n",
       "714742               Bijnor     Bijnaur     Onion     Red   FAQ   \n",
       "433767  Mau(Maunathbhanjan)    Kopaganj     Wheat    Dara   FAQ   \n",
       "439485            Gorakhpur   Gorakhpur     Wheat    Dara   FAQ   \n",
       "83163          Shahjahanpur      Tilhar    Potato  Potato   FAQ   \n",
       "730321         Bulandshahar       Divai     Onion     Red   FAQ   \n",
       "\n",
       "        min_rs_quintal  max_rs_quintal  modal_rs_quintal         date  year  \\\n",
       "714742          2950.0          3040.0            3000.0  01 Jan 2018  2018   \n",
       "433767          1525.0          1625.0            1575.0  01 Jan 2018  2018   \n",
       "439485          1560.0          1590.0            1575.0  01 Jan 2018  2018   \n",
       "83163            490.0           510.0             500.0  01 Jan 2018  2018   \n",
       "730321          2800.0          3000.0            2900.0  01 Jan 2018  2018   \n",
       "\n",
       "       month  day_of_month   datetime  \n",
       "714742   Jan             1 2018-01-01  \n",
       "433767   Jan             1 2018-01-01  \n",
       "439485   Jan             1 2018-01-01  \n",
       "83163    Jan             1 2018-01-01  \n",
       "730321   Jan             1 2018-01-01  "
      ]
     },
     "execution_count": 2,
     "metadata": {},
     "output_type": "execute_result"
    }
   ],
   "source": [
    "df_up = pd.read_csv(\"../data/5_yr_data/UP5_years.csv\")\n",
    "df_up['datetime'] = pd.to_datetime(df_up['date'])\n",
    "df_up.drop(columns=[\"Unnamed: 0\"], axis=1, inplace=True)\n",
    "df_up.sort_values(by=\"datetime\", ascending=True, inplace=True)\n",
    "df_up.head()"
   ]
  },
  {
   "cell_type": "code",
   "execution_count": 3,
   "metadata": {},
   "outputs": [],
   "source": [
    "TRAIN_LEN = int(0.8 * len(df_up))\n",
    "up_train, up_test = (df_up[:TRAIN_LEN],df_up[TRAIN_LEN:])\n",
    "up_train.set_index('datetime', inplace=True)\n",
    "up_train.sort_index(inplace=True)\n",
    "up_test.set_index('datetime', inplace=True)\n",
    "up_test.sort_index(inplace=True)"
   ]
  },
  {
   "cell_type": "code",
   "execution_count": 121,
   "metadata": {},
   "outputs": [
    {
     "data": {
      "text/html": [
       "<div>\n",
       "<style scoped>\n",
       "    .dataframe tbody tr th:only-of-type {\n",
       "        vertical-align: middle;\n",
       "    }\n",
       "\n",
       "    .dataframe tbody tr th {\n",
       "        vertical-align: top;\n",
       "    }\n",
       "\n",
       "    .dataframe thead th {\n",
       "        text-align: right;\n",
       "    }\n",
       "</style>\n",
       "<table border=\"1\" class=\"dataframe\">\n",
       "  <thead>\n",
       "    <tr style=\"text-align: right;\">\n",
       "      <th></th>\n",
       "      <th>modal_rs_quintal</th>\n",
       "    </tr>\n",
       "    <tr>\n",
       "      <th>datetime</th>\n",
       "      <th></th>\n",
       "    </tr>\n",
       "  </thead>\n",
       "  <tbody>\n",
       "    <tr>\n",
       "      <th>2018-01-01</th>\n",
       "      <td>2244.840426</td>\n",
       "    </tr>\n",
       "    <tr>\n",
       "      <th>2018-01-02</th>\n",
       "      <td>2261.681818</td>\n",
       "    </tr>\n",
       "    <tr>\n",
       "      <th>2018-01-03</th>\n",
       "      <td>2235.193548</td>\n",
       "    </tr>\n",
       "    <tr>\n",
       "      <th>2018-01-04</th>\n",
       "      <td>2258.073684</td>\n",
       "    </tr>\n",
       "    <tr>\n",
       "      <th>2018-01-05</th>\n",
       "      <td>2291.752941</td>\n",
       "    </tr>\n",
       "    <tr>\n",
       "      <th>...</th>\n",
       "      <td>...</td>\n",
       "    </tr>\n",
       "    <tr>\n",
       "      <th>2023-04-29</th>\n",
       "      <td>2648.738739</td>\n",
       "    </tr>\n",
       "    <tr>\n",
       "      <th>2023-04-30</th>\n",
       "      <td>2665.293103</td>\n",
       "    </tr>\n",
       "    <tr>\n",
       "      <th>2023-05-01</th>\n",
       "      <td>2614.902913</td>\n",
       "    </tr>\n",
       "    <tr>\n",
       "      <th>2023-05-02</th>\n",
       "      <td>2653.594340</td>\n",
       "    </tr>\n",
       "    <tr>\n",
       "      <th>2023-05-03</th>\n",
       "      <td>2596.029412</td>\n",
       "    </tr>\n",
       "  </tbody>\n",
       "</table>\n",
       "<p>1949 rows × 1 columns</p>\n",
       "</div>"
      ],
      "text/plain": [
       "            modal_rs_quintal\n",
       "datetime                    \n",
       "2018-01-01       2244.840426\n",
       "2018-01-02       2261.681818\n",
       "2018-01-03       2235.193548\n",
       "2018-01-04       2258.073684\n",
       "2018-01-05       2291.752941\n",
       "...                      ...\n",
       "2023-04-29       2648.738739\n",
       "2023-04-30       2665.293103\n",
       "2023-05-01       2614.902913\n",
       "2023-05-02       2653.594340\n",
       "2023-05-03       2596.029412\n",
       "\n",
       "[1949 rows x 1 columns]"
      ]
     },
     "execution_count": 121,
     "metadata": {},
     "output_type": "execute_result"
    }
   ],
   "source": [
    "commodity = \"Rice\"\n",
    "df_train_commodity = up_train[up_train['commodity'] == commodity]\n",
    "df_train_commodity_dt = df_train_commodity.groupby(\"datetime\").agg({\"modal_rs_quintal\":\"mean\"})\n",
    "df_train_commodity_dt"
   ]
  },
  {
   "cell_type": "code",
   "execution_count": 122,
   "metadata": {},
   "outputs": [
    {
     "data": {
      "text/html": [
       "<div>\n",
       "<style scoped>\n",
       "    .dataframe tbody tr th:only-of-type {\n",
       "        vertical-align: middle;\n",
       "    }\n",
       "\n",
       "    .dataframe tbody tr th {\n",
       "        vertical-align: top;\n",
       "    }\n",
       "\n",
       "    .dataframe thead th {\n",
       "        text-align: right;\n",
       "    }\n",
       "</style>\n",
       "<table border=\"1\" class=\"dataframe\">\n",
       "  <thead>\n",
       "    <tr style=\"text-align: right;\">\n",
       "      <th></th>\n",
       "      <th>modal_rs_quintal</th>\n",
       "    </tr>\n",
       "    <tr>\n",
       "      <th>datetime</th>\n",
       "      <th></th>\n",
       "    </tr>\n",
       "  </thead>\n",
       "  <tbody>\n",
       "    <tr>\n",
       "      <th>2023-05-03</th>\n",
       "      <td>2581.857143</td>\n",
       "    </tr>\n",
       "    <tr>\n",
       "      <th>2023-05-04</th>\n",
       "      <td>2681.118421</td>\n",
       "    </tr>\n",
       "    <tr>\n",
       "      <th>2023-05-05</th>\n",
       "      <td>2662.755102</td>\n",
       "    </tr>\n",
       "    <tr>\n",
       "      <th>2023-05-06</th>\n",
       "      <td>2594.227273</td>\n",
       "    </tr>\n",
       "    <tr>\n",
       "      <th>2023-05-07</th>\n",
       "      <td>2559.982456</td>\n",
       "    </tr>\n",
       "  </tbody>\n",
       "</table>\n",
       "</div>"
      ],
      "text/plain": [
       "            modal_rs_quintal\n",
       "datetime                    \n",
       "2023-05-03       2581.857143\n",
       "2023-05-04       2681.118421\n",
       "2023-05-05       2662.755102\n",
       "2023-05-06       2594.227273\n",
       "2023-05-07       2559.982456"
      ]
     },
     "execution_count": 122,
     "metadata": {},
     "output_type": "execute_result"
    }
   ],
   "source": [
    "df_test_commodity = up_test[up_test['commodity'] == commodity]\n",
    "df_test_commodity_dt = df_test_commodity.groupby(\"datetime\").agg({\"modal_rs_quintal\":\"mean\"})\n",
    "df_test_commodity_dt.head()"
   ]
  },
  {
   "cell_type": "code",
   "execution_count": 123,
   "metadata": {},
   "outputs": [
    {
     "data": {
      "text/html": [
       "<div>\n",
       "<style scoped>\n",
       "    .dataframe tbody tr th:only-of-type {\n",
       "        vertical-align: middle;\n",
       "    }\n",
       "\n",
       "    .dataframe tbody tr th {\n",
       "        vertical-align: top;\n",
       "    }\n",
       "\n",
       "    .dataframe thead th {\n",
       "        text-align: right;\n",
       "    }\n",
       "</style>\n",
       "<table border=\"1\" class=\"dataframe\">\n",
       "  <thead>\n",
       "    <tr style=\"text-align: right;\">\n",
       "      <th></th>\n",
       "      <th>ds</th>\n",
       "      <th>y</th>\n",
       "      <th>unique_id</th>\n",
       "    </tr>\n",
       "  </thead>\n",
       "  <tbody>\n",
       "    <tr>\n",
       "      <th>0</th>\n",
       "      <td>2018-01-01</td>\n",
       "      <td>2244.840426</td>\n",
       "      <td>Rice</td>\n",
       "    </tr>\n",
       "    <tr>\n",
       "      <th>1</th>\n",
       "      <td>2018-01-02</td>\n",
       "      <td>2261.681818</td>\n",
       "      <td>Rice</td>\n",
       "    </tr>\n",
       "    <tr>\n",
       "      <th>2</th>\n",
       "      <td>2018-01-03</td>\n",
       "      <td>2235.193548</td>\n",
       "      <td>Rice</td>\n",
       "    </tr>\n",
       "    <tr>\n",
       "      <th>3</th>\n",
       "      <td>2018-01-04</td>\n",
       "      <td>2258.073684</td>\n",
       "      <td>Rice</td>\n",
       "    </tr>\n",
       "    <tr>\n",
       "      <th>4</th>\n",
       "      <td>2018-01-05</td>\n",
       "      <td>2291.752941</td>\n",
       "      <td>Rice</td>\n",
       "    </tr>\n",
       "  </tbody>\n",
       "</table>\n",
       "</div>"
      ],
      "text/plain": [
       "          ds            y unique_id\n",
       "0 2018-01-01  2244.840426      Rice\n",
       "1 2018-01-02  2261.681818      Rice\n",
       "2 2018-01-03  2235.193548      Rice\n",
       "3 2018-01-04  2258.073684      Rice\n",
       "4 2018-01-05  2291.752941      Rice"
      ]
     },
     "execution_count": 123,
     "metadata": {},
     "output_type": "execute_result"
    }
   ],
   "source": [
    "df_train_commodity_dt.reset_index(inplace=True)\n",
    "df_train_commodity_dt['unique_id'] = commodity\n",
    "df_train_commodity_dt.rename(columns={\"datetime\" : \"ds\", \"modal_rs_quintal\" : \"y\"}, inplace=True)\n",
    "df_train_commodity_dt.head()"
   ]
  },
  {
   "cell_type": "code",
   "execution_count": 124,
   "metadata": {},
   "outputs": [
    {
     "data": {
      "text/html": [
       "<div>\n",
       "<style scoped>\n",
       "    .dataframe tbody tr th:only-of-type {\n",
       "        vertical-align: middle;\n",
       "    }\n",
       "\n",
       "    .dataframe tbody tr th {\n",
       "        vertical-align: top;\n",
       "    }\n",
       "\n",
       "    .dataframe thead th {\n",
       "        text-align: right;\n",
       "    }\n",
       "</style>\n",
       "<table border=\"1\" class=\"dataframe\">\n",
       "  <thead>\n",
       "    <tr style=\"text-align: right;\">\n",
       "      <th></th>\n",
       "      <th>ds</th>\n",
       "      <th>y</th>\n",
       "      <th>unique_id</th>\n",
       "    </tr>\n",
       "  </thead>\n",
       "  <tbody>\n",
       "    <tr>\n",
       "      <th>0</th>\n",
       "      <td>2023-05-03</td>\n",
       "      <td>2581.857143</td>\n",
       "      <td>Rice</td>\n",
       "    </tr>\n",
       "    <tr>\n",
       "      <th>1</th>\n",
       "      <td>2023-05-04</td>\n",
       "      <td>2681.118421</td>\n",
       "      <td>Rice</td>\n",
       "    </tr>\n",
       "    <tr>\n",
       "      <th>2</th>\n",
       "      <td>2023-05-05</td>\n",
       "      <td>2662.755102</td>\n",
       "      <td>Rice</td>\n",
       "    </tr>\n",
       "    <tr>\n",
       "      <th>3</th>\n",
       "      <td>2023-05-06</td>\n",
       "      <td>2594.227273</td>\n",
       "      <td>Rice</td>\n",
       "    </tr>\n",
       "    <tr>\n",
       "      <th>4</th>\n",
       "      <td>2023-05-07</td>\n",
       "      <td>2559.982456</td>\n",
       "      <td>Rice</td>\n",
       "    </tr>\n",
       "  </tbody>\n",
       "</table>\n",
       "</div>"
      ],
      "text/plain": [
       "          ds            y unique_id\n",
       "0 2023-05-03  2581.857143      Rice\n",
       "1 2023-05-04  2681.118421      Rice\n",
       "2 2023-05-05  2662.755102      Rice\n",
       "3 2023-05-06  2594.227273      Rice\n",
       "4 2023-05-07  2559.982456      Rice"
      ]
     },
     "execution_count": 124,
     "metadata": {},
     "output_type": "execute_result"
    }
   ],
   "source": [
    "df_test_commodity_dt.reset_index(inplace=True)\n",
    "df_test_commodity_dt['unique_id'] = commodity\n",
    "df_test_commodity_dt.rename(columns={\"datetime\" : \"ds\", \"modal_rs_quintal\" : \"y\"}, inplace=True)\n",
    "df_test_commodity_dt.head()"
   ]
  },
  {
   "cell_type": "code",
   "execution_count": 125,
   "metadata": {},
   "outputs": [
    {
     "data": {
      "text/plain": [
       "(1949, 3)"
      ]
     },
     "execution_count": 125,
     "metadata": {},
     "output_type": "execute_result"
    }
   ],
   "source": [
    "df_train_commodity_dt.shape"
   ]
  },
  {
   "cell_type": "code",
   "execution_count": 126,
   "metadata": {},
   "outputs": [
    {
     "data": {
      "text/plain": [
       "(488, 3)"
      ]
     },
     "execution_count": 126,
     "metadata": {},
     "output_type": "execute_result"
    }
   ],
   "source": [
    "df_test_commodity_dt.shape"
   ]
  },
  {
   "cell_type": "code",
   "execution_count": 127,
   "metadata": {},
   "outputs": [
    {
     "name": "stderr",
     "output_type": "stream",
     "text": [
      "Seed set to 1\n",
      "GPU available: False, used: False\n",
      "TPU available: False, using: 0 TPU cores\n",
      "HPU available: False, using: 0 HPUs\n",
      "\n",
      "  | Name         | Type             | Params | Mode \n",
      "----------------------------------------------------------\n",
      "0 | loss         | DistributionLoss | 5      | train\n",
      "1 | padder_train | ConstantPad1d    | 0      | train\n",
      "2 | scaler       | TemporalNorm     | 0      | train\n",
      "3 | blocks       | ModuleList       | 3.9 M  | train\n",
      "----------------------------------------------------------\n",
      "3.6 M     Trainable params\n",
      "359 K     Non-trainable params\n",
      "3.9 M     Total params\n",
      "15.664    Total estimated model params size (MB)\n",
      "31        Modules in train mode\n",
      "0         Modules in eval mode\n"
     ]
    },
    {
     "data": {
      "application/vnd.jupyter.widget-view+json": {
       "model_id": "d04b67eacd564b76bb6e1b6ea6687ecb",
       "version_major": 2,
       "version_minor": 0
      },
      "text/plain": [
       "Sanity Checking: |          | 0/? [00:00<?, ?it/s]"
      ]
     },
     "metadata": {},
     "output_type": "display_data"
    },
    {
     "data": {
      "application/vnd.jupyter.widget-view+json": {
       "model_id": "a13304ed635e49f2afb1097a9e1bbc26",
       "version_major": 2,
       "version_minor": 0
      },
      "text/plain": [
       "Training: |          | 0/? [00:00<?, ?it/s]"
      ]
     },
     "metadata": {},
     "output_type": "display_data"
    },
    {
     "data": {
      "application/vnd.jupyter.widget-view+json": {
       "model_id": "540513b2b3a34964bd01cb14021ffe8b",
       "version_major": 2,
       "version_minor": 0
      },
      "text/plain": [
       "Validation: |          | 0/? [00:00<?, ?it/s]"
      ]
     },
     "metadata": {},
     "output_type": "display_data"
    },
    {
     "data": {
      "application/vnd.jupyter.widget-view+json": {
       "model_id": "15243e10779448c6a0221f875cdbbe61",
       "version_major": 2,
       "version_minor": 0
      },
      "text/plain": [
       "Validation: |          | 0/? [00:00<?, ?it/s]"
      ]
     },
     "metadata": {},
     "output_type": "display_data"
    },
    {
     "data": {
      "application/vnd.jupyter.widget-view+json": {
       "model_id": "a3457fcf50674a8697451fd15f89bc3d",
       "version_major": 2,
       "version_minor": 0
      },
      "text/plain": [
       "Validation: |          | 0/? [00:00<?, ?it/s]"
      ]
     },
     "metadata": {},
     "output_type": "display_data"
    },
    {
     "data": {
      "application/vnd.jupyter.widget-view+json": {
       "model_id": "7ff51754fc034842b012c02ccfbfac1d",
       "version_major": 2,
       "version_minor": 0
      },
      "text/plain": [
       "Validation: |          | 0/? [00:00<?, ?it/s]"
      ]
     },
     "metadata": {},
     "output_type": "display_data"
    },
    {
     "data": {
      "application/vnd.jupyter.widget-view+json": {
       "model_id": "2fd2893cc31b45839bb149a0e83e357a",
       "version_major": 2,
       "version_minor": 0
      },
      "text/plain": [
       "Validation: |          | 0/? [00:00<?, ?it/s]"
      ]
     },
     "metadata": {},
     "output_type": "display_data"
    },
    {
     "data": {
      "application/vnd.jupyter.widget-view+json": {
       "model_id": "c34b7c1656824d2f87bac1bea3b4c681",
       "version_major": 2,
       "version_minor": 0
      },
      "text/plain": [
       "Validation: |          | 0/? [00:00<?, ?it/s]"
      ]
     },
     "metadata": {},
     "output_type": "display_data"
    },
    {
     "data": {
      "application/vnd.jupyter.widget-view+json": {
       "model_id": "5f37f0494c574acab47bfd142b97f826",
       "version_major": 2,
       "version_minor": 0
      },
      "text/plain": [
       "Validation: |          | 0/? [00:00<?, ?it/s]"
      ]
     },
     "metadata": {},
     "output_type": "display_data"
    },
    {
     "name": "stderr",
     "output_type": "stream",
     "text": [
      "`Trainer.fit` stopped: `max_steps=120` reached.\n",
      "/home/mukundan/learning/ai_ml/sih_2024_project/sih_2024/sihvenv/lib/python3.12/site-packages/neuralforecast/core.py:902: UserWarning: Dropped 120 unused rows from `futr_df`.\n",
      "  warnings.warn(f\"Dropped {dropped_rows:,} unused rows from `futr_df`.\")\n",
      "Trainer already configured with model summary callbacks: [<class 'pytorch_lightning.callbacks.model_summary.ModelSummary'>]. Skipping setting a default `ModelSummary` callback.\n",
      "GPU available: False, used: False\n",
      "TPU available: False, using: 0 TPU cores\n",
      "HPU available: False, using: 0 HPUs\n"
     ]
    },
    {
     "data": {
      "application/vnd.jupyter.widget-view+json": {
       "model_id": "73833e4235d34128b1b49c50965571ad",
       "version_major": 2,
       "version_minor": 0
      },
      "text/plain": [
       "Predicting: |          | 0/? [00:00<?, ?it/s]"
      ]
     },
     "metadata": {},
     "output_type": "display_data"
    },
    {
     "name": "stderr",
     "output_type": "stream",
     "text": [
      "/home/mukundan/learning/ai_ml/sih_2024_project/sih_2024/sihvenv/lib/python3.12/site-packages/neuralforecast/core.py:210: FutureWarning: In a future version the predictions will have the id as a column. You can set the `NIXTLA_ID_AS_COL` environment variable to adopt the new behavior and to suppress this warning.\n",
      "  warnings.warn(\n"
     ]
    }
   ],
   "source": [
    "model = NBEATS(h=368, input_size=120,\n",
    "               loss=DistributionLoss(distribution='Poisson', level=[80, 90]),\n",
    "               stack_types = ['identity', 'trend', 'seasonality'],\n",
    "               max_steps=120,\n",
    "               val_check_steps=16,\n",
    "               early_stop_patience_steps=4)\n",
    "\n",
    "fcst = NeuralForecast(\n",
    "    models=[model],\n",
    "    freq='D'\n",
    ")\n",
    "# fcst.fit(df=Y_train_df, static_df=AirPassengersStatic, val_size=12)\n",
    "fcst.fit(df=df_train_commodity_dt, val_size=488)\n",
    "forecasts = fcst.predict(futr_df=df_test_commodity_dt)"
   ]
  },
  {
   "cell_type": "code",
   "execution_count": null,
   "metadata": {},
   "outputs": [],
   "source": []
  },
  {
   "cell_type": "code",
   "execution_count": 128,
   "metadata": {},
   "outputs": [
    {
     "data": {
      "text/plain": [
       "368"
      ]
     },
     "execution_count": 128,
     "metadata": {},
     "output_type": "execute_result"
    }
   ],
   "source": [
    "len(forecasts)"
   ]
  },
  {
   "cell_type": "code",
   "execution_count": 129,
   "metadata": {},
   "outputs": [
    {
     "data": {
      "text/html": [
       "<div>\n",
       "<style scoped>\n",
       "    .dataframe tbody tr th:only-of-type {\n",
       "        vertical-align: middle;\n",
       "    }\n",
       "\n",
       "    .dataframe tbody tr th {\n",
       "        vertical-align: top;\n",
       "    }\n",
       "\n",
       "    .dataframe thead th {\n",
       "        text-align: right;\n",
       "    }\n",
       "</style>\n",
       "<table border=\"1\" class=\"dataframe\">\n",
       "  <thead>\n",
       "    <tr style=\"text-align: right;\">\n",
       "      <th></th>\n",
       "      <th>ds</th>\n",
       "      <th>y</th>\n",
       "      <th>unique_id</th>\n",
       "      <th>NBEATS</th>\n",
       "      <th>NBEATS-median</th>\n",
       "      <th>NBEATS-lo-90</th>\n",
       "      <th>NBEATS-lo-80</th>\n",
       "      <th>NBEATS-hi-80</th>\n",
       "      <th>NBEATS-hi-90</th>\n",
       "    </tr>\n",
       "  </thead>\n",
       "  <tbody>\n",
       "    <tr>\n",
       "      <th>0</th>\n",
       "      <td>2023-05-03</td>\n",
       "      <td>2581.857143</td>\n",
       "      <td>Rice</td>\n",
       "      <td>2595.201904</td>\n",
       "      <td>2594.5</td>\n",
       "      <td>2513.000000</td>\n",
       "      <td>2529.000000</td>\n",
       "      <td>2658.000000</td>\n",
       "      <td>2678.000000</td>\n",
       "    </tr>\n",
       "    <tr>\n",
       "      <th>1</th>\n",
       "      <td>2023-05-04</td>\n",
       "      <td>2681.118421</td>\n",
       "      <td>Rice</td>\n",
       "      <td>2594.333984</td>\n",
       "      <td>2593.0</td>\n",
       "      <td>2517.000000</td>\n",
       "      <td>2531.000000</td>\n",
       "      <td>2656.000000</td>\n",
       "      <td>2674.050049</td>\n",
       "    </tr>\n",
       "    <tr>\n",
       "      <th>2</th>\n",
       "      <td>2023-05-05</td>\n",
       "      <td>2662.755102</td>\n",
       "      <td>Rice</td>\n",
       "      <td>2592.501953</td>\n",
       "      <td>2594.0</td>\n",
       "      <td>2509.000000</td>\n",
       "      <td>2525.000000</td>\n",
       "      <td>2654.000000</td>\n",
       "      <td>2671.100098</td>\n",
       "    </tr>\n",
       "    <tr>\n",
       "      <th>3</th>\n",
       "      <td>2023-05-06</td>\n",
       "      <td>2594.227273</td>\n",
       "      <td>Rice</td>\n",
       "      <td>2593.382080</td>\n",
       "      <td>2593.0</td>\n",
       "      <td>2513.000000</td>\n",
       "      <td>2530.000000</td>\n",
       "      <td>2656.100098</td>\n",
       "      <td>2678.000000</td>\n",
       "    </tr>\n",
       "    <tr>\n",
       "      <th>4</th>\n",
       "      <td>2023-05-07</td>\n",
       "      <td>2559.982456</td>\n",
       "      <td>Rice</td>\n",
       "      <td>2591.391113</td>\n",
       "      <td>2591.0</td>\n",
       "      <td>2510.949951</td>\n",
       "      <td>2526.899902</td>\n",
       "      <td>2656.000000</td>\n",
       "      <td>2677.000000</td>\n",
       "    </tr>\n",
       "    <tr>\n",
       "      <th>...</th>\n",
       "      <td>...</td>\n",
       "      <td>...</td>\n",
       "      <td>...</td>\n",
       "      <td>...</td>\n",
       "      <td>...</td>\n",
       "      <td>...</td>\n",
       "      <td>...</td>\n",
       "      <td>...</td>\n",
       "      <td>...</td>\n",
       "    </tr>\n",
       "    <tr>\n",
       "      <th>483</th>\n",
       "      <td>2024-08-28</td>\n",
       "      <td>3119.150442</td>\n",
       "      <td>Rice</td>\n",
       "      <td>NaN</td>\n",
       "      <td>NaN</td>\n",
       "      <td>NaN</td>\n",
       "      <td>NaN</td>\n",
       "      <td>NaN</td>\n",
       "      <td>NaN</td>\n",
       "    </tr>\n",
       "    <tr>\n",
       "      <th>484</th>\n",
       "      <td>2024-08-29</td>\n",
       "      <td>3136.592233</td>\n",
       "      <td>Rice</td>\n",
       "      <td>NaN</td>\n",
       "      <td>NaN</td>\n",
       "      <td>NaN</td>\n",
       "      <td>NaN</td>\n",
       "      <td>NaN</td>\n",
       "      <td>NaN</td>\n",
       "    </tr>\n",
       "    <tr>\n",
       "      <th>485</th>\n",
       "      <td>2024-08-30</td>\n",
       "      <td>3144.841667</td>\n",
       "      <td>Rice</td>\n",
       "      <td>NaN</td>\n",
       "      <td>NaN</td>\n",
       "      <td>NaN</td>\n",
       "      <td>NaN</td>\n",
       "      <td>NaN</td>\n",
       "      <td>NaN</td>\n",
       "    </tr>\n",
       "    <tr>\n",
       "      <th>486</th>\n",
       "      <td>2024-08-31</td>\n",
       "      <td>3146.494845</td>\n",
       "      <td>Rice</td>\n",
       "      <td>NaN</td>\n",
       "      <td>NaN</td>\n",
       "      <td>NaN</td>\n",
       "      <td>NaN</td>\n",
       "      <td>NaN</td>\n",
       "      <td>NaN</td>\n",
       "    </tr>\n",
       "    <tr>\n",
       "      <th>487</th>\n",
       "      <td>2024-09-01</td>\n",
       "      <td>3090.000000</td>\n",
       "      <td>Rice</td>\n",
       "      <td>NaN</td>\n",
       "      <td>NaN</td>\n",
       "      <td>NaN</td>\n",
       "      <td>NaN</td>\n",
       "      <td>NaN</td>\n",
       "      <td>NaN</td>\n",
       "    </tr>\n",
       "  </tbody>\n",
       "</table>\n",
       "<p>488 rows × 9 columns</p>\n",
       "</div>"
      ],
      "text/plain": [
       "            ds            y unique_id       NBEATS  NBEATS-median  \\\n",
       "0   2023-05-03  2581.857143      Rice  2595.201904         2594.5   \n",
       "1   2023-05-04  2681.118421      Rice  2594.333984         2593.0   \n",
       "2   2023-05-05  2662.755102      Rice  2592.501953         2594.0   \n",
       "3   2023-05-06  2594.227273      Rice  2593.382080         2593.0   \n",
       "4   2023-05-07  2559.982456      Rice  2591.391113         2591.0   \n",
       "..         ...          ...       ...          ...            ...   \n",
       "483 2024-08-28  3119.150442      Rice          NaN            NaN   \n",
       "484 2024-08-29  3136.592233      Rice          NaN            NaN   \n",
       "485 2024-08-30  3144.841667      Rice          NaN            NaN   \n",
       "486 2024-08-31  3146.494845      Rice          NaN            NaN   \n",
       "487 2024-09-01  3090.000000      Rice          NaN            NaN   \n",
       "\n",
       "     NBEATS-lo-90  NBEATS-lo-80  NBEATS-hi-80  NBEATS-hi-90  \n",
       "0     2513.000000   2529.000000   2658.000000   2678.000000  \n",
       "1     2517.000000   2531.000000   2656.000000   2674.050049  \n",
       "2     2509.000000   2525.000000   2654.000000   2671.100098  \n",
       "3     2513.000000   2530.000000   2656.100098   2678.000000  \n",
       "4     2510.949951   2526.899902   2656.000000   2677.000000  \n",
       "..            ...           ...           ...           ...  \n",
       "483           NaN           NaN           NaN           NaN  \n",
       "484           NaN           NaN           NaN           NaN  \n",
       "485           NaN           NaN           NaN           NaN  \n",
       "486           NaN           NaN           NaN           NaN  \n",
       "487           NaN           NaN           NaN           NaN  \n",
       "\n",
       "[488 rows x 9 columns]"
      ]
     },
     "execution_count": 129,
     "metadata": {},
     "output_type": "execute_result"
    },
    {
     "data": {
      "image/png": "[encoded data removed]",
      "text/plain": [
       "<Figure size 640x480 with 1 Axes>"
      ]
     },
     "metadata": {},
     "output_type": "display_data"
    }
   ],
   "source": [
    "# Plot quantile predictions\n",
    "Y_hat_df = forecasts.reset_index(drop=False).drop(columns=['unique_id','ds'])\n",
    "\n",
    "plot_df = pd.concat([df_test_commodity_dt, Y_hat_df], axis=1)\n",
    "# plot_df = pd.concat([df_train_commodity_dt, plot_df])\n",
    "\n",
    "# plot_df = plot_df[plot_df.unique_id=='Airline1'].drop('unique_id', axis=1)\n",
    "plt.plot(plot_df['ds'], plot_df['y'], c='red', label='True')\n",
    "plt.plot(plot_df['ds'], plot_df['NBEATS-median'], c='blue', label='median')\n",
    "plt.fill_between(x=plot_df['ds'][-12:], \n",
    "                 y1=plot_df['NBEATS-lo-90'][-12:].values, \n",
    "                 y2=plot_df['NBEATS-hi-90'][-12:].values,\n",
    "                 alpha=0.4, label='level 90')\n",
    "plt.grid()\n",
    "plt.legend()\n",
    "plt.plot()\n",
    "\n",
    "plot_df"
   ]
  },
  {
   "cell_type": "code",
   "execution_count": 130,
   "metadata": {},
   "outputs": [
    {
     "data": {
      "text/html": [
       "<div>\n",
       "<style scoped>\n",
       "    .dataframe tbody tr th:only-of-type {\n",
       "        vertical-align: middle;\n",
       "    }\n",
       "\n",
       "    .dataframe tbody tr th {\n",
       "        vertical-align: top;\n",
       "    }\n",
       "\n",
       "    .dataframe thead th {\n",
       "        text-align: right;\n",
       "    }\n",
       "</style>\n",
       "<table border=\"1\" class=\"dataframe\">\n",
       "  <thead>\n",
       "    <tr style=\"text-align: right;\">\n",
       "      <th></th>\n",
       "      <th>ds</th>\n",
       "      <th>y</th>\n",
       "      <th>unique_id</th>\n",
       "    </tr>\n",
       "  </thead>\n",
       "  <tbody>\n",
       "    <tr>\n",
       "      <th>0</th>\n",
       "      <td>2023-05-03</td>\n",
       "      <td>2581.857143</td>\n",
       "      <td>Rice</td>\n",
       "    </tr>\n",
       "    <tr>\n",
       "      <th>1</th>\n",
       "      <td>2023-05-04</td>\n",
       "      <td>2681.118421</td>\n",
       "      <td>Rice</td>\n",
       "    </tr>\n",
       "    <tr>\n",
       "      <th>2</th>\n",
       "      <td>2023-05-05</td>\n",
       "      <td>2662.755102</td>\n",
       "      <td>Rice</td>\n",
       "    </tr>\n",
       "    <tr>\n",
       "      <th>3</th>\n",
       "      <td>2023-05-06</td>\n",
       "      <td>2594.227273</td>\n",
       "      <td>Rice</td>\n",
       "    </tr>\n",
       "    <tr>\n",
       "      <th>4</th>\n",
       "      <td>2023-05-07</td>\n",
       "      <td>2559.982456</td>\n",
       "      <td>Rice</td>\n",
       "    </tr>\n",
       "    <tr>\n",
       "      <th>...</th>\n",
       "      <td>...</td>\n",
       "      <td>...</td>\n",
       "      <td>...</td>\n",
       "    </tr>\n",
       "    <tr>\n",
       "      <th>363</th>\n",
       "      <td>2024-04-30</td>\n",
       "      <td>2890.010638</td>\n",
       "      <td>Rice</td>\n",
       "    </tr>\n",
       "    <tr>\n",
       "      <th>364</th>\n",
       "      <td>2024-05-01</td>\n",
       "      <td>3006.720000</td>\n",
       "      <td>Rice</td>\n",
       "    </tr>\n",
       "    <tr>\n",
       "      <th>365</th>\n",
       "      <td>2024-05-02</td>\n",
       "      <td>2909.326923</td>\n",
       "      <td>Rice</td>\n",
       "    </tr>\n",
       "    <tr>\n",
       "      <th>366</th>\n",
       "      <td>2024-05-03</td>\n",
       "      <td>2907.605505</td>\n",
       "      <td>Rice</td>\n",
       "    </tr>\n",
       "    <tr>\n",
       "      <th>367</th>\n",
       "      <td>2024-05-04</td>\n",
       "      <td>2901.666667</td>\n",
       "      <td>Rice</td>\n",
       "    </tr>\n",
       "  </tbody>\n",
       "</table>\n",
       "<p>368 rows × 3 columns</p>\n",
       "</div>"
      ],
      "text/plain": [
       "            ds            y unique_id\n",
       "0   2023-05-03  2581.857143      Rice\n",
       "1   2023-05-04  2681.118421      Rice\n",
       "2   2023-05-05  2662.755102      Rice\n",
       "3   2023-05-06  2594.227273      Rice\n",
       "4   2023-05-07  2559.982456      Rice\n",
       "..         ...          ...       ...\n",
       "363 2024-04-30  2890.010638      Rice\n",
       "364 2024-05-01  3006.720000      Rice\n",
       "365 2024-05-02  2909.326923      Rice\n",
       "366 2024-05-03  2907.605505      Rice\n",
       "367 2024-05-04  2901.666667      Rice\n",
       "\n",
       "[368 rows x 3 columns]"
      ]
     },
     "execution_count": 130,
     "metadata": {},
     "output_type": "execute_result"
    }
   ],
   "source": [
    "df_test_commodity_dt[:368]"
   ]
  },
  {
   "cell_type": "code",
   "execution_count": 131,
   "metadata": {},
   "outputs": [],
   "source": [
    "mae = mean_absolute_error(df_test_commodity_dt[:368]['y'], Y_hat_df['NBEATS-median'])\n",
    "rmse = np.sqrt(mean_squared_error(df_test_commodity_dt[:368]['y'], Y_hat_df['NBEATS-median']))"
   ]
  },
  {
   "cell_type": "code",
   "execution_count": 132,
   "metadata": {},
   "outputs": [
    {
     "name": "stdout",
     "output_type": "stream",
     "text": [
      "145.87492470580403 169.35277374867988\n"
     ]
    }
   ],
   "source": [
    "print(mae,rmse)"
   ]
  },
  {
   "cell_type": "code",
   "execution_count": 26,
   "metadata": {},
   "outputs": [
    {
     "data": {
      "text/html": [
       "<div>\n",
       "<style scoped>\n",
       "    .dataframe tbody tr th:only-of-type {\n",
       "        vertical-align: middle;\n",
       "    }\n",
       "\n",
       "    .dataframe tbody tr th {\n",
       "        vertical-align: top;\n",
       "    }\n",
       "\n",
       "    .dataframe thead th {\n",
       "        text-align: right;\n",
       "    }\n",
       "</style>\n",
       "<table border=\"1\" class=\"dataframe\">\n",
       "  <thead>\n",
       "    <tr style=\"text-align: right;\">\n",
       "      <th></th>\n",
       "      <th>NBEATS</th>\n",
       "      <th>NBEATS-median</th>\n",
       "      <th>NBEATS-lo-90</th>\n",
       "      <th>NBEATS-lo-80</th>\n",
       "      <th>NBEATS-hi-80</th>\n",
       "      <th>NBEATS-hi-90</th>\n",
       "    </tr>\n",
       "  </thead>\n",
       "  <tbody>\n",
       "    <tr>\n",
       "      <th>0</th>\n",
       "      <td>1128.265015</td>\n",
       "      <td>1128.0</td>\n",
       "      <td>1072.000000</td>\n",
       "      <td>1084.0</td>\n",
       "      <td>1172.099976</td>\n",
       "      <td>1184.050049</td>\n",
       "    </tr>\n",
       "    <tr>\n",
       "      <th>1</th>\n",
       "      <td>1123.104004</td>\n",
       "      <td>1123.0</td>\n",
       "      <td>1067.000000</td>\n",
       "      <td>1079.0</td>\n",
       "      <td>1168.000000</td>\n",
       "      <td>1180.000000</td>\n",
       "    </tr>\n",
       "    <tr>\n",
       "      <th>2</th>\n",
       "      <td>1125.390015</td>\n",
       "      <td>1124.5</td>\n",
       "      <td>1072.000000</td>\n",
       "      <td>1083.0</td>\n",
       "      <td>1167.000000</td>\n",
       "      <td>1183.000000</td>\n",
       "    </tr>\n",
       "    <tr>\n",
       "      <th>3</th>\n",
       "      <td>1126.553955</td>\n",
       "      <td>1126.0</td>\n",
       "      <td>1072.000000</td>\n",
       "      <td>1083.0</td>\n",
       "      <td>1171.000000</td>\n",
       "      <td>1182.000000</td>\n",
       "    </tr>\n",
       "    <tr>\n",
       "      <th>4</th>\n",
       "      <td>1127.218994</td>\n",
       "      <td>1127.0</td>\n",
       "      <td>1070.949951</td>\n",
       "      <td>1084.0</td>\n",
       "      <td>1170.000000</td>\n",
       "      <td>1183.000000</td>\n",
       "    </tr>\n",
       "  </tbody>\n",
       "</table>\n",
       "</div>"
      ],
      "text/plain": [
       "        NBEATS  NBEATS-median  NBEATS-lo-90  NBEATS-lo-80  NBEATS-hi-80  \\\n",
       "0  1128.265015         1128.0   1072.000000        1084.0   1172.099976   \n",
       "1  1123.104004         1123.0   1067.000000        1079.0   1168.000000   \n",
       "2  1125.390015         1124.5   1072.000000        1083.0   1167.000000   \n",
       "3  1126.553955         1126.0   1072.000000        1083.0   1171.000000   \n",
       "4  1127.218994         1127.0   1070.949951        1084.0   1170.000000   \n",
       "\n",
       "   NBEATS-hi-90  \n",
       "0   1184.050049  \n",
       "1   1180.000000  \n",
       "2   1183.000000  \n",
       "3   1182.000000  \n",
       "4   1183.000000  "
      ]
     },
     "execution_count": 26,
     "metadata": {},
     "output_type": "execute_result"
    }
   ],
   "source": [
    "Y_hat_df.head()"
   ]
  },
  {
   "cell_type": "code",
   "execution_count": 33,
   "metadata": {},
   "outputs": [
    {
     "data": {
      "text/html": [
       "<div>\n",
       "<style scoped>\n",
       "    .dataframe tbody tr th:only-of-type {\n",
       "        vertical-align: middle;\n",
       "    }\n",
       "\n",
       "    .dataframe tbody tr th {\n",
       "        vertical-align: top;\n",
       "    }\n",
       "\n",
       "    .dataframe thead th {\n",
       "        text-align: right;\n",
       "    }\n",
       "</style>\n",
       "<table border=\"1\" class=\"dataframe\">\n",
       "  <thead>\n",
       "    <tr style=\"text-align: right;\">\n",
       "      <th></th>\n",
       "      <th>ds</th>\n",
       "      <th>y</th>\n",
       "      <th>unique_id</th>\n",
       "    </tr>\n",
       "  </thead>\n",
       "  <tbody>\n",
       "    <tr>\n",
       "      <th>0</th>\n",
       "      <td>2018-01-01</td>\n",
       "      <td>2747.222222</td>\n",
       "      <td>Onion</td>\n",
       "    </tr>\n",
       "    <tr>\n",
       "      <th>1</th>\n",
       "      <td>2018-01-02</td>\n",
       "      <td>2757.333333</td>\n",
       "      <td>Onion</td>\n",
       "    </tr>\n",
       "    <tr>\n",
       "      <th>2</th>\n",
       "      <td>2018-01-03</td>\n",
       "      <td>2722.439394</td>\n",
       "      <td>Onion</td>\n",
       "    </tr>\n",
       "    <tr>\n",
       "      <th>3</th>\n",
       "      <td>2018-01-04</td>\n",
       "      <td>2798.666667</td>\n",
       "      <td>Onion</td>\n",
       "    </tr>\n",
       "    <tr>\n",
       "      <th>4</th>\n",
       "      <td>2018-01-05</td>\n",
       "      <td>2753.147541</td>\n",
       "      <td>Onion</td>\n",
       "    </tr>\n",
       "  </tbody>\n",
       "</table>\n",
       "</div>"
      ],
      "text/plain": [
       "          ds            y unique_id\n",
       "0 2018-01-01  2747.222222     Onion\n",
       "1 2018-01-02  2757.333333     Onion\n",
       "2 2018-01-03  2722.439394     Onion\n",
       "3 2018-01-04  2798.666667     Onion\n",
       "4 2018-01-05  2753.147541     Onion"
      ]
     },
     "execution_count": 33,
     "metadata": {},
     "output_type": "execute_result"
    }
   ],
   "source": [
    "df_train_commodity_dt.head()"
   ]
  },
  {
   "cell_type": "code",
   "execution_count": 34,
   "metadata": {},
   "outputs": [
    {
     "data": {
      "text/html": [
       "<div>\n",
       "<style scoped>\n",
       "    .dataframe tbody tr th:only-of-type {\n",
       "        vertical-align: middle;\n",
       "    }\n",
       "\n",
       "    .dataframe tbody tr th {\n",
       "        vertical-align: top;\n",
       "    }\n",
       "\n",
       "    .dataframe thead th {\n",
       "        text-align: right;\n",
       "    }\n",
       "</style>\n",
       "<table border=\"1\" class=\"dataframe\">\n",
       "  <thead>\n",
       "    <tr style=\"text-align: right;\">\n",
       "      <th></th>\n",
       "      <th>ds</th>\n",
       "      <th>y</th>\n",
       "      <th>unique_id</th>\n",
       "    </tr>\n",
       "  </thead>\n",
       "  <tbody>\n",
       "    <tr>\n",
       "      <th>0</th>\n",
       "      <td>2023-05-03</td>\n",
       "      <td>1128.114754</td>\n",
       "      <td>Onion</td>\n",
       "    </tr>\n",
       "    <tr>\n",
       "      <th>1</th>\n",
       "      <td>2023-05-04</td>\n",
       "      <td>1117.956522</td>\n",
       "      <td>Onion</td>\n",
       "    </tr>\n",
       "    <tr>\n",
       "      <th>2</th>\n",
       "      <td>2023-05-05</td>\n",
       "      <td>1124.852113</td>\n",
       "      <td>Onion</td>\n",
       "    </tr>\n",
       "    <tr>\n",
       "      <th>3</th>\n",
       "      <td>2023-05-06</td>\n",
       "      <td>1105.476821</td>\n",
       "      <td>Onion</td>\n",
       "    </tr>\n",
       "    <tr>\n",
       "      <th>4</th>\n",
       "      <td>2023-05-07</td>\n",
       "      <td>1106.873786</td>\n",
       "      <td>Onion</td>\n",
       "    </tr>\n",
       "  </tbody>\n",
       "</table>\n",
       "</div>"
      ],
      "text/plain": [
       "          ds            y unique_id\n",
       "0 2023-05-03  1128.114754     Onion\n",
       "1 2023-05-04  1117.956522     Onion\n",
       "2 2023-05-05  1124.852113     Onion\n",
       "3 2023-05-06  1105.476821     Onion\n",
       "4 2023-05-07  1106.873786     Onion"
      ]
     },
     "execution_count": 34,
     "metadata": {},
     "output_type": "execute_result"
    }
   ],
   "source": [
    "df_test_commodity_dt.head()"
   ]
  },
  {
   "cell_type": "code",
   "execution_count": 39,
   "metadata": {},
   "outputs": [
    {
     "data": {
      "text/plain": [
       "[<matplotlib.lines.Line2D at 0x756fede93770>]"
      ]
     },
     "execution_count": 39,
     "metadata": {},
     "output_type": "execute_result"
    },
    {
     "data": {
      "image/png": "[encoded data removed]",
      "text/plain": [
       "<Figure size 640x480 with 1 Axes>"
      ]
     },
     "metadata": {},
     "output_type": "display_data"
    }
   ],
   "source": [
    "plot_df = pd.concat([df_test_commodity_dt, Y_hat_df], axis=1)\n",
    "plt.plot(plot_df['ds'], plot_df['y'],  c='red', label='True')\n",
    "plt.plot(plot_df['ds'], plot_df['NBEATS-median'], c='blue', label='median')"
   ]
  },
  {
   "cell_type": "code",
   "execution_count": null,
   "metadata": {},
   "outputs": [],
   "source": [
    "plot_df = pd.concat([df_train_commodity_dt, plot_df])\n",
    "plot_df"
   ]
  },
  {
   "cell_type": "code",
   "execution_count": null,
   "metadata": {},
   "outputs": [],
   "source": [
    "use_boxcox = False  # Set to False if not using Box-Cox\n",
    "\n",
    "# commodities = df_up['commodity'].unique()\n",
    "\n",
    "# for commodity in commodities:\n",
    "    # Train-test split\n",
    "    train_len = int(len(boxcox_diff_dfs[commodity]) * 0.8)\n",
    "    df_train = boxcox_diff_dfs[commodity][:train_len - 1]\n",
    "\n",
    "    df_test_commodity = up_test[up_test['commodity'] == commodity]\n",
    "    df_test_commodity_dt = df_test_commodity.groupby(\"datetime\").agg({\"modal_rs_quintal\": \"mean\"})\n",
    "\n",
    "    if use_boxcox:\n",
    "        # Box-Cox transformation\n",
    "        lmbda = boxcox_normmax(df_train)  # Optimize lambda for Box-Cox\n",
    "        df_test_commodity_boxcox = pd.Series(boxcox(df_test_commodity_dt['modal_rs_quintal'], lmbda=lmbda),\n",
    "                                             index=df_test_commodity_dt.index)\n",
    "        df_test = pd.Series(df_test_commodity_boxcox - df_test_commodity_boxcox.shift(), index=df_test_commodity_boxcox.index)\n",
    "        df_test.dropna(inplace=True)\n",
    "    else:\n",
    "        # df_test_commodity_dt.set_index(\"datetime\")\n",
    "        df_test = df_test_commodity_dt['modal_rs_quintal']\n",
    "\n",
    "    # Prepare training data\n",
    "    df_train = df_train.to_frame(name='y')\n",
    "    df_train['unique_id'] = commodity\n",
    "    df_train['ds'] = df_train.index\n",
    "\n",
    "    # Prepare test data for predictions\n",
    "    df_test_pred = df_test.to_frame(name='y')\n",
    "    df_test_pred['unique_id'] = commodity\n",
    "    df_test_pred['ds'] = df_test_pred.index\n",
    "    input_size = 120  # Use past 14 days to forecast\n",
    "    horizon = 120    # Forecasting the next 14 days\n",
    "\n",
    "    # Initialize N-BEATS model\n",
    "    nbeats_model = NBEATS(\n",
    "    input_size=input_size,\n",
    "    h=horizon,\n",
    "    n_blocks=[2, 2],  # Two blocks each for trend and seasonality\n",
    "    stack_types=['trend', 'seasonality'],  # Trend and seasonality stacks\n",
    "    mlp_units=1*[[128, 128]],  # Hidden units for MLP layers in the blocks\n",
    "    loss=MAE(),  # Mean Absolute Error\n",
    "    )\n",
    "\n",
    "    # Initialize NeuralForecast object\n",
    "    fcst = NeuralForecast(models=[nbeats_model], freq='D')\n",
    "\n",
    "    # Train the model on the training data\n",
    "    fcst.fit(df_train)\n",
    "    forecast = fcst.predict(df_test_pred)\n",
    "\n",
    "# Prepare actual values and predicted values\n",
    "    y_hat = df_test.copy()\n",
    "    y_hat['nbeats_forecast'] = forecast['NBEATS'].values\n",
    "\n",
    "    # If using Box-Cox, invert the transformation\n",
    "    if use_boxcox:\n",
    "        y_hat['nbeats_forecast'] = inv_boxcox(y_hat['nbeats_forecast'].cumsum(), lmbda)\n",
    "    else:\n",
    "        y_hat['nbeats_forecast'] = y_hat['nbeats_forecast'].cumsum()\n",
    "\n",
    "    "
   ]
  },
  {
   "cell_type": "code",
   "execution_count": null,
   "metadata": {},
   "outputs": [],
   "source": []
  },
  {
   "cell_type": "code",
   "execution_count": null,
   "metadata": {},
   "outputs": [],
   "source": [
    "# Plot the results\n",
    "def plot_results(up_train ,commodity):\n",
    "    up_train_commodity = up_train[up_train['commodity'] == commodity]\n",
    "    up_train_commodity_dt = up_train_commodity.groupby(\"datetime\").agg({\"modal_rs_quintal\": \"mean\"})\n",
    "    up_test_commodity_dt = up_test[up_test['commodity'] == commodity].groupby(\"datetime\").agg({\"modal_rs_quintal\": \"mean\"})\n",
    "\n",
    "    plt.plot(up_train_commodity_dt, label=\"Train\")\n",
    "    plt.plot(up_test_commodity_dt, label=\"Test\")\n",
    "    plt.plot(y_hat['nbeats_forecast'], label=\"N-BEATS forecast\")\n",
    "    plt.legend(loc=\"best\")\n",
    "    plt.show()\n",
    "    mae = mean_absolute_error(df_test[:horizon], y_hat['nbeats_forecast'])\n",
    "    rmse = np.sqrt(mean_squared_error(df_test[:horizon], y_hat['nbeats_forecast']))\n",
    "    print(y_hat.index,y_hat['nbeats_forecast'])\n",
    "\n",
    "    print(f'N-BEATS Mean Absolute Error (MAE): {mae:.4f}')\n",
    "    print(f'N-BEATS Root Mean Squared Error (RMSE): {rmse:.4f}')"
   ]
  }
 ],
 "metadata": {
  "kernelspec": {
   "display_name": "sihvenv",
   "language": "python",
   "name": "python3"
  },
  "language_info": {
   "codemirror_mode": {
    "name": "ipython",
    "version": 3
   },
   "file_extension": ".py",
   "mimetype": "text/x-python",
   "name": "python",
   "nbconvert_exporter": "python",
   "pygments_lexer": "ipython3",
   "version": "3.12.3"
  }
 },
 "nbformat": 4,
 "nbformat_minor": 2
}
