{
 "cells": [
  {
   "cell_type": "code",
   "execution_count": 1,
   "metadata": {},
   "outputs": [
    {
     "name": "stderr",
     "output_type": "stream",
     "text": [
      "2024-09-14 14:42:43.109390: E external/local_xla/xla/stream_executor/cuda/cuda_fft.cc:485] Unable to register cuFFT factory: Attempting to register factory for plugin cuFFT when one has already been registered\n",
      "2024-09-14 14:42:43.127738: E external/local_xla/xla/stream_executor/cuda/cuda_dnn.cc:8454] Unable to register cuDNN factory: Attempting to register factory for plugin cuDNN when one has already been registered\n",
      "2024-09-14 14:42:43.133310: E external/local_xla/xla/stream_executor/cuda/cuda_blas.cc:1452] Unable to register cuBLAS factory: Attempting to register factory for plugin cuBLAS when one has already been registered\n",
      "2024-09-14 14:42:43.146965: I tensorflow/core/platform/cpu_feature_guard.cc:210] This TensorFlow binary is optimized to use available CPU instructions in performance-critical operations.\n",
      "To enable the following instructions: AVX2 FMA, in other operations, rebuild TensorFlow with the appropriate compiler flags.\n",
      "2024-09-14 14:42:44.121461: W tensorflow/compiler/tf2tensorrt/utils/py_utils.cc:38] TF-TRT Warning: Could not find TensorRT\n"
     ]
    }
   ],
   "source": [
    "import numpy as np\n",
    "import pandas as pd\n",
    "import torch\n",
    "import matplotlib.pyplot as plt\n",
    "from sklearn.metrics import f1_score, mean_absolute_error, mean_squared_error, r2_score\n",
    "from sklearn.preprocessing import MinMaxScaler\n",
    "from tensorflow.keras.layers import LSTM, Dense, Input\n",
    "from tensorflow.keras.models import Sequential\n",
    "from tensorflow.keras.optimizers import Adam"
   ]
  },
  {
   "cell_type": "code",
   "execution_count": 2,
   "metadata": {},
   "outputs": [],
   "source": [
    "# Load and preprocess data\n",
    "def load_and_preprocess_data(file_path):\n",
    "    df = pd.read_csv(file_path, header=[0, 1, 2, 3, 4, 5, 6, 7, 8, 9], index_col=0)\n",
    "\n",
    "    df.columns = [\n",
    "        \"district\",\n",
    "        \"market\",\n",
    "        \"commodity\",\n",
    "        \"variety\",\n",
    "        \"grade\",\n",
    "        \"min_price\",\n",
    "        \"max_price\",\n",
    "        \"modal_price\",\n",
    "        \"date\",\n",
    "    ]\n",
    "    df[\"date\"] = pd.to_datetime(df[\"date\"], format=\"%d %b %Y\")\n",
    "    df = df.sort_values(\"date\")\n",
    "    return df[[\"date\", \"modal_price\"]]"
   ]
  },
  {
   "cell_type": "code",
   "execution_count": 4,
   "metadata": {},
   "outputs": [],
   "source": [
    "df1 = load_and_preprocess_data(\"response_01_Sep_2014_to_01_Sep_2015.csv\")\n",
    "df2 = load_and_preprocess_data(\"response_01_Sep_2015_to_01_Sep_2016.csv\")\n",
    "\n",
    "df3 = load_and_preprocess_data(\"response_01_Sep_2016_to_01_Sep_2017.csv\")\n",
    "df4 = load_and_preprocess_data(\"response_01_Sep_2017_to_01_Sep_2018.csv\")\n",
    "df5 = load_and_preprocess_data(\"response_01_Sep_2018_to_01_Sep_2019.csv\")\n",
    "\n",
    "# Combine datasets\n",
    "df = pd.concat([df1, df2, df3, df4, df5]).sort_values(\"date\")\n",
    "\n",
    "df = df.groupby(['date'])['modal_price'].agg(\"mean\").reset_index()\n",
    "\n",
    "# # Normalize data\n",
    "scaler = MinMaxScaler()\n",
    "df[\"modal_price_scaled\"] = scaler.fit_transform(df[[\"modal_price\"]])"
   ]
  },
  {
   "cell_type": "code",
   "execution_count": 5,
   "metadata": {},
   "outputs": [
    {
     "data": {
      "text/html": [
       "<div>\n",
       "<style scoped>\n",
       "    .dataframe tbody tr th:only-of-type {\n",
       "        vertical-align: middle;\n",
       "    }\n",
       "\n",
       "    .dataframe tbody tr th {\n",
       "        vertical-align: top;\n",
       "    }\n",
       "\n",
       "    .dataframe thead th {\n",
       "        text-align: right;\n",
       "    }\n",
       "</style>\n",
       "<table border=\"1\" class=\"dataframe\">\n",
       "  <thead>\n",
       "    <tr style=\"text-align: right;\">\n",
       "      <th></th>\n",
       "      <th>date</th>\n",
       "      <th>modal_price</th>\n",
       "      <th>modal_price_scaled</th>\n",
       "    </tr>\n",
       "  </thead>\n",
       "  <tbody>\n",
       "    <tr>\n",
       "      <th>0</th>\n",
       "      <td>2014-09-01</td>\n",
       "      <td>2000.0</td>\n",
       "      <td>0.449351</td>\n",
       "    </tr>\n",
       "    <tr>\n",
       "      <th>1</th>\n",
       "      <td>2014-09-02</td>\n",
       "      <td>1665.0</td>\n",
       "      <td>0.362338</td>\n",
       "    </tr>\n",
       "    <tr>\n",
       "      <th>2</th>\n",
       "      <td>2014-09-03</td>\n",
       "      <td>1697.5</td>\n",
       "      <td>0.370779</td>\n",
       "    </tr>\n",
       "    <tr>\n",
       "      <th>3</th>\n",
       "      <td>2014-09-04</td>\n",
       "      <td>1790.0</td>\n",
       "      <td>0.394805</td>\n",
       "    </tr>\n",
       "    <tr>\n",
       "      <th>4</th>\n",
       "      <td>2014-09-05</td>\n",
       "      <td>1750.0</td>\n",
       "      <td>0.384416</td>\n",
       "    </tr>\n",
       "  </tbody>\n",
       "</table>\n",
       "</div>"
      ],
      "text/plain": [
       "        date  modal_price  modal_price_scaled\n",
       "0 2014-09-01       2000.0            0.449351\n",
       "1 2014-09-02       1665.0            0.362338\n",
       "2 2014-09-03       1697.5            0.370779\n",
       "3 2014-09-04       1790.0            0.394805\n",
       "4 2014-09-05       1750.0            0.384416"
      ]
     },
     "execution_count": 5,
     "metadata": {},
     "output_type": "execute_result"
    }
   ],
   "source": [
    "df.head()"
   ]
  },
  {
   "cell_type": "code",
   "execution_count": 6,
   "metadata": {},
   "outputs": [
    {
     "data": {
      "text/plain": [
       "<Axes: >"
      ]
     },
     "execution_count": 6,
     "metadata": {},
     "output_type": "execute_result"
    },
    {
     "data": {
      "image/png": "[encoded data removed]",
      "text/plain": [
       "<Figure size 640x480 with 1 Axes>"
      ]
     },
     "metadata": {},
     "output_type": "display_data"
    }
   ],
   "source": [
    "df.plot()"
   ]
  },
  {
   "cell_type": "code",
   "execution_count": 7,
   "metadata": {},
   "outputs": [],
   "source": [
    "# Prepare data for time series prediction\n",
    "def create_sequences(data, seq_length):\n",
    "    X, y = [], []\n",
    "    for i in range(len(data) - seq_length):\n",
    "        X.append(data[i : (i + seq_length)])\n",
    "        y.append(data[i + seq_length])\n",
    "    return np.array(X), np.array(y)"
   ]
  },
  {
   "cell_type": "code",
   "execution_count": 8,
   "metadata": {},
   "outputs": [
    {
     "name": "stdout",
     "output_type": "stream",
     "text": [
      "\u001b[1m10/10\u001b[0m \u001b[32m━━━━━━━━━━━━━━━━━━━━\u001b[0m\u001b[37m\u001b[0m \u001b[1m0s\u001b[0m 20ms/step\n"
     ]
    }
   ],
   "source": [
    "seq_length = 10\n",
    "X, y = create_sequences(df[\"modal_price_scaled\"].values, seq_length)\n",
    "\n",
    "# Split data\n",
    "train_size = int(len(X) * 0.8)\n",
    "X_train, X_test = X[:train_size], X[train_size:]\n",
    "y_train, y_test = y[:train_size], y[train_size:]\n",
    "\n",
    "# Reshape data for LSTM and GRU\n",
    "X_train_reshaped = X_train.reshape((X_train.shape[0], X_train.shape[1], 1))\n",
    "X_test_reshaped = X_test.reshape((X_test.shape[0], X_test.shape[1], 1))\n",
    "\n",
    "# LSTM Model\n",
    "lstm_model = Sequential(\n",
    "    [Input(shape=(seq_length, 1)), LSTM(50, activation=\"relu\"), Dense(1)]\n",
    ")\n",
    "lstm_model.compile(optimizer=Adam(learning_rate=0.001), loss=\"mse\")\n",
    "lstm_model.fit(X_train_reshaped, y_train, epochs=100, batch_size=32, verbose=0)\n",
    "\n",
    "criterion = torch.nn.MSELoss()\n",
    "\n",
    "lstm_pred = lstm_model.predict(X_test_reshaped)\n",
    "\n",
    "lstm_pred = scaler.inverse_transform(lstm_pred)\n",
    "\n",
    "y_test_original = scaler.inverse_transform(y_test.reshape(-1, 1))"
   ]
  },
  {
   "cell_type": "code",
   "execution_count": 9,
   "metadata": {},
   "outputs": [],
   "source": [
    "# Calculate metrics\n",
    "def calculate_metrics(y_true, y_pred):\n",
    "    mse = mean_squared_error(y_true, y_pred)\n",
    "    mae = mean_absolute_error(y_true, y_pred)\n",
    "    rmse = np.sqrt(mse)\n",
    "    r2 = r2_score(y_true, y_pred)\n",
    "\n",
    "    # For F1 score, we need to convert regression to classification\n",
    "    # Let's consider a prediction correct if it's within 5% of the true value\n",
    "    y_true_class = (y_true >= np.median(y_true)).astype(int)\n",
    "    y_pred_class = (y_pred >= np.median(y_pred)).astype(int)\n",
    "    f1 = f1_score(y_true_class, y_pred_class)\n",
    "\n",
    "    return mse, mae, rmse, f1, r2"
   ]
  },
  {
   "cell_type": "code",
   "execution_count": 10,
   "metadata": {},
   "outputs": [
    {
     "name": "stdout",
     "output_type": "stream",
     "text": [
      "LSTM Metrics (MSE, MAE, RMSE, F1,R2): (90561.08770821568, 200.46197746795357, 300.9336932086796, 0.8838709677419355, 0.7993611232456621)\n"
     ]
    }
   ],
   "source": [
    "\n",
    "lstm_metrics = calculate_metrics(y_test_original, lstm_pred)\n",
    "\n",
    "print(\"LSTM Metrics (MSE, MAE, RMSE, F1,R2):\", lstm_metrics)"
   ]
  },
  {
   "cell_type": "code",
   "execution_count": null,
   "metadata": {},
   "outputs": [],
   "source": []
  }
 ],
 "metadata": {
  "kernelspec": {
   "display_name": "sihvenv",
   "language": "python",
   "name": "python3"
  },
  "language_info": {
   "codemirror_mode": {
    "name": "ipython",
    "version": 3
   },
   "file_extension": ".py",
   "mimetype": "text/x-python",
   "name": "python",
   "nbconvert_exporter": "python",
   "pygments_lexer": "ipython3",
   "version": "3.12.3"
  }
 },
 "nbformat": 4,
 "nbformat_minor": 2
}
