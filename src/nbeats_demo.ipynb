{
 "cells": [
  {
   "cell_type": "code",
   "execution_count": 1,
   "metadata": {},
   "outputs": [],
   "source": [
    "import pandas as pd\n",
    "import matplotlib.pyplot as plt\n",
    "\n",
    "from neuralforecast import NeuralForecast\n",
    "from neuralforecast.models import NBEATS\n",
    "from neuralforecast.losses.pytorch import DistributionLoss\n",
    "from neuralforecast.utils import AirPassengersPanel, AirPassengersStatic"
   ]
  },
  {
   "cell_type": "code",
   "execution_count": 3,
   "metadata": {},
   "outputs": [
    {
     "name": "stderr",
     "output_type": "stream",
     "text": [
      "/home/mukundan/learning/ai_ml/sih_2024_project/sih_2024/.venv/lib/python3.12/site-packages/darts/models/forecasting/torch_forecasting_model.py:1747: FutureWarning: You are using `torch.load` with `weights_only=False` (the current default value), which uses the default pickle module implicitly. It is possible to construct malicious pickle data which will execute arbitrary code during unpickling (See https://github.com/pytorch/pytorch/blob/main/SECURITY.md#untrusted-models for more details). In a future release, the default value for `weights_only` will be flipped to `True`. This limits the functions that could be executed during unpickling. Arbitrary objects will no longer be allowed to be loaded via this mode unless they are explicitly allowlisted by the user via `torch.serialization.add_safe_globals`. We recommend you start setting `weights_only=True` for any use case where you don't have full control of the loaded file. Please open an issue on GitHub for any issues related to this experimental feature.\n",
      "  model: TorchForecastingModel = torch.load(\n"
     ]
    }
   ],
   "source": [
    "from darts.models import NHiTSModel\n",
    "model = NHiTSModel.load(\"./model_results/Gram dal/AS/nhits.pkt\")"
   ]
  },
  {
   "cell_type": "code",
   "execution_count": 40,
   "metadata": {},
   "outputs": [
    {
     "name": "stderr",
     "output_type": "stream",
     "text": [
      "GPU available: False, used: False\n",
      "TPU available: False, using: 0 TPU cores\n",
      "HPU available: False, using: 0 HPUs\n"
     ]
    },
    {
     "data": {
      "application/vnd.jupyter.widget-view+json": {
       "model_id": "50aaf0d362d7477b909ca28076dc634b",
       "version_major": 2,
       "version_minor": 0
      },
      "text/plain": [
       "Predicting: |          | 0/? [00:00<?, ?it/s]"
      ]
     },
     "metadata": {},
     "output_type": "display_data"
    }
   ],
   "source": [
    "pr = model.predict(100)"
   ]
  },
  {
   "cell_type": "code",
   "execution_count": 41,
   "metadata": {},
   "outputs": [
    {
     "data": {
      "text/plain": [
       "darts.timeseries.TimeSeries"
      ]
     },
     "execution_count": 41,
     "metadata": {},
     "output_type": "execute_result"
    }
   ],
   "source": [
    "type(pr)"
   ]
  },
  {
   "cell_type": "code",
   "execution_count": 42,
   "metadata": {},
   "outputs": [],
   "source": [
    "import plotly.express as px"
   ]
  },
  {
   "cell_type": "code",
   "execution_count": 43,
   "metadata": {},
   "outputs": [],
   "source": [
    "df = pr.pd_dataframe().reset_index()"
   ]
  },
  {
   "cell_type": "code",
   "execution_count": 48,
   "metadata": {},
   "outputs": [
    {
     "data": {
      "text/html": [
       "<div>\n",
       "<style scoped>\n",
       "    .dataframe tbody tr th:only-of-type {\n",
       "        vertical-align: middle;\n",
       "    }\n",
       "\n",
       "    .dataframe tbody tr th {\n",
       "        vertical-align: top;\n",
       "    }\n",
       "\n",
       "    .dataframe thead th {\n",
       "        text-align: right;\n",
       "    }\n",
       "</style>\n",
       "<table border=\"1\" class=\"dataframe\">\n",
       "  <thead>\n",
       "    <tr style=\"text-align: right;\">\n",
       "      <th>component</th>\n",
       "      <th>ds</th>\n",
       "      <th>y</th>\n",
       "    </tr>\n",
       "  </thead>\n",
       "  <tbody>\n",
       "    <tr>\n",
       "      <th>0</th>\n",
       "      <td>2019-05-13</td>\n",
       "      <td>5845.669165</td>\n",
       "    </tr>\n",
       "    <tr>\n",
       "      <th>1</th>\n",
       "      <td>2019-05-14</td>\n",
       "      <td>5830.936879</td>\n",
       "    </tr>\n",
       "    <tr>\n",
       "      <th>2</th>\n",
       "      <td>2019-05-15</td>\n",
       "      <td>5834.355001</td>\n",
       "    </tr>\n",
       "    <tr>\n",
       "      <th>3</th>\n",
       "      <td>2019-05-16</td>\n",
       "      <td>5862.698190</td>\n",
       "    </tr>\n",
       "    <tr>\n",
       "      <th>4</th>\n",
       "      <td>2019-05-17</td>\n",
       "      <td>5864.721968</td>\n",
       "    </tr>\n",
       "    <tr>\n",
       "      <th>...</th>\n",
       "      <td>...</td>\n",
       "      <td>...</td>\n",
       "    </tr>\n",
       "    <tr>\n",
       "      <th>95</th>\n",
       "      <td>2019-08-16</td>\n",
       "      <td>6202.764467</td>\n",
       "    </tr>\n",
       "    <tr>\n",
       "      <th>96</th>\n",
       "      <td>2019-08-17</td>\n",
       "      <td>6172.644701</td>\n",
       "    </tr>\n",
       "    <tr>\n",
       "      <th>97</th>\n",
       "      <td>2019-08-18</td>\n",
       "      <td>6111.527096</td>\n",
       "    </tr>\n",
       "    <tr>\n",
       "      <th>98</th>\n",
       "      <td>2019-08-19</td>\n",
       "      <td>6128.785506</td>\n",
       "    </tr>\n",
       "    <tr>\n",
       "      <th>99</th>\n",
       "      <td>2019-08-20</td>\n",
       "      <td>6123.102470</td>\n",
       "    </tr>\n",
       "  </tbody>\n",
       "</table>\n",
       "<p>100 rows × 2 columns</p>\n",
       "</div>"
      ],
      "text/plain": [
       "component         ds            y\n",
       "0         2019-05-13  5845.669165\n",
       "1         2019-05-14  5830.936879\n",
       "2         2019-05-15  5834.355001\n",
       "3         2019-05-16  5862.698190\n",
       "4         2019-05-17  5864.721968\n",
       "..               ...          ...\n",
       "95        2019-08-16  6202.764467\n",
       "96        2019-08-17  6172.644701\n",
       "97        2019-08-18  6111.527096\n",
       "98        2019-08-19  6128.785506\n",
       "99        2019-08-20  6123.102470\n",
       "\n",
       "[100 rows x 2 columns]"
      ]
     },
     "execution_count": 48,
     "metadata": {},
     "output_type": "execute_result"
    }
   ],
   "source": [
    "df"
   ]
  },
  {
   "cell_type": "code",
   "execution_count": 49,
   "metadata": {},
   "outputs": [
    {
     "data": {
      "text/plain": [
       "Timestamp('2019-05-13 00:00:00')"
      ]
     },
     "execution_count": 49,
     "metadata": {},
     "output_type": "execute_result"
    }
   ],
   "source": [
    "df.ds.min()"
   ]
  },
  {
   "cell_type": "code",
   "execution_count": 45,
   "metadata": {},
   "outputs": [
    {
     "data": {
      "text/plain": [
       "DatetimeIndex(['2019-05-13', '2019-05-14', '2019-05-15', '2019-05-16',\n",
       "               '2019-05-17', '2019-05-18', '2019-05-19', '2019-05-20',\n",
       "               '2019-05-21', '2019-05-22', '2019-05-23', '2019-05-24',\n",
       "               '2019-05-25', '2019-05-26', '2019-05-27', '2019-05-28',\n",
       "               '2019-05-29', '2019-05-30', '2019-05-31', '2019-06-01',\n",
       "               '2019-06-02', '2019-06-03', '2019-06-04', '2019-06-05',\n",
       "               '2019-06-06', '2019-06-07', '2019-06-08', '2019-06-09',\n",
       "               '2019-06-10', '2019-06-11', '2019-06-12', '2019-06-13',\n",
       "               '2019-06-14', '2019-06-15', '2019-06-16', '2019-06-17',\n",
       "               '2019-06-18', '2019-06-19', '2019-06-20', '2019-06-21',\n",
       "               '2019-06-22', '2019-06-23', '2019-06-24', '2019-06-25',\n",
       "               '2019-06-26', '2019-06-27', '2019-06-28', '2019-06-29',\n",
       "               '2019-06-30', '2019-07-01', '2019-07-02', '2019-07-03',\n",
       "               '2019-07-04', '2019-07-05', '2019-07-06', '2019-07-07',\n",
       "               '2019-07-08', '2019-07-09', '2019-07-10', '2019-07-11',\n",
       "               '2019-07-12', '2019-07-13', '2019-07-14', '2019-07-15',\n",
       "               '2019-07-16', '2019-07-17', '2019-07-18', '2019-07-19',\n",
       "               '2019-07-20', '2019-07-21', '2019-07-22', '2019-07-23',\n",
       "               '2019-07-24', '2019-07-25', '2019-07-26', '2019-07-27',\n",
       "               '2019-07-28', '2019-07-29', '2019-07-30', '2019-07-31',\n",
       "               '2019-08-01', '2019-08-02', '2019-08-03', '2019-08-04',\n",
       "               '2019-08-05', '2019-08-06', '2019-08-07', '2019-08-08',\n",
       "               '2019-08-09', '2019-08-10', '2019-08-11', '2019-08-12',\n",
       "               '2019-08-13', '2019-08-14', '2019-08-15', '2019-08-16',\n",
       "               '2019-08-17', '2019-08-18', '2019-08-19', '2019-08-20'],\n",
       "              dtype='datetime64[ns]', name='ds', freq='D')"
      ]
     },
     "execution_count": 45,
     "metadata": {},
     "output_type": "execute_result"
    }
   ],
   "source": [
    "pr.time_index"
   ]
  },
  {
   "cell_type": "code",
   "execution_count": 46,
   "metadata": {},
   "outputs": [
    {
     "data": {
      "application/vnd.plotly.v1+json": {
       "config": {
        "plotlyServerURL": "https://plot.ly"
       },
       "data": [
        {
         "hovertemplate": "x=%{x}<br>y=%{y}<extra></extra>",
         "legendgroup": "",
         "line": {
          "color": "#636efa",
          "dash": "solid"
         },
         "marker": {
          "symbol": "circle"
         },
         "mode": "lines",
         "name": "",
         "orientation": "v",
         "showlegend": false,
         "type": "scatter",
         "x": [
          "2019-05-13T00:00:00",
          "2019-05-14T00:00:00",
          "2019-05-15T00:00:00",
          "2019-05-16T00:00:00",
          "2019-05-17T00:00:00",
          "2019-05-18T00:00:00",
          "2019-05-19T00:00:00",
          "2019-05-20T00:00:00",
          "2019-05-21T00:00:00",
          "2019-05-22T00:00:00",
          "2019-05-23T00:00:00",
          "2019-05-24T00:00:00",
          "2019-05-25T00:00:00",
          "2019-05-26T00:00:00",
          "2019-05-27T00:00:00",
          "2019-05-28T00:00:00",
          "2019-05-29T00:00:00",
          "2019-05-30T00:00:00",
          "2019-05-31T00:00:00",
          "2019-06-01T00:00:00",
          "2019-06-02T00:00:00",
          "2019-06-03T00:00:00",
          "2019-06-04T00:00:00",
          "2019-06-05T00:00:00",
          "2019-06-06T00:00:00",
          "2019-06-07T00:00:00",
          "2019-06-08T00:00:00",
          "2019-06-09T00:00:00",
          "2019-06-10T00:00:00",
          "2019-06-11T00:00:00",
          "2019-06-12T00:00:00",
          "2019-06-13T00:00:00",
          "2019-06-14T00:00:00",
          "2019-06-15T00:00:00",
          "2019-06-16T00:00:00",
          "2019-06-17T00:00:00",
          "2019-06-18T00:00:00",
          "2019-06-19T00:00:00",
          "2019-06-20T00:00:00",
          "2019-06-21T00:00:00",
          "2019-06-22T00:00:00",
          "2019-06-23T00:00:00",
          "2019-06-24T00:00:00",
          "2019-06-25T00:00:00",
          "2019-06-26T00:00:00",
          "2019-06-27T00:00:00",
          "2019-06-28T00:00:00",
          "2019-06-29T00:00:00",
          "2019-06-30T00:00:00",
          "2019-07-01T00:00:00",
          "2019-07-02T00:00:00",
          "2019-07-03T00:00:00",
          "2019-07-04T00:00:00",
          "2019-07-05T00:00:00",
          "2019-07-06T00:00:00",
          "2019-07-07T00:00:00",
          "2019-07-08T00:00:00",
          "2019-07-09T00:00:00",
          "2019-07-10T00:00:00",
          "2019-07-11T00:00:00",
          "2019-07-12T00:00:00",
          "2019-07-13T00:00:00",
          "2019-07-14T00:00:00",
          "2019-07-15T00:00:00",
          "2019-07-16T00:00:00",
          "2019-07-17T00:00:00",
          "2019-07-18T00:00:00",
          "2019-07-19T00:00:00",
          "2019-07-20T00:00:00",
          "2019-07-21T00:00:00",
          "2019-07-22T00:00:00",
          "2019-07-23T00:00:00",
          "2019-07-24T00:00:00",
          "2019-07-25T00:00:00",
          "2019-07-26T00:00:00",
          "2019-07-27T00:00:00",
          "2019-07-28T00:00:00",
          "2019-07-29T00:00:00",
          "2019-07-30T00:00:00",
          "2019-07-31T00:00:00",
          "2019-08-01T00:00:00",
          "2019-08-02T00:00:00",
          "2019-08-03T00:00:00",
          "2019-08-04T00:00:00",
          "2019-08-05T00:00:00",
          "2019-08-06T00:00:00",
          "2019-08-07T00:00:00",
          "2019-08-08T00:00:00",
          "2019-08-09T00:00:00",
          "2019-08-10T00:00:00",
          "2019-08-11T00:00:00",
          "2019-08-12T00:00:00",
          "2019-08-13T00:00:00",
          "2019-08-14T00:00:00",
          "2019-08-15T00:00:00",
          "2019-08-16T00:00:00",
          "2019-08-17T00:00:00",
          "2019-08-18T00:00:00",
          "2019-08-19T00:00:00",
          "2019-08-20T00:00:00"
         ],
         "xaxis": "x",
         "y": [
          5845.669165256851,
          5830.936879062533,
          5834.355000607702,
          5862.6981898278555,
          5864.721968002757,
          5913.3435400784,
          5901.234243562274,
          5949.724638427174,
          5915.592883882448,
          5929.163879309747,
          5966.46157204901,
          5968.847613650845,
          5915.5540812634135,
          5946.149446446017,
          5959.054811084031,
          6023.293786730961,
          5991.883429179127,
          6090.469919675336,
          6164.858115960151,
          6161.632805980274,
          6145.142988850166,
          6165.177387726564,
          6173.554399300926,
          6178.200078544181,
          6266.304579369874,
          6286.560146977816,
          6361.171011507773,
          6404.496686205583,
          6430.306005636403,
          6449.316107777195,
          6336.518968866657,
          6378.652515962376,
          6368.646897901539,
          6361.053797479873,
          6340.785085650692,
          6346.528346092991,
          6373.819462307122,
          6437.368828758073,
          6405.453991719871,
          6362.417468218632,
          6390.866412889802,
          6411.1455303161,
          6379.778187098286,
          6424.538828997353,
          6470.069802224777,
          6468.423011464958,
          6486.723662961351,
          6433.542811426251,
          6440.417729210926,
          6442.085098517806,
          6459.8809137036205,
          6478.3318925533,
          6490.618197650666,
          6522.586686527002,
          6511.707735155592,
          6534.109525199009,
          6477.922399196231,
          6504.716861699149,
          6518.802936705214,
          6522.76871033201,
          6529.668138719012,
          6522.810678340087,
          6481.2833838882725,
          6510.828109910038,
          6451.071836291203,
          6491.591336698403,
          6493.2874806998625,
          6447.357764293888,
          6380.131958833138,
          6314.399380865685,
          6255.008680792049,
          6238.293188815042,
          6184.9121779203315,
          6173.30319042438,
          6139.75862018874,
          6132.245005720289,
          6101.737040321371,
          6106.964246066964,
          6087.9020342801105,
          6026.449558517508,
          6071.63959551071,
          6104.65152043407,
          6137.164977086462,
          6146.739013466651,
          6143.604169252555,
          6121.115999047631,
          6158.931442669792,
          6151.090623814862,
          6208.576865325006,
          6207.972185813118,
          6218.052220451942,
          6205.286613375618,
          6195.784099430666,
          6187.773526728704,
          6194.533369148444,
          6202.764467227231,
          6172.644701258186,
          6111.527096129314,
          6128.785505545709,
          6123.102469660962
         ],
         "yaxis": "y"
        }
       ],
       "layout": {
        "legend": {
         "tracegroupgap": 0
        },
        "margin": {
         "t": 60
        },
        "template": {
         "data": {
          "bar": [
           {
            "error_x": {
             "color": "#2a3f5f"
            },
            "error_y": {
             "color": "#2a3f5f"
            },
            "marker": {
             "line": {
              "color": "#E5ECF6",
              "width": 0.5
             },
             "pattern": {
              "fillmode": "overlay",
              "size": 10,
              "solidity": 0.2
             }
            },
            "type": "bar"
           }
          ],
          "barpolar": [
           {
            "marker": {
             "line": {
              "color": "#E5ECF6",
              "width": 0.5
             },
             "pattern": {
              "fillmode": "overlay",
              "size": 10,
              "solidity": 0.2
             }
            },
            "type": "barpolar"
           }
          ],
          "carpet": [
           {
            "aaxis": {
             "endlinecolor": "#2a3f5f",
             "gridcolor": "white",
             "linecolor": "white",
             "minorgridcolor": "white",
             "startlinecolor": "#2a3f5f"
            },
            "baxis": {
             "endlinecolor": "#2a3f5f",
             "gridcolor": "white",
             "linecolor": "white",
             "minorgridcolor": "white",
             "startlinecolor": "#2a3f5f"
            },
            "type": "carpet"
           }
          ],
          "choropleth": [
           {
            "colorbar": {
             "outlinewidth": 0,
             "ticks": ""
            },
            "type": "choropleth"
           }
          ],
          "contour": [
           {
            "colorbar": {
             "outlinewidth": 0,
             "ticks": ""
            },
            "colorscale": [
             [
              0,
              "#0d0887"
             ],
             [
              0.1111111111111111,
              "#46039f"
             ],
             [
              0.2222222222222222,
              "#7201a8"
             ],
             [
              0.3333333333333333,
              "#9c179e"
             ],
             [
              0.4444444444444444,
              "#bd3786"
             ],
             [
              0.5555555555555556,
              "#d8576b"
             ],
             [
              0.6666666666666666,
              "#ed7953"
             ],
             [
              0.7777777777777778,
              "#fb9f3a"
             ],
             [
              0.8888888888888888,
              "#fdca26"
             ],
             [
              1,
              "#f0f921"
             ]
            ],
            "type": "contour"
           }
          ],
          "contourcarpet": [
           {
            "colorbar": {
             "outlinewidth": 0,
             "ticks": ""
            },
            "type": "contourcarpet"
           }
          ],
          "heatmap": [
           {
            "colorbar": {
             "outlinewidth": 0,
             "ticks": ""
            },
            "colorscale": [
             [
              0,
              "#0d0887"
             ],
             [
              0.1111111111111111,
              "#46039f"
             ],
             [
              0.2222222222222222,
              "#7201a8"
             ],
             [
              0.3333333333333333,
              "#9c179e"
             ],
             [
              0.4444444444444444,
              "#bd3786"
             ],
             [
              0.5555555555555556,
              "#d8576b"
             ],
             [
              0.6666666666666666,
              "#ed7953"
             ],
             [
              0.7777777777777778,
              "#fb9f3a"
             ],
             [
              0.8888888888888888,
              "#fdca26"
             ],
             [
              1,
              "#f0f921"
             ]
            ],
            "type": "heatmap"
           }
          ],
          "heatmapgl": [
           {
            "colorbar": {
             "outlinewidth": 0,
             "ticks": ""
            },
            "colorscale": [
             [
              0,
              "#0d0887"
             ],
             [
              0.1111111111111111,
              "#46039f"
             ],
             [
              0.2222222222222222,
              "#7201a8"
             ],
             [
              0.3333333333333333,
              "#9c179e"
             ],
             [
              0.4444444444444444,
              "#bd3786"
             ],
             [
              0.5555555555555556,
              "#d8576b"
             ],
             [
              0.6666666666666666,
              "#ed7953"
             ],
             [
              0.7777777777777778,
              "#fb9f3a"
             ],
             [
              0.8888888888888888,
              "#fdca26"
             ],
             [
              1,
              "#f0f921"
             ]
            ],
            "type": "heatmapgl"
           }
          ],
          "histogram": [
           {
            "marker": {
             "pattern": {
              "fillmode": "overlay",
              "size": 10,
              "solidity": 0.2
             }
            },
            "type": "histogram"
           }
          ],
          "histogram2d": [
           {
            "colorbar": {
             "outlinewidth": 0,
             "ticks": ""
            },
            "colorscale": [
             [
              0,
              "#0d0887"
             ],
             [
              0.1111111111111111,
              "#46039f"
             ],
             [
              0.2222222222222222,
              "#7201a8"
             ],
             [
              0.3333333333333333,
              "#9c179e"
             ],
             [
              0.4444444444444444,
              "#bd3786"
             ],
             [
              0.5555555555555556,
              "#d8576b"
             ],
             [
              0.6666666666666666,
              "#ed7953"
             ],
             [
              0.7777777777777778,
              "#fb9f3a"
             ],
             [
              0.8888888888888888,
              "#fdca26"
             ],
             [
              1,
              "#f0f921"
             ]
            ],
            "type": "histogram2d"
           }
          ],
          "histogram2dcontour": [
           {
            "colorbar": {
             "outlinewidth": 0,
             "ticks": ""
            },
            "colorscale": [
             [
              0,
              "#0d0887"
             ],
             [
              0.1111111111111111,
              "#46039f"
             ],
             [
              0.2222222222222222,
              "#7201a8"
             ],
             [
              0.3333333333333333,
              "#9c179e"
             ],
             [
              0.4444444444444444,
              "#bd3786"
             ],
             [
              0.5555555555555556,
              "#d8576b"
             ],
             [
              0.6666666666666666,
              "#ed7953"
             ],
             [
              0.7777777777777778,
              "#fb9f3a"
             ],
             [
              0.8888888888888888,
              "#fdca26"
             ],
             [
              1,
              "#f0f921"
             ]
            ],
            "type": "histogram2dcontour"
           }
          ],
          "mesh3d": [
           {
            "colorbar": {
             "outlinewidth": 0,
             "ticks": ""
            },
            "type": "mesh3d"
           }
          ],
          "parcoords": [
           {
            "line": {
             "colorbar": {
              "outlinewidth": 0,
              "ticks": ""
             }
            },
            "type": "parcoords"
           }
          ],
          "pie": [
           {
            "automargin": true,
            "type": "pie"
           }
          ],
          "scatter": [
           {
            "fillpattern": {
             "fillmode": "overlay",
             "size": 10,
             "solidity": 0.2
            },
            "type": "scatter"
           }
          ],
          "scatter3d": [
           {
            "line": {
             "colorbar": {
              "outlinewidth": 0,
              "ticks": ""
             }
            },
            "marker": {
             "colorbar": {
              "outlinewidth": 0,
              "ticks": ""
             }
            },
            "type": "scatter3d"
           }
          ],
          "scattercarpet": [
           {
            "marker": {
             "colorbar": {
              "outlinewidth": 0,
              "ticks": ""
             }
            },
            "type": "scattercarpet"
           }
          ],
          "scattergeo": [
           {
            "marker": {
             "colorbar": {
              "outlinewidth": 0,
              "ticks": ""
             }
            },
            "type": "scattergeo"
           }
          ],
          "scattergl": [
           {
            "marker": {
             "colorbar": {
              "outlinewidth": 0,
              "ticks": ""
             }
            },
            "type": "scattergl"
           }
          ],
          "scattermapbox": [
           {
            "marker": {
             "colorbar": {
              "outlinewidth": 0,
              "ticks": ""
             }
            },
            "type": "scattermapbox"
           }
          ],
          "scatterpolar": [
           {
            "marker": {
             "colorbar": {
              "outlinewidth": 0,
              "ticks": ""
             }
            },
            "type": "scatterpolar"
           }
          ],
          "scatterpolargl": [
           {
            "marker": {
             "colorbar": {
              "outlinewidth": 0,
              "ticks": ""
             }
            },
            "type": "scatterpolargl"
           }
          ],
          "scatterternary": [
           {
            "marker": {
             "colorbar": {
              "outlinewidth": 0,
              "ticks": ""
             }
            },
            "type": "scatterternary"
           }
          ],
          "surface": [
           {
            "colorbar": {
             "outlinewidth": 0,
             "ticks": ""
            },
            "colorscale": [
             [
              0,
              "#0d0887"
             ],
             [
              0.1111111111111111,
              "#46039f"
             ],
             [
              0.2222222222222222,
              "#7201a8"
             ],
             [
              0.3333333333333333,
              "#9c179e"
             ],
             [
              0.4444444444444444,
              "#bd3786"
             ],
             [
              0.5555555555555556,
              "#d8576b"
             ],
             [
              0.6666666666666666,
              "#ed7953"
             ],
             [
              0.7777777777777778,
              "#fb9f3a"
             ],
             [
              0.8888888888888888,
              "#fdca26"
             ],
             [
              1,
              "#f0f921"
             ]
            ],
            "type": "surface"
           }
          ],
          "table": [
           {
            "cells": {
             "fill": {
              "color": "#EBF0F8"
             },
             "line": {
              "color": "white"
             }
            },
            "header": {
             "fill": {
              "color": "#C8D4E3"
             },
             "line": {
              "color": "white"
             }
            },
            "type": "table"
           }
          ]
         },
         "layout": {
          "annotationdefaults": {
           "arrowcolor": "#2a3f5f",
           "arrowhead": 0,
           "arrowwidth": 1
          },
          "autotypenumbers": "strict",
          "coloraxis": {
           "colorbar": {
            "outlinewidth": 0,
            "ticks": ""
           }
          },
          "colorscale": {
           "diverging": [
            [
             0,
             "#8e0152"
            ],
            [
             0.1,
             "#c51b7d"
            ],
            [
             0.2,
             "#de77ae"
            ],
            [
             0.3,
             "#f1b6da"
            ],
            [
             0.4,
             "#fde0ef"
            ],
            [
             0.5,
             "#f7f7f7"
            ],
            [
             0.6,
             "#e6f5d0"
            ],
            [
             0.7,
             "#b8e186"
            ],
            [
             0.8,
             "#7fbc41"
            ],
            [
             0.9,
             "#4d9221"
            ],
            [
             1,
             "#276419"
            ]
           ],
           "sequential": [
            [
             0,
             "#0d0887"
            ],
            [
             0.1111111111111111,
             "#46039f"
            ],
            [
             0.2222222222222222,
             "#7201a8"
            ],
            [
             0.3333333333333333,
             "#9c179e"
            ],
            [
             0.4444444444444444,
             "#bd3786"
            ],
            [
             0.5555555555555556,
             "#d8576b"
            ],
            [
             0.6666666666666666,
             "#ed7953"
            ],
            [
             0.7777777777777778,
             "#fb9f3a"
            ],
            [
             0.8888888888888888,
             "#fdca26"
            ],
            [
             1,
             "#f0f921"
            ]
           ],
           "sequentialminus": [
            [
             0,
             "#0d0887"
            ],
            [
             0.1111111111111111,
             "#46039f"
            ],
            [
             0.2222222222222222,
             "#7201a8"
            ],
            [
             0.3333333333333333,
             "#9c179e"
            ],
            [
             0.4444444444444444,
             "#bd3786"
            ],
            [
             0.5555555555555556,
             "#d8576b"
            ],
            [
             0.6666666666666666,
             "#ed7953"
            ],
            [
             0.7777777777777778,
             "#fb9f3a"
            ],
            [
             0.8888888888888888,
             "#fdca26"
            ],
            [
             1,
             "#f0f921"
            ]
           ]
          },
          "colorway": [
           "#636efa",
           "#EF553B",
           "#00cc96",
           "#ab63fa",
           "#FFA15A",
           "#19d3f3",
           "#FF6692",
           "#B6E880",
           "#FF97FF",
           "#FECB52"
          ],
          "font": {
           "color": "#2a3f5f"
          },
          "geo": {
           "bgcolor": "white",
           "lakecolor": "white",
           "landcolor": "#E5ECF6",
           "showlakes": true,
           "showland": true,
           "subunitcolor": "white"
          },
          "hoverlabel": {
           "align": "left"
          },
          "hovermode": "closest",
          "mapbox": {
           "style": "light"
          },
          "paper_bgcolor": "white",
          "plot_bgcolor": "#E5ECF6",
          "polar": {
           "angularaxis": {
            "gridcolor": "white",
            "linecolor": "white",
            "ticks": ""
           },
           "bgcolor": "#E5ECF6",
           "radialaxis": {
            "gridcolor": "white",
            "linecolor": "white",
            "ticks": ""
           }
          },
          "scene": {
           "xaxis": {
            "backgroundcolor": "#E5ECF6",
            "gridcolor": "white",
            "gridwidth": 2,
            "linecolor": "white",
            "showbackground": true,
            "ticks": "",
            "zerolinecolor": "white"
           },
           "yaxis": {
            "backgroundcolor": "#E5ECF6",
            "gridcolor": "white",
            "gridwidth": 2,
            "linecolor": "white",
            "showbackground": true,
            "ticks": "",
            "zerolinecolor": "white"
           },
           "zaxis": {
            "backgroundcolor": "#E5ECF6",
            "gridcolor": "white",
            "gridwidth": 2,
            "linecolor": "white",
            "showbackground": true,
            "ticks": "",
            "zerolinecolor": "white"
           }
          },
          "shapedefaults": {
           "line": {
            "color": "#2a3f5f"
           }
          },
          "ternary": {
           "aaxis": {
            "gridcolor": "white",
            "linecolor": "white",
            "ticks": ""
           },
           "baxis": {
            "gridcolor": "white",
            "linecolor": "white",
            "ticks": ""
           },
           "bgcolor": "#E5ECF6",
           "caxis": {
            "gridcolor": "white",
            "linecolor": "white",
            "ticks": ""
           }
          },
          "title": {
           "x": 0.05
          },
          "xaxis": {
           "automargin": true,
           "gridcolor": "white",
           "linecolor": "white",
           "ticks": "",
           "title": {
            "standoff": 15
           },
           "zerolinecolor": "white",
           "zerolinewidth": 2
          },
          "yaxis": {
           "automargin": true,
           "gridcolor": "white",
           "linecolor": "white",
           "ticks": "",
           "title": {
            "standoff": 15
           },
           "zerolinecolor": "white",
           "zerolinewidth": 2
          }
         }
        },
        "xaxis": {
         "anchor": "y",
         "domain": [
          0,
          1
         ],
         "title": {
          "text": "x"
         }
        },
        "yaxis": {
         "anchor": "x",
         "domain": [
          0,
          1
         ],
         "title": {
          "text": "y"
         }
        }
       }
      }
     },
     "metadata": {},
     "output_type": "display_data"
    }
   ],
   "source": [
    "px.line(x=df.ds,y=df.y)"
   ]
  },
  {
   "cell_type": "code",
   "execution_count": 13,
   "metadata": {},
   "outputs": [
    {
     "name": "stdout",
     "output_type": "stream",
     "text": [
      "<TimeSeries (DataArray) (ds: 10, component: 1, sample: 1)> Size: 80B\n",
      "array([[[5845.66916526]],\n",
      "\n",
      "       [[5830.93687906]],\n",
      "\n",
      "       [[5834.35500061]],\n",
      "\n",
      "       [[5862.69818983]],\n",
      "\n",
      "       [[5864.721968  ]],\n",
      "\n",
      "       [[5913.34354008]],\n",
      "\n",
      "       [[5901.23424356]],\n",
      "\n",
      "       [[5949.72463843]],\n",
      "\n",
      "       [[5915.59288388]],\n",
      "\n",
      "       [[5929.16387931]]])\n",
      "Coordinates:\n",
      "  * ds         (ds) datetime64[ns] 80B 2019-05-13 2019-05-14 ... 2019-05-22\n",
      "  * component  (component) object 8B 'y'\n",
      "Dimensions without coordinates: sample\n",
      "Attributes:\n",
      "    static_covariates:  None\n",
      "    hierarchy:          None\n"
     ]
    }
   ],
   "source": [
    "print(x)"
   ]
  },
  {
   "cell_type": "code",
   "execution_count": 2,
   "metadata": {},
   "outputs": [
    {
     "data": {
      "text/html": [
       "<div>\n",
       "<style scoped>\n",
       "    .dataframe tbody tr th:only-of-type {\n",
       "        vertical-align: middle;\n",
       "    }\n",
       "\n",
       "    .dataframe tbody tr th {\n",
       "        vertical-align: top;\n",
       "    }\n",
       "\n",
       "    .dataframe thead th {\n",
       "        text-align: right;\n",
       "    }\n",
       "</style>\n",
       "<table border=\"1\" class=\"dataframe\">\n",
       "  <thead>\n",
       "    <tr style=\"text-align: right;\">\n",
       "      <th></th>\n",
       "      <th>unique_id</th>\n",
       "      <th>ds</th>\n",
       "      <th>y</th>\n",
       "      <th>trend</th>\n",
       "      <th>y_[lag12]</th>\n",
       "    </tr>\n",
       "  </thead>\n",
       "  <tbody>\n",
       "    <tr>\n",
       "      <th>0</th>\n",
       "      <td>Airline1</td>\n",
       "      <td>1949-01-31</td>\n",
       "      <td>112.0</td>\n",
       "      <td>0</td>\n",
       "      <td>112.0</td>\n",
       "    </tr>\n",
       "    <tr>\n",
       "      <th>1</th>\n",
       "      <td>Airline1</td>\n",
       "      <td>1949-02-28</td>\n",
       "      <td>118.0</td>\n",
       "      <td>1</td>\n",
       "      <td>118.0</td>\n",
       "    </tr>\n",
       "    <tr>\n",
       "      <th>2</th>\n",
       "      <td>Airline1</td>\n",
       "      <td>1949-03-31</td>\n",
       "      <td>132.0</td>\n",
       "      <td>2</td>\n",
       "      <td>132.0</td>\n",
       "    </tr>\n",
       "    <tr>\n",
       "      <th>3</th>\n",
       "      <td>Airline1</td>\n",
       "      <td>1949-04-30</td>\n",
       "      <td>129.0</td>\n",
       "      <td>3</td>\n",
       "      <td>129.0</td>\n",
       "    </tr>\n",
       "    <tr>\n",
       "      <th>4</th>\n",
       "      <td>Airline1</td>\n",
       "      <td>1949-05-31</td>\n",
       "      <td>121.0</td>\n",
       "      <td>4</td>\n",
       "      <td>121.0</td>\n",
       "    </tr>\n",
       "  </tbody>\n",
       "</table>\n",
       "</div>"
      ],
      "text/plain": [
       "  unique_id         ds      y  trend  y_[lag12]\n",
       "0  Airline1 1949-01-31  112.0      0      112.0\n",
       "1  Airline1 1949-02-28  118.0      1      118.0\n",
       "2  Airline1 1949-03-31  132.0      2      132.0\n",
       "3  Airline1 1949-04-30  129.0      3      129.0\n",
       "4  Airline1 1949-05-31  121.0      4      121.0"
      ]
     },
     "execution_count": 2,
     "metadata": {},
     "output_type": "execute_result"
    }
   ],
   "source": [
    "AirPassengersPanel.head()"
   ]
  },
  {
   "cell_type": "code",
   "execution_count": 3,
   "metadata": {},
   "outputs": [
    {
     "data": {
      "text/plain": [
       "(288, 5)"
      ]
     },
     "execution_count": 3,
     "metadata": {},
     "output_type": "execute_result"
    }
   ],
   "source": [
    "AirPassengersPanel.shape"
   ]
  },
  {
   "cell_type": "code",
   "execution_count": 4,
   "metadata": {},
   "outputs": [
    {
     "data": {
      "text/plain": [
       "(264, 5)"
      ]
     },
     "execution_count": 4,
     "metadata": {},
     "output_type": "execute_result"
    }
   ],
   "source": [
    "Y_train_df = AirPassengersPanel[AirPassengersPanel.ds<AirPassengersPanel['ds'].values[-12]] # 132 train\n",
    "Y_train_df.shape"
   ]
  },
  {
   "cell_type": "code",
   "execution_count": 5,
   "metadata": {},
   "outputs": [
    {
     "data": {
      "text/html": [
       "<div>\n",
       "<style scoped>\n",
       "    .dataframe tbody tr th:only-of-type {\n",
       "        vertical-align: middle;\n",
       "    }\n",
       "\n",
       "    .dataframe tbody tr th {\n",
       "        vertical-align: top;\n",
       "    }\n",
       "\n",
       "    .dataframe thead th {\n",
       "        text-align: right;\n",
       "    }\n",
       "</style>\n",
       "<table border=\"1\" class=\"dataframe\">\n",
       "  <thead>\n",
       "    <tr style=\"text-align: right;\">\n",
       "      <th></th>\n",
       "      <th>unique_id</th>\n",
       "      <th>ds</th>\n",
       "      <th>y</th>\n",
       "      <th>trend</th>\n",
       "      <th>y_[lag12]</th>\n",
       "    </tr>\n",
       "  </thead>\n",
       "  <tbody>\n",
       "    <tr>\n",
       "      <th>0</th>\n",
       "      <td>Airline1</td>\n",
       "      <td>1949-01-31</td>\n",
       "      <td>112.0</td>\n",
       "      <td>0</td>\n",
       "      <td>112.0</td>\n",
       "    </tr>\n",
       "    <tr>\n",
       "      <th>1</th>\n",
       "      <td>Airline1</td>\n",
       "      <td>1949-02-28</td>\n",
       "      <td>118.0</td>\n",
       "      <td>1</td>\n",
       "      <td>118.0</td>\n",
       "    </tr>\n",
       "    <tr>\n",
       "      <th>2</th>\n",
       "      <td>Airline1</td>\n",
       "      <td>1949-03-31</td>\n",
       "      <td>132.0</td>\n",
       "      <td>2</td>\n",
       "      <td>132.0</td>\n",
       "    </tr>\n",
       "    <tr>\n",
       "      <th>3</th>\n",
       "      <td>Airline1</td>\n",
       "      <td>1949-04-30</td>\n",
       "      <td>129.0</td>\n",
       "      <td>3</td>\n",
       "      <td>129.0</td>\n",
       "    </tr>\n",
       "    <tr>\n",
       "      <th>4</th>\n",
       "      <td>Airline1</td>\n",
       "      <td>1949-05-31</td>\n",
       "      <td>121.0</td>\n",
       "      <td>4</td>\n",
       "      <td>121.0</td>\n",
       "    </tr>\n",
       "    <tr>\n",
       "      <th>...</th>\n",
       "      <td>...</td>\n",
       "      <td>...</td>\n",
       "      <td>...</td>\n",
       "      <td>...</td>\n",
       "      <td>...</td>\n",
       "    </tr>\n",
       "    <tr>\n",
       "      <th>157</th>\n",
       "      <td>Airline2</td>\n",
       "      <td>1950-02-28</td>\n",
       "      <td>426.0</td>\n",
       "      <td>157</td>\n",
       "      <td>418.0</td>\n",
       "    </tr>\n",
       "    <tr>\n",
       "      <th>158</th>\n",
       "      <td>Airline2</td>\n",
       "      <td>1950-03-31</td>\n",
       "      <td>441.0</td>\n",
       "      <td>158</td>\n",
       "      <td>432.0</td>\n",
       "    </tr>\n",
       "    <tr>\n",
       "      <th>159</th>\n",
       "      <td>Airline2</td>\n",
       "      <td>1950-04-30</td>\n",
       "      <td>435.0</td>\n",
       "      <td>159</td>\n",
       "      <td>429.0</td>\n",
       "    </tr>\n",
       "    <tr>\n",
       "      <th>160</th>\n",
       "      <td>Airline2</td>\n",
       "      <td>1950-05-31</td>\n",
       "      <td>425.0</td>\n",
       "      <td>160</td>\n",
       "      <td>421.0</td>\n",
       "    </tr>\n",
       "    <tr>\n",
       "      <th>161</th>\n",
       "      <td>Airline2</td>\n",
       "      <td>1950-06-30</td>\n",
       "      <td>449.0</td>\n",
       "      <td>161</td>\n",
       "      <td>435.0</td>\n",
       "    </tr>\n",
       "  </tbody>\n",
       "</table>\n",
       "<p>150 rows × 5 columns</p>\n",
       "</div>"
      ],
      "text/plain": [
       "    unique_id         ds      y  trend  y_[lag12]\n",
       "0    Airline1 1949-01-31  112.0      0      112.0\n",
       "1    Airline1 1949-02-28  118.0      1      118.0\n",
       "2    Airline1 1949-03-31  132.0      2      132.0\n",
       "3    Airline1 1949-04-30  129.0      3      129.0\n",
       "4    Airline1 1949-05-31  121.0      4      121.0\n",
       "..        ...        ...    ...    ...        ...\n",
       "157  Airline2 1950-02-28  426.0    157      418.0\n",
       "158  Airline2 1950-03-31  441.0    158      432.0\n",
       "159  Airline2 1950-04-30  435.0    159      429.0\n",
       "160  Airline2 1950-05-31  425.0    160      421.0\n",
       "161  Airline2 1950-06-30  449.0    161      435.0\n",
       "\n",
       "[150 rows x 5 columns]"
      ]
     },
     "execution_count": 5,
     "metadata": {},
     "output_type": "execute_result"
    }
   ],
   "source": [
    "Y_train_df.head(150)"
   ]
  },
  {
   "cell_type": "code",
   "execution_count": 6,
   "metadata": {},
   "outputs": [
    {
     "data": {
      "text/html": [
       "<div>\n",
       "<style scoped>\n",
       "    .dataframe tbody tr th:only-of-type {\n",
       "        vertical-align: middle;\n",
       "    }\n",
       "\n",
       "    .dataframe tbody tr th {\n",
       "        vertical-align: top;\n",
       "    }\n",
       "\n",
       "    .dataframe thead th {\n",
       "        text-align: right;\n",
       "    }\n",
       "</style>\n",
       "<table border=\"1\" class=\"dataframe\">\n",
       "  <thead>\n",
       "    <tr style=\"text-align: right;\">\n",
       "      <th></th>\n",
       "      <th>unique_id</th>\n",
       "      <th>ds</th>\n",
       "      <th>y</th>\n",
       "      <th>trend</th>\n",
       "      <th>y_[lag12]</th>\n",
       "    </tr>\n",
       "  </thead>\n",
       "  <tbody>\n",
       "    <tr>\n",
       "      <th>271</th>\n",
       "      <td>Airline2</td>\n",
       "      <td>1959-08-31</td>\n",
       "      <td>859.0</td>\n",
       "      <td>271</td>\n",
       "      <td>805.0</td>\n",
       "    </tr>\n",
       "    <tr>\n",
       "      <th>272</th>\n",
       "      <td>Airline2</td>\n",
       "      <td>1959-09-30</td>\n",
       "      <td>763.0</td>\n",
       "      <td>272</td>\n",
       "      <td>704.0</td>\n",
       "    </tr>\n",
       "    <tr>\n",
       "      <th>273</th>\n",
       "      <td>Airline2</td>\n",
       "      <td>1959-10-31</td>\n",
       "      <td>707.0</td>\n",
       "      <td>273</td>\n",
       "      <td>659.0</td>\n",
       "    </tr>\n",
       "    <tr>\n",
       "      <th>274</th>\n",
       "      <td>Airline2</td>\n",
       "      <td>1959-11-30</td>\n",
       "      <td>662.0</td>\n",
       "      <td>274</td>\n",
       "      <td>610.0</td>\n",
       "    </tr>\n",
       "    <tr>\n",
       "      <th>275</th>\n",
       "      <td>Airline2</td>\n",
       "      <td>1959-12-31</td>\n",
       "      <td>705.0</td>\n",
       "      <td>275</td>\n",
       "      <td>637.0</td>\n",
       "    </tr>\n",
       "  </tbody>\n",
       "</table>\n",
       "</div>"
      ],
      "text/plain": [
       "    unique_id         ds      y  trend  y_[lag12]\n",
       "271  Airline2 1959-08-31  859.0    271      805.0\n",
       "272  Airline2 1959-09-30  763.0    272      704.0\n",
       "273  Airline2 1959-10-31  707.0    273      659.0\n",
       "274  Airline2 1959-11-30  662.0    274      610.0\n",
       "275  Airline2 1959-12-31  705.0    275      637.0"
      ]
     },
     "execution_count": 6,
     "metadata": {},
     "output_type": "execute_result"
    }
   ],
   "source": [
    "Y_train_df.tail()"
   ]
  },
  {
   "cell_type": "code",
   "execution_count": 7,
   "metadata": {},
   "outputs": [
    {
     "data": {
      "text/plain": [
       "[<matplotlib.lines.Line2D at 0x76caa3a76cf0>]"
      ]
     },
     "execution_count": 7,
     "metadata": {},
     "output_type": "execute_result"
    },
    {
     "data": {
      "image/png": "[encoded data removed]",
      "text/plain": [
       "<Figure size 640x480 with 1 Axes>"
      ]
     },
     "metadata": {},
     "output_type": "display_data"
    }
   ],
   "source": [
    "test_df = Y_train_df.reset_index().set_index(\"ds\")\n",
    "plt.plot(test_df['y'])"
   ]
  },
  {
   "cell_type": "code",
   "execution_count": 8,
   "metadata": {},
   "outputs": [
    {
     "data": {
      "text/plain": [
       "(24, 5)"
      ]
     },
     "execution_count": 8,
     "metadata": {},
     "output_type": "execute_result"
    }
   ],
   "source": [
    "Y_test_df = AirPassengersPanel[AirPassengersPanel.ds>=AirPassengersPanel['ds'].values[-12]].reset_index(drop=True) # 12 test\n",
    "Y_test_df.shape"
   ]
  },
  {
   "cell_type": "code",
   "execution_count": 9,
   "metadata": {},
   "outputs": [
    {
     "data": {
      "text/html": [
       "<div>\n",
       "<style scoped>\n",
       "    .dataframe tbody tr th:only-of-type {\n",
       "        vertical-align: middle;\n",
       "    }\n",
       "\n",
       "    .dataframe tbody tr th {\n",
       "        vertical-align: top;\n",
       "    }\n",
       "\n",
       "    .dataframe thead th {\n",
       "        text-align: right;\n",
       "    }\n",
       "</style>\n",
       "<table border=\"1\" class=\"dataframe\">\n",
       "  <thead>\n",
       "    <tr style=\"text-align: right;\">\n",
       "      <th></th>\n",
       "      <th>unique_id</th>\n",
       "      <th>ds</th>\n",
       "      <th>y</th>\n",
       "      <th>trend</th>\n",
       "      <th>y_[lag12]</th>\n",
       "    </tr>\n",
       "  </thead>\n",
       "  <tbody>\n",
       "    <tr>\n",
       "      <th>0</th>\n",
       "      <td>Airline1</td>\n",
       "      <td>1960-01-31</td>\n",
       "      <td>417.0</td>\n",
       "      <td>132</td>\n",
       "      <td>360.0</td>\n",
       "    </tr>\n",
       "    <tr>\n",
       "      <th>1</th>\n",
       "      <td>Airline1</td>\n",
       "      <td>1960-02-29</td>\n",
       "      <td>391.0</td>\n",
       "      <td>133</td>\n",
       "      <td>342.0</td>\n",
       "    </tr>\n",
       "    <tr>\n",
       "      <th>2</th>\n",
       "      <td>Airline1</td>\n",
       "      <td>1960-03-31</td>\n",
       "      <td>419.0</td>\n",
       "      <td>134</td>\n",
       "      <td>406.0</td>\n",
       "    </tr>\n",
       "    <tr>\n",
       "      <th>3</th>\n",
       "      <td>Airline1</td>\n",
       "      <td>1960-04-30</td>\n",
       "      <td>461.0</td>\n",
       "      <td>135</td>\n",
       "      <td>396.0</td>\n",
       "    </tr>\n",
       "    <tr>\n",
       "      <th>4</th>\n",
       "      <td>Airline1</td>\n",
       "      <td>1960-05-31</td>\n",
       "      <td>472.0</td>\n",
       "      <td>136</td>\n",
       "      <td>420.0</td>\n",
       "    </tr>\n",
       "    <tr>\n",
       "      <th>5</th>\n",
       "      <td>Airline1</td>\n",
       "      <td>1960-06-30</td>\n",
       "      <td>535.0</td>\n",
       "      <td>137</td>\n",
       "      <td>472.0</td>\n",
       "    </tr>\n",
       "    <tr>\n",
       "      <th>6</th>\n",
       "      <td>Airline1</td>\n",
       "      <td>1960-07-31</td>\n",
       "      <td>622.0</td>\n",
       "      <td>138</td>\n",
       "      <td>548.0</td>\n",
       "    </tr>\n",
       "    <tr>\n",
       "      <th>7</th>\n",
       "      <td>Airline1</td>\n",
       "      <td>1960-08-31</td>\n",
       "      <td>606.0</td>\n",
       "      <td>139</td>\n",
       "      <td>559.0</td>\n",
       "    </tr>\n",
       "    <tr>\n",
       "      <th>8</th>\n",
       "      <td>Airline1</td>\n",
       "      <td>1960-09-30</td>\n",
       "      <td>508.0</td>\n",
       "      <td>140</td>\n",
       "      <td>463.0</td>\n",
       "    </tr>\n",
       "    <tr>\n",
       "      <th>9</th>\n",
       "      <td>Airline1</td>\n",
       "      <td>1960-10-31</td>\n",
       "      <td>461.0</td>\n",
       "      <td>141</td>\n",
       "      <td>407.0</td>\n",
       "    </tr>\n",
       "    <tr>\n",
       "      <th>10</th>\n",
       "      <td>Airline1</td>\n",
       "      <td>1960-11-30</td>\n",
       "      <td>390.0</td>\n",
       "      <td>142</td>\n",
       "      <td>362.0</td>\n",
       "    </tr>\n",
       "    <tr>\n",
       "      <th>11</th>\n",
       "      <td>Airline1</td>\n",
       "      <td>1960-12-31</td>\n",
       "      <td>432.0</td>\n",
       "      <td>143</td>\n",
       "      <td>405.0</td>\n",
       "    </tr>\n",
       "    <tr>\n",
       "      <th>12</th>\n",
       "      <td>Airline2</td>\n",
       "      <td>1960-01-31</td>\n",
       "      <td>717.0</td>\n",
       "      <td>276</td>\n",
       "      <td>660.0</td>\n",
       "    </tr>\n",
       "    <tr>\n",
       "      <th>13</th>\n",
       "      <td>Airline2</td>\n",
       "      <td>1960-02-29</td>\n",
       "      <td>691.0</td>\n",
       "      <td>277</td>\n",
       "      <td>642.0</td>\n",
       "    </tr>\n",
       "    <tr>\n",
       "      <th>14</th>\n",
       "      <td>Airline2</td>\n",
       "      <td>1960-03-31</td>\n",
       "      <td>719.0</td>\n",
       "      <td>278</td>\n",
       "      <td>706.0</td>\n",
       "    </tr>\n",
       "    <tr>\n",
       "      <th>15</th>\n",
       "      <td>Airline2</td>\n",
       "      <td>1960-04-30</td>\n",
       "      <td>761.0</td>\n",
       "      <td>279</td>\n",
       "      <td>696.0</td>\n",
       "    </tr>\n",
       "    <tr>\n",
       "      <th>16</th>\n",
       "      <td>Airline2</td>\n",
       "      <td>1960-05-31</td>\n",
       "      <td>772.0</td>\n",
       "      <td>280</td>\n",
       "      <td>720.0</td>\n",
       "    </tr>\n",
       "    <tr>\n",
       "      <th>17</th>\n",
       "      <td>Airline2</td>\n",
       "      <td>1960-06-30</td>\n",
       "      <td>835.0</td>\n",
       "      <td>281</td>\n",
       "      <td>772.0</td>\n",
       "    </tr>\n",
       "    <tr>\n",
       "      <th>18</th>\n",
       "      <td>Airline2</td>\n",
       "      <td>1960-07-31</td>\n",
       "      <td>922.0</td>\n",
       "      <td>282</td>\n",
       "      <td>848.0</td>\n",
       "    </tr>\n",
       "    <tr>\n",
       "      <th>19</th>\n",
       "      <td>Airline2</td>\n",
       "      <td>1960-08-31</td>\n",
       "      <td>906.0</td>\n",
       "      <td>283</td>\n",
       "      <td>859.0</td>\n",
       "    </tr>\n",
       "    <tr>\n",
       "      <th>20</th>\n",
       "      <td>Airline2</td>\n",
       "      <td>1960-09-30</td>\n",
       "      <td>808.0</td>\n",
       "      <td>284</td>\n",
       "      <td>763.0</td>\n",
       "    </tr>\n",
       "    <tr>\n",
       "      <th>21</th>\n",
       "      <td>Airline2</td>\n",
       "      <td>1960-10-31</td>\n",
       "      <td>761.0</td>\n",
       "      <td>285</td>\n",
       "      <td>707.0</td>\n",
       "    </tr>\n",
       "    <tr>\n",
       "      <th>22</th>\n",
       "      <td>Airline2</td>\n",
       "      <td>1960-11-30</td>\n",
       "      <td>690.0</td>\n",
       "      <td>286</td>\n",
       "      <td>662.0</td>\n",
       "    </tr>\n",
       "    <tr>\n",
       "      <th>23</th>\n",
       "      <td>Airline2</td>\n",
       "      <td>1960-12-31</td>\n",
       "      <td>732.0</td>\n",
       "      <td>287</td>\n",
       "      <td>705.0</td>\n",
       "    </tr>\n",
       "  </tbody>\n",
       "</table>\n",
       "</div>"
      ],
      "text/plain": [
       "   unique_id         ds      y  trend  y_[lag12]\n",
       "0   Airline1 1960-01-31  417.0    132      360.0\n",
       "1   Airline1 1960-02-29  391.0    133      342.0\n",
       "2   Airline1 1960-03-31  419.0    134      406.0\n",
       "3   Airline1 1960-04-30  461.0    135      396.0\n",
       "4   Airline1 1960-05-31  472.0    136      420.0\n",
       "5   Airline1 1960-06-30  535.0    137      472.0\n",
       "6   Airline1 1960-07-31  622.0    138      548.0\n",
       "7   Airline1 1960-08-31  606.0    139      559.0\n",
       "8   Airline1 1960-09-30  508.0    140      463.0\n",
       "9   Airline1 1960-10-31  461.0    141      407.0\n",
       "10  Airline1 1960-11-30  390.0    142      362.0\n",
       "11  Airline1 1960-12-31  432.0    143      405.0\n",
       "12  Airline2 1960-01-31  717.0    276      660.0\n",
       "13  Airline2 1960-02-29  691.0    277      642.0\n",
       "14  Airline2 1960-03-31  719.0    278      706.0\n",
       "15  Airline2 1960-04-30  761.0    279      696.0\n",
       "16  Airline2 1960-05-31  772.0    280      720.0\n",
       "17  Airline2 1960-06-30  835.0    281      772.0\n",
       "18  Airline2 1960-07-31  922.0    282      848.0\n",
       "19  Airline2 1960-08-31  906.0    283      859.0\n",
       "20  Airline2 1960-09-30  808.0    284      763.0\n",
       "21  Airline2 1960-10-31  761.0    285      707.0\n",
       "22  Airline2 1960-11-30  690.0    286      662.0\n",
       "23  Airline2 1960-12-31  732.0    287      705.0"
      ]
     },
     "execution_count": 9,
     "metadata": {},
     "output_type": "execute_result"
    }
   ],
   "source": [
    "Y_test_df.head(24)"
   ]
  },
  {
   "cell_type": "code",
   "execution_count": 10,
   "metadata": {},
   "outputs": [
    {
     "data": {
      "text/html": [
       "<div>\n",
       "<style scoped>\n",
       "    .dataframe tbody tr th:only-of-type {\n",
       "        vertical-align: middle;\n",
       "    }\n",
       "\n",
       "    .dataframe tbody tr th {\n",
       "        vertical-align: top;\n",
       "    }\n",
       "\n",
       "    .dataframe thead th {\n",
       "        text-align: right;\n",
       "    }\n",
       "</style>\n",
       "<table border=\"1\" class=\"dataframe\">\n",
       "  <thead>\n",
       "    <tr style=\"text-align: right;\">\n",
       "      <th></th>\n",
       "      <th>unique_id</th>\n",
       "      <th>airline1</th>\n",
       "      <th>airline2</th>\n",
       "    </tr>\n",
       "  </thead>\n",
       "  <tbody>\n",
       "    <tr>\n",
       "      <th>0</th>\n",
       "      <td>Airline1</td>\n",
       "      <td>0</td>\n",
       "      <td>1</td>\n",
       "    </tr>\n",
       "    <tr>\n",
       "      <th>1</th>\n",
       "      <td>Airline2</td>\n",
       "      <td>1</td>\n",
       "      <td>0</td>\n",
       "    </tr>\n",
       "  </tbody>\n",
       "</table>\n",
       "</div>"
      ],
      "text/plain": [
       "  unique_id  airline1  airline2\n",
       "0  Airline1         0         1\n",
       "1  Airline2         1         0"
      ]
     },
     "execution_count": 10,
     "metadata": {},
     "output_type": "execute_result"
    }
   ],
   "source": [
    "AirPassengersStatic"
   ]
  },
  {
   "cell_type": "code",
   "execution_count": 11,
   "metadata": {},
   "outputs": [
    {
     "name": "stderr",
     "output_type": "stream",
     "text": [
      "Seed set to 1\n",
      "GPU available: False, used: False\n",
      "TPU available: False, using: 0 TPU cores\n",
      "HPU available: False, using: 0 HPUs\n",
      "2024-10-03 05:31:12.045624: E external/local_xla/xla/stream_executor/cuda/cuda_fft.cc:485] Unable to register cuFFT factory: Attempting to register factory for plugin cuFFT when one has already been registered\n",
      "2024-10-03 05:31:12.073690: E external/local_xla/xla/stream_executor/cuda/cuda_dnn.cc:8454] Unable to register cuDNN factory: Attempting to register factory for plugin cuDNN when one has already been registered\n",
      "2024-10-03 05:31:12.081980: E external/local_xla/xla/stream_executor/cuda/cuda_blas.cc:1452] Unable to register cuBLAS factory: Attempting to register factory for plugin cuBLAS when one has already been registered\n",
      "2024-10-03 05:31:12.103069: I tensorflow/core/platform/cpu_feature_guard.cc:210] This TensorFlow binary is optimized to use available CPU instructions in performance-critical operations.\n",
      "To enable the following instructions: AVX2 FMA, in other operations, rebuild TensorFlow with the appropriate compiler flags.\n",
      "2024-10-03 05:31:13.776320: W tensorflow/compiler/tf2tensorrt/utils/py_utils.cc:38] TF-TRT Warning: Could not find TensorRT\n",
      "\n",
      "  | Name         | Type             | Params | Mode \n",
      "----------------------------------------------------------\n",
      "0 | loss         | DistributionLoss | 5      | train\n",
      "1 | padder_train | ConstantPad1d    | 0      | train\n",
      "2 | scaler       | TemporalNorm     | 0      | train\n",
      "3 | blocks       | ModuleList       | 2.4 M  | train\n",
      "----------------------------------------------------------\n",
      "2.4 M     Trainable params\n",
      "905       Non-trainable params\n",
      "2.4 M     Total params\n",
      "9.789     Total estimated model params size (MB)\n",
      "31        Modules in train mode\n",
      "0         Modules in eval mode\n"
     ]
    },
    {
     "data": {
      "application/vnd.jupyter.widget-view+json": {
       "model_id": "f248039f96b8413cb924405cd7403382",
       "version_major": 2,
       "version_minor": 0
      },
      "text/plain": [
       "Sanity Checking: |          | 0/? [00:00<?, ?it/s]"
      ]
     },
     "metadata": {},
     "output_type": "display_data"
    },
    {
     "data": {
      "application/vnd.jupyter.widget-view+json": {
       "model_id": "2a65b55847f14b4eadb624be1f881f2d",
       "version_major": 2,
       "version_minor": 0
      },
      "text/plain": [
       "Training: |          | 0/? [00:00<?, ?it/s]"
      ]
     },
     "metadata": {},
     "output_type": "display_data"
    },
    {
     "data": {
      "application/vnd.jupyter.widget-view+json": {
       "model_id": "aa7969d2b72b4869ae627989ace1668a",
       "version_major": 2,
       "version_minor": 0
      },
      "text/plain": [
       "Validation: |          | 0/? [00:00<?, ?it/s]"
      ]
     },
     "metadata": {},
     "output_type": "display_data"
    },
    {
     "data": {
      "application/vnd.jupyter.widget-view+json": {
       "model_id": "e8b177792eb8420195be1bf412424330",
       "version_major": 2,
       "version_minor": 0
      },
      "text/plain": [
       "Validation: |          | 0/? [00:00<?, ?it/s]"
      ]
     },
     "metadata": {},
     "output_type": "display_data"
    },
    {
     "data": {
      "application/vnd.jupyter.widget-view+json": {
       "model_id": "028a2769aa5644629b685dff00558961",
       "version_major": 2,
       "version_minor": 0
      },
      "text/plain": [
       "Validation: |          | 0/? [00:00<?, ?it/s]"
      ]
     },
     "metadata": {},
     "output_type": "display_data"
    },
    {
     "data": {
      "application/vnd.jupyter.widget-view+json": {
       "model_id": "8ffef11cfa13409e8f87224b0bdf2bd7",
       "version_major": 2,
       "version_minor": 0
      },
      "text/plain": [
       "Validation: |          | 0/? [00:00<?, ?it/s]"
      ]
     },
     "metadata": {},
     "output_type": "display_data"
    },
    {
     "data": {
      "application/vnd.jupyter.widget-view+json": {
       "model_id": "3ed368bedd6641959088a6235d4051b6",
       "version_major": 2,
       "version_minor": 0
      },
      "text/plain": [
       "Validation: |          | 0/? [00:00<?, ?it/s]"
      ]
     },
     "metadata": {},
     "output_type": "display_data"
    },
    {
     "data": {
      "application/vnd.jupyter.widget-view+json": {
       "model_id": "f397884ee33646cf9c57b48356035347",
       "version_major": 2,
       "version_minor": 0
      },
      "text/plain": [
       "Validation: |          | 0/? [00:00<?, ?it/s]"
      ]
     },
     "metadata": {},
     "output_type": "display_data"
    },
    {
     "data": {
      "application/vnd.jupyter.widget-view+json": {
       "model_id": "575515e2b7dc4baa99a51c88452e41f1",
       "version_major": 2,
       "version_minor": 0
      },
      "text/plain": [
       "Validation: |          | 0/? [00:00<?, ?it/s]"
      ]
     },
     "metadata": {},
     "output_type": "display_data"
    },
    {
     "name": "stderr",
     "output_type": "stream",
     "text": [
      "/home/mukundan/learning/ai_ml/sih_2024_project/sih_2024/sihvenv/lib/python3.12/site-packages/utilsforecast/processing.py:384: FutureWarning: 'M' is deprecated and will be removed in a future version, please use 'ME' instead.\n",
      "  freq = pd.tseries.frequencies.to_offset(freq)\n",
      "/home/mukundan/learning/ai_ml/sih_2024_project/sih_2024/sihvenv/lib/python3.12/site-packages/utilsforecast/processing.py:438: FutureWarning: 'M' is deprecated and will be removed in a future version, please use 'ME' instead.\n",
      "  freq = pd.tseries.frequencies.to_offset(freq)\n",
      "Trainer already configured with model summary callbacks: [<class 'pytorch_lightning.callbacks.model_summary.ModelSummary'>]. Skipping setting a default `ModelSummary` callback.\n",
      "GPU available: False, used: False\n",
      "TPU available: False, using: 0 TPU cores\n",
      "HPU available: False, using: 0 HPUs\n"
     ]
    },
    {
     "data": {
      "application/vnd.jupyter.widget-view+json": {
       "model_id": "9a6c6f34ecf44357a88d695085af6157",
       "version_major": 2,
       "version_minor": 0
      },
      "text/plain": [
       "Predicting: |          | 0/? [00:00<?, ?it/s]"
      ]
     },
     "metadata": {},
     "output_type": "display_data"
    },
    {
     "name": "stderr",
     "output_type": "stream",
     "text": [
      "/home/mukundan/learning/ai_ml/sih_2024_project/sih_2024/sihvenv/lib/python3.12/site-packages/neuralforecast/core.py:210: FutureWarning: In a future version the predictions will have the id as a column. You can set the `NIXTLA_ID_AS_COL` environment variable to adopt the new behavior and to suppress this warning.\n",
      "  warnings.warn(\n"
     ]
    }
   ],
   "source": [
    "model = NBEATS(h=12, input_size=24,\n",
    "               loss=DistributionLoss(distribution='Poisson', level=[80, 90]),\n",
    "               stack_types = ['identity', 'trend', 'seasonality'],\n",
    "               max_steps=100,\n",
    "               val_check_steps=10,\n",
    "               early_stop_patience_steps=2)\n",
    "\n",
    "fcst = NeuralForecast(\n",
    "    models=[model],\n",
    "    freq='M'\n",
    ")\n",
    "# fcst.fit(df=Y_train_df, static_df=AirPassengersStatic, val_size=12)\n",
    "fcst.fit(df=Y_train_df, val_size=12)\n",
    "forecasts = fcst.predict(futr_df=Y_test_df)"
   ]
  },
  {
   "cell_type": "code",
   "execution_count": 12,
   "metadata": {},
   "outputs": [
    {
     "data": {
      "text/html": [
       "<div>\n",
       "<style scoped>\n",
       "    .dataframe tbody tr th:only-of-type {\n",
       "        vertical-align: middle;\n",
       "    }\n",
       "\n",
       "    .dataframe tbody tr th {\n",
       "        vertical-align: top;\n",
       "    }\n",
       "\n",
       "    .dataframe thead th {\n",
       "        text-align: right;\n",
       "    }\n",
       "</style>\n",
       "<table border=\"1\" class=\"dataframe\">\n",
       "  <thead>\n",
       "    <tr style=\"text-align: right;\">\n",
       "      <th></th>\n",
       "      <th>ds</th>\n",
       "      <th>NBEATS</th>\n",
       "      <th>NBEATS-median</th>\n",
       "      <th>NBEATS-lo-90</th>\n",
       "      <th>NBEATS-lo-80</th>\n",
       "      <th>NBEATS-hi-80</th>\n",
       "      <th>NBEATS-hi-90</th>\n",
       "    </tr>\n",
       "    <tr>\n",
       "      <th>unique_id</th>\n",
       "      <th></th>\n",
       "      <th></th>\n",
       "      <th></th>\n",
       "      <th></th>\n",
       "      <th></th>\n",
       "      <th></th>\n",
       "      <th></th>\n",
       "    </tr>\n",
       "  </thead>\n",
       "  <tbody>\n",
       "    <tr>\n",
       "      <th>Airline1</th>\n",
       "      <td>1960-01-31</td>\n",
       "      <td>432.431000</td>\n",
       "      <td>433.0</td>\n",
       "      <td>396.950012</td>\n",
       "      <td>405.000000</td>\n",
       "      <td>459.0</td>\n",
       "      <td>467.000000</td>\n",
       "    </tr>\n",
       "    <tr>\n",
       "      <th>Airline1</th>\n",
       "      <td>1960-02-29</td>\n",
       "      <td>443.500000</td>\n",
       "      <td>443.0</td>\n",
       "      <td>410.000000</td>\n",
       "      <td>417.000000</td>\n",
       "      <td>470.0</td>\n",
       "      <td>478.000000</td>\n",
       "    </tr>\n",
       "    <tr>\n",
       "      <th>Airline1</th>\n",
       "      <td>1960-03-31</td>\n",
       "      <td>449.898010</td>\n",
       "      <td>450.0</td>\n",
       "      <td>415.000000</td>\n",
       "      <td>423.000000</td>\n",
       "      <td>479.0</td>\n",
       "      <td>485.000000</td>\n",
       "    </tr>\n",
       "    <tr>\n",
       "      <th>Airline1</th>\n",
       "      <td>1960-04-30</td>\n",
       "      <td>452.475006</td>\n",
       "      <td>452.0</td>\n",
       "      <td>416.950012</td>\n",
       "      <td>424.000000</td>\n",
       "      <td>479.0</td>\n",
       "      <td>486.000000</td>\n",
       "    </tr>\n",
       "    <tr>\n",
       "      <th>Airline1</th>\n",
       "      <td>1960-05-31</td>\n",
       "      <td>484.932007</td>\n",
       "      <td>485.0</td>\n",
       "      <td>450.000000</td>\n",
       "      <td>457.000000</td>\n",
       "      <td>514.0</td>\n",
       "      <td>523.000000</td>\n",
       "    </tr>\n",
       "    <tr>\n",
       "      <th>Airline1</th>\n",
       "      <td>1960-06-30</td>\n",
       "      <td>560.536987</td>\n",
       "      <td>561.0</td>\n",
       "      <td>523.950012</td>\n",
       "      <td>531.000000</td>\n",
       "      <td>589.0</td>\n",
       "      <td>597.049988</td>\n",
       "    </tr>\n",
       "    <tr>\n",
       "      <th>Airline1</th>\n",
       "      <td>1960-07-31</td>\n",
       "      <td>634.468018</td>\n",
       "      <td>634.0</td>\n",
       "      <td>592.000000</td>\n",
       "      <td>601.000000</td>\n",
       "      <td>667.0</td>\n",
       "      <td>678.000000</td>\n",
       "    </tr>\n",
       "    <tr>\n",
       "      <th>Airline1</th>\n",
       "      <td>1960-08-31</td>\n",
       "      <td>634.809021</td>\n",
       "      <td>634.5</td>\n",
       "      <td>596.000000</td>\n",
       "      <td>604.000000</td>\n",
       "      <td>666.0</td>\n",
       "      <td>673.049988</td>\n",
       "    </tr>\n",
       "    <tr>\n",
       "      <th>Airline1</th>\n",
       "      <td>1960-09-30</td>\n",
       "      <td>547.687012</td>\n",
       "      <td>547.0</td>\n",
       "      <td>509.000000</td>\n",
       "      <td>519.900024</td>\n",
       "      <td>578.0</td>\n",
       "      <td>588.000000</td>\n",
       "    </tr>\n",
       "    <tr>\n",
       "      <th>Airline1</th>\n",
       "      <td>1960-10-31</td>\n",
       "      <td>458.765991</td>\n",
       "      <td>458.0</td>\n",
       "      <td>422.000000</td>\n",
       "      <td>431.000000</td>\n",
       "      <td>486.0</td>\n",
       "      <td>495.000000</td>\n",
       "    </tr>\n",
       "  </tbody>\n",
       "</table>\n",
       "</div>"
      ],
      "text/plain": [
       "                  ds      NBEATS  NBEATS-median  NBEATS-lo-90  NBEATS-lo-80  \\\n",
       "unique_id                                                                     \n",
       "Airline1  1960-01-31  432.431000          433.0    396.950012    405.000000   \n",
       "Airline1  1960-02-29  443.500000          443.0    410.000000    417.000000   \n",
       "Airline1  1960-03-31  449.898010          450.0    415.000000    423.000000   \n",
       "Airline1  1960-04-30  452.475006          452.0    416.950012    424.000000   \n",
       "Airline1  1960-05-31  484.932007          485.0    450.000000    457.000000   \n",
       "Airline1  1960-06-30  560.536987          561.0    523.950012    531.000000   \n",
       "Airline1  1960-07-31  634.468018          634.0    592.000000    601.000000   \n",
       "Airline1  1960-08-31  634.809021          634.5    596.000000    604.000000   \n",
       "Airline1  1960-09-30  547.687012          547.0    509.000000    519.900024   \n",
       "Airline1  1960-10-31  458.765991          458.0    422.000000    431.000000   \n",
       "\n",
       "           NBEATS-hi-80  NBEATS-hi-90  \n",
       "unique_id                              \n",
       "Airline1          459.0    467.000000  \n",
       "Airline1          470.0    478.000000  \n",
       "Airline1          479.0    485.000000  \n",
       "Airline1          479.0    486.000000  \n",
       "Airline1          514.0    523.000000  \n",
       "Airline1          589.0    597.049988  \n",
       "Airline1          667.0    678.000000  \n",
       "Airline1          666.0    673.049988  \n",
       "Airline1          578.0    588.000000  \n",
       "Airline1          486.0    495.000000  "
      ]
     },
     "execution_count": 12,
     "metadata": {},
     "output_type": "execute_result"
    }
   ],
   "source": [
    "forecasts.head(10)"
   ]
  },
  {
   "cell_type": "code",
   "execution_count": 13,
   "metadata": {},
   "outputs": [
    {
     "data": {
      "text/html": [
       "<div>\n",
       "<style scoped>\n",
       "    .dataframe tbody tr th:only-of-type {\n",
       "        vertical-align: middle;\n",
       "    }\n",
       "\n",
       "    .dataframe tbody tr th {\n",
       "        vertical-align: top;\n",
       "    }\n",
       "\n",
       "    .dataframe thead th {\n",
       "        text-align: right;\n",
       "    }\n",
       "</style>\n",
       "<table border=\"1\" class=\"dataframe\">\n",
       "  <thead>\n",
       "    <tr style=\"text-align: right;\">\n",
       "      <th></th>\n",
       "      <th>unique_id</th>\n",
       "      <th>ds</th>\n",
       "      <th>y</th>\n",
       "      <th>trend</th>\n",
       "      <th>y_[lag12]</th>\n",
       "    </tr>\n",
       "  </thead>\n",
       "  <tbody>\n",
       "    <tr>\n",
       "      <th>0</th>\n",
       "      <td>Airline1</td>\n",
       "      <td>1960-01-31</td>\n",
       "      <td>417.0</td>\n",
       "      <td>132</td>\n",
       "      <td>360.0</td>\n",
       "    </tr>\n",
       "    <tr>\n",
       "      <th>1</th>\n",
       "      <td>Airline1</td>\n",
       "      <td>1960-02-29</td>\n",
       "      <td>391.0</td>\n",
       "      <td>133</td>\n",
       "      <td>342.0</td>\n",
       "    </tr>\n",
       "    <tr>\n",
       "      <th>2</th>\n",
       "      <td>Airline1</td>\n",
       "      <td>1960-03-31</td>\n",
       "      <td>419.0</td>\n",
       "      <td>134</td>\n",
       "      <td>406.0</td>\n",
       "    </tr>\n",
       "    <tr>\n",
       "      <th>3</th>\n",
       "      <td>Airline1</td>\n",
       "      <td>1960-04-30</td>\n",
       "      <td>461.0</td>\n",
       "      <td>135</td>\n",
       "      <td>396.0</td>\n",
       "    </tr>\n",
       "    <tr>\n",
       "      <th>4</th>\n",
       "      <td>Airline1</td>\n",
       "      <td>1960-05-31</td>\n",
       "      <td>472.0</td>\n",
       "      <td>136</td>\n",
       "      <td>420.0</td>\n",
       "    </tr>\n",
       "  </tbody>\n",
       "</table>\n",
       "</div>"
      ],
      "text/plain": [
       "  unique_id         ds      y  trend  y_[lag12]\n",
       "0  Airline1 1960-01-31  417.0    132      360.0\n",
       "1  Airline1 1960-02-29  391.0    133      342.0\n",
       "2  Airline1 1960-03-31  419.0    134      406.0\n",
       "3  Airline1 1960-04-30  461.0    135      396.0\n",
       "4  Airline1 1960-05-31  472.0    136      420.0"
      ]
     },
     "execution_count": 13,
     "metadata": {},
     "output_type": "execute_result"
    }
   ],
   "source": [
    "Y_test_df.head()"
   ]
  },
  {
   "cell_type": "code",
   "execution_count": 14,
   "metadata": {},
   "outputs": [],
   "source": [
    "Y_hat_df = forecasts.reset_index(drop=False).drop(columns=['unique_id','ds'])"
   ]
  },
  {
   "cell_type": "code",
   "execution_count": 15,
   "metadata": {},
   "outputs": [
    {
     "data": {
      "text/html": [
       "<div>\n",
       "<style scoped>\n",
       "    .dataframe tbody tr th:only-of-type {\n",
       "        vertical-align: middle;\n",
       "    }\n",
       "\n",
       "    .dataframe tbody tr th {\n",
       "        vertical-align: top;\n",
       "    }\n",
       "\n",
       "    .dataframe thead th {\n",
       "        text-align: right;\n",
       "    }\n",
       "</style>\n",
       "<table border=\"1\" class=\"dataframe\">\n",
       "  <thead>\n",
       "    <tr style=\"text-align: right;\">\n",
       "      <th></th>\n",
       "      <th>NBEATS</th>\n",
       "      <th>NBEATS-median</th>\n",
       "      <th>NBEATS-lo-90</th>\n",
       "      <th>NBEATS-lo-80</th>\n",
       "      <th>NBEATS-hi-80</th>\n",
       "      <th>NBEATS-hi-90</th>\n",
       "    </tr>\n",
       "  </thead>\n",
       "  <tbody>\n",
       "    <tr>\n",
       "      <th>0</th>\n",
       "      <td>432.431000</td>\n",
       "      <td>433.0</td>\n",
       "      <td>396.950012</td>\n",
       "      <td>405.0</td>\n",
       "      <td>459.0</td>\n",
       "      <td>467.0</td>\n",
       "    </tr>\n",
       "    <tr>\n",
       "      <th>1</th>\n",
       "      <td>443.500000</td>\n",
       "      <td>443.0</td>\n",
       "      <td>410.000000</td>\n",
       "      <td>417.0</td>\n",
       "      <td>470.0</td>\n",
       "      <td>478.0</td>\n",
       "    </tr>\n",
       "    <tr>\n",
       "      <th>2</th>\n",
       "      <td>449.898010</td>\n",
       "      <td>450.0</td>\n",
       "      <td>415.000000</td>\n",
       "      <td>423.0</td>\n",
       "      <td>479.0</td>\n",
       "      <td>485.0</td>\n",
       "    </tr>\n",
       "    <tr>\n",
       "      <th>3</th>\n",
       "      <td>452.475006</td>\n",
       "      <td>452.0</td>\n",
       "      <td>416.950012</td>\n",
       "      <td>424.0</td>\n",
       "      <td>479.0</td>\n",
       "      <td>486.0</td>\n",
       "    </tr>\n",
       "    <tr>\n",
       "      <th>4</th>\n",
       "      <td>484.932007</td>\n",
       "      <td>485.0</td>\n",
       "      <td>450.000000</td>\n",
       "      <td>457.0</td>\n",
       "      <td>514.0</td>\n",
       "      <td>523.0</td>\n",
       "    </tr>\n",
       "  </tbody>\n",
       "</table>\n",
       "</div>"
      ],
      "text/plain": [
       "       NBEATS  NBEATS-median  NBEATS-lo-90  NBEATS-lo-80  NBEATS-hi-80  \\\n",
       "0  432.431000          433.0    396.950012         405.0         459.0   \n",
       "1  443.500000          443.0    410.000000         417.0         470.0   \n",
       "2  449.898010          450.0    415.000000         423.0         479.0   \n",
       "3  452.475006          452.0    416.950012         424.0         479.0   \n",
       "4  484.932007          485.0    450.000000         457.0         514.0   \n",
       "\n",
       "   NBEATS-hi-90  \n",
       "0         467.0  \n",
       "1         478.0  \n",
       "2         485.0  \n",
       "3         486.0  \n",
       "4         523.0  "
      ]
     },
     "execution_count": 15,
     "metadata": {},
     "output_type": "execute_result"
    }
   ],
   "source": [
    "Y_hat_df.head()"
   ]
  },
  {
   "cell_type": "code",
   "execution_count": 16,
   "metadata": {},
   "outputs": [
    {
     "data": {
      "text/html": [
       "<div>\n",
       "<style scoped>\n",
       "    .dataframe tbody tr th:only-of-type {\n",
       "        vertical-align: middle;\n",
       "    }\n",
       "\n",
       "    .dataframe tbody tr th {\n",
       "        vertical-align: top;\n",
       "    }\n",
       "\n",
       "    .dataframe thead th {\n",
       "        text-align: right;\n",
       "    }\n",
       "</style>\n",
       "<table border=\"1\" class=\"dataframe\">\n",
       "  <thead>\n",
       "    <tr style=\"text-align: right;\">\n",
       "      <th></th>\n",
       "      <th>unique_id</th>\n",
       "      <th>ds</th>\n",
       "      <th>y</th>\n",
       "      <th>trend</th>\n",
       "      <th>y_[lag12]</th>\n",
       "    </tr>\n",
       "  </thead>\n",
       "  <tbody>\n",
       "    <tr>\n",
       "      <th>0</th>\n",
       "      <td>Airline1</td>\n",
       "      <td>1960-01-31</td>\n",
       "      <td>417.0</td>\n",
       "      <td>132</td>\n",
       "      <td>360.0</td>\n",
       "    </tr>\n",
       "    <tr>\n",
       "      <th>1</th>\n",
       "      <td>Airline1</td>\n",
       "      <td>1960-02-29</td>\n",
       "      <td>391.0</td>\n",
       "      <td>133</td>\n",
       "      <td>342.0</td>\n",
       "    </tr>\n",
       "    <tr>\n",
       "      <th>2</th>\n",
       "      <td>Airline1</td>\n",
       "      <td>1960-03-31</td>\n",
       "      <td>419.0</td>\n",
       "      <td>134</td>\n",
       "      <td>406.0</td>\n",
       "    </tr>\n",
       "    <tr>\n",
       "      <th>3</th>\n",
       "      <td>Airline1</td>\n",
       "      <td>1960-04-30</td>\n",
       "      <td>461.0</td>\n",
       "      <td>135</td>\n",
       "      <td>396.0</td>\n",
       "    </tr>\n",
       "    <tr>\n",
       "      <th>4</th>\n",
       "      <td>Airline1</td>\n",
       "      <td>1960-05-31</td>\n",
       "      <td>472.0</td>\n",
       "      <td>136</td>\n",
       "      <td>420.0</td>\n",
       "    </tr>\n",
       "  </tbody>\n",
       "</table>\n",
       "</div>"
      ],
      "text/plain": [
       "  unique_id         ds      y  trend  y_[lag12]\n",
       "0  Airline1 1960-01-31  417.0    132      360.0\n",
       "1  Airline1 1960-02-29  391.0    133      342.0\n",
       "2  Airline1 1960-03-31  419.0    134      406.0\n",
       "3  Airline1 1960-04-30  461.0    135      396.0\n",
       "4  Airline1 1960-05-31  472.0    136      420.0"
      ]
     },
     "execution_count": 16,
     "metadata": {},
     "output_type": "execute_result"
    }
   ],
   "source": [
    "Y_test_df.head()"
   ]
  },
  {
   "cell_type": "code",
   "execution_count": 17,
   "metadata": {},
   "outputs": [
    {
     "data": {
      "text/html": [
       "<div>\n",
       "<style scoped>\n",
       "    .dataframe tbody tr th:only-of-type {\n",
       "        vertical-align: middle;\n",
       "    }\n",
       "\n",
       "    .dataframe tbody tr th {\n",
       "        vertical-align: top;\n",
       "    }\n",
       "\n",
       "    .dataframe thead th {\n",
       "        text-align: right;\n",
       "    }\n",
       "</style>\n",
       "<table border=\"1\" class=\"dataframe\">\n",
       "  <thead>\n",
       "    <tr style=\"text-align: right;\">\n",
       "      <th></th>\n",
       "      <th>unique_id</th>\n",
       "      <th>ds</th>\n",
       "      <th>y</th>\n",
       "      <th>trend</th>\n",
       "      <th>y_[lag12]</th>\n",
       "      <th>NBEATS</th>\n",
       "      <th>NBEATS-median</th>\n",
       "      <th>NBEATS-lo-90</th>\n",
       "      <th>NBEATS-lo-80</th>\n",
       "      <th>NBEATS-hi-80</th>\n",
       "      <th>NBEATS-hi-90</th>\n",
       "    </tr>\n",
       "  </thead>\n",
       "  <tbody>\n",
       "    <tr>\n",
       "      <th>0</th>\n",
       "      <td>Airline1</td>\n",
       "      <td>1960-01-31</td>\n",
       "      <td>417.0</td>\n",
       "      <td>132</td>\n",
       "      <td>360.0</td>\n",
       "      <td>432.431000</td>\n",
       "      <td>433.0</td>\n",
       "      <td>396.950012</td>\n",
       "      <td>405.0</td>\n",
       "      <td>459.0</td>\n",
       "      <td>467.0</td>\n",
       "    </tr>\n",
       "    <tr>\n",
       "      <th>1</th>\n",
       "      <td>Airline1</td>\n",
       "      <td>1960-02-29</td>\n",
       "      <td>391.0</td>\n",
       "      <td>133</td>\n",
       "      <td>342.0</td>\n",
       "      <td>443.500000</td>\n",
       "      <td>443.0</td>\n",
       "      <td>410.000000</td>\n",
       "      <td>417.0</td>\n",
       "      <td>470.0</td>\n",
       "      <td>478.0</td>\n",
       "    </tr>\n",
       "    <tr>\n",
       "      <th>2</th>\n",
       "      <td>Airline1</td>\n",
       "      <td>1960-03-31</td>\n",
       "      <td>419.0</td>\n",
       "      <td>134</td>\n",
       "      <td>406.0</td>\n",
       "      <td>449.898010</td>\n",
       "      <td>450.0</td>\n",
       "      <td>415.000000</td>\n",
       "      <td>423.0</td>\n",
       "      <td>479.0</td>\n",
       "      <td>485.0</td>\n",
       "    </tr>\n",
       "    <tr>\n",
       "      <th>3</th>\n",
       "      <td>Airline1</td>\n",
       "      <td>1960-04-30</td>\n",
       "      <td>461.0</td>\n",
       "      <td>135</td>\n",
       "      <td>396.0</td>\n",
       "      <td>452.475006</td>\n",
       "      <td>452.0</td>\n",
       "      <td>416.950012</td>\n",
       "      <td>424.0</td>\n",
       "      <td>479.0</td>\n",
       "      <td>486.0</td>\n",
       "    </tr>\n",
       "    <tr>\n",
       "      <th>4</th>\n",
       "      <td>Airline1</td>\n",
       "      <td>1960-05-31</td>\n",
       "      <td>472.0</td>\n",
       "      <td>136</td>\n",
       "      <td>420.0</td>\n",
       "      <td>484.932007</td>\n",
       "      <td>485.0</td>\n",
       "      <td>450.000000</td>\n",
       "      <td>457.0</td>\n",
       "      <td>514.0</td>\n",
       "      <td>523.0</td>\n",
       "    </tr>\n",
       "  </tbody>\n",
       "</table>\n",
       "</div>"
      ],
      "text/plain": [
       "  unique_id         ds      y  trend  y_[lag12]      NBEATS  NBEATS-median  \\\n",
       "0  Airline1 1960-01-31  417.0    132      360.0  432.431000          433.0   \n",
       "1  Airline1 1960-02-29  391.0    133      342.0  443.500000          443.0   \n",
       "2  Airline1 1960-03-31  419.0    134      406.0  449.898010          450.0   \n",
       "3  Airline1 1960-04-30  461.0    135      396.0  452.475006          452.0   \n",
       "4  Airline1 1960-05-31  472.0    136      420.0  484.932007          485.0   \n",
       "\n",
       "   NBEATS-lo-90  NBEATS-lo-80  NBEATS-hi-80  NBEATS-hi-90  \n",
       "0    396.950012         405.0         459.0         467.0  \n",
       "1    410.000000         417.0         470.0         478.0  \n",
       "2    415.000000         423.0         479.0         485.0  \n",
       "3    416.950012         424.0         479.0         486.0  \n",
       "4    450.000000         457.0         514.0         523.0  "
      ]
     },
     "execution_count": 17,
     "metadata": {},
     "output_type": "execute_result"
    }
   ],
   "source": [
    "plot_df = pd.concat([Y_test_df, Y_hat_df], axis=1)\n",
    "plot_df.head()"
   ]
  },
  {
   "cell_type": "code",
   "execution_count": 18,
   "metadata": {},
   "outputs": [
    {
     "data": {
      "text/html": [
       "<div>\n",
       "<style scoped>\n",
       "    .dataframe tbody tr th:only-of-type {\n",
       "        vertical-align: middle;\n",
       "    }\n",
       "\n",
       "    .dataframe tbody tr th {\n",
       "        vertical-align: top;\n",
       "    }\n",
       "\n",
       "    .dataframe thead th {\n",
       "        text-align: right;\n",
       "    }\n",
       "</style>\n",
       "<table border=\"1\" class=\"dataframe\">\n",
       "  <thead>\n",
       "    <tr style=\"text-align: right;\">\n",
       "      <th></th>\n",
       "      <th>unique_id</th>\n",
       "      <th>ds</th>\n",
       "      <th>y</th>\n",
       "      <th>trend</th>\n",
       "      <th>y_[lag12]</th>\n",
       "    </tr>\n",
       "  </thead>\n",
       "  <tbody>\n",
       "    <tr>\n",
       "      <th>0</th>\n",
       "      <td>Airline1</td>\n",
       "      <td>1949-01-31</td>\n",
       "      <td>112.0</td>\n",
       "      <td>0</td>\n",
       "      <td>112.0</td>\n",
       "    </tr>\n",
       "    <tr>\n",
       "      <th>1</th>\n",
       "      <td>Airline1</td>\n",
       "      <td>1949-02-28</td>\n",
       "      <td>118.0</td>\n",
       "      <td>1</td>\n",
       "      <td>118.0</td>\n",
       "    </tr>\n",
       "    <tr>\n",
       "      <th>2</th>\n",
       "      <td>Airline1</td>\n",
       "      <td>1949-03-31</td>\n",
       "      <td>132.0</td>\n",
       "      <td>2</td>\n",
       "      <td>132.0</td>\n",
       "    </tr>\n",
       "    <tr>\n",
       "      <th>3</th>\n",
       "      <td>Airline1</td>\n",
       "      <td>1949-04-30</td>\n",
       "      <td>129.0</td>\n",
       "      <td>3</td>\n",
       "      <td>129.0</td>\n",
       "    </tr>\n",
       "    <tr>\n",
       "      <th>4</th>\n",
       "      <td>Airline1</td>\n",
       "      <td>1949-05-31</td>\n",
       "      <td>121.0</td>\n",
       "      <td>4</td>\n",
       "      <td>121.0</td>\n",
       "    </tr>\n",
       "  </tbody>\n",
       "</table>\n",
       "</div>"
      ],
      "text/plain": [
       "  unique_id         ds      y  trend  y_[lag12]\n",
       "0  Airline1 1949-01-31  112.0      0      112.0\n",
       "1  Airline1 1949-02-28  118.0      1      118.0\n",
       "2  Airline1 1949-03-31  132.0      2      132.0\n",
       "3  Airline1 1949-04-30  129.0      3      129.0\n",
       "4  Airline1 1949-05-31  121.0      4      121.0"
      ]
     },
     "execution_count": 18,
     "metadata": {},
     "output_type": "execute_result"
    }
   ],
   "source": [
    "Y_train_df.head()"
   ]
  },
  {
   "cell_type": "code",
   "execution_count": 19,
   "metadata": {},
   "outputs": [
    {
     "data": {
      "text/html": [
       "<div>\n",
       "<style scoped>\n",
       "    .dataframe tbody tr th:only-of-type {\n",
       "        vertical-align: middle;\n",
       "    }\n",
       "\n",
       "    .dataframe tbody tr th {\n",
       "        vertical-align: top;\n",
       "    }\n",
       "\n",
       "    .dataframe thead th {\n",
       "        text-align: right;\n",
       "    }\n",
       "</style>\n",
       "<table border=\"1\" class=\"dataframe\">\n",
       "  <thead>\n",
       "    <tr style=\"text-align: right;\">\n",
       "      <th></th>\n",
       "      <th>unique_id</th>\n",
       "      <th>ds</th>\n",
       "      <th>y</th>\n",
       "      <th>trend</th>\n",
       "      <th>y_[lag12]</th>\n",
       "      <th>NBEATS</th>\n",
       "      <th>NBEATS-median</th>\n",
       "      <th>NBEATS-lo-90</th>\n",
       "      <th>NBEATS-lo-80</th>\n",
       "      <th>NBEATS-hi-80</th>\n",
       "      <th>NBEATS-hi-90</th>\n",
       "    </tr>\n",
       "  </thead>\n",
       "  <tbody>\n",
       "    <tr>\n",
       "      <th>0</th>\n",
       "      <td>Airline1</td>\n",
       "      <td>1949-01-31</td>\n",
       "      <td>112.0</td>\n",
       "      <td>0</td>\n",
       "      <td>112.0</td>\n",
       "      <td>NaN</td>\n",
       "      <td>NaN</td>\n",
       "      <td>NaN</td>\n",
       "      <td>NaN</td>\n",
       "      <td>NaN</td>\n",
       "      <td>NaN</td>\n",
       "    </tr>\n",
       "    <tr>\n",
       "      <th>1</th>\n",
       "      <td>Airline1</td>\n",
       "      <td>1949-02-28</td>\n",
       "      <td>118.0</td>\n",
       "      <td>1</td>\n",
       "      <td>118.0</td>\n",
       "      <td>NaN</td>\n",
       "      <td>NaN</td>\n",
       "      <td>NaN</td>\n",
       "      <td>NaN</td>\n",
       "      <td>NaN</td>\n",
       "      <td>NaN</td>\n",
       "    </tr>\n",
       "    <tr>\n",
       "      <th>2</th>\n",
       "      <td>Airline1</td>\n",
       "      <td>1949-03-31</td>\n",
       "      <td>132.0</td>\n",
       "      <td>2</td>\n",
       "      <td>132.0</td>\n",
       "      <td>NaN</td>\n",
       "      <td>NaN</td>\n",
       "      <td>NaN</td>\n",
       "      <td>NaN</td>\n",
       "      <td>NaN</td>\n",
       "      <td>NaN</td>\n",
       "    </tr>\n",
       "    <tr>\n",
       "      <th>3</th>\n",
       "      <td>Airline1</td>\n",
       "      <td>1949-04-30</td>\n",
       "      <td>129.0</td>\n",
       "      <td>3</td>\n",
       "      <td>129.0</td>\n",
       "      <td>NaN</td>\n",
       "      <td>NaN</td>\n",
       "      <td>NaN</td>\n",
       "      <td>NaN</td>\n",
       "      <td>NaN</td>\n",
       "      <td>NaN</td>\n",
       "    </tr>\n",
       "    <tr>\n",
       "      <th>4</th>\n",
       "      <td>Airline1</td>\n",
       "      <td>1949-05-31</td>\n",
       "      <td>121.0</td>\n",
       "      <td>4</td>\n",
       "      <td>121.0</td>\n",
       "      <td>NaN</td>\n",
       "      <td>NaN</td>\n",
       "      <td>NaN</td>\n",
       "      <td>NaN</td>\n",
       "      <td>NaN</td>\n",
       "      <td>NaN</td>\n",
       "    </tr>\n",
       "  </tbody>\n",
       "</table>\n",
       "</div>"
      ],
      "text/plain": [
       "  unique_id         ds      y  trend  y_[lag12]  NBEATS  NBEATS-median  \\\n",
       "0  Airline1 1949-01-31  112.0      0      112.0     NaN            NaN   \n",
       "1  Airline1 1949-02-28  118.0      1      118.0     NaN            NaN   \n",
       "2  Airline1 1949-03-31  132.0      2      132.0     NaN            NaN   \n",
       "3  Airline1 1949-04-30  129.0      3      129.0     NaN            NaN   \n",
       "4  Airline1 1949-05-31  121.0      4      121.0     NaN            NaN   \n",
       "\n",
       "   NBEATS-lo-90  NBEATS-lo-80  NBEATS-hi-80  NBEATS-hi-90  \n",
       "0           NaN           NaN           NaN           NaN  \n",
       "1           NaN           NaN           NaN           NaN  \n",
       "2           NaN           NaN           NaN           NaN  \n",
       "3           NaN           NaN           NaN           NaN  \n",
       "4           NaN           NaN           NaN           NaN  "
      ]
     },
     "execution_count": 19,
     "metadata": {},
     "output_type": "execute_result"
    }
   ],
   "source": [
    "plot_df = pd.concat([Y_train_df, plot_df])\n",
    "plot_df.head()"
   ]
  },
  {
   "cell_type": "code",
   "execution_count": 20,
   "metadata": {},
   "outputs": [
    {
     "data": {
      "text/html": [
       "<div>\n",
       "<style scoped>\n",
       "    .dataframe tbody tr th:only-of-type {\n",
       "        vertical-align: middle;\n",
       "    }\n",
       "\n",
       "    .dataframe tbody tr th {\n",
       "        vertical-align: top;\n",
       "    }\n",
       "\n",
       "    .dataframe thead th {\n",
       "        text-align: right;\n",
       "    }\n",
       "</style>\n",
       "<table border=\"1\" class=\"dataframe\">\n",
       "  <thead>\n",
       "    <tr style=\"text-align: right;\">\n",
       "      <th></th>\n",
       "      <th>unique_id</th>\n",
       "      <th>ds</th>\n",
       "      <th>y</th>\n",
       "      <th>trend</th>\n",
       "      <th>y_[lag12]</th>\n",
       "      <th>NBEATS</th>\n",
       "      <th>NBEATS-median</th>\n",
       "      <th>NBEATS-lo-90</th>\n",
       "      <th>NBEATS-lo-80</th>\n",
       "      <th>NBEATS-hi-80</th>\n",
       "      <th>NBEATS-hi-90</th>\n",
       "    </tr>\n",
       "  </thead>\n",
       "  <tbody>\n",
       "    <tr>\n",
       "      <th>19</th>\n",
       "      <td>Airline2</td>\n",
       "      <td>1960-08-31</td>\n",
       "      <td>906.0</td>\n",
       "      <td>283</td>\n",
       "      <td>859.0</td>\n",
       "      <td>942.353027</td>\n",
       "      <td>942.0</td>\n",
       "      <td>890.0</td>\n",
       "      <td>902.0</td>\n",
       "      <td>983.099976</td>\n",
       "      <td>993.0</td>\n",
       "    </tr>\n",
       "    <tr>\n",
       "      <th>20</th>\n",
       "      <td>Airline2</td>\n",
       "      <td>1960-09-30</td>\n",
       "      <td>808.0</td>\n",
       "      <td>284</td>\n",
       "      <td>763.0</td>\n",
       "      <td>850.716003</td>\n",
       "      <td>851.0</td>\n",
       "      <td>807.0</td>\n",
       "      <td>814.0</td>\n",
       "      <td>887.000000</td>\n",
       "      <td>899.0</td>\n",
       "    </tr>\n",
       "    <tr>\n",
       "      <th>21</th>\n",
       "      <td>Airline2</td>\n",
       "      <td>1960-10-31</td>\n",
       "      <td>761.0</td>\n",
       "      <td>285</td>\n",
       "      <td>707.0</td>\n",
       "      <td>760.064026</td>\n",
       "      <td>759.0</td>\n",
       "      <td>714.0</td>\n",
       "      <td>724.0</td>\n",
       "      <td>795.000000</td>\n",
       "      <td>807.0</td>\n",
       "    </tr>\n",
       "    <tr>\n",
       "      <th>22</th>\n",
       "      <td>Airline2</td>\n",
       "      <td>1960-11-30</td>\n",
       "      <td>690.0</td>\n",
       "      <td>286</td>\n",
       "      <td>662.0</td>\n",
       "      <td>722.362976</td>\n",
       "      <td>722.5</td>\n",
       "      <td>680.0</td>\n",
       "      <td>688.0</td>\n",
       "      <td>757.000000</td>\n",
       "      <td>767.0</td>\n",
       "    </tr>\n",
       "    <tr>\n",
       "      <th>23</th>\n",
       "      <td>Airline2</td>\n",
       "      <td>1960-12-31</td>\n",
       "      <td>732.0</td>\n",
       "      <td>287</td>\n",
       "      <td>705.0</td>\n",
       "      <td>758.492981</td>\n",
       "      <td>759.0</td>\n",
       "      <td>715.0</td>\n",
       "      <td>723.0</td>\n",
       "      <td>791.000000</td>\n",
       "      <td>803.0</td>\n",
       "    </tr>\n",
       "  </tbody>\n",
       "</table>\n",
       "</div>"
      ],
      "text/plain": [
       "   unique_id         ds      y  trend  y_[lag12]      NBEATS  NBEATS-median  \\\n",
       "19  Airline2 1960-08-31  906.0    283      859.0  942.353027          942.0   \n",
       "20  Airline2 1960-09-30  808.0    284      763.0  850.716003          851.0   \n",
       "21  Airline2 1960-10-31  761.0    285      707.0  760.064026          759.0   \n",
       "22  Airline2 1960-11-30  690.0    286      662.0  722.362976          722.5   \n",
       "23  Airline2 1960-12-31  732.0    287      705.0  758.492981          759.0   \n",
       "\n",
       "    NBEATS-lo-90  NBEATS-lo-80  NBEATS-hi-80  NBEATS-hi-90  \n",
       "19         890.0         902.0    983.099976         993.0  \n",
       "20         807.0         814.0    887.000000         899.0  \n",
       "21         714.0         724.0    795.000000         807.0  \n",
       "22         680.0         688.0    757.000000         767.0  \n",
       "23         715.0         723.0    791.000000         803.0  "
      ]
     },
     "execution_count": 20,
     "metadata": {},
     "output_type": "execute_result"
    }
   ],
   "source": [
    "plot_df.tail()"
   ]
  },
  {
   "cell_type": "code",
   "execution_count": 21,
   "metadata": {},
   "outputs": [
    {
     "data": {
      "text/plain": [
       "[]"
      ]
     },
     "execution_count": 21,
     "metadata": {},
     "output_type": "execute_result"
    },
    {
     "data": {
      "image/png": "[encoded data removed]",
      "text/plain": [
       "<Figure size 640x480 with 1 Axes>"
      ]
     },
     "metadata": {},
     "output_type": "display_data"
    }
   ],
   "source": [
    "# Plot quantile predictions\n",
    "plot_df = plot_df[plot_df.unique_id=='Airline1'].drop('unique_id', axis=1)\n",
    "plt.plot(plot_df['ds'], plot_df['y'], c='red', label='True')\n",
    "plt.plot(plot_df['ds'], plot_df['NBEATS-median'], c='blue', label='median')\n",
    "plt.fill_between(x=plot_df['ds'][-12:], \n",
    "                 y1=plot_df['NBEATS-lo-90'][-12:].values, \n",
    "                 y2=plot_df['NBEATS-hi-90'][-12:].values,\n",
    "                 alpha=0.4, label='level 90')\n",
    "plt.grid()\n",
    "plt.legend()\n",
    "plt.plot()"
   ]
  },
  {
   "cell_type": "code",
   "execution_count": 22,
   "metadata": {},
   "outputs": [
    {
     "data": {
      "text/html": [
       "<div>\n",
       "<style scoped>\n",
       "    .dataframe tbody tr th:only-of-type {\n",
       "        vertical-align: middle;\n",
       "    }\n",
       "\n",
       "    .dataframe tbody tr th {\n",
       "        vertical-align: top;\n",
       "    }\n",
       "\n",
       "    .dataframe thead th {\n",
       "        text-align: right;\n",
       "    }\n",
       "</style>\n",
       "<table border=\"1\" class=\"dataframe\">\n",
       "  <thead>\n",
       "    <tr style=\"text-align: right;\">\n",
       "      <th></th>\n",
       "      <th>NBEATS</th>\n",
       "      <th>NBEATS-median</th>\n",
       "      <th>NBEATS-lo-90</th>\n",
       "      <th>NBEATS-lo-80</th>\n",
       "      <th>NBEATS-hi-80</th>\n",
       "      <th>NBEATS-hi-90</th>\n",
       "    </tr>\n",
       "  </thead>\n",
       "  <tbody>\n",
       "    <tr>\n",
       "      <th>0</th>\n",
       "      <td>432.431000</td>\n",
       "      <td>433.0</td>\n",
       "      <td>396.950012</td>\n",
       "      <td>405.0</td>\n",
       "      <td>459.0</td>\n",
       "      <td>467.0</td>\n",
       "    </tr>\n",
       "    <tr>\n",
       "      <th>1</th>\n",
       "      <td>443.500000</td>\n",
       "      <td>443.0</td>\n",
       "      <td>410.000000</td>\n",
       "      <td>417.0</td>\n",
       "      <td>470.0</td>\n",
       "      <td>478.0</td>\n",
       "    </tr>\n",
       "    <tr>\n",
       "      <th>2</th>\n",
       "      <td>449.898010</td>\n",
       "      <td>450.0</td>\n",
       "      <td>415.000000</td>\n",
       "      <td>423.0</td>\n",
       "      <td>479.0</td>\n",
       "      <td>485.0</td>\n",
       "    </tr>\n",
       "    <tr>\n",
       "      <th>3</th>\n",
       "      <td>452.475006</td>\n",
       "      <td>452.0</td>\n",
       "      <td>416.950012</td>\n",
       "      <td>424.0</td>\n",
       "      <td>479.0</td>\n",
       "      <td>486.0</td>\n",
       "    </tr>\n",
       "    <tr>\n",
       "      <th>4</th>\n",
       "      <td>484.932007</td>\n",
       "      <td>485.0</td>\n",
       "      <td>450.000000</td>\n",
       "      <td>457.0</td>\n",
       "      <td>514.0</td>\n",
       "      <td>523.0</td>\n",
       "    </tr>\n",
       "  </tbody>\n",
       "</table>\n",
       "</div>"
      ],
      "text/plain": [
       "       NBEATS  NBEATS-median  NBEATS-lo-90  NBEATS-lo-80  NBEATS-hi-80  \\\n",
       "0  432.431000          433.0    396.950012         405.0         459.0   \n",
       "1  443.500000          443.0    410.000000         417.0         470.0   \n",
       "2  449.898010          450.0    415.000000         423.0         479.0   \n",
       "3  452.475006          452.0    416.950012         424.0         479.0   \n",
       "4  484.932007          485.0    450.000000         457.0         514.0   \n",
       "\n",
       "   NBEATS-hi-90  \n",
       "0         467.0  \n",
       "1         478.0  \n",
       "2         485.0  \n",
       "3         486.0  \n",
       "4         523.0  "
      ]
     },
     "execution_count": 22,
     "metadata": {},
     "output_type": "execute_result"
    }
   ],
   "source": [
    "Y_hat_df.head()"
   ]
  },
  {
   "cell_type": "code",
   "execution_count": 23,
   "metadata": {},
   "outputs": [
    {
     "data": {
      "text/html": [
       "<div>\n",
       "<style scoped>\n",
       "    .dataframe tbody tr th:only-of-type {\n",
       "        vertical-align: middle;\n",
       "    }\n",
       "\n",
       "    .dataframe tbody tr th {\n",
       "        vertical-align: top;\n",
       "    }\n",
       "\n",
       "    .dataframe thead th {\n",
       "        text-align: right;\n",
       "    }\n",
       "</style>\n",
       "<table border=\"1\" class=\"dataframe\">\n",
       "  <thead>\n",
       "    <tr style=\"text-align: right;\">\n",
       "      <th></th>\n",
       "      <th>unique_id</th>\n",
       "      <th>ds</th>\n",
       "      <th>y</th>\n",
       "      <th>trend</th>\n",
       "      <th>y_[lag12]</th>\n",
       "    </tr>\n",
       "  </thead>\n",
       "  <tbody>\n",
       "    <tr>\n",
       "      <th>0</th>\n",
       "      <td>Airline1</td>\n",
       "      <td>1960-01-31</td>\n",
       "      <td>417.0</td>\n",
       "      <td>132</td>\n",
       "      <td>360.0</td>\n",
       "    </tr>\n",
       "    <tr>\n",
       "      <th>1</th>\n",
       "      <td>Airline1</td>\n",
       "      <td>1960-02-29</td>\n",
       "      <td>391.0</td>\n",
       "      <td>133</td>\n",
       "      <td>342.0</td>\n",
       "    </tr>\n",
       "    <tr>\n",
       "      <th>2</th>\n",
       "      <td>Airline1</td>\n",
       "      <td>1960-03-31</td>\n",
       "      <td>419.0</td>\n",
       "      <td>134</td>\n",
       "      <td>406.0</td>\n",
       "    </tr>\n",
       "    <tr>\n",
       "      <th>3</th>\n",
       "      <td>Airline1</td>\n",
       "      <td>1960-04-30</td>\n",
       "      <td>461.0</td>\n",
       "      <td>135</td>\n",
       "      <td>396.0</td>\n",
       "    </tr>\n",
       "    <tr>\n",
       "      <th>4</th>\n",
       "      <td>Airline1</td>\n",
       "      <td>1960-05-31</td>\n",
       "      <td>472.0</td>\n",
       "      <td>136</td>\n",
       "      <td>420.0</td>\n",
       "    </tr>\n",
       "  </tbody>\n",
       "</table>\n",
       "</div>"
      ],
      "text/plain": [
       "  unique_id         ds      y  trend  y_[lag12]\n",
       "0  Airline1 1960-01-31  417.0    132      360.0\n",
       "1  Airline1 1960-02-29  391.0    133      342.0\n",
       "2  Airline1 1960-03-31  419.0    134      406.0\n",
       "3  Airline1 1960-04-30  461.0    135      396.0\n",
       "4  Airline1 1960-05-31  472.0    136      420.0"
      ]
     },
     "execution_count": 23,
     "metadata": {},
     "output_type": "execute_result"
    }
   ],
   "source": [
    "Y_test_df.head()"
   ]
  },
  {
   "cell_type": "code",
   "execution_count": 24,
   "metadata": {},
   "outputs": [
    {
     "data": {
      "text/html": [
       "<div>\n",
       "<style scoped>\n",
       "    .dataframe tbody tr th:only-of-type {\n",
       "        vertical-align: middle;\n",
       "    }\n",
       "\n",
       "    .dataframe tbody tr th {\n",
       "        vertical-align: top;\n",
       "    }\n",
       "\n",
       "    .dataframe thead th {\n",
       "        text-align: right;\n",
       "    }\n",
       "</style>\n",
       "<table border=\"1\" class=\"dataframe\">\n",
       "  <thead>\n",
       "    <tr style=\"text-align: right;\">\n",
       "      <th></th>\n",
       "      <th>unique_id</th>\n",
       "      <th>ds</th>\n",
       "      <th>y</th>\n",
       "      <th>trend</th>\n",
       "      <th>y_[lag12]</th>\n",
       "      <th>NBEATS</th>\n",
       "      <th>NBEATS-median</th>\n",
       "      <th>NBEATS-lo-90</th>\n",
       "      <th>NBEATS-lo-80</th>\n",
       "      <th>NBEATS-hi-80</th>\n",
       "      <th>NBEATS-hi-90</th>\n",
       "    </tr>\n",
       "  </thead>\n",
       "  <tbody>\n",
       "    <tr>\n",
       "      <th>0</th>\n",
       "      <td>Airline1</td>\n",
       "      <td>1960-01-31</td>\n",
       "      <td>417.0</td>\n",
       "      <td>132</td>\n",
       "      <td>360.0</td>\n",
       "      <td>432.431000</td>\n",
       "      <td>433.0</td>\n",
       "      <td>396.950012</td>\n",
       "      <td>405.0</td>\n",
       "      <td>459.0</td>\n",
       "      <td>467.0</td>\n",
       "    </tr>\n",
       "    <tr>\n",
       "      <th>1</th>\n",
       "      <td>Airline1</td>\n",
       "      <td>1960-02-29</td>\n",
       "      <td>391.0</td>\n",
       "      <td>133</td>\n",
       "      <td>342.0</td>\n",
       "      <td>443.500000</td>\n",
       "      <td>443.0</td>\n",
       "      <td>410.000000</td>\n",
       "      <td>417.0</td>\n",
       "      <td>470.0</td>\n",
       "      <td>478.0</td>\n",
       "    </tr>\n",
       "    <tr>\n",
       "      <th>2</th>\n",
       "      <td>Airline1</td>\n",
       "      <td>1960-03-31</td>\n",
       "      <td>419.0</td>\n",
       "      <td>134</td>\n",
       "      <td>406.0</td>\n",
       "      <td>449.898010</td>\n",
       "      <td>450.0</td>\n",
       "      <td>415.000000</td>\n",
       "      <td>423.0</td>\n",
       "      <td>479.0</td>\n",
       "      <td>485.0</td>\n",
       "    </tr>\n",
       "    <tr>\n",
       "      <th>3</th>\n",
       "      <td>Airline1</td>\n",
       "      <td>1960-04-30</td>\n",
       "      <td>461.0</td>\n",
       "      <td>135</td>\n",
       "      <td>396.0</td>\n",
       "      <td>452.475006</td>\n",
       "      <td>452.0</td>\n",
       "      <td>416.950012</td>\n",
       "      <td>424.0</td>\n",
       "      <td>479.0</td>\n",
       "      <td>486.0</td>\n",
       "    </tr>\n",
       "    <tr>\n",
       "      <th>4</th>\n",
       "      <td>Airline1</td>\n",
       "      <td>1960-05-31</td>\n",
       "      <td>472.0</td>\n",
       "      <td>136</td>\n",
       "      <td>420.0</td>\n",
       "      <td>484.932007</td>\n",
       "      <td>485.0</td>\n",
       "      <td>450.000000</td>\n",
       "      <td>457.0</td>\n",
       "      <td>514.0</td>\n",
       "      <td>523.0</td>\n",
       "    </tr>\n",
       "  </tbody>\n",
       "</table>\n",
       "</div>"
      ],
      "text/plain": [
       "  unique_id         ds      y  trend  y_[lag12]      NBEATS  NBEATS-median  \\\n",
       "0  Airline1 1960-01-31  417.0    132      360.0  432.431000          433.0   \n",
       "1  Airline1 1960-02-29  391.0    133      342.0  443.500000          443.0   \n",
       "2  Airline1 1960-03-31  419.0    134      406.0  449.898010          450.0   \n",
       "3  Airline1 1960-04-30  461.0    135      396.0  452.475006          452.0   \n",
       "4  Airline1 1960-05-31  472.0    136      420.0  484.932007          485.0   \n",
       "\n",
       "   NBEATS-lo-90  NBEATS-lo-80  NBEATS-hi-80  NBEATS-hi-90  \n",
       "0    396.950012         405.0         459.0         467.0  \n",
       "1    410.000000         417.0         470.0         478.0  \n",
       "2    415.000000         423.0         479.0         485.0  \n",
       "3    416.950012         424.0         479.0         486.0  \n",
       "4    450.000000         457.0         514.0         523.0  "
      ]
     },
     "execution_count": 24,
     "metadata": {},
     "output_type": "execute_result"
    }
   ],
   "source": [
    "plot_df = pd.concat([Y_test_df, Y_hat_df], axis=1)\n",
    "plot_df.head()"
   ]
  },
  {
   "cell_type": "code",
   "execution_count": 25,
   "metadata": {},
   "outputs": [],
   "source": [
    "plot_df = pd.concat([Y_train_df, plot_df])"
   ]
  },
  {
   "cell_type": "code",
   "execution_count": 26,
   "metadata": {},
   "outputs": [
    {
     "data": {
      "text/html": [
       "<div>\n",
       "<style scoped>\n",
       "    .dataframe tbody tr th:only-of-type {\n",
       "        vertical-align: middle;\n",
       "    }\n",
       "\n",
       "    .dataframe tbody tr th {\n",
       "        vertical-align: top;\n",
       "    }\n",
       "\n",
       "    .dataframe thead th {\n",
       "        text-align: right;\n",
       "    }\n",
       "</style>\n",
       "<table border=\"1\" class=\"dataframe\">\n",
       "  <thead>\n",
       "    <tr style=\"text-align: right;\">\n",
       "      <th></th>\n",
       "      <th>unique_id</th>\n",
       "      <th>ds</th>\n",
       "      <th>y</th>\n",
       "      <th>trend</th>\n",
       "      <th>y_[lag12]</th>\n",
       "      <th>NBEATS</th>\n",
       "      <th>NBEATS-median</th>\n",
       "      <th>NBEATS-lo-90</th>\n",
       "      <th>NBEATS-lo-80</th>\n",
       "      <th>NBEATS-hi-80</th>\n",
       "      <th>NBEATS-hi-90</th>\n",
       "    </tr>\n",
       "  </thead>\n",
       "  <tbody>\n",
       "    <tr>\n",
       "      <th>0</th>\n",
       "      <td>Airline1</td>\n",
       "      <td>1949-01-31</td>\n",
       "      <td>112.0</td>\n",
       "      <td>0</td>\n",
       "      <td>112.0</td>\n",
       "      <td>NaN</td>\n",
       "      <td>NaN</td>\n",
       "      <td>NaN</td>\n",
       "      <td>NaN</td>\n",
       "      <td>NaN</td>\n",
       "      <td>NaN</td>\n",
       "    </tr>\n",
       "    <tr>\n",
       "      <th>1</th>\n",
       "      <td>Airline1</td>\n",
       "      <td>1949-02-28</td>\n",
       "      <td>118.0</td>\n",
       "      <td>1</td>\n",
       "      <td>118.0</td>\n",
       "      <td>NaN</td>\n",
       "      <td>NaN</td>\n",
       "      <td>NaN</td>\n",
       "      <td>NaN</td>\n",
       "      <td>NaN</td>\n",
       "      <td>NaN</td>\n",
       "    </tr>\n",
       "    <tr>\n",
       "      <th>2</th>\n",
       "      <td>Airline1</td>\n",
       "      <td>1949-03-31</td>\n",
       "      <td>132.0</td>\n",
       "      <td>2</td>\n",
       "      <td>132.0</td>\n",
       "      <td>NaN</td>\n",
       "      <td>NaN</td>\n",
       "      <td>NaN</td>\n",
       "      <td>NaN</td>\n",
       "      <td>NaN</td>\n",
       "      <td>NaN</td>\n",
       "    </tr>\n",
       "    <tr>\n",
       "      <th>3</th>\n",
       "      <td>Airline1</td>\n",
       "      <td>1949-04-30</td>\n",
       "      <td>129.0</td>\n",
       "      <td>3</td>\n",
       "      <td>129.0</td>\n",
       "      <td>NaN</td>\n",
       "      <td>NaN</td>\n",
       "      <td>NaN</td>\n",
       "      <td>NaN</td>\n",
       "      <td>NaN</td>\n",
       "      <td>NaN</td>\n",
       "    </tr>\n",
       "    <tr>\n",
       "      <th>4</th>\n",
       "      <td>Airline1</td>\n",
       "      <td>1949-05-31</td>\n",
       "      <td>121.0</td>\n",
       "      <td>4</td>\n",
       "      <td>121.0</td>\n",
       "      <td>NaN</td>\n",
       "      <td>NaN</td>\n",
       "      <td>NaN</td>\n",
       "      <td>NaN</td>\n",
       "      <td>NaN</td>\n",
       "      <td>NaN</td>\n",
       "    </tr>\n",
       "    <tr>\n",
       "      <th>5</th>\n",
       "      <td>Airline1</td>\n",
       "      <td>1949-06-30</td>\n",
       "      <td>135.0</td>\n",
       "      <td>5</td>\n",
       "      <td>135.0</td>\n",
       "      <td>NaN</td>\n",
       "      <td>NaN</td>\n",
       "      <td>NaN</td>\n",
       "      <td>NaN</td>\n",
       "      <td>NaN</td>\n",
       "      <td>NaN</td>\n",
       "    </tr>\n",
       "    <tr>\n",
       "      <th>6</th>\n",
       "      <td>Airline1</td>\n",
       "      <td>1949-07-31</td>\n",
       "      <td>148.0</td>\n",
       "      <td>6</td>\n",
       "      <td>148.0</td>\n",
       "      <td>NaN</td>\n",
       "      <td>NaN</td>\n",
       "      <td>NaN</td>\n",
       "      <td>NaN</td>\n",
       "      <td>NaN</td>\n",
       "      <td>NaN</td>\n",
       "    </tr>\n",
       "    <tr>\n",
       "      <th>7</th>\n",
       "      <td>Airline1</td>\n",
       "      <td>1949-08-31</td>\n",
       "      <td>148.0</td>\n",
       "      <td>7</td>\n",
       "      <td>148.0</td>\n",
       "      <td>NaN</td>\n",
       "      <td>NaN</td>\n",
       "      <td>NaN</td>\n",
       "      <td>NaN</td>\n",
       "      <td>NaN</td>\n",
       "      <td>NaN</td>\n",
       "    </tr>\n",
       "    <tr>\n",
       "      <th>8</th>\n",
       "      <td>Airline1</td>\n",
       "      <td>1949-09-30</td>\n",
       "      <td>136.0</td>\n",
       "      <td>8</td>\n",
       "      <td>136.0</td>\n",
       "      <td>NaN</td>\n",
       "      <td>NaN</td>\n",
       "      <td>NaN</td>\n",
       "      <td>NaN</td>\n",
       "      <td>NaN</td>\n",
       "      <td>NaN</td>\n",
       "    </tr>\n",
       "    <tr>\n",
       "      <th>9</th>\n",
       "      <td>Airline1</td>\n",
       "      <td>1949-10-31</td>\n",
       "      <td>119.0</td>\n",
       "      <td>9</td>\n",
       "      <td>119.0</td>\n",
       "      <td>NaN</td>\n",
       "      <td>NaN</td>\n",
       "      <td>NaN</td>\n",
       "      <td>NaN</td>\n",
       "      <td>NaN</td>\n",
       "      <td>NaN</td>\n",
       "    </tr>\n",
       "    <tr>\n",
       "      <th>10</th>\n",
       "      <td>Airline1</td>\n",
       "      <td>1949-11-30</td>\n",
       "      <td>104.0</td>\n",
       "      <td>10</td>\n",
       "      <td>104.0</td>\n",
       "      <td>NaN</td>\n",
       "      <td>NaN</td>\n",
       "      <td>NaN</td>\n",
       "      <td>NaN</td>\n",
       "      <td>NaN</td>\n",
       "      <td>NaN</td>\n",
       "    </tr>\n",
       "    <tr>\n",
       "      <th>11</th>\n",
       "      <td>Airline1</td>\n",
       "      <td>1949-12-31</td>\n",
       "      <td>118.0</td>\n",
       "      <td>11</td>\n",
       "      <td>118.0</td>\n",
       "      <td>NaN</td>\n",
       "      <td>NaN</td>\n",
       "      <td>NaN</td>\n",
       "      <td>NaN</td>\n",
       "      <td>NaN</td>\n",
       "      <td>NaN</td>\n",
       "    </tr>\n",
       "    <tr>\n",
       "      <th>12</th>\n",
       "      <td>Airline1</td>\n",
       "      <td>1950-01-31</td>\n",
       "      <td>115.0</td>\n",
       "      <td>12</td>\n",
       "      <td>112.0</td>\n",
       "      <td>NaN</td>\n",
       "      <td>NaN</td>\n",
       "      <td>NaN</td>\n",
       "      <td>NaN</td>\n",
       "      <td>NaN</td>\n",
       "      <td>NaN</td>\n",
       "    </tr>\n",
       "    <tr>\n",
       "      <th>13</th>\n",
       "      <td>Airline1</td>\n",
       "      <td>1950-02-28</td>\n",
       "      <td>126.0</td>\n",
       "      <td>13</td>\n",
       "      <td>118.0</td>\n",
       "      <td>NaN</td>\n",
       "      <td>NaN</td>\n",
       "      <td>NaN</td>\n",
       "      <td>NaN</td>\n",
       "      <td>NaN</td>\n",
       "      <td>NaN</td>\n",
       "    </tr>\n",
       "    <tr>\n",
       "      <th>14</th>\n",
       "      <td>Airline1</td>\n",
       "      <td>1950-03-31</td>\n",
       "      <td>141.0</td>\n",
       "      <td>14</td>\n",
       "      <td>132.0</td>\n",
       "      <td>NaN</td>\n",
       "      <td>NaN</td>\n",
       "      <td>NaN</td>\n",
       "      <td>NaN</td>\n",
       "      <td>NaN</td>\n",
       "      <td>NaN</td>\n",
       "    </tr>\n",
       "    <tr>\n",
       "      <th>15</th>\n",
       "      <td>Airline1</td>\n",
       "      <td>1950-04-30</td>\n",
       "      <td>135.0</td>\n",
       "      <td>15</td>\n",
       "      <td>129.0</td>\n",
       "      <td>NaN</td>\n",
       "      <td>NaN</td>\n",
       "      <td>NaN</td>\n",
       "      <td>NaN</td>\n",
       "      <td>NaN</td>\n",
       "      <td>NaN</td>\n",
       "    </tr>\n",
       "    <tr>\n",
       "      <th>16</th>\n",
       "      <td>Airline1</td>\n",
       "      <td>1950-05-31</td>\n",
       "      <td>125.0</td>\n",
       "      <td>16</td>\n",
       "      <td>121.0</td>\n",
       "      <td>NaN</td>\n",
       "      <td>NaN</td>\n",
       "      <td>NaN</td>\n",
       "      <td>NaN</td>\n",
       "      <td>NaN</td>\n",
       "      <td>NaN</td>\n",
       "    </tr>\n",
       "    <tr>\n",
       "      <th>17</th>\n",
       "      <td>Airline1</td>\n",
       "      <td>1950-06-30</td>\n",
       "      <td>149.0</td>\n",
       "      <td>17</td>\n",
       "      <td>135.0</td>\n",
       "      <td>NaN</td>\n",
       "      <td>NaN</td>\n",
       "      <td>NaN</td>\n",
       "      <td>NaN</td>\n",
       "      <td>NaN</td>\n",
       "      <td>NaN</td>\n",
       "    </tr>\n",
       "    <tr>\n",
       "      <th>18</th>\n",
       "      <td>Airline1</td>\n",
       "      <td>1950-07-31</td>\n",
       "      <td>170.0</td>\n",
       "      <td>18</td>\n",
       "      <td>148.0</td>\n",
       "      <td>NaN</td>\n",
       "      <td>NaN</td>\n",
       "      <td>NaN</td>\n",
       "      <td>NaN</td>\n",
       "      <td>NaN</td>\n",
       "      <td>NaN</td>\n",
       "    </tr>\n",
       "    <tr>\n",
       "      <th>19</th>\n",
       "      <td>Airline1</td>\n",
       "      <td>1950-08-31</td>\n",
       "      <td>170.0</td>\n",
       "      <td>19</td>\n",
       "      <td>148.0</td>\n",
       "      <td>NaN</td>\n",
       "      <td>NaN</td>\n",
       "      <td>NaN</td>\n",
       "      <td>NaN</td>\n",
       "      <td>NaN</td>\n",
       "      <td>NaN</td>\n",
       "    </tr>\n",
       "    <tr>\n",
       "      <th>20</th>\n",
       "      <td>Airline1</td>\n",
       "      <td>1950-09-30</td>\n",
       "      <td>158.0</td>\n",
       "      <td>20</td>\n",
       "      <td>136.0</td>\n",
       "      <td>NaN</td>\n",
       "      <td>NaN</td>\n",
       "      <td>NaN</td>\n",
       "      <td>NaN</td>\n",
       "      <td>NaN</td>\n",
       "      <td>NaN</td>\n",
       "    </tr>\n",
       "    <tr>\n",
       "      <th>21</th>\n",
       "      <td>Airline1</td>\n",
       "      <td>1950-10-31</td>\n",
       "      <td>133.0</td>\n",
       "      <td>21</td>\n",
       "      <td>119.0</td>\n",
       "      <td>NaN</td>\n",
       "      <td>NaN</td>\n",
       "      <td>NaN</td>\n",
       "      <td>NaN</td>\n",
       "      <td>NaN</td>\n",
       "      <td>NaN</td>\n",
       "    </tr>\n",
       "    <tr>\n",
       "      <th>22</th>\n",
       "      <td>Airline1</td>\n",
       "      <td>1950-11-30</td>\n",
       "      <td>114.0</td>\n",
       "      <td>22</td>\n",
       "      <td>104.0</td>\n",
       "      <td>NaN</td>\n",
       "      <td>NaN</td>\n",
       "      <td>NaN</td>\n",
       "      <td>NaN</td>\n",
       "      <td>NaN</td>\n",
       "      <td>NaN</td>\n",
       "    </tr>\n",
       "    <tr>\n",
       "      <th>23</th>\n",
       "      <td>Airline1</td>\n",
       "      <td>1950-12-31</td>\n",
       "      <td>140.0</td>\n",
       "      <td>23</td>\n",
       "      <td>118.0</td>\n",
       "      <td>NaN</td>\n",
       "      <td>NaN</td>\n",
       "      <td>NaN</td>\n",
       "      <td>NaN</td>\n",
       "      <td>NaN</td>\n",
       "      <td>NaN</td>\n",
       "    </tr>\n",
       "    <tr>\n",
       "      <th>24</th>\n",
       "      <td>Airline1</td>\n",
       "      <td>1951-01-31</td>\n",
       "      <td>145.0</td>\n",
       "      <td>24</td>\n",
       "      <td>115.0</td>\n",
       "      <td>NaN</td>\n",
       "      <td>NaN</td>\n",
       "      <td>NaN</td>\n",
       "      <td>NaN</td>\n",
       "      <td>NaN</td>\n",
       "      <td>NaN</td>\n",
       "    </tr>\n",
       "    <tr>\n",
       "      <th>25</th>\n",
       "      <td>Airline1</td>\n",
       "      <td>1951-02-28</td>\n",
       "      <td>150.0</td>\n",
       "      <td>25</td>\n",
       "      <td>126.0</td>\n",
       "      <td>NaN</td>\n",
       "      <td>NaN</td>\n",
       "      <td>NaN</td>\n",
       "      <td>NaN</td>\n",
       "      <td>NaN</td>\n",
       "      <td>NaN</td>\n",
       "    </tr>\n",
       "    <tr>\n",
       "      <th>26</th>\n",
       "      <td>Airline1</td>\n",
       "      <td>1951-03-31</td>\n",
       "      <td>178.0</td>\n",
       "      <td>26</td>\n",
       "      <td>141.0</td>\n",
       "      <td>NaN</td>\n",
       "      <td>NaN</td>\n",
       "      <td>NaN</td>\n",
       "      <td>NaN</td>\n",
       "      <td>NaN</td>\n",
       "      <td>NaN</td>\n",
       "    </tr>\n",
       "    <tr>\n",
       "      <th>27</th>\n",
       "      <td>Airline1</td>\n",
       "      <td>1951-04-30</td>\n",
       "      <td>163.0</td>\n",
       "      <td>27</td>\n",
       "      <td>135.0</td>\n",
       "      <td>NaN</td>\n",
       "      <td>NaN</td>\n",
       "      <td>NaN</td>\n",
       "      <td>NaN</td>\n",
       "      <td>NaN</td>\n",
       "      <td>NaN</td>\n",
       "    </tr>\n",
       "    <tr>\n",
       "      <th>28</th>\n",
       "      <td>Airline1</td>\n",
       "      <td>1951-05-31</td>\n",
       "      <td>172.0</td>\n",
       "      <td>28</td>\n",
       "      <td>125.0</td>\n",
       "      <td>NaN</td>\n",
       "      <td>NaN</td>\n",
       "      <td>NaN</td>\n",
       "      <td>NaN</td>\n",
       "      <td>NaN</td>\n",
       "      <td>NaN</td>\n",
       "    </tr>\n",
       "    <tr>\n",
       "      <th>29</th>\n",
       "      <td>Airline1</td>\n",
       "      <td>1951-06-30</td>\n",
       "      <td>178.0</td>\n",
       "      <td>29</td>\n",
       "      <td>149.0</td>\n",
       "      <td>NaN</td>\n",
       "      <td>NaN</td>\n",
       "      <td>NaN</td>\n",
       "      <td>NaN</td>\n",
       "      <td>NaN</td>\n",
       "      <td>NaN</td>\n",
       "    </tr>\n",
       "  </tbody>\n",
       "</table>\n",
       "</div>"
      ],
      "text/plain": [
       "   unique_id         ds      y  trend  y_[lag12]  NBEATS  NBEATS-median  \\\n",
       "0   Airline1 1949-01-31  112.0      0      112.0     NaN            NaN   \n",
       "1   Airline1 1949-02-28  118.0      1      118.0     NaN            NaN   \n",
       "2   Airline1 1949-03-31  132.0      2      132.0     NaN            NaN   \n",
       "3   Airline1 1949-04-30  129.0      3      129.0     NaN            NaN   \n",
       "4   Airline1 1949-05-31  121.0      4      121.0     NaN            NaN   \n",
       "5   Airline1 1949-06-30  135.0      5      135.0     NaN            NaN   \n",
       "6   Airline1 1949-07-31  148.0      6      148.0     NaN            NaN   \n",
       "7   Airline1 1949-08-31  148.0      7      148.0     NaN            NaN   \n",
       "8   Airline1 1949-09-30  136.0      8      136.0     NaN            NaN   \n",
       "9   Airline1 1949-10-31  119.0      9      119.0     NaN            NaN   \n",
       "10  Airline1 1949-11-30  104.0     10      104.0     NaN            NaN   \n",
       "11  Airline1 1949-12-31  118.0     11      118.0     NaN            NaN   \n",
       "12  Airline1 1950-01-31  115.0     12      112.0     NaN            NaN   \n",
       "13  Airline1 1950-02-28  126.0     13      118.0     NaN            NaN   \n",
       "14  Airline1 1950-03-31  141.0     14      132.0     NaN            NaN   \n",
       "15  Airline1 1950-04-30  135.0     15      129.0     NaN            NaN   \n",
       "16  Airline1 1950-05-31  125.0     16      121.0     NaN            NaN   \n",
       "17  Airline1 1950-06-30  149.0     17      135.0     NaN            NaN   \n",
       "18  Airline1 1950-07-31  170.0     18      148.0     NaN            NaN   \n",
       "19  Airline1 1950-08-31  170.0     19      148.0     NaN            NaN   \n",
       "20  Airline1 1950-09-30  158.0     20      136.0     NaN            NaN   \n",
       "21  Airline1 1950-10-31  133.0     21      119.0     NaN            NaN   \n",
       "22  Airline1 1950-11-30  114.0     22      104.0     NaN            NaN   \n",
       "23  Airline1 1950-12-31  140.0     23      118.0     NaN            NaN   \n",
       "24  Airline1 1951-01-31  145.0     24      115.0     NaN            NaN   \n",
       "25  Airline1 1951-02-28  150.0     25      126.0     NaN            NaN   \n",
       "26  Airline1 1951-03-31  178.0     26      141.0     NaN            NaN   \n",
       "27  Airline1 1951-04-30  163.0     27      135.0     NaN            NaN   \n",
       "28  Airline1 1951-05-31  172.0     28      125.0     NaN            NaN   \n",
       "29  Airline1 1951-06-30  178.0     29      149.0     NaN            NaN   \n",
       "\n",
       "    NBEATS-lo-90  NBEATS-lo-80  NBEATS-hi-80  NBEATS-hi-90  \n",
       "0            NaN           NaN           NaN           NaN  \n",
       "1            NaN           NaN           NaN           NaN  \n",
       "2            NaN           NaN           NaN           NaN  \n",
       "3            NaN           NaN           NaN           NaN  \n",
       "4            NaN           NaN           NaN           NaN  \n",
       "5            NaN           NaN           NaN           NaN  \n",
       "6            NaN           NaN           NaN           NaN  \n",
       "7            NaN           NaN           NaN           NaN  \n",
       "8            NaN           NaN           NaN           NaN  \n",
       "9            NaN           NaN           NaN           NaN  \n",
       "10           NaN           NaN           NaN           NaN  \n",
       "11           NaN           NaN           NaN           NaN  \n",
       "12           NaN           NaN           NaN           NaN  \n",
       "13           NaN           NaN           NaN           NaN  \n",
       "14           NaN           NaN           NaN           NaN  \n",
       "15           NaN           NaN           NaN           NaN  \n",
       "16           NaN           NaN           NaN           NaN  \n",
       "17           NaN           NaN           NaN           NaN  \n",
       "18           NaN           NaN           NaN           NaN  \n",
       "19           NaN           NaN           NaN           NaN  \n",
       "20           NaN           NaN           NaN           NaN  \n",
       "21           NaN           NaN           NaN           NaN  \n",
       "22           NaN           NaN           NaN           NaN  \n",
       "23           NaN           NaN           NaN           NaN  \n",
       "24           NaN           NaN           NaN           NaN  \n",
       "25           NaN           NaN           NaN           NaN  \n",
       "26           NaN           NaN           NaN           NaN  \n",
       "27           NaN           NaN           NaN           NaN  \n",
       "28           NaN           NaN           NaN           NaN  \n",
       "29           NaN           NaN           NaN           NaN  "
      ]
     },
     "execution_count": 26,
     "metadata": {},
     "output_type": "execute_result"
    }
   ],
   "source": [
    "plot_df.head(30)"
   ]
  },
  {
   "cell_type": "code",
   "execution_count": 27,
   "metadata": {},
   "outputs": [
    {
     "data": {
      "text/html": [
       "<div>\n",
       "<style scoped>\n",
       "    .dataframe tbody tr th:only-of-type {\n",
       "        vertical-align: middle;\n",
       "    }\n",
       "\n",
       "    .dataframe tbody tr th {\n",
       "        vertical-align: top;\n",
       "    }\n",
       "\n",
       "    .dataframe thead th {\n",
       "        text-align: right;\n",
       "    }\n",
       "</style>\n",
       "<table border=\"1\" class=\"dataframe\">\n",
       "  <thead>\n",
       "    <tr style=\"text-align: right;\">\n",
       "      <th></th>\n",
       "      <th>unique_id</th>\n",
       "      <th>ds</th>\n",
       "      <th>y</th>\n",
       "      <th>trend</th>\n",
       "      <th>y_[lag12]</th>\n",
       "    </tr>\n",
       "  </thead>\n",
       "  <tbody>\n",
       "    <tr>\n",
       "      <th>271</th>\n",
       "      <td>Airline2</td>\n",
       "      <td>1959-08-31</td>\n",
       "      <td>859.0</td>\n",
       "      <td>271</td>\n",
       "      <td>805.0</td>\n",
       "    </tr>\n",
       "    <tr>\n",
       "      <th>272</th>\n",
       "      <td>Airline2</td>\n",
       "      <td>1959-09-30</td>\n",
       "      <td>763.0</td>\n",
       "      <td>272</td>\n",
       "      <td>704.0</td>\n",
       "    </tr>\n",
       "    <tr>\n",
       "      <th>273</th>\n",
       "      <td>Airline2</td>\n",
       "      <td>1959-10-31</td>\n",
       "      <td>707.0</td>\n",
       "      <td>273</td>\n",
       "      <td>659.0</td>\n",
       "    </tr>\n",
       "    <tr>\n",
       "      <th>274</th>\n",
       "      <td>Airline2</td>\n",
       "      <td>1959-11-30</td>\n",
       "      <td>662.0</td>\n",
       "      <td>274</td>\n",
       "      <td>610.0</td>\n",
       "    </tr>\n",
       "    <tr>\n",
       "      <th>275</th>\n",
       "      <td>Airline2</td>\n",
       "      <td>1959-12-31</td>\n",
       "      <td>705.0</td>\n",
       "      <td>275</td>\n",
       "      <td>637.0</td>\n",
       "    </tr>\n",
       "  </tbody>\n",
       "</table>\n",
       "</div>"
      ],
      "text/plain": [
       "    unique_id         ds      y  trend  y_[lag12]\n",
       "271  Airline2 1959-08-31  859.0    271      805.0\n",
       "272  Airline2 1959-09-30  763.0    272      704.0\n",
       "273  Airline2 1959-10-31  707.0    273      659.0\n",
       "274  Airline2 1959-11-30  662.0    274      610.0\n",
       "275  Airline2 1959-12-31  705.0    275      637.0"
      ]
     },
     "execution_count": 27,
     "metadata": {},
     "output_type": "execute_result"
    }
   ],
   "source": [
    "Y_train_df.tail()"
   ]
  },
  {
   "cell_type": "code",
   "execution_count": 28,
   "metadata": {},
   "outputs": [
    {
     "data": {
      "text/html": [
       "<div>\n",
       "<style scoped>\n",
       "    .dataframe tbody tr th:only-of-type {\n",
       "        vertical-align: middle;\n",
       "    }\n",
       "\n",
       "    .dataframe tbody tr th {\n",
       "        vertical-align: top;\n",
       "    }\n",
       "\n",
       "    .dataframe thead th {\n",
       "        text-align: right;\n",
       "    }\n",
       "</style>\n",
       "<table border=\"1\" class=\"dataframe\">\n",
       "  <thead>\n",
       "    <tr style=\"text-align: right;\">\n",
       "      <th></th>\n",
       "      <th>unique_id</th>\n",
       "      <th>ds</th>\n",
       "      <th>y</th>\n",
       "      <th>trend</th>\n",
       "      <th>y_[lag12]</th>\n",
       "      <th>NBEATS</th>\n",
       "      <th>NBEATS-median</th>\n",
       "      <th>NBEATS-lo-90</th>\n",
       "      <th>NBEATS-lo-80</th>\n",
       "      <th>NBEATS-hi-80</th>\n",
       "      <th>NBEATS-hi-90</th>\n",
       "    </tr>\n",
       "  </thead>\n",
       "  <tbody>\n",
       "    <tr>\n",
       "      <th>0</th>\n",
       "      <td>Airline1</td>\n",
       "      <td>1949-01-31</td>\n",
       "      <td>112.0</td>\n",
       "      <td>0</td>\n",
       "      <td>112.0</td>\n",
       "      <td>NaN</td>\n",
       "      <td>NaN</td>\n",
       "      <td>NaN</td>\n",
       "      <td>NaN</td>\n",
       "      <td>NaN</td>\n",
       "      <td>NaN</td>\n",
       "    </tr>\n",
       "    <tr>\n",
       "      <th>1</th>\n",
       "      <td>Airline1</td>\n",
       "      <td>1949-02-28</td>\n",
       "      <td>118.0</td>\n",
       "      <td>1</td>\n",
       "      <td>118.0</td>\n",
       "      <td>NaN</td>\n",
       "      <td>NaN</td>\n",
       "      <td>NaN</td>\n",
       "      <td>NaN</td>\n",
       "      <td>NaN</td>\n",
       "      <td>NaN</td>\n",
       "    </tr>\n",
       "    <tr>\n",
       "      <th>2</th>\n",
       "      <td>Airline1</td>\n",
       "      <td>1949-03-31</td>\n",
       "      <td>132.0</td>\n",
       "      <td>2</td>\n",
       "      <td>132.0</td>\n",
       "      <td>NaN</td>\n",
       "      <td>NaN</td>\n",
       "      <td>NaN</td>\n",
       "      <td>NaN</td>\n",
       "      <td>NaN</td>\n",
       "      <td>NaN</td>\n",
       "    </tr>\n",
       "    <tr>\n",
       "      <th>3</th>\n",
       "      <td>Airline1</td>\n",
       "      <td>1949-04-30</td>\n",
       "      <td>129.0</td>\n",
       "      <td>3</td>\n",
       "      <td>129.0</td>\n",
       "      <td>NaN</td>\n",
       "      <td>NaN</td>\n",
       "      <td>NaN</td>\n",
       "      <td>NaN</td>\n",
       "      <td>NaN</td>\n",
       "      <td>NaN</td>\n",
       "    </tr>\n",
       "    <tr>\n",
       "      <th>4</th>\n",
       "      <td>Airline1</td>\n",
       "      <td>1949-05-31</td>\n",
       "      <td>121.0</td>\n",
       "      <td>4</td>\n",
       "      <td>121.0</td>\n",
       "      <td>NaN</td>\n",
       "      <td>NaN</td>\n",
       "      <td>NaN</td>\n",
       "      <td>NaN</td>\n",
       "      <td>NaN</td>\n",
       "      <td>NaN</td>\n",
       "    </tr>\n",
       "  </tbody>\n",
       "</table>\n",
       "</div>"
      ],
      "text/plain": [
       "  unique_id         ds      y  trend  y_[lag12]  NBEATS  NBEATS-median  \\\n",
       "0  Airline1 1949-01-31  112.0      0      112.0     NaN            NaN   \n",
       "1  Airline1 1949-02-28  118.0      1      118.0     NaN            NaN   \n",
       "2  Airline1 1949-03-31  132.0      2      132.0     NaN            NaN   \n",
       "3  Airline1 1949-04-30  129.0      3      129.0     NaN            NaN   \n",
       "4  Airline1 1949-05-31  121.0      4      121.0     NaN            NaN   \n",
       "\n",
       "   NBEATS-lo-90  NBEATS-lo-80  NBEATS-hi-80  NBEATS-hi-90  \n",
       "0           NaN           NaN           NaN           NaN  \n",
       "1           NaN           NaN           NaN           NaN  \n",
       "2           NaN           NaN           NaN           NaN  \n",
       "3           NaN           NaN           NaN           NaN  \n",
       "4           NaN           NaN           NaN           NaN  "
      ]
     },
     "execution_count": 28,
     "metadata": {},
     "output_type": "execute_result"
    }
   ],
   "source": [
    "plot_df.head()"
   ]
  },
  {
   "cell_type": "code",
   "execution_count": null,
   "metadata": {},
   "outputs": [],
   "source": []
  }
 ],
 "metadata": {
  "kernelspec": {
   "display_name": ".venv",
   "language": "python",
   "name": "python3"
  },
  "language_info": {
   "codemirror_mode": {
    "name": "ipython",
    "version": 3
   },
   "file_extension": ".py",
   "mimetype": "text/x-python",
   "name": "python",
   "nbconvert_exporter": "python",
   "pygments_lexer": "ipython3",
   "version": "3.12.3"
  }
 },
 "nbformat": 4,
 "nbformat_minor": 2
}
