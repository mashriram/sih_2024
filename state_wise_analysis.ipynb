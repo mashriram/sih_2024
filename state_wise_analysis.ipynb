{
 "cells": [
  {
   "cell_type": "code",
   "execution_count": 88,
   "metadata": {},
   "outputs": [
    {
     "data": {
      "text/plain": [
       "True"
      ]
     },
     "execution_count": 88,
     "metadata": {},
     "output_type": "execute_result"
    }
   ],
   "source": [
    "import numpy as np\n",
    "import pandas as pd\n",
    "import plotly.express as px\n",
    "import os\n",
    "from dotenv import load_dotenv\n",
    "load_dotenv()"
   ]
  },
  {
   "cell_type": "markdown",
   "metadata": {},
   "source": [
    "lets get the data of top 5 states 10 years  and do some eda and analysis on it\n"
   ]
  },
  {
   "cell_type": "code",
   "execution_count": 89,
   "metadata": {},
   "outputs": [
    {
     "name": "stdout",
     "output_type": "stream",
     "text": [
      "../sih_2024_data_source/\n"
     ]
    }
   ],
   "source": [
    "print(os.environ.get(\"DATA_SOURCE_DIR\"))"
   ]
  },
  {
   "cell_type": "code",
   "execution_count": 90,
   "metadata": {},
   "outputs": [
    {
     "name": "stdout",
     "output_type": "stream",
     "text": [
      "['MN_all_years.csv', 'UC_all_years.csv', 'GJ_all_years.csv', 'BI_all_years.csv', 'DL_all_years.csv', 'TL_all_years.csv', 'MP_all_years.csv', 'CH_all_years.csv', 'RJ_all_years.csv', 'KL_all_years.csv', 'MG_all_years.csv', 'GO_all_years.csv', 'WB_all_years.csv', 'AN_all_years.csv', 'AP_all_years.csv', 'CG_all_years.csv', 'TN_all_years.csv', 'UP_all_years.csv', 'OR_all_years.csv', 'PB_all_years.csv', 'AR_all_years.csv', 'MZ_all_years.csv', 'JR_all_years.csv', 'MH_all_years.csv', 'HR_all_years.csv', 'KK_all_years.csv', 'NG_all_years.csv', 'HP_all_years.csv', 'TR_all_years.csv', 'JK_all_years.csv', 'AS_all_years.csv']\n",
      "../sih_2024_data_source/statewise_results/Onion/MN_all_years.csv\n",
      "mn\n",
      "../sih_2024_data_source/statewise_results/Onion/UC_all_years.csv\n",
      "uc\n",
      "../sih_2024_data_source/statewise_results/Onion/GJ_all_years.csv\n",
      "gj\n",
      "../sih_2024_data_source/statewise_results/Onion/BI_all_years.csv\n",
      "bi\n",
      "../sih_2024_data_source/statewise_results/Onion/DL_all_years.csv\n",
      "dl\n",
      "../sih_2024_data_source/statewise_results/Onion/TL_all_years.csv\n",
      "tl\n",
      "../sih_2024_data_source/statewise_results/Onion/MP_all_years.csv\n",
      "mp\n",
      "../sih_2024_data_source/statewise_results/Onion/CH_all_years.csv\n",
      "ch\n",
      "../sih_2024_data_source/statewise_results/Onion/RJ_all_years.csv\n",
      "rj\n",
      "../sih_2024_data_source/statewise_results/Onion/KL_all_years.csv\n",
      "kl\n",
      "../sih_2024_data_source/statewise_results/Onion/MG_all_years.csv\n",
      "mg\n",
      "../sih_2024_data_source/statewise_results/Onion/GO_all_years.csv\n",
      "go\n",
      "../sih_2024_data_source/statewise_results/Onion/WB_all_years.csv\n",
      "wb\n",
      "../sih_2024_data_source/statewise_results/Onion/AN_all_years.csv\n",
      "an\n",
      "../sih_2024_data_source/statewise_results/Onion/AP_all_years.csv\n",
      "ap\n",
      "../sih_2024_data_source/statewise_results/Onion/CG_all_years.csv\n",
      "cg\n",
      "../sih_2024_data_source/statewise_results/Onion/TN_all_years.csv\n",
      "tn\n",
      "../sih_2024_data_source/statewise_results/Onion/UP_all_years.csv\n",
      "up\n",
      "../sih_2024_data_source/statewise_results/Onion/OR_all_years.csv\n",
      "or\n",
      "../sih_2024_data_source/statewise_results/Onion/PB_all_years.csv\n",
      "pb\n",
      "../sih_2024_data_source/statewise_results/Onion/AR_all_years.csv\n",
      "ar\n",
      "../sih_2024_data_source/statewise_results/Onion/MZ_all_years.csv\n",
      "mz\n",
      "../sih_2024_data_source/statewise_results/Onion/JR_all_years.csv\n",
      "jr\n",
      "../sih_2024_data_source/statewise_results/Onion/MH_all_years.csv\n",
      "mh\n",
      "../sih_2024_data_source/statewise_results/Onion/HR_all_years.csv\n",
      "hr\n",
      "../sih_2024_data_source/statewise_results/Onion/KK_all_years.csv\n",
      "kk\n",
      "../sih_2024_data_source/statewise_results/Onion/NG_all_years.csv\n",
      "ng\n",
      "../sih_2024_data_source/statewise_results/Onion/HP_all_years.csv\n",
      "hp\n",
      "../sih_2024_data_source/statewise_results/Onion/TR_all_years.csv\n",
      "tr\n",
      "../sih_2024_data_source/statewise_results/Onion/JK_all_years.csv\n",
      "jk\n",
      "../sih_2024_data_source/statewise_results/Onion/AS_all_years.csv\n",
      "as\n"
     ]
    }
   ],
   "source": [
    "from create_statewise_dfs import get_statewise_datasets\n",
    "state_datasets = get_statewise_datasets()\n",
    "# SOURCE_DIR = os.environ.get(\n",
    "#     \"DATA_SOURCE_DIR\",\"../sih_2024_data_source/\")\n",
    "# STATE_WISE_DATA = SOURCE_DIR + \"statewise_results/Onion\"\n",
    "# state_datasets: dict[str, pd.DataFrame] = dict()\n",
    "# print(os.listdir(STATE_WISE_DATA))\n",
    "# files = [\n",
    "#         os.path.join(STATE_WISE_DATA, file)\n",
    "#         for file in os.listdir(STATE_WISE_DATA)\n",
    "#         if file.endswith(\".csv\")\n",
    "#     ]\n",
    "# for file in files :\n",
    "#     print(file)\n",
    "#     state_name = file.split(\"/\")[-1].lower().replace(\"_all_years.csv\",\"\")\n",
    "#     print(state_name)\n",
    "#     df = pd.read_csv(file)\n",
    "#     df.rename(columns={\"1\":\"district_name\",\"2\":\"market_name\",\"3\":\"commodity\",\"4\":\"variety\",\"5\":\"grade\",\"6\":\"min_rs_quintal\",\"7\":\"max_rs_quintal\",\"8\":\"modal_rs_quintal\",\"9\":\"date\"},inplace=True)\n",
    "#     df.drop(columns=\"0\",inplace=True)\n",
    "#     state_datasets[state_name] = df"
   ]
  },
  {
   "cell_type": "code",
   "execution_count": 91,
   "metadata": {},
   "outputs": [],
   "source": [
    "state_datasets"
   ]
  },
  {
   "cell_type": "code",
   "execution_count": 92,
   "metadata": {},
   "outputs": [
    {
     "ename": "TypeError",
     "evalue": "'NoneType' object is not subscriptable",
     "output_type": "error",
     "traceback": [
      "\u001b[0;31m---------------------------------------------------------------------------\u001b[0m",
      "\u001b[0;31mTypeError\u001b[0m                                 Traceback (most recent call last)",
      "Cell \u001b[0;32mIn[92], line 1\u001b[0m\n\u001b[0;32m----> 1\u001b[0m andhra \u001b[38;5;241m=\u001b[39m \u001b[43mstate_datasets\u001b[49m\u001b[43m[\u001b[49m\u001b[38;5;124;43m\"\u001b[39;49m\u001b[38;5;124;43map\u001b[39;49m\u001b[38;5;124;43m\"\u001b[39;49m\u001b[43m]\u001b[49m\n",
      "\u001b[0;31mTypeError\u001b[0m: 'NoneType' object is not subscriptable"
     ]
    }
   ],
   "source": [
    "andhra = state_datasets[\"ap\"]"
   ]
  },
  {
   "cell_type": "code",
   "execution_count": 93,
   "metadata": {},
   "outputs": [
    {
     "data": {
      "text/html": [
       "<div>\n",
       "<style scoped>\n",
       "    .dataframe tbody tr th:only-of-type {\n",
       "        vertical-align: middle;\n",
       "    }\n",
       "\n",
       "    .dataframe tbody tr th {\n",
       "        vertical-align: top;\n",
       "    }\n",
       "\n",
       "    .dataframe thead th {\n",
       "        text-align: right;\n",
       "    }\n",
       "</style>\n",
       "<table border=\"1\" class=\"dataframe\">\n",
       "  <thead>\n",
       "    <tr style=\"text-align: right;\">\n",
       "      <th></th>\n",
       "      <th>district_name</th>\n",
       "      <th>market_name</th>\n",
       "      <th>commodity</th>\n",
       "      <th>variety</th>\n",
       "      <th>grade</th>\n",
       "      <th>min_rs_quintal</th>\n",
       "      <th>max_rs_quintal</th>\n",
       "      <th>modal_rs_quintal</th>\n",
       "      <th>date</th>\n",
       "      <th>year</th>\n",
       "      <th>month</th>\n",
       "      <th>day_of_month</th>\n",
       "    </tr>\n",
       "  </thead>\n",
       "  <tbody>\n",
       "    <tr>\n",
       "      <th>0</th>\n",
       "      <td>Chittor</td>\n",
       "      <td>Chittor(Rythu Bazar)</td>\n",
       "      <td>Onion</td>\n",
       "      <td>2nd Sort</td>\n",
       "      <td>Large</td>\n",
       "      <td>850</td>\n",
       "      <td>1200</td>\n",
       "      <td>1000</td>\n",
       "      <td>01 Oct 2016</td>\n",
       "      <td>2016</td>\n",
       "      <td>Oct</td>\n",
       "      <td>01</td>\n",
       "    </tr>\n",
       "    <tr>\n",
       "      <th>1</th>\n",
       "      <td>West Godavari</td>\n",
       "      <td>Eluru(P.Sri.Mkt),RBZ</td>\n",
       "      <td>Onion</td>\n",
       "      <td>Onion</td>\n",
       "      <td>Medium</td>\n",
       "      <td>1400</td>\n",
       "      <td>1400</td>\n",
       "      <td>1400</td>\n",
       "      <td>16 Sep 2016</td>\n",
       "      <td>2016</td>\n",
       "      <td>Sep</td>\n",
       "      <td>16</td>\n",
       "    </tr>\n",
       "    <tr>\n",
       "      <th>2</th>\n",
       "      <td>West Godavari</td>\n",
       "      <td>Eluru(P.Sri.Mkt),RBZ</td>\n",
       "      <td>Onion</td>\n",
       "      <td>Onion</td>\n",
       "      <td>Medium</td>\n",
       "      <td>1400</td>\n",
       "      <td>1400</td>\n",
       "      <td>1400</td>\n",
       "      <td>24 Oct 2016</td>\n",
       "      <td>2016</td>\n",
       "      <td>Oct</td>\n",
       "      <td>24</td>\n",
       "    </tr>\n",
       "    <tr>\n",
       "      <th>3</th>\n",
       "      <td>West Godavari</td>\n",
       "      <td>Eluru(P.Sri.Mkt),RBZ</td>\n",
       "      <td>Onion</td>\n",
       "      <td>Onion</td>\n",
       "      <td>Medium</td>\n",
       "      <td>1600</td>\n",
       "      <td>1600</td>\n",
       "      <td>1600</td>\n",
       "      <td>30 Oct 2016</td>\n",
       "      <td>2016</td>\n",
       "      <td>Oct</td>\n",
       "      <td>30</td>\n",
       "    </tr>\n",
       "    <tr>\n",
       "      <th>4</th>\n",
       "      <td>West Godavari</td>\n",
       "      <td>Eluru(P.Sri.Mkt),RBZ</td>\n",
       "      <td>Onion</td>\n",
       "      <td>Onion</td>\n",
       "      <td>Medium</td>\n",
       "      <td>2000</td>\n",
       "      <td>2000</td>\n",
       "      <td>2000</td>\n",
       "      <td>13 Oct 2016</td>\n",
       "      <td>2016</td>\n",
       "      <td>Oct</td>\n",
       "      <td>13</td>\n",
       "    </tr>\n",
       "    <tr>\n",
       "      <th>...</th>\n",
       "      <td>...</td>\n",
       "      <td>...</td>\n",
       "      <td>...</td>\n",
       "      <td>...</td>\n",
       "      <td>...</td>\n",
       "      <td>...</td>\n",
       "      <td>...</td>\n",
       "      <td>...</td>\n",
       "      <td>...</td>\n",
       "      <td>...</td>\n",
       "      <td>...</td>\n",
       "      <td>...</td>\n",
       "    </tr>\n",
       "    <tr>\n",
       "      <th>6256</th>\n",
       "      <td>West Godavari</td>\n",
       "      <td>Tadepalligudem</td>\n",
       "      <td>Onion</td>\n",
       "      <td>Onion</td>\n",
       "      <td>FAQ</td>\n",
       "      <td>900</td>\n",
       "      <td>1700</td>\n",
       "      <td>1600</td>\n",
       "      <td>29 Jul 2019</td>\n",
       "      <td>2019</td>\n",
       "      <td>Jul</td>\n",
       "      <td>29</td>\n",
       "    </tr>\n",
       "    <tr>\n",
       "      <th>6257</th>\n",
       "      <td>West Godavari</td>\n",
       "      <td>Tadepalligudem</td>\n",
       "      <td>Onion</td>\n",
       "      <td>Onion</td>\n",
       "      <td>FAQ</td>\n",
       "      <td>900</td>\n",
       "      <td>1900</td>\n",
       "      <td>1800</td>\n",
       "      <td>11 Aug 2019</td>\n",
       "      <td>2019</td>\n",
       "      <td>Aug</td>\n",
       "      <td>11</td>\n",
       "    </tr>\n",
       "    <tr>\n",
       "      <th>6258</th>\n",
       "      <td>West Godavari</td>\n",
       "      <td>Tadepalligudem</td>\n",
       "      <td>Onion</td>\n",
       "      <td>Onion</td>\n",
       "      <td>FAQ</td>\n",
       "      <td>1000</td>\n",
       "      <td>1750</td>\n",
       "      <td>1650</td>\n",
       "      <td>31 Jul 2019</td>\n",
       "      <td>2019</td>\n",
       "      <td>Jul</td>\n",
       "      <td>31</td>\n",
       "    </tr>\n",
       "    <tr>\n",
       "      <th>6259</th>\n",
       "      <td>West Godavari</td>\n",
       "      <td>Tadepalligudem</td>\n",
       "      <td>Onion</td>\n",
       "      <td>Onion</td>\n",
       "      <td>FAQ</td>\n",
       "      <td>1000</td>\n",
       "      <td>1900</td>\n",
       "      <td>1800</td>\n",
       "      <td>12 Aug 2019</td>\n",
       "      <td>2019</td>\n",
       "      <td>Aug</td>\n",
       "      <td>12</td>\n",
       "    </tr>\n",
       "    <tr>\n",
       "      <th>6260</th>\n",
       "      <td>West Godavari</td>\n",
       "      <td>Tadepalligudem</td>\n",
       "      <td>Onion</td>\n",
       "      <td>Onion</td>\n",
       "      <td>FAQ</td>\n",
       "      <td>1000</td>\n",
       "      <td>2200</td>\n",
       "      <td>2000</td>\n",
       "      <td>15 Aug 2019</td>\n",
       "      <td>2019</td>\n",
       "      <td>Aug</td>\n",
       "      <td>15</td>\n",
       "    </tr>\n",
       "  </tbody>\n",
       "</table>\n",
       "<p>6261 rows × 12 columns</p>\n",
       "</div>"
      ],
      "text/plain": [
       "      district_name           market_name commodity   variety   grade  \\\n",
       "0           Chittor  Chittor(Rythu Bazar)     Onion  2nd Sort   Large   \n",
       "1     West Godavari  Eluru(P.Sri.Mkt),RBZ     Onion     Onion  Medium   \n",
       "2     West Godavari  Eluru(P.Sri.Mkt),RBZ     Onion     Onion  Medium   \n",
       "3     West Godavari  Eluru(P.Sri.Mkt),RBZ     Onion     Onion  Medium   \n",
       "4     West Godavari  Eluru(P.Sri.Mkt),RBZ     Onion     Onion  Medium   \n",
       "...             ...                   ...       ...       ...     ...   \n",
       "6256  West Godavari        Tadepalligudem     Onion     Onion     FAQ   \n",
       "6257  West Godavari        Tadepalligudem     Onion     Onion     FAQ   \n",
       "6258  West Godavari        Tadepalligudem     Onion     Onion     FAQ   \n",
       "6259  West Godavari        Tadepalligudem     Onion     Onion     FAQ   \n",
       "6260  West Godavari        Tadepalligudem     Onion     Onion     FAQ   \n",
       "\n",
       "      min_rs_quintal  max_rs_quintal  modal_rs_quintal         date  year  \\\n",
       "0                850            1200              1000  01 Oct 2016  2016   \n",
       "1               1400            1400              1400  16 Sep 2016  2016   \n",
       "2               1400            1400              1400  24 Oct 2016  2016   \n",
       "3               1600            1600              1600  30 Oct 2016  2016   \n",
       "4               2000            2000              2000  13 Oct 2016  2016   \n",
       "...              ...             ...               ...          ...   ...   \n",
       "6256             900            1700              1600  29 Jul 2019  2019   \n",
       "6257             900            1900              1800  11 Aug 2019  2019   \n",
       "6258            1000            1750              1650  31 Jul 2019  2019   \n",
       "6259            1000            1900              1800  12 Aug 2019  2019   \n",
       "6260            1000            2200              2000  15 Aug 2019  2019   \n",
       "\n",
       "     month day_of_month  \n",
       "0      Oct           01  \n",
       "1      Sep           16  \n",
       "2      Oct           24  \n",
       "3      Oct           30  \n",
       "4      Oct           13  \n",
       "...    ...          ...  \n",
       "6256   Jul           29  \n",
       "6257   Aug           11  \n",
       "6258   Jul           31  \n",
       "6259   Aug           12  \n",
       "6260   Aug           15  \n",
       "\n",
       "[6261 rows x 12 columns]"
      ]
     },
     "execution_count": 93,
     "metadata": {},
     "output_type": "execute_result"
    }
   ],
   "source": [
    "andhra"
   ]
  },
  {
   "cell_type": "code",
   "execution_count": 94,
   "metadata": {},
   "outputs": [
    {
     "name": "stdout",
     "output_type": "stream",
     "text": [
      "<class 'pandas.core.frame.DataFrame'>\n",
      "RangeIndex: 6261 entries, 0 to 6260\n",
      "Data columns (total 12 columns):\n",
      " #   Column            Non-Null Count  Dtype \n",
      "---  ------            --------------  ----- \n",
      " 0   district_name     6261 non-null   object\n",
      " 1   market_name       6261 non-null   object\n",
      " 2   commodity         6261 non-null   object\n",
      " 3   variety           6261 non-null   object\n",
      " 4   grade             6261 non-null   object\n",
      " 5   min_rs_quintal    6261 non-null   int64 \n",
      " 6   max_rs_quintal    6261 non-null   int64 \n",
      " 7   modal_rs_quintal  6261 non-null   int64 \n",
      " 8   date              6261 non-null   object\n",
      " 9   year              6261 non-null   object\n",
      " 10  month             6261 non-null   object\n",
      " 11  day_of_month      6261 non-null   object\n",
      "dtypes: int64(3), object(9)\n",
      "memory usage: 587.1+ KB\n"
     ]
    }
   ],
   "source": [
    "andhra.info()"
   ]
  },
  {
   "cell_type": "code",
   "execution_count": 95,
   "metadata": {},
   "outputs": [
    {
     "data": {
      "text/html": [
       "<div>\n",
       "<style scoped>\n",
       "    .dataframe tbody tr th:only-of-type {\n",
       "        vertical-align: middle;\n",
       "    }\n",
       "\n",
       "    .dataframe tbody tr th {\n",
       "        vertical-align: top;\n",
       "    }\n",
       "\n",
       "    .dataframe thead th {\n",
       "        text-align: right;\n",
       "    }\n",
       "</style>\n",
       "<table border=\"1\" class=\"dataframe\">\n",
       "  <thead>\n",
       "    <tr style=\"text-align: right;\">\n",
       "      <th></th>\n",
       "      <th>min_rs_quintal</th>\n",
       "      <th>max_rs_quintal</th>\n",
       "      <th>modal_rs_quintal</th>\n",
       "    </tr>\n",
       "  </thead>\n",
       "  <tbody>\n",
       "    <tr>\n",
       "      <th>count</th>\n",
       "      <td>6261.000000</td>\n",
       "      <td>6261.000000</td>\n",
       "      <td>6261.000000</td>\n",
       "    </tr>\n",
       "    <tr>\n",
       "      <th>mean</th>\n",
       "      <td>1330.222009</td>\n",
       "      <td>2024.922377</td>\n",
       "      <td>1705.615716</td>\n",
       "    </tr>\n",
       "    <tr>\n",
       "      <th>std</th>\n",
       "      <td>1027.646139</td>\n",
       "      <td>1200.120007</td>\n",
       "      <td>1084.483650</td>\n",
       "    </tr>\n",
       "    <tr>\n",
       "      <th>min</th>\n",
       "      <td>8.000000</td>\n",
       "      <td>17.000000</td>\n",
       "      <td>15.000000</td>\n",
       "    </tr>\n",
       "    <tr>\n",
       "      <th>25%</th>\n",
       "      <td>650.000000</td>\n",
       "      <td>1210.000000</td>\n",
       "      <td>1000.000000</td>\n",
       "    </tr>\n",
       "    <tr>\n",
       "      <th>50%</th>\n",
       "      <td>1000.000000</td>\n",
       "      <td>1700.000000</td>\n",
       "      <td>1400.000000</td>\n",
       "    </tr>\n",
       "    <tr>\n",
       "      <th>75%</th>\n",
       "      <td>1800.000000</td>\n",
       "      <td>2600.000000</td>\n",
       "      <td>2300.000000</td>\n",
       "    </tr>\n",
       "    <tr>\n",
       "      <th>max</th>\n",
       "      <td>9000.000000</td>\n",
       "      <td>9800.000000</td>\n",
       "      <td>9500.000000</td>\n",
       "    </tr>\n",
       "  </tbody>\n",
       "</table>\n",
       "</div>"
      ],
      "text/plain": [
       "       min_rs_quintal  max_rs_quintal  modal_rs_quintal\n",
       "count     6261.000000     6261.000000       6261.000000\n",
       "mean      1330.222009     2024.922377       1705.615716\n",
       "std       1027.646139     1200.120007       1084.483650\n",
       "min          8.000000       17.000000         15.000000\n",
       "25%        650.000000     1210.000000       1000.000000\n",
       "50%       1000.000000     1700.000000       1400.000000\n",
       "75%       1800.000000     2600.000000       2300.000000\n",
       "max       9000.000000     9800.000000       9500.000000"
      ]
     },
     "execution_count": 95,
     "metadata": {},
     "output_type": "execute_result"
    }
   ],
   "source": [
    "andhra.describe()"
   ]
  },
  {
   "cell_type": "code",
   "execution_count": 96,
   "metadata": {},
   "outputs": [
    {
     "data": {
      "text/plain": [
       "district_name\n",
       "Kurnool          4011\n",
       "West Godavari    1641\n",
       "Chittor           255\n",
       "Prakasam          223\n",
       "Visakhapatnam      44\n",
       "Nellore            41\n",
       "Cuddapah           22\n",
       "Srikakulam         19\n",
       "Vijayanagaram       4\n",
       "Krishna             1\n",
       "Name: count, dtype: int64"
      ]
     },
     "execution_count": 96,
     "metadata": {},
     "output_type": "execute_result"
    }
   ],
   "source": [
    "andhra.district_name.value_counts()"
   ]
  },
  {
   "cell_type": "code",
   "execution_count": 97,
   "metadata": {},
   "outputs": [
    {
     "data": {
      "text/plain": [
       "market_name\n",
       "Kurnool                 2048\n",
       "Pattikonda              1615\n",
       "Tadepalligudem           636\n",
       "Kovvur                   535\n",
       "Eluru-II,RBZ             349\n",
       "Alur                     335\n",
       "Chittor(Rythu Bazar)     247\n",
       "Ongole(Rythu Bazar)      223\n",
       "Eluru(P.Sri.Mkt),RBZ     117\n",
       "Visakhapatnam             44\n",
       "Nellore                   41\n",
       "Rajampet                  22\n",
       "Ichapuram                 18\n",
       "Tirupati                   8\n",
       "Koilkunta                  7\n",
       "Parvathipuram              4\n",
       "Eluru                      4\n",
       "Banaganapalli              4\n",
       "Kurnool(Rythu Bazar)       2\n",
       "Rajam                      1\n",
       "Mylavaram                  1\n",
       "Name: count, dtype: int64"
      ]
     },
     "execution_count": 97,
     "metadata": {},
     "output_type": "execute_result"
    }
   ],
   "source": [
    "andhra.market_name.value_counts()"
   ]
  },
  {
   "cell_type": "code",
   "execution_count": 98,
   "metadata": {},
   "outputs": [
    {
     "data": {
      "text/plain": [
       "commodity\n",
       "Onion    6261\n",
       "Name: count, dtype: int64"
      ]
     },
     "execution_count": 98,
     "metadata": {},
     "output_type": "execute_result"
    }
   ],
   "source": [
    "andhra.commodity.value_counts()"
   ]
  },
  {
   "cell_type": "code",
   "execution_count": 99,
   "metadata": {},
   "outputs": [
    {
     "data": {
      "text/plain": [
       "variety\n",
       "Local               3791\n",
       "Onion               1392\n",
       "Medium               467\n",
       "Beelary-Red          335\n",
       "2nd Sort             146\n",
       "1st Sort              63\n",
       "Bangalore-Samall      54\n",
       "Other                  9\n",
       "New Pune               2\n",
       "Hybrid                 2\n",
       "Name: count, dtype: int64"
      ]
     },
     "execution_count": 99,
     "metadata": {},
     "output_type": "execute_result"
    }
   ],
   "source": [
    "andhra.variety.value_counts()"
   ]
  },
  {
   "cell_type": "code",
   "execution_count": 100,
   "metadata": {},
   "outputs": [
    {
     "data": {
      "text/plain": [
       "grade\n",
       "FAQ       3165\n",
       "Medium    2818\n",
       "Large      249\n",
       "Small       29\n",
       "Name: count, dtype: int64"
      ]
     },
     "execution_count": 100,
     "metadata": {},
     "output_type": "execute_result"
    }
   ],
   "source": [
    "andhra.grade.value_counts()"
   ]
  },
  {
   "cell_type": "markdown",
   "metadata": {},
   "source": [
    "Lets first extract the date month and year column from `date`"
   ]
  },
  {
   "cell_type": "code",
   "execution_count": 101,
   "metadata": {},
   "outputs": [
    {
     "data": {
      "text/plain": [
       "0       2016\n",
       "1       2016\n",
       "2       2016\n",
       "3       2016\n",
       "4       2016\n",
       "        ... \n",
       "6256    2019\n",
       "6257    2019\n",
       "6258    2019\n",
       "6259    2019\n",
       "6260    2019\n",
       "Name: date, Length: 6261, dtype: object"
      ]
     },
     "execution_count": 101,
     "metadata": {},
     "output_type": "execute_result"
    }
   ],
   "source": [
    "andhra.date.str.split(\" \").str[2]"
   ]
  },
  {
   "cell_type": "code",
   "execution_count": 102,
   "metadata": {},
   "outputs": [],
   "source": [
    "andhra['year'] = andhra.date.str.split(\" \").str[2]\n",
    "andhra[\"month\"] = andhra.date.str.split(\" \").str[1]\n",
    "andhra[\"day_of_month\"] = andhra.date.str.split(\" \").str[0]"
   ]
  },
  {
   "cell_type": "code",
   "execution_count": 103,
   "metadata": {},
   "outputs": [],
   "source": [
    "andhra_yearly = andhra.groupby([\"year\"]).agg({\"modal_rs_quintal\": \"mean\",\"min_rs_quintal\":\"mean\",'max_rs_quintal':'mean'}).reset_index()"
   ]
  },
  {
   "cell_type": "code",
   "execution_count": 104,
   "metadata": {},
   "outputs": [
    {
     "data": {
      "text/html": [
       "<div>\n",
       "<style scoped>\n",
       "    .dataframe tbody tr th:only-of-type {\n",
       "        vertical-align: middle;\n",
       "    }\n",
       "\n",
       "    .dataframe tbody tr th {\n",
       "        vertical-align: top;\n",
       "    }\n",
       "\n",
       "    .dataframe thead th {\n",
       "        text-align: right;\n",
       "    }\n",
       "</style>\n",
       "<table border=\"1\" class=\"dataframe\">\n",
       "  <thead>\n",
       "    <tr style=\"text-align: right;\">\n",
       "      <th></th>\n",
       "      <th>year</th>\n",
       "      <th>modal_rs_quintal</th>\n",
       "      <th>min_rs_quintal</th>\n",
       "      <th>max_rs_quintal</th>\n",
       "    </tr>\n",
       "  </thead>\n",
       "  <tbody>\n",
       "    <tr>\n",
       "      <th>0</th>\n",
       "      <td>2014</td>\n",
       "      <td>1319.949602</td>\n",
       "      <td>1056.992042</td>\n",
       "      <td>1547.840849</td>\n",
       "    </tr>\n",
       "    <tr>\n",
       "      <th>1</th>\n",
       "      <td>2015</td>\n",
       "      <td>2077.311976</td>\n",
       "      <td>1791.656886</td>\n",
       "      <td>2406.911377</td>\n",
       "    </tr>\n",
       "    <tr>\n",
       "      <th>2</th>\n",
       "      <td>2016</td>\n",
       "      <td>1136.460674</td>\n",
       "      <td>987.157303</td>\n",
       "      <td>1302.477017</td>\n",
       "    </tr>\n",
       "    <tr>\n",
       "      <th>3</th>\n",
       "      <td>2017</td>\n",
       "      <td>1285.272152</td>\n",
       "      <td>964.198312</td>\n",
       "      <td>1499.824895</td>\n",
       "    </tr>\n",
       "    <tr>\n",
       "      <th>4</th>\n",
       "      <td>2018</td>\n",
       "      <td>1208.310757</td>\n",
       "      <td>824.581673</td>\n",
       "      <td>1466.015936</td>\n",
       "    </tr>\n",
       "    <tr>\n",
       "      <th>5</th>\n",
       "      <td>2019</td>\n",
       "      <td>1562.964744</td>\n",
       "      <td>1143.060897</td>\n",
       "      <td>1786.169872</td>\n",
       "    </tr>\n",
       "    <tr>\n",
       "      <th>6</th>\n",
       "      <td>2020</td>\n",
       "      <td>3407.047970</td>\n",
       "      <td>2513.298893</td>\n",
       "      <td>4159.003690</td>\n",
       "    </tr>\n",
       "    <tr>\n",
       "      <th>7</th>\n",
       "      <td>2021</td>\n",
       "      <td>1928.128090</td>\n",
       "      <td>1316.462921</td>\n",
       "      <td>2394.492135</td>\n",
       "    </tr>\n",
       "    <tr>\n",
       "      <th>8</th>\n",
       "      <td>2022</td>\n",
       "      <td>1432.971235</td>\n",
       "      <td>983.988156</td>\n",
       "      <td>1903.216582</td>\n",
       "    </tr>\n",
       "    <tr>\n",
       "      <th>9</th>\n",
       "      <td>2023</td>\n",
       "      <td>1636.758389</td>\n",
       "      <td>909.835570</td>\n",
       "      <td>2046.449664</td>\n",
       "    </tr>\n",
       "    <tr>\n",
       "      <th>10</th>\n",
       "      <td>2024</td>\n",
       "      <td>2120.181495</td>\n",
       "      <td>1689.224199</td>\n",
       "      <td>2416.715302</td>\n",
       "    </tr>\n",
       "  </tbody>\n",
       "</table>\n",
       "</div>"
      ],
      "text/plain": [
       "    year  modal_rs_quintal  min_rs_quintal  max_rs_quintal\n",
       "0   2014       1319.949602     1056.992042     1547.840849\n",
       "1   2015       2077.311976     1791.656886     2406.911377\n",
       "2   2016       1136.460674      987.157303     1302.477017\n",
       "3   2017       1285.272152      964.198312     1499.824895\n",
       "4   2018       1208.310757      824.581673     1466.015936\n",
       "5   2019       1562.964744     1143.060897     1786.169872\n",
       "6   2020       3407.047970     2513.298893     4159.003690\n",
       "7   2021       1928.128090     1316.462921     2394.492135\n",
       "8   2022       1432.971235      983.988156     1903.216582\n",
       "9   2023       1636.758389      909.835570     2046.449664\n",
       "10  2024       2120.181495     1689.224199     2416.715302"
      ]
     },
     "execution_count": 104,
     "metadata": {},
     "output_type": "execute_result"
    }
   ],
   "source": [
    "andhra_yearly"
   ]
  },
  {
   "cell_type": "code",
   "execution_count": 105,
   "metadata": {},
   "outputs": [
    {
     "data": {
      "application/vnd.plotly.v1+json": {
       "config": {
        "plotlyServerURL": "https://plot.ly"
       },
       "data": [
        {
         "hovertemplate": "variable=modal_rs_quintal<br>year=%{x}<br>value=%{y}<extra></extra>",
         "legendgroup": "modal_rs_quintal",
         "line": {
          "color": "#636efa",
          "dash": "solid"
         },
         "marker": {
          "symbol": "circle"
         },
         "mode": "lines",
         "name": "modal_rs_quintal",
         "orientation": "v",
         "showlegend": true,
         "type": "scatter",
         "x": [
          "2014",
          "2015",
          "2016",
          "2017",
          "2018",
          "2019",
          "2020",
          "2021",
          "2022",
          "2023",
          "2024"
         ],
         "xaxis": "x",
         "y": [
          1319.949602122016,
          2077.3119760479044,
          1136.4606741573034,
          1285.2721518987341,
          1208.3107569721114,
          1562.9647435897436,
          3407.047970479705,
          1928.1280898876405,
          1432.9712351945855,
          1636.758389261745,
          2120.1814946619215
         ],
         "yaxis": "y"
        },
        {
         "hovertemplate": "variable=min_rs_quintal<br>year=%{x}<br>value=%{y}<extra></extra>",
         "legendgroup": "min_rs_quintal",
         "line": {
          "color": "#EF553B",
          "dash": "solid"
         },
         "marker": {
          "symbol": "circle"
         },
         "mode": "lines",
         "name": "min_rs_quintal",
         "orientation": "v",
         "showlegend": true,
         "type": "scatter",
         "x": [
          "2014",
          "2015",
          "2016",
          "2017",
          "2018",
          "2019",
          "2020",
          "2021",
          "2022",
          "2023",
          "2024"
         ],
         "xaxis": "x",
         "y": [
          1056.9920424403183,
          1791.6568862275449,
          987.1573033707865,
          964.1983122362869,
          824.5816733067729,
          1143.0608974358975,
          2513.2988929889298,
          1316.4629213483147,
          983.9881556683587,
          909.8355704697987,
          1689.2241992882562
         ],
         "yaxis": "y"
        },
        {
         "hovertemplate": "variable=max_rs_quintal<br>year=%{x}<br>value=%{y}<extra></extra>",
         "legendgroup": "max_rs_quintal",
         "line": {
          "color": "#00cc96",
          "dash": "solid"
         },
         "marker": {
          "symbol": "circle"
         },
         "mode": "lines",
         "name": "max_rs_quintal",
         "orientation": "v",
         "showlegend": true,
         "type": "scatter",
         "x": [
          "2014",
          "2015",
          "2016",
          "2017",
          "2018",
          "2019",
          "2020",
          "2021",
          "2022",
          "2023",
          "2024"
         ],
         "xaxis": "x",
         "y": [
          1547.840848806366,
          2406.911377245509,
          1302.4770173646577,
          1499.824894514768,
          1466.01593625498,
          1786.1698717948718,
          4159.0036900369005,
          2394.4921348314606,
          1903.2165820642979,
          2046.4496644295302,
          2416.715302491103
         ],
         "yaxis": "y"
        }
       ],
       "layout": {
        "legend": {
         "title": {
          "text": "variable"
         },
         "tracegroupgap": 0
        },
        "margin": {
         "t": 60
        },
        "template": {
         "data": {
          "bar": [
           {
            "error_x": {
             "color": "#2a3f5f"
            },
            "error_y": {
             "color": "#2a3f5f"
            },
            "marker": {
             "line": {
              "color": "#E5ECF6",
              "width": 0.5
             },
             "pattern": {
              "fillmode": "overlay",
              "size": 10,
              "solidity": 0.2
             }
            },
            "type": "bar"
           }
          ],
          "barpolar": [
           {
            "marker": {
             "line": {
              "color": "#E5ECF6",
              "width": 0.5
             },
             "pattern": {
              "fillmode": "overlay",
              "size": 10,
              "solidity": 0.2
             }
            },
            "type": "barpolar"
           }
          ],
          "carpet": [
           {
            "aaxis": {
             "endlinecolor": "#2a3f5f",
             "gridcolor": "white",
             "linecolor": "white",
             "minorgridcolor": "white",
             "startlinecolor": "#2a3f5f"
            },
            "baxis": {
             "endlinecolor": "#2a3f5f",
             "gridcolor": "white",
             "linecolor": "white",
             "minorgridcolor": "white",
             "startlinecolor": "#2a3f5f"
            },
            "type": "carpet"
           }
          ],
          "choropleth": [
           {
            "colorbar": {
             "outlinewidth": 0,
             "ticks": ""
            },
            "type": "choropleth"
           }
          ],
          "contour": [
           {
            "colorbar": {
             "outlinewidth": 0,
             "ticks": ""
            },
            "colorscale": [
             [
              0,
              "#0d0887"
             ],
             [
              0.1111111111111111,
              "#46039f"
             ],
             [
              0.2222222222222222,
              "#7201a8"
             ],
             [
              0.3333333333333333,
              "#9c179e"
             ],
             [
              0.4444444444444444,
              "#bd3786"
             ],
             [
              0.5555555555555556,
              "#d8576b"
             ],
             [
              0.6666666666666666,
              "#ed7953"
             ],
             [
              0.7777777777777778,
              "#fb9f3a"
             ],
             [
              0.8888888888888888,
              "#fdca26"
             ],
             [
              1,
              "#f0f921"
             ]
            ],
            "type": "contour"
           }
          ],
          "contourcarpet": [
           {
            "colorbar": {
             "outlinewidth": 0,
             "ticks": ""
            },
            "type": "contourcarpet"
           }
          ],
          "heatmap": [
           {
            "colorbar": {
             "outlinewidth": 0,
             "ticks": ""
            },
            "colorscale": [
             [
              0,
              "#0d0887"
             ],
             [
              0.1111111111111111,
              "#46039f"
             ],
             [
              0.2222222222222222,
              "#7201a8"
             ],
             [
              0.3333333333333333,
              "#9c179e"
             ],
             [
              0.4444444444444444,
              "#bd3786"
             ],
             [
              0.5555555555555556,
              "#d8576b"
             ],
             [
              0.6666666666666666,
              "#ed7953"
             ],
             [
              0.7777777777777778,
              "#fb9f3a"
             ],
             [
              0.8888888888888888,
              "#fdca26"
             ],
             [
              1,
              "#f0f921"
             ]
            ],
            "type": "heatmap"
           }
          ],
          "heatmapgl": [
           {
            "colorbar": {
             "outlinewidth": 0,
             "ticks": ""
            },
            "colorscale": [
             [
              0,
              "#0d0887"
             ],
             [
              0.1111111111111111,
              "#46039f"
             ],
             [
              0.2222222222222222,
              "#7201a8"
             ],
             [
              0.3333333333333333,
              "#9c179e"
             ],
             [
              0.4444444444444444,
              "#bd3786"
             ],
             [
              0.5555555555555556,
              "#d8576b"
             ],
             [
              0.6666666666666666,
              "#ed7953"
             ],
             [
              0.7777777777777778,
              "#fb9f3a"
             ],
             [
              0.8888888888888888,
              "#fdca26"
             ],
             [
              1,
              "#f0f921"
             ]
            ],
            "type": "heatmapgl"
           }
          ],
          "histogram": [
           {
            "marker": {
             "pattern": {
              "fillmode": "overlay",
              "size": 10,
              "solidity": 0.2
             }
            },
            "type": "histogram"
           }
          ],
          "histogram2d": [
           {
            "colorbar": {
             "outlinewidth": 0,
             "ticks": ""
            },
            "colorscale": [
             [
              0,
              "#0d0887"
             ],
             [
              0.1111111111111111,
              "#46039f"
             ],
             [
              0.2222222222222222,
              "#7201a8"
             ],
             [
              0.3333333333333333,
              "#9c179e"
             ],
             [
              0.4444444444444444,
              "#bd3786"
             ],
             [
              0.5555555555555556,
              "#d8576b"
             ],
             [
              0.6666666666666666,
              "#ed7953"
             ],
             [
              0.7777777777777778,
              "#fb9f3a"
             ],
             [
              0.8888888888888888,
              "#fdca26"
             ],
             [
              1,
              "#f0f921"
             ]
            ],
            "type": "histogram2d"
           }
          ],
          "histogram2dcontour": [
           {
            "colorbar": {
             "outlinewidth": 0,
             "ticks": ""
            },
            "colorscale": [
             [
              0,
              "#0d0887"
             ],
             [
              0.1111111111111111,
              "#46039f"
             ],
             [
              0.2222222222222222,
              "#7201a8"
             ],
             [
              0.3333333333333333,
              "#9c179e"
             ],
             [
              0.4444444444444444,
              "#bd3786"
             ],
             [
              0.5555555555555556,
              "#d8576b"
             ],
             [
              0.6666666666666666,
              "#ed7953"
             ],
             [
              0.7777777777777778,
              "#fb9f3a"
             ],
             [
              0.8888888888888888,
              "#fdca26"
             ],
             [
              1,
              "#f0f921"
             ]
            ],
            "type": "histogram2dcontour"
           }
          ],
          "mesh3d": [
           {
            "colorbar": {
             "outlinewidth": 0,
             "ticks": ""
            },
            "type": "mesh3d"
           }
          ],
          "parcoords": [
           {
            "line": {
             "colorbar": {
              "outlinewidth": 0,
              "ticks": ""
             }
            },
            "type": "parcoords"
           }
          ],
          "pie": [
           {
            "automargin": true,
            "type": "pie"
           }
          ],
          "scatter": [
           {
            "fillpattern": {
             "fillmode": "overlay",
             "size": 10,
             "solidity": 0.2
            },
            "type": "scatter"
           }
          ],
          "scatter3d": [
           {
            "line": {
             "colorbar": {
              "outlinewidth": 0,
              "ticks": ""
             }
            },
            "marker": {
             "colorbar": {
              "outlinewidth": 0,
              "ticks": ""
             }
            },
            "type": "scatter3d"
           }
          ],
          "scattercarpet": [
           {
            "marker": {
             "colorbar": {
              "outlinewidth": 0,
              "ticks": ""
             }
            },
            "type": "scattercarpet"
           }
          ],
          "scattergeo": [
           {
            "marker": {
             "colorbar": {
              "outlinewidth": 0,
              "ticks": ""
             }
            },
            "type": "scattergeo"
           }
          ],
          "scattergl": [
           {
            "marker": {
             "colorbar": {
              "outlinewidth": 0,
              "ticks": ""
             }
            },
            "type": "scattergl"
           }
          ],
          "scattermapbox": [
           {
            "marker": {
             "colorbar": {
              "outlinewidth": 0,
              "ticks": ""
             }
            },
            "type": "scattermapbox"
           }
          ],
          "scatterpolar": [
           {
            "marker": {
             "colorbar": {
              "outlinewidth": 0,
              "ticks": ""
             }
            },
            "type": "scatterpolar"
           }
          ],
          "scatterpolargl": [
           {
            "marker": {
             "colorbar": {
              "outlinewidth": 0,
              "ticks": ""
             }
            },
            "type": "scatterpolargl"
           }
          ],
          "scatterternary": [
           {
            "marker": {
             "colorbar": {
              "outlinewidth": 0,
              "ticks": ""
             }
            },
            "type": "scatterternary"
           }
          ],
          "surface": [
           {
            "colorbar": {
             "outlinewidth": 0,
             "ticks": ""
            },
            "colorscale": [
             [
              0,
              "#0d0887"
             ],
             [
              0.1111111111111111,
              "#46039f"
             ],
             [
              0.2222222222222222,
              "#7201a8"
             ],
             [
              0.3333333333333333,
              "#9c179e"
             ],
             [
              0.4444444444444444,
              "#bd3786"
             ],
             [
              0.5555555555555556,
              "#d8576b"
             ],
             [
              0.6666666666666666,
              "#ed7953"
             ],
             [
              0.7777777777777778,
              "#fb9f3a"
             ],
             [
              0.8888888888888888,
              "#fdca26"
             ],
             [
              1,
              "#f0f921"
             ]
            ],
            "type": "surface"
           }
          ],
          "table": [
           {
            "cells": {
             "fill": {
              "color": "#EBF0F8"
             },
             "line": {
              "color": "white"
             }
            },
            "header": {
             "fill": {
              "color": "#C8D4E3"
             },
             "line": {
              "color": "white"
             }
            },
            "type": "table"
           }
          ]
         },
         "layout": {
          "annotationdefaults": {
           "arrowcolor": "#2a3f5f",
           "arrowhead": 0,
           "arrowwidth": 1
          },
          "autotypenumbers": "strict",
          "coloraxis": {
           "colorbar": {
            "outlinewidth": 0,
            "ticks": ""
           }
          },
          "colorscale": {
           "diverging": [
            [
             0,
             "#8e0152"
            ],
            [
             0.1,
             "#c51b7d"
            ],
            [
             0.2,
             "#de77ae"
            ],
            [
             0.3,
             "#f1b6da"
            ],
            [
             0.4,
             "#fde0ef"
            ],
            [
             0.5,
             "#f7f7f7"
            ],
            [
             0.6,
             "#e6f5d0"
            ],
            [
             0.7,
             "#b8e186"
            ],
            [
             0.8,
             "#7fbc41"
            ],
            [
             0.9,
             "#4d9221"
            ],
            [
             1,
             "#276419"
            ]
           ],
           "sequential": [
            [
             0,
             "#0d0887"
            ],
            [
             0.1111111111111111,
             "#46039f"
            ],
            [
             0.2222222222222222,
             "#7201a8"
            ],
            [
             0.3333333333333333,
             "#9c179e"
            ],
            [
             0.4444444444444444,
             "#bd3786"
            ],
            [
             0.5555555555555556,
             "#d8576b"
            ],
            [
             0.6666666666666666,
             "#ed7953"
            ],
            [
             0.7777777777777778,
             "#fb9f3a"
            ],
            [
             0.8888888888888888,
             "#fdca26"
            ],
            [
             1,
             "#f0f921"
            ]
           ],
           "sequentialminus": [
            [
             0,
             "#0d0887"
            ],
            [
             0.1111111111111111,
             "#46039f"
            ],
            [
             0.2222222222222222,
             "#7201a8"
            ],
            [
             0.3333333333333333,
             "#9c179e"
            ],
            [
             0.4444444444444444,
             "#bd3786"
            ],
            [
             0.5555555555555556,
             "#d8576b"
            ],
            [
             0.6666666666666666,
             "#ed7953"
            ],
            [
             0.7777777777777778,
             "#fb9f3a"
            ],
            [
             0.8888888888888888,
             "#fdca26"
            ],
            [
             1,
             "#f0f921"
            ]
           ]
          },
          "colorway": [
           "#636efa",
           "#EF553B",
           "#00cc96",
           "#ab63fa",
           "#FFA15A",
           "#19d3f3",
           "#FF6692",
           "#B6E880",
           "#FF97FF",
           "#FECB52"
          ],
          "font": {
           "color": "#2a3f5f"
          },
          "geo": {
           "bgcolor": "white",
           "lakecolor": "white",
           "landcolor": "#E5ECF6",
           "showlakes": true,
           "showland": true,
           "subunitcolor": "white"
          },
          "hoverlabel": {
           "align": "left"
          },
          "hovermode": "closest",
          "mapbox": {
           "style": "light"
          },
          "paper_bgcolor": "white",
          "plot_bgcolor": "#E5ECF6",
          "polar": {
           "angularaxis": {
            "gridcolor": "white",
            "linecolor": "white",
            "ticks": ""
           },
           "bgcolor": "#E5ECF6",
           "radialaxis": {
            "gridcolor": "white",
            "linecolor": "white",
            "ticks": ""
           }
          },
          "scene": {
           "xaxis": {
            "backgroundcolor": "#E5ECF6",
            "gridcolor": "white",
            "gridwidth": 2,
            "linecolor": "white",
            "showbackground": true,
            "ticks": "",
            "zerolinecolor": "white"
           },
           "yaxis": {
            "backgroundcolor": "#E5ECF6",
            "gridcolor": "white",
            "gridwidth": 2,
            "linecolor": "white",
            "showbackground": true,
            "ticks": "",
            "zerolinecolor": "white"
           },
           "zaxis": {
            "backgroundcolor": "#E5ECF6",
            "gridcolor": "white",
            "gridwidth": 2,
            "linecolor": "white",
            "showbackground": true,
            "ticks": "",
            "zerolinecolor": "white"
           }
          },
          "shapedefaults": {
           "line": {
            "color": "#2a3f5f"
           }
          },
          "ternary": {
           "aaxis": {
            "gridcolor": "white",
            "linecolor": "white",
            "ticks": ""
           },
           "baxis": {
            "gridcolor": "white",
            "linecolor": "white",
            "ticks": ""
           },
           "bgcolor": "#E5ECF6",
           "caxis": {
            "gridcolor": "white",
            "linecolor": "white",
            "ticks": ""
           }
          },
          "title": {
           "x": 0.05
          },
          "xaxis": {
           "automargin": true,
           "gridcolor": "white",
           "linecolor": "white",
           "ticks": "",
           "title": {
            "standoff": 15
           },
           "zerolinecolor": "white",
           "zerolinewidth": 2
          },
          "yaxis": {
           "automargin": true,
           "gridcolor": "white",
           "linecolor": "white",
           "ticks": "",
           "title": {
            "standoff": 15
           },
           "zerolinecolor": "white",
           "zerolinewidth": 2
          }
         }
        },
        "xaxis": {
         "anchor": "y",
         "domain": [
          0,
          1
         ],
         "title": {
          "text": "year"
         }
        },
        "yaxis": {
         "anchor": "x",
         "domain": [
          0,
          1
         ],
         "title": {
          "text": "value"
         }
        }
       }
      }
     },
     "metadata": {},
     "output_type": "display_data"
    }
   ],
   "source": [
    "px.line(data_frame=andhra_yearly,x=andhra_yearly['year'],y=[andhra_yearly['modal_rs_quintal'],andhra_yearly['min_rs_quintal'],andhra_yearly['max_rs_quintal']])"
   ]
  },
  {
   "cell_type": "code",
   "execution_count": 106,
   "metadata": {},
   "outputs": [],
   "source": [
    "andhra_yearly_district = (\n",
    "    andhra.groupby([\"year\",\"district_name\"])\n",
    "    .agg(\n",
    "        {\"modal_rs_quintal\": \"mean\", \"min_rs_quintal\": \"mean\", \"max_rs_quintal\": \"mean\"}\n",
    "    )\n",
    "    .reset_index()\n",
    ")"
   ]
  },
  {
   "cell_type": "code",
   "execution_count": 107,
   "metadata": {},
   "outputs": [
    {
     "data": {
      "text/html": [
       "<div>\n",
       "<style scoped>\n",
       "    .dataframe tbody tr th:only-of-type {\n",
       "        vertical-align: middle;\n",
       "    }\n",
       "\n",
       "    .dataframe tbody tr th {\n",
       "        vertical-align: top;\n",
       "    }\n",
       "\n",
       "    .dataframe thead th {\n",
       "        text-align: right;\n",
       "    }\n",
       "</style>\n",
       "<table border=\"1\" class=\"dataframe\">\n",
       "  <thead>\n",
       "    <tr style=\"text-align: right;\">\n",
       "      <th></th>\n",
       "      <th>year</th>\n",
       "      <th>district_name</th>\n",
       "      <th>modal_rs_quintal</th>\n",
       "      <th>min_rs_quintal</th>\n",
       "      <th>max_rs_quintal</th>\n",
       "    </tr>\n",
       "  </thead>\n",
       "  <tbody>\n",
       "    <tr>\n",
       "      <th>0</th>\n",
       "      <td>2014</td>\n",
       "      <td>Kurnool</td>\n",
       "      <td>1076.704403</td>\n",
       "      <td>821.924528</td>\n",
       "      <td>1270.037736</td>\n",
       "    </tr>\n",
       "    <tr>\n",
       "      <th>1</th>\n",
       "      <td>2014</td>\n",
       "      <td>Nellore</td>\n",
       "      <td>2029.268293</td>\n",
       "      <td>1860.975610</td>\n",
       "      <td>2251.219512</td>\n",
       "    </tr>\n",
       "    <tr>\n",
       "      <th>2</th>\n",
       "      <td>2014</td>\n",
       "      <td>Vijayanagaram</td>\n",
       "      <td>625.000000</td>\n",
       "      <td>600.000000</td>\n",
       "      <td>650.000000</td>\n",
       "    </tr>\n",
       "    <tr>\n",
       "      <th>3</th>\n",
       "      <td>2014</td>\n",
       "      <td>West Godavari</td>\n",
       "      <td>1378.409091</td>\n",
       "      <td>1084.659091</td>\n",
       "      <td>1640.056818</td>\n",
       "    </tr>\n",
       "    <tr>\n",
       "      <th>4</th>\n",
       "      <td>2015</td>\n",
       "      <td>Chittor</td>\n",
       "      <td>1951.832000</td>\n",
       "      <td>1716.744000</td>\n",
       "      <td>2336.344000</td>\n",
       "    </tr>\n",
       "    <tr>\n",
       "      <th>5</th>\n",
       "      <td>2015</td>\n",
       "      <td>Kurnool</td>\n",
       "      <td>2413.174367</td>\n",
       "      <td>2071.922504</td>\n",
       "      <td>2721.289121</td>\n",
       "    </tr>\n",
       "    <tr>\n",
       "      <th>6</th>\n",
       "      <td>2015</td>\n",
       "      <td>Prakasam</td>\n",
       "      <td>2613.131313</td>\n",
       "      <td>2319.191919</td>\n",
       "      <td>2811.111111</td>\n",
       "    </tr>\n",
       "    <tr>\n",
       "      <th>7</th>\n",
       "      <td>2015</td>\n",
       "      <td>Srikakulam</td>\n",
       "      <td>1866.666667</td>\n",
       "      <td>1666.666667</td>\n",
       "      <td>2166.666667</td>\n",
       "    </tr>\n",
       "    <tr>\n",
       "      <th>8</th>\n",
       "      <td>2015</td>\n",
       "      <td>Vijayanagaram</td>\n",
       "      <td>1933.333333</td>\n",
       "      <td>1800.000000</td>\n",
       "      <td>2066.666667</td>\n",
       "    </tr>\n",
       "    <tr>\n",
       "      <th>9</th>\n",
       "      <td>2015</td>\n",
       "      <td>Visakhapatnam</td>\n",
       "      <td>1339.000000</td>\n",
       "      <td>1300.000000</td>\n",
       "      <td>1400.000000</td>\n",
       "    </tr>\n",
       "    <tr>\n",
       "      <th>10</th>\n",
       "      <td>2015</td>\n",
       "      <td>West Godavari</td>\n",
       "      <td>1738.088657</td>\n",
       "      <td>1492.325945</td>\n",
       "      <td>2096.106910</td>\n",
       "    </tr>\n",
       "    <tr>\n",
       "      <th>11</th>\n",
       "      <td>2016</td>\n",
       "      <td>Chittor</td>\n",
       "      <td>1377.269231</td>\n",
       "      <td>1198.376923</td>\n",
       "      <td>1572.700000</td>\n",
       "    </tr>\n",
       "    <tr>\n",
       "      <th>12</th>\n",
       "      <td>2016</td>\n",
       "      <td>Krishna</td>\n",
       "      <td>800.000000</td>\n",
       "      <td>800.000000</td>\n",
       "      <td>875.000000</td>\n",
       "    </tr>\n",
       "    <tr>\n",
       "      <th>13</th>\n",
       "      <td>2016</td>\n",
       "      <td>Kurnool</td>\n",
       "      <td>914.335106</td>\n",
       "      <td>748.244681</td>\n",
       "      <td>1098.776596</td>\n",
       "    </tr>\n",
       "    <tr>\n",
       "      <th>14</th>\n",
       "      <td>2016</td>\n",
       "      <td>Prakasam</td>\n",
       "      <td>1253.660714</td>\n",
       "      <td>1155.625000</td>\n",
       "      <td>1349.633929</td>\n",
       "    </tr>\n",
       "    <tr>\n",
       "      <th>15</th>\n",
       "      <td>2016</td>\n",
       "      <td>Srikakulam</td>\n",
       "      <td>1680.000000</td>\n",
       "      <td>1580.000000</td>\n",
       "      <td>1840.000000</td>\n",
       "    </tr>\n",
       "    <tr>\n",
       "      <th>16</th>\n",
       "      <td>2016</td>\n",
       "      <td>Visakhapatnam</td>\n",
       "      <td>721.428571</td>\n",
       "      <td>684.571429</td>\n",
       "      <td>762.857143</td>\n",
       "    </tr>\n",
       "    <tr>\n",
       "      <th>17</th>\n",
       "      <td>2016</td>\n",
       "      <td>West Godavari</td>\n",
       "      <td>1296.562500</td>\n",
       "      <td>1147.525000</td>\n",
       "      <td>1467.500000</td>\n",
       "    </tr>\n",
       "    <tr>\n",
       "      <th>18</th>\n",
       "      <td>2017</td>\n",
       "      <td>Cuddapah</td>\n",
       "      <td>704.545455</td>\n",
       "      <td>613.636364</td>\n",
       "      <td>795.454545</td>\n",
       "    </tr>\n",
       "    <tr>\n",
       "      <th>19</th>\n",
       "      <td>2017</td>\n",
       "      <td>Kurnool</td>\n",
       "      <td>1287.854077</td>\n",
       "      <td>655.321888</td>\n",
       "      <td>1701.918455</td>\n",
       "    </tr>\n",
       "    <tr>\n",
       "      <th>20</th>\n",
       "      <td>2017</td>\n",
       "      <td>Prakasam</td>\n",
       "      <td>1566.666667</td>\n",
       "      <td>1466.666667</td>\n",
       "      <td>1675.000000</td>\n",
       "    </tr>\n",
       "    <tr>\n",
       "      <th>21</th>\n",
       "      <td>2017</td>\n",
       "      <td>Srikakulam</td>\n",
       "      <td>1181.818182</td>\n",
       "      <td>1054.545455</td>\n",
       "      <td>1336.363636</td>\n",
       "    </tr>\n",
       "    <tr>\n",
       "      <th>22</th>\n",
       "      <td>2017</td>\n",
       "      <td>Visakhapatnam</td>\n",
       "      <td>535.571429</td>\n",
       "      <td>505.714286</td>\n",
       "      <td>567.142857</td>\n",
       "    </tr>\n",
       "    <tr>\n",
       "      <th>23</th>\n",
       "      <td>2017</td>\n",
       "      <td>West Godavari</td>\n",
       "      <td>1365.608466</td>\n",
       "      <td>1365.608466</td>\n",
       "      <td>1365.608466</td>\n",
       "    </tr>\n",
       "    <tr>\n",
       "      <th>24</th>\n",
       "      <td>2018</td>\n",
       "      <td>Kurnool</td>\n",
       "      <td>1212.192771</td>\n",
       "      <td>827.188755</td>\n",
       "      <td>1470.763052</td>\n",
       "    </tr>\n",
       "    <tr>\n",
       "      <th>25</th>\n",
       "      <td>2018</td>\n",
       "      <td>West Godavari</td>\n",
       "      <td>725.000000</td>\n",
       "      <td>500.000000</td>\n",
       "      <td>875.000000</td>\n",
       "    </tr>\n",
       "    <tr>\n",
       "      <th>26</th>\n",
       "      <td>2019</td>\n",
       "      <td>Kurnool</td>\n",
       "      <td>1686.819222</td>\n",
       "      <td>1366.407323</td>\n",
       "      <td>1955.766590</td>\n",
       "    </tr>\n",
       "    <tr>\n",
       "      <th>27</th>\n",
       "      <td>2019</td>\n",
       "      <td>West Godavari</td>\n",
       "      <td>1273.529412</td>\n",
       "      <td>621.122995</td>\n",
       "      <td>1389.839572</td>\n",
       "    </tr>\n",
       "    <tr>\n",
       "      <th>28</th>\n",
       "      <td>2020</td>\n",
       "      <td>Kurnool</td>\n",
       "      <td>3407.047970</td>\n",
       "      <td>2513.298893</td>\n",
       "      <td>4159.003690</td>\n",
       "    </tr>\n",
       "    <tr>\n",
       "      <th>29</th>\n",
       "      <td>2021</td>\n",
       "      <td>Kurnool</td>\n",
       "      <td>1928.128090</td>\n",
       "      <td>1316.462921</td>\n",
       "      <td>2394.492135</td>\n",
       "    </tr>\n",
       "    <tr>\n",
       "      <th>30</th>\n",
       "      <td>2022</td>\n",
       "      <td>Kurnool</td>\n",
       "      <td>1432.971235</td>\n",
       "      <td>983.988156</td>\n",
       "      <td>1903.216582</td>\n",
       "    </tr>\n",
       "    <tr>\n",
       "      <th>31</th>\n",
       "      <td>2023</td>\n",
       "      <td>Kurnool</td>\n",
       "      <td>1636.758389</td>\n",
       "      <td>909.835570</td>\n",
       "      <td>2046.449664</td>\n",
       "    </tr>\n",
       "    <tr>\n",
       "      <th>32</th>\n",
       "      <td>2024</td>\n",
       "      <td>Kurnool</td>\n",
       "      <td>2120.181495</td>\n",
       "      <td>1689.224199</td>\n",
       "      <td>2416.715302</td>\n",
       "    </tr>\n",
       "  </tbody>\n",
       "</table>\n",
       "</div>"
      ],
      "text/plain": [
       "    year  district_name  modal_rs_quintal  min_rs_quintal  max_rs_quintal\n",
       "0   2014        Kurnool       1076.704403      821.924528     1270.037736\n",
       "1   2014        Nellore       2029.268293     1860.975610     2251.219512\n",
       "2   2014  Vijayanagaram        625.000000      600.000000      650.000000\n",
       "3   2014  West Godavari       1378.409091     1084.659091     1640.056818\n",
       "4   2015        Chittor       1951.832000     1716.744000     2336.344000\n",
       "5   2015        Kurnool       2413.174367     2071.922504     2721.289121\n",
       "6   2015       Prakasam       2613.131313     2319.191919     2811.111111\n",
       "7   2015     Srikakulam       1866.666667     1666.666667     2166.666667\n",
       "8   2015  Vijayanagaram       1933.333333     1800.000000     2066.666667\n",
       "9   2015  Visakhapatnam       1339.000000     1300.000000     1400.000000\n",
       "10  2015  West Godavari       1738.088657     1492.325945     2096.106910\n",
       "11  2016        Chittor       1377.269231     1198.376923     1572.700000\n",
       "12  2016        Krishna        800.000000      800.000000      875.000000\n",
       "13  2016        Kurnool        914.335106      748.244681     1098.776596\n",
       "14  2016       Prakasam       1253.660714     1155.625000     1349.633929\n",
       "15  2016     Srikakulam       1680.000000     1580.000000     1840.000000\n",
       "16  2016  Visakhapatnam        721.428571      684.571429      762.857143\n",
       "17  2016  West Godavari       1296.562500     1147.525000     1467.500000\n",
       "18  2017       Cuddapah        704.545455      613.636364      795.454545\n",
       "19  2017        Kurnool       1287.854077      655.321888     1701.918455\n",
       "20  2017       Prakasam       1566.666667     1466.666667     1675.000000\n",
       "21  2017     Srikakulam       1181.818182     1054.545455     1336.363636\n",
       "22  2017  Visakhapatnam        535.571429      505.714286      567.142857\n",
       "23  2017  West Godavari       1365.608466     1365.608466     1365.608466\n",
       "24  2018        Kurnool       1212.192771      827.188755     1470.763052\n",
       "25  2018  West Godavari        725.000000      500.000000      875.000000\n",
       "26  2019        Kurnool       1686.819222     1366.407323     1955.766590\n",
       "27  2019  West Godavari       1273.529412      621.122995     1389.839572\n",
       "28  2020        Kurnool       3407.047970     2513.298893     4159.003690\n",
       "29  2021        Kurnool       1928.128090     1316.462921     2394.492135\n",
       "30  2022        Kurnool       1432.971235      983.988156     1903.216582\n",
       "31  2023        Kurnool       1636.758389      909.835570     2046.449664\n",
       "32  2024        Kurnool       2120.181495     1689.224199     2416.715302"
      ]
     },
     "execution_count": 107,
     "metadata": {},
     "output_type": "execute_result"
    }
   ],
   "source": [
    "andhra_yearly_district"
   ]
  },
  {
   "cell_type": "code",
   "execution_count": 108,
   "metadata": {},
   "outputs": [
    {
     "data": {
      "application/vnd.plotly.v1+json": {
       "config": {
        "plotlyServerURL": "https://plot.ly"
       },
       "data": [
        {
         "alignmentgroup": "True",
         "hovertemplate": "district_name=Chittor<br>year=%{x}<br>value=%{y}<extra></extra>",
         "legendgroup": "Chittor",
         "marker": {
          "color": "#636efa",
          "pattern": {
           "shape": ""
          }
         },
         "name": "Chittor",
         "offsetgroup": "Chittor",
         "orientation": "v",
         "showlegend": true,
         "textposition": "auto",
         "type": "bar",
         "x": [
          "2014",
          "2015",
          "2016",
          "2017",
          "2018",
          "2019",
          "2020",
          "2021",
          "2022",
          "2023",
          "2024"
         ],
         "xaxis": "x",
         "y": [
          0,
          1951.832,
          1377.2692307692307,
          0,
          0,
          0,
          0,
          0,
          0,
          0,
          0
         ],
         "yaxis": "y"
        },
        {
         "alignmentgroup": "True",
         "hovertemplate": "district_name=Cuddapah<br>year=%{x}<br>value=%{y}<extra></extra>",
         "legendgroup": "Cuddapah",
         "marker": {
          "color": "#EF553B",
          "pattern": {
           "shape": ""
          }
         },
         "name": "Cuddapah",
         "offsetgroup": "Cuddapah",
         "orientation": "v",
         "showlegend": true,
         "textposition": "auto",
         "type": "bar",
         "x": [
          "2014",
          "2015",
          "2016",
          "2017",
          "2018",
          "2019",
          "2020",
          "2021",
          "2022",
          "2023",
          "2024"
         ],
         "xaxis": "x",
         "y": [
          0,
          0,
          0,
          704.5454545454545,
          0,
          0,
          0,
          0,
          0,
          0,
          0
         ],
         "yaxis": "y"
        },
        {
         "alignmentgroup": "True",
         "hovertemplate": "district_name=Krishna<br>year=%{x}<br>value=%{y}<extra></extra>",
         "legendgroup": "Krishna",
         "marker": {
          "color": "#00cc96",
          "pattern": {
           "shape": ""
          }
         },
         "name": "Krishna",
         "offsetgroup": "Krishna",
         "orientation": "v",
         "showlegend": true,
         "textposition": "auto",
         "type": "bar",
         "x": [
          "2014",
          "2015",
          "2016",
          "2017",
          "2018",
          "2019",
          "2020",
          "2021",
          "2022",
          "2023",
          "2024"
         ],
         "xaxis": "x",
         "y": [
          0,
          0,
          800,
          0,
          0,
          0,
          0,
          0,
          0,
          0,
          0
         ],
         "yaxis": "y"
        },
        {
         "alignmentgroup": "True",
         "hovertemplate": "district_name=Kurnool<br>year=%{x}<br>value=%{y}<extra></extra>",
         "legendgroup": "Kurnool",
         "marker": {
          "color": "#ab63fa",
          "pattern": {
           "shape": ""
          }
         },
         "name": "Kurnool",
         "offsetgroup": "Kurnool",
         "orientation": "v",
         "showlegend": true,
         "textposition": "auto",
         "type": "bar",
         "x": [
          "2014",
          "2015",
          "2016",
          "2017",
          "2018",
          "2019",
          "2020",
          "2021",
          "2022",
          "2023",
          "2024"
         ],
         "xaxis": "x",
         "y": [
          1076.7044025157234,
          2413.1743666169896,
          914.3351063829788,
          1287.854077253219,
          1212.1927710843374,
          1686.8192219679634,
          3407.047970479705,
          1928.1280898876405,
          1432.9712351945855,
          1636.758389261745,
          2120.1814946619215
         ],
         "yaxis": "y"
        },
        {
         "alignmentgroup": "True",
         "hovertemplate": "district_name=Nellore<br>year=%{x}<br>value=%{y}<extra></extra>",
         "legendgroup": "Nellore",
         "marker": {
          "color": "#FFA15A",
          "pattern": {
           "shape": ""
          }
         },
         "name": "Nellore",
         "offsetgroup": "Nellore",
         "orientation": "v",
         "showlegend": true,
         "textposition": "auto",
         "type": "bar",
         "x": [
          "2014",
          "2015",
          "2016",
          "2017",
          "2018",
          "2019",
          "2020",
          "2021",
          "2022",
          "2023",
          "2024"
         ],
         "xaxis": "x",
         "y": [
          2029.2682926829268,
          0,
          0,
          0,
          0,
          0,
          0,
          0,
          0,
          0,
          0
         ],
         "yaxis": "y"
        },
        {
         "alignmentgroup": "True",
         "hovertemplate": "district_name=Prakasam<br>year=%{x}<br>value=%{y}<extra></extra>",
         "legendgroup": "Prakasam",
         "marker": {
          "color": "#19d3f3",
          "pattern": {
           "shape": ""
          }
         },
         "name": "Prakasam",
         "offsetgroup": "Prakasam",
         "orientation": "v",
         "showlegend": true,
         "textposition": "auto",
         "type": "bar",
         "x": [
          "2014",
          "2015",
          "2016",
          "2017",
          "2018",
          "2019",
          "2020",
          "2021",
          "2022",
          "2023",
          "2024"
         ],
         "xaxis": "x",
         "y": [
          0,
          2613.131313131313,
          1253.6607142857142,
          1566.6666666666667,
          0,
          0,
          0,
          0,
          0,
          0,
          0
         ],
         "yaxis": "y"
        },
        {
         "alignmentgroup": "True",
         "hovertemplate": "district_name=Srikakulam<br>year=%{x}<br>value=%{y}<extra></extra>",
         "legendgroup": "Srikakulam",
         "marker": {
          "color": "#FF6692",
          "pattern": {
           "shape": ""
          }
         },
         "name": "Srikakulam",
         "offsetgroup": "Srikakulam",
         "orientation": "v",
         "showlegend": true,
         "textposition": "auto",
         "type": "bar",
         "x": [
          "2014",
          "2015",
          "2016",
          "2017",
          "2018",
          "2019",
          "2020",
          "2021",
          "2022",
          "2023",
          "2024"
         ],
         "xaxis": "x",
         "y": [
          0,
          1866.6666666666667,
          1680,
          1181.8181818181818,
          0,
          0,
          0,
          0,
          0,
          0,
          0
         ],
         "yaxis": "y"
        },
        {
         "alignmentgroup": "True",
         "hovertemplate": "district_name=Vijayanagaram<br>year=%{x}<br>value=%{y}<extra></extra>",
         "legendgroup": "Vijayanagaram",
         "marker": {
          "color": "#B6E880",
          "pattern": {
           "shape": ""
          }
         },
         "name": "Vijayanagaram",
         "offsetgroup": "Vijayanagaram",
         "orientation": "v",
         "showlegend": true,
         "textposition": "auto",
         "type": "bar",
         "x": [
          "2014",
          "2015",
          "2016",
          "2017",
          "2018",
          "2019",
          "2020",
          "2021",
          "2022",
          "2023",
          "2024"
         ],
         "xaxis": "x",
         "y": [
          625,
          1933.3333333333333,
          0,
          0,
          0,
          0,
          0,
          0,
          0,
          0,
          0
         ],
         "yaxis": "y"
        },
        {
         "alignmentgroup": "True",
         "hovertemplate": "district_name=Visakhapatnam<br>year=%{x}<br>value=%{y}<extra></extra>",
         "legendgroup": "Visakhapatnam",
         "marker": {
          "color": "#FF97FF",
          "pattern": {
           "shape": ""
          }
         },
         "name": "Visakhapatnam",
         "offsetgroup": "Visakhapatnam",
         "orientation": "v",
         "showlegend": true,
         "textposition": "auto",
         "type": "bar",
         "x": [
          "2014",
          "2015",
          "2016",
          "2017",
          "2018",
          "2019",
          "2020",
          "2021",
          "2022",
          "2023",
          "2024"
         ],
         "xaxis": "x",
         "y": [
          0,
          1339,
          721.4285714285714,
          535.5714285714286,
          0,
          0,
          0,
          0,
          0,
          0,
          0
         ],
         "yaxis": "y"
        },
        {
         "alignmentgroup": "True",
         "hovertemplate": "district_name=West Godavari<br>year=%{x}<br>value=%{y}<extra></extra>",
         "legendgroup": "West Godavari",
         "marker": {
          "color": "#FECB52",
          "pattern": {
           "shape": ""
          }
         },
         "name": "West Godavari",
         "offsetgroup": "West Godavari",
         "orientation": "v",
         "showlegend": true,
         "textposition": "auto",
         "type": "bar",
         "x": [
          "2014",
          "2015",
          "2016",
          "2017",
          "2018",
          "2019",
          "2020",
          "2021",
          "2022",
          "2023",
          "2024"
         ],
         "xaxis": "x",
         "y": [
          1378.409090909091,
          1738.0886571056062,
          1296.5625,
          1365.6084656084656,
          725,
          1273.5294117647059,
          0,
          0,
          0,
          0,
          0
         ],
         "yaxis": "y"
        }
       ],
       "layout": {
        "barmode": "group",
        "legend": {
         "title": {
          "text": "district_name"
         },
         "tracegroupgap": 0
        },
        "margin": {
         "t": 60
        },
        "template": {
         "data": {
          "bar": [
           {
            "error_x": {
             "color": "#2a3f5f"
            },
            "error_y": {
             "color": "#2a3f5f"
            },
            "marker": {
             "line": {
              "color": "#E5ECF6",
              "width": 0.5
             },
             "pattern": {
              "fillmode": "overlay",
              "size": 10,
              "solidity": 0.2
             }
            },
            "type": "bar"
           }
          ],
          "barpolar": [
           {
            "marker": {
             "line": {
              "color": "#E5ECF6",
              "width": 0.5
             },
             "pattern": {
              "fillmode": "overlay",
              "size": 10,
              "solidity": 0.2
             }
            },
            "type": "barpolar"
           }
          ],
          "carpet": [
           {
            "aaxis": {
             "endlinecolor": "#2a3f5f",
             "gridcolor": "white",
             "linecolor": "white",
             "minorgridcolor": "white",
             "startlinecolor": "#2a3f5f"
            },
            "baxis": {
             "endlinecolor": "#2a3f5f",
             "gridcolor": "white",
             "linecolor": "white",
             "minorgridcolor": "white",
             "startlinecolor": "#2a3f5f"
            },
            "type": "carpet"
           }
          ],
          "choropleth": [
           {
            "colorbar": {
             "outlinewidth": 0,
             "ticks": ""
            },
            "type": "choropleth"
           }
          ],
          "contour": [
           {
            "colorbar": {
             "outlinewidth": 0,
             "ticks": ""
            },
            "colorscale": [
             [
              0,
              "#0d0887"
             ],
             [
              0.1111111111111111,
              "#46039f"
             ],
             [
              0.2222222222222222,
              "#7201a8"
             ],
             [
              0.3333333333333333,
              "#9c179e"
             ],
             [
              0.4444444444444444,
              "#bd3786"
             ],
             [
              0.5555555555555556,
              "#d8576b"
             ],
             [
              0.6666666666666666,
              "#ed7953"
             ],
             [
              0.7777777777777778,
              "#fb9f3a"
             ],
             [
              0.8888888888888888,
              "#fdca26"
             ],
             [
              1,
              "#f0f921"
             ]
            ],
            "type": "contour"
           }
          ],
          "contourcarpet": [
           {
            "colorbar": {
             "outlinewidth": 0,
             "ticks": ""
            },
            "type": "contourcarpet"
           }
          ],
          "heatmap": [
           {
            "colorbar": {
             "outlinewidth": 0,
             "ticks": ""
            },
            "colorscale": [
             [
              0,
              "#0d0887"
             ],
             [
              0.1111111111111111,
              "#46039f"
             ],
             [
              0.2222222222222222,
              "#7201a8"
             ],
             [
              0.3333333333333333,
              "#9c179e"
             ],
             [
              0.4444444444444444,
              "#bd3786"
             ],
             [
              0.5555555555555556,
              "#d8576b"
             ],
             [
              0.6666666666666666,
              "#ed7953"
             ],
             [
              0.7777777777777778,
              "#fb9f3a"
             ],
             [
              0.8888888888888888,
              "#fdca26"
             ],
             [
              1,
              "#f0f921"
             ]
            ],
            "type": "heatmap"
           }
          ],
          "heatmapgl": [
           {
            "colorbar": {
             "outlinewidth": 0,
             "ticks": ""
            },
            "colorscale": [
             [
              0,
              "#0d0887"
             ],
             [
              0.1111111111111111,
              "#46039f"
             ],
             [
              0.2222222222222222,
              "#7201a8"
             ],
             [
              0.3333333333333333,
              "#9c179e"
             ],
             [
              0.4444444444444444,
              "#bd3786"
             ],
             [
              0.5555555555555556,
              "#d8576b"
             ],
             [
              0.6666666666666666,
              "#ed7953"
             ],
             [
              0.7777777777777778,
              "#fb9f3a"
             ],
             [
              0.8888888888888888,
              "#fdca26"
             ],
             [
              1,
              "#f0f921"
             ]
            ],
            "type": "heatmapgl"
           }
          ],
          "histogram": [
           {
            "marker": {
             "pattern": {
              "fillmode": "overlay",
              "size": 10,
              "solidity": 0.2
             }
            },
            "type": "histogram"
           }
          ],
          "histogram2d": [
           {
            "colorbar": {
             "outlinewidth": 0,
             "ticks": ""
            },
            "colorscale": [
             [
              0,
              "#0d0887"
             ],
             [
              0.1111111111111111,
              "#46039f"
             ],
             [
              0.2222222222222222,
              "#7201a8"
             ],
             [
              0.3333333333333333,
              "#9c179e"
             ],
             [
              0.4444444444444444,
              "#bd3786"
             ],
             [
              0.5555555555555556,
              "#d8576b"
             ],
             [
              0.6666666666666666,
              "#ed7953"
             ],
             [
              0.7777777777777778,
              "#fb9f3a"
             ],
             [
              0.8888888888888888,
              "#fdca26"
             ],
             [
              1,
              "#f0f921"
             ]
            ],
            "type": "histogram2d"
           }
          ],
          "histogram2dcontour": [
           {
            "colorbar": {
             "outlinewidth": 0,
             "ticks": ""
            },
            "colorscale": [
             [
              0,
              "#0d0887"
             ],
             [
              0.1111111111111111,
              "#46039f"
             ],
             [
              0.2222222222222222,
              "#7201a8"
             ],
             [
              0.3333333333333333,
              "#9c179e"
             ],
             [
              0.4444444444444444,
              "#bd3786"
             ],
             [
              0.5555555555555556,
              "#d8576b"
             ],
             [
              0.6666666666666666,
              "#ed7953"
             ],
             [
              0.7777777777777778,
              "#fb9f3a"
             ],
             [
              0.8888888888888888,
              "#fdca26"
             ],
             [
              1,
              "#f0f921"
             ]
            ],
            "type": "histogram2dcontour"
           }
          ],
          "mesh3d": [
           {
            "colorbar": {
             "outlinewidth": 0,
             "ticks": ""
            },
            "type": "mesh3d"
           }
          ],
          "parcoords": [
           {
            "line": {
             "colorbar": {
              "outlinewidth": 0,
              "ticks": ""
             }
            },
            "type": "parcoords"
           }
          ],
          "pie": [
           {
            "automargin": true,
            "type": "pie"
           }
          ],
          "scatter": [
           {
            "fillpattern": {
             "fillmode": "overlay",
             "size": 10,
             "solidity": 0.2
            },
            "type": "scatter"
           }
          ],
          "scatter3d": [
           {
            "line": {
             "colorbar": {
              "outlinewidth": 0,
              "ticks": ""
             }
            },
            "marker": {
             "colorbar": {
              "outlinewidth": 0,
              "ticks": ""
             }
            },
            "type": "scatter3d"
           }
          ],
          "scattercarpet": [
           {
            "marker": {
             "colorbar": {
              "outlinewidth": 0,
              "ticks": ""
             }
            },
            "type": "scattercarpet"
           }
          ],
          "scattergeo": [
           {
            "marker": {
             "colorbar": {
              "outlinewidth": 0,
              "ticks": ""
             }
            },
            "type": "scattergeo"
           }
          ],
          "scattergl": [
           {
            "marker": {
             "colorbar": {
              "outlinewidth": 0,
              "ticks": ""
             }
            },
            "type": "scattergl"
           }
          ],
          "scattermapbox": [
           {
            "marker": {
             "colorbar": {
              "outlinewidth": 0,
              "ticks": ""
             }
            },
            "type": "scattermapbox"
           }
          ],
          "scatterpolar": [
           {
            "marker": {
             "colorbar": {
              "outlinewidth": 0,
              "ticks": ""
             }
            },
            "type": "scatterpolar"
           }
          ],
          "scatterpolargl": [
           {
            "marker": {
             "colorbar": {
              "outlinewidth": 0,
              "ticks": ""
             }
            },
            "type": "scatterpolargl"
           }
          ],
          "scatterternary": [
           {
            "marker": {
             "colorbar": {
              "outlinewidth": 0,
              "ticks": ""
             }
            },
            "type": "scatterternary"
           }
          ],
          "surface": [
           {
            "colorbar": {
             "outlinewidth": 0,
             "ticks": ""
            },
            "colorscale": [
             [
              0,
              "#0d0887"
             ],
             [
              0.1111111111111111,
              "#46039f"
             ],
             [
              0.2222222222222222,
              "#7201a8"
             ],
             [
              0.3333333333333333,
              "#9c179e"
             ],
             [
              0.4444444444444444,
              "#bd3786"
             ],
             [
              0.5555555555555556,
              "#d8576b"
             ],
             [
              0.6666666666666666,
              "#ed7953"
             ],
             [
              0.7777777777777778,
              "#fb9f3a"
             ],
             [
              0.8888888888888888,
              "#fdca26"
             ],
             [
              1,
              "#f0f921"
             ]
            ],
            "type": "surface"
           }
          ],
          "table": [
           {
            "cells": {
             "fill": {
              "color": "#EBF0F8"
             },
             "line": {
              "color": "white"
             }
            },
            "header": {
             "fill": {
              "color": "#C8D4E3"
             },
             "line": {
              "color": "white"
             }
            },
            "type": "table"
           }
          ]
         },
         "layout": {
          "annotationdefaults": {
           "arrowcolor": "#2a3f5f",
           "arrowhead": 0,
           "arrowwidth": 1
          },
          "autotypenumbers": "strict",
          "coloraxis": {
           "colorbar": {
            "outlinewidth": 0,
            "ticks": ""
           }
          },
          "colorscale": {
           "diverging": [
            [
             0,
             "#8e0152"
            ],
            [
             0.1,
             "#c51b7d"
            ],
            [
             0.2,
             "#de77ae"
            ],
            [
             0.3,
             "#f1b6da"
            ],
            [
             0.4,
             "#fde0ef"
            ],
            [
             0.5,
             "#f7f7f7"
            ],
            [
             0.6,
             "#e6f5d0"
            ],
            [
             0.7,
             "#b8e186"
            ],
            [
             0.8,
             "#7fbc41"
            ],
            [
             0.9,
             "#4d9221"
            ],
            [
             1,
             "#276419"
            ]
           ],
           "sequential": [
            [
             0,
             "#0d0887"
            ],
            [
             0.1111111111111111,
             "#46039f"
            ],
            [
             0.2222222222222222,
             "#7201a8"
            ],
            [
             0.3333333333333333,
             "#9c179e"
            ],
            [
             0.4444444444444444,
             "#bd3786"
            ],
            [
             0.5555555555555556,
             "#d8576b"
            ],
            [
             0.6666666666666666,
             "#ed7953"
            ],
            [
             0.7777777777777778,
             "#fb9f3a"
            ],
            [
             0.8888888888888888,
             "#fdca26"
            ],
            [
             1,
             "#f0f921"
            ]
           ],
           "sequentialminus": [
            [
             0,
             "#0d0887"
            ],
            [
             0.1111111111111111,
             "#46039f"
            ],
            [
             0.2222222222222222,
             "#7201a8"
            ],
            [
             0.3333333333333333,
             "#9c179e"
            ],
            [
             0.4444444444444444,
             "#bd3786"
            ],
            [
             0.5555555555555556,
             "#d8576b"
            ],
            [
             0.6666666666666666,
             "#ed7953"
            ],
            [
             0.7777777777777778,
             "#fb9f3a"
            ],
            [
             0.8888888888888888,
             "#fdca26"
            ],
            [
             1,
             "#f0f921"
            ]
           ]
          },
          "colorway": [
           "#636efa",
           "#EF553B",
           "#00cc96",
           "#ab63fa",
           "#FFA15A",
           "#19d3f3",
           "#FF6692",
           "#B6E880",
           "#FF97FF",
           "#FECB52"
          ],
          "font": {
           "color": "#2a3f5f"
          },
          "geo": {
           "bgcolor": "white",
           "lakecolor": "white",
           "landcolor": "#E5ECF6",
           "showlakes": true,
           "showland": true,
           "subunitcolor": "white"
          },
          "hoverlabel": {
           "align": "left"
          },
          "hovermode": "closest",
          "mapbox": {
           "style": "light"
          },
          "paper_bgcolor": "white",
          "plot_bgcolor": "#E5ECF6",
          "polar": {
           "angularaxis": {
            "gridcolor": "white",
            "linecolor": "white",
            "ticks": ""
           },
           "bgcolor": "#E5ECF6",
           "radialaxis": {
            "gridcolor": "white",
            "linecolor": "white",
            "ticks": ""
           }
          },
          "scene": {
           "xaxis": {
            "backgroundcolor": "#E5ECF6",
            "gridcolor": "white",
            "gridwidth": 2,
            "linecolor": "white",
            "showbackground": true,
            "ticks": "",
            "zerolinecolor": "white"
           },
           "yaxis": {
            "backgroundcolor": "#E5ECF6",
            "gridcolor": "white",
            "gridwidth": 2,
            "linecolor": "white",
            "showbackground": true,
            "ticks": "",
            "zerolinecolor": "white"
           },
           "zaxis": {
            "backgroundcolor": "#E5ECF6",
            "gridcolor": "white",
            "gridwidth": 2,
            "linecolor": "white",
            "showbackground": true,
            "ticks": "",
            "zerolinecolor": "white"
           }
          },
          "shapedefaults": {
           "line": {
            "color": "#2a3f5f"
           }
          },
          "ternary": {
           "aaxis": {
            "gridcolor": "white",
            "linecolor": "white",
            "ticks": ""
           },
           "baxis": {
            "gridcolor": "white",
            "linecolor": "white",
            "ticks": ""
           },
           "bgcolor": "#E5ECF6",
           "caxis": {
            "gridcolor": "white",
            "linecolor": "white",
            "ticks": ""
           }
          },
          "title": {
           "x": 0.05
          },
          "xaxis": {
           "automargin": true,
           "gridcolor": "white",
           "linecolor": "white",
           "ticks": "",
           "title": {
            "standoff": 15
           },
           "zerolinecolor": "white",
           "zerolinewidth": 2
          },
          "yaxis": {
           "automargin": true,
           "gridcolor": "white",
           "linecolor": "white",
           "ticks": "",
           "title": {
            "standoff": 15
           },
           "zerolinecolor": "white",
           "zerolinewidth": 2
          }
         }
        },
        "xaxis": {
         "anchor": "y",
         "domain": [
          0,
          1
         ],
         "gridcolor": "#bbbbbb",
         "showgrid": true,
         "title": {
          "text": "year"
         }
        },
        "yaxis": {
         "anchor": "x",
         "domain": [
          0,
          1
         ],
         "showgrid": false,
         "title": {
          "text": "value"
         }
        }
       }
      }
     },
     "metadata": {},
     "output_type": "display_data"
    }
   ],
   "source": [
    "# Pivot the DataFrame to create separate columns for each district\n",
    "pivoted_df = andhra_yearly_district.pivot_table(\n",
    "    index=\"year\", columns=\"district_name\", values=\"modal_rs_quintal\", fill_value=0\n",
    ")\n",
    "\n",
    "# Create the grouped bar chart\n",
    "fig = px.bar(\n",
    "    data_frame=pivoted_df,\n",
    "    barmode=\"group\",\n",
    "    \n",
    "    \n",
    ")\n",
    "fig.update_layout(\n",
    "    xaxis_showgrid=True,  # Add grid lines on the x-axis\n",
    "    yaxis_showgrid=False\n",
    ")\n",
    "\n",
    "# Optionally, customize grid line appearance\n",
    "fig.update_layout(\n",
    "    xaxis_gridcolor=\"#bbbbbb\",  # Set grid line color for x-axis\n",
    ")\n",
    "fig.show()"
   ]
  },
  {
   "cell_type": "code",
   "execution_count": null,
   "metadata": {},
   "outputs": [],
   "source": []
  },
  {
   "cell_type": "code",
   "execution_count": null,
   "metadata": {},
   "outputs": [],
   "source": []
  },
  {
   "cell_type": "code",
   "execution_count": null,
   "metadata": {},
   "outputs": [],
   "source": []
  },
  {
   "cell_type": "code",
   "execution_count": null,
   "metadata": {},
   "outputs": [],
   "source": []
  }
 ],
 "metadata": {
  "kernelspec": {
   "display_name": ".venv",
   "language": "python",
   "name": "python3"
  },
  "language_info": {
   "codemirror_mode": {
    "name": "ipython",
    "version": 3
   },
   "file_extension": ".py",
   "mimetype": "text/x-python",
   "name": "python",
   "nbconvert_exporter": "python",
   "pygments_lexer": "ipython3",
   "version": "3.12.3"
  }
 },
 "nbformat": 4,
 "nbformat_minor": 2
}
