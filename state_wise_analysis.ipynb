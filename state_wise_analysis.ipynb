{
 "cells": [
  {
   "cell_type": "code",
   "execution_count": 1,
   "metadata": {},
   "outputs": [
    {
     "data": {
      "text/plain": [
       "True"
      ]
     },
     "execution_count": 1,
     "metadata": {},
     "output_type": "execute_result"
    }
   ],
   "source": [
    "import numpy as np\n",
    "import pandas as pd\n",
    "import plotly.express as px\n",
    "import os\n",
    "from dotenv import load_dotenv\n",
    "load_dotenv()"
   ]
  },
  {
   "cell_type": "markdown",
   "metadata": {},
   "source": [
    "lets get the data of top 5 states 10 years  and do some eda and analysis on it\n"
   ]
  },
  {
   "cell_type": "code",
   "execution_count": 2,
   "metadata": {},
   "outputs": [
    {
     "name": "stdout",
     "output_type": "stream",
     "text": [
      "../sih_2024_data_source/\n"
     ]
    }
   ],
   "source": [
    "print(os.environ.get(\"DATA_SOURCE_DIR\"))"
   ]
  },
  {
   "cell_type": "code",
   "execution_count": 3,
   "metadata": {},
   "outputs": [
    {
     "name": "stdout",
     "output_type": "stream",
     "text": [
      "['MN_all_years.csv', 'UC_all_years.csv', 'GJ_all_years.csv', 'BI_all_years.csv', 'DL_all_years.csv', 'TL_all_years.csv', 'MP_all_years.csv', 'CH_all_years.csv', 'RJ_all_years.csv', 'KL_all_years.csv', 'MG_all_years.csv', 'GO_all_years.csv', 'WB_all_years.csv', 'AN_all_years.csv', 'AP_all_years.csv', 'CG_all_years.csv', 'TN_all_years.csv', 'UP_all_years.csv', 'OR_all_years.csv', 'PB_all_years.csv', 'AR_all_years.csv', 'MZ_all_years.csv', 'JR_all_years.csv', 'MH_all_years.csv', 'HR_all_years.csv', 'KK_all_years.csv', 'NG_all_years.csv', 'HP_all_years.csv', 'TR_all_years.csv', 'JK_all_years.csv', 'AS_all_years.csv']\n",
      "../sih_2024_data_source/statewise_results/MN_all_years.csv\n",
      "mn\n",
      "../sih_2024_data_source/statewise_results/UC_all_years.csv\n",
      "uc\n",
      "../sih_2024_data_source/statewise_results/GJ_all_years.csv\n",
      "gj\n",
      "../sih_2024_data_source/statewise_results/BI_all_years.csv\n",
      "bi\n",
      "../sih_2024_data_source/statewise_results/DL_all_years.csv\n",
      "dl\n",
      "../sih_2024_data_source/statewise_results/TL_all_years.csv\n",
      "tl\n",
      "../sih_2024_data_source/statewise_results/MP_all_years.csv\n",
      "mp\n",
      "../sih_2024_data_source/statewise_results/CH_all_years.csv\n",
      "ch\n",
      "../sih_2024_data_source/statewise_results/RJ_all_years.csv\n",
      "rj\n",
      "../sih_2024_data_source/statewise_results/KL_all_years.csv\n",
      "kl\n",
      "../sih_2024_data_source/statewise_results/MG_all_years.csv\n",
      "mg\n",
      "../sih_2024_data_source/statewise_results/GO_all_years.csv\n",
      "go\n",
      "../sih_2024_data_source/statewise_results/WB_all_years.csv\n",
      "wb\n",
      "../sih_2024_data_source/statewise_results/AN_all_years.csv\n",
      "an\n",
      "../sih_2024_data_source/statewise_results/AP_all_years.csv\n",
      "ap\n",
      "../sih_2024_data_source/statewise_results/CG_all_years.csv\n",
      "cg\n",
      "../sih_2024_data_source/statewise_results/TN_all_years.csv\n",
      "tn\n",
      "../sih_2024_data_source/statewise_results/UP_all_years.csv\n",
      "up\n",
      "../sih_2024_data_source/statewise_results/OR_all_years.csv\n",
      "or\n",
      "../sih_2024_data_source/statewise_results/PB_all_years.csv\n",
      "pb\n",
      "../sih_2024_data_source/statewise_results/AR_all_years.csv\n",
      "ar\n",
      "../sih_2024_data_source/statewise_results/MZ_all_years.csv\n",
      "mz\n",
      "../sih_2024_data_source/statewise_results/JR_all_years.csv\n",
      "jr\n",
      "../sih_2024_data_source/statewise_results/MH_all_years.csv\n",
      "mh\n",
      "../sih_2024_data_source/statewise_results/HR_all_years.csv\n",
      "hr\n",
      "../sih_2024_data_source/statewise_results/KK_all_years.csv\n",
      "kk\n",
      "../sih_2024_data_source/statewise_results/NG_all_years.csv\n",
      "ng\n",
      "../sih_2024_data_source/statewise_results/HP_all_years.csv\n",
      "hp\n",
      "../sih_2024_data_source/statewise_results/TR_all_years.csv\n",
      "tr\n",
      "../sih_2024_data_source/statewise_results/JK_all_years.csv\n",
      "jk\n",
      "../sih_2024_data_source/statewise_results/AS_all_years.csv\n",
      "as\n"
     ]
    }
   ],
   "source": [
    "from create_statewise_dfs import get_statewise_datasets\n",
    "state_datasets = get_statewise_datasets()\n",
    "# SOURCE_DIR = os.environ.get(\n",
    "#     \"DATA_SOURCE_DIR\",\"../sih_2024_data_source/\")\n",
    "# STATE_WISE_DATA = SOURCE_DIR + \"statewise_results/Onion\"\n",
    "# state_datasets: dict[str, pd.DataFrame] = dict()\n",
    "# print(os.listdir(STATE_WISE_DATA))\n",
    "# files = [\n",
    "#         os.path.join(STATE_WISE_DATA, file)\n",
    "#         for file in os.listdir(STATE_WISE_DATA)\n",
    "#         if file.endswith(\".csv\")\n",
    "#     ]\n",
    "# for file in files :\n",
    "#     print(file)\n",
    "#     state_name = file.split(\"/\")[-1].lower().replace(\"_all_years.csv\",\"\")\n",
    "#     print(state_name)\n",
    "#     df = pd.read_csv(file)\n",
    "#     df.rename(columns={\"1\":\"district_name\",\"2\":\"market_name\",\"3\":\"commodity\",\"4\":\"variety\",\"5\":\"grade\",\"6\":\"min_rs_quintal\",\"7\":\"max_rs_quintal\",\"8\":\"modal_rs_quintal\",\"9\":\"date\"},inplace=True)\n",
    "#     df.drop(columns=\"0\",inplace=True)\n",
    "#     state_datasets[state_name] = df"
   ]
  },
  {
   "cell_type": "code",
   "execution_count": 4,
   "metadata": {},
   "outputs": [
    {
     "data": {
      "text/plain": [
       "{'mn':       district_name market_name           commodity         variety grade  \\\n",
       " 0         Bishnupur   Bishenpur  Arhar Dal(Tur Dal)  Arhar Dal(Tur)   FAQ   \n",
       " 1         Bishnupur   Bishenpur  Arhar Dal(Tur Dal)  Arhar Dal(Tur)   FAQ   \n",
       " 2         Bishnupur   Bishenpur  Arhar Dal(Tur Dal)  Arhar Dal(Tur)   FAQ   \n",
       " 3         Bishnupur   Bishenpur  Arhar Dal(Tur Dal)  Arhar Dal(Tur)   FAQ   \n",
       " 4         Bishnupur   Bishenpur  Arhar Dal(Tur Dal)  Arhar Dal(Tur)   FAQ   \n",
       " ...             ...         ...                 ...             ...   ...   \n",
       " 39787       Thoubal     Thoubal  Arhar Dal(Tur Dal)  Arhar Dal(Tur)   FAQ   \n",
       " 39788       Thoubal     Thoubal  Arhar Dal(Tur Dal)  Arhar Dal(Tur)   FAQ   \n",
       " 39789       Thoubal     Thoubal  Arhar Dal(Tur Dal)  Arhar Dal(Tur)   FAQ   \n",
       " 39790       Thoubal     Thoubal  Arhar Dal(Tur Dal)  Arhar Dal(Tur)   FAQ   \n",
       " 39791       Thoubal     Thoubal  Arhar Dal(Tur Dal)  Arhar Dal(Tur)   FAQ   \n",
       " \n",
       "        min_rs_quintal  max_rs_quintal  modal_rs_quintal         date  year  \\\n",
       " 0                 0.0           10500             10500  04 Sep 2019  2019   \n",
       " 1                 0.0           10500             10500  05 Sep 2019  2019   \n",
       " 2                 0.0           10500             10500  06 Sep 2019  2019   \n",
       " 3                 0.0           10500             10500  09 Sep 2019  2019   \n",
       " 4                 0.0           10500             10500  10 Sep 2019  2019   \n",
       " ...               ...             ...               ...          ...   ...   \n",
       " 39787         11450.0           11550             11500  30 Aug 2017  2017   \n",
       " 39788         11450.0           11550             11500  31 Aug 2017  2017   \n",
       " 39789         12400.0           12500             12500  01 Aug 2017  2017   \n",
       " 39790         12400.0           12500             12500  14 Aug 2017  2017   \n",
       " 39791         12400.0           12500             12500  31 Jul 2017  2017   \n",
       " \n",
       "       month day_of_month  \n",
       " 0       Sep           04  \n",
       " 1       Sep           05  \n",
       " 2       Sep           06  \n",
       " 3       Sep           09  \n",
       " 4       Sep           10  \n",
       " ...     ...          ...  \n",
       " 39787   Aug           30  \n",
       " 39788   Aug           31  \n",
       " 39789   Aug           01  \n",
       " 39790   Aug           14  \n",
       " 39791   Jul           31  \n",
       " \n",
       " [39792 rows x 12 columns],\n",
       " 'uc':        district_name market_name commodity variety grade  min_rs_quintal  \\\n",
       " 0           Haridwar     Roorkee     Sugar   Chini   FAQ          2550.0   \n",
       " 1           Haridwar     Roorkee     Sugar   Chini   FAQ          2100.0   \n",
       " 2           Haridwar     Roorkee     Sugar   Chini   FAQ          2300.0   \n",
       " 3           Haridwar     Roorkee     Sugar   Chini   FAQ          2300.0   \n",
       " 4           Haridwar     Roorkee     Sugar   Chini   FAQ          2300.0   \n",
       " ...              ...         ...       ...     ...   ...             ...   \n",
       " 109986      Haridwar     Roorkee     Sugar   Chini   FAQ          2425.0   \n",
       " 109987      Haridwar     Roorkee     Sugar   Chini   FAQ          2475.0   \n",
       " 109988      Haridwar     Roorkee     Sugar   Chini   FAQ          2600.0   \n",
       " 109989      Haridwar     Roorkee     Sugar   Chini   FAQ          2600.0   \n",
       " 109990      Haridwar     Roorkee     Sugar   Chini   FAQ          3200.0   \n",
       " \n",
       "         max_rs_quintal  modal_rs_quintal         date  year month day_of_month  \n",
       " 0               2650.0            2600.0  06 Dec 2019  2019   Dec           06  \n",
       " 1               2300.0            2200.0  04 Jan 2019  2019   Jan           04  \n",
       " 2               2500.0            2400.0  05 Jan 2019  2019   Jan           05  \n",
       " 3               2500.0            2400.0  14 Jan 2019  2019   Jan           14  \n",
       " 4               2500.0            2400.0  19 Jan 2019  2019   Jan           19  \n",
       " ...                ...               ...          ...   ...   ...          ...  \n",
       " 109986          2600.0            2500.0  21 Dec 2018  2018   Dec           21  \n",
       " 109987          2475.0            2475.0  21 Feb 2019  2019   Feb           21  \n",
       " 109988          2600.0            2600.0  01 Apr 2019  2019   Apr           01  \n",
       " 109989          2600.0            2600.0  23 Mar 2019  2019   Mar           23  \n",
       " 109990          3500.0            3350.0  05 Sep 2018  2018   Sep           05  \n",
       " \n",
       " [109991 rows x 12 columns],\n",
       " 'gj':        district_name market_name           commodity          variety grade  \\\n",
       " 0         Banaskanth  Panthawada         Mustard Oil      Mustard Oil   FAQ   \n",
       " 1              Surat     Songadh           Masur Dal      Masoor Gola   FAQ   \n",
       " 2              Surat     Songadh           Masur Dal  Kala Masoor New   FAQ   \n",
       " 3              Surat     Songadh           Masur Dal  Kala Masoor New   FAQ   \n",
       " 4              Surat     Songadh           Masur Dal  Kala Masoor New   FAQ   \n",
       " ...              ...         ...                 ...              ...   ...   \n",
       " 332185        Amreli      Rajula  Arhar Dal(Tur Dal)   Arhar Dal(Tur)   FAQ   \n",
       " 332186        Amreli      Rajula  Arhar Dal(Tur Dal)   Arhar Dal(Tur)   FAQ   \n",
       " 332187        Amreli      Rajula  Arhar Dal(Tur Dal)   Arhar Dal(Tur)   FAQ   \n",
       " 332188     Ahmedabad       Sanad  Arhar Dal(Tur Dal)   Arhar Dal(Tur)   FAQ   \n",
       " 332189    Banaskanth  Panthawada         Mustard Oil      Mustard Oil   FAQ   \n",
       " \n",
       "         min_rs_quintal  max_rs_quintal  modal_rs_quintal         date  year  \\\n",
       " 0               6310.0          6310.0            6310.0  09 Jun 2022  2022   \n",
       " 1               5900.0          6010.0            5955.0  22 Apr 2020  2020   \n",
       " 2               4005.0          4050.0            4027.0  21 May 2018  2018   \n",
       " 3               4100.0          4300.0            4200.0  14 Apr 2018  2018   \n",
       " 4               4105.0          4105.0            4105.0  16 Apr 2018  2018   \n",
       " ...                ...             ...               ...          ...   ...   \n",
       " 332185          4360.0          4580.0            4470.0  17 Jan 2017  2017   \n",
       " 332186          4425.0          4560.0            4493.0  18 Jan 2017  2017   \n",
       " 332187          4580.0          4580.0            4580.0  28 Dec 2016  2016   \n",
       " 332188          6605.0          6605.0            6605.0  20 Jun 2017  2017   \n",
       " 332189          6310.0          6310.0            6310.0  09 Jun 2022  2022   \n",
       " \n",
       "        month day_of_month  \n",
       " 0        Jun           09  \n",
       " 1        Apr           22  \n",
       " 2        May           21  \n",
       " 3        Apr           14  \n",
       " 4        Apr           16  \n",
       " ...      ...          ...  \n",
       " 332185   Jan           17  \n",
       " 332186   Jan           18  \n",
       " 332187   Dec           28  \n",
       " 332188   Jun           20  \n",
       " 332189   Jun           09  \n",
       " \n",
       " [332190 rows x 12 columns],\n",
       " 'bi':       district_name  market_name    commodity          variety grade  \\\n",
       " 0         Madhepura   Bihariganj        Sugar            Other   FAQ   \n",
       " 1         Madhepura   Bihariganj        Sugar            Other   FAQ   \n",
       " 2        Kishanganj  Bahadurganj    Masur Dal  Kala Masoor New   FAQ   \n",
       " 3             Patna   Patna City    Masur Dal  Kala Masoor New   FAQ   \n",
       " 4             Buxar     Brahmpur    Masur Dal      Masoor Gola   FAQ   \n",
       " ...             ...          ...          ...              ...   ...   \n",
       " 56353         Patna   Patna City  Mustard Oil      Mustard Oil   FAQ   \n",
       " 56354         Patna   Patna City  Mustard Oil      Mustard Oil   FAQ   \n",
       " 56355         Patna   Patna City  Mustard Oil      Mustard Oil   FAQ   \n",
       " 56356     Madhepura   Bihariganj        Sugar            Other   FAQ   \n",
       " 56357     Madhepura   Bihariganj        Sugar            Other   FAQ   \n",
       " \n",
       "        min_rs_quintal  max_rs_quintal  modal_rs_quintal         date  year  \\\n",
       " 0                3200            3600              3400  09 Jun 2016  2016   \n",
       " 1                3500            4500              4000  29 Jun 2016  2016   \n",
       " 2                7500            7800              7700  07 Aug 2022  2022   \n",
       " 3                9000            9800              9500  06 Aug 2022  2022   \n",
       " 4                8000           10000              9000  28 Sep 2023  2023   \n",
       " ...               ...             ...               ...          ...   ...   \n",
       " 56353           15500           16500             16000  12 Sep 2022  2022   \n",
       " 56354           15500           16800             16000  06 Sep 2022  2022   \n",
       " 56355           16300           17500             17000  02 Sep 2022  2022   \n",
       " 56356            3200            3600              3400  09 Jun 2016  2016   \n",
       " 56357            3500            4500              4000  29 Jun 2016  2016   \n",
       " \n",
       "       month day_of_month  \n",
       " 0       Jun           09  \n",
       " 1       Jun           29  \n",
       " 2       Aug           07  \n",
       " 3       Aug           06  \n",
       " 4       Sep           28  \n",
       " ...     ...          ...  \n",
       " 56353   Sep           12  \n",
       " 56354   Sep           06  \n",
       " 56355   Sep           02  \n",
       " 56356   Jun           09  \n",
       " 56357   Jun           29  \n",
       " \n",
       " [56358 rows x 12 columns],\n",
       " 'dl':       district_name market_name commodity variety grade  min_rs_quintal  \\\n",
       " 0             Delhi   Najafgarh     Sugar   Chini   FAQ          3250.0   \n",
       " 1             Delhi   Najafgarh     Sugar   Chini   FAQ          3400.0   \n",
       " 2             Delhi   Najafgarh     Sugar   Chini   FAQ          3500.0   \n",
       " 3             Delhi   Najafgarh     Sugar   Chini   FAQ          3500.0   \n",
       " 4             Delhi      Narela     Sugar   Chini   FAQ          3462.0   \n",
       " ...             ...         ...       ...     ...   ...             ...   \n",
       " 32895         Delhi      Narela     Sugar   Chini   FAQ          3965.0   \n",
       " 32896         Delhi      Narela     Sugar   Chini   FAQ          3970.0   \n",
       " 32897         Delhi      Narela     Sugar   Chini   FAQ          3971.0   \n",
       " 32898         Delhi      Narela     Sugar   Chini   FAQ          4020.0   \n",
       " 32899         Delhi      Narela     Sugar   Chini   FAQ          4068.0   \n",
       " \n",
       "        max_rs_quintal  modal_rs_quintal         date  year month day_of_month  \n",
       " 0              3250.0            3250.0  28 Sep 2019  2019   Sep           28  \n",
       " 1              3400.0            3400.0  15 Oct 2019  2019   Oct           15  \n",
       " 2              3500.0            3500.0  16 Nov 2019  2019   Nov           16  \n",
       " 3              3500.0            3500.0  29 Sep 2019  2019   Sep           29  \n",
       " 4              3462.0            3462.0  24 Jan 2020  2020   Jan           24  \n",
       " ...               ...               ...          ...   ...   ...          ...  \n",
       " 32895          3965.0            3965.0  27 Feb 2017  2017   Feb           27  \n",
       " 32896          3970.0            3970.0  27 Jan 2017  2017   Jan           27  \n",
       " 32897          3971.0            3971.0  27 Aug 2017  2017   Aug           27  \n",
       " 32898          4020.0            4020.0  16 Feb 2017  2017   Feb           16  \n",
       " 32899          4068.0            4068.0  27 Jul 2017  2017   Jul           27  \n",
       " \n",
       " [32900 rows x 12 columns],\n",
       " 'tl':       district_name            market_name commodity  variety   grade  \\\n",
       " 0          Adilabad  Adilabad(Rythu Bazar)     Sugar   Medium   Large   \n",
       " 1          Adilabad  Adilabad(Rythu Bazar)     Sugar   Medium   Large   \n",
       " 2          Adilabad  Adilabad(Rythu Bazar)     Sugar   Medium   Large   \n",
       " 3          Adilabad  Adilabad(Rythu Bazar)     Sugar   Medium   Large   \n",
       " 4          Adilabad  Adilabad(Rythu Bazar)     Sugar   Medium  Medium   \n",
       " ...             ...                    ...       ...      ...     ...   \n",
       " 67981      Adilabad  Adilabad(Rythu Bazar)     Sugar  Shakkar   Large   \n",
       " 67982      Adilabad  Adilabad(Rythu Bazar)     Sugar   Medium   Large   \n",
       " 67983      Adilabad  Adilabad(Rythu Bazar)     Sugar    Other   Large   \n",
       " 67984      Adilabad  Adilabad(Rythu Bazar)     Sugar    Other   Large   \n",
       " 67985      Adilabad  Adilabad(Rythu Bazar)     Sugar    Other   Large   \n",
       " \n",
       "        min_rs_quintal  max_rs_quintal  modal_rs_quintal         date  year  \\\n",
       " 0                2700            2700              2700  01 Jul 2015  2015   \n",
       " 1                2700            2700              2700  11 Jul 2015  2015   \n",
       " 2                2700            2700              2700  20 Jun 2015  2015   \n",
       " 3                2700            2700              2700  25 Jun 2015  2015   \n",
       " 4                2700            2700              2700  10 Jun 2015  2015   \n",
       " ...               ...             ...               ...          ...   ...   \n",
       " 67981            2400            2400              2400  15 Aug 2015  2015   \n",
       " 67982            2900            2900              2900  05 Feb 2016  2016   \n",
       " 67983            2900            2900              2900  03 Feb 2016  2016   \n",
       " 67984            2900            2900              2900  04 Feb 2016  2016   \n",
       " 67985            3300            3300              3300  06 Feb 2016  2016   \n",
       " \n",
       "       month day_of_month  \n",
       " 0       Jul           01  \n",
       " 1       Jul           11  \n",
       " 2       Jun           20  \n",
       " 3       Jun           25  \n",
       " 4       Jun           10  \n",
       " ...     ...          ...  \n",
       " 67981   Aug           15  \n",
       " 67982   Feb           05  \n",
       " 67983   Feb           03  \n",
       " 67984   Feb           04  \n",
       " 67985   Feb           06  \n",
       " \n",
       " [67986 rows x 12 columns],\n",
       " 'mp':        district_name market_name    commodity variety grade  min_rs_quintal  \\\n",
       " 0           Shajapur     Akodiya  Mustard Oil   Other   FAQ          2800.0   \n",
       " 1           Shajapur     Akodiya  Mustard Oil   Other   FAQ          3000.0   \n",
       " 2           Shajapur     Akodiya  Mustard Oil   Other   FAQ          3000.0   \n",
       " 3           Shajapur     Akodiya  Mustard Oil   Other   FAQ          3000.0   \n",
       " 4           Shajapur     Akodiya  Mustard Oil   Other   FAQ          3000.0   \n",
       " ...              ...         ...          ...     ...   ...             ...   \n",
       " 716208      Shajapur     Akodiya  Mustard Oil   Other   FAQ          3500.0   \n",
       " 716209      Shajapur     Akodiya  Mustard Oil   Other   FAQ          3500.0   \n",
       " 716210      Shajapur     Akodiya  Mustard Oil   Other   FAQ          3500.0   \n",
       " 716211      Shajapur     Akodiya  Mustard Oil   Other   FAQ          3800.0   \n",
       " 716212      Shajapur     Akodiya  Mustard Oil   Other   FAQ          3800.0   \n",
       " \n",
       "         max_rs_quintal  modal_rs_quintal         date  year month day_of_month  \n",
       " 0               3240.0            3200.0  23 Apr 2015  2015   Apr           23  \n",
       " 1               3250.0            3200.0  11 Apr 2015  2015   Apr           11  \n",
       " 2               3250.0            3200.0  27 Apr 2015  2015   Apr           27  \n",
       " 3               3260.0            3200.0  10 Apr 2015  2015   Apr           10  \n",
       " 4               3300.0            3200.0  19 Apr 2015  2015   Apr           19  \n",
       " ...                ...               ...          ...   ...   ...          ...  \n",
       " 716208          4000.0            3850.0  08 Apr 2017  2017   Apr           08  \n",
       " 716209          4000.0            3900.0  20 Apr 2017  2017   Apr           20  \n",
       " 716210          4101.0            3980.0  06 Apr 2017  2017   Apr           06  \n",
       " 716211          4100.0            4000.0  13 Apr 2017  2017   Apr           13  \n",
       " 716212          4100.0            4001.0  15 Apr 2017  2017   Apr           15  \n",
       " \n",
       " [716213 rows x 12 columns],\n",
       " 'ch':      district_name              market_name commodity variety grade  \\\n",
       " 0       Chandigarh  Chandigarh(Grain/Fruit)     Onion   Other   FAQ   \n",
       " 1       Chandigarh  Chandigarh(Grain/Fruit)     Onion   Other   FAQ   \n",
       " 2       Chandigarh  Chandigarh(Grain/Fruit)     Onion   Other   FAQ   \n",
       " 3       Chandigarh  Chandigarh(Grain/Fruit)     Onion   Other   FAQ   \n",
       " 4       Chandigarh  Chandigarh(Grain/Fruit)     Onion   Other   FAQ   \n",
       " ...            ...                      ...       ...     ...   ...   \n",
       " 7843    Chandigarh  Chandigarh(Grain/Fruit)     Onion   Other   FAQ   \n",
       " 7844    Chandigarh  Chandigarh(Grain/Fruit)     Onion   Other   FAQ   \n",
       " 7845    Chandigarh  Chandigarh(Grain/Fruit)     Onion   Other   FAQ   \n",
       " 7846    Chandigarh  Chandigarh(Grain/Fruit)     Onion   Other   FAQ   \n",
       " 7847    Chandigarh  Chandigarh(Grain/Fruit)     Onion   Other   FAQ   \n",
       " \n",
       "       min_rs_quintal  max_rs_quintal  modal_rs_quintal         date  year  \\\n",
       " 0               1200            2300            1750.0  05 Sep 2019  2019   \n",
       " 1               1200            2600            1900.0  04 Sep 2019  2019   \n",
       " 2               1500            2500            2000.0  13 Sep 2019  2019   \n",
       " 3               1500            2500            2000.0  14 Sep 2019  2019   \n",
       " 4               1500            2500            2000.0  15 Sep 2019  2019   \n",
       " ...              ...             ...               ...          ...   ...   \n",
       " 7843            1800            2500            2150.0  10 Aug 2017  2017   \n",
       " 7844            1800            2600            2200.0  13 Aug 2017  2017   \n",
       " 7845            1800            2800            2300.0  11 Aug 2017  2017   \n",
       " 7846            1900            2500            2200.0  04 Aug 2017  2017   \n",
       " 7847            2000            2800            2400.0  05 Aug 2017  2017   \n",
       " \n",
       "      month day_of_month  \n",
       " 0      Sep           05  \n",
       " 1      Sep           04  \n",
       " 2      Sep           13  \n",
       " 3      Sep           14  \n",
       " 4      Sep           15  \n",
       " ...    ...          ...  \n",
       " 7843   Aug           10  \n",
       " 7844   Aug           13  \n",
       " 7845   Aug           11  \n",
       " 7846   Aug           04  \n",
       " 7847   Aug           05  \n",
       " \n",
       " [7848 rows x 12 columns],\n",
       " 'rj':        district_name      market_name commodity variety grade  min_rs_quintal  \\\n",
       " 0             Jaipur   Jaipur (Grain)     Sugar   Other   FAQ          3300.0   \n",
       " 1             Jaipur   Jaipur (Grain)     Sugar   Other   FAQ          3300.0   \n",
       " 2             Jaipur   Jaipur (Grain)     Sugar   Other   FAQ          3300.0   \n",
       " 3             Jaipur   Jaipur (Grain)     Sugar   Other   FAQ          3300.0   \n",
       " 4             Jaipur   Jaipur (Grain)     Sugar   Other   FAQ          3325.0   \n",
       " ...              ...              ...       ...     ...   ...             ...   \n",
       " 371198       Udaipur  Udaipur (Grain)     Sugar   Other   FAQ          4070.0   \n",
       " 371199       Udaipur  Udaipur (Grain)     Sugar   Other   FAQ          4070.0   \n",
       " 371200       Udaipur  Udaipur (Grain)     Sugar   Other   FAQ          4070.0   \n",
       " 371201       Udaipur  Udaipur (Grain)     Sugar   Other   FAQ          4100.0   \n",
       " 371202       Udaipur  Udaipur (Grain)     Sugar   Other   FAQ          6000.0   \n",
       " \n",
       "         max_rs_quintal  modal_rs_quintal         date  year month day_of_month  \n",
       " 0               3600.0            3400.0  18 Jun 2020  2020   Jun           18  \n",
       " 1               3650.0            3375.0  15 Jun 2020  2020   Jun           15  \n",
       " 2               3750.0            3600.0  16 Jun 2020  2020   Jun           16  \n",
       " 3               3750.0            3625.0  04 Mar 2020  2020   Mar           04  \n",
       " 4               3600.0            3450.0  19 Jun 2020  2020   Jun           19  \n",
       " ...                ...               ...          ...   ...   ...          ...  \n",
       " 371198          4100.0            4080.0  23 Feb 2017  2017   Feb           23  \n",
       " 371199          4100.0            4080.0  27 Feb 2017  2017   Feb           27  \n",
       " 371200          4100.0            4080.0  28 Feb 2017  2017   Feb           28  \n",
       " 371201          4100.0            4100.0  09 Jun 2017  2017   Jun           09  \n",
       " 371202          7200.0            7000.0  19 Oct 2016  2016   Oct           19  \n",
       " \n",
       " [371203 rows x 12 columns],\n",
       " 'kl':        district_name    market_name commodity variety grade  min_rs_quintal  \\\n",
       " 0         Malappuram  Thirurrangadi     Sugar   Chini   FAQ          4000.0   \n",
       " 1         Malappuram  Thirurrangadi     Sugar   Chini   FAQ          4000.0   \n",
       " 2         Malappuram  Thirurrangadi     Sugar   Chini   FAQ          4000.0   \n",
       " 3          Alappuzha      Cherthala     Sugar   Other   FAQ          2800.0   \n",
       " 4          Alappuzha      Cherthala     Sugar   Other   FAQ          2850.0   \n",
       " ...              ...            ...       ...     ...   ...             ...   \n",
       " 424643        Kollam        Punalur     Sugar   Other   FAQ          4200.0   \n",
       " 424644        Kollam        Punalur     Sugar   Other   FAQ          4200.0   \n",
       " 424645        Kollam        Punalur     Sugar   Other   FAQ          4200.0   \n",
       " 424646        Kollam        Punalur     Sugar   Other   FAQ          4400.0   \n",
       " 424647        Kollam        Punalur     Sugar   Other   FAQ          4400.0   \n",
       " \n",
       "         max_rs_quintal  modal_rs_quintal         date  year month day_of_month  \n",
       " 0                 4000            4000.0  29 Jan 2020  2020   Jan           29  \n",
       " 1                 4200            4100.0  28 Jan 2020  2020   Jan           28  \n",
       " 2                 4200            4200.0  30 Jan 2020  2020   Jan           30  \n",
       " 3                 2900            2850.0  16 Dec 2014  2014   Dec           16  \n",
       " 4                 3100            2900.0  27 Oct 2014  2014   Oct           27  \n",
       " ...                ...               ...          ...   ...   ...          ...  \n",
       " 424643            4400            4300.0  27 Feb 2017  2017   Feb           27  \n",
       " 424644            4400            4300.0  30 Jan 2017  2017   Jan           30  \n",
       " 424645            4400            4300.0  31 Jan 2017  2017   Jan           31  \n",
       " 424646            4800            4600.0  08 Aug 2017  2017   Aug           08  \n",
       " 424647            4800            4600.0  22 May 2017  2017   May           22  \n",
       " \n",
       " [424648 rows x 12 columns],\n",
       " 'mg':             district_name market_name commodity variety grade  min_rs_quintal  \\\n",
       " 0      East Jaintia Hills  Khliehriat      Rice   Other   FAQ            2600   \n",
       " 1      East Jaintia Hills  Khliehriat      Rice   Other   FAQ            2600   \n",
       " 2      East Jaintia Hills  Khliehriat      Rice   Other   FAQ            2600   \n",
       " 3      East Jaintia Hills  Khliehriat      Rice   Other   FAQ            2600   \n",
       " 4      East Jaintia Hills  Khliehriat      Rice   Other   FAQ            4000   \n",
       " ...                   ...         ...       ...     ...   ...             ...   \n",
       " 11383  West Jaintia Hills    Wahiajer      Rice   Other   FAQ            3000   \n",
       " 11384  West Jaintia Hills    Wahiajer      Rice   Other   FAQ            3000   \n",
       " 11385  West Jaintia Hills    Wahiajer      Rice   Other   FAQ            3000   \n",
       " 11386  West Jaintia Hills    Wahiajer      Rice   Other   FAQ            3000   \n",
       " 11387  West Jaintia Hills    Wahiajer      Rice   Other   FAQ            3000   \n",
       " \n",
       "        max_rs_quintal  modal_rs_quintal         date  year month day_of_month  \n",
       " 0                5000            3800.0  04 Nov 2019  2019   Nov           04  \n",
       " 1                5000            3800.0  17 Sep 2019  2019   Sep           17  \n",
       " 2                5000            3800.0  21 Oct 2019  2019   Oct           21  \n",
       " 3                5000            3800.0  25 Sep 2019  2019   Sep           25  \n",
       " 4                6000            5000.0  07 Dec 2019  2019   Dec           07  \n",
       " ...               ...               ...          ...   ...   ...          ...  \n",
       " 11383            4200            3500.0  23 Mar 2017  2017   Mar           23  \n",
       " 11384            4200            3500.0  26 May 2017  2017   May           26  \n",
       " 11385            4200            3500.0  27 Jun 2017  2017   Jun           27  \n",
       " 11386            4200            3500.0  29 Oct 2016  2016   Oct           29  \n",
       " 11387            4200            3500.0  31 Mar 2017  2017   Mar           31  \n",
       " \n",
       " [11388 rows x 12 columns],\n",
       " 'go':      district_name market_name commodity variety grade  min_rs_quintal  \\\n",
       " 0        North Goa      Mapusa     Onion   Onion   FAQ             800   \n",
       " 1        North Goa      Mapusa     Onion   Onion   FAQ             800   \n",
       " 2        North Goa      Mapusa     Onion   Onion   FAQ             800   \n",
       " 3        North Goa      Mapusa     Onion   Onion   FAQ             800   \n",
       " 4        North Goa      Mapusa     Onion   Onion   FAQ             800   \n",
       " ...            ...         ...       ...     ...   ...             ...   \n",
       " 7160     North Goa      Mapusa     Onion   Onion   FAQ            1600   \n",
       " 7161     North Goa      Mapusa     Onion   Onion   FAQ            1600   \n",
       " 7162     North Goa      Mapusa     Onion   Onion   FAQ            1600   \n",
       " 7163     North Goa      Mapusa     Onion   Onion   FAQ            1700   \n",
       " 7164     North Goa      Mapusa     Onion   Onion   FAQ            2200   \n",
       " \n",
       "       max_rs_quintal  modal_rs_quintal         date  year month day_of_month  \n",
       " 0               1000             900.0  30 May 2020  2020   May           30  \n",
       " 1               1200            1000.0  01 Jun 2020  2020   Jun           01  \n",
       " 2               1200            1000.0  02 Jun 2020  2020   Jun           02  \n",
       " 3               1200            1000.0  05 Jul 2020  2020   Jul           05  \n",
       " 4               1200            1000.0  06 Jun 2020  2020   Jun           06  \n",
       " ...              ...               ...          ...   ...   ...          ...  \n",
       " 7160            2000            1800.0  07 Aug 2017  2017   Aug           07  \n",
       " 7161            2400            2000.0  20 Aug 2017  2017   Aug           20  \n",
       " 7162            2400            2000.0  21 Aug 2017  2017   Aug           21  \n",
       " 7163            2500            2100.0  11 Aug 2017  2017   Aug           11  \n",
       " 7164            2400            2300.0  19 Aug 2017  2017   Aug           19  \n",
       " \n",
       " [7165 rows x 12 columns],\n",
       " 'wb':        district_name market_name commodity variety grade  min_rs_quintal  \\\n",
       " 0            Birbhum     Birbhum     Sugar  Medium   FAQ            3450   \n",
       " 1            Birbhum     Birbhum     Sugar  Medium   FAQ            3450   \n",
       " 2            Birbhum     Birbhum     Sugar  Medium   FAQ            3450   \n",
       " 3            Birbhum     Birbhum     Sugar  Medium   FAQ            3450   \n",
       " 4            Birbhum     Birbhum     Sugar  Medium   FAQ            3450   \n",
       " ...              ...         ...       ...     ...   ...             ...   \n",
       " 759689       Birbhum    Sainthia     Sugar   Chini   FAQ            4220   \n",
       " 759690       Birbhum    Sainthia     Sugar   Chini   FAQ            4220   \n",
       " 759691       Birbhum    Sainthia     Sugar   Chini   FAQ            4220   \n",
       " 759692       Birbhum    Sainthia     Sugar   Chini   FAQ            4220   \n",
       " 759693       Birbhum    Sainthia     Sugar   Chini   FAQ            4230   \n",
       " \n",
       "         max_rs_quintal  modal_rs_quintal         date  year month day_of_month  \n",
       " 0                 3470              3460  07 Jun 2020  2020   Jun           07  \n",
       " 1                 3500              3480  04 Jun 2020  2020   Jun           04  \n",
       " 2                 3500              3480  05 Jun 2020  2020   Jun           05  \n",
       " 3                 3500              3480  06 Jun 2020  2020   Jun           06  \n",
       " 4                 3520              3500  03 Jun 2020  2020   Jun           03  \n",
       " ...                ...               ...          ...   ...   ...          ...  \n",
       " 759689            4270              4250  13 Aug 2017  2017   Aug           13  \n",
       " 759690            4270              4250  14 Aug 2017  2017   Aug           14  \n",
       " 759691            4280              4250  18 Aug 2017  2017   Aug           18  \n",
       " 759692            4280              4260  16 Aug 2017  2017   Aug           16  \n",
       " 759693            4300              4260  17 Aug 2017  2017   Aug           17  \n",
       " \n",
       " [759694 rows x 12 columns],\n",
       " 'an':                 district_name market_name commodity variety grade  \\\n",
       " 0    North and Middle Andaman    Diglipur     Onion   Other   FAQ   \n",
       " 1    North and Middle Andaman    Diglipur     Onion   Other   FAQ   \n",
       " 2    North and Middle Andaman    Diglipur     Onion   Other   FAQ   \n",
       " 3    North and Middle Andaman    Diglipur     Onion   Other   FAQ   \n",
       " 4    North and Middle Andaman    Diglipur     Onion   Other   FAQ   \n",
       " ..                        ...         ...       ...     ...   ...   \n",
       " 552  North and Middle Andaman    Diglipur     Onion   Other   FAQ   \n",
       " 553  North and Middle Andaman    Diglipur     Onion   Other   FAQ   \n",
       " 554  North and Middle Andaman    Diglipur     Onion   Other   FAQ   \n",
       " 555  North and Middle Andaman    Diglipur     Onion   Other   FAQ   \n",
       " 556  North and Middle Andaman    Diglipur     Onion   Other   FAQ   \n",
       " \n",
       "      min_rs_quintal  max_rs_quintal  modal_rs_quintal         date  year  \\\n",
       " 0              2500            3000              2800  06 Apr 2016  2016   \n",
       " 1              3000            4000              3500  17 May 2016  2016   \n",
       " 2              3000            4000              3500  30 Apr 2016  2016   \n",
       " 3              3500            4000              3700  13 May 2016  2016   \n",
       " 4              3500            4000              3700  16 May 2016  2016   \n",
       " ..              ...             ...               ...          ...   ...   \n",
       " 552            3500            4000              3800  13 Oct 2016  2016   \n",
       " 553            3500            4000              3800  25 Jan 2017  2017   \n",
       " 554            3500            4000              3800  25 Oct 2016  2016   \n",
       " 555            3500            4000              3800  26 Oct 2016  2016   \n",
       " 556            3500            4000              3800  30 Jan 2017  2017   \n",
       " \n",
       "     month day_of_month  \n",
       " 0     Apr           06  \n",
       " 1     May           17  \n",
       " 2     Apr           30  \n",
       " 3     May           13  \n",
       " 4     May           16  \n",
       " ..    ...          ...  \n",
       " 552   Oct           13  \n",
       " 553   Jan           25  \n",
       " 554   Oct           25  \n",
       " 555   Oct           26  \n",
       " 556   Jan           30  \n",
       " \n",
       " [557 rows x 12 columns],\n",
       " 'ap':        district_name    market_name           commodity  \\\n",
       " 0             Guntur      Vinukonda  Arhar Dal(Tur Dal)   \n",
       " 1             Guntur      Vinukonda  Arhar Dal(Tur Dal)   \n",
       " 2             Guntur      Vinukonda  Arhar Dal(Tur Dal)   \n",
       " 3      Visakhapatnam  Visakhapatnam           Masur Dal   \n",
       " 4            Chittor       Kalikiri              Tomato   \n",
       " ...              ...            ...                 ...   \n",
       " 54199  Visakhapatnam  Visakhapatnam                Rice   \n",
       " 54200  Visakhapatnam  Visakhapatnam                Rice   \n",
       " 54201         Guntur      Vinukonda  Arhar Dal(Tur Dal)   \n",
       " 54202         Guntur      Vinukonda  Arhar Dal(Tur Dal)   \n",
       " 54203         Guntur      Vinukonda  Arhar Dal(Tur Dal)   \n",
       " \n",
       "                       variety   grade  min_rs_quintal  max_rs_quintal  \\\n",
       " 0                       Other     FAQ            4500            6000   \n",
       " 1                       Other     FAQ            4500            6000   \n",
       " 2                       Other     FAQ            4800            6000   \n",
       " 3                       Other  Medium            5900            6100   \n",
       " 4                       Local     FAQ             330             730   \n",
       " ...                       ...     ...             ...             ...   \n",
       " 54199  AP Raw-Rice Sona Ponni  Medium            3100            3300   \n",
       " 54200  AP Raw-Rice Sona Ponni  Medium            3300            3500   \n",
       " 54201                   Other     FAQ            4500            6000   \n",
       " 54202                   Other     FAQ            4500            6000   \n",
       " 54203                   Other     FAQ            4800            6000   \n",
       " \n",
       "        modal_rs_quintal         date  year month day_of_month  \n",
       " 0                5000.0  28 Mar 2016  2016   Mar           28  \n",
       " 1                5000.0  29 Mar 2016  2016   Mar           29  \n",
       " 2                5000.0  30 Mar 2016  2016   Mar           30  \n",
       " 3                6068.0  28 Dec 2015  2015   Dec           28  \n",
       " 4                 660.0  15 Sep 2019  2019   Sep           15  \n",
       " ...                 ...          ...   ...   ...          ...  \n",
       " 54199            3200.0  14 Apr 2017  2017   Apr           14  \n",
       " 54200            3400.0  17 Mar 2017  2017   Mar           17  \n",
       " 54201            5000.0  28 Mar 2016  2016   Mar           28  \n",
       " 54202            5000.0  29 Mar 2016  2016   Mar           29  \n",
       " 54203            5000.0  30 Mar 2016  2016   Mar           30  \n",
       " \n",
       " [54204 rows x 12 columns],\n",
       " 'cg':       district_name market_name    commodity variety grade  min_rs_quintal  \\\n",
       " 0         Dantewada       Gidam  Mustard Oil   Other   FAQ            2500   \n",
       " 1            Kanker     Charama  Mustard Oil   Other   FAQ            3000   \n",
       " 2         Dantewada       Gidam  Mustard Oil   Other   FAQ            5600   \n",
       " 3         Dantewada       Gidam  Mustard Oil   Other   FAQ            5600   \n",
       " 4         Dantewada       Gidam  Mustard Oil   Other   FAQ            6000   \n",
       " ...             ...         ...          ...     ...   ...             ...   \n",
       " 49928     Dantewada       Gidam  Mustard Oil   Other   FAQ            8500   \n",
       " 49929     Dantewada       Gidam  Mustard Oil   Other   FAQ            7400   \n",
       " 49930        Kanker     Charama  Mustard Oil   Other   FAQ            3000   \n",
       " 49931        Kanker     Charama  Mustard Oil   Other   FAQ            3000   \n",
       " 49932        Kanker     Charama  Mustard Oil   Other   FAQ            4000   \n",
       " \n",
       "        max_rs_quintal  modal_rs_quintal         date  year month day_of_month  \n",
       " 0                2600              2550  08 Oct 2014  2014   Oct           08  \n",
       " 1                3000              3000  30 Mar 2018  2018   Mar           30  \n",
       " 2                6000              5650  10 Feb 2018  2018   Feb           10  \n",
       " 3                6000              5650  11 Feb 2018  2018   Feb           11  \n",
       " 4                6500              6050  29 Jan 2018  2018   Jan           29  \n",
       " ...               ...               ...          ...   ...   ...          ...  \n",
       " 49928            8600              8550  21 Feb 2019  2019   Feb           21  \n",
       " 49929            7600              7500  13 Feb 2022  2022   Feb           13  \n",
       " 49930            3000              3000  06 Apr 2017  2017   Apr           06  \n",
       " 49931            3000              3000  27 Apr 2017  2017   Apr           27  \n",
       " 49932            4000              4000  20 Mar 2017  2017   Mar           20  \n",
       " \n",
       " [49933 rows x 12 columns],\n",
       " 'tn':       district_name                    market_name                 commodity  \\\n",
       " 0             Erode                   Kavunthapadi        Arhar Dal(Tur Dal)   \n",
       " 1        Dharmapuri  AJattihalli(Uzhavar Sandhai )                    Tomato   \n",
       " 2        Dharmapuri  AJattihalli(Uzhavar Sandhai )                    Tomato   \n",
       " 3        Dharmapuri  AJattihalli(Uzhavar Sandhai )                    Tomato   \n",
       " 4        Dharmapuri  AJattihalli(Uzhavar Sandhai )                    Tomato   \n",
       " ...             ...                            ...                       ...   \n",
       " 32860      Namakkal                   Tiruchengode  Black Gram Dal (Urd Dal)   \n",
       " 32861      Namakkal                   Tiruchengode  Black Gram Dal (Urd Dal)   \n",
       " 32862    Villupuram               Tiruvennainallur  Black Gram Dal (Urd Dal)   \n",
       " 32863  Kancheepuram                  Maduranthagam  Black Gram Dal (Urd Dal)   \n",
       " 32864         Erode                   Kavunthapadi        Arhar Dal(Tur Dal)   \n",
       " \n",
       "               variety  grade  min_rs_quintal  max_rs_quintal  \\\n",
       " 0      Arhar Dal(Tur)    FAQ          4850.0          5000.0   \n",
       " 1               Deshi  Local          1800.0          2000.0   \n",
       " 2               Deshi  Local          1800.0          2000.0   \n",
       " 3               Deshi  Local          2400.0          2600.0   \n",
       " 4               Deshi  Local          5000.0          5400.0   \n",
       " ...               ...    ...             ...             ...   \n",
       " 32860  Black Gram Dal    FAQ          6360.0          6360.0   \n",
       " 32861  Black Gram Dal    FAQ          6500.0          7000.0   \n",
       " 32862  Black Gram Dal    FAQ          6790.0          6792.0   \n",
       " 32863  Black Gram Dal    FAQ          4800.0          5300.0   \n",
       " 32864  Arhar Dal(Tur)    FAQ          4850.0          5000.0   \n",
       " \n",
       "        modal_rs_quintal         date  year month day_of_month  \n",
       " 0                4900.0  17 Aug 2017  2017   Aug           17  \n",
       " 1                2000.0  25 Aug 2024  2024   Aug           25  \n",
       " 2                2000.0  29 Aug 2024  2024   Aug           29  \n",
       " 3                2600.0  03 Aug 2024  2024   Aug           03  \n",
       " 4                5400.0  20 Jul 2024  2024   Jul           20  \n",
       " ...                 ...          ...   ...   ...          ...  \n",
       " 32860            6360.0  14 Sep 2022  2022   Sep           14  \n",
       " 32861            6750.0  24 Apr 2023  2023   Apr           24  \n",
       " 32862            6791.0  17 Mar 2023  2023   Mar           17  \n",
       " 32863            5125.0  18 May 2021  2021   May           18  \n",
       " 32864            4900.0  17 Aug 2017  2017   Aug           17  \n",
       " \n",
       " [32865 rows x 12 columns],\n",
       " 'up':         district_name   market_name commodity variety grade  min_rs_quintal  \\\n",
       " 0            Bareilly      Bareilly     Sugar   Chini   FAQ          3350.0   \n",
       " 1            Bareilly      Bareilly     Sugar   Chini   FAQ          3350.0   \n",
       " 2            Bareilly      Bareilly     Sugar   Chini   FAQ          3550.0   \n",
       " 3            Bareilly      Bareilly     Sugar   Khand   FAQ          3250.0   \n",
       " 4            Bareilly      Bareilly     Sugar   Khand   FAQ          3250.0   \n",
       " ...               ...           ...       ...     ...   ...             ...   \n",
       " 2717527     Lakhimpur     Paliakala     Sugar   Chini   FAQ          3410.0   \n",
       " 2717528  Shahjahanpur  Shahjahanpur     Sugar   Chini   FAQ          3600.0   \n",
       " 2717529  Shahjahanpur  Shahjahanpur     Sugar   Chini   FAQ          3750.0   \n",
       " 2717530  Shahjahanpur  Shahjahanpur     Sugar   Chini   FAQ          3900.0   \n",
       " 2717531  Shahjahanpur  Shahjahanpur     Sugar  Medium   FAQ          3700.0   \n",
       " \n",
       "          max_rs_quintal  modal_rs_quintal         date  year month  \\\n",
       " 0                3500.0            3425.0  23 Oct 2019  2019   Oct   \n",
       " 1                3500.0            3425.0  30 Sep 2019  2019   Sep   \n",
       " 2                3600.0            3570.0  04 Apr 2020  2020   Apr   \n",
       " 3                3300.0            3275.0  04 Apr 2020  2020   Apr   \n",
       " 4                3400.0            3320.0  23 Oct 2019  2019   Oct   \n",
       " ...                 ...               ...          ...   ...   ...   \n",
       " 2717527          3520.0            3450.0  01 Sep 2017  2017   Sep   \n",
       " 2717528          3800.0            3700.0  25 Jul 2017  2017   Jul   \n",
       " 2717529          3850.0            3800.0  13 Feb 2017  2017   Feb   \n",
       " 2717530          4000.0            3950.0  13 Jun 2017  2017   Jun   \n",
       " 2717531          3800.0            3725.0  25 Aug 2017  2017   Aug   \n",
       " \n",
       "         day_of_month  \n",
       " 0                 23  \n",
       " 1                 30  \n",
       " 2                 04  \n",
       " 3                 04  \n",
       " 4                 23  \n",
       " ...              ...  \n",
       " 2717527           01  \n",
       " 2717528           25  \n",
       " 2717529           13  \n",
       " 2717530           13  \n",
       " 2717531           25  \n",
       " \n",
       " [2717532 rows x 12 columns],\n",
       " 'or':        district_name market_name commodity variety grade  min_rs_quintal  \\\n",
       " 0         Sundergarh       Bonai     Sugar   Other   FAQ          4000.0   \n",
       " 1         Sundergarh       Bonai     Sugar   Other   FAQ          4000.0   \n",
       " 2         Sundergarh       Bonai     Sugar   Other   FAQ          4000.0   \n",
       " 3         Sundergarh       Bonai     Sugar   Other   FAQ          4000.0   \n",
       " 4         Sundergarh       Bonai     Sugar   Other   FAQ          4000.0   \n",
       " ...              ...         ...       ...     ...   ...             ...   \n",
       " 410983    Sundergarh       Bonai     Sugar   Other   FAQ          4500.0   \n",
       " 410984    Sundergarh       Bonai     Sugar   Other   FAQ          4500.0   \n",
       " 410985    Sundergarh       Bonai     Sugar   Other   FAQ          4500.0   \n",
       " 410986    Sundergarh       Bonai     Sugar   Other   FAQ          4500.0   \n",
       " 410987    Sundergarh       Bonai     Sugar   Other   FAQ          4500.0   \n",
       " \n",
       "         max_rs_quintal  modal_rs_quintal         date  year month day_of_month  \n",
       " 0                  0.0            4000.0  04 Oct 2019  2019   Oct           04  \n",
       " 1               4000.0            4000.0  01 Nov 2019  2019   Nov           01  \n",
       " 2               4000.0            4000.0  01 Oct 2019  2019   Oct           01  \n",
       " 3               4000.0            4000.0  01 Sep 2019  2019   Sep           01  \n",
       " 4               4000.0            4000.0  02 Dec 2019  2019   Dec           02  \n",
       " ...                ...               ...          ...   ...   ...          ...  \n",
       " 410983          4500.0            4500.0  11 Jul 2017  2017   Jul           11  \n",
       " 410984          4500.0            4500.0  12 Jul 2017  2017   Jul           12  \n",
       " 410985          4500.0            4500.0  13 Jul 2017  2017   Jul           13  \n",
       " 410986          4500.0            4500.0  14 Jul 2017  2017   Jul           14  \n",
       " 410987          4500.0            4500.0  25 Mar 2017  2017   Mar           25  \n",
       " \n",
       " [410988 rows x 12 columns],\n",
       " 'pb':        district_name market_name           commodity         variety grade  \\\n",
       " 0            Fazilka      Abohar  Arhar Dal(Tur Dal)  Arhar Dal(Tur)   FAQ   \n",
       " 1            Fazilka      Abohar  Arhar Dal(Tur Dal)  Arhar Dal(Tur)   FAQ   \n",
       " 2            Fazilka      Abohar  Arhar Dal(Tur Dal)  Arhar Dal(Tur)   FAQ   \n",
       " 3            Fazilka      Abohar  Arhar Dal(Tur Dal)  Arhar Dal(Tur)   FAQ   \n",
       " 4            Fazilka      Abohar  Arhar Dal(Tur Dal)  Arhar Dal(Tur)   FAQ   \n",
       " ...              ...         ...                 ...             ...   ...   \n",
       " 602720       Fazilka      Abohar  Arhar Dal(Tur Dal)  Arhar Dal(Tur)   FAQ   \n",
       " 602721       Fazilka      Abohar  Arhar Dal(Tur Dal)  Arhar Dal(Tur)   FAQ   \n",
       " 602722       Fazilka      Abohar  Arhar Dal(Tur Dal)  Arhar Dal(Tur)   FAQ   \n",
       " 602723       Fazilka      Abohar  Arhar Dal(Tur Dal)  Arhar Dal(Tur)   FAQ   \n",
       " 602724       Fazilka      Abohar  Arhar Dal(Tur Dal)  Arhar Dal(Tur)   FAQ   \n",
       " \n",
       "         min_rs_quintal  max_rs_quintal  modal_rs_quintal         date  year  \\\n",
       " 0               2650.0          2650.0            2650.0  30 Jan 2018  2018   \n",
       " 1               2700.0          2700.0            2700.0  02 Dec 2017  2017   \n",
       " 2               2770.0          2770.0            2770.0  11 Jan 2018  2018   \n",
       " 3               2825.0          2825.0            2825.0  03 Feb 2018  2018   \n",
       " 4               2850.0          3260.0            2850.0  24 Feb 2018  2018   \n",
       " ...                ...             ...               ...          ...   ...   \n",
       " 602720          3300.0          3300.0            3300.0  22 Mar 2018  2018   \n",
       " 602721             0.0             0.0            2900.0  02 Nov 2018  2018   \n",
       " 602722             0.0             0.0            3500.0  11 Mar 2019  2019   \n",
       " 602723             0.0             0.0            3870.0  03 Apr 2019  2019   \n",
       " 602724          3200.0          3740.0            3740.0  29 Jan 2019  2019   \n",
       " \n",
       "        month day_of_month  \n",
       " 0        Jan           30  \n",
       " 1        Dec           02  \n",
       " 2        Jan           11  \n",
       " 3        Feb           03  \n",
       " 4        Feb           24  \n",
       " ...      ...          ...  \n",
       " 602720   Mar           22  \n",
       " 602721   Nov           02  \n",
       " 602722   Mar           11  \n",
       " 602723   Apr           03  \n",
       " 602724   Jan           29  \n",
       " \n",
       " [602725 rows x 12 columns],\n",
       " 'ar':      district_name market_name commodity variety grade  min_rs_quintal  \\\n",
       " 0            Tirap      Khonsa      Rice  Common   FAQ            2800   \n",
       " 1            Tirap      Khonsa      Rice  Common   FAQ            2800   \n",
       " 2            Tirap      Khonsa      Rice  Common   FAQ            2800   \n",
       " 3            Tirap      Khonsa      Rice  Common   FAQ            2800   \n",
       " 4            Tirap      Khonsa      Rice  Common   FAQ            2800   \n",
       " ...            ...         ...       ...     ...   ...             ...   \n",
       " 1331         Tirap      Khonsa      Rice  Common   FAQ            2800   \n",
       " 1332         Tirap      Khonsa      Rice  Common   FAQ            2800   \n",
       " 1333         Tirap      Khonsa      Rice  Common   FAQ            2800   \n",
       " 1334         Tirap      Khonsa      Rice  Common   FAQ            2800   \n",
       " 1335         Tirap      Khonsa      Rice  Common   FAQ            2810   \n",
       " \n",
       "       max_rs_quintal  modal_rs_quintal         date  year month day_of_month  \n",
       " 0               2800              2800  09 Apr 2015  2015   Apr           09  \n",
       " 1               2800              2800  24 Mar 2015  2015   Mar           24  \n",
       " 2               2830              2800  06 Apr 2015  2015   Apr           06  \n",
       " 3               2840              2800  04 May 2015  2015   May           04  \n",
       " 4               2840              2800  09 May 2015  2015   May           09  \n",
       " ...              ...               ...          ...   ...   ...          ...  \n",
       " 1331            2900              2800  23 Sep 2015  2015   Sep           23  \n",
       " 1332            2900              2800  24 Sep 2015  2015   Sep           24  \n",
       " 1333            2900              2800  28 Sep 2015  2015   Sep           28  \n",
       " 1334            2900              2800  29 Sep 2015  2015   Sep           29  \n",
       " 1335            2880              2810  11 Sep 2015  2015   Sep           11  \n",
       " \n",
       " [1336 rows x 12 columns],\n",
       " 'mz':      district_name                       market_name commodity   variety  \\\n",
       " 0           Aizawl                 New Market Aizawl      Rice  1009 Kar   \n",
       " 1           Aizawl                 New Market Aizawl      Rice  1009 Kar   \n",
       " 2           Aizawl                 New Market Aizawl    Tomato     Other   \n",
       " 3           Aizawl                 New Market Aizawl    Tomato     Other   \n",
       " 4           Aizawl                 New Market Aizawl    Tomato     Other   \n",
       " ...            ...                               ...       ...       ...   \n",
       " 1866        Lungli  Super Market Lungli (Bara Bazar)     Onion     Other   \n",
       " 1867        Lungli  Super Market Lungli (Bara Bazar)     Onion     Other   \n",
       " 1868        Lungli  Super Market Lungli (Bara Bazar)     Onion     Other   \n",
       " 1869        Aizawl                 New Market Aizawl      Rice  1009 Kar   \n",
       " 1870        Aizawl                 New Market Aizawl      Rice  1009 Kar   \n",
       " \n",
       "      grade  min_rs_quintal  max_rs_quintal  modal_rs_quintal         date  \\\n",
       " 0      FAQ            3000            4000              3500  01 Aug 2019   \n",
       " 1      FAQ            3000            4000              3500  22 Aug 2019   \n",
       " 2      FAQ            4000            6000              5000  15 Nov 2019   \n",
       " 3      FAQ            4000            6000              5000  30 Sep 2019   \n",
       " 4      FAQ            4000            7000              6000  14 Nov 2019   \n",
       " ...    ...             ...             ...               ...          ...   \n",
       " 1866   FAQ            3000            5000              4000  06 Sep 2016   \n",
       " 1867   FAQ            3000            5000              4000  09 Sep 2016   \n",
       " 1868   FAQ            3000            5000              4000  10 Sep 2016   \n",
       " 1869   FAQ            3000            4000              3500  01 Aug 2019   \n",
       " 1870   FAQ            3000            4000              3500  22 Aug 2019   \n",
       " \n",
       "       year month day_of_month  \n",
       " 0     2019   Aug           01  \n",
       " 1     2019   Aug           22  \n",
       " 2     2019   Nov           15  \n",
       " 3     2019   Sep           30  \n",
       " 4     2019   Nov           14  \n",
       " ...    ...   ...          ...  \n",
       " 1866  2016   Sep           06  \n",
       " 1867  2016   Sep           09  \n",
       " 1868  2016   Sep           10  \n",
       " 1869  2019   Aug           01  \n",
       " 1870  2019   Aug           22  \n",
       " \n",
       " [1871 rows x 12 columns],\n",
       " 'jr':       district_name market_name commodity variety grade  min_rs_quintal  \\\n",
       " 0           Giridih     Giridih     Sugar   Other   FAQ            3800   \n",
       " 1           Giridih     Giridih     Sugar   Other   FAQ            3800   \n",
       " 2           Giridih     Giridih     Sugar   Other   FAQ            3800   \n",
       " 3           Giridih     Giridih     Sugar   Other   FAQ            3800   \n",
       " 4           Giridih     Giridih     Sugar   Other   FAQ            3800   \n",
       " ...             ...         ...       ...     ...   ...             ...   \n",
       " 47476     Sahebgang   Sahebganj     Sugar   Other   FAQ            4200   \n",
       " 47477     Sahebgang   Sahebganj     Sugar   Other   FAQ            4200   \n",
       " 47478     Sahebgang   Sahebganj     Sugar   Other   FAQ            4200   \n",
       " 47479     Sahebgang   Sahebganj     Sugar   Other   FAQ            4200   \n",
       " 47480     Sahebgang   Sahebganj     Sugar   Other   FAQ            4200   \n",
       " \n",
       "        max_rs_quintal  modal_rs_quintal         date  year month day_of_month  \n",
       " 0              3920.0              3900  30 Sep 2019  2019   Sep           30  \n",
       " 1              3950.0              3900  06 Nov 2019  2019   Nov           06  \n",
       " 2              3950.0              3900  08 Nov 2019  2019   Nov           08  \n",
       " 3              3950.0              3900  08 Sep 2019  2019   Sep           08  \n",
       " 4              3950.0              3900  11 Oct 2019  2019   Oct           11  \n",
       " ...               ...               ...          ...   ...   ...          ...  \n",
       " 47476          4300.0              4250  21 May 2017  2017   May           21  \n",
       " 47477          4300.0              4250  22 Jul 2017  2017   Jul           22  \n",
       " 47478          4300.0              4250  23 Jul 2017  2017   Jul           23  \n",
       " 47479          4400.0              4250  18 Jun 2017  2017   Jun           18  \n",
       " 47480          4500.0              4300  14 May 2017  2017   May           14  \n",
       " \n",
       " [47481 rows x 12 columns],\n",
       " 'mh':        district_name market_name commodity variety grade  min_rs_quintal  \\\n",
       " 0             Mumbai      Mumbai     Sugar   Other   FAQ            3000   \n",
       " 1             Mumbai      Mumbai     Sugar   Other   FAQ            3082   \n",
       " 2             Mumbai      Mumbai     Sugar   Other   FAQ            3132   \n",
       " 3             Mumbai      Mumbai     Sugar   Other   FAQ            3200   \n",
       " 4             Mumbai      Mumbai     Sugar   Other   FAQ            3202   \n",
       " ...              ...         ...       ...     ...   ...             ...   \n",
       " 525215        Mumbai      Mumbai     Sugar   Other   FAQ            3972   \n",
       " 525216        Mumbai      Mumbai     Sugar   Other   FAQ            3972   \n",
       " 525217        Mumbai      Mumbai     Sugar   Other   FAQ            3972   \n",
       " 525218        Mumbai      Mumbai     Sugar   Other   FAQ            3972   \n",
       " 525219        Mumbai      Mumbai     Sugar   Other   FAQ            4000   \n",
       " \n",
       "         max_rs_quintal  modal_rs_quintal         date  year month day_of_month  \n",
       " 0                 3000            3000.0  30 Nov 2019  2019   Nov           30  \n",
       " 1                 3585            3402.0  27 Jan 2020  2020   Jan           27  \n",
       " 2                 3572            3365.0  09 Dec 2019  2019   Dec           09  \n",
       " 3                 3572            3386.0  02 Dec 2019  2019   Dec           02  \n",
       " 4                 3562            3322.0  11 Nov 2019  2019   Nov           11  \n",
       " ...                ...               ...          ...   ...   ...          ...  \n",
       " 525215            4276            4124.0  10 Mar 2017  2017   Mar           10  \n",
       " 525216            4276            4124.0  23 Feb 2017  2017   Feb           23  \n",
       " 525217            4276            4124.0  25 Feb 2017  2017   Feb           25  \n",
       " 525218            4276            4124.0  27 Feb 2017  2017   Feb           27  \n",
       " 525219            8000            6000.0  24 Jan 2017  2017   Jan           24  \n",
       " \n",
       " [525220 rows x 12 columns],\n",
       " 'hr':        district_name  market_name commodity variety grade  min_rs_quintal  \\\n",
       " 0             Jhajar  Bahadurgarh     Sugar   Other   FAQ            2600   \n",
       " 1             Jhajar  Bahadurgarh     Sugar   Other   FAQ            3000   \n",
       " 2             Jhajar  Bahadurgarh     Sugar   Other   FAQ            3000   \n",
       " 3             Jhajar  Bahadurgarh     Sugar   Other   FAQ            3000   \n",
       " 4            Bhiwani        Behal     Sugar   Khand   FAQ            3000   \n",
       " ...              ...          ...       ...     ...   ...             ...   \n",
       " 407506  Yamuna Nagar     Bilaspur     Sugar   Khand   FAQ            3000   \n",
       " 407507  Yamuna Nagar     Bilaspur     Sugar   Khand   FAQ            3000   \n",
       " 407508  Yamuna Nagar     Bilaspur     Sugar   Khand   FAQ            3000   \n",
       " 407509  Yamuna Nagar     Bilaspur     Sugar   Khand   FAQ            3200   \n",
       " 407510  Yamuna Nagar     Bilaspur     Sugar   Khand   FAQ            3200   \n",
       " \n",
       "         max_rs_quintal  modal_rs_quintal         date  year month day_of_month  \n",
       " 0                 2600            2600.0  30 Jan 2015  2015   Jan           30  \n",
       " 1                 3000            3000.0  03 Dec 2014  2014   Dec           03  \n",
       " 2                 3000            3000.0  11 Sep 2014  2014   Sep           11  \n",
       " 3                 3000            3000.0  31 Dec 2014  2014   Dec           31  \n",
       " 4                 3000            3000.0  17 Nov 2014  2014   Nov           17  \n",
       " ...                ...               ...          ...   ...   ...          ...  \n",
       " 407506            3200            3000.0  23 Jan 2017  2017   Jan           23  \n",
       " 407507            3200            3100.0  29 Apr 2017  2017   Apr           29  \n",
       " 407508            3200            3200.0  31 Jul 2017  2017   Jul           31  \n",
       " 407509            3200            3200.0  22 Sep 2016  2016   Sep           22  \n",
       " 407510            3200            3200.0  28 Mar 2017  2017   Mar           28  \n",
       " \n",
       " [407511 rows x 12 columns],\n",
       " 'kk':        district_name market_name           commodity         variety grade  \\\n",
       " 0             Hassan   Arasikere  Arhar Dal(Tur Dal)  Arhar Dal(Tur)   FAQ   \n",
       " 1             Hassan   Arasikere  Arhar Dal(Tur Dal)  Arhar Dal(Tur)   FAQ   \n",
       " 2             Hassan   Arasikere  Arhar Dal(Tur Dal)  Arhar Dal(Tur)   FAQ   \n",
       " 3             Hassan   Arasikere  Arhar Dal(Tur Dal)  Arhar Dal(Tur)   FAQ   \n",
       " 4             Hassan   Arasikere  Arhar Dal(Tur Dal)  Arhar Dal(Tur)   FAQ   \n",
       " ...              ...         ...                 ...             ...   ...   \n",
       " 284781        Tumkur      Tumkur  Arhar Dal(Tur Dal)  Arhar Dal(Tur)   FAQ   \n",
       " 284782        Tumkur      Tumkur  Arhar Dal(Tur Dal)  Arhar Dal(Tur)   FAQ   \n",
       " 284783        Tumkur      Tumkur  Arhar Dal(Tur Dal)  Arhar Dal(Tur)   FAQ   \n",
       " 284784        Tumkur      Tumkur  Arhar Dal(Tur Dal)  Arhar Dal(Tur)   FAQ   \n",
       " 284785        Tumkur      Tumkur  Arhar Dal(Tur Dal)  Arhar Dal(Tur)   FAQ   \n",
       " \n",
       "         min_rs_quintal  max_rs_quintal  modal_rs_quintal         date  year  \\\n",
       " 0                 7000            8700              7000  17 Mar 2020  2020   \n",
       " 1                 7300            7300              7300  11 Oct 2019  2019   \n",
       " 2                 7850            9800              7850  18 Apr 2020  2020   \n",
       " 3                 8300            8300              8300  30 Apr 2020  2020   \n",
       " 4                 9500            9500              9500  13 Apr 2020  2020   \n",
       " ...                ...             ...               ...          ...   ...   \n",
       " 284781            7100            9600              8200  02 Sep 2020  2020   \n",
       " 284782            7200            9100              8500  22 Sep 2020  2020   \n",
       " 284783            7200            9800              8100  05 Aug 2021  2021   \n",
       " 284784            7500            9800              8100  16 Jul 2021  2021   \n",
       " 284785            7500           12000              8800  12 May 2021  2021   \n",
       " \n",
       "        month day_of_month  \n",
       " 0        Mar           17  \n",
       " 1        Oct           11  \n",
       " 2        Apr           18  \n",
       " 3        Apr           30  \n",
       " 4        Apr           13  \n",
       " ...      ...          ...  \n",
       " 284781   Sep           02  \n",
       " 284782   Sep           22  \n",
       " 284783   Aug           05  \n",
       " 284784   Jul           16  \n",
       " 284785   May           12  \n",
       " \n",
       " [284786 rows x 12 columns],\n",
       " 'ng':      district_name market_name commodity   variety grade  min_rs_quintal  \\\n",
       " 0           Kohima     Jalukie      Rice  1009 Kar   FAQ            3000   \n",
       " 1           Kohima     Jalukie      Rice  1009 Kar   FAQ            3100   \n",
       " 2           Kohima     Jalukie      Rice  1009 Kar   FAQ           12400   \n",
       " 3           Kohima     Jalukie      Rice  1009 Kar   FAQ           16000   \n",
       " 4           Kohima     Jalukie      Rice  1009 Kar   FAQ           17500   \n",
       " ...            ...         ...       ...       ...   ...             ...   \n",
       " 7016         Wokha  Wokha Town      Rice     Other   FAQ            7200   \n",
       " 7017         Wokha  Wokha Town      Rice     Other   FAQ            7400   \n",
       " 7018         Wokha  Wokha Town      Rice     Other   FAQ            7400   \n",
       " 7019         Wokha  Wokha Town      Rice     Other   FAQ            7400   \n",
       " 7020         Wokha  Wokha Town      Rice     Other   FAQ            7500   \n",
       " \n",
       "       max_rs_quintal  modal_rs_quintal         date  year month day_of_month  \n",
       " 0               3200              3100  04 May 2018  2018   May           04  \n",
       " 1               3500              3200  11 May 2018  2018   May           11  \n",
       " 2              12700             12600  08 Jun 2018  2018   Jun           08  \n",
       " 3              16200             16100  01 Jun 2018  2018   Jun           01  \n",
       " 4              17700             17600  22 Jun 2018  2018   Jun           22  \n",
       " ...              ...               ...          ...   ...   ...          ...  \n",
       " 7016            7600              7400  10 Oct 2018  2018   Oct           10  \n",
       " 7017            7700              7500  12 Sep 2018  2018   Sep           12  \n",
       " 7018            7700              7600  26 Sep 2018  2018   Sep           26  \n",
       " 7019            7800              7600  17 Oct 2018  2018   Oct           17  \n",
       " 7020            7800              7600  24 Oct 2018  2018   Oct           24  \n",
       " \n",
       " [7021 rows x 12 columns],\n",
       " 'hp':        district_name market_name commodity variety grade  min_rs_quintal  \\\n",
       " 0              Kullu     Bhuntar     Onion   Other   FAQ             800   \n",
       " 1              Kullu     Bhuntar     Onion   Other   FAQ            1300   \n",
       " 2              Kullu     Bhuntar     Onion   Other   FAQ            1300   \n",
       " 3              Kullu     Bhuntar     Onion   Other   FAQ            1300   \n",
       " 4              Kullu     Bhuntar     Onion   Other   FAQ            1400   \n",
       " ...              ...         ...       ...     ...   ...             ...   \n",
       " 156175           Una         Una     Onion   Other   FAQ            1000   \n",
       " 156176           Una         Una     Onion   Other   FAQ            1000   \n",
       " 156177           Una         Una     Onion   Other   FAQ            1000   \n",
       " 156178           Una         Una     Onion   Other   FAQ            1000   \n",
       " 156179           Una         Una     Onion   Other   FAQ            1000   \n",
       " \n",
       "         max_rs_quintal  modal_rs_quintal         date  year month day_of_month  \n",
       " 0                 4900            3600.0  01 Oct 2019  2019   Oct           01  \n",
       " 1                 1400            1350.0  27 May 2020  2020   May           27  \n",
       " 2                 1400            1350.0  29 May 2020  2020   May           29  \n",
       " 3                 1400            1350.0  31 May 2020  2020   May           31  \n",
       " 4                 1500            1450.0  02 Jun 2020  2020   Jun           02  \n",
       " ...                ...               ...          ...   ...   ...          ...  \n",
       " 156175            1200            1000.0  09 May 2017  2017   May           09  \n",
       " 156176            1200            1100.0  11 May 2017  2017   May           11  \n",
       " 156177            1200            1100.0  12 Feb 2017  2017   Feb           12  \n",
       " 156178            1200            1100.0  13 Feb 2017  2017   Feb           13  \n",
       " 156179            1300            1100.0  24 Jul 2017  2017   Jul           24  \n",
       " \n",
       " [156180 rows x 12 columns],\n",
       " 'tr':        district_name market_name           commodity         variety grade  \\\n",
       " 0             Khowai   Teliamura  Arhar Dal(Tur Dal)  Arhar Dal(Tur)   FAQ   \n",
       " 1             Khowai   Teliamura  Arhar Dal(Tur Dal)  Arhar Dal(Tur)   FAQ   \n",
       " 2             Khowai   Teliamura  Arhar Dal(Tur Dal)  Arhar Dal(Tur)   FAQ   \n",
       " 3             Khowai   Teliamura  Arhar Dal(Tur Dal)  Arhar Dal(Tur)   FAQ   \n",
       " 4             Khowai   Teliamura  Arhar Dal(Tur Dal)  Arhar Dal(Tur)   FAQ   \n",
       " ...              ...         ...                 ...             ...   ...   \n",
       " 111638        Khowai   Teliamura  Arhar Dal(Tur Dal)  Arhar Dal(Tur)   FAQ   \n",
       " 111639        Khowai   Teliamura  Arhar Dal(Tur Dal)  Arhar Dal(Tur)   FAQ   \n",
       " 111640        Khowai   Teliamura  Arhar Dal(Tur Dal)  Arhar Dal(Tur)   FAQ   \n",
       " 111641        Khowai   Teliamura  Arhar Dal(Tur Dal)  Arhar Dal(Tur)   FAQ   \n",
       " 111642        Khowai   Teliamura  Arhar Dal(Tur Dal)  Arhar Dal(Tur)   FAQ   \n",
       " \n",
       "         min_rs_quintal  max_rs_quintal  modal_rs_quintal         date  year  \\\n",
       " 0                 3500            4500              4000  16 Sep 2019  2019   \n",
       " 1                 7000            7500              7200  01 Jun 2018  2018   \n",
       " 2                 7000            7500              7200  04 Jun 2018  2018   \n",
       " 3                 7000            7500              7200  08 Jun 2018  2018   \n",
       " 4                 7000            7500              7200  11 May 2018  2018   \n",
       " ...                ...             ...               ...          ...   ...   \n",
       " 111638           13300           13600             13400  07 Nov 2016  2016   \n",
       " 111639           13300           13600             13400  14 Nov 2016  2016   \n",
       " 111640           13300           13600             13400  18 Nov 2016  2016   \n",
       " 111641           13500           13900             13700  16 Jan 2017  2017   \n",
       " 111642           13500           14000             13700  13 Jan 2017  2017   \n",
       " \n",
       "        month day_of_month  \n",
       " 0        Sep           16  \n",
       " 1        Jun           01  \n",
       " 2        Jun           04  \n",
       " 3        Jun           08  \n",
       " 4        May           11  \n",
       " ...      ...          ...  \n",
       " 111638   Nov           07  \n",
       " 111639   Nov           14  \n",
       " 111640   Nov           18  \n",
       " 111641   Jan           16  \n",
       " 111642   Jan           13  \n",
       " \n",
       " [111643 rows x 12 columns],\n",
       " 'jk':       district_name market_name commodity variety grade  min_rs_quintal  \\\n",
       " 0             Jammu     Akhnoor     Onion   Other   FAQ             900   \n",
       " 1             Jammu     Akhnoor     Onion   Other   FAQ             900   \n",
       " 2             Jammu     Akhnoor     Onion   Other   FAQ             900   \n",
       " 3             Jammu     Akhnoor     Onion   Other   FAQ            1000   \n",
       " 4             Jammu     Akhnoor     Onion   Other   FAQ            1000   \n",
       " ...             ...         ...       ...     ...   ...             ...   \n",
       " 54170      Udhampur    Udhampur     Onion   Other   FAQ            2800   \n",
       " 54171      Udhampur    Udhampur     Onion   Other   FAQ            2800   \n",
       " 54172      Udhampur    Udhampur     Onion   Other   FAQ            2800   \n",
       " 54173      Udhampur    Udhampur     Onion   Other   FAQ            2800   \n",
       " 54174      Udhampur    Udhampur     Onion   Other   FAQ            2800   \n",
       " \n",
       "        max_rs_quintal  modal_rs_quintal         date  year month day_of_month  \n",
       " 0              1000.0               950  02 Jun 2020  2020   Jun           02  \n",
       " 1              1000.0               950  25 May 2020  2020   May           25  \n",
       " 2              1000.0               950  27 May 2020  2020   May           27  \n",
       " 3              1100.0              1050  01 Jun 2020  2020   Jun           01  \n",
       " 4              1100.0              1050  04 Jun 2020  2020   Jun           04  \n",
       " ...               ...               ...          ...   ...   ...          ...  \n",
       " 54170          3000.0              2900  10 Aug 2017  2017   Aug           10  \n",
       " 54171          3000.0              2900  12 Aug 2017  2017   Aug           12  \n",
       " 54172          3000.0              2900  13 Aug 2017  2017   Aug           13  \n",
       " 54173          3000.0              2900  16 Aug 2017  2017   Aug           16  \n",
       " 54174          3000.0              2900  25 Aug 2017  2017   Aug           25  \n",
       " \n",
       " [54175 rows x 12 columns],\n",
       " 'as':       district_name             market_name    commodity      variety grade  \\\n",
       " 0        BONGAIGAON              Bongiagaon  Mustard Oil  Mustard Oil   FAQ   \n",
       " 1        BONGAIGAON              Bongiagaon  Mustard Oil  Mustard Oil   FAQ   \n",
       " 2        BONGAIGAON              Bongiagaon  Mustard Oil  Mustard Oil   FAQ   \n",
       " 3        BONGAIGAON              Bongiagaon  Mustard Oil  Mustard Oil   FAQ   \n",
       " 4        BONGAIGAON              Bongiagaon  Mustard Oil  Mustard Oil   FAQ   \n",
       " ...             ...                     ...          ...          ...   ...   \n",
       " 88185        Kamrup  P.O. Uparhali Guwahati  Mustard Oil        Other   FAQ   \n",
       " 88186        Kamrup  P.O. Uparhali Guwahati  Mustard Oil        Other   FAQ   \n",
       " 88187        Kamrup  P.O. Uparhali Guwahati  Mustard Oil        Other   FAQ   \n",
       " 88188     Kokrajhar               Srirampur  Mustard Oil        Other   FAQ   \n",
       " 88189      Tinsukia                Tinsukia  Mustard Oil        Other   FAQ   \n",
       " \n",
       "        min_rs_quintal  max_rs_quintal  modal_rs_quintal         date  year  \\\n",
       " 0              9600.0         10200.0            9800.0  05 Nov 2019  2019   \n",
       " 1              9600.0         10200.0            9800.0  14 Nov 2019  2019   \n",
       " 2              9700.0         10200.0            9800.0  21 Sep 2019  2019   \n",
       " 3              9700.0         10200.0            9800.0  25 Sep 2019  2019   \n",
       " 4              9800.0         10500.0           10200.0  20 Nov 2019  2019   \n",
       " ...               ...             ...               ...          ...   ...   \n",
       " 88185          9179.0         11390.0           10284.5  30 Jan 2017  2017   \n",
       " 88186          9179.0         11390.0           10284.5  31 Dec 2016  2016   \n",
       " 88187          9179.0         11390.0           10284.5  31 Jan 2017  2017   \n",
       " 88188          3000.0          3600.0            3450.0  15 Jun 2017  2017   \n",
       " 88189          3000.0          3500.0            3200.0  19 Jul 2017  2017   \n",
       " \n",
       "       month day_of_month  \n",
       " 0       Nov           05  \n",
       " 1       Nov           14  \n",
       " 2       Sep           21  \n",
       " 3       Sep           25  \n",
       " 4       Nov           20  \n",
       " ...     ...          ...  \n",
       " 88185   Jan           30  \n",
       " 88186   Dec           31  \n",
       " 88187   Jan           31  \n",
       " 88188   Jun           15  \n",
       " 88189   Jul           19  \n",
       " \n",
       " [88190 rows x 12 columns]}"
      ]
     },
     "execution_count": 4,
     "metadata": {},
     "output_type": "execute_result"
    }
   ],
   "source": [
    "state_datasets"
   ]
  },
  {
   "cell_type": "code",
   "execution_count": 5,
   "metadata": {},
   "outputs": [],
   "source": [
    "andhra = state_datasets[\"ap\"]\n",
    "up = state_datasets['up']"
   ]
  },
  {
   "cell_type": "code",
   "execution_count": 6,
   "metadata": {},
   "outputs": [
    {
     "data": {
      "text/html": [
       "<div>\n",
       "<style scoped>\n",
       "    .dataframe tbody tr th:only-of-type {\n",
       "        vertical-align: middle;\n",
       "    }\n",
       "\n",
       "    .dataframe tbody tr th {\n",
       "        vertical-align: top;\n",
       "    }\n",
       "\n",
       "    .dataframe thead th {\n",
       "        text-align: right;\n",
       "    }\n",
       "</style>\n",
       "<table border=\"1\" class=\"dataframe\">\n",
       "  <thead>\n",
       "    <tr style=\"text-align: right;\">\n",
       "      <th></th>\n",
       "      <th>district_name</th>\n",
       "      <th>market_name</th>\n",
       "      <th>commodity</th>\n",
       "      <th>variety</th>\n",
       "      <th>grade</th>\n",
       "      <th>min_rs_quintal</th>\n",
       "      <th>max_rs_quintal</th>\n",
       "      <th>modal_rs_quintal</th>\n",
       "      <th>date</th>\n",
       "      <th>year</th>\n",
       "      <th>month</th>\n",
       "      <th>day_of_month</th>\n",
       "    </tr>\n",
       "  </thead>\n",
       "  <tbody>\n",
       "    <tr>\n",
       "      <th>0</th>\n",
       "      <td>Guntur</td>\n",
       "      <td>Vinukonda</td>\n",
       "      <td>Arhar Dal(Tur Dal)</td>\n",
       "      <td>Other</td>\n",
       "      <td>FAQ</td>\n",
       "      <td>4500</td>\n",
       "      <td>6000</td>\n",
       "      <td>5000.0</td>\n",
       "      <td>28 Mar 2016</td>\n",
       "      <td>2016</td>\n",
       "      <td>Mar</td>\n",
       "      <td>28</td>\n",
       "    </tr>\n",
       "    <tr>\n",
       "      <th>1</th>\n",
       "      <td>Guntur</td>\n",
       "      <td>Vinukonda</td>\n",
       "      <td>Arhar Dal(Tur Dal)</td>\n",
       "      <td>Other</td>\n",
       "      <td>FAQ</td>\n",
       "      <td>4500</td>\n",
       "      <td>6000</td>\n",
       "      <td>5000.0</td>\n",
       "      <td>29 Mar 2016</td>\n",
       "      <td>2016</td>\n",
       "      <td>Mar</td>\n",
       "      <td>29</td>\n",
       "    </tr>\n",
       "    <tr>\n",
       "      <th>2</th>\n",
       "      <td>Guntur</td>\n",
       "      <td>Vinukonda</td>\n",
       "      <td>Arhar Dal(Tur Dal)</td>\n",
       "      <td>Other</td>\n",
       "      <td>FAQ</td>\n",
       "      <td>4800</td>\n",
       "      <td>6000</td>\n",
       "      <td>5000.0</td>\n",
       "      <td>30 Mar 2016</td>\n",
       "      <td>2016</td>\n",
       "      <td>Mar</td>\n",
       "      <td>30</td>\n",
       "    </tr>\n",
       "    <tr>\n",
       "      <th>3</th>\n",
       "      <td>Visakhapatnam</td>\n",
       "      <td>Visakhapatnam</td>\n",
       "      <td>Masur Dal</td>\n",
       "      <td>Other</td>\n",
       "      <td>Medium</td>\n",
       "      <td>5900</td>\n",
       "      <td>6100</td>\n",
       "      <td>6068.0</td>\n",
       "      <td>28 Dec 2015</td>\n",
       "      <td>2015</td>\n",
       "      <td>Dec</td>\n",
       "      <td>28</td>\n",
       "    </tr>\n",
       "    <tr>\n",
       "      <th>4</th>\n",
       "      <td>Chittor</td>\n",
       "      <td>Kalikiri</td>\n",
       "      <td>Tomato</td>\n",
       "      <td>Local</td>\n",
       "      <td>FAQ</td>\n",
       "      <td>330</td>\n",
       "      <td>730</td>\n",
       "      <td>660.0</td>\n",
       "      <td>15 Sep 2019</td>\n",
       "      <td>2019</td>\n",
       "      <td>Sep</td>\n",
       "      <td>15</td>\n",
       "    </tr>\n",
       "    <tr>\n",
       "      <th>...</th>\n",
       "      <td>...</td>\n",
       "      <td>...</td>\n",
       "      <td>...</td>\n",
       "      <td>...</td>\n",
       "      <td>...</td>\n",
       "      <td>...</td>\n",
       "      <td>...</td>\n",
       "      <td>...</td>\n",
       "      <td>...</td>\n",
       "      <td>...</td>\n",
       "      <td>...</td>\n",
       "      <td>...</td>\n",
       "    </tr>\n",
       "    <tr>\n",
       "      <th>54199</th>\n",
       "      <td>Visakhapatnam</td>\n",
       "      <td>Visakhapatnam</td>\n",
       "      <td>Rice</td>\n",
       "      <td>AP Raw-Rice Sona Ponni</td>\n",
       "      <td>Medium</td>\n",
       "      <td>3100</td>\n",
       "      <td>3300</td>\n",
       "      <td>3200.0</td>\n",
       "      <td>14 Apr 2017</td>\n",
       "      <td>2017</td>\n",
       "      <td>Apr</td>\n",
       "      <td>14</td>\n",
       "    </tr>\n",
       "    <tr>\n",
       "      <th>54200</th>\n",
       "      <td>Visakhapatnam</td>\n",
       "      <td>Visakhapatnam</td>\n",
       "      <td>Rice</td>\n",
       "      <td>AP Raw-Rice Sona Ponni</td>\n",
       "      <td>Medium</td>\n",
       "      <td>3300</td>\n",
       "      <td>3500</td>\n",
       "      <td>3400.0</td>\n",
       "      <td>17 Mar 2017</td>\n",
       "      <td>2017</td>\n",
       "      <td>Mar</td>\n",
       "      <td>17</td>\n",
       "    </tr>\n",
       "    <tr>\n",
       "      <th>54201</th>\n",
       "      <td>Guntur</td>\n",
       "      <td>Vinukonda</td>\n",
       "      <td>Arhar Dal(Tur Dal)</td>\n",
       "      <td>Other</td>\n",
       "      <td>FAQ</td>\n",
       "      <td>4500</td>\n",
       "      <td>6000</td>\n",
       "      <td>5000.0</td>\n",
       "      <td>28 Mar 2016</td>\n",
       "      <td>2016</td>\n",
       "      <td>Mar</td>\n",
       "      <td>28</td>\n",
       "    </tr>\n",
       "    <tr>\n",
       "      <th>54202</th>\n",
       "      <td>Guntur</td>\n",
       "      <td>Vinukonda</td>\n",
       "      <td>Arhar Dal(Tur Dal)</td>\n",
       "      <td>Other</td>\n",
       "      <td>FAQ</td>\n",
       "      <td>4500</td>\n",
       "      <td>6000</td>\n",
       "      <td>5000.0</td>\n",
       "      <td>29 Mar 2016</td>\n",
       "      <td>2016</td>\n",
       "      <td>Mar</td>\n",
       "      <td>29</td>\n",
       "    </tr>\n",
       "    <tr>\n",
       "      <th>54203</th>\n",
       "      <td>Guntur</td>\n",
       "      <td>Vinukonda</td>\n",
       "      <td>Arhar Dal(Tur Dal)</td>\n",
       "      <td>Other</td>\n",
       "      <td>FAQ</td>\n",
       "      <td>4800</td>\n",
       "      <td>6000</td>\n",
       "      <td>5000.0</td>\n",
       "      <td>30 Mar 2016</td>\n",
       "      <td>2016</td>\n",
       "      <td>Mar</td>\n",
       "      <td>30</td>\n",
       "    </tr>\n",
       "  </tbody>\n",
       "</table>\n",
       "<p>54204 rows × 12 columns</p>\n",
       "</div>"
      ],
      "text/plain": [
       "       district_name    market_name           commodity  \\\n",
       "0             Guntur      Vinukonda  Arhar Dal(Tur Dal)   \n",
       "1             Guntur      Vinukonda  Arhar Dal(Tur Dal)   \n",
       "2             Guntur      Vinukonda  Arhar Dal(Tur Dal)   \n",
       "3      Visakhapatnam  Visakhapatnam           Masur Dal   \n",
       "4            Chittor       Kalikiri              Tomato   \n",
       "...              ...            ...                 ...   \n",
       "54199  Visakhapatnam  Visakhapatnam                Rice   \n",
       "54200  Visakhapatnam  Visakhapatnam                Rice   \n",
       "54201         Guntur      Vinukonda  Arhar Dal(Tur Dal)   \n",
       "54202         Guntur      Vinukonda  Arhar Dal(Tur Dal)   \n",
       "54203         Guntur      Vinukonda  Arhar Dal(Tur Dal)   \n",
       "\n",
       "                      variety   grade  min_rs_quintal  max_rs_quintal  \\\n",
       "0                       Other     FAQ            4500            6000   \n",
       "1                       Other     FAQ            4500            6000   \n",
       "2                       Other     FAQ            4800            6000   \n",
       "3                       Other  Medium            5900            6100   \n",
       "4                       Local     FAQ             330             730   \n",
       "...                       ...     ...             ...             ...   \n",
       "54199  AP Raw-Rice Sona Ponni  Medium            3100            3300   \n",
       "54200  AP Raw-Rice Sona Ponni  Medium            3300            3500   \n",
       "54201                   Other     FAQ            4500            6000   \n",
       "54202                   Other     FAQ            4500            6000   \n",
       "54203                   Other     FAQ            4800            6000   \n",
       "\n",
       "       modal_rs_quintal         date  year month day_of_month  \n",
       "0                5000.0  28 Mar 2016  2016   Mar           28  \n",
       "1                5000.0  29 Mar 2016  2016   Mar           29  \n",
       "2                5000.0  30 Mar 2016  2016   Mar           30  \n",
       "3                6068.0  28 Dec 2015  2015   Dec           28  \n",
       "4                 660.0  15 Sep 2019  2019   Sep           15  \n",
       "...                 ...          ...   ...   ...          ...  \n",
       "54199            3200.0  14 Apr 2017  2017   Apr           14  \n",
       "54200            3400.0  17 Mar 2017  2017   Mar           17  \n",
       "54201            5000.0  28 Mar 2016  2016   Mar           28  \n",
       "54202            5000.0  29 Mar 2016  2016   Mar           29  \n",
       "54203            5000.0  30 Mar 2016  2016   Mar           30  \n",
       "\n",
       "[54204 rows x 12 columns]"
      ]
     },
     "execution_count": 6,
     "metadata": {},
     "output_type": "execute_result"
    }
   ],
   "source": [
    "andhra"
   ]
  },
  {
   "cell_type": "code",
   "execution_count": 7,
   "metadata": {},
   "outputs": [
    {
     "data": {
      "text/html": [
       "<div>\n",
       "<style scoped>\n",
       "    .dataframe tbody tr th:only-of-type {\n",
       "        vertical-align: middle;\n",
       "    }\n",
       "\n",
       "    .dataframe tbody tr th {\n",
       "        vertical-align: top;\n",
       "    }\n",
       "\n",
       "    .dataframe thead th {\n",
       "        text-align: right;\n",
       "    }\n",
       "</style>\n",
       "<table border=\"1\" class=\"dataframe\">\n",
       "  <thead>\n",
       "    <tr style=\"text-align: right;\">\n",
       "      <th></th>\n",
       "      <th>district_name</th>\n",
       "      <th>market_name</th>\n",
       "      <th>commodity</th>\n",
       "      <th>variety</th>\n",
       "      <th>grade</th>\n",
       "      <th>min_rs_quintal</th>\n",
       "      <th>max_rs_quintal</th>\n",
       "      <th>modal_rs_quintal</th>\n",
       "      <th>date</th>\n",
       "      <th>year</th>\n",
       "      <th>month</th>\n",
       "      <th>day_of_month</th>\n",
       "    </tr>\n",
       "  </thead>\n",
       "  <tbody>\n",
       "    <tr>\n",
       "      <th>0</th>\n",
       "      <td>Bareilly</td>\n",
       "      <td>Bareilly</td>\n",
       "      <td>Sugar</td>\n",
       "      <td>Chini</td>\n",
       "      <td>FAQ</td>\n",
       "      <td>3350.0</td>\n",
       "      <td>3500.0</td>\n",
       "      <td>3425.0</td>\n",
       "      <td>23 Oct 2019</td>\n",
       "      <td>2019</td>\n",
       "      <td>Oct</td>\n",
       "      <td>23</td>\n",
       "    </tr>\n",
       "    <tr>\n",
       "      <th>1</th>\n",
       "      <td>Bareilly</td>\n",
       "      <td>Bareilly</td>\n",
       "      <td>Sugar</td>\n",
       "      <td>Chini</td>\n",
       "      <td>FAQ</td>\n",
       "      <td>3350.0</td>\n",
       "      <td>3500.0</td>\n",
       "      <td>3425.0</td>\n",
       "      <td>30 Sep 2019</td>\n",
       "      <td>2019</td>\n",
       "      <td>Sep</td>\n",
       "      <td>30</td>\n",
       "    </tr>\n",
       "    <tr>\n",
       "      <th>2</th>\n",
       "      <td>Bareilly</td>\n",
       "      <td>Bareilly</td>\n",
       "      <td>Sugar</td>\n",
       "      <td>Chini</td>\n",
       "      <td>FAQ</td>\n",
       "      <td>3550.0</td>\n",
       "      <td>3600.0</td>\n",
       "      <td>3570.0</td>\n",
       "      <td>04 Apr 2020</td>\n",
       "      <td>2020</td>\n",
       "      <td>Apr</td>\n",
       "      <td>04</td>\n",
       "    </tr>\n",
       "    <tr>\n",
       "      <th>3</th>\n",
       "      <td>Bareilly</td>\n",
       "      <td>Bareilly</td>\n",
       "      <td>Sugar</td>\n",
       "      <td>Khand</td>\n",
       "      <td>FAQ</td>\n",
       "      <td>3250.0</td>\n",
       "      <td>3300.0</td>\n",
       "      <td>3275.0</td>\n",
       "      <td>04 Apr 2020</td>\n",
       "      <td>2020</td>\n",
       "      <td>Apr</td>\n",
       "      <td>04</td>\n",
       "    </tr>\n",
       "    <tr>\n",
       "      <th>4</th>\n",
       "      <td>Bareilly</td>\n",
       "      <td>Bareilly</td>\n",
       "      <td>Sugar</td>\n",
       "      <td>Khand</td>\n",
       "      <td>FAQ</td>\n",
       "      <td>3250.0</td>\n",
       "      <td>3400.0</td>\n",
       "      <td>3320.0</td>\n",
       "      <td>23 Oct 2019</td>\n",
       "      <td>2019</td>\n",
       "      <td>Oct</td>\n",
       "      <td>23</td>\n",
       "    </tr>\n",
       "    <tr>\n",
       "      <th>...</th>\n",
       "      <td>...</td>\n",
       "      <td>...</td>\n",
       "      <td>...</td>\n",
       "      <td>...</td>\n",
       "      <td>...</td>\n",
       "      <td>...</td>\n",
       "      <td>...</td>\n",
       "      <td>...</td>\n",
       "      <td>...</td>\n",
       "      <td>...</td>\n",
       "      <td>...</td>\n",
       "      <td>...</td>\n",
       "    </tr>\n",
       "    <tr>\n",
       "      <th>2717527</th>\n",
       "      <td>Lakhimpur</td>\n",
       "      <td>Paliakala</td>\n",
       "      <td>Sugar</td>\n",
       "      <td>Chini</td>\n",
       "      <td>FAQ</td>\n",
       "      <td>3410.0</td>\n",
       "      <td>3520.0</td>\n",
       "      <td>3450.0</td>\n",
       "      <td>01 Sep 2017</td>\n",
       "      <td>2017</td>\n",
       "      <td>Sep</td>\n",
       "      <td>01</td>\n",
       "    </tr>\n",
       "    <tr>\n",
       "      <th>2717528</th>\n",
       "      <td>Shahjahanpur</td>\n",
       "      <td>Shahjahanpur</td>\n",
       "      <td>Sugar</td>\n",
       "      <td>Chini</td>\n",
       "      <td>FAQ</td>\n",
       "      <td>3600.0</td>\n",
       "      <td>3800.0</td>\n",
       "      <td>3700.0</td>\n",
       "      <td>25 Jul 2017</td>\n",
       "      <td>2017</td>\n",
       "      <td>Jul</td>\n",
       "      <td>25</td>\n",
       "    </tr>\n",
       "    <tr>\n",
       "      <th>2717529</th>\n",
       "      <td>Shahjahanpur</td>\n",
       "      <td>Shahjahanpur</td>\n",
       "      <td>Sugar</td>\n",
       "      <td>Chini</td>\n",
       "      <td>FAQ</td>\n",
       "      <td>3750.0</td>\n",
       "      <td>3850.0</td>\n",
       "      <td>3800.0</td>\n",
       "      <td>13 Feb 2017</td>\n",
       "      <td>2017</td>\n",
       "      <td>Feb</td>\n",
       "      <td>13</td>\n",
       "    </tr>\n",
       "    <tr>\n",
       "      <th>2717530</th>\n",
       "      <td>Shahjahanpur</td>\n",
       "      <td>Shahjahanpur</td>\n",
       "      <td>Sugar</td>\n",
       "      <td>Chini</td>\n",
       "      <td>FAQ</td>\n",
       "      <td>3900.0</td>\n",
       "      <td>4000.0</td>\n",
       "      <td>3950.0</td>\n",
       "      <td>13 Jun 2017</td>\n",
       "      <td>2017</td>\n",
       "      <td>Jun</td>\n",
       "      <td>13</td>\n",
       "    </tr>\n",
       "    <tr>\n",
       "      <th>2717531</th>\n",
       "      <td>Shahjahanpur</td>\n",
       "      <td>Shahjahanpur</td>\n",
       "      <td>Sugar</td>\n",
       "      <td>Medium</td>\n",
       "      <td>FAQ</td>\n",
       "      <td>3700.0</td>\n",
       "      <td>3800.0</td>\n",
       "      <td>3725.0</td>\n",
       "      <td>25 Aug 2017</td>\n",
       "      <td>2017</td>\n",
       "      <td>Aug</td>\n",
       "      <td>25</td>\n",
       "    </tr>\n",
       "  </tbody>\n",
       "</table>\n",
       "<p>2717532 rows × 12 columns</p>\n",
       "</div>"
      ],
      "text/plain": [
       "        district_name   market_name commodity variety grade  min_rs_quintal  \\\n",
       "0            Bareilly      Bareilly     Sugar   Chini   FAQ          3350.0   \n",
       "1            Bareilly      Bareilly     Sugar   Chini   FAQ          3350.0   \n",
       "2            Bareilly      Bareilly     Sugar   Chini   FAQ          3550.0   \n",
       "3            Bareilly      Bareilly     Sugar   Khand   FAQ          3250.0   \n",
       "4            Bareilly      Bareilly     Sugar   Khand   FAQ          3250.0   \n",
       "...               ...           ...       ...     ...   ...             ...   \n",
       "2717527     Lakhimpur     Paliakala     Sugar   Chini   FAQ          3410.0   \n",
       "2717528  Shahjahanpur  Shahjahanpur     Sugar   Chini   FAQ          3600.0   \n",
       "2717529  Shahjahanpur  Shahjahanpur     Sugar   Chini   FAQ          3750.0   \n",
       "2717530  Shahjahanpur  Shahjahanpur     Sugar   Chini   FAQ          3900.0   \n",
       "2717531  Shahjahanpur  Shahjahanpur     Sugar  Medium   FAQ          3700.0   \n",
       "\n",
       "         max_rs_quintal  modal_rs_quintal         date  year month  \\\n",
       "0                3500.0            3425.0  23 Oct 2019  2019   Oct   \n",
       "1                3500.0            3425.0  30 Sep 2019  2019   Sep   \n",
       "2                3600.0            3570.0  04 Apr 2020  2020   Apr   \n",
       "3                3300.0            3275.0  04 Apr 2020  2020   Apr   \n",
       "4                3400.0            3320.0  23 Oct 2019  2019   Oct   \n",
       "...                 ...               ...          ...   ...   ...   \n",
       "2717527          3520.0            3450.0  01 Sep 2017  2017   Sep   \n",
       "2717528          3800.0            3700.0  25 Jul 2017  2017   Jul   \n",
       "2717529          3850.0            3800.0  13 Feb 2017  2017   Feb   \n",
       "2717530          4000.0            3950.0  13 Jun 2017  2017   Jun   \n",
       "2717531          3800.0            3725.0  25 Aug 2017  2017   Aug   \n",
       "\n",
       "        day_of_month  \n",
       "0                 23  \n",
       "1                 30  \n",
       "2                 04  \n",
       "3                 04  \n",
       "4                 23  \n",
       "...              ...  \n",
       "2717527           01  \n",
       "2717528           25  \n",
       "2717529           13  \n",
       "2717530           13  \n",
       "2717531           25  \n",
       "\n",
       "[2717532 rows x 12 columns]"
      ]
     },
     "execution_count": 7,
     "metadata": {},
     "output_type": "execute_result"
    }
   ],
   "source": [
    "up"
   ]
  },
  {
   "cell_type": "code",
   "execution_count": 8,
   "metadata": {},
   "outputs": [
    {
     "name": "stdout",
     "output_type": "stream",
     "text": [
      "<class 'pandas.core.frame.DataFrame'>\n",
      "RangeIndex: 54204 entries, 0 to 54203\n",
      "Data columns (total 12 columns):\n",
      " #   Column            Non-Null Count  Dtype  \n",
      "---  ------            --------------  -----  \n",
      " 0   district_name     54204 non-null  object \n",
      " 1   market_name       54204 non-null  object \n",
      " 2   commodity         54204 non-null  object \n",
      " 3   variety           54204 non-null  object \n",
      " 4   grade             54204 non-null  object \n",
      " 5   min_rs_quintal    54204 non-null  int64  \n",
      " 6   max_rs_quintal    54204 non-null  int64  \n",
      " 7   modal_rs_quintal  54204 non-null  float64\n",
      " 8   date              54204 non-null  object \n",
      " 9   year              54204 non-null  object \n",
      " 10  month             54204 non-null  object \n",
      " 11  day_of_month      54204 non-null  object \n",
      "dtypes: float64(1), int64(2), object(9)\n",
      "memory usage: 5.0+ MB\n"
     ]
    }
   ],
   "source": [
    "andhra.info()"
   ]
  },
  {
   "cell_type": "code",
   "execution_count": 9,
   "metadata": {},
   "outputs": [
    {
     "name": "stdout",
     "output_type": "stream",
     "text": [
      "<class 'pandas.core.frame.DataFrame'>\n",
      "RangeIndex: 2717532 entries, 0 to 2717531\n",
      "Data columns (total 12 columns):\n",
      " #   Column            Dtype  \n",
      "---  ------            -----  \n",
      " 0   district_name     object \n",
      " 1   market_name       object \n",
      " 2   commodity         object \n",
      " 3   variety           object \n",
      " 4   grade             object \n",
      " 5   min_rs_quintal    float64\n",
      " 6   max_rs_quintal    float64\n",
      " 7   modal_rs_quintal  float64\n",
      " 8   date              object \n",
      " 9   year              object \n",
      " 10  month             object \n",
      " 11  day_of_month      object \n",
      "dtypes: float64(3), object(9)\n",
      "memory usage: 248.8+ MB\n"
     ]
    }
   ],
   "source": [
    "up.info()"
   ]
  },
  {
   "cell_type": "code",
   "execution_count": 10,
   "metadata": {},
   "outputs": [
    {
     "data": {
      "text/html": [
       "<div>\n",
       "<style scoped>\n",
       "    .dataframe tbody tr th:only-of-type {\n",
       "        vertical-align: middle;\n",
       "    }\n",
       "\n",
       "    .dataframe tbody tr th {\n",
       "        vertical-align: top;\n",
       "    }\n",
       "\n",
       "    .dataframe thead th {\n",
       "        text-align: right;\n",
       "    }\n",
       "</style>\n",
       "<table border=\"1\" class=\"dataframe\">\n",
       "  <thead>\n",
       "    <tr style=\"text-align: right;\">\n",
       "      <th></th>\n",
       "      <th>min_rs_quintal</th>\n",
       "      <th>max_rs_quintal</th>\n",
       "      <th>modal_rs_quintal</th>\n",
       "    </tr>\n",
       "  </thead>\n",
       "  <tbody>\n",
       "    <tr>\n",
       "      <th>count</th>\n",
       "      <td>54204.000000</td>\n",
       "      <td>54204.000000</td>\n",
       "      <td>54204.000000</td>\n",
       "    </tr>\n",
       "    <tr>\n",
       "      <th>mean</th>\n",
       "      <td>2023.291215</td>\n",
       "      <td>2518.962881</td>\n",
       "      <td>2280.610204</td>\n",
       "    </tr>\n",
       "    <tr>\n",
       "      <th>std</th>\n",
       "      <td>1433.775450</td>\n",
       "      <td>1483.116562</td>\n",
       "      <td>1411.625313</td>\n",
       "    </tr>\n",
       "    <tr>\n",
       "      <th>min</th>\n",
       "      <td>0.000000</td>\n",
       "      <td>0.000000</td>\n",
       "      <td>7.000000</td>\n",
       "    </tr>\n",
       "    <tr>\n",
       "      <th>25%</th>\n",
       "      <td>760.000000</td>\n",
       "      <td>1330.000000</td>\n",
       "      <td>1030.000000</td>\n",
       "    </tr>\n",
       "    <tr>\n",
       "      <th>50%</th>\n",
       "      <td>1800.000000</td>\n",
       "      <td>2400.000000</td>\n",
       "      <td>2100.000000</td>\n",
       "    </tr>\n",
       "    <tr>\n",
       "      <th>75%</th>\n",
       "      <td>3210.000000</td>\n",
       "      <td>3600.000000</td>\n",
       "      <td>3500.000000</td>\n",
       "    </tr>\n",
       "    <tr>\n",
       "      <th>max</th>\n",
       "      <td>59800.000000</td>\n",
       "      <td>60000.000000</td>\n",
       "      <td>59900.000000</td>\n",
       "    </tr>\n",
       "  </tbody>\n",
       "</table>\n",
       "</div>"
      ],
      "text/plain": [
       "       min_rs_quintal  max_rs_quintal  modal_rs_quintal\n",
       "count    54204.000000    54204.000000      54204.000000\n",
       "mean      2023.291215     2518.962881       2280.610204\n",
       "std       1433.775450     1483.116562       1411.625313\n",
       "min          0.000000        0.000000          7.000000\n",
       "25%        760.000000     1330.000000       1030.000000\n",
       "50%       1800.000000     2400.000000       2100.000000\n",
       "75%       3210.000000     3600.000000       3500.000000\n",
       "max      59800.000000    60000.000000      59900.000000"
      ]
     },
     "execution_count": 10,
     "metadata": {},
     "output_type": "execute_result"
    }
   ],
   "source": [
    "andhra.describe()"
   ]
  },
  {
   "cell_type": "code",
   "execution_count": 11,
   "metadata": {},
   "outputs": [
    {
     "data": {
      "text/html": [
       "<div>\n",
       "<style scoped>\n",
       "    .dataframe tbody tr th:only-of-type {\n",
       "        vertical-align: middle;\n",
       "    }\n",
       "\n",
       "    .dataframe tbody tr th {\n",
       "        vertical-align: top;\n",
       "    }\n",
       "\n",
       "    .dataframe thead th {\n",
       "        text-align: right;\n",
       "    }\n",
       "</style>\n",
       "<table border=\"1\" class=\"dataframe\">\n",
       "  <thead>\n",
       "    <tr style=\"text-align: right;\">\n",
       "      <th></th>\n",
       "      <th>min_rs_quintal</th>\n",
       "      <th>max_rs_quintal</th>\n",
       "      <th>modal_rs_quintal</th>\n",
       "    </tr>\n",
       "  </thead>\n",
       "  <tbody>\n",
       "    <tr>\n",
       "      <th>count</th>\n",
       "      <td>2.717532e+06</td>\n",
       "      <td>2.717532e+06</td>\n",
       "      <td>2.717532e+06</td>\n",
       "    </tr>\n",
       "    <tr>\n",
       "      <th>mean</th>\n",
       "      <td>2.759175e+03</td>\n",
       "      <td>2.883532e+03</td>\n",
       "      <td>2.974454e+03</td>\n",
       "    </tr>\n",
       "    <tr>\n",
       "      <th>std</th>\n",
       "      <td>3.051295e+03</td>\n",
       "      <td>3.097575e+03</td>\n",
       "      <td>3.026614e+03</td>\n",
       "    </tr>\n",
       "    <tr>\n",
       "      <th>min</th>\n",
       "      <td>0.000000e+00</td>\n",
       "      <td>0.000000e+00</td>\n",
       "      <td>0.000000e+00</td>\n",
       "    </tr>\n",
       "    <tr>\n",
       "      <th>25%</th>\n",
       "      <td>1.000000e+03</td>\n",
       "      <td>1.150000e+03</td>\n",
       "      <td>1.260000e+03</td>\n",
       "    </tr>\n",
       "    <tr>\n",
       "      <th>50%</th>\n",
       "      <td>1.890000e+03</td>\n",
       "      <td>1.990000e+03</td>\n",
       "      <td>2.018000e+03</td>\n",
       "    </tr>\n",
       "    <tr>\n",
       "      <th>75%</th>\n",
       "      <td>3.000000e+03</td>\n",
       "      <td>3.150000e+03</td>\n",
       "      <td>3.150000e+03</td>\n",
       "    </tr>\n",
       "    <tr>\n",
       "      <th>max</th>\n",
       "      <td>8.915000e+05</td>\n",
       "      <td>8.980000e+05</td>\n",
       "      <td>8.950000e+05</td>\n",
       "    </tr>\n",
       "  </tbody>\n",
       "</table>\n",
       "</div>"
      ],
      "text/plain": [
       "       min_rs_quintal  max_rs_quintal  modal_rs_quintal\n",
       "count    2.717532e+06    2.717532e+06      2.717532e+06\n",
       "mean     2.759175e+03    2.883532e+03      2.974454e+03\n",
       "std      3.051295e+03    3.097575e+03      3.026614e+03\n",
       "min      0.000000e+00    0.000000e+00      0.000000e+00\n",
       "25%      1.000000e+03    1.150000e+03      1.260000e+03\n",
       "50%      1.890000e+03    1.990000e+03      2.018000e+03\n",
       "75%      3.000000e+03    3.150000e+03      3.150000e+03\n",
       "max      8.915000e+05    8.980000e+05      8.950000e+05"
      ]
     },
     "execution_count": 11,
     "metadata": {},
     "output_type": "execute_result"
    }
   ],
   "source": [
    "up.describe()"
   ]
  },
  {
   "cell_type": "code",
   "execution_count": 12,
   "metadata": {},
   "outputs": [
    {
     "data": {
      "text/plain": [
       "district_name\n",
       "Chittor          23235\n",
       "Visakhapatnam     7539\n",
       "Kurnool           7220\n",
       "Prakasam          6019\n",
       "West Godavari     3714\n",
       "Krishna           3338\n",
       "Guntur            1400\n",
       "Srikakulam         834\n",
       "Vijayanagaram      792\n",
       "East Godavari       50\n",
       "Nellore             41\n",
       "Cuddapah            22\n",
       "Name: count, dtype: int64"
      ]
     },
     "execution_count": 12,
     "metadata": {},
     "output_type": "execute_result"
    }
   ],
   "source": [
    "andhra.district_name.value_counts()"
   ]
  },
  {
   "cell_type": "code",
   "execution_count": 13,
   "metadata": {},
   "outputs": [
    {
     "data": {
      "text/plain": [
       "district_name\n",
       "Bulandshahar                106466\n",
       "Agra                         76635\n",
       "Hamirpur                     66606\n",
       "Fatehpur                     65946\n",
       "Ghaziabad                    64561\n",
       "                             ...  \n",
       "Kushinagar                   11542\n",
       "Sant Kabir Nagar              8542\n",
       "Bhadohi(Sant Ravi Nagar)      5637\n",
       "Kaushambi                     5496\n",
       "Shravasti                     4376\n",
       "Name: count, Length: 73, dtype: int64"
      ]
     },
     "execution_count": 13,
     "metadata": {},
     "output_type": "execute_result"
    }
   ],
   "source": [
    "up.district_name.value_counts()"
   ]
  },
  {
   "cell_type": "code",
   "execution_count": 14,
   "metadata": {},
   "outputs": [
    {
     "data": {
      "text/plain": [
       "market_name\n",
       "Anakapally     6406\n",
       "Pattikonda     4027\n",
       "Madanapalli    3009\n",
       "Chittoor       2901\n",
       "Vayalapadu     2889\n",
       "               ... \n",
       "Peddapuram        1\n",
       "Penamaluru        1\n",
       "Addanki           1\n",
       "Kuchinapudi       1\n",
       "Podili            1\n",
       "Name: count, Length: 67, dtype: int64"
      ]
     },
     "execution_count": 14,
     "metadata": {},
     "output_type": "execute_result"
    }
   ],
   "source": [
    "andhra.market_name.value_counts()"
   ]
  },
  {
   "cell_type": "code",
   "execution_count": 15,
   "metadata": {},
   "outputs": [
    {
     "data": {
      "text/plain": [
       "market_name\n",
       "Dadri             32256\n",
       "Saharanpur        31218\n",
       "Muzzafarnagar     29342\n",
       "Ghaziabad         27661\n",
       "Faizabad          27648\n",
       "                  ...  \n",
       "Shahabad            473\n",
       "Kalpi               465\n",
       "Manjhanpur          371\n",
       "Jhansi (Grain)      109\n",
       "Lediyari             22\n",
       "Name: count, Length: 241, dtype: int64"
      ]
     },
     "execution_count": 15,
     "metadata": {},
     "output_type": "execute_result"
    }
   ],
   "source": [
    "up.market_name.value_counts()"
   ]
  },
  {
   "cell_type": "code",
   "execution_count": 16,
   "metadata": {},
   "outputs": [
    {
     "data": {
      "text/plain": [
       "commodity\n",
       "Tomato                         22002\n",
       "Gur(Jaggery)                   11833\n",
       "Rice                            9921\n",
       "Onion                           6256\n",
       "Potato                          3758\n",
       "Wheat                            419\n",
       "Bengal Gram Dal (Chana Dal)        7\n",
       "Arhar Dal(Tur Dal)                 6\n",
       "Masur Dal                          1\n",
       "Green Gram Dal (Moong Dal)         1\n",
       "Name: count, dtype: int64"
      ]
     },
     "execution_count": 16,
     "metadata": {},
     "output_type": "execute_result"
    }
   ],
   "source": [
    "andhra.commodity.value_counts()"
   ]
  },
  {
   "cell_type": "code",
   "execution_count": 17,
   "metadata": {},
   "outputs": [
    {
     "data": {
      "text/plain": [
       "commodity\n",
       "Potato                         476607\n",
       "Onion                          427733\n",
       "Tomato                         401295\n",
       "Wheat                          389495\n",
       "Rice                           303545\n",
       "Gur(Jaggery)                   282142\n",
       "Arhar Dal(Tur Dal)             121530\n",
       "Mustard Oil                     98175\n",
       "Black Gram Dal (Urd Dal)        77975\n",
       "Bengal Gram Dal (Chana Dal)     51571\n",
       "Masur Dal                       31500\n",
       "Green Gram Dal (Moong Dal)      29182\n",
       "Sugar                           26780\n",
       "Dalda                               2\n",
       "Name: count, dtype: int64"
      ]
     },
     "execution_count": 17,
     "metadata": {},
     "output_type": "execute_result"
    }
   ],
   "source": [
    "up.commodity.value_counts()"
   ]
  },
  {
   "cell_type": "code",
   "execution_count": 18,
   "metadata": {},
   "outputs": [
    {
     "data": {
      "text/plain": [
       "variety\n",
       "Local                     17628\n",
       "B P T                      8523\n",
       "NO 3                       4887\n",
       "Hybrid                     4332\n",
       "NO 2                       3330\n",
       "                          ...  \n",
       "Basamti Dawat                 1\n",
       "Basmati Super Kohinoor        1\n",
       "Coarse                        1\n",
       "Arcot Kichikdi                1\n",
       "Dawat Mogra                   1\n",
       "Name: count, Length: 66, dtype: int64"
      ]
     },
     "execution_count": 18,
     "metadata": {},
     "output_type": "execute_result"
    }
   ],
   "source": [
    "andhra.variety.value_counts()"
   ]
  },
  {
   "cell_type": "code",
   "execution_count": 19,
   "metadata": {},
   "outputs": [
    {
     "data": {
      "text/plain": [
       "grade\n",
       "Medium    28424\n",
       "FAQ       23645\n",
       "Large      2019\n",
       "Small       116\n",
       "Name: count, dtype: int64"
      ]
     },
     "execution_count": 19,
     "metadata": {},
     "output_type": "execute_result"
    }
   ],
   "source": [
    "andhra.grade.value_counts()"
   ]
  },
  {
   "cell_type": "code",
   "execution_count": 20,
   "metadata": {},
   "outputs": [
    {
     "data": {
      "text/plain": [
       "grade\n",
       "FAQ       2717501\n",
       "Medium         19\n",
       "Large          12\n",
       "Name: count, dtype: int64"
      ]
     },
     "execution_count": 20,
     "metadata": {},
     "output_type": "execute_result"
    }
   ],
   "source": [
    "up.grade.value_counts()"
   ]
  },
  {
   "cell_type": "markdown",
   "metadata": {},
   "source": [
    "Lets first extract the date month and year column from `date`"
   ]
  },
  {
   "cell_type": "code",
   "execution_count": 21,
   "metadata": {},
   "outputs": [
    {
     "data": {
      "text/plain": [
       "0        2016\n",
       "1        2016\n",
       "2        2016\n",
       "3        2015\n",
       "4        2019\n",
       "         ... \n",
       "54199    2017\n",
       "54200    2017\n",
       "54201    2016\n",
       "54202    2016\n",
       "54203    2016\n",
       "Name: date, Length: 54204, dtype: object"
      ]
     },
     "execution_count": 21,
     "metadata": {},
     "output_type": "execute_result"
    }
   ],
   "source": [
    "andhra.date.str.split(\" \").str[2]"
   ]
  },
  {
   "cell_type": "code",
   "execution_count": 22,
   "metadata": {},
   "outputs": [],
   "source": [
    "# andhra['year'] = andhra.date.str.split(\" \").str[2]\n",
    "# andhra[\"month\"] = andhra.date.str.split(\" \").str[1]\n",
    "# andhra[\"day_of_month\"] = andhra.date.str.split(\" \").str[0]"
   ]
  },
  {
   "cell_type": "code",
   "execution_count": 23,
   "metadata": {},
   "outputs": [],
   "source": [
    "andhra_yearly = andhra.groupby([\"year\",\"month\",\"commodity\"]).agg({\"modal_rs_quintal\": \"mean\",\"min_rs_quintal\":\"mean\",'max_rs_quintal':'mean'}).reset_index()"
   ]
  },
  {
   "cell_type": "code",
   "execution_count": 38,
   "metadata": {},
   "outputs": [],
   "source": [
    "up_yearly = (\n",
    "    up.groupby([\"year\",\"month\" ,\"commodity\"])\n",
    "    .agg(\n",
    "        {\"modal_rs_quintal\": \"mean\", \"min_rs_quintal\": \"mean\", \"max_rs_quintal\": \"mean\"}\n",
    "    )\n",
    "    .reset_index()\n",
    ")"
   ]
  },
  {
   "cell_type": "code",
   "execution_count": 25,
   "metadata": {},
   "outputs": [
    {
     "data": {
      "text/html": [
       "<div>\n",
       "<style scoped>\n",
       "    .dataframe tbody tr th:only-of-type {\n",
       "        vertical-align: middle;\n",
       "    }\n",
       "\n",
       "    .dataframe tbody tr th {\n",
       "        vertical-align: top;\n",
       "    }\n",
       "\n",
       "    .dataframe thead th {\n",
       "        text-align: right;\n",
       "    }\n",
       "</style>\n",
       "<table border=\"1\" class=\"dataframe\">\n",
       "  <thead>\n",
       "    <tr style=\"text-align: right;\">\n",
       "      <th></th>\n",
       "      <th>year</th>\n",
       "      <th>month</th>\n",
       "      <th>commodity</th>\n",
       "      <th>modal_rs_quintal</th>\n",
       "      <th>min_rs_quintal</th>\n",
       "      <th>max_rs_quintal</th>\n",
       "    </tr>\n",
       "  </thead>\n",
       "  <tbody>\n",
       "    <tr>\n",
       "      <th>0</th>\n",
       "      <td>2014</td>\n",
       "      <td>Dec</td>\n",
       "      <td>Onion</td>\n",
       "      <td>1341.008403</td>\n",
       "      <td>1047.478992</td>\n",
       "      <td>1576.218487</td>\n",
       "    </tr>\n",
       "    <tr>\n",
       "      <th>1</th>\n",
       "      <td>2014</td>\n",
       "      <td>Dec</td>\n",
       "      <td>Potato</td>\n",
       "      <td>2656.363636</td>\n",
       "      <td>2509.090909</td>\n",
       "      <td>2803.636364</td>\n",
       "    </tr>\n",
       "    <tr>\n",
       "      <th>2</th>\n",
       "      <td>2014</td>\n",
       "      <td>Dec</td>\n",
       "      <td>Rice</td>\n",
       "      <td>3755.985130</td>\n",
       "      <td>3653.531599</td>\n",
       "      <td>3875.464684</td>\n",
       "    </tr>\n",
       "    <tr>\n",
       "      <th>3</th>\n",
       "      <td>2014</td>\n",
       "      <td>Dec</td>\n",
       "      <td>Tomato</td>\n",
       "      <td>1015.129151</td>\n",
       "      <td>837.450185</td>\n",
       "      <td>1208.439114</td>\n",
       "    </tr>\n",
       "    <tr>\n",
       "      <th>4</th>\n",
       "      <td>2014</td>\n",
       "      <td>Dec</td>\n",
       "      <td>Wheat</td>\n",
       "      <td>2196.666667</td>\n",
       "      <td>2096.666667</td>\n",
       "      <td>2296.666667</td>\n",
       "    </tr>\n",
       "    <tr>\n",
       "      <th>...</th>\n",
       "      <td>...</td>\n",
       "      <td>...</td>\n",
       "      <td>...</td>\n",
       "      <td>...</td>\n",
       "      <td>...</td>\n",
       "      <td>...</td>\n",
       "    </tr>\n",
       "    <tr>\n",
       "      <th>500</th>\n",
       "      <td>2024</td>\n",
       "      <td>May</td>\n",
       "      <td>Gur(Jaggery)</td>\n",
       "      <td>3931.914894</td>\n",
       "      <td>3632.234043</td>\n",
       "      <td>4148.617021</td>\n",
       "    </tr>\n",
       "    <tr>\n",
       "      <th>501</th>\n",
       "      <td>2024</td>\n",
       "      <td>May</td>\n",
       "      <td>Onion</td>\n",
       "      <td>1934.268293</td>\n",
       "      <td>1612.902439</td>\n",
       "      <td>2205.073171</td>\n",
       "    </tr>\n",
       "    <tr>\n",
       "      <th>502</th>\n",
       "      <td>2024</td>\n",
       "      <td>May</td>\n",
       "      <td>Potato</td>\n",
       "      <td>2320.000000</td>\n",
       "      <td>1740.000000</td>\n",
       "      <td>2940.000000</td>\n",
       "    </tr>\n",
       "    <tr>\n",
       "      <th>503</th>\n",
       "      <td>2024</td>\n",
       "      <td>May</td>\n",
       "      <td>Tomato</td>\n",
       "      <td>2180.202703</td>\n",
       "      <td>1710.945946</td>\n",
       "      <td>2586.351351</td>\n",
       "    </tr>\n",
       "    <tr>\n",
       "      <th>504</th>\n",
       "      <td>2024</td>\n",
       "      <td>Sep</td>\n",
       "      <td>Tomato</td>\n",
       "      <td>1820.000000</td>\n",
       "      <td>1335.000000</td>\n",
       "      <td>2335.000000</td>\n",
       "    </tr>\n",
       "  </tbody>\n",
       "</table>\n",
       "<p>505 rows × 6 columns</p>\n",
       "</div>"
      ],
      "text/plain": [
       "     year month     commodity  modal_rs_quintal  min_rs_quintal  \\\n",
       "0    2014   Dec         Onion       1341.008403     1047.478992   \n",
       "1    2014   Dec        Potato       2656.363636     2509.090909   \n",
       "2    2014   Dec          Rice       3755.985130     3653.531599   \n",
       "3    2014   Dec        Tomato       1015.129151      837.450185   \n",
       "4    2014   Dec         Wheat       2196.666667     2096.666667   \n",
       "..    ...   ...           ...               ...             ...   \n",
       "500  2024   May  Gur(Jaggery)       3931.914894     3632.234043   \n",
       "501  2024   May         Onion       1934.268293     1612.902439   \n",
       "502  2024   May        Potato       2320.000000     1740.000000   \n",
       "503  2024   May        Tomato       2180.202703     1710.945946   \n",
       "504  2024   Sep        Tomato       1820.000000     1335.000000   \n",
       "\n",
       "     max_rs_quintal  \n",
       "0       1576.218487  \n",
       "1       2803.636364  \n",
       "2       3875.464684  \n",
       "3       1208.439114  \n",
       "4       2296.666667  \n",
       "..              ...  \n",
       "500     4148.617021  \n",
       "501     2205.073171  \n",
       "502     2940.000000  \n",
       "503     2586.351351  \n",
       "504     2335.000000  \n",
       "\n",
       "[505 rows x 6 columns]"
      ]
     },
     "execution_count": 25,
     "metadata": {},
     "output_type": "execute_result"
    }
   ],
   "source": [
    "andhra_yearly"
   ]
  },
  {
   "cell_type": "code",
   "execution_count": 39,
   "metadata": {},
   "outputs": [
    {
     "data": {
      "text/html": [
       "<div>\n",
       "<style scoped>\n",
       "    .dataframe tbody tr th:only-of-type {\n",
       "        vertical-align: middle;\n",
       "    }\n",
       "\n",
       "    .dataframe tbody tr th {\n",
       "        vertical-align: top;\n",
       "    }\n",
       "\n",
       "    .dataframe thead th {\n",
       "        text-align: right;\n",
       "    }\n",
       "</style>\n",
       "<table border=\"1\" class=\"dataframe\">\n",
       "  <thead>\n",
       "    <tr style=\"text-align: right;\">\n",
       "      <th></th>\n",
       "      <th>year</th>\n",
       "      <th>month</th>\n",
       "      <th>commodity</th>\n",
       "      <th>modal_rs_quintal</th>\n",
       "      <th>min_rs_quintal</th>\n",
       "      <th>max_rs_quintal</th>\n",
       "    </tr>\n",
       "  </thead>\n",
       "  <tbody>\n",
       "    <tr>\n",
       "      <th>0</th>\n",
       "      <td>2014</td>\n",
       "      <td>Dec</td>\n",
       "      <td>Gur(Jaggery)</td>\n",
       "      <td>2751.877885</td>\n",
       "      <td>2139.628365</td>\n",
       "      <td>2216.339904</td>\n",
       "    </tr>\n",
       "    <tr>\n",
       "      <th>1</th>\n",
       "      <td>2014</td>\n",
       "      <td>Dec</td>\n",
       "      <td>Mustard Oil</td>\n",
       "      <td>7810.527950</td>\n",
       "      <td>4860.745342</td>\n",
       "      <td>4710.983437</td>\n",
       "    </tr>\n",
       "    <tr>\n",
       "      <th>2</th>\n",
       "      <td>2014</td>\n",
       "      <td>Dec</td>\n",
       "      <td>Onion</td>\n",
       "      <td>1513.825337</td>\n",
       "      <td>1196.481902</td>\n",
       "      <td>1284.191498</td>\n",
       "    </tr>\n",
       "    <tr>\n",
       "      <th>3</th>\n",
       "      <td>2014</td>\n",
       "      <td>Dec</td>\n",
       "      <td>Potato</td>\n",
       "      <td>908.857171</td>\n",
       "      <td>717.541550</td>\n",
       "      <td>798.079704</td>\n",
       "    </tr>\n",
       "    <tr>\n",
       "      <th>4</th>\n",
       "      <td>2014</td>\n",
       "      <td>Dec</td>\n",
       "      <td>Rice</td>\n",
       "      <td>2009.183422</td>\n",
       "      <td>1577.676367</td>\n",
       "      <td>1643.763228</td>\n",
       "    </tr>\n",
       "    <tr>\n",
       "      <th>...</th>\n",
       "      <td>...</td>\n",
       "      <td>...</td>\n",
       "      <td>...</td>\n",
       "      <td>...</td>\n",
       "      <td>...</td>\n",
       "      <td>...</td>\n",
       "    </tr>\n",
       "    <tr>\n",
       "      <th>1464</th>\n",
       "      <td>2024</td>\n",
       "      <td>Sep</td>\n",
       "      <td>Potato</td>\n",
       "      <td>2132.000000</td>\n",
       "      <td>2052.333333</td>\n",
       "      <td>2217.500000</td>\n",
       "    </tr>\n",
       "    <tr>\n",
       "      <th>1465</th>\n",
       "      <td>2024</td>\n",
       "      <td>Sep</td>\n",
       "      <td>Rice</td>\n",
       "      <td>3090.000000</td>\n",
       "      <td>3023.333333</td>\n",
       "      <td>3155.555556</td>\n",
       "    </tr>\n",
       "    <tr>\n",
       "      <th>1466</th>\n",
       "      <td>2024</td>\n",
       "      <td>Sep</td>\n",
       "      <td>Sugar</td>\n",
       "      <td>4200.000000</td>\n",
       "      <td>4190.000000</td>\n",
       "      <td>4210.000000</td>\n",
       "    </tr>\n",
       "    <tr>\n",
       "      <th>1467</th>\n",
       "      <td>2024</td>\n",
       "      <td>Sep</td>\n",
       "      <td>Tomato</td>\n",
       "      <td>2765.185185</td>\n",
       "      <td>2666.111111</td>\n",
       "      <td>2866.481481</td>\n",
       "    </tr>\n",
       "    <tr>\n",
       "      <th>1468</th>\n",
       "      <td>2024</td>\n",
       "      <td>Sep</td>\n",
       "      <td>Wheat</td>\n",
       "      <td>2481.466667</td>\n",
       "      <td>2399.266667</td>\n",
       "      <td>2528.533333</td>\n",
       "    </tr>\n",
       "  </tbody>\n",
       "</table>\n",
       "<p>1469 rows × 6 columns</p>\n",
       "</div>"
      ],
      "text/plain": [
       "      year month     commodity  modal_rs_quintal  min_rs_quintal  \\\n",
       "0     2014   Dec  Gur(Jaggery)       2751.877885     2139.628365   \n",
       "1     2014   Dec   Mustard Oil       7810.527950     4860.745342   \n",
       "2     2014   Dec         Onion       1513.825337     1196.481902   \n",
       "3     2014   Dec        Potato        908.857171      717.541550   \n",
       "4     2014   Dec          Rice       2009.183422     1577.676367   \n",
       "...    ...   ...           ...               ...             ...   \n",
       "1464  2024   Sep        Potato       2132.000000     2052.333333   \n",
       "1465  2024   Sep          Rice       3090.000000     3023.333333   \n",
       "1466  2024   Sep         Sugar       4200.000000     4190.000000   \n",
       "1467  2024   Sep        Tomato       2765.185185     2666.111111   \n",
       "1468  2024   Sep         Wheat       2481.466667     2399.266667   \n",
       "\n",
       "      max_rs_quintal  \n",
       "0        2216.339904  \n",
       "1        4710.983437  \n",
       "2        1284.191498  \n",
       "3         798.079704  \n",
       "4        1643.763228  \n",
       "...              ...  \n",
       "1464     2217.500000  \n",
       "1465     3155.555556  \n",
       "1466     4210.000000  \n",
       "1467     2866.481481  \n",
       "1468     2528.533333  \n",
       "\n",
       "[1469 rows x 6 columns]"
      ]
     },
     "execution_count": 39,
     "metadata": {},
     "output_type": "execute_result"
    }
   ],
   "source": [
    "up_yearly"
   ]
  },
  {
   "cell_type": "code",
   "execution_count": 34,
   "metadata": {},
   "outputs": [
    {
     "data": {
      "application/vnd.plotly.v1+json": {
       "config": {
        "plotlyServerURL": "https://plot.ly"
       },
       "data": [
        {
         "alignmentgroup": "True",
         "hovertemplate": "commodity=Onion<br>year=%{x}<br>value=%{y}<extra></extra>",
         "legendgroup": "Onion",
         "marker": {
          "color": "#636efa"
         },
         "name": "Onion",
         "notched": false,
         "offsetgroup": "Onion",
         "orientation": "v",
         "showlegend": true,
         "type": "box",
         "x": [
          "2014",
          "2014",
          "2014",
          "2014",
          "2015",
          "2015",
          "2015",
          "2015",
          "2015",
          "2015",
          "2015",
          "2015",
          "2015",
          "2015",
          "2015",
          "2015",
          "2016",
          "2016",
          "2016",
          "2016",
          "2016",
          "2016",
          "2016",
          "2016",
          "2016",
          "2016",
          "2016",
          "2016",
          "2017",
          "2017",
          "2017",
          "2017",
          "2017",
          "2017",
          "2017",
          "2017",
          "2017",
          "2017",
          "2017",
          "2017",
          "2018",
          "2018",
          "2018",
          "2018",
          "2018",
          "2018",
          "2018",
          "2018",
          "2018",
          "2019",
          "2019",
          "2019",
          "2019",
          "2019",
          "2019",
          "2019",
          "2019",
          "2019",
          "2019",
          "2019",
          "2020",
          "2020",
          "2020",
          "2020",
          "2020",
          "2020",
          "2020",
          "2021",
          "2021",
          "2021",
          "2021",
          "2021",
          "2021",
          "2021",
          "2021",
          "2021",
          "2021",
          "2021",
          "2021",
          "2022",
          "2022",
          "2022",
          "2022",
          "2022",
          "2022",
          "2022",
          "2022",
          "2022",
          "2022",
          "2022",
          "2022",
          "2023",
          "2023",
          "2023",
          "2023",
          "2023",
          "2023",
          "2023",
          "2023",
          "2023",
          "2023",
          "2023",
          "2024",
          "2024",
          "2024",
          "2024",
          "2024",
          "2024",
          "2024",
          "2024",
          "2014",
          "2014",
          "2014",
          "2014",
          "2015",
          "2015",
          "2015",
          "2015",
          "2015",
          "2015",
          "2015",
          "2015",
          "2015",
          "2015",
          "2015",
          "2015",
          "2016",
          "2016",
          "2016",
          "2016",
          "2016",
          "2016",
          "2016",
          "2016",
          "2016",
          "2016",
          "2016",
          "2016",
          "2017",
          "2017",
          "2017",
          "2017",
          "2017",
          "2017",
          "2017",
          "2017",
          "2017",
          "2017",
          "2017",
          "2017",
          "2018",
          "2018",
          "2018",
          "2018",
          "2018",
          "2018",
          "2018",
          "2018",
          "2018",
          "2019",
          "2019",
          "2019",
          "2019",
          "2019",
          "2019",
          "2019",
          "2019",
          "2019",
          "2019",
          "2019",
          "2020",
          "2020",
          "2020",
          "2020",
          "2020",
          "2020",
          "2020",
          "2021",
          "2021",
          "2021",
          "2021",
          "2021",
          "2021",
          "2021",
          "2021",
          "2021",
          "2021",
          "2021",
          "2021",
          "2022",
          "2022",
          "2022",
          "2022",
          "2022",
          "2022",
          "2022",
          "2022",
          "2022",
          "2022",
          "2022",
          "2022",
          "2023",
          "2023",
          "2023",
          "2023",
          "2023",
          "2023",
          "2023",
          "2023",
          "2023",
          "2023",
          "2023",
          "2024",
          "2024",
          "2024",
          "2024",
          "2024",
          "2024",
          "2024",
          "2024",
          "2014",
          "2014",
          "2014",
          "2014",
          "2015",
          "2015",
          "2015",
          "2015",
          "2015",
          "2015",
          "2015",
          "2015",
          "2015",
          "2015",
          "2015",
          "2015",
          "2016",
          "2016",
          "2016",
          "2016",
          "2016",
          "2016",
          "2016",
          "2016",
          "2016",
          "2016",
          "2016",
          "2016",
          "2017",
          "2017",
          "2017",
          "2017",
          "2017",
          "2017",
          "2017",
          "2017",
          "2017",
          "2017",
          "2017",
          "2017",
          "2018",
          "2018",
          "2018",
          "2018",
          "2018",
          "2018",
          "2018",
          "2018",
          "2018",
          "2019",
          "2019",
          "2019",
          "2019",
          "2019",
          "2019",
          "2019",
          "2019",
          "2019",
          "2019",
          "2019",
          "2020",
          "2020",
          "2020",
          "2020",
          "2020",
          "2020",
          "2020",
          "2021",
          "2021",
          "2021",
          "2021",
          "2021",
          "2021",
          "2021",
          "2021",
          "2021",
          "2021",
          "2021",
          "2021",
          "2022",
          "2022",
          "2022",
          "2022",
          "2022",
          "2022",
          "2022",
          "2022",
          "2022",
          "2022",
          "2022",
          "2022",
          "2023",
          "2023",
          "2023",
          "2023",
          "2023",
          "2023",
          "2023",
          "2023",
          "2023",
          "2023",
          "2023",
          "2024",
          "2024",
          "2024",
          "2024",
          "2024",
          "2024",
          "2024",
          "2024"
         ],
         "x0": " ",
         "xaxis": "x",
         "y": [
          1341.0084033613446,
          1190.959595959596,
          1248.7373737373737,
          1601.8813559322034,
          976.8662790697674,
          2853.374193548387,
          1902.6949152542372,
          1628.8333333333333,
          1592.3563218390805,
          2234.537037037037,
          2023.0568181818182,
          1608.3783783783783,
          1194.6296296296296,
          2338.7179487179487,
          2624.2196531791906,
          3452.6620689655174,
          896.8068181818181,
          1107.6724137931035,
          994.9230769230769,
          1253.169642857143,
          1860,
          1142.578125,
          1108.8169014084508,
          970.1284403669724,
          1193.0740740740741,
          851.32,
          946.9230769230769,
          950.9555555555555,
          991.7647058823529,
          1964.8275862068965,
          2908.8,
          1024.655172413793,
          943.2539682539683,
          1182.162162162162,
          1195.741935483871,
          986.7272727272727,
          915.2444444444444,
          2473.3333333333335,
          1340,
          1313.4615384615386,
          1052.608695652174,
          1074.8648648648648,
          1546.5,
          2737.7272727272725,
          1027.5,
          766.6153846153846,
          1020.4255319148937,
          1063.3333333333333,
          946.4864864864865,
          765.5555555555555,
          2127.5,
          690.2739726027397,
          727.7142857142857,
          2078.181818181818,
          2149.6153846153848,
          739.5945945945946,
          1131.7142857142858,
          3146.4285714285716,
          2679.056603773585,
          2783.5714285714284,
          1000.3703703703703,
          2893,
          2681.1428571428573,
          5563,
          5268.333333333333,
          3293.170731707317,
          2111.4285714285716,
          841.5151515151515,
          2110,
          2036.530612244898,
          3220.294117647059,
          2792.9166666666665,
          1935.7142857142858,
          2032.7083333333333,
          1235.9375,
          994.7916666666666,
          2525.9795918367345,
          2365.5238095238096,
          1454.8,
          1214.375,
          1587.02,
          1019.75,
          2357.531914893617,
          2285,
          1729.08,
          1049.7555555555555,
          1584.0588235294117,
          944.2954545454545,
          1116.5849056603774,
          1152.9302325581396,
          1127.5,
          965.2903225806451,
          1925,
          2354.2272727272725,
          1120.0454545454545,
          1146.6444444444444,
          1472.76,
          993.4375,
          1135.3846153846155,
          3440.4,
          2664.909090909091,
          2016.6521739130435,
          1179.3243243243244,
          4343.454545454545,
          1168.5094339622642,
          1689.3714285714286,
          4360.5,
          3773.2631578947367,
          1220.659090909091,
          1934.2682926829268,
          1047.4789915966387,
          980.4040404040404,
          964.3434343434343,
          1347.5593220338983,
          834.2325581395348,
          2469.9548387096775,
          1619.8305084745762,
          1368.5555555555557,
          1288.2758620689656,
          2008.179012345679,
          1840.3579545454545,
          1336.418918918919,
          1032.8950617283951,
          2032.948717948718,
          2201.4450867052024,
          2941.3379310344826,
          753.8636363636364,
          936.7241379310345,
          866.4615384615385,
          1059.6339285714287,
          1639.4545454545455,
          959.53125,
          965.4929577464789,
          832.8440366972477,
          1066.6666666666667,
          685,
          880.5128205128206,
          856.4222222222222,
          916.0784313725491,
          1245.8620689655172,
          1474,
          929.6551724137931,
          858.2539682539683,
          1108.3783783783783,
          1182.5806451612902,
          905.6363636363636,
          888.8888888888889,
          1152.9166666666667,
          631.3333333333334,
          570.3846153846154,
          446.0869565217391,
          904.5945945945946,
          1018,
          1629.090909090909,
          440,
          569.2307692307693,
          818.2978723404256,
          802.2916666666666,
          565.1351351351351,
          532.2222222222222,
          1468.4722222222222,
          468.4931506849315,
          549.5714285714286,
          1479.5454545454545,
          1612.1153846153845,
          489.5945945945946,
          808.8571428571429,
          2797.1428571428573,
          1816.9811320754718,
          2224.7619047619046,
          700.7407407407408,
          1749.3333333333333,
          2263.714285714286,
          4566,
          3987.3333333333335,
          2027.8536585365853,
          1465.3061224489795,
          639.0909090909091,
          1548.2333333333333,
          1422.734693877551,
          1776.4705882352941,
          1775,
          1381.4285714285713,
          1470,
          848.75,
          770.4166666666666,
          1768.265306122449,
          1393,
          1055.8,
          870.4375,
          1141.16,
          767.6071428571429,
          1402.7021276595744,
          1450.450980392157,
          1325.96,
          861.0222222222222,
          987.156862745098,
          783.3863636363636,
          751.5471698113207,
          759.1860465116279,
          701.4444444444445,
          774.6451612903226,
          1387.9375,
          586.6818181818181,
          729.3863636363636,
          931.9777777777778,
          992.76,
          682,
          916.9230769230769,
          640.72,
          1448.090909090909,
          1380.9565217391305,
          766.3783783783783,
          4032.8636363636365,
          726.2641509433962,
          968.8571428571429,
          4065.9333333333334,
          3476.7368421052633,
          705.1363636363636,
          1612.9024390243903,
          1576.218487394958,
          1385.8080808080808,
          1490.1010101010102,
          1848.322033898305,
          1121.0406976744187,
          3356.1032258064515,
          2199.830508474576,
          1858.388888888889,
          1808.448275862069,
          2468.6111111111113,
          2212.2613636363635,
          1876.418918918919,
          1356.9814814814815,
          2691.346153846154,
          3165.433526011561,
          4193.089655172414,
          1084.3181818181818,
          1296.0344827586207,
          1142,
          1437.6875,
          2045.909090909091,
          1334.296875,
          1288.1690140845071,
          1131.2844036697247,
          1373.20987654321,
          1007.6,
          1057.6923076923076,
          1068.2111111111112,
          1054.5098039215686,
          2313.103448275862,
          3640.8,
          1116.2068965517242,
          1054.126984126984,
          1224.054054054054,
          1211.2903225806451,
          1036.5454545454545,
          965.1111111111111,
          2996.125,
          2266.6666666666665,
          1715.7692307692307,
          1272.1739130434783,
          1268.918918918919,
          1810,
          3220.909090909091,
          1285,
          928.4615384615385,
          1280.6382978723404,
          1319.1666666666667,
          1191.3513513513512,
          951.1111111111111,
          2313.3333333333335,
          826.4383561643835,
          880.4285714285714,
          2238.181818181818,
          2352.3076923076924,
          859.7297297297297,
          1260.857142857143,
          3470.714285714286,
          3393.0188679245284,
          3120.4761904761904,
          1416.6666666666667,
          3486.6666666666665,
          2978.5714285714284,
          6136.75,
          6231.25,
          4563.170731707317,
          2981.2244897959185,
          1023.6363636363636,
          2604.766666666667,
          2638.326530612245,
          3827.0588235294117,
          3223.3333333333335,
          2316.6666666666665,
          2448.3333333333335,
          1521.25,
          1245.8333333333333,
          3289.3061224489797,
          3179.9523809523807,
          1869.3428571428572,
          1594.7916666666667,
          2012.46,
          1349.0892857142858,
          3181.723404255319,
          2939.6862745098038,
          2088.7,
          1253.0222222222221,
          2132.3333333333335,
          1174.1818181818182,
          1724.3207547169811,
          1707.2093023255813,
          1628.148148148148,
          1189.1290322580646,
          2330.9375,
          2899.5,
          1506.1363636363637,
          1383.3555555555556,
          1952.76,
          1299.03125,
          1422.3076923076924,
          4091.28,
          3448.318181818182,
          2458.304347826087,
          1501.6486486486488,
          4499.090909090909,
          1451.3396226415093,
          2153.2,
          4577.166666666667,
          4015.3684210526317,
          1551.3181818181818,
          2205.0731707317073
         ],
         "y0": " ",
         "yaxis": "y"
        },
        {
         "alignmentgroup": "True",
         "hovertemplate": "commodity=Potato<br>year=%{x}<br>value=%{y}<extra></extra>",
         "legendgroup": "Potato",
         "marker": {
          "color": "#EF553B"
         },
         "name": "Potato",
         "notched": false,
         "offsetgroup": "Potato",
         "orientation": "v",
         "showlegend": true,
         "type": "box",
         "x": [
          "2014",
          "2014",
          "2014",
          "2014",
          "2015",
          "2015",
          "2015",
          "2015",
          "2015",
          "2015",
          "2015",
          "2015",
          "2015",
          "2015",
          "2015",
          "2015",
          "2016",
          "2016",
          "2016",
          "2016",
          "2016",
          "2016",
          "2016",
          "2016",
          "2016",
          "2016",
          "2016",
          "2016",
          "2017",
          "2017",
          "2017",
          "2017",
          "2017",
          "2017",
          "2017",
          "2017",
          "2017",
          "2017",
          "2017",
          "2017",
          "2018",
          "2018",
          "2018",
          "2018",
          "2018",
          "2018",
          "2018",
          "2018",
          "2019",
          "2019",
          "2019",
          "2019",
          "2019",
          "2019",
          "2019",
          "2019",
          "2019",
          "2019",
          "2019",
          "2019",
          "2022",
          "2022",
          "2022",
          "2022",
          "2022",
          "2023",
          "2023",
          "2023",
          "2023",
          "2023",
          "2024",
          "2024",
          "2024",
          "2024",
          "2024",
          "2024",
          "2024",
          "2014",
          "2014",
          "2014",
          "2014",
          "2015",
          "2015",
          "2015",
          "2015",
          "2015",
          "2015",
          "2015",
          "2015",
          "2015",
          "2015",
          "2015",
          "2015",
          "2016",
          "2016",
          "2016",
          "2016",
          "2016",
          "2016",
          "2016",
          "2016",
          "2016",
          "2016",
          "2016",
          "2016",
          "2017",
          "2017",
          "2017",
          "2017",
          "2017",
          "2017",
          "2017",
          "2017",
          "2017",
          "2017",
          "2017",
          "2017",
          "2018",
          "2018",
          "2018",
          "2018",
          "2018",
          "2018",
          "2018",
          "2018",
          "2019",
          "2019",
          "2019",
          "2019",
          "2019",
          "2019",
          "2019",
          "2019",
          "2019",
          "2019",
          "2019",
          "2019",
          "2022",
          "2022",
          "2022",
          "2022",
          "2022",
          "2023",
          "2023",
          "2023",
          "2023",
          "2023",
          "2024",
          "2024",
          "2024",
          "2024",
          "2024",
          "2024",
          "2024",
          "2014",
          "2014",
          "2014",
          "2014",
          "2015",
          "2015",
          "2015",
          "2015",
          "2015",
          "2015",
          "2015",
          "2015",
          "2015",
          "2015",
          "2015",
          "2015",
          "2016",
          "2016",
          "2016",
          "2016",
          "2016",
          "2016",
          "2016",
          "2016",
          "2016",
          "2016",
          "2016",
          "2016",
          "2017",
          "2017",
          "2017",
          "2017",
          "2017",
          "2017",
          "2017",
          "2017",
          "2017",
          "2017",
          "2017",
          "2017",
          "2018",
          "2018",
          "2018",
          "2018",
          "2018",
          "2018",
          "2018",
          "2018",
          "2019",
          "2019",
          "2019",
          "2019",
          "2019",
          "2019",
          "2019",
          "2019",
          "2019",
          "2019",
          "2019",
          "2019",
          "2022",
          "2022",
          "2022",
          "2022",
          "2022",
          "2023",
          "2023",
          "2023",
          "2023",
          "2023",
          "2024",
          "2024",
          "2024",
          "2024",
          "2024",
          "2024",
          "2024"
         ],
         "x0": " ",
         "xaxis": "x",
         "y": [
          2656.3636363636365,
          2878.846153846154,
          2871.6666666666665,
          2638.4615384615386,
          761.125,
          1168.5663716814158,
          1424.9312977099237,
          1400,
          2190.6976744186045,
          1153.125,
          1289.6747967479675,
          1207.142857142857,
          921.5094339622641,
          1513.682119205298,
          1428.7769784172663,
          1333.9154929577464,
          1553.448275862069,
          2180.678899082569,
          1306.2830188679245,
          1488.03125,
          1500,
          2163.269230769231,
          1988.785046728972,
          1469.968253968254,
          1982.9292929292928,
          1623.0375,
          1820.6349206349207,
          2134,
          1135.7142857142858,
          1094.6808510638298,
          785.7142857142857,
          1313.235294117647,
          1197.142857142857,
          1111.6279069767443,
          618.1818181818181,
          1226.0869565217392,
          1353.3333333333333,
          812.3913043478261,
          866.40625,
          898.3870967741935,
          750,
          1059.5238095238096,
          818.9655172413793,
          870.3703703703703,
          843.4782608695652,
          1371.4285714285713,
          1500,
          1053.5714285714287,
          1147.9166666666667,
          1462.5,
          1666.6666666666667,
          952,
          1101.923076923077,
          1529.4117647058824,
          1244.4444444444443,
          848.3333333333334,
          1217.5,
          1600,
          1521.1538461538462,
          1331.8181818181818,
          1450,
          1430,
          1780,
          1525,
          1612.5,
          1250,
          1636.3636363636363,
          1500,
          1500,
          1500,
          2404.7619047619046,
          1777.7777777777778,
          2000,
          2473.684210526316,
          2473.684210526316,
          1950,
          2320,
          2509.090909090909,
          2707.6923076923076,
          2728.3333333333335,
          2483.076923076923,
          673.375,
          1035.7699115044247,
          1297.8625954198474,
          1253.1914893617022,
          2034.8837209302326,
          1016.6666666666666,
          1180.7317073170732,
          1064.2857142857142,
          815.6037735849056,
          1410.2649006622516,
          1309.3525179856115,
          1211.3661971830986,
          1448.2758620689656,
          2066.788990825688,
          1193.7735849056603,
          1385.59375,
          1391.726618705036,
          2050,
          1882.7102803738317,
          1362.6984126984128,
          1877.7777777777778,
          1521.25,
          1731.7460317460318,
          2024,
          1035.7142857142858,
          963.8297872340426,
          546.4285714285714,
          1200,
          1074.2857142857142,
          951.1627906976744,
          518.1818181818181,
          1113.0434782608695,
          1253.3333333333333,
          650,
          703.90625,
          777.0967741935484,
          500,
          592.8571428571429,
          620.6896551724138,
          635.1851851851852,
          628.2608695652174,
          942.8571428571429,
          1000,
          625,
          662.5,
          975,
          1166.6666666666667,
          528,
          611.5384615384615,
          1000,
          755.5555555555555,
          488.3333333333333,
          757.5,
          1080,
          1017.3076923076923,
          818.1818181818181,
          1000,
          970,
          1330,
          1112.5,
          1125,
          900,
          1227.2727272727273,
          1000,
          1000,
          1100,
          1904.7619047619048,
          1277.7777777777778,
          1500,
          1789.4736842105262,
          1973.6842105263158,
          1450,
          1740,
          2803.6363636363635,
          3034.6153846153848,
          3021.6666666666665,
          2793.846153846154,
          850.6607142857143,
          1301.3628318584072,
          1537.4045801526718,
          1548.936170212766,
          2346.5116279069766,
          1289.5833333333333,
          1547.39837398374,
          1353.5714285714287,
          1032.132075471698,
          1617.2185430463576,
          1548.2014388489208,
          1456.4647887323943,
          1698.2758620689656,
          2305.045871559633,
          1416.0377358490566,
          1603.90625,
          1608.63309352518,
          2320,
          2157.0093457943926,
          1607.5396825396826,
          2121.717171717172,
          1724.75,
          1909.5238095238096,
          2244,
          1235.7142857142858,
          1227.659574468085,
          1042.857142857143,
          1426.4705882352941,
          1320,
          1272.093023255814,
          718.1818181818181,
          1339.1304347826087,
          1453.3333333333333,
          982.6086956521739,
          1042.1875,
          1032.258064516129,
          1000,
          1557.142857142857,
          1010.3448275862069,
          1148.148148148148,
          1047.8260869565217,
          1800,
          2000,
          1482.142857142857,
          1633.3333333333333,
          1950,
          2166.6666666666665,
          1396,
          1611.5384615384614,
          2058.823529411765,
          1811.111111111111,
          1210,
          1692.5,
          2120,
          2017.3076923076924,
          1818.1818181818182,
          1900,
          2100,
          2235,
          1937.5,
          2100,
          1600,
          2045.4545454545455,
          2000,
          2000,
          2100,
          2904.7619047619046,
          2277.777777777778,
          2500,
          3421.0526315789475,
          3052.6315789473683,
          2495.4545454545455,
          2940
         ],
         "y0": " ",
         "yaxis": "y"
        },
        {
         "alignmentgroup": "True",
         "hovertemplate": "commodity=Rice<br>year=%{x}<br>value=%{y}<extra></extra>",
         "legendgroup": "Rice",
         "marker": {
          "color": "#00cc96"
         },
         "name": "Rice",
         "notched": false,
         "offsetgroup": "Rice",
         "orientation": "v",
         "showlegend": true,
         "type": "box",
         "x": [
          "2014",
          "2014",
          "2014",
          "2014",
          "2015",
          "2015",
          "2015",
          "2015",
          "2015",
          "2015",
          "2015",
          "2015",
          "2015",
          "2015",
          "2015",
          "2015",
          "2016",
          "2016",
          "2016",
          "2016",
          "2016",
          "2016",
          "2016",
          "2016",
          "2016",
          "2016",
          "2016",
          "2016",
          "2017",
          "2017",
          "2017",
          "2017",
          "2017",
          "2017",
          "2017",
          "2017",
          "2017",
          "2017",
          "2017",
          "2017",
          "2018",
          "2018",
          "2018",
          "2018",
          "2018",
          "2018",
          "2018",
          "2019",
          "2019",
          "2019",
          "2019",
          "2019",
          "2019",
          "2019",
          "2019",
          "2019",
          "2019",
          "2019",
          "2019",
          "2014",
          "2014",
          "2014",
          "2014",
          "2015",
          "2015",
          "2015",
          "2015",
          "2015",
          "2015",
          "2015",
          "2015",
          "2015",
          "2015",
          "2015",
          "2015",
          "2016",
          "2016",
          "2016",
          "2016",
          "2016",
          "2016",
          "2016",
          "2016",
          "2016",
          "2016",
          "2016",
          "2016",
          "2017",
          "2017",
          "2017",
          "2017",
          "2017",
          "2017",
          "2017",
          "2017",
          "2017",
          "2017",
          "2017",
          "2017",
          "2018",
          "2018",
          "2018",
          "2018",
          "2018",
          "2018",
          "2018",
          "2019",
          "2019",
          "2019",
          "2019",
          "2019",
          "2019",
          "2019",
          "2019",
          "2019",
          "2019",
          "2019",
          "2019",
          "2014",
          "2014",
          "2014",
          "2014",
          "2015",
          "2015",
          "2015",
          "2015",
          "2015",
          "2015",
          "2015",
          "2015",
          "2015",
          "2015",
          "2015",
          "2015",
          "2016",
          "2016",
          "2016",
          "2016",
          "2016",
          "2016",
          "2016",
          "2016",
          "2016",
          "2016",
          "2016",
          "2016",
          "2017",
          "2017",
          "2017",
          "2017",
          "2017",
          "2017",
          "2017",
          "2017",
          "2017",
          "2017",
          "2017",
          "2017",
          "2018",
          "2018",
          "2018",
          "2018",
          "2018",
          "2018",
          "2018",
          "2019",
          "2019",
          "2019",
          "2019",
          "2019",
          "2019",
          "2019",
          "2019",
          "2019",
          "2019",
          "2019",
          "2019"
         ],
         "x0": " ",
         "xaxis": "x",
         "y": [
          3755.985130111524,
          3701.9223300970875,
          3699.4638554216867,
          3735.5542168674697,
          3664.904214559387,
          3550.971518987342,
          3938.8727272727274,
          3733.065134099617,
          3703.36,
          3731.1356466876973,
          3652.8571428571427,
          3716.3917525773195,
          3612.367491166078,
          3827.642307692308,
          3790.654205607477,
          3688.5833333333335,
          3728.570588235294,
          3765.2319587628867,
          3849.0986547085204,
          3665.5782608695654,
          3703.6919831223627,
          3749.1847826086955,
          3585.6045454545456,
          3565.153846153846,
          3391.6214689265535,
          3873.3661971830984,
          3769.608888888889,
          3850.044776119403,
          4031.3414634146343,
          4050.2061855670104,
          4246.396396396396,
          3972.6369047619046,
          3805,
          3940.6145251396647,
          4061.5095238095237,
          4041.6666666666665,
          4055.517948717949,
          3953.879781420765,
          4027.9710144927535,
          4028.9013452914796,
          4147,
          3517.2413793103447,
          4134.722222222223,
          3714.705882352941,
          4130,
          4201.785714285715,
          3738,
          4135.294117647059,
          4084.2105263157896,
          4089.285714285714,
          4048.7179487179487,
          4070.967741935484,
          4202.272727272727,
          4142.857142857143,
          4052.5,
          4106.521739130435,
          4175,
          4070,
          4124,
          3653.531598513011,
          3604.401294498382,
          3610.1656626506024,
          3649.9397590361446,
          3567.1264367816093,
          3449.1139240506327,
          3866.836363636364,
          3641.5708812260536,
          3611.6,
          3633.3753943217666,
          3560.3571428571427,
          3623.4707903780068,
          3515.583038869258,
          3754.5,
          3699.2834890965732,
          3573.6726190476193,
          3624.1176470588234,
          3673.1701030927834,
          3778.026905829596,
          3584.0304347826086,
          3628.6919831223627,
          3678.3152173913045,
          3507.0454545454545,
          3485.8371040723982,
          3308.4745762711864,
          3804.976525821596,
          3708,
          3786.169154228856,
          3972.682926829268,
          4003.814432989691,
          4186.396396396396,
          3912.8571428571427,
          3733.85,
          3890.167597765363,
          3999.6666666666665,
          3977.2727272727275,
          3997.948717948718,
          3906.448087431694,
          3983.816425120773,
          3975.8071748878924,
          4123.571428571428,
          3465.5172413793102,
          4075,
          3617.6470588235293,
          4110,
          4182.142857142857,
          3698,
          4076.470588235294,
          4020.5263157894738,
          4021.4285714285716,
          3716.6666666666665,
          3911.2903225806454,
          4146.818181818182,
          4069.0476190476193,
          3823.75,
          4028.2608695652175,
          4096.071428571428,
          4006,
          4065.8,
          3875.46468401487,
          3810.2168284789645,
          3801.4156626506024,
          3832.10843373494,
          3776.4367816091954,
          3759.493670886076,
          4025.072727272727,
          3836.7816091954023,
          3805.2,
          3836.2776025236594,
          3761.309523809524,
          3820.7903780068727,
          3724.381625441696,
          4056.346153846154,
          3884.8909657320874,
          3793.6130952380954,
          3819.705882352941,
          3847.938144329897,
          3934.5291479820626,
          3753.2608695652175,
          3797.46835443038,
          3837.5,
          3671.3636363636365,
          3660.633484162896,
          3486.723163841808,
          3954.9295774647885,
          3851.1111111111113,
          3928.855721393035,
          4104.268292682927,
          4301.907216494846,
          4305.315315315315,
          4047.0238095238096,
          3892,
          4010.0558659217877,
          4138.714285714285,
          4116.919191919192,
          4127.692307692308,
          4016.2841530054643,
          4091.376811594203,
          4094.215246636771,
          4200.714285714285,
          3724.137931034483,
          4205.555555555556,
          3811.764705882353,
          4182.5,
          4253.571428571428,
          3830,
          4208.823529411765,
          4169.473684210527,
          4171.428571428572,
          4219.2307692307695,
          4287.741935483871,
          4263.636363636364,
          4233.333333333333,
          4177.5,
          4197.826086956522,
          4282.142857142857,
          4184,
          4210
         ],
         "y0": " ",
         "yaxis": "y"
        },
        {
         "alignmentgroup": "True",
         "hovertemplate": "commodity=Tomato<br>year=%{x}<br>value=%{y}<extra></extra>",
         "legendgroup": "Tomato",
         "marker": {
          "color": "#ab63fa"
         },
         "name": "Tomato",
         "notched": false,
         "offsetgroup": "Tomato",
         "orientation": "v",
         "showlegend": true,
         "type": "box",
         "x": [
          "2014",
          "2014",
          "2014",
          "2014",
          "2015",
          "2015",
          "2015",
          "2015",
          "2015",
          "2015",
          "2015",
          "2015",
          "2015",
          "2015",
          "2015",
          "2015",
          "2016",
          "2016",
          "2016",
          "2016",
          "2016",
          "2016",
          "2016",
          "2016",
          "2016",
          "2016",
          "2016",
          "2016",
          "2017",
          "2017",
          "2017",
          "2017",
          "2017",
          "2017",
          "2017",
          "2017",
          "2017",
          "2017",
          "2017",
          "2017",
          "2018",
          "2018",
          "2018",
          "2018",
          "2018",
          "2018",
          "2018",
          "2018",
          "2018",
          "2019",
          "2019",
          "2019",
          "2019",
          "2019",
          "2019",
          "2019",
          "2019",
          "2019",
          "2019",
          "2019",
          "2019",
          "2020",
          "2020",
          "2020",
          "2020",
          "2020",
          "2020",
          "2020",
          "2020",
          "2020",
          "2020",
          "2020",
          "2020",
          "2021",
          "2021",
          "2021",
          "2021",
          "2021",
          "2021",
          "2021",
          "2021",
          "2021",
          "2021",
          "2021",
          "2021",
          "2022",
          "2022",
          "2022",
          "2022",
          "2022",
          "2022",
          "2022",
          "2022",
          "2022",
          "2022",
          "2022",
          "2022",
          "2023",
          "2023",
          "2023",
          "2023",
          "2023",
          "2023",
          "2023",
          "2023",
          "2023",
          "2023",
          "2023",
          "2023",
          "2024",
          "2024",
          "2024",
          "2024",
          "2024",
          "2024",
          "2024",
          "2024",
          "2024",
          "2014",
          "2014",
          "2014",
          "2014",
          "2015",
          "2015",
          "2015",
          "2015",
          "2015",
          "2015",
          "2015",
          "2015",
          "2015",
          "2015",
          "2015",
          "2015",
          "2016",
          "2016",
          "2016",
          "2016",
          "2016",
          "2016",
          "2016",
          "2016",
          "2016",
          "2016",
          "2016",
          "2016",
          "2017",
          "2017",
          "2017",
          "2017",
          "2017",
          "2017",
          "2017",
          "2017",
          "2017",
          "2017",
          "2017",
          "2017",
          "2018",
          "2018",
          "2018",
          "2018",
          "2018",
          "2018",
          "2018",
          "2018",
          "2018",
          "2019",
          "2019",
          "2019",
          "2019",
          "2019",
          "2019",
          "2019",
          "2019",
          "2019",
          "2019",
          "2019",
          "2019",
          "2020",
          "2020",
          "2020",
          "2020",
          "2020",
          "2020",
          "2020",
          "2020",
          "2020",
          "2020",
          "2020",
          "2020",
          "2021",
          "2021",
          "2021",
          "2021",
          "2021",
          "2021",
          "2021",
          "2021",
          "2021",
          "2021",
          "2021",
          "2021",
          "2022",
          "2022",
          "2022",
          "2022",
          "2022",
          "2022",
          "2022",
          "2022",
          "2022",
          "2022",
          "2022",
          "2022",
          "2023",
          "2023",
          "2023",
          "2023",
          "2023",
          "2023",
          "2023",
          "2023",
          "2023",
          "2023",
          "2023",
          "2023",
          "2024",
          "2024",
          "2024",
          "2024",
          "2024",
          "2024",
          "2024",
          "2024",
          "2024",
          "2014",
          "2014",
          "2014",
          "2014",
          "2015",
          "2015",
          "2015",
          "2015",
          "2015",
          "2015",
          "2015",
          "2015",
          "2015",
          "2015",
          "2015",
          "2015",
          "2016",
          "2016",
          "2016",
          "2016",
          "2016",
          "2016",
          "2016",
          "2016",
          "2016",
          "2016",
          "2016",
          "2016",
          "2017",
          "2017",
          "2017",
          "2017",
          "2017",
          "2017",
          "2017",
          "2017",
          "2017",
          "2017",
          "2017",
          "2017",
          "2018",
          "2018",
          "2018",
          "2018",
          "2018",
          "2018",
          "2018",
          "2018",
          "2018",
          "2019",
          "2019",
          "2019",
          "2019",
          "2019",
          "2019",
          "2019",
          "2019",
          "2019",
          "2019",
          "2019",
          "2019",
          "2020",
          "2020",
          "2020",
          "2020",
          "2020",
          "2020",
          "2020",
          "2020",
          "2020",
          "2020",
          "2020",
          "2020",
          "2021",
          "2021",
          "2021",
          "2021",
          "2021",
          "2021",
          "2021",
          "2021",
          "2021",
          "2021",
          "2021",
          "2021",
          "2022",
          "2022",
          "2022",
          "2022",
          "2022",
          "2022",
          "2022",
          "2022",
          "2022",
          "2022",
          "2022",
          "2022",
          "2023",
          "2023",
          "2023",
          "2023",
          "2023",
          "2023",
          "2023",
          "2023",
          "2023",
          "2023",
          "2023",
          "2023",
          "2024",
          "2024",
          "2024",
          "2024",
          "2024",
          "2024",
          "2024",
          "2024",
          "2024"
         ],
         "x0": " ",
         "xaxis": "x",
         "y": [
          1015.1291512915129,
          923.7810218978102,
          903.4044943820224,
          1118.2671009771987,
          871.7686170212766,
          931.8391420911528,
          1630.0344827586207,
          587.381974248927,
          698.1927710843373,
          1876.4416666666666,
          1684.8140161725066,
          599.3729372937294,
          1606.969696969697,
          2912.8888888888887,
          1596.457219251337,
          929.81843575419,
          1164.2038834951456,
          608.9071856287425,
          407.29245283018867,
          548.6676217765043,
          2000.4005376344087,
          1629.1,
          3560.477744807122,
          497.1513353115727,
          3048.2041420118344,
          444.3746223564955,
          895.2103825136612,
          894.4528301886793,
          598.337552742616,
          2744.930735930736,
          782.2669172932331,
          1400.872,
          768.3036437246964,
          4392.271317829457,
          1770.550847457627,
          1210.4311594202898,
          572.7923076923076,
          2242.609243697479,
          2002.4893617021276,
          1141.765873015873,
          613.5223880597015,
          582.9640287769785,
          274.4651162790698,
          347.2279411764706,
          1151.1743119266055,
          316,
          675.716049382716,
          563.1860465116279,
          516.1319796954315,
          1763.8476821192053,
          1420.551724137931,
          832.792899408284,
          587.9235294117647,
          1300.4723926380368,
          2279.1620111731845,
          2671.7361111111113,
          721.1149425287356,
          2724.815286624204,
          1193.5189189189189,
          1364.8148148148148,
          867.3154362416108,
          598.1818181818181,
          2028.3838383838383,
          927.9130434782609,
          734.3551401869158,
          736.9416666666667,
          2926.4210526315787,
          1437.159090909091,
          654.2452830188679,
          607.4107142857143,
          1370.5098039215686,
          1695.5327102803737,
          2530.5378151260506,
          695.4205607476636,
          1183.0740740740741,
          4303.636363636364,
          1198.2371134020618,
          855.8315789473684,
          1233.4545454545455,
          869.6385542168674,
          848.0909090909091,
          669.9,
          4388.909090909091,
          2703.035714285714,
          932.5178571428571,
          1216.3963963963963,
          1136.5189873417721,
          972.5641025641025,
          802.72,
          1600,
          1192.6119402985075,
          3314.4155844155844,
          708.2666666666667,
          480,
          1091.6346153846155,
          2042.9787234042553,
          2601.315789473684,
          812.4742268041238,
          2859.375,
          1586.099290780142,
          1540.8333333333333,
          1293.173076923077,
          11797.758620689656,
          3219.53125,
          1213.6216216216217,
          984.8484848484849,
          2189.793103448276,
          1254.8,
          1077.7319587628865,
          1733.5,
          2278.6184210526317,
          1373.6697247706422,
          1646.3333333333333,
          4453.459119496855,
          4441.437125748503,
          1410.3809523809523,
          2180.2027027027025,
          1820,
          837.450184501845,
          747.8540145985402,
          714.8651685393259,
          905.5374592833876,
          732.8723404255319,
          774.8820375335121,
          1365.5119363395224,
          470.30042918454933,
          545.7831325301205,
          1643.6861111111111,
          1473.7088948787061,
          489.2409240924092,
          1382.1019283746557,
          2519.8075880758806,
          1346.8475935828876,
          749.5754189944134,
          967.6343042071197,
          486.47305389221555,
          323.0660377358491,
          432.89111747851,
          1694.3467741935483,
          1326.378787878788,
          2996.118694362018,
          398.9940652818991,
          2622.94674556213,
          349.6948640483384,
          727.8551912568306,
          705.6576819407009,
          417.48945147679325,
          1817.142857142857,
          468.7518796992481,
          1112.04,
          594.5951417004048,
          3254.3798449612405,
          1275.3305084745762,
          908.768115942029,
          396.63461538461536,
          1379.764705882353,
          1215.2375886524824,
          714.2460317460317,
          404.7562189054726,
          349.19424460431657,
          159.7813953488372,
          209.82720588235293,
          735.8623853211009,
          190.7923076923077,
          395.2962962962963,
          371.8313953488372,
          346.0812182741117,
          1135.2847682119204,
          877.5862068965517,
          444.1775147928994,
          339.18823529411765,
          785.6441717791411,
          1405.5307262569831,
          1886.0416666666667,
          424.98275862068965,
          1799.6369426751592,
          599.145945945946,
          624.8148148148148,
          511.8724832214765,
          482.82828282828285,
          1255.4545454545455,
          516.8869565217391,
          526.1682242990654,
          438.5,
          2160.5894736842106,
          956.25,
          516.0377358490566,
          485.35714285714283,
          744.8333333333334,
          919,
          1683.2605042016808,
          563.6448598130842,
          880.074074074074,
          3218.5858585858587,
          746.9278350515464,
          522.1052631578947,
          940.7272727272727,
          672.8915662650602,
          634.4545454545455,
          567.4,
          3103.181818181818,
          1951.0714285714287,
          708.4107142857143,
          827.2972972972973,
          862.6582278481013,
          748.7179487179487,
          607.6,
          967.1532846715329,
          882.9850746268656,
          2660.12987012987,
          585.1333333333333,
          450,
          783.6538461538462,
          1328.1560283687943,
          1803.8157894736842,
          653.5051546391752,
          2297.5,
          1054.3971631205675,
          1043.3333333333333,
          957.9807692307693,
          10680.344827586207,
          2317.3958333333335,
          891.8918918918919,
          762.060606060606,
          1451.2413793103449,
          945.92,
          881.340206185567,
          1320,
          1907.7631578947369,
          978.1651376146789,
          1099.111111111111,
          3933.9937106918237,
          3637.005988023952,
          1046.1904761904761,
          1710.945945945946,
          1335,
          1208.439114391144,
          1105.521897810219,
          1115.0112359550562,
          1341.5700325732898,
          1009.7739361702128,
          1089.0321715817695,
          1894.7692307692307,
          718.1115879828326,
          869.5381526104418,
          2112.1833333333334,
          1894.3530997304583,
          718.6798679867986,
          1827.4848484848485,
          3328.0840108401085,
          1865.5989304812833,
          1158.4804469273743,
          1375.2491909385112,
          727.0538922155689,
          492.94654088050316,
          678.7106017191977,
          2295.6129032258063,
          1908.5757575757575,
          4244.459940652819,
          619.7566765578636,
          3442.748520710059,
          544.5619335347432,
          1064.8524590163934,
          1070.733153638814,
          812.4261603375527,
          3550.4415584415583,
          1067.2932330827068,
          1698.212,
          946.2591093117409,
          5423.926356589147,
          2277.2669491525426,
          1495.1304347826087,
          740.1884615384615,
          3037.453781512605,
          2671.294326241135,
          1495.5595238095239,
          827.2537313432836,
          833.68345323741,
          373.5953488372093,
          494.83088235294116,
          1514.2201834862385,
          438.4846153846154,
          977.7469135802469,
          762.6220930232558,
          703.1624365482234,
          2526.9602649006624,
          2000.2758620689656,
          1202.189349112426,
          837.7823529411764,
          1758.6748466257668,
          3077.8212290502793,
          3451.9166666666665,
          1038.0172413793102,
          3633.796178343949,
          1796.9891891891891,
          2080.3024691358023,
          1202.6845637583892,
          717.0909090909091,
          2792.929292929293,
          1367.8434782608695,
          922.8317757009346,
          1050.8333333333333,
          3826,
          1876.25,
          799.9056603773585,
          726.1607142857143,
          1975.1078431372548,
          2459.2523364485983,
          3526.4789915966385,
          808.1308411214953,
          1505.351851851852,
          5241.616161616162,
          1622.8865979381444,
          1183.3263157894737,
          1537,
          1077.4698795180723,
          1061.090909090909,
          765.5,
          5290.909090909091,
          3388.3928571428573,
          1154.642857142857,
          1632.4324324324325,
          1380.379746835443,
          1170.7692307692307,
          1015.6,
          2258.029197080292,
          1485.3731343283582,
          3903.5064935064934,
          843.1333333333333,
          530,
          1387.9807692307693,
          2736.3120567375886,
          3281.1184210526317,
          970.3092783505155,
          3310.625,
          2019.8581560283687,
          2046.7592592592594,
          1639.5192307692307,
          12451.034482758621,
          3931.6666666666665,
          1557.2972972972973,
          1189.878787878788,
          2785.793103448276,
          1503.28,
          1234.020618556701,
          2132.375,
          2574.2302631578946,
          1793.119266055046,
          2141.5555555555557,
          4915.1509433962265,
          5194.37125748503,
          1764.1904761904761,
          2586.3513513513512,
          2335
         ],
         "y0": " ",
         "yaxis": "y"
        },
        {
         "alignmentgroup": "True",
         "hovertemplate": "commodity=Wheat<br>year=%{x}<br>value=%{y}<extra></extra>",
         "legendgroup": "Wheat",
         "marker": {
          "color": "#FFA15A"
         },
         "name": "Wheat",
         "notched": false,
         "offsetgroup": "Wheat",
         "orientation": "v",
         "showlegend": true,
         "type": "box",
         "x": [
          "2014",
          "2014",
          "2014",
          "2014",
          "2015",
          "2015",
          "2015",
          "2015",
          "2015",
          "2015",
          "2015",
          "2015",
          "2015",
          "2015",
          "2015",
          "2015",
          "2016",
          "2016",
          "2016",
          "2016",
          "2017",
          "2014",
          "2014",
          "2014",
          "2014",
          "2015",
          "2015",
          "2015",
          "2015",
          "2015",
          "2015",
          "2015",
          "2015",
          "2015",
          "2015",
          "2015",
          "2015",
          "2016",
          "2016",
          "2016",
          "2016",
          "2017",
          "2014",
          "2014",
          "2014",
          "2014",
          "2015",
          "2015",
          "2015",
          "2015",
          "2015",
          "2015",
          "2015",
          "2015",
          "2015",
          "2015",
          "2015",
          "2015",
          "2016",
          "2016",
          "2016",
          "2016",
          "2017"
         ],
         "x0": " ",
         "xaxis": "x",
         "y": [
          2196.6666666666665,
          2200,
          2248.2758620689656,
          2200,
          2125.925925925926,
          2196.6666666666665,
          2842,
          2200,
          2200,
          2193.548387096774,
          2150,
          2189.285714285714,
          2200,
          2518.181818181818,
          2473.3333333333335,
          2329.032258064516,
          1969,
          2000,
          2500,
          2000,
          3100,
          2096.6666666666665,
          2100,
          2148.2758620689656,
          2100,
          2025.9259259259259,
          2096.6666666666665,
          2700,
          2100,
          2100,
          2093.548387096774,
          2050,
          2089.285714285714,
          2100,
          2418.181818181818,
          2373.3333333333335,
          2229.032258064516,
          1800,
          1950,
          2400,
          1900,
          3000,
          2296.6666666666665,
          2300,
          2348.2758620689656,
          2300,
          2225.925925925926,
          2296.6666666666665,
          2900,
          2300,
          2300,
          2293.548387096774,
          2250,
          2289.285714285714,
          2300,
          2618.181818181818,
          2576.6666666666665,
          2429.032258064516,
          2000,
          2200,
          2600,
          2100,
          3200
         ],
         "y0": " ",
         "yaxis": "y"
        },
        {
         "alignmentgroup": "True",
         "hovertemplate": "commodity=Gur(Jaggery)<br>year=%{x}<br>value=%{y}<extra></extra>",
         "legendgroup": "Gur(Jaggery)",
         "marker": {
          "color": "#19d3f3"
         },
         "name": "Gur(Jaggery)",
         "notched": false,
         "offsetgroup": "Gur(Jaggery)",
         "orientation": "v",
         "showlegend": true,
         "type": "box",
         "x": [
          "2014",
          "2014",
          "2014",
          "2015",
          "2015",
          "2015",
          "2015",
          "2015",
          "2015",
          "2015",
          "2015",
          "2015",
          "2015",
          "2016",
          "2016",
          "2016",
          "2016",
          "2016",
          "2016",
          "2016",
          "2016",
          "2016",
          "2016",
          "2016",
          "2016",
          "2017",
          "2017",
          "2017",
          "2017",
          "2017",
          "2017",
          "2017",
          "2017",
          "2017",
          "2017",
          "2017",
          "2017",
          "2018",
          "2018",
          "2018",
          "2018",
          "2018",
          "2018",
          "2018",
          "2018",
          "2019",
          "2019",
          "2019",
          "2019",
          "2019",
          "2019",
          "2019",
          "2019",
          "2019",
          "2019",
          "2019",
          "2019",
          "2020",
          "2020",
          "2020",
          "2020",
          "2020",
          "2020",
          "2020",
          "2020",
          "2020",
          "2020",
          "2020",
          "2020",
          "2021",
          "2021",
          "2021",
          "2021",
          "2021",
          "2021",
          "2021",
          "2021",
          "2021",
          "2021",
          "2021",
          "2021",
          "2022",
          "2022",
          "2022",
          "2022",
          "2022",
          "2022",
          "2022",
          "2022",
          "2022",
          "2022",
          "2022",
          "2022",
          "2023",
          "2023",
          "2023",
          "2023",
          "2023",
          "2023",
          "2023",
          "2023",
          "2023",
          "2023",
          "2023",
          "2023",
          "2024",
          "2024",
          "2024",
          "2024",
          "2024",
          "2024",
          "2024",
          "2024",
          "2014",
          "2014",
          "2014",
          "2015",
          "2015",
          "2015",
          "2015",
          "2015",
          "2015",
          "2015",
          "2015",
          "2015",
          "2015",
          "2016",
          "2016",
          "2016",
          "2016",
          "2016",
          "2016",
          "2016",
          "2016",
          "2016",
          "2016",
          "2016",
          "2016",
          "2017",
          "2017",
          "2017",
          "2017",
          "2017",
          "2017",
          "2017",
          "2017",
          "2017",
          "2017",
          "2017",
          "2017",
          "2018",
          "2018",
          "2018",
          "2018",
          "2018",
          "2018",
          "2018",
          "2018",
          "2019",
          "2019",
          "2019",
          "2019",
          "2019",
          "2019",
          "2019",
          "2019",
          "2019",
          "2019",
          "2019",
          "2019",
          "2020",
          "2020",
          "2020",
          "2020",
          "2020",
          "2020",
          "2020",
          "2020",
          "2020",
          "2020",
          "2020",
          "2020",
          "2021",
          "2021",
          "2021",
          "2021",
          "2021",
          "2021",
          "2021",
          "2021",
          "2021",
          "2021",
          "2021",
          "2021",
          "2022",
          "2022",
          "2022",
          "2022",
          "2022",
          "2022",
          "2022",
          "2022",
          "2022",
          "2022",
          "2022",
          "2022",
          "2023",
          "2023",
          "2023",
          "2023",
          "2023",
          "2023",
          "2023",
          "2023",
          "2023",
          "2023",
          "2023",
          "2023",
          "2024",
          "2024",
          "2024",
          "2024",
          "2024",
          "2024",
          "2024",
          "2024",
          "2014",
          "2014",
          "2014",
          "2015",
          "2015",
          "2015",
          "2015",
          "2015",
          "2015",
          "2015",
          "2015",
          "2015",
          "2015",
          "2016",
          "2016",
          "2016",
          "2016",
          "2016",
          "2016",
          "2016",
          "2016",
          "2016",
          "2016",
          "2016",
          "2016",
          "2017",
          "2017",
          "2017",
          "2017",
          "2017",
          "2017",
          "2017",
          "2017",
          "2017",
          "2017",
          "2017",
          "2017",
          "2018",
          "2018",
          "2018",
          "2018",
          "2018",
          "2018",
          "2018",
          "2018",
          "2019",
          "2019",
          "2019",
          "2019",
          "2019",
          "2019",
          "2019",
          "2019",
          "2019",
          "2019",
          "2019",
          "2019",
          "2020",
          "2020",
          "2020",
          "2020",
          "2020",
          "2020",
          "2020",
          "2020",
          "2020",
          "2020",
          "2020",
          "2020",
          "2021",
          "2021",
          "2021",
          "2021",
          "2021",
          "2021",
          "2021",
          "2021",
          "2021",
          "2021",
          "2021",
          "2021",
          "2022",
          "2022",
          "2022",
          "2022",
          "2022",
          "2022",
          "2022",
          "2022",
          "2022",
          "2022",
          "2022",
          "2022",
          "2023",
          "2023",
          "2023",
          "2023",
          "2023",
          "2023",
          "2023",
          "2023",
          "2023",
          "2023",
          "2023",
          "2023",
          "2024",
          "2024",
          "2024",
          "2024",
          "2024",
          "2024",
          "2024",
          "2024"
         ],
         "x0": " ",
         "xaxis": "x",
         "y": [
          2069.5652173913045,
          2293.75,
          2730.1015625,
          2267.5914634146343,
          2268.3086419753085,
          2385.2259615384614,
          2235.225165562914,
          2368.957219251337,
          2600,
          2323.3483870967743,
          2369.779220779221,
          2322.0338983050847,
          2329.5176470588235,
          2535.75,
          2879.323529411765,
          2744.1736526946106,
          2466.0955056179773,
          2373.435483870968,
          2583.638655462185,
          2807.7867647058824,
          2492.4,
          2745.6917808219177,
          2698.030303030303,
          2936.3488372093025,
          2977.373134328358,
          3214.8230088495575,
          2895.1171875,
          2678.326797385621,
          3393.431654676259,
          2847.9117647058824,
          2967.9565217391305,
          3154.9489795918366,
          3379.936046511628,
          3281.6491228070176,
          2624.516666666667,
          2833.7265625,
          2841.624060150376,
          2928.6206896551726,
          2733.5128205128203,
          2714.4907975460123,
          2690.2901234567903,
          2962.3,
          2708.059405940594,
          2803.8,
          3128.6666666666665,
          3054.40350877193,
          3223.015625,
          2867.32183908046,
          2600.710144927536,
          2796.8245614035086,
          2975.5945945945946,
          3307.9692307692308,
          2672.8985507246375,
          3348.347222222222,
          3053.417910447761,
          3542.653333333333,
          3410.1746031746034,
          3575.3125,
          3975.753424657534,
          3617.964285714286,
          3294.973214285714,
          3075.057471264368,
          3993.1632653061224,
          3885.744680851064,
          3212.717391304348,
          3896.6666666666665,
          3743.904761904762,
          4012.455882352941,
          3860.93,
          3425.85,
          3515.2380952380954,
          3520.3956834532373,
          3367.841584158416,
          3371.0882352941176,
          3558.1451612903224,
          3453.469387755102,
          3375.3846153846152,
          3556.9117647058824,
          3732.6576576576576,
          3623.9814814814813,
          3478.782608695652,
          3076.086956521739,
          3349.314516129032,
          3167.8076923076924,
          3126.3076923076924,
          3359.1326530612246,
          3291.509433962264,
          3231.4529914529912,
          2998.0152671755727,
          3129.9122807017543,
          3278.901785714286,
          3554.8598130841124,
          3411.9172932330825,
          3609.956896551724,
          3831.8691588785045,
          3883.6516853932585,
          3384.7619047619046,
          3308.590909090909,
          3620.625,
          3635.8552631578946,
          3371.1304347826085,
          3848.1932773109243,
          3636.3297872340427,
          3823.39,
          3868.404255319149,
          3630.25641025641,
          3779.6629213483147,
          3518.7264150943397,
          3668.2022471910113,
          3785,
          4022.1938775510203,
          3554.950980392157,
          3931.9148936170213,
          1595.6521739130435,
          2023.4375,
          2535.4296875,
          2145.451219512195,
          2115.9876543209875,
          2255.269230769231,
          2086.2847682119204,
          2239.7165775401068,
          2600,
          2186.3870967741937,
          2225.3246753246754,
          2191.723163841808,
          2179.5588235294117,
          2157.5757575757575,
          2623.3088235294117,
          2492.131736526946,
          2324.0393258426966,
          2212.1236559139784,
          2415,
          2565.2573529411766,
          2330.133333333333,
          2408.4520547945203,
          2377.121212121212,
          2640.3488372093025,
          2652.0597014925374,
          2859.5132743362833,
          2588.671875,
          2431.2091503267975,
          3087.1942446043167,
          2540.294117647059,
          2715.086956521739,
          2800.3571428571427,
          3028.0232558139537,
          2858.2017543859647,
          2297.875,
          2507.3984375,
          2554.3984962406016,
          2818.7586206896553,
          2564.102564102564,
          2480.674846625767,
          2488.746913580247,
          2834.35,
          2486.6831683168316,
          2617.5833333333335,
          2999.3333333333335,
          2827.8070175438597,
          3063.59375,
          2780.735632183908,
          2441.014492753623,
          2639.122807017544,
          2907.162162162162,
          3174.6923076923076,
          2519.4927536231885,
          3089.7916666666665,
          2917.813432835821,
          3283.08,
          3164.5238095238096,
          3416.25,
          3922.6027397260273,
          3493.095238095238,
          3177.6696428571427,
          2995.402298850575,
          3927.7551020408164,
          3844.468085106383,
          3107.608695652174,
          3784.1666666666665,
          3593.714285714286,
          3909.705882352941,
          3729.1,
          3296.7,
          3449.3650793650795,
          3399.7122302158273,
          3271.5841584158416,
          3272.1176470588234,
          3533.2258064516127,
          3352.6530612244896,
          3291.1452991452993,
          3516.764705882353,
          3513.6036036036035,
          3458.240740740741,
          3366.695652173913,
          2945.217391304348,
          3236.3709677419356,
          2991.4615384615386,
          2921.846153846154,
          3216.326530612245,
          3158.9622641509436,
          3024.7863247863247,
          2883.8167938931297,
          2969.035087719298,
          3035.3125,
          3302.803738317757,
          3265.0375939849623,
          3433.103448275862,
          3710.9345794392525,
          3681.2921348314608,
          3167.3809523809523,
          3120.5454545454545,
          3530.1785714285716,
          3501.4473684210525,
          3212.1739130434785,
          3677.1428571428573,
          3400.425531914894,
          3653.4,
          3743.5106382978724,
          3376.5384615384614,
          3573.14606741573,
          3326.4150943396226,
          3418.0898876404494,
          3619.5890410958905,
          3793.469387755102,
          3332.450980392157,
          3632.2340425531916,
          2086.9565217391305,
          2405.6875,
          2824.28125,
          2332.25,
          2390.685185185185,
          2468.408653846154,
          2357.5033112582782,
          2462.2139037433153,
          2700,
          2378.4129032258065,
          2419.1428571428573,
          2502.587570621469,
          2401.470588235294,
          2707.537878787879,
          2990.5882352941176,
          2915.329341317365,
          2527.4044943820227,
          2441.935483870968,
          2614.3949579831933,
          2942.6470588235293,
          2561.551515151515,
          2915.753424657534,
          2877.121212121212,
          3091.9767441860463,
          3124.7388059701493,
          3538.3185840707965,
          3022.6953125,
          2808.7843137254904,
          3507.2302158273383,
          2976.654411764706,
          3020.1304347826085,
          3178.7244897959185,
          3510.406976744186,
          3476.8859649122805,
          2813,
          3072.734375,
          3036.7894736842104,
          2966.0689655172414,
          2795.25641025641,
          2849.674846625767,
          2776.0864197530864,
          2994.55,
          2833.70297029703,
          2987.6666666666665,
          3258,
          3283.59649122807,
          3381.484375,
          2966.9540229885056,
          2756.449275362319,
          2951.842105263158,
          3048.9189189189187,
          3437.769230769231,
          2832.31884057971,
          3604.097222222222,
          3214.0373134328356,
          3806.1066666666666,
          3655.7936507936506,
          3817,
          4131.643835616438,
          3820.2261904761904,
          3383.473214285714,
          3213.735632183908,
          4189.183673469388,
          4106.808510638298,
          3309.021739130435,
          4152.1875,
          3901.809523809524,
          4159.338235294118,
          4015.75,
          3616,
          3554.126984126984,
          3671.294964028777,
          3481.8811881188117,
          3545.3529411764707,
          3592.7419354838707,
          3701.2244897959185,
          3481.025641025641,
          3941.176470588235,
          3932.7927927927926,
          3793.425925925926,
          3577.5652173913045,
          3233.0434782608695,
          3482.4193548387098,
          3307.153846153846,
          3253.076923076923,
          3486.6326530612246,
          3405.188679245283,
          3451.7948717948716,
          3150.381679389313,
          3296.9298245614036,
          3393.9285714285716,
          3710.654205607477,
          3536.9924812030076,
          3728.189655172414,
          3911.588785046729,
          4008.483146067416,
          3500.5555555555557,
          3403,
          3695,
          3718.9473684210525,
          3493.808695652174,
          4003.27731092437,
          3816.9148936170213,
          3963,
          3941.191489361702,
          3825,
          3894.044943820225,
          3705.377358490566,
          3810.449438202247,
          3866.849315068493,
          4158.061224489796,
          3741.2450980392155,
          4148.617021276596
         ],
         "y0": " ",
         "yaxis": "y"
        },
        {
         "alignmentgroup": "True",
         "hovertemplate": "commodity=Masur Dal<br>year=%{x}<br>value=%{y}<extra></extra>",
         "legendgroup": "Masur Dal",
         "marker": {
          "color": "#FF6692"
         },
         "name": "Masur Dal",
         "notched": false,
         "offsetgroup": "Masur Dal",
         "orientation": "v",
         "showlegend": true,
         "type": "box",
         "x": [
          "2015",
          "2015",
          "2015"
         ],
         "x0": " ",
         "xaxis": "x",
         "y": [
          6068,
          5900,
          6100
         ],
         "y0": " ",
         "yaxis": "y"
        },
        {
         "alignmentgroup": "True",
         "hovertemplate": "commodity=Green Gram Dal (Moong Dal)<br>year=%{x}<br>value=%{y}<extra></extra>",
         "legendgroup": "Green Gram Dal (Moong Dal)",
         "marker": {
          "color": "#B6E880"
         },
         "name": "Green Gram Dal (Moong Dal)",
         "notched": false,
         "offsetgroup": "Green Gram Dal (Moong Dal)",
         "orientation": "v",
         "showlegend": true,
         "type": "box",
         "x": [
          "2015",
          "2015",
          "2015"
         ],
         "x0": " ",
         "xaxis": "x",
         "y": [
          3400,
          3400,
          3400
         ],
         "y0": " ",
         "yaxis": "y"
        },
        {
         "alignmentgroup": "True",
         "hovertemplate": "commodity=Bengal Gram Dal (Chana Dal)<br>year=%{x}<br>value=%{y}<extra></extra>",
         "legendgroup": "Bengal Gram Dal (Chana Dal)",
         "marker": {
          "color": "#FF97FF"
         },
         "name": "Bengal Gram Dal (Chana Dal)",
         "notched": false,
         "offsetgroup": "Bengal Gram Dal (Chana Dal)",
         "orientation": "v",
         "showlegend": true,
         "type": "box",
         "x": [
          "2016",
          "2016",
          "2016",
          "2016",
          "2016",
          "2016",
          "2016",
          "2016",
          "2016",
          "2016",
          "2016",
          "2016"
         ],
         "x0": " ",
         "xaxis": "x",
         "y": [
          5900,
          4400,
          4900,
          8650,
          5800,
          4300,
          4900,
          8600,
          6000,
          4500,
          4900,
          8700
         ],
         "y0": " ",
         "yaxis": "y"
        },
        {
         "alignmentgroup": "True",
         "hovertemplate": "commodity=Arhar Dal(Tur Dal)<br>year=%{x}<br>value=%{y}<extra></extra>",
         "legendgroup": "Arhar Dal(Tur Dal)",
         "marker": {
          "color": "#FECB52"
         },
         "name": "Arhar Dal(Tur Dal)",
         "notched": false,
         "offsetgroup": "Arhar Dal(Tur Dal)",
         "orientation": "v",
         "showlegend": true,
         "type": "box",
         "x": [
          "2016",
          "2016",
          "2016"
         ],
         "x0": " ",
         "xaxis": "x",
         "y": [
          5000,
          4600,
          6000
         ],
         "y0": " ",
         "yaxis": "y"
        }
       ],
       "layout": {
        "boxmode": "group",
        "legend": {
         "title": {
          "text": "commodity"
         },
         "tracegroupgap": 0
        },
        "margin": {
         "t": 60
        },
        "template": {
         "data": {
          "bar": [
           {
            "error_x": {
             "color": "#2a3f5f"
            },
            "error_y": {
             "color": "#2a3f5f"
            },
            "marker": {
             "line": {
              "color": "#E5ECF6",
              "width": 0.5
             },
             "pattern": {
              "fillmode": "overlay",
              "size": 10,
              "solidity": 0.2
             }
            },
            "type": "bar"
           }
          ],
          "barpolar": [
           {
            "marker": {
             "line": {
              "color": "#E5ECF6",
              "width": 0.5
             },
             "pattern": {
              "fillmode": "overlay",
              "size": 10,
              "solidity": 0.2
             }
            },
            "type": "barpolar"
           }
          ],
          "carpet": [
           {
            "aaxis": {
             "endlinecolor": "#2a3f5f",
             "gridcolor": "white",
             "linecolor": "white",
             "minorgridcolor": "white",
             "startlinecolor": "#2a3f5f"
            },
            "baxis": {
             "endlinecolor": "#2a3f5f",
             "gridcolor": "white",
             "linecolor": "white",
             "minorgridcolor": "white",
             "startlinecolor": "#2a3f5f"
            },
            "type": "carpet"
           }
          ],
          "choropleth": [
           {
            "colorbar": {
             "outlinewidth": 0,
             "ticks": ""
            },
            "type": "choropleth"
           }
          ],
          "contour": [
           {
            "colorbar": {
             "outlinewidth": 0,
             "ticks": ""
            },
            "colorscale": [
             [
              0,
              "#0d0887"
             ],
             [
              0.1111111111111111,
              "#46039f"
             ],
             [
              0.2222222222222222,
              "#7201a8"
             ],
             [
              0.3333333333333333,
              "#9c179e"
             ],
             [
              0.4444444444444444,
              "#bd3786"
             ],
             [
              0.5555555555555556,
              "#d8576b"
             ],
             [
              0.6666666666666666,
              "#ed7953"
             ],
             [
              0.7777777777777778,
              "#fb9f3a"
             ],
             [
              0.8888888888888888,
              "#fdca26"
             ],
             [
              1,
              "#f0f921"
             ]
            ],
            "type": "contour"
           }
          ],
          "contourcarpet": [
           {
            "colorbar": {
             "outlinewidth": 0,
             "ticks": ""
            },
            "type": "contourcarpet"
           }
          ],
          "heatmap": [
           {
            "colorbar": {
             "outlinewidth": 0,
             "ticks": ""
            },
            "colorscale": [
             [
              0,
              "#0d0887"
             ],
             [
              0.1111111111111111,
              "#46039f"
             ],
             [
              0.2222222222222222,
              "#7201a8"
             ],
             [
              0.3333333333333333,
              "#9c179e"
             ],
             [
              0.4444444444444444,
              "#bd3786"
             ],
             [
              0.5555555555555556,
              "#d8576b"
             ],
             [
              0.6666666666666666,
              "#ed7953"
             ],
             [
              0.7777777777777778,
              "#fb9f3a"
             ],
             [
              0.8888888888888888,
              "#fdca26"
             ],
             [
              1,
              "#f0f921"
             ]
            ],
            "type": "heatmap"
           }
          ],
          "heatmapgl": [
           {
            "colorbar": {
             "outlinewidth": 0,
             "ticks": ""
            },
            "colorscale": [
             [
              0,
              "#0d0887"
             ],
             [
              0.1111111111111111,
              "#46039f"
             ],
             [
              0.2222222222222222,
              "#7201a8"
             ],
             [
              0.3333333333333333,
              "#9c179e"
             ],
             [
              0.4444444444444444,
              "#bd3786"
             ],
             [
              0.5555555555555556,
              "#d8576b"
             ],
             [
              0.6666666666666666,
              "#ed7953"
             ],
             [
              0.7777777777777778,
              "#fb9f3a"
             ],
             [
              0.8888888888888888,
              "#fdca26"
             ],
             [
              1,
              "#f0f921"
             ]
            ],
            "type": "heatmapgl"
           }
          ],
          "histogram": [
           {
            "marker": {
             "pattern": {
              "fillmode": "overlay",
              "size": 10,
              "solidity": 0.2
             }
            },
            "type": "histogram"
           }
          ],
          "histogram2d": [
           {
            "colorbar": {
             "outlinewidth": 0,
             "ticks": ""
            },
            "colorscale": [
             [
              0,
              "#0d0887"
             ],
             [
              0.1111111111111111,
              "#46039f"
             ],
             [
              0.2222222222222222,
              "#7201a8"
             ],
             [
              0.3333333333333333,
              "#9c179e"
             ],
             [
              0.4444444444444444,
              "#bd3786"
             ],
             [
              0.5555555555555556,
              "#d8576b"
             ],
             [
              0.6666666666666666,
              "#ed7953"
             ],
             [
              0.7777777777777778,
              "#fb9f3a"
             ],
             [
              0.8888888888888888,
              "#fdca26"
             ],
             [
              1,
              "#f0f921"
             ]
            ],
            "type": "histogram2d"
           }
          ],
          "histogram2dcontour": [
           {
            "colorbar": {
             "outlinewidth": 0,
             "ticks": ""
            },
            "colorscale": [
             [
              0,
              "#0d0887"
             ],
             [
              0.1111111111111111,
              "#46039f"
             ],
             [
              0.2222222222222222,
              "#7201a8"
             ],
             [
              0.3333333333333333,
              "#9c179e"
             ],
             [
              0.4444444444444444,
              "#bd3786"
             ],
             [
              0.5555555555555556,
              "#d8576b"
             ],
             [
              0.6666666666666666,
              "#ed7953"
             ],
             [
              0.7777777777777778,
              "#fb9f3a"
             ],
             [
              0.8888888888888888,
              "#fdca26"
             ],
             [
              1,
              "#f0f921"
             ]
            ],
            "type": "histogram2dcontour"
           }
          ],
          "mesh3d": [
           {
            "colorbar": {
             "outlinewidth": 0,
             "ticks": ""
            },
            "type": "mesh3d"
           }
          ],
          "parcoords": [
           {
            "line": {
             "colorbar": {
              "outlinewidth": 0,
              "ticks": ""
             }
            },
            "type": "parcoords"
           }
          ],
          "pie": [
           {
            "automargin": true,
            "type": "pie"
           }
          ],
          "scatter": [
           {
            "fillpattern": {
             "fillmode": "overlay",
             "size": 10,
             "solidity": 0.2
            },
            "type": "scatter"
           }
          ],
          "scatter3d": [
           {
            "line": {
             "colorbar": {
              "outlinewidth": 0,
              "ticks": ""
             }
            },
            "marker": {
             "colorbar": {
              "outlinewidth": 0,
              "ticks": ""
             }
            },
            "type": "scatter3d"
           }
          ],
          "scattercarpet": [
           {
            "marker": {
             "colorbar": {
              "outlinewidth": 0,
              "ticks": ""
             }
            },
            "type": "scattercarpet"
           }
          ],
          "scattergeo": [
           {
            "marker": {
             "colorbar": {
              "outlinewidth": 0,
              "ticks": ""
             }
            },
            "type": "scattergeo"
           }
          ],
          "scattergl": [
           {
            "marker": {
             "colorbar": {
              "outlinewidth": 0,
              "ticks": ""
             }
            },
            "type": "scattergl"
           }
          ],
          "scattermapbox": [
           {
            "marker": {
             "colorbar": {
              "outlinewidth": 0,
              "ticks": ""
             }
            },
            "type": "scattermapbox"
           }
          ],
          "scatterpolar": [
           {
            "marker": {
             "colorbar": {
              "outlinewidth": 0,
              "ticks": ""
             }
            },
            "type": "scatterpolar"
           }
          ],
          "scatterpolargl": [
           {
            "marker": {
             "colorbar": {
              "outlinewidth": 0,
              "ticks": ""
             }
            },
            "type": "scatterpolargl"
           }
          ],
          "scatterternary": [
           {
            "marker": {
             "colorbar": {
              "outlinewidth": 0,
              "ticks": ""
             }
            },
            "type": "scatterternary"
           }
          ],
          "surface": [
           {
            "colorbar": {
             "outlinewidth": 0,
             "ticks": ""
            },
            "colorscale": [
             [
              0,
              "#0d0887"
             ],
             [
              0.1111111111111111,
              "#46039f"
             ],
             [
              0.2222222222222222,
              "#7201a8"
             ],
             [
              0.3333333333333333,
              "#9c179e"
             ],
             [
              0.4444444444444444,
              "#bd3786"
             ],
             [
              0.5555555555555556,
              "#d8576b"
             ],
             [
              0.6666666666666666,
              "#ed7953"
             ],
             [
              0.7777777777777778,
              "#fb9f3a"
             ],
             [
              0.8888888888888888,
              "#fdca26"
             ],
             [
              1,
              "#f0f921"
             ]
            ],
            "type": "surface"
           }
          ],
          "table": [
           {
            "cells": {
             "fill": {
              "color": "#EBF0F8"
             },
             "line": {
              "color": "white"
             }
            },
            "header": {
             "fill": {
              "color": "#C8D4E3"
             },
             "line": {
              "color": "white"
             }
            },
            "type": "table"
           }
          ]
         },
         "layout": {
          "annotationdefaults": {
           "arrowcolor": "#2a3f5f",
           "arrowhead": 0,
           "arrowwidth": 1
          },
          "autotypenumbers": "strict",
          "coloraxis": {
           "colorbar": {
            "outlinewidth": 0,
            "ticks": ""
           }
          },
          "colorscale": {
           "diverging": [
            [
             0,
             "#8e0152"
            ],
            [
             0.1,
             "#c51b7d"
            ],
            [
             0.2,
             "#de77ae"
            ],
            [
             0.3,
             "#f1b6da"
            ],
            [
             0.4,
             "#fde0ef"
            ],
            [
             0.5,
             "#f7f7f7"
            ],
            [
             0.6,
             "#e6f5d0"
            ],
            [
             0.7,
             "#b8e186"
            ],
            [
             0.8,
             "#7fbc41"
            ],
            [
             0.9,
             "#4d9221"
            ],
            [
             1,
             "#276419"
            ]
           ],
           "sequential": [
            [
             0,
             "#0d0887"
            ],
            [
             0.1111111111111111,
             "#46039f"
            ],
            [
             0.2222222222222222,
             "#7201a8"
            ],
            [
             0.3333333333333333,
             "#9c179e"
            ],
            [
             0.4444444444444444,
             "#bd3786"
            ],
            [
             0.5555555555555556,
             "#d8576b"
            ],
            [
             0.6666666666666666,
             "#ed7953"
            ],
            [
             0.7777777777777778,
             "#fb9f3a"
            ],
            [
             0.8888888888888888,
             "#fdca26"
            ],
            [
             1,
             "#f0f921"
            ]
           ],
           "sequentialminus": [
            [
             0,
             "#0d0887"
            ],
            [
             0.1111111111111111,
             "#46039f"
            ],
            [
             0.2222222222222222,
             "#7201a8"
            ],
            [
             0.3333333333333333,
             "#9c179e"
            ],
            [
             0.4444444444444444,
             "#bd3786"
            ],
            [
             0.5555555555555556,
             "#d8576b"
            ],
            [
             0.6666666666666666,
             "#ed7953"
            ],
            [
             0.7777777777777778,
             "#fb9f3a"
            ],
            [
             0.8888888888888888,
             "#fdca26"
            ],
            [
             1,
             "#f0f921"
            ]
           ]
          },
          "colorway": [
           "#636efa",
           "#EF553B",
           "#00cc96",
           "#ab63fa",
           "#FFA15A",
           "#19d3f3",
           "#FF6692",
           "#B6E880",
           "#FF97FF",
           "#FECB52"
          ],
          "font": {
           "color": "#2a3f5f"
          },
          "geo": {
           "bgcolor": "white",
           "lakecolor": "white",
           "landcolor": "#E5ECF6",
           "showlakes": true,
           "showland": true,
           "subunitcolor": "white"
          },
          "hoverlabel": {
           "align": "left"
          },
          "hovermode": "closest",
          "mapbox": {
           "style": "light"
          },
          "paper_bgcolor": "white",
          "plot_bgcolor": "#E5ECF6",
          "polar": {
           "angularaxis": {
            "gridcolor": "white",
            "linecolor": "white",
            "ticks": ""
           },
           "bgcolor": "#E5ECF6",
           "radialaxis": {
            "gridcolor": "white",
            "linecolor": "white",
            "ticks": ""
           }
          },
          "scene": {
           "xaxis": {
            "backgroundcolor": "#E5ECF6",
            "gridcolor": "white",
            "gridwidth": 2,
            "linecolor": "white",
            "showbackground": true,
            "ticks": "",
            "zerolinecolor": "white"
           },
           "yaxis": {
            "backgroundcolor": "#E5ECF6",
            "gridcolor": "white",
            "gridwidth": 2,
            "linecolor": "white",
            "showbackground": true,
            "ticks": "",
            "zerolinecolor": "white"
           },
           "zaxis": {
            "backgroundcolor": "#E5ECF6",
            "gridcolor": "white",
            "gridwidth": 2,
            "linecolor": "white",
            "showbackground": true,
            "ticks": "",
            "zerolinecolor": "white"
           }
          },
          "shapedefaults": {
           "line": {
            "color": "#2a3f5f"
           }
          },
          "ternary": {
           "aaxis": {
            "gridcolor": "white",
            "linecolor": "white",
            "ticks": ""
           },
           "baxis": {
            "gridcolor": "white",
            "linecolor": "white",
            "ticks": ""
           },
           "bgcolor": "#E5ECF6",
           "caxis": {
            "gridcolor": "white",
            "linecolor": "white",
            "ticks": ""
           }
          },
          "title": {
           "x": 0.05
          },
          "xaxis": {
           "automargin": true,
           "gridcolor": "white",
           "linecolor": "white",
           "ticks": "",
           "title": {
            "standoff": 15
           },
           "zerolinecolor": "white",
           "zerolinewidth": 2
          },
          "yaxis": {
           "automargin": true,
           "gridcolor": "white",
           "linecolor": "white",
           "ticks": "",
           "title": {
            "standoff": 15
           },
           "zerolinecolor": "white",
           "zerolinewidth": 2
          }
         }
        },
        "xaxis": {
         "anchor": "y",
         "domain": [
          0,
          1
         ],
         "title": {
          "text": "year"
         }
        },
        "yaxis": {
         "anchor": "x",
         "domain": [
          0,
          1
         ],
         "title": {
          "text": "value"
         }
        }
       }
      }
     },
     "metadata": {},
     "output_type": "display_data"
    }
   ],
   "source": [
    "px.box(\n",
    "    data_frame=andhra_yearly,\n",
    "    x=andhra_yearly[\"year\"],\n",
    "    y=[\n",
    "        andhra_yearly[\"modal_rs_quintal\"],\n",
    "        andhra_yearly[\"min_rs_quintal\"],\n",
    "        andhra_yearly[\"max_rs_quintal\"],\n",
    "    ],\n",
    "    color=andhra_yearly[\"commodity\"],\n",
    "    hover_data=\"month\",\n",
    ")"
   ]
  },
  {
   "cell_type": "code",
   "execution_count": 41,
   "metadata": {},
   "outputs": [
    {
     "data": {
      "application/vnd.plotly.v1+json": {
       "config": {
        "plotlyServerURL": "https://plot.ly"
       },
       "data": [
        {
         "alignmentgroup": "True",
         "customdata": [
          [
           "Dec"
          ],
          [
           "Nov"
          ],
          [
           "Oct"
          ],
          [
           "Sep"
          ],
          [
           "Apr"
          ],
          [
           "Aug"
          ],
          [
           "Dec"
          ],
          [
           "Feb"
          ],
          [
           "Jan"
          ],
          [
           "Jul"
          ],
          [
           "Jun"
          ],
          [
           "Mar"
          ],
          [
           "May"
          ],
          [
           "Nov"
          ],
          [
           "Oct"
          ],
          [
           "Sep"
          ],
          [
           "Apr"
          ],
          [
           "Aug"
          ],
          [
           "Dec"
          ],
          [
           "Feb"
          ],
          [
           "Jan"
          ],
          [
           "Jul"
          ],
          [
           "Jun"
          ],
          [
           "Mar"
          ],
          [
           "May"
          ],
          [
           "Nov"
          ],
          [
           "Oct"
          ],
          [
           "Sep"
          ],
          [
           "Apr"
          ],
          [
           "Aug"
          ],
          [
           "Dec"
          ],
          [
           "Feb"
          ],
          [
           "Jan"
          ],
          [
           "Jul"
          ],
          [
           "Jun"
          ],
          [
           "Mar"
          ],
          [
           "May"
          ],
          [
           "Nov"
          ],
          [
           "Oct"
          ],
          [
           "Sep"
          ],
          [
           "Apr"
          ],
          [
           "Aug"
          ],
          [
           "Dec"
          ],
          [
           "Feb"
          ],
          [
           "Jan"
          ],
          [
           "Jul"
          ],
          [
           "Jun"
          ],
          [
           "Mar"
          ],
          [
           "May"
          ],
          [
           "Nov"
          ],
          [
           "Oct"
          ],
          [
           "Sep"
          ],
          [
           "Apr"
          ],
          [
           "Aug"
          ],
          [
           "Dec"
          ],
          [
           "Feb"
          ],
          [
           "Jan"
          ],
          [
           "Jul"
          ],
          [
           "Jun"
          ],
          [
           "Mar"
          ],
          [
           "May"
          ],
          [
           "Nov"
          ],
          [
           "Oct"
          ],
          [
           "Sep"
          ],
          [
           "Apr"
          ],
          [
           "Aug"
          ],
          [
           "Dec"
          ],
          [
           "Feb"
          ],
          [
           "Jan"
          ],
          [
           "Jul"
          ],
          [
           "Jun"
          ],
          [
           "Mar"
          ],
          [
           "May"
          ],
          [
           "Nov"
          ],
          [
           "Oct"
          ],
          [
           "Sep"
          ],
          [
           "Apr"
          ],
          [
           "Aug"
          ],
          [
           "Dec"
          ],
          [
           "Feb"
          ],
          [
           "Jan"
          ],
          [
           "Jul"
          ],
          [
           "Jun"
          ],
          [
           "Mar"
          ],
          [
           "May"
          ],
          [
           "Nov"
          ],
          [
           "Oct"
          ],
          [
           "Sep"
          ],
          [
           "Apr"
          ],
          [
           "Aug"
          ],
          [
           "Dec"
          ],
          [
           "Feb"
          ],
          [
           "Jan"
          ],
          [
           "Jul"
          ],
          [
           "Jun"
          ],
          [
           "Mar"
          ],
          [
           "May"
          ],
          [
           "Nov"
          ],
          [
           "Oct"
          ],
          [
           "Sep"
          ],
          [
           "Apr"
          ],
          [
           "Aug"
          ],
          [
           "Dec"
          ],
          [
           "Feb"
          ],
          [
           "Jan"
          ],
          [
           "Jul"
          ],
          [
           "Jun"
          ],
          [
           "Mar"
          ],
          [
           "May"
          ],
          [
           "Nov"
          ],
          [
           "Oct"
          ],
          [
           "Sep"
          ],
          [
           "Apr"
          ],
          [
           "Aug"
          ],
          [
           "Feb"
          ],
          [
           "Jan"
          ],
          [
           "Jul"
          ],
          [
           "Jun"
          ],
          [
           "Mar"
          ],
          [
           "May"
          ],
          [
           "Sep"
          ],
          [
           "Dec"
          ],
          [
           "Nov"
          ],
          [
           "Oct"
          ],
          [
           "Sep"
          ],
          [
           "Apr"
          ],
          [
           "Aug"
          ],
          [
           "Dec"
          ],
          [
           "Feb"
          ],
          [
           "Jan"
          ],
          [
           "Jul"
          ],
          [
           "Jun"
          ],
          [
           "Mar"
          ],
          [
           "May"
          ],
          [
           "Nov"
          ],
          [
           "Oct"
          ],
          [
           "Sep"
          ],
          [
           "Apr"
          ],
          [
           "Aug"
          ],
          [
           "Dec"
          ],
          [
           "Feb"
          ],
          [
           "Jan"
          ],
          [
           "Jul"
          ],
          [
           "Jun"
          ],
          [
           "Mar"
          ],
          [
           "May"
          ],
          [
           "Nov"
          ],
          [
           "Oct"
          ],
          [
           "Sep"
          ],
          [
           "Apr"
          ],
          [
           "Aug"
          ],
          [
           "Dec"
          ],
          [
           "Feb"
          ],
          [
           "Jan"
          ],
          [
           "Jul"
          ],
          [
           "Jun"
          ],
          [
           "Mar"
          ],
          [
           "May"
          ],
          [
           "Nov"
          ],
          [
           "Oct"
          ],
          [
           "Sep"
          ],
          [
           "Apr"
          ],
          [
           "Aug"
          ],
          [
           "Dec"
          ],
          [
           "Feb"
          ],
          [
           "Jan"
          ],
          [
           "Jul"
          ],
          [
           "Jun"
          ],
          [
           "Mar"
          ],
          [
           "May"
          ],
          [
           "Nov"
          ],
          [
           "Oct"
          ],
          [
           "Sep"
          ],
          [
           "Apr"
          ],
          [
           "Aug"
          ],
          [
           "Dec"
          ],
          [
           "Feb"
          ],
          [
           "Jan"
          ],
          [
           "Jul"
          ],
          [
           "Jun"
          ],
          [
           "Mar"
          ],
          [
           "May"
          ],
          [
           "Nov"
          ],
          [
           "Oct"
          ],
          [
           "Sep"
          ],
          [
           "Apr"
          ],
          [
           "Aug"
          ],
          [
           "Dec"
          ],
          [
           "Feb"
          ],
          [
           "Jan"
          ],
          [
           "Jul"
          ],
          [
           "Jun"
          ],
          [
           "Mar"
          ],
          [
           "May"
          ],
          [
           "Nov"
          ],
          [
           "Oct"
          ],
          [
           "Sep"
          ],
          [
           "Apr"
          ],
          [
           "Aug"
          ],
          [
           "Dec"
          ],
          [
           "Feb"
          ],
          [
           "Jan"
          ],
          [
           "Jul"
          ],
          [
           "Jun"
          ],
          [
           "Mar"
          ],
          [
           "May"
          ],
          [
           "Nov"
          ],
          [
           "Oct"
          ],
          [
           "Sep"
          ],
          [
           "Apr"
          ],
          [
           "Aug"
          ],
          [
           "Dec"
          ],
          [
           "Feb"
          ],
          [
           "Jan"
          ],
          [
           "Jul"
          ],
          [
           "Jun"
          ],
          [
           "Mar"
          ],
          [
           "May"
          ],
          [
           "Nov"
          ],
          [
           "Oct"
          ],
          [
           "Sep"
          ],
          [
           "Apr"
          ],
          [
           "Aug"
          ],
          [
           "Dec"
          ],
          [
           "Feb"
          ],
          [
           "Jan"
          ],
          [
           "Jul"
          ],
          [
           "Jun"
          ],
          [
           "Mar"
          ],
          [
           "May"
          ],
          [
           "Nov"
          ],
          [
           "Oct"
          ],
          [
           "Sep"
          ],
          [
           "Apr"
          ],
          [
           "Aug"
          ],
          [
           "Feb"
          ],
          [
           "Jan"
          ],
          [
           "Jul"
          ],
          [
           "Jun"
          ],
          [
           "Mar"
          ],
          [
           "May"
          ],
          [
           "Sep"
          ],
          [
           "Dec"
          ],
          [
           "Nov"
          ],
          [
           "Oct"
          ],
          [
           "Sep"
          ],
          [
           "Apr"
          ],
          [
           "Aug"
          ],
          [
           "Dec"
          ],
          [
           "Feb"
          ],
          [
           "Jan"
          ],
          [
           "Jul"
          ],
          [
           "Jun"
          ],
          [
           "Mar"
          ],
          [
           "May"
          ],
          [
           "Nov"
          ],
          [
           "Oct"
          ],
          [
           "Sep"
          ],
          [
           "Apr"
          ],
          [
           "Aug"
          ],
          [
           "Dec"
          ],
          [
           "Feb"
          ],
          [
           "Jan"
          ],
          [
           "Jul"
          ],
          [
           "Jun"
          ],
          [
           "Mar"
          ],
          [
           "May"
          ],
          [
           "Nov"
          ],
          [
           "Oct"
          ],
          [
           "Sep"
          ],
          [
           "Apr"
          ],
          [
           "Aug"
          ],
          [
           "Dec"
          ],
          [
           "Feb"
          ],
          [
           "Jan"
          ],
          [
           "Jul"
          ],
          [
           "Jun"
          ],
          [
           "Mar"
          ],
          [
           "May"
          ],
          [
           "Nov"
          ],
          [
           "Oct"
          ],
          [
           "Sep"
          ],
          [
           "Apr"
          ],
          [
           "Aug"
          ],
          [
           "Dec"
          ],
          [
           "Feb"
          ],
          [
           "Jan"
          ],
          [
           "Jul"
          ],
          [
           "Jun"
          ],
          [
           "Mar"
          ],
          [
           "May"
          ],
          [
           "Nov"
          ],
          [
           "Oct"
          ],
          [
           "Sep"
          ],
          [
           "Apr"
          ],
          [
           "Aug"
          ],
          [
           "Dec"
          ],
          [
           "Feb"
          ],
          [
           "Jan"
          ],
          [
           "Jul"
          ],
          [
           "Jun"
          ],
          [
           "Mar"
          ],
          [
           "May"
          ],
          [
           "Nov"
          ],
          [
           "Oct"
          ],
          [
           "Sep"
          ],
          [
           "Apr"
          ],
          [
           "Aug"
          ],
          [
           "Dec"
          ],
          [
           "Feb"
          ],
          [
           "Jan"
          ],
          [
           "Jul"
          ],
          [
           "Jun"
          ],
          [
           "Mar"
          ],
          [
           "May"
          ],
          [
           "Nov"
          ],
          [
           "Oct"
          ],
          [
           "Sep"
          ],
          [
           "Apr"
          ],
          [
           "Aug"
          ],
          [
           "Dec"
          ],
          [
           "Feb"
          ],
          [
           "Jan"
          ],
          [
           "Jul"
          ],
          [
           "Jun"
          ],
          [
           "Mar"
          ],
          [
           "May"
          ],
          [
           "Nov"
          ],
          [
           "Oct"
          ],
          [
           "Sep"
          ],
          [
           "Apr"
          ],
          [
           "Aug"
          ],
          [
           "Dec"
          ],
          [
           "Feb"
          ],
          [
           "Jan"
          ],
          [
           "Jul"
          ],
          [
           "Jun"
          ],
          [
           "Mar"
          ],
          [
           "May"
          ],
          [
           "Nov"
          ],
          [
           "Oct"
          ],
          [
           "Sep"
          ],
          [
           "Apr"
          ],
          [
           "Aug"
          ],
          [
           "Dec"
          ],
          [
           "Feb"
          ],
          [
           "Jan"
          ],
          [
           "Jul"
          ],
          [
           "Jun"
          ],
          [
           "Mar"
          ],
          [
           "May"
          ],
          [
           "Nov"
          ],
          [
           "Oct"
          ],
          [
           "Sep"
          ],
          [
           "Apr"
          ],
          [
           "Aug"
          ],
          [
           "Feb"
          ],
          [
           "Jan"
          ],
          [
           "Jul"
          ],
          [
           "Jun"
          ],
          [
           "Mar"
          ],
          [
           "May"
          ],
          [
           "Sep"
          ]
         ],
         "hovertemplate": "commodity=Gur(Jaggery)<br>year=%{x}<br>value=%{y}<br>month=%{customdata[0]}<extra></extra>",
         "legendgroup": "Gur(Jaggery)",
         "marker": {
          "color": "#636efa"
         },
         "name": "Gur(Jaggery)",
         "notched": false,
         "offsetgroup": "Gur(Jaggery)",
         "orientation": "v",
         "showlegend": true,
         "type": "box",
         "x": [
          "2014",
          "2014",
          "2014",
          "2014",
          "2015",
          "2015",
          "2015",
          "2015",
          "2015",
          "2015",
          "2015",
          "2015",
          "2015",
          "2015",
          "2015",
          "2015",
          "2016",
          "2016",
          "2016",
          "2016",
          "2016",
          "2016",
          "2016",
          "2016",
          "2016",
          "2016",
          "2016",
          "2016",
          "2017",
          "2017",
          "2017",
          "2017",
          "2017",
          "2017",
          "2017",
          "2017",
          "2017",
          "2017",
          "2017",
          "2017",
          "2018",
          "2018",
          "2018",
          "2018",
          "2018",
          "2018",
          "2018",
          "2018",
          "2018",
          "2018",
          "2018",
          "2018",
          "2019",
          "2019",
          "2019",
          "2019",
          "2019",
          "2019",
          "2019",
          "2019",
          "2019",
          "2019",
          "2019",
          "2019",
          "2020",
          "2020",
          "2020",
          "2020",
          "2020",
          "2020",
          "2020",
          "2020",
          "2020",
          "2020",
          "2020",
          "2020",
          "2021",
          "2021",
          "2021",
          "2021",
          "2021",
          "2021",
          "2021",
          "2021",
          "2021",
          "2021",
          "2021",
          "2021",
          "2022",
          "2022",
          "2022",
          "2022",
          "2022",
          "2022",
          "2022",
          "2022",
          "2022",
          "2022",
          "2022",
          "2022",
          "2023",
          "2023",
          "2023",
          "2023",
          "2023",
          "2023",
          "2023",
          "2023",
          "2023",
          "2023",
          "2023",
          "2023",
          "2024",
          "2024",
          "2024",
          "2024",
          "2024",
          "2024",
          "2024",
          "2024",
          "2024",
          "2014",
          "2014",
          "2014",
          "2014",
          "2015",
          "2015",
          "2015",
          "2015",
          "2015",
          "2015",
          "2015",
          "2015",
          "2015",
          "2015",
          "2015",
          "2015",
          "2016",
          "2016",
          "2016",
          "2016",
          "2016",
          "2016",
          "2016",
          "2016",
          "2016",
          "2016",
          "2016",
          "2016",
          "2017",
          "2017",
          "2017",
          "2017",
          "2017",
          "2017",
          "2017",
          "2017",
          "2017",
          "2017",
          "2017",
          "2017",
          "2018",
          "2018",
          "2018",
          "2018",
          "2018",
          "2018",
          "2018",
          "2018",
          "2018",
          "2018",
          "2018",
          "2018",
          "2019",
          "2019",
          "2019",
          "2019",
          "2019",
          "2019",
          "2019",
          "2019",
          "2019",
          "2019",
          "2019",
          "2019",
          "2020",
          "2020",
          "2020",
          "2020",
          "2020",
          "2020",
          "2020",
          "2020",
          "2020",
          "2020",
          "2020",
          "2020",
          "2021",
          "2021",
          "2021",
          "2021",
          "2021",
          "2021",
          "2021",
          "2021",
          "2021",
          "2021",
          "2021",
          "2021",
          "2022",
          "2022",
          "2022",
          "2022",
          "2022",
          "2022",
          "2022",
          "2022",
          "2022",
          "2022",
          "2022",
          "2022",
          "2023",
          "2023",
          "2023",
          "2023",
          "2023",
          "2023",
          "2023",
          "2023",
          "2023",
          "2023",
          "2023",
          "2023",
          "2024",
          "2024",
          "2024",
          "2024",
          "2024",
          "2024",
          "2024",
          "2024",
          "2024",
          "2014",
          "2014",
          "2014",
          "2014",
          "2015",
          "2015",
          "2015",
          "2015",
          "2015",
          "2015",
          "2015",
          "2015",
          "2015",
          "2015",
          "2015",
          "2015",
          "2016",
          "2016",
          "2016",
          "2016",
          "2016",
          "2016",
          "2016",
          "2016",
          "2016",
          "2016",
          "2016",
          "2016",
          "2017",
          "2017",
          "2017",
          "2017",
          "2017",
          "2017",
          "2017",
          "2017",
          "2017",
          "2017",
          "2017",
          "2017",
          "2018",
          "2018",
          "2018",
          "2018",
          "2018",
          "2018",
          "2018",
          "2018",
          "2018",
          "2018",
          "2018",
          "2018",
          "2019",
          "2019",
          "2019",
          "2019",
          "2019",
          "2019",
          "2019",
          "2019",
          "2019",
          "2019",
          "2019",
          "2019",
          "2020",
          "2020",
          "2020",
          "2020",
          "2020",
          "2020",
          "2020",
          "2020",
          "2020",
          "2020",
          "2020",
          "2020",
          "2021",
          "2021",
          "2021",
          "2021",
          "2021",
          "2021",
          "2021",
          "2021",
          "2021",
          "2021",
          "2021",
          "2021",
          "2022",
          "2022",
          "2022",
          "2022",
          "2022",
          "2022",
          "2022",
          "2022",
          "2022",
          "2022",
          "2022",
          "2022",
          "2023",
          "2023",
          "2023",
          "2023",
          "2023",
          "2023",
          "2023",
          "2023",
          "2023",
          "2023",
          "2023",
          "2023",
          "2024",
          "2024",
          "2024",
          "2024",
          "2024",
          "2024",
          "2024",
          "2024",
          "2024"
         ],
         "x0": " ",
         "xaxis": "x",
         "y": [
          2751.8778846153846,
          3017.2465373961218,
          3221.8415233415235,
          3266.710559796438,
          2736.531619537275,
          3058.4536719286207,
          2752.5031565656564,
          2716.91113330005,
          2756.79837962963,
          3045.81196054254,
          2911.4005319148937,
          2727.6481481481483,
          2812.0030441400304,
          2944.36948297604,
          3040.3216374269005,
          3066.356783919598,
          2885.762328767123,
          3500.9536474164133,
          3115.7590591226954,
          2667.3196202531644,
          2690.743639921722,
          3356.002087682672,
          3202.863754889179,
          2699.356843575419,
          3066.73918128655,
          3344.247531270573,
          3552.7062451811876,
          3599.6887565152642,
          3096.9302194710185,
          3470.148413510747,
          3027.1266816143498,
          3039.291871921182,
          3043.5630733944954,
          3383.338821030271,
          3313.0484708597805,
          3029.6603260869565,
          3205.8139269406392,
          3239.3308535630385,
          3441.052232142857,
          3485.0047460844803,
          2831.6921202274575,
          3143.3507014028055,
          2820.32184950136,
          2885.3983016579054,
          2949.7729241877255,
          3046.1068580542264,
          2929.059734513274,
          2845.807981035164,
          2865.7986450884455,
          3025.819366197183,
          3156.3672993672994,
          3167.403824091778,
          2777.782892588965,
          3210.970694645441,
          3030.8565959952884,
          2677.5588426527956,
          2720.8198540145986,
          3139.5021067415732,
          3013.7514409221903,
          2701.84509202454,
          2877.793727772389,
          3134.515625,
          3227.1819126819128,
          3243.2728215767634,
          3129.0492497114274,
          3585.6520884520883,
          3117.115577889447,
          3060.7531133250313,
          3083.4748096074986,
          3450.9167024474023,
          3279.2012917115176,
          3045.1090468497578,
          3166.454888507719,
          3383.9225324419976,
          3613.2576452599387,
          3677.193460490463,
          3079.8568047337276,
          3498.6109311740893,
          3423.2257476294676,
          2983.099673794853,
          3001.2097902097903,
          3433.84387510008,
          3345.7511165245637,
          2995.19798190675,
          3277.3553910226747,
          3568.290812141099,
          3629.3340969835817,
          3561.978164322724,
          3442.62253318981,
          3682.8217391304347,
          3479.314673157163,
          3376.3601973684213,
          3393.6712686567166,
          3628.613316790736,
          3587.86841092728,
          3389.1376042456404,
          3506.4518860662047,
          3618.2899324083955,
          3730.4618069018998,
          3710.1618122977347,
          3492.5777000777002,
          4009.4648305084747,
          3717.814906832298,
          3368.4661308840414,
          3410.0654699049633,
          3897.901414141414,
          3722.0437179992123,
          3388.8998165137614,
          3596.388308168796,
          3873.6868504292815,
          3995.6073853989815,
          4054.4071634417455,
          3836.6676029962546,
          4460.779489648531,
          3718.137494727963,
          3704.202617138033,
          4347.535843920145,
          4190.6943105110895,
          3744.939204291462,
          3985.5263157894738,
          4376.428571428572,
          2139.6283653846153,
          2269.6171745152355,
          2499.5485257985256,
          2305.7550890585244,
          1861.3408740359898,
          1780.047357584077,
          1300.378787878788,
          2028.8497254118822,
          2119.5546296296297,
          1773.1781750924783,
          1771.3989361702127,
          2024.9544544544544,
          1791.8685946220194,
          1413.4552332912988,
          1627.748538011696,
          1813.5270100502512,
          1225.1438356164383,
          1652.1808510638298,
          1480.3000635727908,
          1266.8987341772151,
          1299.787997390737,
          1544.5017397355602,
          1427.2698826597132,
          1176.8638268156424,
          1332.6602339181286,
          1701.8367346938776,
          1694.5767154973014,
          1777.740134028295,
          1494.7186268992684,
          3168.490276356192,
          2832.984678624813,
          1293.5591133004925,
          1314.6043577981652,
          2980.491237387148,
          2790.798038084247,
          1335.483695652174,
          2480.9640410958905,
          2979.4596711041504,
          3108.3660714285716,
          3245.1115329852873,
          2694.8456539398862,
          3056.8396793587176,
          2722.278936234512,
          2721.78528103518,
          2786.817689530686,
          2958.534688995215,
          2821.3092920353984,
          2683.1608060055314,
          2735.844185171246,
          2915.8038732394366,
          3046.1018981018983,
          3066.2695984703632,
          2680.1762977473068,
          3107.5,
          2911.0026501766783,
          2577.6615734720417,
          2626.2808759124086,
          3052.254213483146,
          2908.5662824207493,
          2607.937116564417,
          2772.1176850953766,
          3021.390931372549,
          3118.2830907830908,
          3140.0165975103732,
          3064.994998076183,
          3489.9184275184275,
          3043.955108877722,
          2960.2736612702365,
          2967.620093731693,
          3360.089308716187,
          3183.175098672408,
          2956.6611470113085,
          3100.2586620926245,
          3317.0829728666927,
          3548.3520642201834,
          3607.3538341767226,
          3009.373570019724,
          3430.8753036437247,
          3348.81765134938,
          2914.9659296846685,
          2924.75,
          3366.7786228983186,
          3278.7900933820542,
          2929.113082811413,
          3209.0152707080056,
          3498.181706316653,
          3559.622374952272,
          3495.19763138416,
          3372.0362396842484,
          3610.796837944664,
          3408.3581363004173,
          3298.0629111842104,
          3296.45,
          3555.933416046319,
          3514.986148518661,
          3321.004927975739,
          3435.482678983834,
          3547.8808253290645,
          3662.2198526560683,
          3640.9162171880616,
          3421.5765345765344,
          3936.55593220339,
          3643.5383022774326,
          3297.472254114045,
          3337.730376627948,
          3826.8262626262626,
          3654.2682158330053,
          3315.4869724770642,
          3528.5795586527292,
          3800.3452327157706,
          3921.350594227504,
          3982.749279538905,
          3763.2303370786517,
          4377.216177178623,
          3644.7098270771826,
          3631.337695230055,
          4264.531760435571,
          4113.088717454195,
          3672.065265981225,
          3907.1780059905864,
          4330,
          2216.339903846154,
          2360.6703601108034,
          2566.318181818182,
          2365.4980916030536,
          1933.4735218508997,
          1817.5332875772135,
          1345.340909090909,
          2101.2031952071893,
          2196.9333333333334,
          1813.650431565968,
          1851.0563829787234,
          2095.8663663663665,
          1860.5621511922882,
          1457.3259773013872,
          1676.406432748538,
          1865.5879396984924,
          1257.536301369863,
          1699.7446808510638,
          1520.6675143038779,
          1308.6196202531646,
          1343.617742987606,
          1592.3173277661795,
          1463.7170795306388,
          1217.054469273743,
          1369.388888888889,
          1753.2448979591836,
          1740.7902852737086,
          1824.6239761727477,
          1535.4895891952729,
          3266.125895598772,
          2955.8034379671153,
          1350.0615763546798,
          1357.8755733944954,
          3096.5209771641,
          2877.5660703981534,
          1374.7635869565217,
          2560.7391552511417,
          3110.4565387627254,
          3233.136160714286,
          3344.84337921215,
          2815.6100731112915,
          3165.712224448898,
          2842.166515563614,
          2854.293166194905,
          2913.126353790614,
          3070.897129186603,
          2943.1061946902655,
          2802.736072698538,
          2851.879563417388,
          3036.543661971831,
          3165.1098901098903,
          3173.2523900573615,
          2797.05680705191,
          3229.879522431259,
          3041.0951118963485,
          2685.1755526658,
          2730.1915328467153,
          3173.972261235955,
          3029.1628242074926,
          2724.2754601226993,
          2896.21629485936,
          3152.778799019608,
          3244.767151767152,
          3265.9498616874134,
          3191.8964986533283,
          3620.861425061425,
          3182.937353433836,
          3087.65099626401,
          3098.828353837141,
          3485.5835122370117,
          3312.9590958019376,
          3089.1809369951534,
          3226.394511149228,
          3451.1234762092017,
          3680.673547400612,
          3738.1066562864926,
          3143.213017751479,
          3560.8574898785423,
          3484.6250911743255,
          3051.8006524102934,
          3062.46013986014,
          3499.6285028022417,
          3416.948842874543,
          3062.511134307585,
          3348.835261453031,
          3635.0496308449547,
          3692.548300878198,
          3623.561065877128,
          3506.7027269465375,
          3750.1600790513835,
          3543.51842837274,
          3438.9070723684213,
          3433.8712686567164,
          3691.196029776675,
          3650.7018083878415,
          3456.6974981046246,
          3573.8849114703617,
          3683.992529348986,
          3796.3396665374175,
          3777.3426824883136,
          3555.778943278943,
          4079.243220338983,
          3792.2757763975155,
          3432.4626865671644,
          3477.7036254839845,
          3962.7058585858586,
          3784.4064592359196,
          3455.4073394495413,
          3660.294618660472,
          3947.5318572074107,
          4062.3909168081495,
          4125.587072869494,
          3906.1399812734085,
          4529.4848338950405,
          3786.0645297342894,
          3775.9750949767836,
          4415.954627949183,
          4257.8818707811,
          3816.5847116674117,
          4055.6439880188277,
          4422.142857142857
         ],
         "y0": " ",
         "yaxis": "y"
        },
        {
         "alignmentgroup": "True",
         "customdata": [
          [
           "Dec"
          ],
          [
           "Nov"
          ],
          [
           "Oct"
          ],
          [
           "Sep"
          ],
          [
           "Apr"
          ],
          [
           "Aug"
          ],
          [
           "Dec"
          ],
          [
           "Feb"
          ],
          [
           "Jan"
          ],
          [
           "Jul"
          ],
          [
           "Jun"
          ],
          [
           "Mar"
          ],
          [
           "May"
          ],
          [
           "Nov"
          ],
          [
           "Oct"
          ],
          [
           "Sep"
          ],
          [
           "Apr"
          ],
          [
           "Aug"
          ],
          [
           "Dec"
          ],
          [
           "Feb"
          ],
          [
           "Jan"
          ],
          [
           "Jul"
          ],
          [
           "Jun"
          ],
          [
           "Mar"
          ],
          [
           "May"
          ],
          [
           "Nov"
          ],
          [
           "Oct"
          ],
          [
           "Sep"
          ],
          [
           "Apr"
          ],
          [
           "Aug"
          ],
          [
           "Dec"
          ],
          [
           "Feb"
          ],
          [
           "Jan"
          ],
          [
           "Jul"
          ],
          [
           "Jun"
          ],
          [
           "Mar"
          ],
          [
           "May"
          ],
          [
           "Nov"
          ],
          [
           "Oct"
          ],
          [
           "Sep"
          ],
          [
           "Apr"
          ],
          [
           "Aug"
          ],
          [
           "Dec"
          ],
          [
           "Feb"
          ],
          [
           "Jan"
          ],
          [
           "Jul"
          ],
          [
           "Jun"
          ],
          [
           "Mar"
          ],
          [
           "May"
          ],
          [
           "Nov"
          ],
          [
           "Oct"
          ],
          [
           "Sep"
          ],
          [
           "Apr"
          ],
          [
           "Aug"
          ],
          [
           "Dec"
          ],
          [
           "Feb"
          ],
          [
           "Jan"
          ],
          [
           "Jul"
          ],
          [
           "Jun"
          ],
          [
           "Mar"
          ],
          [
           "May"
          ],
          [
           "Nov"
          ],
          [
           "Oct"
          ],
          [
           "Sep"
          ],
          [
           "Apr"
          ],
          [
           "Aug"
          ],
          [
           "Dec"
          ],
          [
           "Feb"
          ],
          [
           "Jan"
          ],
          [
           "Jul"
          ],
          [
           "Jun"
          ],
          [
           "Mar"
          ],
          [
           "May"
          ],
          [
           "Nov"
          ],
          [
           "Oct"
          ],
          [
           "Sep"
          ],
          [
           "Apr"
          ],
          [
           "Aug"
          ],
          [
           "Dec"
          ],
          [
           "Feb"
          ],
          [
           "Jan"
          ],
          [
           "Jul"
          ],
          [
           "Jun"
          ],
          [
           "Mar"
          ],
          [
           "May"
          ],
          [
           "Nov"
          ],
          [
           "Oct"
          ],
          [
           "Sep"
          ],
          [
           "Apr"
          ],
          [
           "Aug"
          ],
          [
           "Dec"
          ],
          [
           "Feb"
          ],
          [
           "Jan"
          ],
          [
           "Jul"
          ],
          [
           "Jun"
          ],
          [
           "Mar"
          ],
          [
           "May"
          ],
          [
           "Nov"
          ],
          [
           "Oct"
          ],
          [
           "Sep"
          ],
          [
           "Apr"
          ],
          [
           "Aug"
          ],
          [
           "Dec"
          ],
          [
           "Feb"
          ],
          [
           "Jan"
          ],
          [
           "Jul"
          ],
          [
           "Jun"
          ],
          [
           "Mar"
          ],
          [
           "May"
          ],
          [
           "Nov"
          ],
          [
           "Oct"
          ],
          [
           "Sep"
          ],
          [
           "Apr"
          ],
          [
           "Aug"
          ],
          [
           "Feb"
          ],
          [
           "Jan"
          ],
          [
           "Jul"
          ],
          [
           "Jun"
          ],
          [
           "Mar"
          ],
          [
           "May"
          ],
          [
           "Sep"
          ],
          [
           "Dec"
          ],
          [
           "Nov"
          ],
          [
           "Oct"
          ],
          [
           "Sep"
          ],
          [
           "Apr"
          ],
          [
           "Aug"
          ],
          [
           "Dec"
          ],
          [
           "Feb"
          ],
          [
           "Jan"
          ],
          [
           "Jul"
          ],
          [
           "Jun"
          ],
          [
           "Mar"
          ],
          [
           "May"
          ],
          [
           "Nov"
          ],
          [
           "Oct"
          ],
          [
           "Sep"
          ],
          [
           "Apr"
          ],
          [
           "Aug"
          ],
          [
           "Dec"
          ],
          [
           "Feb"
          ],
          [
           "Jan"
          ],
          [
           "Jul"
          ],
          [
           "Jun"
          ],
          [
           "Mar"
          ],
          [
           "May"
          ],
          [
           "Nov"
          ],
          [
           "Oct"
          ],
          [
           "Sep"
          ],
          [
           "Apr"
          ],
          [
           "Aug"
          ],
          [
           "Dec"
          ],
          [
           "Feb"
          ],
          [
           "Jan"
          ],
          [
           "Jul"
          ],
          [
           "Jun"
          ],
          [
           "Mar"
          ],
          [
           "May"
          ],
          [
           "Nov"
          ],
          [
           "Oct"
          ],
          [
           "Sep"
          ],
          [
           "Apr"
          ],
          [
           "Aug"
          ],
          [
           "Dec"
          ],
          [
           "Feb"
          ],
          [
           "Jan"
          ],
          [
           "Jul"
          ],
          [
           "Jun"
          ],
          [
           "Mar"
          ],
          [
           "May"
          ],
          [
           "Nov"
          ],
          [
           "Oct"
          ],
          [
           "Sep"
          ],
          [
           "Apr"
          ],
          [
           "Aug"
          ],
          [
           "Dec"
          ],
          [
           "Feb"
          ],
          [
           "Jan"
          ],
          [
           "Jul"
          ],
          [
           "Jun"
          ],
          [
           "Mar"
          ],
          [
           "May"
          ],
          [
           "Nov"
          ],
          [
           "Oct"
          ],
          [
           "Sep"
          ],
          [
           "Apr"
          ],
          [
           "Aug"
          ],
          [
           "Dec"
          ],
          [
           "Feb"
          ],
          [
           "Jan"
          ],
          [
           "Jul"
          ],
          [
           "Jun"
          ],
          [
           "Mar"
          ],
          [
           "May"
          ],
          [
           "Nov"
          ],
          [
           "Oct"
          ],
          [
           "Sep"
          ],
          [
           "Apr"
          ],
          [
           "Aug"
          ],
          [
           "Dec"
          ],
          [
           "Feb"
          ],
          [
           "Jan"
          ],
          [
           "Jul"
          ],
          [
           "Jun"
          ],
          [
           "Mar"
          ],
          [
           "May"
          ],
          [
           "Nov"
          ],
          [
           "Oct"
          ],
          [
           "Sep"
          ],
          [
           "Apr"
          ],
          [
           "Aug"
          ],
          [
           "Dec"
          ],
          [
           "Feb"
          ],
          [
           "Jan"
          ],
          [
           "Jul"
          ],
          [
           "Jun"
          ],
          [
           "Mar"
          ],
          [
           "May"
          ],
          [
           "Nov"
          ],
          [
           "Oct"
          ],
          [
           "Sep"
          ],
          [
           "Apr"
          ],
          [
           "Aug"
          ],
          [
           "Dec"
          ],
          [
           "Feb"
          ],
          [
           "Jan"
          ],
          [
           "Jul"
          ],
          [
           "Jun"
          ],
          [
           "Mar"
          ],
          [
           "May"
          ],
          [
           "Nov"
          ],
          [
           "Oct"
          ],
          [
           "Sep"
          ],
          [
           "Apr"
          ],
          [
           "Aug"
          ],
          [
           "Feb"
          ],
          [
           "Jan"
          ],
          [
           "Jul"
          ],
          [
           "Jun"
          ],
          [
           "Mar"
          ],
          [
           "May"
          ],
          [
           "Sep"
          ],
          [
           "Dec"
          ],
          [
           "Nov"
          ],
          [
           "Oct"
          ],
          [
           "Sep"
          ],
          [
           "Apr"
          ],
          [
           "Aug"
          ],
          [
           "Dec"
          ],
          [
           "Feb"
          ],
          [
           "Jan"
          ],
          [
           "Jul"
          ],
          [
           "Jun"
          ],
          [
           "Mar"
          ],
          [
           "May"
          ],
          [
           "Nov"
          ],
          [
           "Oct"
          ],
          [
           "Sep"
          ],
          [
           "Apr"
          ],
          [
           "Aug"
          ],
          [
           "Dec"
          ],
          [
           "Feb"
          ],
          [
           "Jan"
          ],
          [
           "Jul"
          ],
          [
           "Jun"
          ],
          [
           "Mar"
          ],
          [
           "May"
          ],
          [
           "Nov"
          ],
          [
           "Oct"
          ],
          [
           "Sep"
          ],
          [
           "Apr"
          ],
          [
           "Aug"
          ],
          [
           "Dec"
          ],
          [
           "Feb"
          ],
          [
           "Jan"
          ],
          [
           "Jul"
          ],
          [
           "Jun"
          ],
          [
           "Mar"
          ],
          [
           "May"
          ],
          [
           "Nov"
          ],
          [
           "Oct"
          ],
          [
           "Sep"
          ],
          [
           "Apr"
          ],
          [
           "Aug"
          ],
          [
           "Dec"
          ],
          [
           "Feb"
          ],
          [
           "Jan"
          ],
          [
           "Jul"
          ],
          [
           "Jun"
          ],
          [
           "Mar"
          ],
          [
           "May"
          ],
          [
           "Nov"
          ],
          [
           "Oct"
          ],
          [
           "Sep"
          ],
          [
           "Apr"
          ],
          [
           "Aug"
          ],
          [
           "Dec"
          ],
          [
           "Feb"
          ],
          [
           "Jan"
          ],
          [
           "Jul"
          ],
          [
           "Jun"
          ],
          [
           "Mar"
          ],
          [
           "May"
          ],
          [
           "Nov"
          ],
          [
           "Oct"
          ],
          [
           "Sep"
          ],
          [
           "Apr"
          ],
          [
           "Aug"
          ],
          [
           "Dec"
          ],
          [
           "Feb"
          ],
          [
           "Jan"
          ],
          [
           "Jul"
          ],
          [
           "Jun"
          ],
          [
           "Mar"
          ],
          [
           "May"
          ],
          [
           "Nov"
          ],
          [
           "Oct"
          ],
          [
           "Sep"
          ],
          [
           "Apr"
          ],
          [
           "Aug"
          ],
          [
           "Dec"
          ],
          [
           "Feb"
          ],
          [
           "Jan"
          ],
          [
           "Jul"
          ],
          [
           "Jun"
          ],
          [
           "Mar"
          ],
          [
           "May"
          ],
          [
           "Nov"
          ],
          [
           "Oct"
          ],
          [
           "Sep"
          ],
          [
           "Apr"
          ],
          [
           "Aug"
          ],
          [
           "Dec"
          ],
          [
           "Feb"
          ],
          [
           "Jan"
          ],
          [
           "Jul"
          ],
          [
           "Jun"
          ],
          [
           "Mar"
          ],
          [
           "May"
          ],
          [
           "Nov"
          ],
          [
           "Oct"
          ],
          [
           "Sep"
          ],
          [
           "Apr"
          ],
          [
           "Aug"
          ],
          [
           "Dec"
          ],
          [
           "Feb"
          ],
          [
           "Jan"
          ],
          [
           "Jul"
          ],
          [
           "Jun"
          ],
          [
           "Mar"
          ],
          [
           "May"
          ],
          [
           "Nov"
          ],
          [
           "Oct"
          ],
          [
           "Sep"
          ],
          [
           "Apr"
          ],
          [
           "Aug"
          ],
          [
           "Feb"
          ],
          [
           "Jan"
          ],
          [
           "Jul"
          ],
          [
           "Jun"
          ],
          [
           "Mar"
          ],
          [
           "May"
          ],
          [
           "Sep"
          ]
         ],
         "hovertemplate": "commodity=Mustard Oil<br>year=%{x}<br>value=%{y}<br>month=%{customdata[0]}<extra></extra>",
         "legendgroup": "Mustard Oil",
         "marker": {
          "color": "#EF553B"
         },
         "name": "Mustard Oil",
         "notched": false,
         "offsetgroup": "Mustard Oil",
         "orientation": "v",
         "showlegend": true,
         "type": "box",
         "x": [
          "2014",
          "2014",
          "2014",
          "2014",
          "2015",
          "2015",
          "2015",
          "2015",
          "2015",
          "2015",
          "2015",
          "2015",
          "2015",
          "2015",
          "2015",
          "2015",
          "2016",
          "2016",
          "2016",
          "2016",
          "2016",
          "2016",
          "2016",
          "2016",
          "2016",
          "2016",
          "2016",
          "2016",
          "2017",
          "2017",
          "2017",
          "2017",
          "2017",
          "2017",
          "2017",
          "2017",
          "2017",
          "2017",
          "2017",
          "2017",
          "2018",
          "2018",
          "2018",
          "2018",
          "2018",
          "2018",
          "2018",
          "2018",
          "2018",
          "2018",
          "2018",
          "2018",
          "2019",
          "2019",
          "2019",
          "2019",
          "2019",
          "2019",
          "2019",
          "2019",
          "2019",
          "2019",
          "2019",
          "2019",
          "2020",
          "2020",
          "2020",
          "2020",
          "2020",
          "2020",
          "2020",
          "2020",
          "2020",
          "2020",
          "2020",
          "2020",
          "2021",
          "2021",
          "2021",
          "2021",
          "2021",
          "2021",
          "2021",
          "2021",
          "2021",
          "2021",
          "2021",
          "2021",
          "2022",
          "2022",
          "2022",
          "2022",
          "2022",
          "2022",
          "2022",
          "2022",
          "2022",
          "2022",
          "2022",
          "2022",
          "2023",
          "2023",
          "2023",
          "2023",
          "2023",
          "2023",
          "2023",
          "2023",
          "2023",
          "2023",
          "2023",
          "2023",
          "2024",
          "2024",
          "2024",
          "2024",
          "2024",
          "2024",
          "2024",
          "2024",
          "2024",
          "2014",
          "2014",
          "2014",
          "2014",
          "2015",
          "2015",
          "2015",
          "2015",
          "2015",
          "2015",
          "2015",
          "2015",
          "2015",
          "2015",
          "2015",
          "2015",
          "2016",
          "2016",
          "2016",
          "2016",
          "2016",
          "2016",
          "2016",
          "2016",
          "2016",
          "2016",
          "2016",
          "2016",
          "2017",
          "2017",
          "2017",
          "2017",
          "2017",
          "2017",
          "2017",
          "2017",
          "2017",
          "2017",
          "2017",
          "2017",
          "2018",
          "2018",
          "2018",
          "2018",
          "2018",
          "2018",
          "2018",
          "2018",
          "2018",
          "2018",
          "2018",
          "2018",
          "2019",
          "2019",
          "2019",
          "2019",
          "2019",
          "2019",
          "2019",
          "2019",
          "2019",
          "2019",
          "2019",
          "2019",
          "2020",
          "2020",
          "2020",
          "2020",
          "2020",
          "2020",
          "2020",
          "2020",
          "2020",
          "2020",
          "2020",
          "2020",
          "2021",
          "2021",
          "2021",
          "2021",
          "2021",
          "2021",
          "2021",
          "2021",
          "2021",
          "2021",
          "2021",
          "2021",
          "2022",
          "2022",
          "2022",
          "2022",
          "2022",
          "2022",
          "2022",
          "2022",
          "2022",
          "2022",
          "2022",
          "2022",
          "2023",
          "2023",
          "2023",
          "2023",
          "2023",
          "2023",
          "2023",
          "2023",
          "2023",
          "2023",
          "2023",
          "2023",
          "2024",
          "2024",
          "2024",
          "2024",
          "2024",
          "2024",
          "2024",
          "2024",
          "2024",
          "2014",
          "2014",
          "2014",
          "2014",
          "2015",
          "2015",
          "2015",
          "2015",
          "2015",
          "2015",
          "2015",
          "2015",
          "2015",
          "2015",
          "2015",
          "2015",
          "2016",
          "2016",
          "2016",
          "2016",
          "2016",
          "2016",
          "2016",
          "2016",
          "2016",
          "2016",
          "2016",
          "2016",
          "2017",
          "2017",
          "2017",
          "2017",
          "2017",
          "2017",
          "2017",
          "2017",
          "2017",
          "2017",
          "2017",
          "2017",
          "2018",
          "2018",
          "2018",
          "2018",
          "2018",
          "2018",
          "2018",
          "2018",
          "2018",
          "2018",
          "2018",
          "2018",
          "2019",
          "2019",
          "2019",
          "2019",
          "2019",
          "2019",
          "2019",
          "2019",
          "2019",
          "2019",
          "2019",
          "2019",
          "2020",
          "2020",
          "2020",
          "2020",
          "2020",
          "2020",
          "2020",
          "2020",
          "2020",
          "2020",
          "2020",
          "2020",
          "2021",
          "2021",
          "2021",
          "2021",
          "2021",
          "2021",
          "2021",
          "2021",
          "2021",
          "2021",
          "2021",
          "2021",
          "2022",
          "2022",
          "2022",
          "2022",
          "2022",
          "2022",
          "2022",
          "2022",
          "2022",
          "2022",
          "2022",
          "2022",
          "2023",
          "2023",
          "2023",
          "2023",
          "2023",
          "2023",
          "2023",
          "2023",
          "2023",
          "2023",
          "2023",
          "2023",
          "2024",
          "2024",
          "2024",
          "2024",
          "2024",
          "2024",
          "2024",
          "2024",
          "2024"
         ],
         "x0": " ",
         "xaxis": "x",
         "y": [
          7810.527950310559,
          7854.5526315789475,
          8103.347107438017,
          8052.59842519685,
          8088.646532438479,
          8588.550561797752,
          9333.927710843374,
          8239.800884955752,
          8218.73,
          8496.821946169772,
          8360.54329004329,
          8238.734567901234,
          8164.010204081633,
          9100.193298969072,
          8769.386727688787,
          8680.396475770925,
          8724.554054054053,
          9130.64606741573,
          9176.980997624703,
          9119.67088607595,
          9435.347222222223,
          8962.883663366336,
          8904.616740088106,
          8741.693121693123,
          8844.35129740519,
          9190.08705882353,
          9136.125654450261,
          9257.091690544412,
          8595.40562248996,
          8486.5625,
          8665.473515248796,
          9083.702764976959,
          9131.168202764977,
          8437.849484536082,
          8453.888157894737,
          8888.091836734693,
          8467.119460500964,
          8670.985691573927,
          8610.17529215359,
          8532.925801011805,
          8611.66918429003,
          9033.64303178484,
          9247.402843601896,
          8682.24537037037,
          8694.80421686747,
          8798.388387096775,
          8667.264890282131,
          8667.881057268722,
          8593.224546722455,
          9203.725596529284,
          9155.524574669187,
          9092.160356347438,
          8939.463794683776,
          9075.092756183745,
          9294.435414884516,
          9179.037111334002,
          9226.02687673772,
          9051.42857142857,
          8995.157702825889,
          9096.85816876122,
          8926.491760624458,
          9166.455536912752,
          9147.245349867138,
          9099.903523489933,
          9567.317515099223,
          10208.2497212932,
          11475.248194945849,
          9552.440068493152,
          9468.757456828886,
          9994.62724692526,
          9692.14082278481,
          9452.60089186176,
          9579.859484777518,
          11168.522727272728,
          10814.498248686516,
          10484.673504273504,
          12305.458937198067,
          15069.721649484536,
          16584.013239187996,
          11936.508041627247,
          11743.121019108281,
          14616.44804088586,
          14421.628801431127,
          11945.421146953406,
          13846.18503118503,
          16662.424684159378,
          16420.028716216217,
          15542.97200622084,
          16023.093145869947,
          15682.284905660377,
          15406.007692307692,
          16321.905544147843,
          16267.236607142857,
          15818.698630136987,
          15963.897459165155,
          16140.436771300449,
          16057.211449676824,
          15444.12625250501,
          15255.956656346749,
          15601.07110711071,
          14094.205128205129,
          12823.107183580387,
          13101.964547677262,
          15126.760736196318,
          15330.680975609755,
          13171.131974248927,
          13340.460196292257,
          14656.975845410629,
          13608.32131822863,
          13181.964705882352,
          12846.354577056778,
          12745.353070175439,
          12501.357142857143,
          12905.904142011834,
          12818.016009852217,
          12913.425634824667,
          12849.869918699187,
          12681.034300791556,
          12623.291450777202,
          12395.109819121448,
          12650,
          4860.7453416149065,
          4244.565789473684,
          3929.2975206611573,
          2971.4041994750655,
          3273.2438478747204,
          1774.1011235955057,
          1112.0722891566265,
          4311.548672566371,
          4806.77,
          1852.0186335403728,
          2045.1190476190477,
          3817.5411522633744,
          2563.5714285714284,
          1231.4948453608247,
          1362.8947368421052,
          1698.8546255506608,
          1357.8648648648648,
          1413.1039325842696,
          1671.8883610451308,
          1671.4683544303798,
          1369.4583333333333,
          1129.0470297029703,
          1000.2643171806168,
          1080.1455026455026,
          1301.5868263473053,
          2049.294117647059,
          2422.8141361256544,
          1539.9856733524355,
          2277.9116465863453,
          6709.658203125,
          8229.847512038523,
          2393.163594470046,
          1579.884792626728,
          6011.19587628866,
          5174.434210526316,
          2264.091836734694,
          4536.994219653179,
          7958.203497615263,
          7942.212020033389,
          7621.7284991568295,
          8515.619335347432,
          8941.889975550122,
          9167.715639810427,
          8579.020061728395,
          8590.496987951807,
          8701.294193548387,
          8521.199059561128,
          8556.629955947137,
          8471.701534170154,
          9119.18655097614,
          9067.481096408317,
          8977.71158129176,
          8793.794683776352,
          8891.63339222615,
          9139.917023096665,
          9100.401203610832,
          9110.764596848934,
          8898.935144609992,
          8837.391978122152,
          8948.734290843806,
          8753.555941023416,
          9079.821308724831,
          9060.705048715678,
          8925.134228187919,
          9471.731665228644,
          10018.40579710145,
          11301.16606498195,
          9406.299657534246,
          9324.839089481946,
          9884.94701986755,
          9600.366297468354,
          9301.377926421404,
          9479.394223263076,
          11031.092803030304,
          10664.523642732049,
          10342.000854700855,
          12131.384541062802,
          14797.91237113402,
          16320.505736981466,
          11778.595080416273,
          11417.118289353959,
          14433.662691652471,
          14233.01878354204,
          11784.766129032258,
          13623.93970893971,
          16336.880466472303,
          16161.97972972973,
          15255.684292379472,
          15803.65553602812,
          15499.66037735849,
          15246.399038461539,
          16105.75975359343,
          16007.995535714286,
          15625.848336594912,
          15779.287658802177,
          15923.777578475336,
          15882.38596491228,
          15256.78356713427,
          15081.377708978329,
          15419.700270027002,
          13952.608481262327,
          12691.9669327252,
          12989.563569682152,
          14989.59100204499,
          15192.49756097561,
          13023.782188841202,
          13196.924754634678,
          14526.826086956522,
          13462.21421215242,
          13045.156862745098,
          12715.907300115874,
          12592.23793859649,
          12367.742857142857,
          12784.875739644971,
          12689.365763546799,
          12797.091898428052,
          12726.1556329849,
          12567.97493403694,
          12485.62176165803,
          12266.56330749354,
          12575,
          4710.983436853002,
          4632.263157894737,
          4046.121212121212,
          3051.7191601049867,
          3373.1767337807605,
          1806.426966292135,
          1147.9036144578313,
          4605.851769911505,
          4946.61,
          1890.1552795031057,
          2082.1969696969695,
          3928.8888888888887,
          2619.112244897959,
          1247.0360824742268,
          1386.0755148741418,
          1752.6872246696034,
          1374.527027027027,
          1430.1685393258426,
          1696.9477434679334,
          1697.7088607594937,
          1386.236111111111,
          1140.3217821782177,
          1009.3436123348017,
          1104.3783068783068,
          1317.6447105788423,
          2057.5011764705882,
          2463.8219895287957,
          1559.0687679083094,
          2320.0401606425703,
          6852.87109375,
          8400.187800963082,
          2430.9700460829495,
          1600.4723502304148,
          6136.948453608247,
          5302.973684210527,
          2303.377551020408,
          4661.098265895954,
          8116.263910969793,
          8100.350584307179,
          7796.382799325464,
          8704.373111782477,
          9121.020782396088,
          9314.981042654028,
          8768.310185185184,
          8779.533132530121,
          8884.792258064515,
          8713.957680250784,
          8775.932452276065,
          8661.603905160391,
          9283.665943600869,
          9217.616257088846,
          9165.256681514476,
          8942.043079743355,
          9057.641342756184,
          9325.33361847733,
          9253.821464393179,
          9277.664504170529,
          9074.842243645924,
          9000.400182315405,
          9105.493716337522,
          8910.169124024285,
          9253.024328859061,
          9224.220549158548,
          9083.14010067114,
          9654.69801553063,
          10298.534002229655,
          11560.512635379062,
          9582.440068493152,
          9500.255102040815,
          10140.774834437087,
          9770.98338607595,
          9473.517279821628,
          9655.948477751757,
          11310.592803030304,
          10958.23292469352,
          10628.967521367522,
          12422.96425120773,
          15148.713058419244,
          16703.493380406002,
          12065.887417218542,
          11690.855323020927,
          14716.567291311754,
          14547.267441860466,
          12065.189964157706,
          13947.79002079002,
          16731.98736637512,
          16533.813344594593,
          15644.550544323483,
          16160.43057996485,
          15863.86320754717,
          15555.346153846154,
          16475.23613963039,
          16386.04732142857,
          16001.971624266145,
          16151.665154264972,
          16296.990134529147,
          16237.493074792244,
          15623.345691382765,
          15440.092879256967,
          15788.32403240324,
          14231.136094674555,
          12961.026225769669,
          13243.223716381419,
          15253.506134969326,
          15449.878048780487,
          13308.083690987125,
          13462.88985823337,
          14785.72270531401,
          13784.665293511844,
          13321.307189542484,
          12988.464658169178,
          12915.241228070176,
          12642.2,
          13030.667455621302,
          12945.57142857143,
          13054.081015719468,
          12991.614401858304,
          12823.406332453826,
          12764.475388601037,
          12550.316537467701,
          12800
         ],
         "y0": " ",
         "yaxis": "y"
        },
        {
         "alignmentgroup": "True",
         "customdata": [
          [
           "Dec"
          ],
          [
           "Nov"
          ],
          [
           "Oct"
          ],
          [
           "Sep"
          ],
          [
           "Apr"
          ],
          [
           "Aug"
          ],
          [
           "Dec"
          ],
          [
           "Feb"
          ],
          [
           "Jan"
          ],
          [
           "Jul"
          ],
          [
           "Jun"
          ],
          [
           "Mar"
          ],
          [
           "May"
          ],
          [
           "Nov"
          ],
          [
           "Oct"
          ],
          [
           "Sep"
          ],
          [
           "Apr"
          ],
          [
           "Aug"
          ],
          [
           "Dec"
          ],
          [
           "Feb"
          ],
          [
           "Jan"
          ],
          [
           "Jul"
          ],
          [
           "Jun"
          ],
          [
           "Mar"
          ],
          [
           "May"
          ],
          [
           "Nov"
          ],
          [
           "Oct"
          ],
          [
           "Sep"
          ],
          [
           "Apr"
          ],
          [
           "Aug"
          ],
          [
           "Dec"
          ],
          [
           "Feb"
          ],
          [
           "Jan"
          ],
          [
           "Jul"
          ],
          [
           "Jun"
          ],
          [
           "Mar"
          ],
          [
           "May"
          ],
          [
           "Nov"
          ],
          [
           "Oct"
          ],
          [
           "Sep"
          ],
          [
           "Apr"
          ],
          [
           "Aug"
          ],
          [
           "Dec"
          ],
          [
           "Feb"
          ],
          [
           "Jan"
          ],
          [
           "Jul"
          ],
          [
           "Jun"
          ],
          [
           "Mar"
          ],
          [
           "May"
          ],
          [
           "Nov"
          ],
          [
           "Oct"
          ],
          [
           "Sep"
          ],
          [
           "Apr"
          ],
          [
           "Aug"
          ],
          [
           "Dec"
          ],
          [
           "Feb"
          ],
          [
           "Jan"
          ],
          [
           "Jul"
          ],
          [
           "Jun"
          ],
          [
           "Mar"
          ],
          [
           "May"
          ],
          [
           "Nov"
          ],
          [
           "Oct"
          ],
          [
           "Sep"
          ],
          [
           "Apr"
          ],
          [
           "Aug"
          ],
          [
           "Dec"
          ],
          [
           "Feb"
          ],
          [
           "Jan"
          ],
          [
           "Jul"
          ],
          [
           "Jun"
          ],
          [
           "Mar"
          ],
          [
           "May"
          ],
          [
           "Nov"
          ],
          [
           "Oct"
          ],
          [
           "Sep"
          ],
          [
           "Apr"
          ],
          [
           "Aug"
          ],
          [
           "Dec"
          ],
          [
           "Feb"
          ],
          [
           "Jan"
          ],
          [
           "Jul"
          ],
          [
           "Jun"
          ],
          [
           "Mar"
          ],
          [
           "May"
          ],
          [
           "Nov"
          ],
          [
           "Oct"
          ],
          [
           "Sep"
          ],
          [
           "Apr"
          ],
          [
           "Aug"
          ],
          [
           "Dec"
          ],
          [
           "Feb"
          ],
          [
           "Jan"
          ],
          [
           "Jul"
          ],
          [
           "Jun"
          ],
          [
           "Mar"
          ],
          [
           "May"
          ],
          [
           "Nov"
          ],
          [
           "Oct"
          ],
          [
           "Sep"
          ],
          [
           "Apr"
          ],
          [
           "Aug"
          ],
          [
           "Dec"
          ],
          [
           "Feb"
          ],
          [
           "Jan"
          ],
          [
           "Jul"
          ],
          [
           "Jun"
          ],
          [
           "Mar"
          ],
          [
           "May"
          ],
          [
           "Nov"
          ],
          [
           "Oct"
          ],
          [
           "Sep"
          ],
          [
           "Apr"
          ],
          [
           "Aug"
          ],
          [
           "Feb"
          ],
          [
           "Jan"
          ],
          [
           "Jul"
          ],
          [
           "Jun"
          ],
          [
           "Mar"
          ],
          [
           "May"
          ],
          [
           "Sep"
          ],
          [
           "Dec"
          ],
          [
           "Nov"
          ],
          [
           "Oct"
          ],
          [
           "Sep"
          ],
          [
           "Apr"
          ],
          [
           "Aug"
          ],
          [
           "Dec"
          ],
          [
           "Feb"
          ],
          [
           "Jan"
          ],
          [
           "Jul"
          ],
          [
           "Jun"
          ],
          [
           "Mar"
          ],
          [
           "May"
          ],
          [
           "Nov"
          ],
          [
           "Oct"
          ],
          [
           "Sep"
          ],
          [
           "Apr"
          ],
          [
           "Aug"
          ],
          [
           "Dec"
          ],
          [
           "Feb"
          ],
          [
           "Jan"
          ],
          [
           "Jul"
          ],
          [
           "Jun"
          ],
          [
           "Mar"
          ],
          [
           "May"
          ],
          [
           "Nov"
          ],
          [
           "Oct"
          ],
          [
           "Sep"
          ],
          [
           "Apr"
          ],
          [
           "Aug"
          ],
          [
           "Dec"
          ],
          [
           "Feb"
          ],
          [
           "Jan"
          ],
          [
           "Jul"
          ],
          [
           "Jun"
          ],
          [
           "Mar"
          ],
          [
           "May"
          ],
          [
           "Nov"
          ],
          [
           "Oct"
          ],
          [
           "Sep"
          ],
          [
           "Apr"
          ],
          [
           "Aug"
          ],
          [
           "Dec"
          ],
          [
           "Feb"
          ],
          [
           "Jan"
          ],
          [
           "Jul"
          ],
          [
           "Jun"
          ],
          [
           "Mar"
          ],
          [
           "May"
          ],
          [
           "Nov"
          ],
          [
           "Oct"
          ],
          [
           "Sep"
          ],
          [
           "Apr"
          ],
          [
           "Aug"
          ],
          [
           "Dec"
          ],
          [
           "Feb"
          ],
          [
           "Jan"
          ],
          [
           "Jul"
          ],
          [
           "Jun"
          ],
          [
           "Mar"
          ],
          [
           "May"
          ],
          [
           "Nov"
          ],
          [
           "Oct"
          ],
          [
           "Sep"
          ],
          [
           "Apr"
          ],
          [
           "Aug"
          ],
          [
           "Dec"
          ],
          [
           "Feb"
          ],
          [
           "Jan"
          ],
          [
           "Jul"
          ],
          [
           "Jun"
          ],
          [
           "Mar"
          ],
          [
           "May"
          ],
          [
           "Nov"
          ],
          [
           "Oct"
          ],
          [
           "Sep"
          ],
          [
           "Apr"
          ],
          [
           "Aug"
          ],
          [
           "Dec"
          ],
          [
           "Feb"
          ],
          [
           "Jan"
          ],
          [
           "Jul"
          ],
          [
           "Jun"
          ],
          [
           "Mar"
          ],
          [
           "May"
          ],
          [
           "Nov"
          ],
          [
           "Oct"
          ],
          [
           "Sep"
          ],
          [
           "Apr"
          ],
          [
           "Aug"
          ],
          [
           "Dec"
          ],
          [
           "Feb"
          ],
          [
           "Jan"
          ],
          [
           "Jul"
          ],
          [
           "Jun"
          ],
          [
           "Mar"
          ],
          [
           "May"
          ],
          [
           "Nov"
          ],
          [
           "Oct"
          ],
          [
           "Sep"
          ],
          [
           "Apr"
          ],
          [
           "Aug"
          ],
          [
           "Dec"
          ],
          [
           "Feb"
          ],
          [
           "Jan"
          ],
          [
           "Jul"
          ],
          [
           "Jun"
          ],
          [
           "Mar"
          ],
          [
           "May"
          ],
          [
           "Nov"
          ],
          [
           "Oct"
          ],
          [
           "Sep"
          ],
          [
           "Apr"
          ],
          [
           "Aug"
          ],
          [
           "Feb"
          ],
          [
           "Jan"
          ],
          [
           "Jul"
          ],
          [
           "Jun"
          ],
          [
           "Mar"
          ],
          [
           "May"
          ],
          [
           "Sep"
          ],
          [
           "Dec"
          ],
          [
           "Nov"
          ],
          [
           "Oct"
          ],
          [
           "Sep"
          ],
          [
           "Apr"
          ],
          [
           "Aug"
          ],
          [
           "Dec"
          ],
          [
           "Feb"
          ],
          [
           "Jan"
          ],
          [
           "Jul"
          ],
          [
           "Jun"
          ],
          [
           "Mar"
          ],
          [
           "May"
          ],
          [
           "Nov"
          ],
          [
           "Oct"
          ],
          [
           "Sep"
          ],
          [
           "Apr"
          ],
          [
           "Aug"
          ],
          [
           "Dec"
          ],
          [
           "Feb"
          ],
          [
           "Jan"
          ],
          [
           "Jul"
          ],
          [
           "Jun"
          ],
          [
           "Mar"
          ],
          [
           "May"
          ],
          [
           "Nov"
          ],
          [
           "Oct"
          ],
          [
           "Sep"
          ],
          [
           "Apr"
          ],
          [
           "Aug"
          ],
          [
           "Dec"
          ],
          [
           "Feb"
          ],
          [
           "Jan"
          ],
          [
           "Jul"
          ],
          [
           "Jun"
          ],
          [
           "Mar"
          ],
          [
           "May"
          ],
          [
           "Nov"
          ],
          [
           "Oct"
          ],
          [
           "Sep"
          ],
          [
           "Apr"
          ],
          [
           "Aug"
          ],
          [
           "Dec"
          ],
          [
           "Feb"
          ],
          [
           "Jan"
          ],
          [
           "Jul"
          ],
          [
           "Jun"
          ],
          [
           "Mar"
          ],
          [
           "May"
          ],
          [
           "Nov"
          ],
          [
           "Oct"
          ],
          [
           "Sep"
          ],
          [
           "Apr"
          ],
          [
           "Aug"
          ],
          [
           "Dec"
          ],
          [
           "Feb"
          ],
          [
           "Jan"
          ],
          [
           "Jul"
          ],
          [
           "Jun"
          ],
          [
           "Mar"
          ],
          [
           "May"
          ],
          [
           "Nov"
          ],
          [
           "Oct"
          ],
          [
           "Sep"
          ],
          [
           "Apr"
          ],
          [
           "Aug"
          ],
          [
           "Dec"
          ],
          [
           "Feb"
          ],
          [
           "Jan"
          ],
          [
           "Jul"
          ],
          [
           "Jun"
          ],
          [
           "Mar"
          ],
          [
           "May"
          ],
          [
           "Nov"
          ],
          [
           "Oct"
          ],
          [
           "Sep"
          ],
          [
           "Apr"
          ],
          [
           "Aug"
          ],
          [
           "Dec"
          ],
          [
           "Feb"
          ],
          [
           "Jan"
          ],
          [
           "Jul"
          ],
          [
           "Jun"
          ],
          [
           "Mar"
          ],
          [
           "May"
          ],
          [
           "Nov"
          ],
          [
           "Oct"
          ],
          [
           "Sep"
          ],
          [
           "Apr"
          ],
          [
           "Aug"
          ],
          [
           "Dec"
          ],
          [
           "Feb"
          ],
          [
           "Jan"
          ],
          [
           "Jul"
          ],
          [
           "Jun"
          ],
          [
           "Mar"
          ],
          [
           "May"
          ],
          [
           "Nov"
          ],
          [
           "Oct"
          ],
          [
           "Sep"
          ],
          [
           "Apr"
          ],
          [
           "Aug"
          ],
          [
           "Dec"
          ],
          [
           "Feb"
          ],
          [
           "Jan"
          ],
          [
           "Jul"
          ],
          [
           "Jun"
          ],
          [
           "Mar"
          ],
          [
           "May"
          ],
          [
           "Nov"
          ],
          [
           "Oct"
          ],
          [
           "Sep"
          ],
          [
           "Apr"
          ],
          [
           "Aug"
          ],
          [
           "Feb"
          ],
          [
           "Jan"
          ],
          [
           "Jul"
          ],
          [
           "Jun"
          ],
          [
           "Mar"
          ],
          [
           "May"
          ],
          [
           "Sep"
          ]
         ],
         "hovertemplate": "commodity=Onion<br>year=%{x}<br>value=%{y}<br>month=%{customdata[0]}<extra></extra>",
         "legendgroup": "Onion",
         "marker": {
          "color": "#00cc96"
         },
         "name": "Onion",
         "notched": false,
         "offsetgroup": "Onion",
         "orientation": "v",
         "showlegend": true,
         "type": "box",
         "x": [
          "2014",
          "2014",
          "2014",
          "2014",
          "2015",
          "2015",
          "2015",
          "2015",
          "2015",
          "2015",
          "2015",
          "2015",
          "2015",
          "2015",
          "2015",
          "2015",
          "2016",
          "2016",
          "2016",
          "2016",
          "2016",
          "2016",
          "2016",
          "2016",
          "2016",
          "2016",
          "2016",
          "2016",
          "2017",
          "2017",
          "2017",
          "2017",
          "2017",
          "2017",
          "2017",
          "2017",
          "2017",
          "2017",
          "2017",
          "2017",
          "2018",
          "2018",
          "2018",
          "2018",
          "2018",
          "2018",
          "2018",
          "2018",
          "2018",
          "2018",
          "2018",
          "2018",
          "2019",
          "2019",
          "2019",
          "2019",
          "2019",
          "2019",
          "2019",
          "2019",
          "2019",
          "2019",
          "2019",
          "2019",
          "2020",
          "2020",
          "2020",
          "2020",
          "2020",
          "2020",
          "2020",
          "2020",
          "2020",
          "2020",
          "2020",
          "2020",
          "2021",
          "2021",
          "2021",
          "2021",
          "2021",
          "2021",
          "2021",
          "2021",
          "2021",
          "2021",
          "2021",
          "2021",
          "2022",
          "2022",
          "2022",
          "2022",
          "2022",
          "2022",
          "2022",
          "2022",
          "2022",
          "2022",
          "2022",
          "2022",
          "2023",
          "2023",
          "2023",
          "2023",
          "2023",
          "2023",
          "2023",
          "2023",
          "2023",
          "2023",
          "2023",
          "2023",
          "2024",
          "2024",
          "2024",
          "2024",
          "2024",
          "2024",
          "2024",
          "2024",
          "2024",
          "2014",
          "2014",
          "2014",
          "2014",
          "2015",
          "2015",
          "2015",
          "2015",
          "2015",
          "2015",
          "2015",
          "2015",
          "2015",
          "2015",
          "2015",
          "2015",
          "2016",
          "2016",
          "2016",
          "2016",
          "2016",
          "2016",
          "2016",
          "2016",
          "2016",
          "2016",
          "2016",
          "2016",
          "2017",
          "2017",
          "2017",
          "2017",
          "2017",
          "2017",
          "2017",
          "2017",
          "2017",
          "2017",
          "2017",
          "2017",
          "2018",
          "2018",
          "2018",
          "2018",
          "2018",
          "2018",
          "2018",
          "2018",
          "2018",
          "2018",
          "2018",
          "2018",
          "2019",
          "2019",
          "2019",
          "2019",
          "2019",
          "2019",
          "2019",
          "2019",
          "2019",
          "2019",
          "2019",
          "2019",
          "2020",
          "2020",
          "2020",
          "2020",
          "2020",
          "2020",
          "2020",
          "2020",
          "2020",
          "2020",
          "2020",
          "2020",
          "2021",
          "2021",
          "2021",
          "2021",
          "2021",
          "2021",
          "2021",
          "2021",
          "2021",
          "2021",
          "2021",
          "2021",
          "2022",
          "2022",
          "2022",
          "2022",
          "2022",
          "2022",
          "2022",
          "2022",
          "2022",
          "2022",
          "2022",
          "2022",
          "2023",
          "2023",
          "2023",
          "2023",
          "2023",
          "2023",
          "2023",
          "2023",
          "2023",
          "2023",
          "2023",
          "2023",
          "2024",
          "2024",
          "2024",
          "2024",
          "2024",
          "2024",
          "2024",
          "2024",
          "2024",
          "2014",
          "2014",
          "2014",
          "2014",
          "2015",
          "2015",
          "2015",
          "2015",
          "2015",
          "2015",
          "2015",
          "2015",
          "2015",
          "2015",
          "2015",
          "2015",
          "2016",
          "2016",
          "2016",
          "2016",
          "2016",
          "2016",
          "2016",
          "2016",
          "2016",
          "2016",
          "2016",
          "2016",
          "2017",
          "2017",
          "2017",
          "2017",
          "2017",
          "2017",
          "2017",
          "2017",
          "2017",
          "2017",
          "2017",
          "2017",
          "2018",
          "2018",
          "2018",
          "2018",
          "2018",
          "2018",
          "2018",
          "2018",
          "2018",
          "2018",
          "2018",
          "2018",
          "2019",
          "2019",
          "2019",
          "2019",
          "2019",
          "2019",
          "2019",
          "2019",
          "2019",
          "2019",
          "2019",
          "2019",
          "2020",
          "2020",
          "2020",
          "2020",
          "2020",
          "2020",
          "2020",
          "2020",
          "2020",
          "2020",
          "2020",
          "2020",
          "2021",
          "2021",
          "2021",
          "2021",
          "2021",
          "2021",
          "2021",
          "2021",
          "2021",
          "2021",
          "2021",
          "2021",
          "2022",
          "2022",
          "2022",
          "2022",
          "2022",
          "2022",
          "2022",
          "2022",
          "2022",
          "2022",
          "2022",
          "2022",
          "2023",
          "2023",
          "2023",
          "2023",
          "2023",
          "2023",
          "2023",
          "2023",
          "2023",
          "2023",
          "2023",
          "2023",
          "2024",
          "2024",
          "2024",
          "2024",
          "2024",
          "2024",
          "2024",
          "2024",
          "2024"
         ],
         "x0": " ",
         "xaxis": "x",
         "y": [
          1513.8253367003367,
          1589.4715605250365,
          1634.948537378115,
          1655.8915525114155,
          1463.4875816993465,
          3127.9423361261706,
          1596.534907597536,
          1510.8339768339767,
          1557.868474301902,
          1778.5132662397073,
          1460.7704507512522,
          1599.9152183128444,
          1381.5094728171334,
          2477.073667711599,
          3498.7642890883326,
          4252.600647848219,
          975.1217298451681,
          922.9508465319498,
          858.0337301587301,
          1182.3331616889805,
          1302.5600211528292,
          899.1813074565883,
          830.1569396763119,
          1019.1327340031729,
          898.6671111111111,
          860.9832146490336,
          823.9710591133005,
          853.7124304267162,
          874.9965472593872,
          1627.3462432223082,
          2871.922772879295,
          855.2022147327876,
          837.0932317346482,
          760.3131054131054,
          748.8672951414068,
          862.2563440860215,
          784.615449556775,
          2585.4812480302553,
          1903.3636622932117,
          1683.1151079136691,
          1051.8190093708165,
          1377.4771376905192,
          1025.6577728776185,
          2285.2550355450235,
          2802.727321814255,
          1340.8765497230281,
          930.0657751091703,
          1534.815590947192,
          901.4734093067426,
          1306.5083354068177,
          1273.7384264538198,
          1257.089704142012,
          852.250462962963,
          1446.0090197009258,
          4971.474514563107,
          832.6268055884442,
          905.2340241796201,
          1184.0316143497757,
          966.3201119925338,
          833.4307553956835,
          908.9017643214986,
          3683.475195822454,
          3194.766031660853,
          2332.180339805825,
          1558.2262142381903,
          1180.8086820899402,
          2733.843556315452,
          2713.772551857212,
          4395.462865026443,
          1149.728258191673,
          987.6932416953035,
          2093.563579722458,
          1052.510569456428,
          3652.810700636943,
          3094.4976099426385,
          1842.1733333333334,
          1392.4604098153302,
          1981.604798870854,
          1856.5904568068747,
          2801.5844930417493,
          2406.784929356358,
          1968.8687772424869,
          1614.3320895522388,
          2274.694580134915,
          1418.7509042681456,
          2418.062656641604,
          2391.5553734488412,
          1884.6383918709962,
          1437.526996370236,
          1408.2486631016043,
          1365.7601296596433,
          2064.5647681451615,
          1883.1595601436265,
          1360.1728025770824,
          1222.100307287094,
          2066.8990825688074,
          1226.9795213989876,
          1596.102384291725,
          1443.4044600938967,
          1373.5991525423728,
          1162.9620454545454,
          1702.6751858736059,
          2762.364368633025,
          1357.6436839456467,
          1365.2495395948436,
          1415.1575976518402,
          1116.6347156129616,
          1195.397926267281,
          1114.4848010728654,
          3555.8105814824057,
          2201.238349176907,
          1941.358646953405,
          1694.6931763575203,
          2936.2084450402144,
          1584.623241145075,
          1883.0815440289505,
          2762.3092404241506,
          1904.5420433996383,
          1787.1131534972546,
          1596.1198622767376,
          3336.4814814814813,
          1196.4819023569023,
          1213.3393291200778,
          1228.353196099675,
          1106.7865296803652,
          1031.4357298474945,
          1878.962543124692,
          812.9748459958932,
          1139.004719004719,
          1225.7264265479562,
          1046.3563586459286,
          933.2095158597663,
          1181.6685036032218,
          925.4757001647447,
          1281.065830721003,
          1969.6849315068494,
          2540.707542804257,
          443.9615589962627,
          447.61059530311303,
          424.1046626984127,
          596.8820803295572,
          677.1073506081439,
          420.8799795709908,
          370.1314369789112,
          466.63141195134847,
          399.628,
          409.12512716174973,
          383.10899014778323,
          392.6709956709957,
          434.72378075097106,
          1380.8027368964626,
          2664.2392824566737,
          397.258064516129,
          374.1102644554012,
          615.9433048433049,
          584.9554024655547,
          412.8344086021505,
          555.596876319122,
          2369.002521273243,
          1742.654877353109,
          1510.8337615621788,
          973.2761713520749,
          1310.061741152157,
          957.3558985667034,
          2160.2861374407585,
          2661.5996220302377,
          1274.0991822738065,
          864.6481986899563,
          1430.2746577256216,
          828.8841405508073,
          1235.9885543667579,
          1207.2684150513112,
          1191.4613017751478,
          791.53125,
          1373.4478993591265,
          4849.593446601942,
          767.2119346436183,
          842.9019861830743,
          1115.560538116592,
          900.0429304713019,
          772.0490107913669,
          847.4737529949902,
          3582.909196402669,
          3094.5551381808423,
          2247.3449029126214,
          1484.3047238855622,
          1110.8682089940214,
          2639.0656123103226,
          2611.1213217559093,
          4255.556679696482,
          1082.4932249322494,
          924.8093928980527,
          2005.100821297083,
          987.4165228645384,
          3556.419363057325,
          3004.8341300191205,
          1763.2011494252874,
          1318.2049076650644,
          1904.196894848271,
          1778.3030303030303,
          2715.132703777336,
          2318.4770127831353,
          1892.9011241110347,
          1540.9015858208954,
          2193.256106071179,
          1347.8500120569086,
          2338.091478696742,
          2310.3439475532664,
          1808.857300640601,
          1360.7568058076224,
          1335.7350713012477,
          1293.5184070386663,
          1981.796370967742,
          1797.8242818671454,
          1286.3844914864244,
          1149.4769534679544,
          1985.6139731827805,
          1153.7075471698113,
          1520.205002337541,
          1370.7765258215964,
          1301.7747881355933,
          1092.7638636363636,
          1627.5178903345725,
          2670.2117981520964,
          1285.773527931555,
          1293.593462246777,
          1343.1043124858884,
          1048.2354407432586,
          1124.9297235023041,
          1046.7903442109969,
          3453.9500873471425,
          2118.9619754231394,
          1866.071012544803,
          1617.2847188851513,
          2843.1610813226093,
          1510.2957302280447,
          1803.8458383594693,
          2672.811296256222,
          1822.2893309222422,
          1707.7581761756983,
          1519.4114482461803,
          3234.814814814815,
          1284.1914983164984,
          1307.9591638308216,
          1338.7367280606718,
          1198.4931506849316,
          1104.686274509804,
          1984.5293247905372,
          878.8911704312115,
          1238.5615615615616,
          1319.5815459328207,
          1109.9748398902104,
          995.682387312187,
          1283.2963119966087,
          997.328665568369,
          1362.3380355276906,
          2082.269721303732,
          2640.6015733456734,
          486.679658302189,
          495.37411250682686,
          465.5922619047619,
          649.9459320288363,
          730.9598096245372,
          461.75434116445354,
          412.28445316331533,
          515.520888418826,
          437.71955555555553,
          452.5534079348932,
          424.7198275862069,
          433.8157081014224,
          482.8441950798446,
          1519.0415698424993,
          2850.177865612648,
          438.60568127106404,
          416.2850739578664,
          697.6720797720798,
          670.1327048585932,
          458.84258064516126,
          630.2363866610384,
          2557.0368736211785,
          1890.5182544209927,
          1646.4573484069888,
          1094.0665327978581,
          1427.844226298114,
          1069,
          2317.4611966824646,
          2831.2524298056155,
          1397.4204695331048,
          976.3378820960698,
          1565.1997764738753,
          940.460351377018,
          1352.474993779547,
          1325.0871151653364,
          1309.2373964497042,
          902.3650462962963,
          1500.830524566817,
          5090.224514563107,
          877.1056121240824,
          950.8488773747841,
          1237.7919282511211,
          1013.6854876341578,
          885.1072392086331,
          958.4654759311696,
          3777.5065274151434,
          3276.67668365978,
          2408.9126213592235,
          1627.2109115103126,
          1241.646217832077,
          2805.9856807010046,
          2792.0793535938255,
          4472.108530696712,
          1208.7169253510717,
          1057.0973654066438,
          2165.3633531577457,
          1113.591673856773,
          3734.2815286624204,
          3186.3353250478012,
          1912.4806896551725,
          1458.1502656210473,
          2049.9106092684074,
          1920.0445499773857,
          2887.932902584493,
          2483.0327427674365,
          2038.4540032117459,
          1681.9867070895523,
          2358.1258432193536,
          1485.9915601639739,
          2482.0538847117796,
          2458.3025052680873,
          1951.9166114424563,
          1501.2325317604357,
          1474.4463012477718,
          1428.7638342208845,
          2129.1847278225805,
          1944.3684919210054,
          1424.756327657616,
          1284.9885864793678,
          2144.1204422488827,
          1288.942936033134,
          1663.8106591865358,
          1505.31220657277,
          1438.1103813559323,
          1220.816590909091,
          1770.672630111524,
          2833.6969912343047,
          1418.4511826874686,
          1427.16620626151,
          1477.928200496726,
          1176.7677317017901,
          1256.1882488479262,
          1171.502682163612,
          3635.880958322935,
          2272.376072339439,
          2008.9827508960573,
          1768.1816434406535,
          3023.9754244861483,
          1651.2700145560407,
          1949.832810615199,
          2846.947413979658,
          1980.7045660036167,
          1853.8085461924086,
          1668.681730148483,
          3437.4074074074074
         ],
         "y0": " ",
         "yaxis": "y"
        },
        {
         "alignmentgroup": "True",
         "customdata": [
          [
           "Dec"
          ],
          [
           "Nov"
          ],
          [
           "Oct"
          ],
          [
           "Sep"
          ],
          [
           "Apr"
          ],
          [
           "Aug"
          ],
          [
           "Dec"
          ],
          [
           "Feb"
          ],
          [
           "Jan"
          ],
          [
           "Jul"
          ],
          [
           "Jun"
          ],
          [
           "Mar"
          ],
          [
           "May"
          ],
          [
           "Nov"
          ],
          [
           "Oct"
          ],
          [
           "Sep"
          ],
          [
           "Apr"
          ],
          [
           "Aug"
          ],
          [
           "Dec"
          ],
          [
           "Feb"
          ],
          [
           "Jan"
          ],
          [
           "Jul"
          ],
          [
           "Jun"
          ],
          [
           "Mar"
          ],
          [
           "May"
          ],
          [
           "Nov"
          ],
          [
           "Oct"
          ],
          [
           "Sep"
          ],
          [
           "Apr"
          ],
          [
           "Aug"
          ],
          [
           "Dec"
          ],
          [
           "Feb"
          ],
          [
           "Jan"
          ],
          [
           "Jul"
          ],
          [
           "Jun"
          ],
          [
           "Mar"
          ],
          [
           "May"
          ],
          [
           "Nov"
          ],
          [
           "Oct"
          ],
          [
           "Sep"
          ],
          [
           "Apr"
          ],
          [
           "Aug"
          ],
          [
           "Dec"
          ],
          [
           "Feb"
          ],
          [
           "Jan"
          ],
          [
           "Jul"
          ],
          [
           "Jun"
          ],
          [
           "Mar"
          ],
          [
           "May"
          ],
          [
           "Nov"
          ],
          [
           "Oct"
          ],
          [
           "Sep"
          ],
          [
           "Apr"
          ],
          [
           "Aug"
          ],
          [
           "Dec"
          ],
          [
           "Feb"
          ],
          [
           "Jan"
          ],
          [
           "Jul"
          ],
          [
           "Jun"
          ],
          [
           "Mar"
          ],
          [
           "May"
          ],
          [
           "Nov"
          ],
          [
           "Oct"
          ],
          [
           "Sep"
          ],
          [
           "Apr"
          ],
          [
           "Aug"
          ],
          [
           "Dec"
          ],
          [
           "Feb"
          ],
          [
           "Jan"
          ],
          [
           "Jul"
          ],
          [
           "Jun"
          ],
          [
           "Mar"
          ],
          [
           "May"
          ],
          [
           "Nov"
          ],
          [
           "Oct"
          ],
          [
           "Sep"
          ],
          [
           "Apr"
          ],
          [
           "Aug"
          ],
          [
           "Dec"
          ],
          [
           "Feb"
          ],
          [
           "Jan"
          ],
          [
           "Jul"
          ],
          [
           "Jun"
          ],
          [
           "Mar"
          ],
          [
           "May"
          ],
          [
           "Nov"
          ],
          [
           "Oct"
          ],
          [
           "Sep"
          ],
          [
           "Apr"
          ],
          [
           "Aug"
          ],
          [
           "Dec"
          ],
          [
           "Feb"
          ],
          [
           "Jan"
          ],
          [
           "Jul"
          ],
          [
           "Jun"
          ],
          [
           "Mar"
          ],
          [
           "May"
          ],
          [
           "Nov"
          ],
          [
           "Oct"
          ],
          [
           "Sep"
          ],
          [
           "Apr"
          ],
          [
           "Aug"
          ],
          [
           "Dec"
          ],
          [
           "Feb"
          ],
          [
           "Jan"
          ],
          [
           "Jul"
          ],
          [
           "Jun"
          ],
          [
           "Mar"
          ],
          [
           "May"
          ],
          [
           "Nov"
          ],
          [
           "Oct"
          ],
          [
           "Sep"
          ],
          [
           "Apr"
          ],
          [
           "Aug"
          ],
          [
           "Feb"
          ],
          [
           "Jan"
          ],
          [
           "Jul"
          ],
          [
           "Jun"
          ],
          [
           "Mar"
          ],
          [
           "May"
          ],
          [
           "Sep"
          ],
          [
           "Dec"
          ],
          [
           "Nov"
          ],
          [
           "Oct"
          ],
          [
           "Sep"
          ],
          [
           "Apr"
          ],
          [
           "Aug"
          ],
          [
           "Dec"
          ],
          [
           "Feb"
          ],
          [
           "Jan"
          ],
          [
           "Jul"
          ],
          [
           "Jun"
          ],
          [
           "Mar"
          ],
          [
           "May"
          ],
          [
           "Nov"
          ],
          [
           "Oct"
          ],
          [
           "Sep"
          ],
          [
           "Apr"
          ],
          [
           "Aug"
          ],
          [
           "Dec"
          ],
          [
           "Feb"
          ],
          [
           "Jan"
          ],
          [
           "Jul"
          ],
          [
           "Jun"
          ],
          [
           "Mar"
          ],
          [
           "May"
          ],
          [
           "Nov"
          ],
          [
           "Oct"
          ],
          [
           "Sep"
          ],
          [
           "Apr"
          ],
          [
           "Aug"
          ],
          [
           "Dec"
          ],
          [
           "Feb"
          ],
          [
           "Jan"
          ],
          [
           "Jul"
          ],
          [
           "Jun"
          ],
          [
           "Mar"
          ],
          [
           "May"
          ],
          [
           "Nov"
          ],
          [
           "Oct"
          ],
          [
           "Sep"
          ],
          [
           "Apr"
          ],
          [
           "Aug"
          ],
          [
           "Dec"
          ],
          [
           "Feb"
          ],
          [
           "Jan"
          ],
          [
           "Jul"
          ],
          [
           "Jun"
          ],
          [
           "Mar"
          ],
          [
           "May"
          ],
          [
           "Nov"
          ],
          [
           "Oct"
          ],
          [
           "Sep"
          ],
          [
           "Apr"
          ],
          [
           "Aug"
          ],
          [
           "Dec"
          ],
          [
           "Feb"
          ],
          [
           "Jan"
          ],
          [
           "Jul"
          ],
          [
           "Jun"
          ],
          [
           "Mar"
          ],
          [
           "May"
          ],
          [
           "Nov"
          ],
          [
           "Oct"
          ],
          [
           "Sep"
          ],
          [
           "Apr"
          ],
          [
           "Aug"
          ],
          [
           "Dec"
          ],
          [
           "Feb"
          ],
          [
           "Jan"
          ],
          [
           "Jul"
          ],
          [
           "Jun"
          ],
          [
           "Mar"
          ],
          [
           "May"
          ],
          [
           "Nov"
          ],
          [
           "Oct"
          ],
          [
           "Sep"
          ],
          [
           "Apr"
          ],
          [
           "Aug"
          ],
          [
           "Dec"
          ],
          [
           "Feb"
          ],
          [
           "Jan"
          ],
          [
           "Jul"
          ],
          [
           "Jun"
          ],
          [
           "Mar"
          ],
          [
           "May"
          ],
          [
           "Nov"
          ],
          [
           "Oct"
          ],
          [
           "Sep"
          ],
          [
           "Apr"
          ],
          [
           "Aug"
          ],
          [
           "Dec"
          ],
          [
           "Feb"
          ],
          [
           "Jan"
          ],
          [
           "Jul"
          ],
          [
           "Jun"
          ],
          [
           "Mar"
          ],
          [
           "May"
          ],
          [
           "Nov"
          ],
          [
           "Oct"
          ],
          [
           "Sep"
          ],
          [
           "Apr"
          ],
          [
           "Aug"
          ],
          [
           "Dec"
          ],
          [
           "Feb"
          ],
          [
           "Jan"
          ],
          [
           "Jul"
          ],
          [
           "Jun"
          ],
          [
           "Mar"
          ],
          [
           "May"
          ],
          [
           "Nov"
          ],
          [
           "Oct"
          ],
          [
           "Sep"
          ],
          [
           "Apr"
          ],
          [
           "Aug"
          ],
          [
           "Feb"
          ],
          [
           "Jan"
          ],
          [
           "Jul"
          ],
          [
           "Jun"
          ],
          [
           "Mar"
          ],
          [
           "May"
          ],
          [
           "Sep"
          ],
          [
           "Dec"
          ],
          [
           "Nov"
          ],
          [
           "Oct"
          ],
          [
           "Sep"
          ],
          [
           "Apr"
          ],
          [
           "Aug"
          ],
          [
           "Dec"
          ],
          [
           "Feb"
          ],
          [
           "Jan"
          ],
          [
           "Jul"
          ],
          [
           "Jun"
          ],
          [
           "Mar"
          ],
          [
           "May"
          ],
          [
           "Nov"
          ],
          [
           "Oct"
          ],
          [
           "Sep"
          ],
          [
           "Apr"
          ],
          [
           "Aug"
          ],
          [
           "Dec"
          ],
          [
           "Feb"
          ],
          [
           "Jan"
          ],
          [
           "Jul"
          ],
          [
           "Jun"
          ],
          [
           "Mar"
          ],
          [
           "May"
          ],
          [
           "Nov"
          ],
          [
           "Oct"
          ],
          [
           "Sep"
          ],
          [
           "Apr"
          ],
          [
           "Aug"
          ],
          [
           "Dec"
          ],
          [
           "Feb"
          ],
          [
           "Jan"
          ],
          [
           "Jul"
          ],
          [
           "Jun"
          ],
          [
           "Mar"
          ],
          [
           "May"
          ],
          [
           "Nov"
          ],
          [
           "Oct"
          ],
          [
           "Sep"
          ],
          [
           "Apr"
          ],
          [
           "Aug"
          ],
          [
           "Dec"
          ],
          [
           "Feb"
          ],
          [
           "Jan"
          ],
          [
           "Jul"
          ],
          [
           "Jun"
          ],
          [
           "Mar"
          ],
          [
           "May"
          ],
          [
           "Nov"
          ],
          [
           "Oct"
          ],
          [
           "Sep"
          ],
          [
           "Apr"
          ],
          [
           "Aug"
          ],
          [
           "Dec"
          ],
          [
           "Feb"
          ],
          [
           "Jan"
          ],
          [
           "Jul"
          ],
          [
           "Jun"
          ],
          [
           "Mar"
          ],
          [
           "May"
          ],
          [
           "Nov"
          ],
          [
           "Oct"
          ],
          [
           "Sep"
          ],
          [
           "Apr"
          ],
          [
           "Aug"
          ],
          [
           "Dec"
          ],
          [
           "Feb"
          ],
          [
           "Jan"
          ],
          [
           "Jul"
          ],
          [
           "Jun"
          ],
          [
           "Mar"
          ],
          [
           "May"
          ],
          [
           "Nov"
          ],
          [
           "Oct"
          ],
          [
           "Sep"
          ],
          [
           "Apr"
          ],
          [
           "Aug"
          ],
          [
           "Dec"
          ],
          [
           "Feb"
          ],
          [
           "Jan"
          ],
          [
           "Jul"
          ],
          [
           "Jun"
          ],
          [
           "Mar"
          ],
          [
           "May"
          ],
          [
           "Nov"
          ],
          [
           "Oct"
          ],
          [
           "Sep"
          ],
          [
           "Apr"
          ],
          [
           "Aug"
          ],
          [
           "Dec"
          ],
          [
           "Feb"
          ],
          [
           "Jan"
          ],
          [
           "Jul"
          ],
          [
           "Jun"
          ],
          [
           "Mar"
          ],
          [
           "May"
          ],
          [
           "Nov"
          ],
          [
           "Oct"
          ],
          [
           "Sep"
          ],
          [
           "Apr"
          ],
          [
           "Aug"
          ],
          [
           "Dec"
          ],
          [
           "Feb"
          ],
          [
           "Jan"
          ],
          [
           "Jul"
          ],
          [
           "Jun"
          ],
          [
           "Mar"
          ],
          [
           "May"
          ],
          [
           "Nov"
          ],
          [
           "Oct"
          ],
          [
           "Sep"
          ],
          [
           "Apr"
          ],
          [
           "Aug"
          ],
          [
           "Feb"
          ],
          [
           "Jan"
          ],
          [
           "Jul"
          ],
          [
           "Jun"
          ],
          [
           "Mar"
          ],
          [
           "May"
          ],
          [
           "Sep"
          ]
         ],
         "hovertemplate": "commodity=Potato<br>year=%{x}<br>value=%{y}<br>month=%{customdata[0]}<extra></extra>",
         "legendgroup": "Potato",
         "marker": {
          "color": "#ab63fa"
         },
         "name": "Potato",
         "notched": false,
         "offsetgroup": "Potato",
         "orientation": "v",
         "showlegend": true,
         "type": "box",
         "x": [
          "2014",
          "2014",
          "2014",
          "2014",
          "2015",
          "2015",
          "2015",
          "2015",
          "2015",
          "2015",
          "2015",
          "2015",
          "2015",
          "2015",
          "2015",
          "2015",
          "2016",
          "2016",
          "2016",
          "2016",
          "2016",
          "2016",
          "2016",
          "2016",
          "2016",
          "2016",
          "2016",
          "2016",
          "2017",
          "2017",
          "2017",
          "2017",
          "2017",
          "2017",
          "2017",
          "2017",
          "2017",
          "2017",
          "2017",
          "2017",
          "2018",
          "2018",
          "2018",
          "2018",
          "2018",
          "2018",
          "2018",
          "2018",
          "2018",
          "2018",
          "2018",
          "2018",
          "2019",
          "2019",
          "2019",
          "2019",
          "2019",
          "2019",
          "2019",
          "2019",
          "2019",
          "2019",
          "2019",
          "2019",
          "2020",
          "2020",
          "2020",
          "2020",
          "2020",
          "2020",
          "2020",
          "2020",
          "2020",
          "2020",
          "2020",
          "2020",
          "2021",
          "2021",
          "2021",
          "2021",
          "2021",
          "2021",
          "2021",
          "2021",
          "2021",
          "2021",
          "2021",
          "2021",
          "2022",
          "2022",
          "2022",
          "2022",
          "2022",
          "2022",
          "2022",
          "2022",
          "2022",
          "2022",
          "2022",
          "2022",
          "2023",
          "2023",
          "2023",
          "2023",
          "2023",
          "2023",
          "2023",
          "2023",
          "2023",
          "2023",
          "2023",
          "2023",
          "2024",
          "2024",
          "2024",
          "2024",
          "2024",
          "2024",
          "2024",
          "2024",
          "2024",
          "2014",
          "2014",
          "2014",
          "2014",
          "2015",
          "2015",
          "2015",
          "2015",
          "2015",
          "2015",
          "2015",
          "2015",
          "2015",
          "2015",
          "2015",
          "2015",
          "2016",
          "2016",
          "2016",
          "2016",
          "2016",
          "2016",
          "2016",
          "2016",
          "2016",
          "2016",
          "2016",
          "2016",
          "2017",
          "2017",
          "2017",
          "2017",
          "2017",
          "2017",
          "2017",
          "2017",
          "2017",
          "2017",
          "2017",
          "2017",
          "2018",
          "2018",
          "2018",
          "2018",
          "2018",
          "2018",
          "2018",
          "2018",
          "2018",
          "2018",
          "2018",
          "2018",
          "2019",
          "2019",
          "2019",
          "2019",
          "2019",
          "2019",
          "2019",
          "2019",
          "2019",
          "2019",
          "2019",
          "2019",
          "2020",
          "2020",
          "2020",
          "2020",
          "2020",
          "2020",
          "2020",
          "2020",
          "2020",
          "2020",
          "2020",
          "2020",
          "2021",
          "2021",
          "2021",
          "2021",
          "2021",
          "2021",
          "2021",
          "2021",
          "2021",
          "2021",
          "2021",
          "2021",
          "2022",
          "2022",
          "2022",
          "2022",
          "2022",
          "2022",
          "2022",
          "2022",
          "2022",
          "2022",
          "2022",
          "2022",
          "2023",
          "2023",
          "2023",
          "2023",
          "2023",
          "2023",
          "2023",
          "2023",
          "2023",
          "2023",
          "2023",
          "2023",
          "2024",
          "2024",
          "2024",
          "2024",
          "2024",
          "2024",
          "2024",
          "2024",
          "2024",
          "2014",
          "2014",
          "2014",
          "2014",
          "2015",
          "2015",
          "2015",
          "2015",
          "2015",
          "2015",
          "2015",
          "2015",
          "2015",
          "2015",
          "2015",
          "2015",
          "2016",
          "2016",
          "2016",
          "2016",
          "2016",
          "2016",
          "2016",
          "2016",
          "2016",
          "2016",
          "2016",
          "2016",
          "2017",
          "2017",
          "2017",
          "2017",
          "2017",
          "2017",
          "2017",
          "2017",
          "2017",
          "2017",
          "2017",
          "2017",
          "2018",
          "2018",
          "2018",
          "2018",
          "2018",
          "2018",
          "2018",
          "2018",
          "2018",
          "2018",
          "2018",
          "2018",
          "2019",
          "2019",
          "2019",
          "2019",
          "2019",
          "2019",
          "2019",
          "2019",
          "2019",
          "2019",
          "2019",
          "2019",
          "2020",
          "2020",
          "2020",
          "2020",
          "2020",
          "2020",
          "2020",
          "2020",
          "2020",
          "2020",
          "2020",
          "2020",
          "2021",
          "2021",
          "2021",
          "2021",
          "2021",
          "2021",
          "2021",
          "2021",
          "2021",
          "2021",
          "2021",
          "2021",
          "2022",
          "2022",
          "2022",
          "2022",
          "2022",
          "2022",
          "2022",
          "2022",
          "2022",
          "2022",
          "2022",
          "2022",
          "2023",
          "2023",
          "2023",
          "2023",
          "2023",
          "2023",
          "2023",
          "2023",
          "2023",
          "2023",
          "2023",
          "2023",
          "2024",
          "2024",
          "2024",
          "2024",
          "2024",
          "2024",
          "2024",
          "2024",
          "2024"
         ],
         "x0": " ",
         "xaxis": "x",
         "y": [
          908.8571713943268,
          1910.7642857142857,
          1991.873873873874,
          1783.873779296875,
          515.6194581280788,
          681.1027176416397,
          673.978947368421,
          586.5305711987128,
          632.5218315301391,
          682.3541212385521,
          611.6329365079365,
          567.5157057654076,
          530.5745105872952,
          803.5318518518518,
          726.2004524886878,
          667.9956197985107,
          828.5919212843087,
          1485.5275590551182,
          606.4620132953467,
          504.34928465712875,
          514.4111392405064,
          1427.4629812438302,
          1239.6019002375297,
          686.7221649484536,
          1041.332751853467,
          1031.3719571567674,
          1220.5740528128588,
          1381.417576703068,
          465.26741760534003,
          521.2498414711478,
          478.7120273445845,
          456.8262279888786,
          471.9258300991807,
          544.2364187456284,
          523.1814320388349,
          446.02662229617306,
          487.54684975767367,
          476.21735261401557,
          475.77698324022344,
          501.5958745527257,
          832.3454668776849,
          1219.2595982142857,
          764.9127708095781,
          485.04803186504216,
          490.2350210970464,
          1234.5309734513273,
          1179.5646945646945,
          650.5693025322079,
          1075.9006677796326,
          1140.8557753669431,
          1198.0722092115534,
          1176.3249437282586,
          626.862676056338,
          820.1144104803493,
          1137.3652855081427,
          543.773918469218,
          574.4574935873947,
          830.3144993768176,
          780.2825335062689,
          584.6787842669845,
          708.9575320512821,
          913.3897736797989,
          837.6547095070423,
          783.6777251184834,
          1463.477807876641,
          2109.600953097567,
          1774.7815354713314,
          1007.3128406365817,
          1189.3329355608591,
          1893.5900975958104,
          1571.7618515205725,
          1165.7084957131722,
          1473.96806304438,
          2928.419799206164,
          2623.7361776229864,
          2372.863959165557,
          791.1242280285036,
          1000.6519361190111,
          947.9920849822954,
          672.3043281214593,
          880.680971659919,
          1010.676750216076,
          993.5879396984925,
          694.3971722365038,
          954.8356102003643,
          1341.1694001874414,
          1064.872703695699,
          971.2637000412032,
          878.0102360559849,
          1468.849193214729,
          1222.117365019804,
          794.2672554032071,
          809.2150291423814,
          1353.0321120689655,
          1203.1462515362557,
          873.1875,
          1019.1176221705099,
          1511.441452991453,
          1509.7622827719374,
          1462.3361295357004,
          743.5281586163256,
          1138.0584429588096,
          849.2828498293516,
          682.2649159179913,
          862.3306434487153,
          1105.732019291256,
          957.7914672216441,
          626.4978632478633,
          887.4133882595263,
          998.647963800905,
          1023.0926870748299,
          1086.3703164029976,
          1468.6002670821279,
          2182.4873684210525,
          760.5064301552106,
          721.7426003069502,
          2148.8737076829516,
          1757.6762559038214,
          1141.6562840339795,
          1624.8802370733702,
          2132,
          717.5415501398322,
          1477.5801095238096,
          1562.88988988989,
          1294.584228515625,
          341.20443349753697,
          376.04560110548135,
          336.4812030075188,
          428.8423169750603,
          484.45768933539415,
          378.9315307457479,
          373.10873015873017,
          402.7590457256461,
          338.08230123851376,
          405.4962962962963,
          382.29864253393663,
          366.4515987735436,
          365.79596064215434,
          708.3517060367454,
          298.32383665717,
          238.73704982733102,
          249.37620253164556,
          656.3326752221126,
          561.8883610451306,
          309.69072164948454,
          466.07937200174445,
          508.786270691334,
          591.1481056257176,
          678.408736349454,
          228.9616186900292,
          428.10653138871277,
          411.33817560350354,
          209.21455050973123,
          211.56748598533852,
          437.8337607833994,
          412.7876213592233,
          208.38394342762064,
          350.8247172859451,
          405.4162402669633,
          406.09206703910615,
          421.5741949063355,
          755.0804883563193,
          1152.5779017857142,
          703.0623337134169,
          426.07849109653233,
          430.5411392405063,
          1166.019329296693,
          1105.0644540644541,
          577.6956908040871,
          986.1354340567613,
          1067.5379706445437,
          1129.8920765027322,
          1110.414364640884,
          572.3123446561723,
          762.256768558952,
          1062.7870542156256,
          490.46131447587356,
          520.9400879443019,
          772.6852928957209,
          722.8229571984435,
          531.0260230433055,
          653.5122195512821,
          850.7833193629506,
          776.0231073943662,
          726.1436225015455,
          1393.884559283184,
          2035.2239779282668,
          1690.3016520894073,
          941.4209723130587,
          1116.7319013524263,
          1820.9464413234944,
          1506.0420393559928,
          1098.0823590542998,
          1408.6476565740356,
          2845.1421900537007,
          2548.102307357423,
          2296.869729249889,
          731.610213776722,
          937.426383723474,
          881.7733805457196,
          615.7079084523,
          817.0599190283401,
          949.3247623163353,
          933.5632510377977,
          637.2600685518423,
          894.3879781420765,
          1272.4707122774132,
          1000.2705856926734,
          909.9388133498146,
          816.3421767286401,
          1399.2637567232107,
          1150.3908692933082,
          731.3237276318847,
          742.8170274771024,
          1282.9081896551725,
          1134.2974190905368,
          810.3695746527778,
          953.115506663846,
          1437.8149572649572,
          1439.8603304012015,
          1393.6747951619195,
          683.2621809744779,
          1074.4608583135648,
          785.0358361774744,
          621.2667588113338,
          797.1758335102994,
          1042.4548123296288,
          894.9273673257024,
          566.2224358974358,
          825.264675592173,
          933.6156108597285,
          957.03125,
          1022.2348043297252,
          1391.1798352993546,
          2101.225684210526,
          695.9383592017739,
          658.7836000877,
          2063.775795661869,
          1680.601975096608,
          1070.1426704421694,
          1545.630083793174,
          2052.3333333333335,
          798.0797043547743,
          1586.8666666666666,
          1661.3223223223224,
          1383.9140625,
          396.2807881773399,
          421.2805158912943,
          379.3674185463659,
          492.66532582461787,
          554.5183539412674,
          429.60575665067597,
          427.6452380952381,
          468.47077534791254,
          390.30842988413906,
          456.94469135802467,
          431.4420814479638,
          414.30091984231274,
          402.21698601760744,
          759.4015748031496,
          341.7606837606838,
          284.4849531327084,
          289.4582278481013,
          702.9713721618954,
          601.6156769596199,
          349.3958762886598,
          503.88791975577846,
          553.7804284323272,
          639.4259471871412,
          726.2288091523661,
          268.0229453483521,
          503.97801733248787,
          494.7094637897885,
          246.03799814643187,
          248.57222940922813,
          512.5985078106785,
          488.64896844660194,
          246.99376039933443,
          420.9034733441034,
          488.4389321468298,
          481.494748603352,
          497.5036834350663,
          862.7576305674881,
          1266.7252232142857,
          810.9502090459902,
          504.32872539831305,
          510.50084388185655,
          1283.0784816022356,
          1220.539923039923,
          674.6632607729898,
          1106.9563856427378,
          1187.7175069134228,
          1247.0544496487119,
          1223.7131164313485,
          667.9604391052195,
          866.2587336244542,
          1192.9787672644816,
          584.5923460898503,
          616.0058629534628,
          879.1742833402576,
          822.8994811932555,
          628.8539928486293,
          751.2183493589744,
          968.7818524727578,
          891.9916373239437,
          831.3307232639604,
          1529.9764534277974,
          2180.073488838726,
          1834.7906705539358,
          1064.447133202529,
          1238.2416467780429,
          1960.9747679124018,
          1636.853533094812,
          1227.8648999740192,
          1537.1107424305267,
          3001.4821386878357,
          2702.1680452764476,
          2444.232134931203,
          844.4061757719714,
          1062.200831327937,
          1005.3386794417829,
          724.8987083616587,
          936.2198380566801,
          1069.7826274848746,
          1049.747651299978,
          746.8365467009426,
          1009.3622495446266,
          1401.3619962511716,
          1119.731359412146,
          1028.160486196951,
          934.2717777313558,
          1536.816921803889,
          1282.3297894517407,
          847.2228677666744,
          860.6865112406329,
          1421.4696120689655,
          1268.445104465383,
          930.3528645833334,
          1081.3101332769197,
          1580.0529914529914,
          1575.2915683329757,
          1528.2358564182598,
          792.7951908879983,
          1200.7328013802028,
          906.4502986348123,
          733.9253628196268,
          917.6351667020599,
          1168.4367791989935,
          1016.335691987513,
          673.4839743589744,
          939.0692070030896,
          1056.5572398190045,
          1084.343537414966,
          1150.470024979184,
          1539.8215001112842,
          2261.692,
          815.3212860310422,
          777.8846744135058,
          2230.496452463004,
          1830.8692571919278,
          1207.3776954911784,
          1697.2791743306764,
          2217.5
         ],
         "y0": " ",
         "yaxis": "y"
        },
        {
         "alignmentgroup": "True",
         "customdata": [
          [
           "Dec"
          ],
          [
           "Nov"
          ],
          [
           "Oct"
          ],
          [
           "Sep"
          ],
          [
           "Apr"
          ],
          [
           "Aug"
          ],
          [
           "Dec"
          ],
          [
           "Feb"
          ],
          [
           "Jan"
          ],
          [
           "Jul"
          ],
          [
           "Jun"
          ],
          [
           "Mar"
          ],
          [
           "May"
          ],
          [
           "Nov"
          ],
          [
           "Oct"
          ],
          [
           "Sep"
          ],
          [
           "Apr"
          ],
          [
           "Aug"
          ],
          [
           "Dec"
          ],
          [
           "Feb"
          ],
          [
           "Jan"
          ],
          [
           "Jul"
          ],
          [
           "Jun"
          ],
          [
           "Mar"
          ],
          [
           "May"
          ],
          [
           "Nov"
          ],
          [
           "Oct"
          ],
          [
           "Sep"
          ],
          [
           "Apr"
          ],
          [
           "Aug"
          ],
          [
           "Dec"
          ],
          [
           "Feb"
          ],
          [
           "Jan"
          ],
          [
           "Jul"
          ],
          [
           "Jun"
          ],
          [
           "Mar"
          ],
          [
           "May"
          ],
          [
           "Nov"
          ],
          [
           "Oct"
          ],
          [
           "Sep"
          ],
          [
           "Apr"
          ],
          [
           "Aug"
          ],
          [
           "Dec"
          ],
          [
           "Feb"
          ],
          [
           "Jan"
          ],
          [
           "Jul"
          ],
          [
           "Jun"
          ],
          [
           "Mar"
          ],
          [
           "May"
          ],
          [
           "Nov"
          ],
          [
           "Oct"
          ],
          [
           "Sep"
          ],
          [
           "Apr"
          ],
          [
           "Aug"
          ],
          [
           "Dec"
          ],
          [
           "Feb"
          ],
          [
           "Jan"
          ],
          [
           "Jul"
          ],
          [
           "Jun"
          ],
          [
           "Mar"
          ],
          [
           "May"
          ],
          [
           "Nov"
          ],
          [
           "Oct"
          ],
          [
           "Sep"
          ],
          [
           "Apr"
          ],
          [
           "Aug"
          ],
          [
           "Dec"
          ],
          [
           "Feb"
          ],
          [
           "Jan"
          ],
          [
           "Jul"
          ],
          [
           "Jun"
          ],
          [
           "Mar"
          ],
          [
           "May"
          ],
          [
           "Nov"
          ],
          [
           "Oct"
          ],
          [
           "Sep"
          ],
          [
           "Apr"
          ],
          [
           "Aug"
          ],
          [
           "Dec"
          ],
          [
           "Feb"
          ],
          [
           "Jan"
          ],
          [
           "Jul"
          ],
          [
           "Jun"
          ],
          [
           "Mar"
          ],
          [
           "May"
          ],
          [
           "Nov"
          ],
          [
           "Oct"
          ],
          [
           "Sep"
          ],
          [
           "Apr"
          ],
          [
           "Aug"
          ],
          [
           "Dec"
          ],
          [
           "Feb"
          ],
          [
           "Jan"
          ],
          [
           "Jul"
          ],
          [
           "Jun"
          ],
          [
           "Mar"
          ],
          [
           "May"
          ],
          [
           "Nov"
          ],
          [
           "Oct"
          ],
          [
           "Sep"
          ],
          [
           "Apr"
          ],
          [
           "Aug"
          ],
          [
           "Dec"
          ],
          [
           "Feb"
          ],
          [
           "Jan"
          ],
          [
           "Jul"
          ],
          [
           "Jun"
          ],
          [
           "Mar"
          ],
          [
           "May"
          ],
          [
           "Nov"
          ],
          [
           "Oct"
          ],
          [
           "Sep"
          ],
          [
           "Apr"
          ],
          [
           "Aug"
          ],
          [
           "Feb"
          ],
          [
           "Jan"
          ],
          [
           "Jul"
          ],
          [
           "Jun"
          ],
          [
           "Mar"
          ],
          [
           "May"
          ],
          [
           "Sep"
          ],
          [
           "Dec"
          ],
          [
           "Nov"
          ],
          [
           "Oct"
          ],
          [
           "Sep"
          ],
          [
           "Apr"
          ],
          [
           "Aug"
          ],
          [
           "Dec"
          ],
          [
           "Feb"
          ],
          [
           "Jan"
          ],
          [
           "Jul"
          ],
          [
           "Jun"
          ],
          [
           "Mar"
          ],
          [
           "May"
          ],
          [
           "Nov"
          ],
          [
           "Oct"
          ],
          [
           "Sep"
          ],
          [
           "Apr"
          ],
          [
           "Aug"
          ],
          [
           "Dec"
          ],
          [
           "Feb"
          ],
          [
           "Jan"
          ],
          [
           "Jul"
          ],
          [
           "Jun"
          ],
          [
           "Mar"
          ],
          [
           "May"
          ],
          [
           "Nov"
          ],
          [
           "Oct"
          ],
          [
           "Sep"
          ],
          [
           "Apr"
          ],
          [
           "Aug"
          ],
          [
           "Dec"
          ],
          [
           "Feb"
          ],
          [
           "Jan"
          ],
          [
           "Jul"
          ],
          [
           "Jun"
          ],
          [
           "Mar"
          ],
          [
           "May"
          ],
          [
           "Nov"
          ],
          [
           "Oct"
          ],
          [
           "Sep"
          ],
          [
           "Apr"
          ],
          [
           "Aug"
          ],
          [
           "Dec"
          ],
          [
           "Feb"
          ],
          [
           "Jan"
          ],
          [
           "Jul"
          ],
          [
           "Jun"
          ],
          [
           "Mar"
          ],
          [
           "May"
          ],
          [
           "Nov"
          ],
          [
           "Oct"
          ],
          [
           "Sep"
          ],
          [
           "Apr"
          ],
          [
           "Aug"
          ],
          [
           "Dec"
          ],
          [
           "Feb"
          ],
          [
           "Jan"
          ],
          [
           "Jul"
          ],
          [
           "Jun"
          ],
          [
           "Mar"
          ],
          [
           "May"
          ],
          [
           "Nov"
          ],
          [
           "Oct"
          ],
          [
           "Sep"
          ],
          [
           "Apr"
          ],
          [
           "Aug"
          ],
          [
           "Dec"
          ],
          [
           "Feb"
          ],
          [
           "Jan"
          ],
          [
           "Jul"
          ],
          [
           "Jun"
          ],
          [
           "Mar"
          ],
          [
           "May"
          ],
          [
           "Nov"
          ],
          [
           "Oct"
          ],
          [
           "Sep"
          ],
          [
           "Apr"
          ],
          [
           "Aug"
          ],
          [
           "Dec"
          ],
          [
           "Feb"
          ],
          [
           "Jan"
          ],
          [
           "Jul"
          ],
          [
           "Jun"
          ],
          [
           "Mar"
          ],
          [
           "May"
          ],
          [
           "Nov"
          ],
          [
           "Oct"
          ],
          [
           "Sep"
          ],
          [
           "Apr"
          ],
          [
           "Aug"
          ],
          [
           "Dec"
          ],
          [
           "Feb"
          ],
          [
           "Jan"
          ],
          [
           "Jul"
          ],
          [
           "Jun"
          ],
          [
           "Mar"
          ],
          [
           "May"
          ],
          [
           "Nov"
          ],
          [
           "Oct"
          ],
          [
           "Sep"
          ],
          [
           "Apr"
          ],
          [
           "Aug"
          ],
          [
           "Dec"
          ],
          [
           "Feb"
          ],
          [
           "Jan"
          ],
          [
           "Jul"
          ],
          [
           "Jun"
          ],
          [
           "Mar"
          ],
          [
           "May"
          ],
          [
           "Nov"
          ],
          [
           "Oct"
          ],
          [
           "Sep"
          ],
          [
           "Apr"
          ],
          [
           "Aug"
          ],
          [
           "Feb"
          ],
          [
           "Jan"
          ],
          [
           "Jul"
          ],
          [
           "Jun"
          ],
          [
           "Mar"
          ],
          [
           "May"
          ],
          [
           "Sep"
          ],
          [
           "Dec"
          ],
          [
           "Nov"
          ],
          [
           "Oct"
          ],
          [
           "Sep"
          ],
          [
           "Apr"
          ],
          [
           "Aug"
          ],
          [
           "Dec"
          ],
          [
           "Feb"
          ],
          [
           "Jan"
          ],
          [
           "Jul"
          ],
          [
           "Jun"
          ],
          [
           "Mar"
          ],
          [
           "May"
          ],
          [
           "Nov"
          ],
          [
           "Oct"
          ],
          [
           "Sep"
          ],
          [
           "Apr"
          ],
          [
           "Aug"
          ],
          [
           "Dec"
          ],
          [
           "Feb"
          ],
          [
           "Jan"
          ],
          [
           "Jul"
          ],
          [
           "Jun"
          ],
          [
           "Mar"
          ],
          [
           "May"
          ],
          [
           "Nov"
          ],
          [
           "Oct"
          ],
          [
           "Sep"
          ],
          [
           "Apr"
          ],
          [
           "Aug"
          ],
          [
           "Dec"
          ],
          [
           "Feb"
          ],
          [
           "Jan"
          ],
          [
           "Jul"
          ],
          [
           "Jun"
          ],
          [
           "Mar"
          ],
          [
           "May"
          ],
          [
           "Nov"
          ],
          [
           "Oct"
          ],
          [
           "Sep"
          ],
          [
           "Apr"
          ],
          [
           "Aug"
          ],
          [
           "Dec"
          ],
          [
           "Feb"
          ],
          [
           "Jan"
          ],
          [
           "Jul"
          ],
          [
           "Jun"
          ],
          [
           "Mar"
          ],
          [
           "May"
          ],
          [
           "Nov"
          ],
          [
           "Oct"
          ],
          [
           "Sep"
          ],
          [
           "Apr"
          ],
          [
           "Aug"
          ],
          [
           "Dec"
          ],
          [
           "Feb"
          ],
          [
           "Jan"
          ],
          [
           "Jul"
          ],
          [
           "Jun"
          ],
          [
           "Mar"
          ],
          [
           "May"
          ],
          [
           "Nov"
          ],
          [
           "Oct"
          ],
          [
           "Sep"
          ],
          [
           "Apr"
          ],
          [
           "Aug"
          ],
          [
           "Dec"
          ],
          [
           "Feb"
          ],
          [
           "Jan"
          ],
          [
           "Jul"
          ],
          [
           "Jun"
          ],
          [
           "Mar"
          ],
          [
           "May"
          ],
          [
           "Nov"
          ],
          [
           "Oct"
          ],
          [
           "Sep"
          ],
          [
           "Apr"
          ],
          [
           "Aug"
          ],
          [
           "Dec"
          ],
          [
           "Feb"
          ],
          [
           "Jan"
          ],
          [
           "Jul"
          ],
          [
           "Jun"
          ],
          [
           "Mar"
          ],
          [
           "May"
          ],
          [
           "Nov"
          ],
          [
           "Oct"
          ],
          [
           "Sep"
          ],
          [
           "Apr"
          ],
          [
           "Aug"
          ],
          [
           "Dec"
          ],
          [
           "Feb"
          ],
          [
           "Jan"
          ],
          [
           "Jul"
          ],
          [
           "Jun"
          ],
          [
           "Mar"
          ],
          [
           "May"
          ],
          [
           "Nov"
          ],
          [
           "Oct"
          ],
          [
           "Sep"
          ],
          [
           "Apr"
          ],
          [
           "Aug"
          ],
          [
           "Dec"
          ],
          [
           "Feb"
          ],
          [
           "Jan"
          ],
          [
           "Jul"
          ],
          [
           "Jun"
          ],
          [
           "Mar"
          ],
          [
           "May"
          ],
          [
           "Nov"
          ],
          [
           "Oct"
          ],
          [
           "Sep"
          ],
          [
           "Apr"
          ],
          [
           "Aug"
          ],
          [
           "Feb"
          ],
          [
           "Jan"
          ],
          [
           "Jul"
          ],
          [
           "Jun"
          ],
          [
           "Mar"
          ],
          [
           "May"
          ],
          [
           "Sep"
          ]
         ],
         "hovertemplate": "commodity=Rice<br>year=%{x}<br>value=%{y}<br>month=%{customdata[0]}<extra></extra>",
         "legendgroup": "Rice",
         "marker": {
          "color": "#FFA15A"
         },
         "name": "Rice",
         "notched": false,
         "offsetgroup": "Rice",
         "orientation": "v",
         "showlegend": true,
         "type": "box",
         "x": [
          "2014",
          "2014",
          "2014",
          "2014",
          "2015",
          "2015",
          "2015",
          "2015",
          "2015",
          "2015",
          "2015",
          "2015",
          "2015",
          "2015",
          "2015",
          "2015",
          "2016",
          "2016",
          "2016",
          "2016",
          "2016",
          "2016",
          "2016",
          "2016",
          "2016",
          "2016",
          "2016",
          "2016",
          "2017",
          "2017",
          "2017",
          "2017",
          "2017",
          "2017",
          "2017",
          "2017",
          "2017",
          "2017",
          "2017",
          "2017",
          "2018",
          "2018",
          "2018",
          "2018",
          "2018",
          "2018",
          "2018",
          "2018",
          "2018",
          "2018",
          "2018",
          "2018",
          "2019",
          "2019",
          "2019",
          "2019",
          "2019",
          "2019",
          "2019",
          "2019",
          "2019",
          "2019",
          "2019",
          "2019",
          "2020",
          "2020",
          "2020",
          "2020",
          "2020",
          "2020",
          "2020",
          "2020",
          "2020",
          "2020",
          "2020",
          "2020",
          "2021",
          "2021",
          "2021",
          "2021",
          "2021",
          "2021",
          "2021",
          "2021",
          "2021",
          "2021",
          "2021",
          "2021",
          "2022",
          "2022",
          "2022",
          "2022",
          "2022",
          "2022",
          "2022",
          "2022",
          "2022",
          "2022",
          "2022",
          "2022",
          "2023",
          "2023",
          "2023",
          "2023",
          "2023",
          "2023",
          "2023",
          "2023",
          "2023",
          "2023",
          "2023",
          "2023",
          "2024",
          "2024",
          "2024",
          "2024",
          "2024",
          "2024",
          "2024",
          "2024",
          "2024",
          "2014",
          "2014",
          "2014",
          "2014",
          "2015",
          "2015",
          "2015",
          "2015",
          "2015",
          "2015",
          "2015",
          "2015",
          "2015",
          "2015",
          "2015",
          "2015",
          "2016",
          "2016",
          "2016",
          "2016",
          "2016",
          "2016",
          "2016",
          "2016",
          "2016",
          "2016",
          "2016",
          "2016",
          "2017",
          "2017",
          "2017",
          "2017",
          "2017",
          "2017",
          "2017",
          "2017",
          "2017",
          "2017",
          "2017",
          "2017",
          "2018",
          "2018",
          "2018",
          "2018",
          "2018",
          "2018",
          "2018",
          "2018",
          "2018",
          "2018",
          "2018",
          "2018",
          "2019",
          "2019",
          "2019",
          "2019",
          "2019",
          "2019",
          "2019",
          "2019",
          "2019",
          "2019",
          "2019",
          "2019",
          "2020",
          "2020",
          "2020",
          "2020",
          "2020",
          "2020",
          "2020",
          "2020",
          "2020",
          "2020",
          "2020",
          "2020",
          "2021",
          "2021",
          "2021",
          "2021",
          "2021",
          "2021",
          "2021",
          "2021",
          "2021",
          "2021",
          "2021",
          "2021",
          "2022",
          "2022",
          "2022",
          "2022",
          "2022",
          "2022",
          "2022",
          "2022",
          "2022",
          "2022",
          "2022",
          "2022",
          "2023",
          "2023",
          "2023",
          "2023",
          "2023",
          "2023",
          "2023",
          "2023",
          "2023",
          "2023",
          "2023",
          "2023",
          "2024",
          "2024",
          "2024",
          "2024",
          "2024",
          "2024",
          "2024",
          "2024",
          "2024",
          "2014",
          "2014",
          "2014",
          "2014",
          "2015",
          "2015",
          "2015",
          "2015",
          "2015",
          "2015",
          "2015",
          "2015",
          "2015",
          "2015",
          "2015",
          "2015",
          "2016",
          "2016",
          "2016",
          "2016",
          "2016",
          "2016",
          "2016",
          "2016",
          "2016",
          "2016",
          "2016",
          "2016",
          "2017",
          "2017",
          "2017",
          "2017",
          "2017",
          "2017",
          "2017",
          "2017",
          "2017",
          "2017",
          "2017",
          "2017",
          "2018",
          "2018",
          "2018",
          "2018",
          "2018",
          "2018",
          "2018",
          "2018",
          "2018",
          "2018",
          "2018",
          "2018",
          "2019",
          "2019",
          "2019",
          "2019",
          "2019",
          "2019",
          "2019",
          "2019",
          "2019",
          "2019",
          "2019",
          "2019",
          "2020",
          "2020",
          "2020",
          "2020",
          "2020",
          "2020",
          "2020",
          "2020",
          "2020",
          "2020",
          "2020",
          "2020",
          "2021",
          "2021",
          "2021",
          "2021",
          "2021",
          "2021",
          "2021",
          "2021",
          "2021",
          "2021",
          "2021",
          "2021",
          "2022",
          "2022",
          "2022",
          "2022",
          "2022",
          "2022",
          "2022",
          "2022",
          "2022",
          "2022",
          "2022",
          "2022",
          "2023",
          "2023",
          "2023",
          "2023",
          "2023",
          "2023",
          "2023",
          "2023",
          "2023",
          "2023",
          "2023",
          "2023",
          "2024",
          "2024",
          "2024",
          "2024",
          "2024",
          "2024",
          "2024",
          "2024",
          "2024"
         ],
         "x0": " ",
         "xaxis": "x",
         "y": [
          2009.1834215167548,
          2057.512872286724,
          2094.9446854663775,
          2089.086680761099,
          2047.5231850117095,
          2094.1852450188476,
          2093.393470790378,
          2035.69527702089,
          2018.2460419341035,
          2082.421613394216,
          2072.213167587477,
          2036.2353208921256,
          2058.805804988662,
          2098.5850882185546,
          2107.415748031496,
          2095.149140546006,
          2112.7279457125233,
          2218.662203286671,
          2208.617596319724,
          2088.243859649123,
          2087.4367612293145,
          2196.8065458796027,
          2177.6591294516675,
          2108.149329929802,
          2143.627450980392,
          2225.78928136419,
          2219.612685560054,
          2228.385180649112,
          2253.254721796835,
          2253.272429332241,
          2245.210464201416,
          2225.223780145822,
          2215.215903106898,
          2253.0830341113106,
          2263.706862745098,
          2236.9254185692544,
          2271.9516450648057,
          2246.0355682747345,
          2233.4546604808097,
          2238.609737542792,
          2302.8752,
          2352.1752310536044,
          2351.8474740932643,
          2277.293540474244,
          2260.8610589560644,
          2332.031626506024,
          2323.603986847513,
          2302.0184147317855,
          2325.670509483079,
          2353.2338038364096,
          2377.0980585718985,
          2368.1716101694915,
          2394.2817044301655,
          2477.652158894646,
          2468.969775755606,
          2361.063749138525,
          2338.263336416898,
          2463.8889636608346,
          2441.487822096717,
          2387.8772622573215,
          2426.486924859318,
          2486.2186666666666,
          2501.753042233357,
          2484.085829686974,
          2554.285977180714,
          2571.3479252165985,
          2389.128661087866,
          2495.9935308137556,
          2490.774482109228,
          2560.3159984120684,
          2545.9487354750513,
          2492.2646017699117,
          2551.0486342438376,
          2434.793644716692,
          2503.3946061036195,
          2553.268874643875,
          2451.696223316913,
          2516.513433934487,
          2484.269189954015,
          2412.4942174248267,
          2408.691451149425,
          2520.414776883687,
          2514.823639075317,
          2429.014450867052,
          2490.7774774774775,
          2508.5091125198096,
          2528.900142146411,
          2515.5584151710127,
          2535.413104414856,
          2606.7655677655675,
          2559.19439987163,
          2507.096025186934,
          2495.4733664772725,
          2582.6737363025804,
          2585.2148249828415,
          2529.717160629345,
          2579.602099927589,
          2586.5891878669277,
          2621.6388888888887,
          2610.4749615975425,
          2608.7241379310344,
          2729.3973135383526,
          2748.1037390029323,
          2619.5031206657422,
          2614.089964274115,
          2709.8573651452284,
          2660.0558906882593,
          2584.9084880636606,
          2633.616506463374,
          2743.3793315089915,
          2749.587610556348,
          2724.9830877428,
          2918.6418892760357,
          3126.6442861987116,
          2873.2916819347747,
          2780.621166791324,
          3057.589233278956,
          2946.3058954393773,
          2921.2606886114263,
          2926.012941587968,
          3090,
          1577.6763668430335,
          1541.7667844522969,
          1588.966377440347,
          1463.4151691331924,
          1374.2103044496487,
          1128.2525578890684,
          980.7445589919816,
          1521.9146230699364,
          1565.7980316645271,
          1136.4408929477422,
          1259.8328729281768,
          1490.2844788347747,
          1327.1791383219954,
          986.8776323278315,
          1086.8267716535433,
          1142.4191102123357,
          894.5644663787785,
          1006.7942787583688,
          1101.4997124784359,
          978.6590643274853,
          981.2700945626477,
          999.9263588544711,
          947.9084228377615,
          912.2271857051691,
          932.249226006192,
          1144.1017052375153,
          1087.6781376518218,
          1063.6901408450703,
          1156.3139356814702,
          2037.4559606718558,
          2127.067269866247,
          1032.4032529444755,
          1019.1653501843075,
          1946.178186714542,
          1892.3161764705883,
          1063.3496702181633,
          1696.924227318046,
          2087.4975470155355,
          2058.4964150147616,
          2093.2152909851657,
          2217.546,
          2271.0443622920516,
          2266.0314119170985,
          2185.273916598528,
          2169.697709350357,
          2244.312876506024,
          2237.724619810933,
          2207.799439551641,
          2236.679062848643,
          2261.71661237785,
          2287.83481408358,
          2276.6995056497176,
          2304.4061548867094,
          2380.727115716753,
          2372.802729931752,
          2271.964162646451,
          2251.0826395312984,
          2367.1359353970392,
          2333.319449346982,
          2300.1990786442907,
          2334.9198940748097,
          2396.0523333333335,
          2407.2208303507514,
          2393.540558734433,
          2477.0945896209055,
          2488.9740082079343,
          2322.931311018131,
          2405.5178753830437,
          2395.376647834275,
          2494.2874156411276,
          2458.9863294600136,
          2408.270353982301,
          2467.1345769487007,
          2377.1753445635527,
          2447.512420156139,
          2491.627492877493,
          2387.963464696223,
          2455.6834744203165,
          2420.594269543686,
          2350.551272166538,
          2337.300287356322,
          2460.176664228237,
          2454.4202087994036,
          2367.3666907514453,
          2428.356306306306,
          2447.5364500792393,
          2467.5717839374556,
          2455.643413477819,
          2470.944288717589,
          2544.5964035964034,
          2495.3482028241333,
          2441.504132231405,
          2421.40625,
          2519.0332272887945,
          2521.104667124228,
          2467.7083790706183,
          2514.109341057205,
          2518.957273320287,
          2551.6510416666665,
          2546.551766513057,
          2542.775359892869,
          2657.855072463768,
          2678.3548387096776,
          2554.9365464632456,
          2550.5440077947387,
          2643.26867219917,
          2594.4085695006747,
          2519.9903846153848,
          2567.842890288366,
          2674.794370602033,
          2680.4671897289586,
          2651.9805760214335,
          2849.8474641889275,
          3059.393014581214,
          2804.918285086112,
          2711.647718773373,
          2990.324959216966,
          2880.5494994438263,
          2847.9250851305333,
          2859.242392444911,
          3023.3333333333335,
          1643.7632275132275,
          1619.6436143361939,
          1656.7223427331887,
          1530.3588794926004,
          1438.8758782201405,
          1175.0866989768444,
          1029.229667812142,
          1589.0867393278838,
          1636.9225502781344,
          1182.1385083713851,
          1323.529005524862,
          1562.5106964041875,
          1390.0589569160998,
          1034.6955036994877,
          1135.5616797900263,
          1194.871587462083,
          929.8426896977174,
          1047.292757151552,
          1143.8642898217365,
          1020.9304093567251,
          1026.7848699763592,
          1037.364114552893,
          984.8897682306388,
          956.4932992980217,
          970.5913312693499,
          1191.2941534713764,
          1135.2537112010796,
          1101.9479485609309,
          1213.3563042368555,
          2145.686194182712,
          2242.2250196695513,
          1078.1828379136286,
          1060.769878883623,
          2060.733842010772,
          1987.6348039215686,
          1110.484525621512,
          1774.4117647058824,
          2208.1847914963205,
          2164.0594685786587,
          2206.348421453024,
          2333.18,
          2386.380776340111,
          2386.3681994818653,
          2315.9746524938673,
          2289.970709725873,
          2354.0361445783133,
          2344.9490341142623,
          2329.607686148919,
          2350.956489401264,
          2380.3275425262395,
          2401.593616321158,
          2389.0437853107346,
          2416.193101115996,
          2495.1246977547494,
          2491.7533311667207,
          2385.882150241213,
          2363.3919210607464,
          2479.0245625841185,
          2443.3551006000707,
          2415.7831523527475,
          2449.059913935783,
          2513.984,
          2528.270579813887,
          2509.5981151127567,
          2600.41994847258,
          2611.3885088919287,
          2446.8012552301257,
          2525.747020769493,
          2517.077212806026,
          2614.1417229059152,
          2580.9477101845523,
          2529.0252212389382,
          2595.8844103930714,
          2497.758805513017,
          2564.1167494677075,
          2610.884259259259,
          2509.884646962233,
          2575.2926021347075,
          2537.8019101521045,
          2474.775636083269,
          2462.20941091954,
          2582.092172640819,
          2577.144668158091,
          2492.9595375722542,
          2555.1905405405405,
          2567.791204437401,
          2587.540867093106,
          2574.520149001016,
          2592.615627189909,
          2669.2051282051284,
          2620.3661745827985,
          2562.438803620622,
          2542.2066761363635,
          2646.914103923648,
          2648.260466712423,
          2589.645810464691,
          2641.9876900796526,
          2648.1865622961514,
          2686.5465277777776,
          2675.9920122887866,
          2671.9333779712088,
          2791.2099681866384,
          2813.2199413489734,
          2683.6827323162274,
          2677.2461838259173,
          2774.72683264177,
          2721.9217273954114,
          2647.7131962864723,
          2695.951607557176,
          2806.641516810008,
          2811.9746790299573,
          2785.0391828533157,
          2984.791715060008,
          3193.004408273991,
          2939.204104067424,
          2846.8511593118924,
          3121.0437194127244,
          3010.5402298850577,
          2988.9591373439275,
          2990.302553340329,
          3155.5555555555557
         ],
         "y0": " ",
         "yaxis": "y"
        },
        {
         "alignmentgroup": "True",
         "customdata": [
          [
           "Dec"
          ],
          [
           "Nov"
          ],
          [
           "Oct"
          ],
          [
           "Sep"
          ],
          [
           "Apr"
          ],
          [
           "Aug"
          ],
          [
           "Dec"
          ],
          [
           "Feb"
          ],
          [
           "Jan"
          ],
          [
           "Jul"
          ],
          [
           "Jun"
          ],
          [
           "Mar"
          ],
          [
           "May"
          ],
          [
           "Nov"
          ],
          [
           "Oct"
          ],
          [
           "Sep"
          ],
          [
           "Apr"
          ],
          [
           "Aug"
          ],
          [
           "Dec"
          ],
          [
           "Feb"
          ],
          [
           "Jan"
          ],
          [
           "Jul"
          ],
          [
           "Jun"
          ],
          [
           "Mar"
          ],
          [
           "May"
          ],
          [
           "Nov"
          ],
          [
           "Oct"
          ],
          [
           "Sep"
          ],
          [
           "Apr"
          ],
          [
           "Aug"
          ],
          [
           "Dec"
          ],
          [
           "Feb"
          ],
          [
           "Jan"
          ],
          [
           "Jul"
          ],
          [
           "Jun"
          ],
          [
           "Mar"
          ],
          [
           "May"
          ],
          [
           "Nov"
          ],
          [
           "Oct"
          ],
          [
           "Sep"
          ],
          [
           "Apr"
          ],
          [
           "Aug"
          ],
          [
           "Dec"
          ],
          [
           "Feb"
          ],
          [
           "Jan"
          ],
          [
           "Jul"
          ],
          [
           "Jun"
          ],
          [
           "Mar"
          ],
          [
           "May"
          ],
          [
           "Nov"
          ],
          [
           "Oct"
          ],
          [
           "Sep"
          ],
          [
           "Apr"
          ],
          [
           "Aug"
          ],
          [
           "Dec"
          ],
          [
           "Feb"
          ],
          [
           "Jan"
          ],
          [
           "Jul"
          ],
          [
           "Jun"
          ],
          [
           "Mar"
          ],
          [
           "May"
          ],
          [
           "Nov"
          ],
          [
           "Oct"
          ],
          [
           "Sep"
          ],
          [
           "Apr"
          ],
          [
           "Aug"
          ],
          [
           "Dec"
          ],
          [
           "Feb"
          ],
          [
           "Jan"
          ],
          [
           "Jul"
          ],
          [
           "Jun"
          ],
          [
           "Mar"
          ],
          [
           "May"
          ],
          [
           "Nov"
          ],
          [
           "Oct"
          ],
          [
           "Sep"
          ],
          [
           "Apr"
          ],
          [
           "Aug"
          ],
          [
           "Dec"
          ],
          [
           "Feb"
          ],
          [
           "Jan"
          ],
          [
           "Jul"
          ],
          [
           "Jun"
          ],
          [
           "Mar"
          ],
          [
           "May"
          ],
          [
           "Nov"
          ],
          [
           "Oct"
          ],
          [
           "Sep"
          ],
          [
           "Apr"
          ],
          [
           "Aug"
          ],
          [
           "Dec"
          ],
          [
           "Feb"
          ],
          [
           "Jan"
          ],
          [
           "Jul"
          ],
          [
           "Jun"
          ],
          [
           "Mar"
          ],
          [
           "May"
          ],
          [
           "Nov"
          ],
          [
           "Oct"
          ],
          [
           "Sep"
          ],
          [
           "Apr"
          ],
          [
           "Aug"
          ],
          [
           "Dec"
          ],
          [
           "Feb"
          ],
          [
           "Jan"
          ],
          [
           "Jul"
          ],
          [
           "Jun"
          ],
          [
           "Mar"
          ],
          [
           "May"
          ],
          [
           "Nov"
          ],
          [
           "Oct"
          ],
          [
           "Sep"
          ],
          [
           "Apr"
          ],
          [
           "Aug"
          ],
          [
           "Feb"
          ],
          [
           "Jan"
          ],
          [
           "Jul"
          ],
          [
           "Jun"
          ],
          [
           "Mar"
          ],
          [
           "May"
          ],
          [
           "Sep"
          ],
          [
           "Dec"
          ],
          [
           "Nov"
          ],
          [
           "Oct"
          ],
          [
           "Sep"
          ],
          [
           "Apr"
          ],
          [
           "Aug"
          ],
          [
           "Dec"
          ],
          [
           "Feb"
          ],
          [
           "Jan"
          ],
          [
           "Jul"
          ],
          [
           "Jun"
          ],
          [
           "Mar"
          ],
          [
           "May"
          ],
          [
           "Nov"
          ],
          [
           "Oct"
          ],
          [
           "Sep"
          ],
          [
           "Apr"
          ],
          [
           "Aug"
          ],
          [
           "Dec"
          ],
          [
           "Feb"
          ],
          [
           "Jan"
          ],
          [
           "Jul"
          ],
          [
           "Jun"
          ],
          [
           "Mar"
          ],
          [
           "May"
          ],
          [
           "Nov"
          ],
          [
           "Oct"
          ],
          [
           "Sep"
          ],
          [
           "Apr"
          ],
          [
           "Aug"
          ],
          [
           "Dec"
          ],
          [
           "Feb"
          ],
          [
           "Jan"
          ],
          [
           "Jul"
          ],
          [
           "Jun"
          ],
          [
           "Mar"
          ],
          [
           "May"
          ],
          [
           "Nov"
          ],
          [
           "Oct"
          ],
          [
           "Sep"
          ],
          [
           "Apr"
          ],
          [
           "Aug"
          ],
          [
           "Dec"
          ],
          [
           "Feb"
          ],
          [
           "Jan"
          ],
          [
           "Jul"
          ],
          [
           "Jun"
          ],
          [
           "Mar"
          ],
          [
           "May"
          ],
          [
           "Nov"
          ],
          [
           "Oct"
          ],
          [
           "Sep"
          ],
          [
           "Apr"
          ],
          [
           "Aug"
          ],
          [
           "Dec"
          ],
          [
           "Feb"
          ],
          [
           "Jan"
          ],
          [
           "Jul"
          ],
          [
           "Jun"
          ],
          [
           "Mar"
          ],
          [
           "May"
          ],
          [
           "Nov"
          ],
          [
           "Oct"
          ],
          [
           "Sep"
          ],
          [
           "Apr"
          ],
          [
           "Aug"
          ],
          [
           "Dec"
          ],
          [
           "Feb"
          ],
          [
           "Jan"
          ],
          [
           "Jul"
          ],
          [
           "Jun"
          ],
          [
           "Mar"
          ],
          [
           "May"
          ],
          [
           "Nov"
          ],
          [
           "Oct"
          ],
          [
           "Sep"
          ],
          [
           "Apr"
          ],
          [
           "Aug"
          ],
          [
           "Dec"
          ],
          [
           "Feb"
          ],
          [
           "Jan"
          ],
          [
           "Jul"
          ],
          [
           "Jun"
          ],
          [
           "Mar"
          ],
          [
           "May"
          ],
          [
           "Nov"
          ],
          [
           "Oct"
          ],
          [
           "Sep"
          ],
          [
           "Apr"
          ],
          [
           "Aug"
          ],
          [
           "Dec"
          ],
          [
           "Feb"
          ],
          [
           "Jan"
          ],
          [
           "Jul"
          ],
          [
           "Jun"
          ],
          [
           "Mar"
          ],
          [
           "May"
          ],
          [
           "Nov"
          ],
          [
           "Oct"
          ],
          [
           "Sep"
          ],
          [
           "Apr"
          ],
          [
           "Aug"
          ],
          [
           "Dec"
          ],
          [
           "Feb"
          ],
          [
           "Jan"
          ],
          [
           "Jul"
          ],
          [
           "Jun"
          ],
          [
           "Mar"
          ],
          [
           "May"
          ],
          [
           "Nov"
          ],
          [
           "Oct"
          ],
          [
           "Sep"
          ],
          [
           "Apr"
          ],
          [
           "Aug"
          ],
          [
           "Feb"
          ],
          [
           "Jan"
          ],
          [
           "Jul"
          ],
          [
           "Jun"
          ],
          [
           "Mar"
          ],
          [
           "May"
          ],
          [
           "Sep"
          ],
          [
           "Dec"
          ],
          [
           "Nov"
          ],
          [
           "Oct"
          ],
          [
           "Sep"
          ],
          [
           "Apr"
          ],
          [
           "Aug"
          ],
          [
           "Dec"
          ],
          [
           "Feb"
          ],
          [
           "Jan"
          ],
          [
           "Jul"
          ],
          [
           "Jun"
          ],
          [
           "Mar"
          ],
          [
           "May"
          ],
          [
           "Nov"
          ],
          [
           "Oct"
          ],
          [
           "Sep"
          ],
          [
           "Apr"
          ],
          [
           "Aug"
          ],
          [
           "Dec"
          ],
          [
           "Feb"
          ],
          [
           "Jan"
          ],
          [
           "Jul"
          ],
          [
           "Jun"
          ],
          [
           "Mar"
          ],
          [
           "May"
          ],
          [
           "Nov"
          ],
          [
           "Oct"
          ],
          [
           "Sep"
          ],
          [
           "Apr"
          ],
          [
           "Aug"
          ],
          [
           "Dec"
          ],
          [
           "Feb"
          ],
          [
           "Jan"
          ],
          [
           "Jul"
          ],
          [
           "Jun"
          ],
          [
           "Mar"
          ],
          [
           "May"
          ],
          [
           "Nov"
          ],
          [
           "Oct"
          ],
          [
           "Sep"
          ],
          [
           "Apr"
          ],
          [
           "Aug"
          ],
          [
           "Dec"
          ],
          [
           "Feb"
          ],
          [
           "Jan"
          ],
          [
           "Jul"
          ],
          [
           "Jun"
          ],
          [
           "Mar"
          ],
          [
           "May"
          ],
          [
           "Nov"
          ],
          [
           "Oct"
          ],
          [
           "Sep"
          ],
          [
           "Apr"
          ],
          [
           "Aug"
          ],
          [
           "Dec"
          ],
          [
           "Feb"
          ],
          [
           "Jan"
          ],
          [
           "Jul"
          ],
          [
           "Jun"
          ],
          [
           "Mar"
          ],
          [
           "May"
          ],
          [
           "Nov"
          ],
          [
           "Oct"
          ],
          [
           "Sep"
          ],
          [
           "Apr"
          ],
          [
           "Aug"
          ],
          [
           "Dec"
          ],
          [
           "Feb"
          ],
          [
           "Jan"
          ],
          [
           "Jul"
          ],
          [
           "Jun"
          ],
          [
           "Mar"
          ],
          [
           "May"
          ],
          [
           "Nov"
          ],
          [
           "Oct"
          ],
          [
           "Sep"
          ],
          [
           "Apr"
          ],
          [
           "Aug"
          ],
          [
           "Dec"
          ],
          [
           "Feb"
          ],
          [
           "Jan"
          ],
          [
           "Jul"
          ],
          [
           "Jun"
          ],
          [
           "Mar"
          ],
          [
           "May"
          ],
          [
           "Nov"
          ],
          [
           "Oct"
          ],
          [
           "Sep"
          ],
          [
           "Apr"
          ],
          [
           "Aug"
          ],
          [
           "Dec"
          ],
          [
           "Feb"
          ],
          [
           "Jan"
          ],
          [
           "Jul"
          ],
          [
           "Jun"
          ],
          [
           "Mar"
          ],
          [
           "May"
          ],
          [
           "Nov"
          ],
          [
           "Oct"
          ],
          [
           "Sep"
          ],
          [
           "Apr"
          ],
          [
           "Aug"
          ],
          [
           "Dec"
          ],
          [
           "Feb"
          ],
          [
           "Jan"
          ],
          [
           "Jul"
          ],
          [
           "Jun"
          ],
          [
           "Mar"
          ],
          [
           "May"
          ],
          [
           "Nov"
          ],
          [
           "Oct"
          ],
          [
           "Sep"
          ],
          [
           "Apr"
          ],
          [
           "Aug"
          ],
          [
           "Feb"
          ],
          [
           "Jan"
          ],
          [
           "Jul"
          ],
          [
           "Jun"
          ],
          [
           "Mar"
          ],
          [
           "May"
          ],
          [
           "Sep"
          ]
         ],
         "hovertemplate": "commodity=Sugar<br>year=%{x}<br>value=%{y}<br>month=%{customdata[0]}<extra></extra>",
         "legendgroup": "Sugar",
         "marker": {
          "color": "#19d3f3"
         },
         "name": "Sugar",
         "notched": false,
         "offsetgroup": "Sugar",
         "orientation": "v",
         "showlegend": true,
         "type": "box",
         "x": [
          "2014",
          "2014",
          "2014",
          "2014",
          "2015",
          "2015",
          "2015",
          "2015",
          "2015",
          "2015",
          "2015",
          "2015",
          "2015",
          "2015",
          "2015",
          "2015",
          "2016",
          "2016",
          "2016",
          "2016",
          "2016",
          "2016",
          "2016",
          "2016",
          "2016",
          "2016",
          "2016",
          "2016",
          "2017",
          "2017",
          "2017",
          "2017",
          "2017",
          "2017",
          "2017",
          "2017",
          "2017",
          "2017",
          "2017",
          "2017",
          "2018",
          "2018",
          "2018",
          "2018",
          "2018",
          "2018",
          "2018",
          "2018",
          "2018",
          "2018",
          "2018",
          "2018",
          "2019",
          "2019",
          "2019",
          "2019",
          "2019",
          "2019",
          "2019",
          "2019",
          "2019",
          "2019",
          "2019",
          "2019",
          "2020",
          "2020",
          "2020",
          "2020",
          "2020",
          "2020",
          "2020",
          "2020",
          "2020",
          "2020",
          "2020",
          "2020",
          "2021",
          "2021",
          "2021",
          "2021",
          "2021",
          "2021",
          "2021",
          "2021",
          "2021",
          "2021",
          "2021",
          "2021",
          "2022",
          "2022",
          "2022",
          "2022",
          "2022",
          "2022",
          "2022",
          "2022",
          "2022",
          "2022",
          "2022",
          "2022",
          "2023",
          "2023",
          "2023",
          "2023",
          "2023",
          "2023",
          "2023",
          "2023",
          "2023",
          "2023",
          "2023",
          "2023",
          "2024",
          "2024",
          "2024",
          "2024",
          "2024",
          "2024",
          "2024",
          "2024",
          "2024",
          "2014",
          "2014",
          "2014",
          "2014",
          "2015",
          "2015",
          "2015",
          "2015",
          "2015",
          "2015",
          "2015",
          "2015",
          "2015",
          "2015",
          "2015",
          "2015",
          "2016",
          "2016",
          "2016",
          "2016",
          "2016",
          "2016",
          "2016",
          "2016",
          "2016",
          "2016",
          "2016",
          "2016",
          "2017",
          "2017",
          "2017",
          "2017",
          "2017",
          "2017",
          "2017",
          "2017",
          "2017",
          "2017",
          "2017",
          "2017",
          "2018",
          "2018",
          "2018",
          "2018",
          "2018",
          "2018",
          "2018",
          "2018",
          "2018",
          "2018",
          "2018",
          "2018",
          "2019",
          "2019",
          "2019",
          "2019",
          "2019",
          "2019",
          "2019",
          "2019",
          "2019",
          "2019",
          "2019",
          "2019",
          "2020",
          "2020",
          "2020",
          "2020",
          "2020",
          "2020",
          "2020",
          "2020",
          "2020",
          "2020",
          "2020",
          "2020",
          "2021",
          "2021",
          "2021",
          "2021",
          "2021",
          "2021",
          "2021",
          "2021",
          "2021",
          "2021",
          "2021",
          "2021",
          "2022",
          "2022",
          "2022",
          "2022",
          "2022",
          "2022",
          "2022",
          "2022",
          "2022",
          "2022",
          "2022",
          "2022",
          "2023",
          "2023",
          "2023",
          "2023",
          "2023",
          "2023",
          "2023",
          "2023",
          "2023",
          "2023",
          "2023",
          "2023",
          "2024",
          "2024",
          "2024",
          "2024",
          "2024",
          "2024",
          "2024",
          "2024",
          "2024",
          "2014",
          "2014",
          "2014",
          "2014",
          "2015",
          "2015",
          "2015",
          "2015",
          "2015",
          "2015",
          "2015",
          "2015",
          "2015",
          "2015",
          "2015",
          "2015",
          "2016",
          "2016",
          "2016",
          "2016",
          "2016",
          "2016",
          "2016",
          "2016",
          "2016",
          "2016",
          "2016",
          "2016",
          "2017",
          "2017",
          "2017",
          "2017",
          "2017",
          "2017",
          "2017",
          "2017",
          "2017",
          "2017",
          "2017",
          "2017",
          "2018",
          "2018",
          "2018",
          "2018",
          "2018",
          "2018",
          "2018",
          "2018",
          "2018",
          "2018",
          "2018",
          "2018",
          "2019",
          "2019",
          "2019",
          "2019",
          "2019",
          "2019",
          "2019",
          "2019",
          "2019",
          "2019",
          "2019",
          "2019",
          "2020",
          "2020",
          "2020",
          "2020",
          "2020",
          "2020",
          "2020",
          "2020",
          "2020",
          "2020",
          "2020",
          "2020",
          "2021",
          "2021",
          "2021",
          "2021",
          "2021",
          "2021",
          "2021",
          "2021",
          "2021",
          "2021",
          "2021",
          "2021",
          "2022",
          "2022",
          "2022",
          "2022",
          "2022",
          "2022",
          "2022",
          "2022",
          "2022",
          "2022",
          "2022",
          "2022",
          "2023",
          "2023",
          "2023",
          "2023",
          "2023",
          "2023",
          "2023",
          "2023",
          "2023",
          "2023",
          "2023",
          "2023",
          "2024",
          "2024",
          "2024",
          "2024",
          "2024",
          "2024",
          "2024",
          "2024",
          "2024"
         ],
         "x0": " ",
         "xaxis": "x",
         "y": [
          3100.8333333333335,
          3190.6349206349205,
          3288.731343283582,
          3336.315789473684,
          2936.230769230769,
          2821.777777777778,
          2998.846153846154,
          2998.6746987951806,
          3092.0625,
          2801.326530612245,
          2826.25,
          2950,
          2860.4347826086955,
          2942.906976744186,
          2978.181818181818,
          2852.1,
          3322.75,
          3584.5238095238096,
          3553.076923076923,
          3026.25,
          3011.5789473684213,
          3587.5,
          3526.7441860465115,
          3049.6666666666665,
          3456.25,
          3627.0238095238096,
          3522.972972972973,
          3575.1315789473683,
          3792.843137254902,
          3710.714285714286,
          3623.8888888888887,
          3846.6666666666665,
          3694.1964285714284,
          3718.5714285714284,
          3775.205479452055,
          3788.688524590164,
          3762.1176470588234,
          3836.470588235294,
          3807.2988505747126,
          3737.6315789473683,
          3310.3846153846152,
          3496.868131868132,
          3381.470588235294,
          3519.705882352941,
          3530.9036144578313,
          3507.2727272727275,
          3382.9885057471265,
          3506.6071428571427,
          3076.842105263158,
          3420.735294117647,
          3447.5,
          3423.505154639175,
          3262.784810126582,
          3457.3387096774195,
          3393.1451612903224,
          3346.7241379310344,
          3333.0158730158732,
          3439.248120300752,
          3501.1702127659573,
          3335.1079136690646,
          3385.6711409395975,
          3412.0353982300885,
          3529.875,
          3463.738738738739,
          3460.548780487805,
          3481.740740740741,
          3485,
          3448.8414634146343,
          3453.181818181818,
          3516.0576923076924,
          3423.1445086705203,
          3421.4594594594596,
          3391.4166666666665,
          3464.5104895104896,
          3476.425,
          3495.4268292682927,
          3456.7948717948716,
          3527.605633802817,
          3693.6513157894738,
          3399.3373493975905,
          3431.3701657458564,
          3452.1019108280257,
          3472.275641025641,
          3396.4327485380118,
          3502.7737226277372,
          3795.8724832214766,
          3786.165644171779,
          3715.8823529411766,
          3689.3670886075947,
          3711.3636363636365,
          3752.686567164179,
          3701,
          3686.2418300653594,
          3697.8323699421967,
          3682.2981366459626,
          3721.3028169014083,
          3705.8680555555557,
          3780.8661417322833,
          3779.6099290780144,
          3714.4827586206898,
          3755.4347826086955,
          3854.6666666666665,
          4105.961538461538,
          3663.769230769231,
          3717.3529411764707,
          3820.9415584415583,
          3786.9548872180453,
          3695.3076923076924,
          3773.442028985507,
          4112.9276315789475,
          4004.6518987341774,
          3951.3010204081634,
          4039.655172413793,
          4113.9795918367345,
          4056.4150943396226,
          4051.441717791411,
          4097.58152173913,
          4111.265822784811,
          3999.4295302013425,
          4118.764367816092,
          4200,
          3067.3888888888887,
          3157.6984126984125,
          3112.8358208955224,
          2138.2894736842104,
          2782.076923076923,
          2217.3333333333335,
          2741.5384615384614,
          2966.5662650602408,
          3063.6875,
          2294.4897959183672,
          2426.6666666666665,
          2918.9634146341464,
          2484.6376811594205,
          2039.7674418604652,
          2693.030303030303,
          1664.4,
          1805,
          1344.047619047619,
          1258.4615384615386,
          2803.125,
          2988.4210526315787,
          1373.611111111111,
          1186.7441860465117,
          1440.6666666666667,
          1503.125,
          1592.857142857143,
          1249.7297297297298,
          1126.3157894736842,
          798.6274509803922,
          3686.326530612245,
          3488.8888888888887,
          890.7407407407408,
          997.5,
          2494.8979591836733,
          1793.9041095890411,
          1084.9180327868853,
          1631.5882352941176,
          3748.529411764706,
          3771.206896551724,
          3703.684210526316,
          2996.025641025641,
          3457.6923076923076,
          3329.823529411765,
          3278.3823529411766,
          3502.2289156626507,
          3462.222222222222,
          3224.022988505747,
          2961.904761904762,
          2944.842105263158,
          3376.470588235294,
          3397.9545454545455,
          3372.9896907216494,
          3071.4556962025317,
          3074.233870967742,
          3346.5725806451615,
          3296.6810344827586,
          3210.1190476190477,
          3206.8796992481202,
          3323.744680851064,
          3124.172661870504,
          3152.0805369127515,
          3368.451327433628,
          3490.375,
          3353.063063063063,
          3415.518292682927,
          3311.8518518518517,
          3376.50641025641,
          3382.8658536585367,
          3394.7077922077924,
          3469.9358974358975,
          3376.098265895954,
          3364.5495495495497,
          3351.277777777778,
          3424.5804195804194,
          3437.96875,
          3459.451219512195,
          3424.519230769231,
          3501.6197183098593,
          3664.6710526315787,
          3363.409638554217,
          3394.3093922651933,
          3417.503184713376,
          3436.923076923077,
          3363.8011695906434,
          3467.2262773722628,
          3759.463087248322,
          3743.711656441718,
          3680.8823529411766,
          3657.721518987342,
          3683.5151515151515,
          3720.1119402985073,
          3667.84,
          3656.764705882353,
          3664.9710982658958,
          3648.167701863354,
          3689.0845070422533,
          3676.6666666666665,
          3746.6929133858266,
          3745.886524822695,
          3681.896551724138,
          3698.985507246377,
          3816.1111111111113,
          4069.903846153846,
          3630.1923076923076,
          3684.779411764706,
          3783.181818181818,
          3741.8045112781956,
          3658.3076923076924,
          3732.355072463768,
          4077.1052631578946,
          3966.6772151898736,
          3907.066326530612,
          4003.551724137931,
          4069.158163265306,
          4019.5597484276727,
          4018.036809815951,
          4065.8695652173915,
          4078.8291139240505,
          3966.1073825503354,
          4085.4310344827586,
          4190,
          3141.9444444444443,
          3225,
          3176.9402985074626,
          2186.7763157894738,
          2846.153846153846,
          2312.4444444444443,
          2810.1923076923076,
          3040.722891566265,
          3131.625,
          2332.1428571428573,
          2468.6805555555557,
          2992.621951219512,
          2531.376811594203,
          2094.186046511628,
          2752.2727272727275,
          1715,
          1839,
          1386.4285714285713,
          1304.2307692307693,
          2857.5,
          3046.842105263158,
          1410.9722222222222,
          1228.8372093023256,
          1487,
          1553.59375,
          1642.857142857143,
          1308.3783783783783,
          1157.8947368421052,
          820.1960784313726,
          3742.1428571428573,
          3562.0833333333335,
          918.8888888888889,
          1039.4642857142858,
          2554.285714285714,
          1829.6575342465753,
          1122.622950819672,
          1681.764705882353,
          3816.470588235294,
          3843.2183908045977,
          3773.157894736842,
          3067.4358974358975,
          3547.5824175824177,
          3428.705882352941,
          3346.9117647058824,
          3563.6746987951806,
          3551.717171717172,
          3303.103448275862,
          3029.1666666666665,
          3022.6315789473683,
          3473.3823529411766,
          3502.840909090909,
          3467.0103092783506,
          3164.018987341772,
          3184.9193548387098,
          3442.9032258064517,
          3399.612068965517,
          3303.690476190476,
          3323.1203007518798,
          3430.6028368794327,
          3216.1510791366904,
          3245.6375838926174,
          3449.29203539823,
          3564.625,
          3457.7927927927926,
          3518.567073170732,
          3396.4814814814813,
          3469.102564102564,
          3532.439024390244,
          3527.0779220779223,
          3568.3333333333335,
          3472.6300578034684,
          3515.810810810811,
          3441.3888888888887,
          3517.1678321678323,
          3524.0625,
          3547.1951219512193,
          3499.2628205128203,
          3554.4718309859154,
          3723.4210526315787,
          3443.9457831325303,
          3486.8674033149173,
          3490.2229299363057,
          3519.1346153846152,
          3442.33918128655,
          3551.3138686131388,
          3828.557046979866,
          3824.969325153374,
          3750.9411764705883,
          3721.8987341772154,
          3739.6666666666665,
          3784.626865671642,
          3732.52,
          3716.9281045751636,
          3729.393063583815,
          3716.9875776397516,
          3751.1267605633802,
          3735.4513888888887,
          3813.464566929134,
          3812.304964539007,
          3746.810344827586,
          3784.81884057971,
          3884.8888888888887,
          4138.525641025641,
          3698.576923076923,
          3749.926470588235,
          3851.038961038961,
          3815.751879699248,
          3725.730769230769,
          3802.536231884058,
          4144.1776315789475,
          4035,
          3984.081632653061,
          4082.0689655172414,
          4150.433673469388,
          4085.62893081761,
          4082.5766871165642,
          4134.184782608696,
          4148.797468354431,
          4010.201342281879,
          4157.8448275862065,
          4210
         ],
         "y0": " ",
         "yaxis": "y"
        },
        {
         "alignmentgroup": "True",
         "customdata": [
          [
           "Dec"
          ],
          [
           "Nov"
          ],
          [
           "Oct"
          ],
          [
           "Sep"
          ],
          [
           "Apr"
          ],
          [
           "Aug"
          ],
          [
           "Dec"
          ],
          [
           "Feb"
          ],
          [
           "Jan"
          ],
          [
           "Jul"
          ],
          [
           "Jun"
          ],
          [
           "Mar"
          ],
          [
           "May"
          ],
          [
           "Nov"
          ],
          [
           "Oct"
          ],
          [
           "Sep"
          ],
          [
           "Apr"
          ],
          [
           "Aug"
          ],
          [
           "Dec"
          ],
          [
           "Feb"
          ],
          [
           "Jan"
          ],
          [
           "Jul"
          ],
          [
           "Jun"
          ],
          [
           "Mar"
          ],
          [
           "May"
          ],
          [
           "Nov"
          ],
          [
           "Oct"
          ],
          [
           "Sep"
          ],
          [
           "Apr"
          ],
          [
           "Aug"
          ],
          [
           "Dec"
          ],
          [
           "Feb"
          ],
          [
           "Jan"
          ],
          [
           "Jul"
          ],
          [
           "Jun"
          ],
          [
           "Mar"
          ],
          [
           "May"
          ],
          [
           "Nov"
          ],
          [
           "Oct"
          ],
          [
           "Sep"
          ],
          [
           "Apr"
          ],
          [
           "Aug"
          ],
          [
           "Dec"
          ],
          [
           "Feb"
          ],
          [
           "Jan"
          ],
          [
           "Jul"
          ],
          [
           "Jun"
          ],
          [
           "Mar"
          ],
          [
           "May"
          ],
          [
           "Nov"
          ],
          [
           "Oct"
          ],
          [
           "Sep"
          ],
          [
           "Apr"
          ],
          [
           "Aug"
          ],
          [
           "Dec"
          ],
          [
           "Feb"
          ],
          [
           "Jan"
          ],
          [
           "Jul"
          ],
          [
           "Jun"
          ],
          [
           "Mar"
          ],
          [
           "May"
          ],
          [
           "Nov"
          ],
          [
           "Oct"
          ],
          [
           "Sep"
          ],
          [
           "Apr"
          ],
          [
           "Aug"
          ],
          [
           "Dec"
          ],
          [
           "Feb"
          ],
          [
           "Jan"
          ],
          [
           "Jul"
          ],
          [
           "Jun"
          ],
          [
           "Mar"
          ],
          [
           "May"
          ],
          [
           "Nov"
          ],
          [
           "Oct"
          ],
          [
           "Sep"
          ],
          [
           "Apr"
          ],
          [
           "Aug"
          ],
          [
           "Dec"
          ],
          [
           "Feb"
          ],
          [
           "Jan"
          ],
          [
           "Jul"
          ],
          [
           "Jun"
          ],
          [
           "Mar"
          ],
          [
           "May"
          ],
          [
           "Nov"
          ],
          [
           "Oct"
          ],
          [
           "Sep"
          ],
          [
           "Apr"
          ],
          [
           "Aug"
          ],
          [
           "Dec"
          ],
          [
           "Feb"
          ],
          [
           "Jan"
          ],
          [
           "Jul"
          ],
          [
           "Jun"
          ],
          [
           "Mar"
          ],
          [
           "May"
          ],
          [
           "Nov"
          ],
          [
           "Oct"
          ],
          [
           "Sep"
          ],
          [
           "Apr"
          ],
          [
           "Aug"
          ],
          [
           "Dec"
          ],
          [
           "Feb"
          ],
          [
           "Jan"
          ],
          [
           "Jul"
          ],
          [
           "Jun"
          ],
          [
           "Mar"
          ],
          [
           "May"
          ],
          [
           "Nov"
          ],
          [
           "Oct"
          ],
          [
           "Sep"
          ],
          [
           "Apr"
          ],
          [
           "Aug"
          ],
          [
           "Feb"
          ],
          [
           "Jan"
          ],
          [
           "Jul"
          ],
          [
           "Jun"
          ],
          [
           "Mar"
          ],
          [
           "May"
          ],
          [
           "Sep"
          ],
          [
           "Dec"
          ],
          [
           "Nov"
          ],
          [
           "Oct"
          ],
          [
           "Sep"
          ],
          [
           "Apr"
          ],
          [
           "Aug"
          ],
          [
           "Dec"
          ],
          [
           "Feb"
          ],
          [
           "Jan"
          ],
          [
           "Jul"
          ],
          [
           "Jun"
          ],
          [
           "Mar"
          ],
          [
           "May"
          ],
          [
           "Nov"
          ],
          [
           "Oct"
          ],
          [
           "Sep"
          ],
          [
           "Apr"
          ],
          [
           "Aug"
          ],
          [
           "Dec"
          ],
          [
           "Feb"
          ],
          [
           "Jan"
          ],
          [
           "Jul"
          ],
          [
           "Jun"
          ],
          [
           "Mar"
          ],
          [
           "May"
          ],
          [
           "Nov"
          ],
          [
           "Oct"
          ],
          [
           "Sep"
          ],
          [
           "Apr"
          ],
          [
           "Aug"
          ],
          [
           "Dec"
          ],
          [
           "Feb"
          ],
          [
           "Jan"
          ],
          [
           "Jul"
          ],
          [
           "Jun"
          ],
          [
           "Mar"
          ],
          [
           "May"
          ],
          [
           "Nov"
          ],
          [
           "Oct"
          ],
          [
           "Sep"
          ],
          [
           "Apr"
          ],
          [
           "Aug"
          ],
          [
           "Dec"
          ],
          [
           "Feb"
          ],
          [
           "Jan"
          ],
          [
           "Jul"
          ],
          [
           "Jun"
          ],
          [
           "Mar"
          ],
          [
           "May"
          ],
          [
           "Nov"
          ],
          [
           "Oct"
          ],
          [
           "Sep"
          ],
          [
           "Apr"
          ],
          [
           "Aug"
          ],
          [
           "Dec"
          ],
          [
           "Feb"
          ],
          [
           "Jan"
          ],
          [
           "Jul"
          ],
          [
           "Jun"
          ],
          [
           "Mar"
          ],
          [
           "May"
          ],
          [
           "Nov"
          ],
          [
           "Oct"
          ],
          [
           "Sep"
          ],
          [
           "Apr"
          ],
          [
           "Aug"
          ],
          [
           "Dec"
          ],
          [
           "Feb"
          ],
          [
           "Jan"
          ],
          [
           "Jul"
          ],
          [
           "Jun"
          ],
          [
           "Mar"
          ],
          [
           "May"
          ],
          [
           "Nov"
          ],
          [
           "Oct"
          ],
          [
           "Sep"
          ],
          [
           "Apr"
          ],
          [
           "Aug"
          ],
          [
           "Dec"
          ],
          [
           "Feb"
          ],
          [
           "Jan"
          ],
          [
           "Jul"
          ],
          [
           "Jun"
          ],
          [
           "Mar"
          ],
          [
           "May"
          ],
          [
           "Nov"
          ],
          [
           "Oct"
          ],
          [
           "Sep"
          ],
          [
           "Apr"
          ],
          [
           "Aug"
          ],
          [
           "Dec"
          ],
          [
           "Feb"
          ],
          [
           "Jan"
          ],
          [
           "Jul"
          ],
          [
           "Jun"
          ],
          [
           "Mar"
          ],
          [
           "May"
          ],
          [
           "Nov"
          ],
          [
           "Oct"
          ],
          [
           "Sep"
          ],
          [
           "Apr"
          ],
          [
           "Aug"
          ],
          [
           "Dec"
          ],
          [
           "Feb"
          ],
          [
           "Jan"
          ],
          [
           "Jul"
          ],
          [
           "Jun"
          ],
          [
           "Mar"
          ],
          [
           "May"
          ],
          [
           "Nov"
          ],
          [
           "Oct"
          ],
          [
           "Sep"
          ],
          [
           "Apr"
          ],
          [
           "Aug"
          ],
          [
           "Feb"
          ],
          [
           "Jan"
          ],
          [
           "Jul"
          ],
          [
           "Jun"
          ],
          [
           "Mar"
          ],
          [
           "May"
          ],
          [
           "Sep"
          ],
          [
           "Dec"
          ],
          [
           "Nov"
          ],
          [
           "Oct"
          ],
          [
           "Sep"
          ],
          [
           "Apr"
          ],
          [
           "Aug"
          ],
          [
           "Dec"
          ],
          [
           "Feb"
          ],
          [
           "Jan"
          ],
          [
           "Jul"
          ],
          [
           "Jun"
          ],
          [
           "Mar"
          ],
          [
           "May"
          ],
          [
           "Nov"
          ],
          [
           "Oct"
          ],
          [
           "Sep"
          ],
          [
           "Apr"
          ],
          [
           "Aug"
          ],
          [
           "Dec"
          ],
          [
           "Feb"
          ],
          [
           "Jan"
          ],
          [
           "Jul"
          ],
          [
           "Jun"
          ],
          [
           "Mar"
          ],
          [
           "May"
          ],
          [
           "Nov"
          ],
          [
           "Oct"
          ],
          [
           "Sep"
          ],
          [
           "Apr"
          ],
          [
           "Aug"
          ],
          [
           "Dec"
          ],
          [
           "Feb"
          ],
          [
           "Jan"
          ],
          [
           "Jul"
          ],
          [
           "Jun"
          ],
          [
           "Mar"
          ],
          [
           "May"
          ],
          [
           "Nov"
          ],
          [
           "Oct"
          ],
          [
           "Sep"
          ],
          [
           "Apr"
          ],
          [
           "Aug"
          ],
          [
           "Dec"
          ],
          [
           "Feb"
          ],
          [
           "Jan"
          ],
          [
           "Jul"
          ],
          [
           "Jun"
          ],
          [
           "Mar"
          ],
          [
           "May"
          ],
          [
           "Nov"
          ],
          [
           "Oct"
          ],
          [
           "Sep"
          ],
          [
           "Apr"
          ],
          [
           "Aug"
          ],
          [
           "Dec"
          ],
          [
           "Feb"
          ],
          [
           "Jan"
          ],
          [
           "Jul"
          ],
          [
           "Jun"
          ],
          [
           "Mar"
          ],
          [
           "May"
          ],
          [
           "Nov"
          ],
          [
           "Oct"
          ],
          [
           "Sep"
          ],
          [
           "Apr"
          ],
          [
           "Aug"
          ],
          [
           "Dec"
          ],
          [
           "Feb"
          ],
          [
           "Jan"
          ],
          [
           "Jul"
          ],
          [
           "Jun"
          ],
          [
           "Mar"
          ],
          [
           "May"
          ],
          [
           "Nov"
          ],
          [
           "Oct"
          ],
          [
           "Sep"
          ],
          [
           "Apr"
          ],
          [
           "Aug"
          ],
          [
           "Dec"
          ],
          [
           "Feb"
          ],
          [
           "Jan"
          ],
          [
           "Jul"
          ],
          [
           "Jun"
          ],
          [
           "Mar"
          ],
          [
           "May"
          ],
          [
           "Nov"
          ],
          [
           "Oct"
          ],
          [
           "Sep"
          ],
          [
           "Apr"
          ],
          [
           "Aug"
          ],
          [
           "Dec"
          ],
          [
           "Feb"
          ],
          [
           "Jan"
          ],
          [
           "Jul"
          ],
          [
           "Jun"
          ],
          [
           "Mar"
          ],
          [
           "May"
          ],
          [
           "Nov"
          ],
          [
           "Oct"
          ],
          [
           "Sep"
          ],
          [
           "Apr"
          ],
          [
           "Aug"
          ],
          [
           "Dec"
          ],
          [
           "Feb"
          ],
          [
           "Jan"
          ],
          [
           "Jul"
          ],
          [
           "Jun"
          ],
          [
           "Mar"
          ],
          [
           "May"
          ],
          [
           "Nov"
          ],
          [
           "Oct"
          ],
          [
           "Sep"
          ],
          [
           "Apr"
          ],
          [
           "Aug"
          ],
          [
           "Feb"
          ],
          [
           "Jan"
          ],
          [
           "Jul"
          ],
          [
           "Jun"
          ],
          [
           "Mar"
          ],
          [
           "May"
          ],
          [
           "Sep"
          ]
         ],
         "hovertemplate": "commodity=Tomato<br>year=%{x}<br>value=%{y}<br>month=%{customdata[0]}<extra></extra>",
         "legendgroup": "Tomato",
         "marker": {
          "color": "#FF6692"
         },
         "name": "Tomato",
         "notched": false,
         "offsetgroup": "Tomato",
         "orientation": "v",
         "showlegend": true,
         "type": "box",
         "x": [
          "2014",
          "2014",
          "2014",
          "2014",
          "2015",
          "2015",
          "2015",
          "2015",
          "2015",
          "2015",
          "2015",
          "2015",
          "2015",
          "2015",
          "2015",
          "2015",
          "2016",
          "2016",
          "2016",
          "2016",
          "2016",
          "2016",
          "2016",
          "2016",
          "2016",
          "2016",
          "2016",
          "2016",
          "2017",
          "2017",
          "2017",
          "2017",
          "2017",
          "2017",
          "2017",
          "2017",
          "2017",
          "2017",
          "2017",
          "2017",
          "2018",
          "2018",
          "2018",
          "2018",
          "2018",
          "2018",
          "2018",
          "2018",
          "2018",
          "2018",
          "2018",
          "2018",
          "2019",
          "2019",
          "2019",
          "2019",
          "2019",
          "2019",
          "2019",
          "2019",
          "2019",
          "2019",
          "2019",
          "2019",
          "2020",
          "2020",
          "2020",
          "2020",
          "2020",
          "2020",
          "2020",
          "2020",
          "2020",
          "2020",
          "2020",
          "2020",
          "2021",
          "2021",
          "2021",
          "2021",
          "2021",
          "2021",
          "2021",
          "2021",
          "2021",
          "2021",
          "2021",
          "2021",
          "2022",
          "2022",
          "2022",
          "2022",
          "2022",
          "2022",
          "2022",
          "2022",
          "2022",
          "2022",
          "2022",
          "2022",
          "2023",
          "2023",
          "2023",
          "2023",
          "2023",
          "2023",
          "2023",
          "2023",
          "2023",
          "2023",
          "2023",
          "2023",
          "2024",
          "2024",
          "2024",
          "2024",
          "2024",
          "2024",
          "2024",
          "2024",
          "2024",
          "2014",
          "2014",
          "2014",
          "2014",
          "2015",
          "2015",
          "2015",
          "2015",
          "2015",
          "2015",
          "2015",
          "2015",
          "2015",
          "2015",
          "2015",
          "2015",
          "2016",
          "2016",
          "2016",
          "2016",
          "2016",
          "2016",
          "2016",
          "2016",
          "2016",
          "2016",
          "2016",
          "2016",
          "2017",
          "2017",
          "2017",
          "2017",
          "2017",
          "2017",
          "2017",
          "2017",
          "2017",
          "2017",
          "2017",
          "2017",
          "2018",
          "2018",
          "2018",
          "2018",
          "2018",
          "2018",
          "2018",
          "2018",
          "2018",
          "2018",
          "2018",
          "2018",
          "2019",
          "2019",
          "2019",
          "2019",
          "2019",
          "2019",
          "2019",
          "2019",
          "2019",
          "2019",
          "2019",
          "2019",
          "2020",
          "2020",
          "2020",
          "2020",
          "2020",
          "2020",
          "2020",
          "2020",
          "2020",
          "2020",
          "2020",
          "2020",
          "2021",
          "2021",
          "2021",
          "2021",
          "2021",
          "2021",
          "2021",
          "2021",
          "2021",
          "2021",
          "2021",
          "2021",
          "2022",
          "2022",
          "2022",
          "2022",
          "2022",
          "2022",
          "2022",
          "2022",
          "2022",
          "2022",
          "2022",
          "2022",
          "2023",
          "2023",
          "2023",
          "2023",
          "2023",
          "2023",
          "2023",
          "2023",
          "2023",
          "2023",
          "2023",
          "2023",
          "2024",
          "2024",
          "2024",
          "2024",
          "2024",
          "2024",
          "2024",
          "2024",
          "2024",
          "2014",
          "2014",
          "2014",
          "2014",
          "2015",
          "2015",
          "2015",
          "2015",
          "2015",
          "2015",
          "2015",
          "2015",
          "2015",
          "2015",
          "2015",
          "2015",
          "2016",
          "2016",
          "2016",
          "2016",
          "2016",
          "2016",
          "2016",
          "2016",
          "2016",
          "2016",
          "2016",
          "2016",
          "2017",
          "2017",
          "2017",
          "2017",
          "2017",
          "2017",
          "2017",
          "2017",
          "2017",
          "2017",
          "2017",
          "2017",
          "2018",
          "2018",
          "2018",
          "2018",
          "2018",
          "2018",
          "2018",
          "2018",
          "2018",
          "2018",
          "2018",
          "2018",
          "2019",
          "2019",
          "2019",
          "2019",
          "2019",
          "2019",
          "2019",
          "2019",
          "2019",
          "2019",
          "2019",
          "2019",
          "2020",
          "2020",
          "2020",
          "2020",
          "2020",
          "2020",
          "2020",
          "2020",
          "2020",
          "2020",
          "2020",
          "2020",
          "2021",
          "2021",
          "2021",
          "2021",
          "2021",
          "2021",
          "2021",
          "2021",
          "2021",
          "2021",
          "2021",
          "2021",
          "2022",
          "2022",
          "2022",
          "2022",
          "2022",
          "2022",
          "2022",
          "2022",
          "2022",
          "2022",
          "2022",
          "2022",
          "2023",
          "2023",
          "2023",
          "2023",
          "2023",
          "2023",
          "2023",
          "2023",
          "2023",
          "2023",
          "2023",
          "2023",
          "2024",
          "2024",
          "2024",
          "2024",
          "2024",
          "2024",
          "2024",
          "2024",
          "2024"
         ],
         "x0": " ",
         "xaxis": "x",
         "y": [
          975.4354052407069,
          966.7520568436798,
          1854.7204724409448,
          2406.4368070953437,
          1313.0006277463904,
          1736.2416777629826,
          1669.4961672473867,
          1080.3781773093615,
          1191.9056271981242,
          1785.8747553816047,
          1319.0901591043016,
          1257.8688029020557,
          1373.1666666666667,
          1959.6628407460546,
          1727.8101265822784,
          1666.310057655349,
          798.9745179063361,
          1858.9719298245614,
          846.5222222222222,
          1158.9436141304348,
          1471.7916970138383,
          2909.66239027684,
          1779.0230263157894,
          860.0507296733842,
          925.5519671168527,
          1146.2695130086724,
          1478.7034700315457,
          1407.5014184397164,
          768.4769144144144,
          3598.378504672897,
          2079.6360381861573,
          511.45666871542716,
          597.5304701102727,
          3371.8992805755397,
          1099.9573394495412,
          644.1772357723577,
          679.4724324324325,
          2874.249129471352,
          1849.453882725832,
          2249.206787186806,
          682.5823665893272,
          1838.1281835992163,
          912.2575996397208,
          792.8561790861698,
          1097.6004458066313,
          1894.0499704316971,
          897.7046855733662,
          691.0339666090962,
          613.0685834872065,
          1192.3853795211412,
          1259.433784436926,
          1346.5904471544716,
          1149.41810855653,
          2156.772332822869,
          1337.5096596136154,
          753.8708513708514,
          825.4533217542336,
          1844.0639160505605,
          1703.9530980004938,
          1063.8191416112004,
          1427.1516000934362,
          2154.192872622201,
          2154.566953797964,
          1626.6408163265305,
          1307.2963381555153,
          2986.873861810391,
          1771.8856778580534,
          1056.4752641690682,
          1253.032131147541,
          3171.6375579598143,
          1057.241923730872,
          1041.2479052297024,
          939.9001762891141,
          2501.161407139162,
          2782.186624818928,
          3152.6262577862963,
          846.6834625322997,
          1878.1953995731562,
          2354.6593785960877,
          887.251724137931,
          1117.0340434878103,
          1634.003932454314,
          903.3001164144354,
          760.3336429068958,
          746.6744298884037,
          3356.8038577154307,
          2535.55706585423,
          1446.2245977518185,
          1265.7365853658537,
          1912.8208786231885,
          1268.9213483146068,
          1119.6845313690628,
          1413.1964203763193,
          2420.6419047619047,
          2734.4481589147285,
          1154.980750721848,
          1569.4372186093046,
          1970.7473834443388,
          2462.834491017964,
          2161.770628146203,
          980.1983065953655,
          4648.149641914813,
          1566.739610237145,
          841.8873771730914,
          945.4789156626506,
          6609.672609819121,
          1539.7440366972478,
          868.9369970108071,
          863.6372483963725,
          2106.736190240277,
          1252.8498603351954,
          1815.1222042886789,
          1757.611570247934,
          3087.2330275229356,
          1600.9543378995434,
          1296.434329065908,
          3929.28323699422,
          1454.3811926605504,
          1872.8623548922055,
          1416.6312703583062,
          2765.185185185185,
          763.436928702011,
          702.4562453253553,
          1461.8425196850394,
          1718.0029563932003,
          855.6057752667922,
          936.5878828229028,
          728.0452961672474,
          788.0719156850589,
          905.1406799531067,
          978.4794520547945,
          786.8296994696524,
          892.7841596130593,
          849.4672619047619,
          905.8558106169297,
          856.5981012658228,
          879.9263292761051,
          314.0564738292011,
          921.5649122807017,
          383.86543209876544,
          506.7798913043478,
          634.489439184268,
          1296.7792032410534,
          790.8355263157895,
          335.63933287004863,
          402.71579565472695,
          530.1781187458306,
          680.8130914826498,
          699.5425531914893,
          321.62668918918916,
          3135.1779295470883,
          1891.0692124105012,
          222.3939766441303,
          256.22025536854323,
          2884.001998401279,
          886.3802752293578,
          269.9891598915989,
          481.43783783783783,
          2594.0265906932573,
          1663.5340729001584,
          1998.2499207104345,
          607.0185614849188,
          1751.4738315141337,
          841.4429182616528,
          703.3314934069303,
          991.1248258567846,
          1808.0023654642223,
          830.1414919852034,
          604.0017271157168,
          543.2983381693484,
          1120.4363219561894,
          1185.4497341710971,
          1270.2995426829268,
          1079.303863474757,
          2068.961459928535,
          1261.7465501379945,
          690.3573833573834,
          759.4997828918802,
          1759.965418554734,
          1618.5880029622315,
          994.0823961441358,
          1353.6180798878768,
          2071.3703346978086,
          2067.7765596450013,
          1551.7567827130852,
          1238.621157323689,
          2893.664702731655,
          1689.9609009774756,
          988.5511527377522,
          1176.488743169399,
          3078.8258629572383,
          992.4194802040321,
          975.3637676971973,
          878.2252093433231,
          2414.523538541128,
          2697.0132786093673,
          3061.6269765213224,
          781.5116279069767,
          1803.3315152952337,
          2271.0052934407363,
          822.373645320197,
          1043.025916977817,
          1561.175341198242,
          840.4195576251456,
          699.5449268632459,
          686.2668607472101,
          3269.8416833667334,
          2452.609327396297,
          1374.4555873925501,
          1190.1303135888502,
          1833.6184329710145,
          1196.4249025452878,
          1046.7777495554992,
          1334.5433685176686,
          2335.385,
          2649.233527131783,
          1081.5153994225216,
          1490.9489744872437,
          1890.1748334919125,
          2376.863233532934,
          2078.1858174655285,
          909.958778966132,
          4536.830380701093,
          1483.4825076308994,
          774.1307634164777,
          876.9721964782206,
          6491.121447028424,
          1465.5055045871559,
          799.7907564957461,
          797.3275823932759,
          2020.6727768144663,
          1178.9615921787708,
          1733.676273922066,
          1674.7367525522607,
          2982.16376146789,
          1518.6224465272771,
          1219.751541014699,
          3819.044241885282,
          1377.138990825688,
          1790.4145936981758,
          1339.45667752443,
          2666.1111111111113,
          850.2138939670932,
          790.3216155572177,
          1592.6811023622047,
          1860.6977087952698,
          931.0075329566855,
          996.603861517976,
          781.794425087108,
          890.7836329820211,
          1010.9827080890973,
          1039.8825831702543,
          848.1143193871538,
          996.450423216445,
          915.1011904761905,
          962.43543758967,
          918.2848101265823,
          939.2511210762332,
          350.29338842975204,
          974.6877192982456,
          425.8222222222222,
          554.5346467391304,
          685.3386744355427,
          1353.953409858204,
          837.8052631578947,
          377.41487143849895,
          439.50088079859074,
          574.599733155437,
          727.5906940063091,
          748.563829787234,
          371.9538288288288,
          3348.138030194105,
          2060.1056085918854,
          260.1462814996927,
          293.42396982008125,
          3112.455235811351,
          1008.5422018348623,
          313.780487804878,
          566.1032432432432,
          2794.4476100031657,
          1813.3442155309033,
          2162.7132889311765,
          712.2041763341067,
          1904.1766022949903,
          961.6696689934699,
          810.9503219871206,
          1115.287545277236,
          1961.3731519810763,
          946.907829839704,
          709.0060449050086,
          648.2112898971247,
          1245.8996434029546,
          1310.8537941034317,
          1399.8864329268292,
          1204.6947143872956,
          2219.3455844818786,
          1399.75,
          797.5887445887446,
          870.4407294832827,
          1914.0042928690675,
          1761.707479634658,
          1119.6091347257286,
          1486.8600794206961,
          2228.742836503732,
          2231.6053249804227,
          1694.223049219688,
          1370.9240506329113,
          3061.742903053026,
          1846.0609859753506,
          1119.7934678194044,
          1311.1307103825136,
          3240.8276661514683,
          1123.322564974496,
          1104.405085235481,
          996.402379903041,
          2577.122866011381,
          2876.650169000483,
          3234.971250598946,
          909.0423772609819,
          1944.1970595209864,
          2416.3484464902185,
          952.8206896551724,
          1185.1576982209533,
          1703.0837381448068,
          963.1306169965076,
          818.9442767587648,
          804.4230955846676,
          3422.8549599198395,
          2602.5828450902272,
          1505.6173462640513,
          1329.7600464576074,
          1975.0378170289855,
          1333.49736299014,
          1180.3253746507494,
          1475.0513997246444,
          2484.3490476190477,
          2799.5440891472867,
          1217.1643407122233,
          1637.1160580290145,
          2038.936013320647,
          2527.9755688622754,
          2229.747866053841,
          1041.2611408199643,
          4710.682246513381,
          1627.3787274007982,
          903.1085915847821,
          1008.8447636700648,
          6689.777260981912,
          1607.3855504587157,
          930.683375488618,
          922.1592568015926,
          2173.148625216745,
          1313.1634078212292,
          1875.0076089462762,
          1829.566844919786,
          3181.155504587156,
          1673.1338620523914,
          1367.3210052157422,
          4029.8881725211204,
          1527.707110091743,
          1943.1987680644397,
          1488.7900108577633,
          2866.4814814814813
         ],
         "y0": " ",
         "yaxis": "y"
        },
        {
         "alignmentgroup": "True",
         "customdata": [
          [
           "Dec"
          ],
          [
           "Nov"
          ],
          [
           "Oct"
          ],
          [
           "Sep"
          ],
          [
           "Apr"
          ],
          [
           "Aug"
          ],
          [
           "Dec"
          ],
          [
           "Feb"
          ],
          [
           "Jan"
          ],
          [
           "Jul"
          ],
          [
           "Jun"
          ],
          [
           "Mar"
          ],
          [
           "May"
          ],
          [
           "Nov"
          ],
          [
           "Oct"
          ],
          [
           "Sep"
          ],
          [
           "Apr"
          ],
          [
           "Aug"
          ],
          [
           "Dec"
          ],
          [
           "Feb"
          ],
          [
           "Jan"
          ],
          [
           "Jul"
          ],
          [
           "Jun"
          ],
          [
           "Mar"
          ],
          [
           "May"
          ],
          [
           "Nov"
          ],
          [
           "Oct"
          ],
          [
           "Sep"
          ],
          [
           "Apr"
          ],
          [
           "Aug"
          ],
          [
           "Dec"
          ],
          [
           "Feb"
          ],
          [
           "Jan"
          ],
          [
           "Jul"
          ],
          [
           "Jun"
          ],
          [
           "Mar"
          ],
          [
           "May"
          ],
          [
           "Nov"
          ],
          [
           "Oct"
          ],
          [
           "Sep"
          ],
          [
           "Apr"
          ],
          [
           "Aug"
          ],
          [
           "Dec"
          ],
          [
           "Feb"
          ],
          [
           "Jan"
          ],
          [
           "Jul"
          ],
          [
           "Jun"
          ],
          [
           "Mar"
          ],
          [
           "May"
          ],
          [
           "Nov"
          ],
          [
           "Oct"
          ],
          [
           "Sep"
          ],
          [
           "Apr"
          ],
          [
           "Aug"
          ],
          [
           "Dec"
          ],
          [
           "Feb"
          ],
          [
           "Jan"
          ],
          [
           "Jul"
          ],
          [
           "Jun"
          ],
          [
           "Mar"
          ],
          [
           "May"
          ],
          [
           "Nov"
          ],
          [
           "Oct"
          ],
          [
           "Sep"
          ],
          [
           "Apr"
          ],
          [
           "Aug"
          ],
          [
           "Dec"
          ],
          [
           "Feb"
          ],
          [
           "Jan"
          ],
          [
           "Jul"
          ],
          [
           "Jun"
          ],
          [
           "Mar"
          ],
          [
           "May"
          ],
          [
           "Nov"
          ],
          [
           "Oct"
          ],
          [
           "Sep"
          ],
          [
           "Apr"
          ],
          [
           "Aug"
          ],
          [
           "Dec"
          ],
          [
           "Feb"
          ],
          [
           "Jan"
          ],
          [
           "Jul"
          ],
          [
           "Jun"
          ],
          [
           "Mar"
          ],
          [
           "May"
          ],
          [
           "Nov"
          ],
          [
           "Oct"
          ],
          [
           "Sep"
          ],
          [
           "Apr"
          ],
          [
           "Aug"
          ],
          [
           "Dec"
          ],
          [
           "Feb"
          ],
          [
           "Jan"
          ],
          [
           "Jul"
          ],
          [
           "Jun"
          ],
          [
           "Mar"
          ],
          [
           "May"
          ],
          [
           "Nov"
          ],
          [
           "Oct"
          ],
          [
           "Sep"
          ],
          [
           "Apr"
          ],
          [
           "Aug"
          ],
          [
           "Dec"
          ],
          [
           "Feb"
          ],
          [
           "Jan"
          ],
          [
           "Jul"
          ],
          [
           "Jun"
          ],
          [
           "Mar"
          ],
          [
           "May"
          ],
          [
           "Nov"
          ],
          [
           "Oct"
          ],
          [
           "Sep"
          ],
          [
           "Apr"
          ],
          [
           "Aug"
          ],
          [
           "Feb"
          ],
          [
           "Jan"
          ],
          [
           "Jul"
          ],
          [
           "Jun"
          ],
          [
           "Mar"
          ],
          [
           "May"
          ],
          [
           "Sep"
          ],
          [
           "Dec"
          ],
          [
           "Nov"
          ],
          [
           "Oct"
          ],
          [
           "Sep"
          ],
          [
           "Apr"
          ],
          [
           "Aug"
          ],
          [
           "Dec"
          ],
          [
           "Feb"
          ],
          [
           "Jan"
          ],
          [
           "Jul"
          ],
          [
           "Jun"
          ],
          [
           "Mar"
          ],
          [
           "May"
          ],
          [
           "Nov"
          ],
          [
           "Oct"
          ],
          [
           "Sep"
          ],
          [
           "Apr"
          ],
          [
           "Aug"
          ],
          [
           "Dec"
          ],
          [
           "Feb"
          ],
          [
           "Jan"
          ],
          [
           "Jul"
          ],
          [
           "Jun"
          ],
          [
           "Mar"
          ],
          [
           "May"
          ],
          [
           "Nov"
          ],
          [
           "Oct"
          ],
          [
           "Sep"
          ],
          [
           "Apr"
          ],
          [
           "Aug"
          ],
          [
           "Dec"
          ],
          [
           "Feb"
          ],
          [
           "Jan"
          ],
          [
           "Jul"
          ],
          [
           "Jun"
          ],
          [
           "Mar"
          ],
          [
           "May"
          ],
          [
           "Nov"
          ],
          [
           "Oct"
          ],
          [
           "Sep"
          ],
          [
           "Apr"
          ],
          [
           "Aug"
          ],
          [
           "Dec"
          ],
          [
           "Feb"
          ],
          [
           "Jan"
          ],
          [
           "Jul"
          ],
          [
           "Jun"
          ],
          [
           "Mar"
          ],
          [
           "May"
          ],
          [
           "Nov"
          ],
          [
           "Oct"
          ],
          [
           "Sep"
          ],
          [
           "Apr"
          ],
          [
           "Aug"
          ],
          [
           "Dec"
          ],
          [
           "Feb"
          ],
          [
           "Jan"
          ],
          [
           "Jul"
          ],
          [
           "Jun"
          ],
          [
           "Mar"
          ],
          [
           "May"
          ],
          [
           "Nov"
          ],
          [
           "Oct"
          ],
          [
           "Sep"
          ],
          [
           "Apr"
          ],
          [
           "Aug"
          ],
          [
           "Dec"
          ],
          [
           "Feb"
          ],
          [
           "Jan"
          ],
          [
           "Jul"
          ],
          [
           "Jun"
          ],
          [
           "Mar"
          ],
          [
           "May"
          ],
          [
           "Nov"
          ],
          [
           "Oct"
          ],
          [
           "Sep"
          ],
          [
           "Apr"
          ],
          [
           "Aug"
          ],
          [
           "Dec"
          ],
          [
           "Feb"
          ],
          [
           "Jan"
          ],
          [
           "Jul"
          ],
          [
           "Jun"
          ],
          [
           "Mar"
          ],
          [
           "May"
          ],
          [
           "Nov"
          ],
          [
           "Oct"
          ],
          [
           "Sep"
          ],
          [
           "Apr"
          ],
          [
           "Aug"
          ],
          [
           "Dec"
          ],
          [
           "Feb"
          ],
          [
           "Jan"
          ],
          [
           "Jul"
          ],
          [
           "Jun"
          ],
          [
           "Mar"
          ],
          [
           "May"
          ],
          [
           "Nov"
          ],
          [
           "Oct"
          ],
          [
           "Sep"
          ],
          [
           "Apr"
          ],
          [
           "Aug"
          ],
          [
           "Dec"
          ],
          [
           "Feb"
          ],
          [
           "Jan"
          ],
          [
           "Jul"
          ],
          [
           "Jun"
          ],
          [
           "Mar"
          ],
          [
           "May"
          ],
          [
           "Nov"
          ],
          [
           "Oct"
          ],
          [
           "Sep"
          ],
          [
           "Apr"
          ],
          [
           "Aug"
          ],
          [
           "Feb"
          ],
          [
           "Jan"
          ],
          [
           "Jul"
          ],
          [
           "Jun"
          ],
          [
           "Mar"
          ],
          [
           "May"
          ],
          [
           "Sep"
          ],
          [
           "Dec"
          ],
          [
           "Nov"
          ],
          [
           "Oct"
          ],
          [
           "Sep"
          ],
          [
           "Apr"
          ],
          [
           "Aug"
          ],
          [
           "Dec"
          ],
          [
           "Feb"
          ],
          [
           "Jan"
          ],
          [
           "Jul"
          ],
          [
           "Jun"
          ],
          [
           "Mar"
          ],
          [
           "May"
          ],
          [
           "Nov"
          ],
          [
           "Oct"
          ],
          [
           "Sep"
          ],
          [
           "Apr"
          ],
          [
           "Aug"
          ],
          [
           "Dec"
          ],
          [
           "Feb"
          ],
          [
           "Jan"
          ],
          [
           "Jul"
          ],
          [
           "Jun"
          ],
          [
           "Mar"
          ],
          [
           "May"
          ],
          [
           "Nov"
          ],
          [
           "Oct"
          ],
          [
           "Sep"
          ],
          [
           "Apr"
          ],
          [
           "Aug"
          ],
          [
           "Dec"
          ],
          [
           "Feb"
          ],
          [
           "Jan"
          ],
          [
           "Jul"
          ],
          [
           "Jun"
          ],
          [
           "Mar"
          ],
          [
           "May"
          ],
          [
           "Nov"
          ],
          [
           "Oct"
          ],
          [
           "Sep"
          ],
          [
           "Apr"
          ],
          [
           "Aug"
          ],
          [
           "Dec"
          ],
          [
           "Feb"
          ],
          [
           "Jan"
          ],
          [
           "Jul"
          ],
          [
           "Jun"
          ],
          [
           "Mar"
          ],
          [
           "May"
          ],
          [
           "Nov"
          ],
          [
           "Oct"
          ],
          [
           "Sep"
          ],
          [
           "Apr"
          ],
          [
           "Aug"
          ],
          [
           "Dec"
          ],
          [
           "Feb"
          ],
          [
           "Jan"
          ],
          [
           "Jul"
          ],
          [
           "Jun"
          ],
          [
           "Mar"
          ],
          [
           "May"
          ],
          [
           "Nov"
          ],
          [
           "Oct"
          ],
          [
           "Sep"
          ],
          [
           "Apr"
          ],
          [
           "Aug"
          ],
          [
           "Dec"
          ],
          [
           "Feb"
          ],
          [
           "Jan"
          ],
          [
           "Jul"
          ],
          [
           "Jun"
          ],
          [
           "Mar"
          ],
          [
           "May"
          ],
          [
           "Nov"
          ],
          [
           "Oct"
          ],
          [
           "Sep"
          ],
          [
           "Apr"
          ],
          [
           "Aug"
          ],
          [
           "Dec"
          ],
          [
           "Feb"
          ],
          [
           "Jan"
          ],
          [
           "Jul"
          ],
          [
           "Jun"
          ],
          [
           "Mar"
          ],
          [
           "May"
          ],
          [
           "Nov"
          ],
          [
           "Oct"
          ],
          [
           "Sep"
          ],
          [
           "Apr"
          ],
          [
           "Aug"
          ],
          [
           "Dec"
          ],
          [
           "Feb"
          ],
          [
           "Jan"
          ],
          [
           "Jul"
          ],
          [
           "Jun"
          ],
          [
           "Mar"
          ],
          [
           "May"
          ],
          [
           "Nov"
          ],
          [
           "Oct"
          ],
          [
           "Sep"
          ],
          [
           "Apr"
          ],
          [
           "Aug"
          ],
          [
           "Dec"
          ],
          [
           "Feb"
          ],
          [
           "Jan"
          ],
          [
           "Jul"
          ],
          [
           "Jun"
          ],
          [
           "Mar"
          ],
          [
           "May"
          ],
          [
           "Nov"
          ],
          [
           "Oct"
          ],
          [
           "Sep"
          ],
          [
           "Apr"
          ],
          [
           "Aug"
          ],
          [
           "Feb"
          ],
          [
           "Jan"
          ],
          [
           "Jul"
          ],
          [
           "Jun"
          ],
          [
           "Mar"
          ],
          [
           "May"
          ],
          [
           "Sep"
          ]
         ],
         "hovertemplate": "commodity=Wheat<br>year=%{x}<br>value=%{y}<br>month=%{customdata[0]}<extra></extra>",
         "legendgroup": "Wheat",
         "marker": {
          "color": "#B6E880"
         },
         "name": "Wheat",
         "notched": false,
         "offsetgroup": "Wheat",
         "orientation": "v",
         "showlegend": true,
         "type": "box",
         "x": [
          "2014",
          "2014",
          "2014",
          "2014",
          "2015",
          "2015",
          "2015",
          "2015",
          "2015",
          "2015",
          "2015",
          "2015",
          "2015",
          "2015",
          "2015",
          "2015",
          "2016",
          "2016",
          "2016",
          "2016",
          "2016",
          "2016",
          "2016",
          "2016",
          "2016",
          "2016",
          "2016",
          "2016",
          "2017",
          "2017",
          "2017",
          "2017",
          "2017",
          "2017",
          "2017",
          "2017",
          "2017",
          "2017",
          "2017",
          "2017",
          "2018",
          "2018",
          "2018",
          "2018",
          "2018",
          "2018",
          "2018",
          "2018",
          "2018",
          "2018",
          "2018",
          "2018",
          "2019",
          "2019",
          "2019",
          "2019",
          "2019",
          "2019",
          "2019",
          "2019",
          "2019",
          "2019",
          "2019",
          "2019",
          "2020",
          "2020",
          "2020",
          "2020",
          "2020",
          "2020",
          "2020",
          "2020",
          "2020",
          "2020",
          "2020",
          "2020",
          "2021",
          "2021",
          "2021",
          "2021",
          "2021",
          "2021",
          "2021",
          "2021",
          "2021",
          "2021",
          "2021",
          "2021",
          "2022",
          "2022",
          "2022",
          "2022",
          "2022",
          "2022",
          "2022",
          "2022",
          "2022",
          "2022",
          "2022",
          "2022",
          "2023",
          "2023",
          "2023",
          "2023",
          "2023",
          "2023",
          "2023",
          "2023",
          "2023",
          "2023",
          "2023",
          "2023",
          "2024",
          "2024",
          "2024",
          "2024",
          "2024",
          "2024",
          "2024",
          "2024",
          "2024",
          "2014",
          "2014",
          "2014",
          "2014",
          "2015",
          "2015",
          "2015",
          "2015",
          "2015",
          "2015",
          "2015",
          "2015",
          "2015",
          "2015",
          "2015",
          "2015",
          "2016",
          "2016",
          "2016",
          "2016",
          "2016",
          "2016",
          "2016",
          "2016",
          "2016",
          "2016",
          "2016",
          "2016",
          "2017",
          "2017",
          "2017",
          "2017",
          "2017",
          "2017",
          "2017",
          "2017",
          "2017",
          "2017",
          "2017",
          "2017",
          "2018",
          "2018",
          "2018",
          "2018",
          "2018",
          "2018",
          "2018",
          "2018",
          "2018",
          "2018",
          "2018",
          "2018",
          "2019",
          "2019",
          "2019",
          "2019",
          "2019",
          "2019",
          "2019",
          "2019",
          "2019",
          "2019",
          "2019",
          "2019",
          "2020",
          "2020",
          "2020",
          "2020",
          "2020",
          "2020",
          "2020",
          "2020",
          "2020",
          "2020",
          "2020",
          "2020",
          "2021",
          "2021",
          "2021",
          "2021",
          "2021",
          "2021",
          "2021",
          "2021",
          "2021",
          "2021",
          "2021",
          "2021",
          "2022",
          "2022",
          "2022",
          "2022",
          "2022",
          "2022",
          "2022",
          "2022",
          "2022",
          "2022",
          "2022",
          "2022",
          "2023",
          "2023",
          "2023",
          "2023",
          "2023",
          "2023",
          "2023",
          "2023",
          "2023",
          "2023",
          "2023",
          "2023",
          "2024",
          "2024",
          "2024",
          "2024",
          "2024",
          "2024",
          "2024",
          "2024",
          "2024",
          "2014",
          "2014",
          "2014",
          "2014",
          "2015",
          "2015",
          "2015",
          "2015",
          "2015",
          "2015",
          "2015",
          "2015",
          "2015",
          "2015",
          "2015",
          "2015",
          "2016",
          "2016",
          "2016",
          "2016",
          "2016",
          "2016",
          "2016",
          "2016",
          "2016",
          "2016",
          "2016",
          "2016",
          "2017",
          "2017",
          "2017",
          "2017",
          "2017",
          "2017",
          "2017",
          "2017",
          "2017",
          "2017",
          "2017",
          "2017",
          "2018",
          "2018",
          "2018",
          "2018",
          "2018",
          "2018",
          "2018",
          "2018",
          "2018",
          "2018",
          "2018",
          "2018",
          "2019",
          "2019",
          "2019",
          "2019",
          "2019",
          "2019",
          "2019",
          "2019",
          "2019",
          "2019",
          "2019",
          "2019",
          "2020",
          "2020",
          "2020",
          "2020",
          "2020",
          "2020",
          "2020",
          "2020",
          "2020",
          "2020",
          "2020",
          "2020",
          "2021",
          "2021",
          "2021",
          "2021",
          "2021",
          "2021",
          "2021",
          "2021",
          "2021",
          "2021",
          "2021",
          "2021",
          "2022",
          "2022",
          "2022",
          "2022",
          "2022",
          "2022",
          "2022",
          "2022",
          "2022",
          "2022",
          "2022",
          "2022",
          "2023",
          "2023",
          "2023",
          "2023",
          "2023",
          "2023",
          "2023",
          "2023",
          "2023",
          "2023",
          "2023",
          "2023",
          "2024",
          "2024",
          "2024",
          "2024",
          "2024",
          "2024",
          "2024",
          "2024",
          "2024"
         ],
         "x0": " ",
         "xaxis": "x",
         "y": [
          1490.1423060437205,
          1473.5076535750252,
          1475.8271150814503,
          1454.4040667361835,
          1474.4558951965066,
          1440.6751842751842,
          1563.8636607622116,
          1559.1885714285713,
          1557,
          1440.6691553896408,
          1451.768969902501,
          1525.04499781564,
          1450.702645947081,
          1545.5669205658323,
          1512.1907343518974,
          1460.5614525139665,
          1532.2710843373493,
          1635.125,
          1824.0998970133883,
          1615.3971061093248,
          1587.077302631579,
          1621.4263607257203,
          1585.8762049720954,
          1623.2753541076488,
          1534.7167204053433,
          1781.8837731611454,
          1667.1948051948052,
          1650.6595505617977,
          1633.0128831630386,
          1567.7238968982087,
          1587.3622250970245,
          1811.1615271659325,
          1827.554172429691,
          1573.5855246681692,
          1614.81567366283,
          1709.419369169258,
          1628.18935165307,
          1581.8982745300025,
          1566.441000746826,
          1567.4751260135874,
          1703.6998931052913,
          1735.003138896155,
          1833.8106653620353,
          1593.7410714285713,
          1594.3170731707316,
          1669.8765036086609,
          1693.4731800766283,
          1598.0885005636978,
          1717.504510451045,
          1814.5691646521623,
          1797.8315837517116,
          1768.656272487407,
          1840.396870189841,
          1879.0625608568646,
          1962.8032704402515,
          1902.199784308439,
          1868.57636539391,
          1836.0352721326792,
          1834.767340376665,
          1908.2156095014357,
          1830.2111087465419,
          1937.8215353938185,
          1920.9528823374571,
          1896.5496909177366,
          1952.898538011696,
          1839.958573072497,
          1673.9327003630272,
          2003.4113227797156,
          2016.5308580030105,
          1893.508743523316,
          1918.8556675062973,
          1988.0833035395067,
          1918.3033026286228,
          1693.0700225879316,
          1706.4356261022929,
          1767.2508290624057,
          1901.0182323856613,
          1707.264740221833,
          1915.6826451053998,
          1703.7096194186395,
          1698.9874893375036,
          1701.777025036819,
          1917.0315990193408,
          1684.5751160092807,
          1960.3208478513357,
          1909.8830389870043,
          1867.829037037037,
          1800.609809264305,
          2037.3317013463893,
          2216.6079958463138,
          2543.5497490129724,
          1966.1152,
          1930.365165336374,
          2067.4338552915765,
          2039.7682811016145,
          2020.187125748503,
          2051.4545454545455,
          2429.981083123426,
          2304.8271604938273,
          2265.982939312698,
          2152.474087311718,
          2280.8592929577467,
          2456.9651126891017,
          2540.6370322993284,
          2675.354104254044,
          2251.9295292829775,
          2242.3218445859875,
          2248.374554102259,
          2164.644807411019,
          2442.170101406608,
          2339.8380561299855,
          2308.5505052974736,
          2336.463962729515,
          2462.48182055977,
          2477.052597612133,
          2485.72352,
          2422.5162767039674,
          2378.2288871349647,
          2445.804211911813,
          2325.8282252316467,
          2481.4666666666667,
          1170.5953707672525,
          1099.977341389728,
          1134.0972149238046,
          1057.842022940563,
          1000.3834061135371,
          811.5896805896806,
          785.1282877079979,
          1160.1723076923076,
          1202.1412452987881,
          812.0517965468969,
          893.2204323866044,
          1117.7339449541284,
          933.2641747165056,
          766.3003264417846,
          823.4080827994086,
          836.8351955307263,
          695.7606790799562,
          746.6615720524018,
          889.0653964984552,
          804.8799571275456,
          810.8015350877193,
          737.6723585912487,
          705.0223236935566,
          744.6022662889518,
          669.4583141409489,
          868.4065131948344,
          792.6209029066172,
          773.7893258426966,
          779.3140826299423,
          1398.5183486238532,
          1504.4688227684346,
          816.0832109642682,
          781.0115260488705,
          1364.947407963937,
          1386.6929587000677,
          778.1825855175477,
          1196.699012451696,
          1479.8199845480299,
          1460.0268857356236,
          1447.5798816568047,
          1620.1884019241047,
          1685.9296364111954,
          1781.2353228962818,
          1534.052995391705,
          1529.4956726986625,
          1616.1379310344828,
          1624.6597701149426,
          1550.251127395716,
          1627.251705170517,
          1763.1235562718239,
          1744.8644454586947,
          1715.827056848165,
          1780.0174448435096,
          1824.8349561830576,
          1901.1524528301886,
          1845.813696414128,
          1816.3508941517641,
          1793.9366970334033,
          1785.546623794212,
          1849.876533542156,
          1770.2094062566503,
          1880.163260219342,
          1866.3851013424585,
          1846.8495007132667,
          1903.6538011695907,
          1781.8454161871884,
          1632.4454063110863,
          1939.3471961363027,
          1945.175112895133,
          1840.3785621761658,
          1861.1599496221663,
          1932.294243832678,
          1867.121321051449,
          1653.0903517263635,
          1667.5088183421517,
          1721.9782936388303,
          1827.3618665018541,
          1662.324284880327,
          1870.1053999422465,
          1664.6359005094396,
          1655.3087858970714,
          1656.5419734904272,
          1804.9553255243802,
          1645.9921693735498,
          1860.5017421602788,
          1867.2459180273243,
          1825.7582222222222,
          1757.1367847411443,
          2002.0722154222767,
          2164.268951194185,
          2482.732938522279,
          1917.7888,
          1877.403078677309,
          2025.375,
          2002.5422602089268,
          1972.1946107784431,
          2012.5471515151514,
          2370.3853904282114,
          2251.3257575757575,
          2214.9663660736046,
          2112.4983405667604,
          2228.7938028169015,
          2402.769064526088,
          2481.0617204988807,
          2616.8193529059317,
          2201.3297755883964,
          2187.5735031847134,
          2192.8751486325805,
          2124.2515845928815,
          2385.4779195289498,
          2289.1503692762185,
          2258.0456397718012,
          2301.283365305563,
          2411.6272560816114,
          2425.967731526299,
          2432.34976,
          2374.4155645981687,
          2332.0515653775324,
          2394.49588680487,
          2294.166072701354,
          2399.266666666667,
          1204.9995713673381,
          1154.1067472306142,
          1182.9222280609563,
          1097.8482794577685,
          1040.9352401746726,
          840.3282555282556,
          817.6913580246913,
          1201.2057142857143,
          1251.4609277058087,
          837.699020065329,
          932.167867740568,
          1160.823503713412,
          970.4997900041999,
          797.9706202393907,
          857.7195662888122,
          870.1596834264432,
          721.8176341730558,
          772.6512008733624,
          919.6936148300721,
          837.4715969989281,
          843.7927631578947,
          764.6237993596585,
          730.8056823947235,
          774.9903682719547,
          690.229847996315,
          908.6698483997754,
          821.7501546072974,
          801.5275280898876,
          805.9622390048867,
          1455.7005242463958,
          1565.1009055627426,
          850.9177679882525,
          809.8321807284462,
          1414.5127723516152,
          1426.0781990521327,
          810.9062638827188,
          1237.5173894375268,
          1541.9562194179757,
          1516.30072193179,
          1509.553802323033,
          1659.0478353821486,
          1759.9356526288254,
          1853.9026418786693,
          1581.6566820276498,
          1587.9564647259376,
          1690.4648489708634,
          1668.190293742018,
          1609.5636978579482,
          1667.6873487348735,
          1834.672575879667,
          1814.943633044272,
          1784.3940993043896,
          1833.1831708568498,
          1888.1032132424536,
          1977.4221383647798,
          1921.416554327312,
          1891.4589173513775,
          1848.480495211399,
          1824.234956361966,
          1928.0274079874707,
          1811.4264737178123,
          1953.3115653040877,
          1936.673861542511,
          1913.2831669044222,
          1974.703216374269,
          1862.0629075565785,
          1716.3557665456576,
          2023.7636168500135,
          2033.7576517812342,
          1908.553756476684,
          1910.5025188916877,
          2013.4075795495173,
          1915.4309144012582,
          1735.8322039367538,
          1749.6572604350383,
          1810.9297558034368,
          1904.7654511742892,
          1755.3272037361355,
          1949.63413225527,
          1748.3596044351214,
          1741.6849587716804,
          1752.3303387334315,
          1906.8733315172976,
          1728.5440835266822,
          1939.3289779326365,
          1949.3478840386538,
          1906.7505185185184,
          1842.559128065395,
          2064.1155446756425,
          2259.7505192107997,
          2591.5324309080656,
          2004.19712,
          1960.7748004561004,
          2106.460043196544,
          2068.9764957264956,
          2061.9745508982037,
          2078.6555151515154,
          2480.009235936188,
          2352.8089225589224,
          2311.805995612966,
          2187.259892775083,
          2326.0774647887324,
          2505.131830811979,
          2590.240166293572,
          2721.9014379868186,
          2297.713464696223,
          2286.893248407643,
          2297.6019619500594,
          2202.2254997562163,
          2489.966306836768,
          2384.768389955687,
          2352.568052159739,
          2371.722937791176,
          2505.665969134188,
          2523.3401097128108,
          2534.68064,
          2462.6370803662257,
          2415.076295711655,
          2492.575189206976,
          2358.7317652649085,
          2528.5333333333333
         ],
         "y0": " ",
         "yaxis": "y"
        },
        {
         "alignmentgroup": "True",
         "customdata": [
          [
           "Nov"
          ],
          [
           "Oct"
          ],
          [
           "Sep"
          ],
          [
           "Aug"
          ],
          [
           "Dec"
          ],
          [
           "Nov"
          ],
          [
           "Oct"
          ],
          [
           "Sep"
          ],
          [
           "Apr"
          ],
          [
           "Aug"
          ],
          [
           "Dec"
          ],
          [
           "Feb"
          ],
          [
           "Jan"
          ],
          [
           "Jul"
          ],
          [
           "Jun"
          ],
          [
           "Mar"
          ],
          [
           "May"
          ],
          [
           "Nov"
          ],
          [
           "Oct"
          ],
          [
           "Sep"
          ],
          [
           "Apr"
          ],
          [
           "Aug"
          ],
          [
           "Dec"
          ],
          [
           "Feb"
          ],
          [
           "Jan"
          ],
          [
           "Jul"
          ],
          [
           "Jun"
          ],
          [
           "Mar"
          ],
          [
           "May"
          ],
          [
           "Nov"
          ],
          [
           "Oct"
          ],
          [
           "Sep"
          ],
          [
           "Apr"
          ],
          [
           "Aug"
          ],
          [
           "Dec"
          ],
          [
           "Feb"
          ],
          [
           "Jan"
          ],
          [
           "Jul"
          ],
          [
           "Jun"
          ],
          [
           "Mar"
          ],
          [
           "May"
          ],
          [
           "Nov"
          ],
          [
           "Oct"
          ],
          [
           "Sep"
          ],
          [
           "Apr"
          ],
          [
           "Aug"
          ],
          [
           "Dec"
          ],
          [
           "Feb"
          ],
          [
           "Jan"
          ],
          [
           "Jul"
          ],
          [
           "Jun"
          ],
          [
           "Mar"
          ],
          [
           "May"
          ],
          [
           "Nov"
          ],
          [
           "Oct"
          ],
          [
           "Sep"
          ],
          [
           "Apr"
          ],
          [
           "Aug"
          ],
          [
           "Dec"
          ],
          [
           "Feb"
          ],
          [
           "Jan"
          ],
          [
           "Jul"
          ],
          [
           "Jun"
          ],
          [
           "Mar"
          ],
          [
           "May"
          ],
          [
           "Nov"
          ],
          [
           "Oct"
          ],
          [
           "Sep"
          ],
          [
           "Apr"
          ],
          [
           "Aug"
          ],
          [
           "Dec"
          ],
          [
           "Feb"
          ],
          [
           "Jan"
          ],
          [
           "Jul"
          ],
          [
           "Jun"
          ],
          [
           "Mar"
          ],
          [
           "May"
          ],
          [
           "Nov"
          ],
          [
           "Oct"
          ],
          [
           "Sep"
          ],
          [
           "Apr"
          ],
          [
           "Aug"
          ],
          [
           "Dec"
          ],
          [
           "Feb"
          ],
          [
           "Jan"
          ],
          [
           "Jul"
          ],
          [
           "Jun"
          ],
          [
           "Mar"
          ],
          [
           "May"
          ],
          [
           "Nov"
          ],
          [
           "Oct"
          ],
          [
           "Sep"
          ],
          [
           "Apr"
          ],
          [
           "Aug"
          ],
          [
           "Feb"
          ],
          [
           "Jan"
          ],
          [
           "Jul"
          ],
          [
           "Jun"
          ],
          [
           "Mar"
          ],
          [
           "May"
          ],
          [
           "Sep"
          ],
          [
           "Nov"
          ],
          [
           "Oct"
          ],
          [
           "Sep"
          ],
          [
           "Aug"
          ],
          [
           "Dec"
          ],
          [
           "Nov"
          ],
          [
           "Oct"
          ],
          [
           "Sep"
          ],
          [
           "Apr"
          ],
          [
           "Aug"
          ],
          [
           "Dec"
          ],
          [
           "Feb"
          ],
          [
           "Jan"
          ],
          [
           "Jul"
          ],
          [
           "Jun"
          ],
          [
           "Mar"
          ],
          [
           "May"
          ],
          [
           "Nov"
          ],
          [
           "Oct"
          ],
          [
           "Sep"
          ],
          [
           "Apr"
          ],
          [
           "Aug"
          ],
          [
           "Dec"
          ],
          [
           "Feb"
          ],
          [
           "Jan"
          ],
          [
           "Jul"
          ],
          [
           "Jun"
          ],
          [
           "Mar"
          ],
          [
           "May"
          ],
          [
           "Nov"
          ],
          [
           "Oct"
          ],
          [
           "Sep"
          ],
          [
           "Apr"
          ],
          [
           "Aug"
          ],
          [
           "Dec"
          ],
          [
           "Feb"
          ],
          [
           "Jan"
          ],
          [
           "Jul"
          ],
          [
           "Jun"
          ],
          [
           "Mar"
          ],
          [
           "May"
          ],
          [
           "Nov"
          ],
          [
           "Oct"
          ],
          [
           "Sep"
          ],
          [
           "Apr"
          ],
          [
           "Aug"
          ],
          [
           "Dec"
          ],
          [
           "Feb"
          ],
          [
           "Jan"
          ],
          [
           "Jul"
          ],
          [
           "Jun"
          ],
          [
           "Mar"
          ],
          [
           "May"
          ],
          [
           "Nov"
          ],
          [
           "Oct"
          ],
          [
           "Sep"
          ],
          [
           "Apr"
          ],
          [
           "Aug"
          ],
          [
           "Dec"
          ],
          [
           "Feb"
          ],
          [
           "Jan"
          ],
          [
           "Jul"
          ],
          [
           "Jun"
          ],
          [
           "Mar"
          ],
          [
           "May"
          ],
          [
           "Nov"
          ],
          [
           "Oct"
          ],
          [
           "Sep"
          ],
          [
           "Apr"
          ],
          [
           "Aug"
          ],
          [
           "Dec"
          ],
          [
           "Feb"
          ],
          [
           "Jan"
          ],
          [
           "Jul"
          ],
          [
           "Jun"
          ],
          [
           "Mar"
          ],
          [
           "May"
          ],
          [
           "Nov"
          ],
          [
           "Oct"
          ],
          [
           "Sep"
          ],
          [
           "Apr"
          ],
          [
           "Aug"
          ],
          [
           "Dec"
          ],
          [
           "Feb"
          ],
          [
           "Jan"
          ],
          [
           "Jul"
          ],
          [
           "Jun"
          ],
          [
           "Mar"
          ],
          [
           "May"
          ],
          [
           "Nov"
          ],
          [
           "Oct"
          ],
          [
           "Sep"
          ],
          [
           "Apr"
          ],
          [
           "Aug"
          ],
          [
           "Feb"
          ],
          [
           "Jan"
          ],
          [
           "Jul"
          ],
          [
           "Jun"
          ],
          [
           "Mar"
          ],
          [
           "May"
          ],
          [
           "Sep"
          ],
          [
           "Nov"
          ],
          [
           "Oct"
          ],
          [
           "Sep"
          ],
          [
           "Aug"
          ],
          [
           "Dec"
          ],
          [
           "Nov"
          ],
          [
           "Oct"
          ],
          [
           "Sep"
          ],
          [
           "Apr"
          ],
          [
           "Aug"
          ],
          [
           "Dec"
          ],
          [
           "Feb"
          ],
          [
           "Jan"
          ],
          [
           "Jul"
          ],
          [
           "Jun"
          ],
          [
           "Mar"
          ],
          [
           "May"
          ],
          [
           "Nov"
          ],
          [
           "Oct"
          ],
          [
           "Sep"
          ],
          [
           "Apr"
          ],
          [
           "Aug"
          ],
          [
           "Dec"
          ],
          [
           "Feb"
          ],
          [
           "Jan"
          ],
          [
           "Jul"
          ],
          [
           "Jun"
          ],
          [
           "Mar"
          ],
          [
           "May"
          ],
          [
           "Nov"
          ],
          [
           "Oct"
          ],
          [
           "Sep"
          ],
          [
           "Apr"
          ],
          [
           "Aug"
          ],
          [
           "Dec"
          ],
          [
           "Feb"
          ],
          [
           "Jan"
          ],
          [
           "Jul"
          ],
          [
           "Jun"
          ],
          [
           "Mar"
          ],
          [
           "May"
          ],
          [
           "Nov"
          ],
          [
           "Oct"
          ],
          [
           "Sep"
          ],
          [
           "Apr"
          ],
          [
           "Aug"
          ],
          [
           "Dec"
          ],
          [
           "Feb"
          ],
          [
           "Jan"
          ],
          [
           "Jul"
          ],
          [
           "Jun"
          ],
          [
           "Mar"
          ],
          [
           "May"
          ],
          [
           "Nov"
          ],
          [
           "Oct"
          ],
          [
           "Sep"
          ],
          [
           "Apr"
          ],
          [
           "Aug"
          ],
          [
           "Dec"
          ],
          [
           "Feb"
          ],
          [
           "Jan"
          ],
          [
           "Jul"
          ],
          [
           "Jun"
          ],
          [
           "Mar"
          ],
          [
           "May"
          ],
          [
           "Nov"
          ],
          [
           "Oct"
          ],
          [
           "Sep"
          ],
          [
           "Apr"
          ],
          [
           "Aug"
          ],
          [
           "Dec"
          ],
          [
           "Feb"
          ],
          [
           "Jan"
          ],
          [
           "Jul"
          ],
          [
           "Jun"
          ],
          [
           "Mar"
          ],
          [
           "May"
          ],
          [
           "Nov"
          ],
          [
           "Oct"
          ],
          [
           "Sep"
          ],
          [
           "Apr"
          ],
          [
           "Aug"
          ],
          [
           "Dec"
          ],
          [
           "Feb"
          ],
          [
           "Jan"
          ],
          [
           "Jul"
          ],
          [
           "Jun"
          ],
          [
           "Mar"
          ],
          [
           "May"
          ],
          [
           "Nov"
          ],
          [
           "Oct"
          ],
          [
           "Sep"
          ],
          [
           "Apr"
          ],
          [
           "Aug"
          ],
          [
           "Feb"
          ],
          [
           "Jan"
          ],
          [
           "Jul"
          ],
          [
           "Jun"
          ],
          [
           "Mar"
          ],
          [
           "May"
          ],
          [
           "Sep"
          ]
         ],
         "hovertemplate": "commodity=Arhar Dal(Tur Dal)<br>year=%{x}<br>value=%{y}<br>month=%{customdata[0]}<extra></extra>",
         "legendgroup": "Arhar Dal(Tur Dal)",
         "marker": {
          "color": "#FF97FF"
         },
         "name": "Arhar Dal(Tur Dal)",
         "notched": false,
         "offsetgroup": "Arhar Dal(Tur Dal)",
         "orientation": "v",
         "showlegend": true,
         "type": "box",
         "x": [
          "2014",
          "2014",
          "2014",
          "2016",
          "2016",
          "2016",
          "2016",
          "2016",
          "2017",
          "2017",
          "2017",
          "2017",
          "2017",
          "2017",
          "2017",
          "2017",
          "2017",
          "2017",
          "2017",
          "2017",
          "2018",
          "2018",
          "2018",
          "2018",
          "2018",
          "2018",
          "2018",
          "2018",
          "2018",
          "2018",
          "2018",
          "2018",
          "2019",
          "2019",
          "2019",
          "2019",
          "2019",
          "2019",
          "2019",
          "2019",
          "2019",
          "2019",
          "2019",
          "2019",
          "2020",
          "2020",
          "2020",
          "2020",
          "2020",
          "2020",
          "2020",
          "2020",
          "2020",
          "2020",
          "2020",
          "2020",
          "2021",
          "2021",
          "2021",
          "2021",
          "2021",
          "2021",
          "2021",
          "2021",
          "2021",
          "2021",
          "2021",
          "2021",
          "2022",
          "2022",
          "2022",
          "2022",
          "2022",
          "2022",
          "2022",
          "2022",
          "2022",
          "2022",
          "2022",
          "2022",
          "2023",
          "2023",
          "2023",
          "2023",
          "2023",
          "2023",
          "2023",
          "2023",
          "2023",
          "2023",
          "2023",
          "2023",
          "2024",
          "2024",
          "2024",
          "2024",
          "2024",
          "2024",
          "2024",
          "2024",
          "2024",
          "2014",
          "2014",
          "2014",
          "2016",
          "2016",
          "2016",
          "2016",
          "2016",
          "2017",
          "2017",
          "2017",
          "2017",
          "2017",
          "2017",
          "2017",
          "2017",
          "2017",
          "2017",
          "2017",
          "2017",
          "2018",
          "2018",
          "2018",
          "2018",
          "2018",
          "2018",
          "2018",
          "2018",
          "2018",
          "2018",
          "2018",
          "2018",
          "2019",
          "2019",
          "2019",
          "2019",
          "2019",
          "2019",
          "2019",
          "2019",
          "2019",
          "2019",
          "2019",
          "2019",
          "2020",
          "2020",
          "2020",
          "2020",
          "2020",
          "2020",
          "2020",
          "2020",
          "2020",
          "2020",
          "2020",
          "2020",
          "2021",
          "2021",
          "2021",
          "2021",
          "2021",
          "2021",
          "2021",
          "2021",
          "2021",
          "2021",
          "2021",
          "2021",
          "2022",
          "2022",
          "2022",
          "2022",
          "2022",
          "2022",
          "2022",
          "2022",
          "2022",
          "2022",
          "2022",
          "2022",
          "2023",
          "2023",
          "2023",
          "2023",
          "2023",
          "2023",
          "2023",
          "2023",
          "2023",
          "2023",
          "2023",
          "2023",
          "2024",
          "2024",
          "2024",
          "2024",
          "2024",
          "2024",
          "2024",
          "2024",
          "2024",
          "2014",
          "2014",
          "2014",
          "2016",
          "2016",
          "2016",
          "2016",
          "2016",
          "2017",
          "2017",
          "2017",
          "2017",
          "2017",
          "2017",
          "2017",
          "2017",
          "2017",
          "2017",
          "2017",
          "2017",
          "2018",
          "2018",
          "2018",
          "2018",
          "2018",
          "2018",
          "2018",
          "2018",
          "2018",
          "2018",
          "2018",
          "2018",
          "2019",
          "2019",
          "2019",
          "2019",
          "2019",
          "2019",
          "2019",
          "2019",
          "2019",
          "2019",
          "2019",
          "2019",
          "2020",
          "2020",
          "2020",
          "2020",
          "2020",
          "2020",
          "2020",
          "2020",
          "2020",
          "2020",
          "2020",
          "2020",
          "2021",
          "2021",
          "2021",
          "2021",
          "2021",
          "2021",
          "2021",
          "2021",
          "2021",
          "2021",
          "2021",
          "2021",
          "2022",
          "2022",
          "2022",
          "2022",
          "2022",
          "2022",
          "2022",
          "2022",
          "2022",
          "2022",
          "2022",
          "2022",
          "2023",
          "2023",
          "2023",
          "2023",
          "2023",
          "2023",
          "2023",
          "2023",
          "2023",
          "2023",
          "2023",
          "2023",
          "2024",
          "2024",
          "2024",
          "2024",
          "2024",
          "2024",
          "2024",
          "2024",
          "2024"
         ],
         "x0": " ",
         "xaxis": "x",
         "y": [
          6575.333333333333,
          6731.759259259259,
          6782.644927536232,
          10485.833333333334,
          9626.9,
          10006.25,
          10268.529411764706,
          9560,
          6589.653846153846,
          5921.375,
          5896.760752688172,
          7578.163265306122,
          8846.35593220339,
          6209.431610942249,
          6369.632352941177,
          6863.75,
          6595.536398467433,
          6040.303571428572,
          6145.583468395462,
          6023.9876543209875,
          5848.507444168735,
          5989.171779141105,
          6231.239837398374,
          5794.269578313253,
          5798.685286103542,
          5913.964592274678,
          5903.7685643564355,
          5790.806028833552,
          5885.544496487119,
          5980.040352164343,
          5923.3310626703,
          5957.738095238095,
          6653.2813351498635,
          7861.310930074677,
          8147.520295202952,
          6435.738916256158,
          6311.463414634146,
          7827.864247311828,
          7617.7049518569465,
          6550.173656618611,
          6981.074953154279,
          8022.551511412708,
          7882.186684073107,
          7838.965384615384,
          8177.6602059357965,
          8310.243827160493,
          8998.477928193055,
          8037.308423052565,
          8129.716340621404,
          8296.588842975207,
          8208.424364896075,
          7873.0814332247555,
          8186.4029850746265,
          9176.705003248862,
          8928.481149012567,
          8327.446706586827,
          9138.156685236769,
          9173.155651636813,
          9195.014654161781,
          8926.966711956522,
          8864.40319606638,
          9227.051201011378,
          9380.897985705004,
          9099.062299293513,
          9476.56099342586,
          9218.866146848603,
          9256.644018583043,
          9221.157417893544,
          9111.128220140516,
          9382.789152955515,
          9810.939306358381,
          9057.66600660066,
          9099.677710843374,
          9131.549304677623,
          9084.739207569486,
          9110.994548758328,
          9119.344660194174,
          9766.560975609756,
          9696.759566326531,
          9559.014116318463,
          10300.979841172877,
          12731.561872909699,
          14132.792087542088,
          9886.663939584645,
          9852.409199522102,
          12237.258687258687,
          11219.160516605167,
          10009.079231692676,
          10493.004278728606,
          13990.177456207159,
          13666.674466620785,
          13198.506900878294,
          13471.697674418605,
          15072.395366218236,
          13667.299920445505,
          13777.16603773585,
          14833.097407147863,
          14389.486306439674,
          13492.435794542536,
          13851.0723065799,
          15300,
          445,
          0,
          333.2971014492754,
          10387.5,
          963,
          2117.1428571428573,
          6561.764705882353,
          7480,
          3588.389423076923,
          5220.433333333333,
          5789.860215053764,
          965.7142857142857,
          150.84745762711864,
          5079.452887537994,
          4810.183823529412,
          3266.3636363636365,
          5968.6781609195405,
          5739.669642857143,
          5814.228525121556,
          5784.98353909465,
          5726.868486352358,
          5876.973415132924,
          6130.677506775068,
          5694.368975903614,
          5690.122615803814,
          5795.359442060086,
          5791.930693069307,
          5653.5504587155965,
          5760.966042154567,
          5890.14306676449,
          5830.536784741144,
          5853.89594356261,
          6516.113760217983,
          7679.504412763069,
          8052.395448954489,
          6321.262491203378,
          6192.6994067237965,
          7671.055107526881,
          7425.957359009629,
          6410.632372214941,
          6808.035602748282,
          7913.104873534855,
          7728.080287206266,
          7697.781410256411,
          8078.8158691702,
          8193.398148148148,
          8895.985874043556,
          7946.915136162128,
          7982.911967779057,
          8205.635674931129,
          8110.909930715935,
          7782.534201954398,
          8089.105030403538,
          9087.840805717999,
          8838.337522441652,
          8240.675449101796,
          9050.075905292479,
          9081.803582458308,
          9100.122508792498,
          8837.536684782608,
          8688.236631837739,
          9137.372313527181,
          9292.012345679012,
          9010.430956968528,
          9381.923301680059,
          9125.93762183236,
          9161.45993031359,
          9128.15288788222,
          9020.31381733021,
          9285.47410115783,
          9714.100578034682,
          8961.211221122112,
          9004.774096385541,
          9031.044247787611,
          8985.205795387345,
          9020.030284675953,
          9026.070388349515,
          9669.814024390244,
          9602.280612244898,
          9469.785996612083,
          10190.91875381796,
          12580.505016722407,
          13984.34090909091,
          9789.860918816867,
          9755.588410991637,
          12094.267052767053,
          11097.30012300123,
          9903.503601440576,
          10370.06662591687,
          13848.041888804266,
          13520.060564349622,
          13042.007528230866,
          13350.783480352848,
          14932.529895366219,
          13540.85521081941,
          13640.434716981132,
          14705.321653819201,
          14264.40488527017,
          13365.638041733548,
          13722.566883586407,
          15183.333333333334,
          448.3333333333333,
          0,
          348.5144927536232,
          10554.166666666666,
          977.6,
          2225,
          6765.294117647059,
          7700,
          3712.283653846154,
          5430.497222222222,
          6005.32123655914,
          976.3265306122449,
          154.23728813559322,
          5244.328267477204,
          4998.455882352941,
          3311.7045454545455,
          6162.0498084291185,
          5950.997023809524,
          6109.068071312804,
          6003.716049382716,
          5944.086848635236,
          6092.4284253578735,
          6331.5210027100275,
          5895.10391566265,
          5893.964577656676,
          6006.732832618026,
          6000.383663366337,
          5858.921363040629,
          5980.515222482436,
          6078.327219369039,
          6020.575613079019,
          6064.3430335097,
          6731.256130790191,
          7891.344195519348,
          8235.441574415745,
          6528.205489092188,
          6402.640079103494,
          7890.422715053764,
          7684.711141678129,
          6627.9882044560945,
          7022.943160524672,
          8119.341147439852,
          7947.960182767624,
          7920.051282051282,
          8272.791035735918,
          8380.324845679012,
          9068.930547380813,
          8120.637112096263,
          8163.8550057537395,
          8385.255509641873,
          8299.018475750578,
          7964.222312703583,
          8279.540077390824,
          9265.189083820664,
          9025.376421304609,
          8411.08143712575,
          9221.509052924792,
          9262.014206300186,
          9282.490035169989,
          9011.785326086956,
          8862.663183773817,
          9316.996839443742,
          9471.640675763483,
          9181.752087347462,
          9567.989773557341,
          9309.443144899285,
          9342.21718931475,
          9311.02208380521,
          9197.499414519907,
          9474.346739792809,
          9902.198265895953,
          9139.678547854786,
          9189.92108433735,
          9222.163716814159,
          9176.249556475459,
          9197.408237431859,
          9211.101941747573,
          9849.710365853658,
          9781.947066326531,
          9645.336533032185,
          10401.077580940746,
          12860.841471571906,
          14243.223905723906,
          9987.359345500314,
          9940.356630824373,
          12377.124195624196,
          11333.428659286594,
          10114.054021608643,
          10600.281173594132,
          14101.523229246002,
          13792.608396421198,
          13320.966750313677,
          13575.039294306334,
          15186.458146487294,
          13785.928400954654,
          13889.264150943396,
          14969.429572529783,
          14515.41080680977,
          13605.49518459069,
          13971.681127982647,
          15450
         ],
         "y0": " ",
         "yaxis": "y"
        },
        {
         "alignmentgroup": "True",
         "customdata": [
          [
           "Nov"
          ],
          [
           "Oct"
          ],
          [
           "Sep"
          ],
          [
           "Aug"
          ],
          [
           "Dec"
          ],
          [
           "Nov"
          ],
          [
           "Oct"
          ],
          [
           "Sep"
          ],
          [
           "Apr"
          ],
          [
           "Aug"
          ],
          [
           "Dec"
          ],
          [
           "Feb"
          ],
          [
           "Jan"
          ],
          [
           "Jul"
          ],
          [
           "Jun"
          ],
          [
           "Mar"
          ],
          [
           "May"
          ],
          [
           "Nov"
          ],
          [
           "Oct"
          ],
          [
           "Sep"
          ],
          [
           "Apr"
          ],
          [
           "Aug"
          ],
          [
           "Dec"
          ],
          [
           "Feb"
          ],
          [
           "Jan"
          ],
          [
           "Jul"
          ],
          [
           "Jun"
          ],
          [
           "Mar"
          ],
          [
           "May"
          ],
          [
           "Nov"
          ],
          [
           "Oct"
          ],
          [
           "Sep"
          ],
          [
           "Apr"
          ],
          [
           "Aug"
          ],
          [
           "Dec"
          ],
          [
           "Feb"
          ],
          [
           "Jan"
          ],
          [
           "Jul"
          ],
          [
           "Jun"
          ],
          [
           "Mar"
          ],
          [
           "May"
          ],
          [
           "Nov"
          ],
          [
           "Oct"
          ],
          [
           "Sep"
          ],
          [
           "Apr"
          ],
          [
           "Aug"
          ],
          [
           "Dec"
          ],
          [
           "Feb"
          ],
          [
           "Jan"
          ],
          [
           "Jul"
          ],
          [
           "Jun"
          ],
          [
           "Mar"
          ],
          [
           "May"
          ],
          [
           "Nov"
          ],
          [
           "Oct"
          ],
          [
           "Sep"
          ],
          [
           "Apr"
          ],
          [
           "Aug"
          ],
          [
           "Dec"
          ],
          [
           "Feb"
          ],
          [
           "Jan"
          ],
          [
           "Jul"
          ],
          [
           "Jun"
          ],
          [
           "Mar"
          ],
          [
           "May"
          ],
          [
           "Nov"
          ],
          [
           "Oct"
          ],
          [
           "Sep"
          ],
          [
           "Apr"
          ],
          [
           "Aug"
          ],
          [
           "Dec"
          ],
          [
           "Feb"
          ],
          [
           "Jan"
          ],
          [
           "Jul"
          ],
          [
           "Jun"
          ],
          [
           "Mar"
          ],
          [
           "May"
          ],
          [
           "Nov"
          ],
          [
           "Oct"
          ],
          [
           "Sep"
          ],
          [
           "Apr"
          ],
          [
           "Aug"
          ],
          [
           "Dec"
          ],
          [
           "Feb"
          ],
          [
           "Jan"
          ],
          [
           "Jul"
          ],
          [
           "Jun"
          ],
          [
           "Mar"
          ],
          [
           "May"
          ],
          [
           "Nov"
          ],
          [
           "Oct"
          ],
          [
           "Sep"
          ],
          [
           "Apr"
          ],
          [
           "Aug"
          ],
          [
           "Feb"
          ],
          [
           "Jan"
          ],
          [
           "Jul"
          ],
          [
           "Jun"
          ],
          [
           "Mar"
          ],
          [
           "May"
          ],
          [
           "Sep"
          ],
          [
           "Nov"
          ],
          [
           "Oct"
          ],
          [
           "Sep"
          ],
          [
           "Aug"
          ],
          [
           "Dec"
          ],
          [
           "Nov"
          ],
          [
           "Oct"
          ],
          [
           "Sep"
          ],
          [
           "Apr"
          ],
          [
           "Aug"
          ],
          [
           "Dec"
          ],
          [
           "Feb"
          ],
          [
           "Jan"
          ],
          [
           "Jul"
          ],
          [
           "Jun"
          ],
          [
           "Mar"
          ],
          [
           "May"
          ],
          [
           "Nov"
          ],
          [
           "Oct"
          ],
          [
           "Sep"
          ],
          [
           "Apr"
          ],
          [
           "Aug"
          ],
          [
           "Dec"
          ],
          [
           "Feb"
          ],
          [
           "Jan"
          ],
          [
           "Jul"
          ],
          [
           "Jun"
          ],
          [
           "Mar"
          ],
          [
           "May"
          ],
          [
           "Nov"
          ],
          [
           "Oct"
          ],
          [
           "Sep"
          ],
          [
           "Apr"
          ],
          [
           "Aug"
          ],
          [
           "Dec"
          ],
          [
           "Feb"
          ],
          [
           "Jan"
          ],
          [
           "Jul"
          ],
          [
           "Jun"
          ],
          [
           "Mar"
          ],
          [
           "May"
          ],
          [
           "Nov"
          ],
          [
           "Oct"
          ],
          [
           "Sep"
          ],
          [
           "Apr"
          ],
          [
           "Aug"
          ],
          [
           "Dec"
          ],
          [
           "Feb"
          ],
          [
           "Jan"
          ],
          [
           "Jul"
          ],
          [
           "Jun"
          ],
          [
           "Mar"
          ],
          [
           "May"
          ],
          [
           "Nov"
          ],
          [
           "Oct"
          ],
          [
           "Sep"
          ],
          [
           "Apr"
          ],
          [
           "Aug"
          ],
          [
           "Dec"
          ],
          [
           "Feb"
          ],
          [
           "Jan"
          ],
          [
           "Jul"
          ],
          [
           "Jun"
          ],
          [
           "Mar"
          ],
          [
           "May"
          ],
          [
           "Nov"
          ],
          [
           "Oct"
          ],
          [
           "Sep"
          ],
          [
           "Apr"
          ],
          [
           "Aug"
          ],
          [
           "Dec"
          ],
          [
           "Feb"
          ],
          [
           "Jan"
          ],
          [
           "Jul"
          ],
          [
           "Jun"
          ],
          [
           "Mar"
          ],
          [
           "May"
          ],
          [
           "Nov"
          ],
          [
           "Oct"
          ],
          [
           "Sep"
          ],
          [
           "Apr"
          ],
          [
           "Aug"
          ],
          [
           "Dec"
          ],
          [
           "Feb"
          ],
          [
           "Jan"
          ],
          [
           "Jul"
          ],
          [
           "Jun"
          ],
          [
           "Mar"
          ],
          [
           "May"
          ],
          [
           "Nov"
          ],
          [
           "Oct"
          ],
          [
           "Sep"
          ],
          [
           "Apr"
          ],
          [
           "Aug"
          ],
          [
           "Feb"
          ],
          [
           "Jan"
          ],
          [
           "Jul"
          ],
          [
           "Jun"
          ],
          [
           "Mar"
          ],
          [
           "May"
          ],
          [
           "Sep"
          ],
          [
           "Nov"
          ],
          [
           "Oct"
          ],
          [
           "Sep"
          ],
          [
           "Aug"
          ],
          [
           "Dec"
          ],
          [
           "Nov"
          ],
          [
           "Oct"
          ],
          [
           "Sep"
          ],
          [
           "Apr"
          ],
          [
           "Aug"
          ],
          [
           "Dec"
          ],
          [
           "Feb"
          ],
          [
           "Jan"
          ],
          [
           "Jul"
          ],
          [
           "Jun"
          ],
          [
           "Mar"
          ],
          [
           "May"
          ],
          [
           "Nov"
          ],
          [
           "Oct"
          ],
          [
           "Sep"
          ],
          [
           "Apr"
          ],
          [
           "Aug"
          ],
          [
           "Dec"
          ],
          [
           "Feb"
          ],
          [
           "Jan"
          ],
          [
           "Jul"
          ],
          [
           "Jun"
          ],
          [
           "Mar"
          ],
          [
           "May"
          ],
          [
           "Nov"
          ],
          [
           "Oct"
          ],
          [
           "Sep"
          ],
          [
           "Apr"
          ],
          [
           "Aug"
          ],
          [
           "Dec"
          ],
          [
           "Feb"
          ],
          [
           "Jan"
          ],
          [
           "Jul"
          ],
          [
           "Jun"
          ],
          [
           "Mar"
          ],
          [
           "May"
          ],
          [
           "Nov"
          ],
          [
           "Oct"
          ],
          [
           "Sep"
          ],
          [
           "Apr"
          ],
          [
           "Aug"
          ],
          [
           "Dec"
          ],
          [
           "Feb"
          ],
          [
           "Jan"
          ],
          [
           "Jul"
          ],
          [
           "Jun"
          ],
          [
           "Mar"
          ],
          [
           "May"
          ],
          [
           "Nov"
          ],
          [
           "Oct"
          ],
          [
           "Sep"
          ],
          [
           "Apr"
          ],
          [
           "Aug"
          ],
          [
           "Dec"
          ],
          [
           "Feb"
          ],
          [
           "Jan"
          ],
          [
           "Jul"
          ],
          [
           "Jun"
          ],
          [
           "Mar"
          ],
          [
           "May"
          ],
          [
           "Nov"
          ],
          [
           "Oct"
          ],
          [
           "Sep"
          ],
          [
           "Apr"
          ],
          [
           "Aug"
          ],
          [
           "Dec"
          ],
          [
           "Feb"
          ],
          [
           "Jan"
          ],
          [
           "Jul"
          ],
          [
           "Jun"
          ],
          [
           "Mar"
          ],
          [
           "May"
          ],
          [
           "Nov"
          ],
          [
           "Oct"
          ],
          [
           "Sep"
          ],
          [
           "Apr"
          ],
          [
           "Aug"
          ],
          [
           "Dec"
          ],
          [
           "Feb"
          ],
          [
           "Jan"
          ],
          [
           "Jul"
          ],
          [
           "Jun"
          ],
          [
           "Mar"
          ],
          [
           "May"
          ],
          [
           "Nov"
          ],
          [
           "Oct"
          ],
          [
           "Sep"
          ],
          [
           "Apr"
          ],
          [
           "Aug"
          ],
          [
           "Feb"
          ],
          [
           "Jan"
          ],
          [
           "Jul"
          ],
          [
           "Jun"
          ],
          [
           "Mar"
          ],
          [
           "May"
          ],
          [
           "Sep"
          ]
         ],
         "hovertemplate": "commodity=Black Gram Dal (Urd Dal)<br>year=%{x}<br>value=%{y}<br>month=%{customdata[0]}<extra></extra>",
         "legendgroup": "Black Gram Dal (Urd Dal)",
         "marker": {
          "color": "#FECB52"
         },
         "name": "Black Gram Dal (Urd Dal)",
         "notched": false,
         "offsetgroup": "Black Gram Dal (Urd Dal)",
         "orientation": "v",
         "showlegend": true,
         "type": "box",
         "x": [
          "2014",
          "2014",
          "2014",
          "2016",
          "2016",
          "2016",
          "2016",
          "2016",
          "2017",
          "2017",
          "2017",
          "2017",
          "2017",
          "2017",
          "2017",
          "2017",
          "2017",
          "2017",
          "2017",
          "2017",
          "2018",
          "2018",
          "2018",
          "2018",
          "2018",
          "2018",
          "2018",
          "2018",
          "2018",
          "2018",
          "2018",
          "2018",
          "2019",
          "2019",
          "2019",
          "2019",
          "2019",
          "2019",
          "2019",
          "2019",
          "2019",
          "2019",
          "2019",
          "2019",
          "2020",
          "2020",
          "2020",
          "2020",
          "2020",
          "2020",
          "2020",
          "2020",
          "2020",
          "2020",
          "2020",
          "2020",
          "2021",
          "2021",
          "2021",
          "2021",
          "2021",
          "2021",
          "2021",
          "2021",
          "2021",
          "2021",
          "2021",
          "2021",
          "2022",
          "2022",
          "2022",
          "2022",
          "2022",
          "2022",
          "2022",
          "2022",
          "2022",
          "2022",
          "2022",
          "2022",
          "2023",
          "2023",
          "2023",
          "2023",
          "2023",
          "2023",
          "2023",
          "2023",
          "2023",
          "2023",
          "2023",
          "2023",
          "2024",
          "2024",
          "2024",
          "2024",
          "2024",
          "2024",
          "2024",
          "2024",
          "2024",
          "2014",
          "2014",
          "2014",
          "2016",
          "2016",
          "2016",
          "2016",
          "2016",
          "2017",
          "2017",
          "2017",
          "2017",
          "2017",
          "2017",
          "2017",
          "2017",
          "2017",
          "2017",
          "2017",
          "2017",
          "2018",
          "2018",
          "2018",
          "2018",
          "2018",
          "2018",
          "2018",
          "2018",
          "2018",
          "2018",
          "2018",
          "2018",
          "2019",
          "2019",
          "2019",
          "2019",
          "2019",
          "2019",
          "2019",
          "2019",
          "2019",
          "2019",
          "2019",
          "2019",
          "2020",
          "2020",
          "2020",
          "2020",
          "2020",
          "2020",
          "2020",
          "2020",
          "2020",
          "2020",
          "2020",
          "2020",
          "2021",
          "2021",
          "2021",
          "2021",
          "2021",
          "2021",
          "2021",
          "2021",
          "2021",
          "2021",
          "2021",
          "2021",
          "2022",
          "2022",
          "2022",
          "2022",
          "2022",
          "2022",
          "2022",
          "2022",
          "2022",
          "2022",
          "2022",
          "2022",
          "2023",
          "2023",
          "2023",
          "2023",
          "2023",
          "2023",
          "2023",
          "2023",
          "2023",
          "2023",
          "2023",
          "2023",
          "2024",
          "2024",
          "2024",
          "2024",
          "2024",
          "2024",
          "2024",
          "2024",
          "2024",
          "2014",
          "2014",
          "2014",
          "2016",
          "2016",
          "2016",
          "2016",
          "2016",
          "2017",
          "2017",
          "2017",
          "2017",
          "2017",
          "2017",
          "2017",
          "2017",
          "2017",
          "2017",
          "2017",
          "2017",
          "2018",
          "2018",
          "2018",
          "2018",
          "2018",
          "2018",
          "2018",
          "2018",
          "2018",
          "2018",
          "2018",
          "2018",
          "2019",
          "2019",
          "2019",
          "2019",
          "2019",
          "2019",
          "2019",
          "2019",
          "2019",
          "2019",
          "2019",
          "2019",
          "2020",
          "2020",
          "2020",
          "2020",
          "2020",
          "2020",
          "2020",
          "2020",
          "2020",
          "2020",
          "2020",
          "2020",
          "2021",
          "2021",
          "2021",
          "2021",
          "2021",
          "2021",
          "2021",
          "2021",
          "2021",
          "2021",
          "2021",
          "2021",
          "2022",
          "2022",
          "2022",
          "2022",
          "2022",
          "2022",
          "2022",
          "2022",
          "2022",
          "2022",
          "2022",
          "2022",
          "2023",
          "2023",
          "2023",
          "2023",
          "2023",
          "2023",
          "2023",
          "2023",
          "2023",
          "2023",
          "2023",
          "2023",
          "2024",
          "2024",
          "2024",
          "2024",
          "2024",
          "2024",
          "2024",
          "2024",
          "2024"
         ],
         "x0": " ",
         "xaxis": "x",
         "y": [
          6618.571428571428,
          6415.106382978724,
          6368.809523809524,
          12506,
          9531.884057971014,
          10056.111111111111,
          10180.29411764706,
          11754.285714285714,
          7228.729281767955,
          6682.783505154639,
          6282.688679245283,
          8368.559322033898,
          9073.809523809523,
          6866.513409961686,
          6920.8583690987125,
          36801.61111111111,
          7123.151260504202,
          6466.174334140436,
          6605.278514588859,
          6618.943661971831,
          5734.112903225807,
          5816.8536585365855,
          6092.440119760479,
          5947.658227848101,
          6121.974885844749,
          5694.4295302013425,
          5690.143737166324,
          5844.047058823529,
          5677.069943289225,
          5853.795698924731,
          5738.131790744467,
          5785.55525606469,
          6244.787524366472,
          6681.196798493409,
          7763.480648064807,
          6206.31329113924,
          6141.3954635108485,
          6655.119502868069,
          6569.594302554027,
          6275.408007626311,
          6340.971715328467,
          7166.3883847549905,
          6754.495875343721,
          6690.762114537445,
          8873.585,
          8701.997787610619,
          8920.127715030409,
          8310.82062391681,
          8020.015785319652,
          8734.08576814326,
          8866.492063492064,
          8437.085616438357,
          8862.780228136882,
          8940.263565891473,
          8770.644524236985,
          8603.354351687389,
          9265.847872340426,
          9019.24292237443,
          8848.404715127701,
          9166.311983471074,
          9072.10531220876,
          9138.228119180632,
          9356.803605313093,
          9266.122287968441,
          9449.484978540773,
          8847.515151515152,
          8832.677637947725,
          8957.510471204188,
          8882.309697601668,
          8853.891348088531,
          8944.281070745697,
          8862.570601851852,
          8854.882536382536,
          8769.057777777778,
          8867.388151174668,
          8881.560669456067,
          8906.091304347827,
          8918.541749502981,
          8905.752598752599,
          8881.717563989409,
          9125.02242609582,
          9361.33140877598,
          9754.688988095239,
          9060.209375,
          8990.448309178744,
          9332.569880823403,
          9254.734927234927,
          9035.527944111776,
          9161.21464903357,
          9687.17362924282,
          9562.20633059789,
          9471.806053811659,
          10078.360606060605,
          10372.24705882353,
          9908.590206185567,
          9792.244047619048,
          10325.798742138364,
          10225.64349112426,
          10008.371104815864,
          10159.41935483871,
          10275,
          0,
          0,
          1109.3650793650793,
          12380,
          278.2608695652174,
          2603.703703703704,
          7066.470588235294,
          11607.142857142857,
          3831.1325966850827,
          5855.01030927835,
          6171.662735849057,
          147.45762711864407,
          215.5952380952381,
          5542.666666666667,
          5168.476394849786,
          31021.88888888889,
          5007.394957983193,
          6209.939467312349,
          6352.90450928382,
          6293.698591549296,
          5590.725806451613,
          5679.780487804878,
          5983.294411177645,
          5830.493670886076,
          6016.563926940639,
          5556.946308724832,
          5557.505133470226,
          5730.505882352942,
          5537.680529300567,
          5753.5053763440865,
          5629.431589537224,
          5652.432614555256,
          6104.259259259259,
          6489.659133709981,
          7662.678667866787,
          6097.183544303797,
          6018.249506903353,
          6497.332695984704,
          6407.324165029469,
          6122.769304099142,
          6170.858576642336,
          7057.983666061706,
          6603.3409715857015,
          6562.9471365638765,
          8782.255833333333,
          8557.214601769912,
          8819.094700260643,
          8228.496533795495,
          7874.651144435675,
          8652.139491046182,
          8772.468253968254,
          8349.302511415524,
          8781.24258555133,
          8859.511627906977,
          8690.658886894076,
          8519.014209591474,
          9181.687234042553,
          8932.532420091324,
          8766.414538310413,
          9073.788223140496,
          8851.43429636533,
          9052.715083798883,
          9270.795066413662,
          9176.187376725838,
          9364.121244635193,
          8755.611471861472,
          8745.856727976767,
          8865.776614310646,
          8790.745568300314,
          8764.42857142857,
          8855.760994263863,
          8775.5,
          8773.654885654885,
          8675.66,
          8774.847803881512,
          8792.36820083682,
          8811.26304347826,
          8829.06958250497,
          8821.647609147609,
          8791.105030891438,
          9036.96126401631,
          9271.14780600462,
          9646.145833333334,
          8972.829166666666,
          8883.957487922706,
          9245.160346695558,
          9156.991683991684,
          8946.330339321357,
          9075.676500508647,
          9595.744125326371,
          9471.987104337632,
          9369.058295964125,
          9978.833333333334,
          10254.02614379085,
          9812.707474226803,
          9684.205952380953,
          10213.452830188678,
          10108.328402366864,
          9911.169971671388,
          10054.901823281907,
          10125,
          0,
          0,
          1213.4920634920634,
          12562,
          285.5072463768116,
          2692.5925925925926,
          7288.235294117647,
          11842.857142857143,
          3968.8121546961324,
          6063.357388316152,
          6386.757075471698,
          149.15254237288136,
          220.35714285714286,
          5699.6628352490425,
          5369.077253218884,
          31263.88888888889,
          5149.411764705882,
          6426.222760290557,
          6563.289124668435,
          6518.380281690141,
          5822.3286290322585,
          5902.056910569106,
          6187.614770459082,
          6031.860759493671,
          6221.75799086758,
          5786.988255033557,
          5798.921971252566,
          5927.141176470588,
          5774.986767485822,
          5948.091397849463,
          5834.989939637827,
          5874.134770889488,
          6302.353801169591,
          6696.391713747646,
          7855.290729072907,
          6315.131856540084,
          6234.250493096647,
          6714.046845124283,
          6635.891944990177,
          6350.7616777883695,
          6384.515510948905,
          7244.5961887477315,
          6803.047662694776,
          6769.184140969163,
          8970.833333333334,
          8735.568584070796,
          8976.28496959166,
          8392.949740034663,
          8058.400947119179,
          8816.367577756833,
          8959.792063492063,
          8524.089041095891,
          8945.561977186311,
          9009.711240310078,
          8848.839317773789,
          8674.33836589698,
          9344.890425531916,
          9103.94885844749,
          8929.397838899804,
          9243.862603305784,
          9014.84715750233,
          9221.811918063315,
          9444.255218216318,
          9345.770216962525,
          9533.523605150214,
          8929.848484848484,
          8910.628267182963,
          9040.184991273996,
          8959.363920750782,
          8945.795774647888,
          9034.740917782026,
          8946.258101851852,
          8936.942827442828,
          8854.432222222222,
          8959.91317671093,
          8966.151673640168,
          8999.846739130435,
          9011.939363817097,
          8988.9158004158,
          8971.681376875551,
          9208.588175331295,
          9488.79792147806,
          9847.705357142857,
          9151.09375,
          9071.860869565216,
          9455.756229685807,
          9338.826403326404,
          9127.015968063872,
          9245.476093591047,
          9771.597911227154,
          9654.452520515826,
          9593.357623318385,
          10200,
          10500.607843137255,
          10010.773195876289,
          9890.977380952381,
          10451.132075471698,
          10352.581360946746,
          10118.606232294618,
          10281.318373071528,
          10400
         ],
         "y0": " ",
         "yaxis": "y"
        },
        {
         "alignmentgroup": "True",
         "customdata": [
          [
           "Nov"
          ],
          [
           "Oct"
          ],
          [
           "Sep"
          ],
          [
           "Aug"
          ],
          [
           "Dec"
          ],
          [
           "Nov"
          ],
          [
           "Oct"
          ],
          [
           "Sep"
          ],
          [
           "Apr"
          ],
          [
           "Aug"
          ],
          [
           "Dec"
          ],
          [
           "Feb"
          ],
          [
           "Jan"
          ],
          [
           "Jul"
          ],
          [
           "Jun"
          ],
          [
           "Mar"
          ],
          [
           "May"
          ],
          [
           "Nov"
          ],
          [
           "Oct"
          ],
          [
           "Sep"
          ],
          [
           "Apr"
          ],
          [
           "Aug"
          ],
          [
           "Dec"
          ],
          [
           "Feb"
          ],
          [
           "Jan"
          ],
          [
           "Jul"
          ],
          [
           "Jun"
          ],
          [
           "Mar"
          ],
          [
           "May"
          ],
          [
           "Nov"
          ],
          [
           "Oct"
          ],
          [
           "Sep"
          ],
          [
           "Apr"
          ],
          [
           "Aug"
          ],
          [
           "Dec"
          ],
          [
           "Feb"
          ],
          [
           "Jan"
          ],
          [
           "Jul"
          ],
          [
           "Jun"
          ],
          [
           "Mar"
          ],
          [
           "May"
          ],
          [
           "Nov"
          ],
          [
           "Oct"
          ],
          [
           "Sep"
          ],
          [
           "Apr"
          ],
          [
           "Aug"
          ],
          [
           "Dec"
          ],
          [
           "Feb"
          ],
          [
           "Jan"
          ],
          [
           "Jul"
          ],
          [
           "Jun"
          ],
          [
           "Mar"
          ],
          [
           "May"
          ],
          [
           "Nov"
          ],
          [
           "Oct"
          ],
          [
           "Sep"
          ],
          [
           "Apr"
          ],
          [
           "Aug"
          ],
          [
           "Dec"
          ],
          [
           "Feb"
          ],
          [
           "Jan"
          ],
          [
           "Jul"
          ],
          [
           "Jun"
          ],
          [
           "Mar"
          ],
          [
           "May"
          ],
          [
           "Nov"
          ],
          [
           "Oct"
          ],
          [
           "Sep"
          ],
          [
           "Apr"
          ],
          [
           "Aug"
          ],
          [
           "Dec"
          ],
          [
           "Feb"
          ],
          [
           "Jan"
          ],
          [
           "Jul"
          ],
          [
           "Jun"
          ],
          [
           "Mar"
          ],
          [
           "May"
          ],
          [
           "Nov"
          ],
          [
           "Oct"
          ],
          [
           "Sep"
          ],
          [
           "Apr"
          ],
          [
           "Aug"
          ],
          [
           "Dec"
          ],
          [
           "Feb"
          ],
          [
           "Jan"
          ],
          [
           "Jul"
          ],
          [
           "Jun"
          ],
          [
           "Mar"
          ],
          [
           "May"
          ],
          [
           "Nov"
          ],
          [
           "Oct"
          ],
          [
           "Sep"
          ],
          [
           "Apr"
          ],
          [
           "Aug"
          ],
          [
           "Feb"
          ],
          [
           "Jan"
          ],
          [
           "Jul"
          ],
          [
           "Jun"
          ],
          [
           "Mar"
          ],
          [
           "May"
          ],
          [
           "Sep"
          ],
          [
           "Nov"
          ],
          [
           "Oct"
          ],
          [
           "Sep"
          ],
          [
           "Aug"
          ],
          [
           "Dec"
          ],
          [
           "Nov"
          ],
          [
           "Oct"
          ],
          [
           "Sep"
          ],
          [
           "Apr"
          ],
          [
           "Aug"
          ],
          [
           "Dec"
          ],
          [
           "Feb"
          ],
          [
           "Jan"
          ],
          [
           "Jul"
          ],
          [
           "Jun"
          ],
          [
           "Mar"
          ],
          [
           "May"
          ],
          [
           "Nov"
          ],
          [
           "Oct"
          ],
          [
           "Sep"
          ],
          [
           "Apr"
          ],
          [
           "Aug"
          ],
          [
           "Dec"
          ],
          [
           "Feb"
          ],
          [
           "Jan"
          ],
          [
           "Jul"
          ],
          [
           "Jun"
          ],
          [
           "Mar"
          ],
          [
           "May"
          ],
          [
           "Nov"
          ],
          [
           "Oct"
          ],
          [
           "Sep"
          ],
          [
           "Apr"
          ],
          [
           "Aug"
          ],
          [
           "Dec"
          ],
          [
           "Feb"
          ],
          [
           "Jan"
          ],
          [
           "Jul"
          ],
          [
           "Jun"
          ],
          [
           "Mar"
          ],
          [
           "May"
          ],
          [
           "Nov"
          ],
          [
           "Oct"
          ],
          [
           "Sep"
          ],
          [
           "Apr"
          ],
          [
           "Aug"
          ],
          [
           "Dec"
          ],
          [
           "Feb"
          ],
          [
           "Jan"
          ],
          [
           "Jul"
          ],
          [
           "Jun"
          ],
          [
           "Mar"
          ],
          [
           "May"
          ],
          [
           "Nov"
          ],
          [
           "Oct"
          ],
          [
           "Sep"
          ],
          [
           "Apr"
          ],
          [
           "Aug"
          ],
          [
           "Dec"
          ],
          [
           "Feb"
          ],
          [
           "Jan"
          ],
          [
           "Jul"
          ],
          [
           "Jun"
          ],
          [
           "Mar"
          ],
          [
           "May"
          ],
          [
           "Nov"
          ],
          [
           "Oct"
          ],
          [
           "Sep"
          ],
          [
           "Apr"
          ],
          [
           "Aug"
          ],
          [
           "Dec"
          ],
          [
           "Feb"
          ],
          [
           "Jan"
          ],
          [
           "Jul"
          ],
          [
           "Jun"
          ],
          [
           "Mar"
          ],
          [
           "May"
          ],
          [
           "Nov"
          ],
          [
           "Oct"
          ],
          [
           "Sep"
          ],
          [
           "Apr"
          ],
          [
           "Aug"
          ],
          [
           "Dec"
          ],
          [
           "Feb"
          ],
          [
           "Jan"
          ],
          [
           "Jul"
          ],
          [
           "Jun"
          ],
          [
           "Mar"
          ],
          [
           "May"
          ],
          [
           "Nov"
          ],
          [
           "Oct"
          ],
          [
           "Sep"
          ],
          [
           "Apr"
          ],
          [
           "Aug"
          ],
          [
           "Feb"
          ],
          [
           "Jan"
          ],
          [
           "Jul"
          ],
          [
           "Jun"
          ],
          [
           "Mar"
          ],
          [
           "May"
          ],
          [
           "Sep"
          ],
          [
           "Nov"
          ],
          [
           "Oct"
          ],
          [
           "Sep"
          ],
          [
           "Aug"
          ],
          [
           "Dec"
          ],
          [
           "Nov"
          ],
          [
           "Oct"
          ],
          [
           "Sep"
          ],
          [
           "Apr"
          ],
          [
           "Aug"
          ],
          [
           "Dec"
          ],
          [
           "Feb"
          ],
          [
           "Jan"
          ],
          [
           "Jul"
          ],
          [
           "Jun"
          ],
          [
           "Mar"
          ],
          [
           "May"
          ],
          [
           "Nov"
          ],
          [
           "Oct"
          ],
          [
           "Sep"
          ],
          [
           "Apr"
          ],
          [
           "Aug"
          ],
          [
           "Dec"
          ],
          [
           "Feb"
          ],
          [
           "Jan"
          ],
          [
           "Jul"
          ],
          [
           "Jun"
          ],
          [
           "Mar"
          ],
          [
           "May"
          ],
          [
           "Nov"
          ],
          [
           "Oct"
          ],
          [
           "Sep"
          ],
          [
           "Apr"
          ],
          [
           "Aug"
          ],
          [
           "Dec"
          ],
          [
           "Feb"
          ],
          [
           "Jan"
          ],
          [
           "Jul"
          ],
          [
           "Jun"
          ],
          [
           "Mar"
          ],
          [
           "May"
          ],
          [
           "Nov"
          ],
          [
           "Oct"
          ],
          [
           "Sep"
          ],
          [
           "Apr"
          ],
          [
           "Aug"
          ],
          [
           "Dec"
          ],
          [
           "Feb"
          ],
          [
           "Jan"
          ],
          [
           "Jul"
          ],
          [
           "Jun"
          ],
          [
           "Mar"
          ],
          [
           "May"
          ],
          [
           "Nov"
          ],
          [
           "Oct"
          ],
          [
           "Sep"
          ],
          [
           "Apr"
          ],
          [
           "Aug"
          ],
          [
           "Dec"
          ],
          [
           "Feb"
          ],
          [
           "Jan"
          ],
          [
           "Jul"
          ],
          [
           "Jun"
          ],
          [
           "Mar"
          ],
          [
           "May"
          ],
          [
           "Nov"
          ],
          [
           "Oct"
          ],
          [
           "Sep"
          ],
          [
           "Apr"
          ],
          [
           "Aug"
          ],
          [
           "Dec"
          ],
          [
           "Feb"
          ],
          [
           "Jan"
          ],
          [
           "Jul"
          ],
          [
           "Jun"
          ],
          [
           "Mar"
          ],
          [
           "May"
          ],
          [
           "Nov"
          ],
          [
           "Oct"
          ],
          [
           "Sep"
          ],
          [
           "Apr"
          ],
          [
           "Aug"
          ],
          [
           "Dec"
          ],
          [
           "Feb"
          ],
          [
           "Jan"
          ],
          [
           "Jul"
          ],
          [
           "Jun"
          ],
          [
           "Mar"
          ],
          [
           "May"
          ],
          [
           "Nov"
          ],
          [
           "Oct"
          ],
          [
           "Sep"
          ],
          [
           "Apr"
          ],
          [
           "Aug"
          ],
          [
           "Feb"
          ],
          [
           "Jan"
          ],
          [
           "Jul"
          ],
          [
           "Jun"
          ],
          [
           "Mar"
          ],
          [
           "May"
          ],
          [
           "Sep"
          ]
         ],
         "hovertemplate": "commodity=Masur Dal<br>year=%{x}<br>value=%{y}<br>month=%{customdata[0]}<extra></extra>",
         "legendgroup": "Masur Dal",
         "marker": {
          "color": "#636efa"
         },
         "name": "Masur Dal",
         "notched": false,
         "offsetgroup": "Masur Dal",
         "orientation": "v",
         "showlegend": true,
         "type": "box",
         "x": [
          "2014",
          "2014",
          "2014",
          "2016",
          "2016",
          "2016",
          "2016",
          "2016",
          "2017",
          "2017",
          "2017",
          "2017",
          "2017",
          "2017",
          "2017",
          "2017",
          "2017",
          "2017",
          "2017",
          "2017",
          "2018",
          "2018",
          "2018",
          "2018",
          "2018",
          "2018",
          "2018",
          "2018",
          "2018",
          "2018",
          "2018",
          "2018",
          "2019",
          "2019",
          "2019",
          "2019",
          "2019",
          "2019",
          "2019",
          "2019",
          "2019",
          "2019",
          "2019",
          "2019",
          "2020",
          "2020",
          "2020",
          "2020",
          "2020",
          "2020",
          "2020",
          "2020",
          "2020",
          "2020",
          "2020",
          "2020",
          "2021",
          "2021",
          "2021",
          "2021",
          "2021",
          "2021",
          "2021",
          "2021",
          "2021",
          "2021",
          "2021",
          "2021",
          "2022",
          "2022",
          "2022",
          "2022",
          "2022",
          "2022",
          "2022",
          "2022",
          "2022",
          "2022",
          "2022",
          "2022",
          "2023",
          "2023",
          "2023",
          "2023",
          "2023",
          "2023",
          "2023",
          "2023",
          "2023",
          "2023",
          "2023",
          "2023",
          "2024",
          "2024",
          "2024",
          "2024",
          "2024",
          "2024",
          "2024",
          "2024",
          "2024",
          "2014",
          "2014",
          "2014",
          "2016",
          "2016",
          "2016",
          "2016",
          "2016",
          "2017",
          "2017",
          "2017",
          "2017",
          "2017",
          "2017",
          "2017",
          "2017",
          "2017",
          "2017",
          "2017",
          "2017",
          "2018",
          "2018",
          "2018",
          "2018",
          "2018",
          "2018",
          "2018",
          "2018",
          "2018",
          "2018",
          "2018",
          "2018",
          "2019",
          "2019",
          "2019",
          "2019",
          "2019",
          "2019",
          "2019",
          "2019",
          "2019",
          "2019",
          "2019",
          "2019",
          "2020",
          "2020",
          "2020",
          "2020",
          "2020",
          "2020",
          "2020",
          "2020",
          "2020",
          "2020",
          "2020",
          "2020",
          "2021",
          "2021",
          "2021",
          "2021",
          "2021",
          "2021",
          "2021",
          "2021",
          "2021",
          "2021",
          "2021",
          "2021",
          "2022",
          "2022",
          "2022",
          "2022",
          "2022",
          "2022",
          "2022",
          "2022",
          "2022",
          "2022",
          "2022",
          "2022",
          "2023",
          "2023",
          "2023",
          "2023",
          "2023",
          "2023",
          "2023",
          "2023",
          "2023",
          "2023",
          "2023",
          "2023",
          "2024",
          "2024",
          "2024",
          "2024",
          "2024",
          "2024",
          "2024",
          "2024",
          "2024",
          "2014",
          "2014",
          "2014",
          "2016",
          "2016",
          "2016",
          "2016",
          "2016",
          "2017",
          "2017",
          "2017",
          "2017",
          "2017",
          "2017",
          "2017",
          "2017",
          "2017",
          "2017",
          "2017",
          "2017",
          "2018",
          "2018",
          "2018",
          "2018",
          "2018",
          "2018",
          "2018",
          "2018",
          "2018",
          "2018",
          "2018",
          "2018",
          "2019",
          "2019",
          "2019",
          "2019",
          "2019",
          "2019",
          "2019",
          "2019",
          "2019",
          "2019",
          "2019",
          "2019",
          "2020",
          "2020",
          "2020",
          "2020",
          "2020",
          "2020",
          "2020",
          "2020",
          "2020",
          "2020",
          "2020",
          "2020",
          "2021",
          "2021",
          "2021",
          "2021",
          "2021",
          "2021",
          "2021",
          "2021",
          "2021",
          "2021",
          "2021",
          "2021",
          "2022",
          "2022",
          "2022",
          "2022",
          "2022",
          "2022",
          "2022",
          "2022",
          "2022",
          "2022",
          "2022",
          "2022",
          "2023",
          "2023",
          "2023",
          "2023",
          "2023",
          "2023",
          "2023",
          "2023",
          "2023",
          "2023",
          "2023",
          "2023",
          "2024",
          "2024",
          "2024",
          "2024",
          "2024",
          "2024",
          "2024",
          "2024",
          "2024"
         ],
         "x0": " ",
         "xaxis": "x",
         "y": [
          5050,
          5606.25,
          5347.4358974358975,
          8105,
          7606.25,
          7744,
          7745,
          7962,
          6132.7192982456145,
          5598.883495145631,
          5735.087719298245,
          6975,
          7520,
          5343.333333333333,
          5737.393617021276,
          6711.111111111111,
          6060.411764705882,
          5787.982456140351,
          5562.177419354839,
          5349.767441860465,
          5057.592592592592,
          5273.175675675676,
          5166.126582278481,
          5195.714285714285,
          5434.401709401709,
          5045.201149425287,
          5025.490196078431,
          5178.229166666667,
          4964.575471698113,
          5232.6984126984125,
          5261.338028169014,
          5213.720472440945,
          5308.188916876575,
          5778.072916666667,
          6155.851769911505,
          5279.219178082192,
          5270.077120822622,
          5791.925925925926,
          5693.787878787879,
          5358.640963855421,
          5396.372340425532,
          5982.397916666667,
          5928.126463700234,
          5826.513994910942,
          6404.9327731092435,
          6825.257142857143,
          7523.869333333333,
          6430.258660508083,
          6370.48353909465,
          6747.418230563003,
          6710.192468619247,
          6429.587537091988,
          6528.2659176029965,
          7434.933701657458,
          7328.228643216081,
          7001.2984054669705,
          7446.840125391849,
          7801.481012658228,
          8434.827956989247,
          7481.958456973293,
          7544.381355932203,
          7827.995271867612,
          7931.32,
          7476.246246246246,
          7792.870431893688,
          8386.961259079902,
          8293.286652078774,
          8001.609657947686,
          8482.873051224944,
          8578.567567567568,
          8242.436123348018,
          8474.556872037914,
          8456.98021978022,
          8551.549878345499,
          8508.145238095238,
          8489.763414634146,
          8464.059101654846,
          8349.240506329113,
          8364.159388646289,
          8458.91304347826,
          8274.058047493403,
          8215.453257790368,
          8638.952,
          8376.8375,
          8319.687350835322,
          8249.513853904282,
          8188.321867321867,
          8286.377672209026,
          8192.142857142857,
          8548.826771653543,
          8471.951219512195,
          8338.668407310704,
          8270.81233933162,
          8209.690265486726,
          8494.153664302601,
          8523.1330472103,
          8185.8199152542375,
          8162.754901960784,
          8407.066666666668,
          8137.890909090909,
          8475,
          5000,
          2475,
          1583.076923076923,
          7987.5,
          962.5,
          1545,
          7700,
          7922,
          2454.561403508772,
          4181.747572815534,
          5593.991228070176,
          1014.2857142857143,
          750,
          3076.5384615384614,
          3663.4574468085107,
          2950,
          4407.117647058823,
          5409.210526315789,
          5207.096774193548,
          5049.457364341085,
          4905.432098765432,
          5163.355855855856,
          5069.202531645569,
          5057.0952380952385,
          5300.940170940171,
          4943.132183908046,
          4904.313725490196,
          5045.625,
          4819.292452830188,
          5144.965079365079,
          5169.591549295775,
          5104.074803149606,
          5214.846347607053,
          5681.546875,
          6060.730088495575,
          5175.791780821918,
          5168.27763496144,
          5690.864197530864,
          5591.783216783217,
          5259.057831325301,
          5297.54255319149,
          5886.170833333334,
          5836.861826697892,
          5742.188295165394,
          6309.048319327731,
          6745.3301587301585,
          7441.224,
          6335.496535796767,
          6268.989711934157,
          6662.3780160857905,
          6612.077405857741,
          6332.543026706231,
          6438.204119850187,
          7358.89226519337,
          7251.442211055276,
          6923.7129840546695,
          7349.551724137931,
          7717.689873417721,
          8348.505376344086,
          7397.418397626113,
          7461.672316384181,
          7741.151300236406,
          7840.605714285714,
          7390.105105105105,
          7698.767441860465,
          8293.983050847457,
          8209.903719912472,
          7914.470824949698,
          8392.779510022272,
          8482.665847665849,
          8153.757709251101,
          8381.063981042655,
          8360.615384615385,
          8458.031630170317,
          8415.754761904762,
          8390.019512195122,
          8353.820330969267,
          8258.618143459915,
          8270.508733624454,
          8361.25897920605,
          8176.894459102902,
          8135.934844192635,
          8538.493333333334,
          8286.85,
          8232.169451073985,
          8165.846347607053,
          8099.275184275184,
          8198.334916864607,
          8105.899014778325,
          8440.28871391076,
          8386.341463414634,
          8256.227154046997,
          8190.650385604113,
          8136.460176991151,
          8397.695035460993,
          8434.791845493563,
          8115.222457627118,
          8083.068627450981,
          8319.092307692308,
          8054.988636363636,
          8300,
          5100,
          2550,
          1617.3076923076924,
          8190,
          975,
          1570,
          7822,
          8000,
          2661.9298245614036,
          4459.126213592233,
          5866.754385964912,
          1035.7142857142858,
          780,
          3263.653846153846,
          3882.021276595745,
          3080,
          4650.764705882353,
          5709.736842105263,
          5490.322580645161,
          5329.573643410853,
          5170.802469135802,
          5364.707207207207,
          5259.594936708861,
          5319.0952380952385,
          5560.897435897436,
          5133.793103448276,
          5115.245098039216,
          5290.989583333333,
          5068.915094339623,
          5315.396825396825,
          5357.732394366197,
          5311.929133858268,
          5402.670025188917,
          5862.057291666667,
          6244.634955752213,
          5374.109589041096,
          5358.264781491002,
          5874.37037037037,
          5784.498834498834,
          5461.265060240964,
          5491.287234042553,
          6065.697916666667,
          6018.466042154567,
          5913.244274809161,
          6501.428571428572,
          6910,
          7607.274666666666,
          6523.519630484989,
          6461.119341563786,
          6835.214477211796,
          6812.9246861924685,
          6525.308605341246,
          6623.353932584269,
          7512.422651933702,
          7407.87688442211,
          7086.555808656037,
          7541.771159874608,
          7886.0864978902955,
          8523.860215053763,
          7566.121661721068,
          7627.723163841808,
          7920.751773049646,
          8030.274285714286,
          7569.411411411412,
          7896.2990033222595,
          8477.38014527845,
          8374.989059080963,
          8090.160965794768,
          8583.251670378619,
          8680.142506142507,
          8331.013215859031,
          8574.251184834124,
          8555.714285714286,
          8651.192214111923,
          8609.188095238096,
          8590.087804878049,
          8542.387706855792,
          8445.37341772152,
          8465.185589519651,
          8556.115311909263,
          8363.445910290238,
          8298.00283286119,
          8735.584,
          8466.305,
          8405.46062052506,
          8333.65491183879,
          8275.275184275184,
          8374.019002375297,
          8279.137931034482,
          8612.713910761155,
          8567.609756097561,
          8421.762402088772,
          8356.516709511568,
          8288.396017699115,
          8594.503546099291,
          8621.660944206009,
          8262.00847457627,
          8238.468137254902,
          8514.453846153847,
          8223.977272727272,
          8560
         ],
         "y0": " ",
         "yaxis": "y"
        },
        {
         "alignmentgroup": "True",
         "customdata": [
          [
           "Oct"
          ],
          [
           "Sep"
          ],
          [
           "Jan"
          ],
          [
           "Aug"
          ],
          [
           "Dec"
          ],
          [
           "Nov"
          ],
          [
           "Oct"
          ],
          [
           "Sep"
          ],
          [
           "Apr"
          ],
          [
           "Aug"
          ],
          [
           "Dec"
          ],
          [
           "Feb"
          ],
          [
           "Jan"
          ],
          [
           "Jul"
          ],
          [
           "Jun"
          ],
          [
           "Mar"
          ],
          [
           "May"
          ],
          [
           "Nov"
          ],
          [
           "Oct"
          ],
          [
           "Sep"
          ],
          [
           "Apr"
          ],
          [
           "Aug"
          ],
          [
           "Dec"
          ],
          [
           "Feb"
          ],
          [
           "Jan"
          ],
          [
           "Jul"
          ],
          [
           "Jun"
          ],
          [
           "Mar"
          ],
          [
           "May"
          ],
          [
           "Nov"
          ],
          [
           "Oct"
          ],
          [
           "Sep"
          ],
          [
           "Apr"
          ],
          [
           "Aug"
          ],
          [
           "Dec"
          ],
          [
           "Feb"
          ],
          [
           "Jan"
          ],
          [
           "Jul"
          ],
          [
           "Jun"
          ],
          [
           "Mar"
          ],
          [
           "May"
          ],
          [
           "Nov"
          ],
          [
           "Oct"
          ],
          [
           "Sep"
          ],
          [
           "Apr"
          ],
          [
           "Aug"
          ],
          [
           "Dec"
          ],
          [
           "Feb"
          ],
          [
           "Jan"
          ],
          [
           "Jul"
          ],
          [
           "Jun"
          ],
          [
           "Mar"
          ],
          [
           "May"
          ],
          [
           "Nov"
          ],
          [
           "Oct"
          ],
          [
           "Sep"
          ],
          [
           "Apr"
          ],
          [
           "Aug"
          ],
          [
           "Dec"
          ],
          [
           "Feb"
          ],
          [
           "Jan"
          ],
          [
           "Jul"
          ],
          [
           "Jun"
          ],
          [
           "Mar"
          ],
          [
           "May"
          ],
          [
           "Nov"
          ],
          [
           "Oct"
          ],
          [
           "Sep"
          ],
          [
           "Apr"
          ],
          [
           "Aug"
          ],
          [
           "Dec"
          ],
          [
           "Feb"
          ],
          [
           "Jan"
          ],
          [
           "Jul"
          ],
          [
           "Jun"
          ],
          [
           "Mar"
          ],
          [
           "May"
          ],
          [
           "Nov"
          ],
          [
           "Oct"
          ],
          [
           "Sep"
          ],
          [
           "Apr"
          ],
          [
           "Aug"
          ],
          [
           "Dec"
          ],
          [
           "Feb"
          ],
          [
           "Jan"
          ],
          [
           "Jul"
          ],
          [
           "Jun"
          ],
          [
           "Mar"
          ],
          [
           "May"
          ],
          [
           "Nov"
          ],
          [
           "Oct"
          ],
          [
           "Sep"
          ],
          [
           "Apr"
          ],
          [
           "Aug"
          ],
          [
           "Feb"
          ],
          [
           "Jan"
          ],
          [
           "Jul"
          ],
          [
           "Jun"
          ],
          [
           "Mar"
          ],
          [
           "May"
          ],
          [
           "Oct"
          ],
          [
           "Sep"
          ],
          [
           "Jan"
          ],
          [
           "Aug"
          ],
          [
           "Dec"
          ],
          [
           "Nov"
          ],
          [
           "Oct"
          ],
          [
           "Sep"
          ],
          [
           "Apr"
          ],
          [
           "Aug"
          ],
          [
           "Dec"
          ],
          [
           "Feb"
          ],
          [
           "Jan"
          ],
          [
           "Jul"
          ],
          [
           "Jun"
          ],
          [
           "Mar"
          ],
          [
           "May"
          ],
          [
           "Nov"
          ],
          [
           "Oct"
          ],
          [
           "Sep"
          ],
          [
           "Apr"
          ],
          [
           "Aug"
          ],
          [
           "Dec"
          ],
          [
           "Feb"
          ],
          [
           "Jan"
          ],
          [
           "Jul"
          ],
          [
           "Jun"
          ],
          [
           "Mar"
          ],
          [
           "May"
          ],
          [
           "Nov"
          ],
          [
           "Oct"
          ],
          [
           "Sep"
          ],
          [
           "Apr"
          ],
          [
           "Aug"
          ],
          [
           "Dec"
          ],
          [
           "Feb"
          ],
          [
           "Jan"
          ],
          [
           "Jul"
          ],
          [
           "Jun"
          ],
          [
           "Mar"
          ],
          [
           "May"
          ],
          [
           "Nov"
          ],
          [
           "Oct"
          ],
          [
           "Sep"
          ],
          [
           "Apr"
          ],
          [
           "Aug"
          ],
          [
           "Dec"
          ],
          [
           "Feb"
          ],
          [
           "Jan"
          ],
          [
           "Jul"
          ],
          [
           "Jun"
          ],
          [
           "Mar"
          ],
          [
           "May"
          ],
          [
           "Nov"
          ],
          [
           "Oct"
          ],
          [
           "Sep"
          ],
          [
           "Apr"
          ],
          [
           "Aug"
          ],
          [
           "Dec"
          ],
          [
           "Feb"
          ],
          [
           "Jan"
          ],
          [
           "Jul"
          ],
          [
           "Jun"
          ],
          [
           "Mar"
          ],
          [
           "May"
          ],
          [
           "Nov"
          ],
          [
           "Oct"
          ],
          [
           "Sep"
          ],
          [
           "Apr"
          ],
          [
           "Aug"
          ],
          [
           "Dec"
          ],
          [
           "Feb"
          ],
          [
           "Jan"
          ],
          [
           "Jul"
          ],
          [
           "Jun"
          ],
          [
           "Mar"
          ],
          [
           "May"
          ],
          [
           "Nov"
          ],
          [
           "Oct"
          ],
          [
           "Sep"
          ],
          [
           "Apr"
          ],
          [
           "Aug"
          ],
          [
           "Dec"
          ],
          [
           "Feb"
          ],
          [
           "Jan"
          ],
          [
           "Jul"
          ],
          [
           "Jun"
          ],
          [
           "Mar"
          ],
          [
           "May"
          ],
          [
           "Nov"
          ],
          [
           "Oct"
          ],
          [
           "Sep"
          ],
          [
           "Apr"
          ],
          [
           "Aug"
          ],
          [
           "Feb"
          ],
          [
           "Jan"
          ],
          [
           "Jul"
          ],
          [
           "Jun"
          ],
          [
           "Mar"
          ],
          [
           "May"
          ],
          [
           "Oct"
          ],
          [
           "Sep"
          ],
          [
           "Jan"
          ],
          [
           "Aug"
          ],
          [
           "Dec"
          ],
          [
           "Nov"
          ],
          [
           "Oct"
          ],
          [
           "Sep"
          ],
          [
           "Apr"
          ],
          [
           "Aug"
          ],
          [
           "Dec"
          ],
          [
           "Feb"
          ],
          [
           "Jan"
          ],
          [
           "Jul"
          ],
          [
           "Jun"
          ],
          [
           "Mar"
          ],
          [
           "May"
          ],
          [
           "Nov"
          ],
          [
           "Oct"
          ],
          [
           "Sep"
          ],
          [
           "Apr"
          ],
          [
           "Aug"
          ],
          [
           "Dec"
          ],
          [
           "Feb"
          ],
          [
           "Jan"
          ],
          [
           "Jul"
          ],
          [
           "Jun"
          ],
          [
           "Mar"
          ],
          [
           "May"
          ],
          [
           "Nov"
          ],
          [
           "Oct"
          ],
          [
           "Sep"
          ],
          [
           "Apr"
          ],
          [
           "Aug"
          ],
          [
           "Dec"
          ],
          [
           "Feb"
          ],
          [
           "Jan"
          ],
          [
           "Jul"
          ],
          [
           "Jun"
          ],
          [
           "Mar"
          ],
          [
           "May"
          ],
          [
           "Nov"
          ],
          [
           "Oct"
          ],
          [
           "Sep"
          ],
          [
           "Apr"
          ],
          [
           "Aug"
          ],
          [
           "Dec"
          ],
          [
           "Feb"
          ],
          [
           "Jan"
          ],
          [
           "Jul"
          ],
          [
           "Jun"
          ],
          [
           "Mar"
          ],
          [
           "May"
          ],
          [
           "Nov"
          ],
          [
           "Oct"
          ],
          [
           "Sep"
          ],
          [
           "Apr"
          ],
          [
           "Aug"
          ],
          [
           "Dec"
          ],
          [
           "Feb"
          ],
          [
           "Jan"
          ],
          [
           "Jul"
          ],
          [
           "Jun"
          ],
          [
           "Mar"
          ],
          [
           "May"
          ],
          [
           "Nov"
          ],
          [
           "Oct"
          ],
          [
           "Sep"
          ],
          [
           "Apr"
          ],
          [
           "Aug"
          ],
          [
           "Dec"
          ],
          [
           "Feb"
          ],
          [
           "Jan"
          ],
          [
           "Jul"
          ],
          [
           "Jun"
          ],
          [
           "Mar"
          ],
          [
           "May"
          ],
          [
           "Nov"
          ],
          [
           "Oct"
          ],
          [
           "Sep"
          ],
          [
           "Apr"
          ],
          [
           "Aug"
          ],
          [
           "Dec"
          ],
          [
           "Feb"
          ],
          [
           "Jan"
          ],
          [
           "Jul"
          ],
          [
           "Jun"
          ],
          [
           "Mar"
          ],
          [
           "May"
          ],
          [
           "Nov"
          ],
          [
           "Oct"
          ],
          [
           "Sep"
          ],
          [
           "Apr"
          ],
          [
           "Aug"
          ],
          [
           "Feb"
          ],
          [
           "Jan"
          ],
          [
           "Jul"
          ],
          [
           "Jun"
          ],
          [
           "Mar"
          ],
          [
           "May"
          ]
         ],
         "hovertemplate": "commodity=Bengal Gram Dal (Chana Dal)<br>year=%{x}<br>value=%{y}<br>month=%{customdata[0]}<extra></extra>",
         "legendgroup": "Bengal Gram Dal (Chana Dal)",
         "marker": {
          "color": "#EF553B"
         },
         "name": "Bengal Gram Dal (Chana Dal)",
         "notched": false,
         "offsetgroup": "Bengal Gram Dal (Chana Dal)",
         "orientation": "v",
         "showlegend": true,
         "type": "box",
         "x": [
          "2014",
          "2014",
          "2015",
          "2016",
          "2016",
          "2016",
          "2016",
          "2016",
          "2017",
          "2017",
          "2017",
          "2017",
          "2017",
          "2017",
          "2017",
          "2017",
          "2017",
          "2017",
          "2017",
          "2017",
          "2018",
          "2018",
          "2018",
          "2018",
          "2018",
          "2018",
          "2018",
          "2018",
          "2018",
          "2018",
          "2018",
          "2018",
          "2019",
          "2019",
          "2019",
          "2019",
          "2019",
          "2019",
          "2019",
          "2019",
          "2019",
          "2019",
          "2019",
          "2019",
          "2020",
          "2020",
          "2020",
          "2020",
          "2020",
          "2020",
          "2020",
          "2020",
          "2020",
          "2020",
          "2020",
          "2020",
          "2021",
          "2021",
          "2021",
          "2021",
          "2021",
          "2021",
          "2021",
          "2021",
          "2021",
          "2021",
          "2021",
          "2021",
          "2022",
          "2022",
          "2022",
          "2022",
          "2022",
          "2022",
          "2022",
          "2022",
          "2022",
          "2022",
          "2022",
          "2022",
          "2023",
          "2023",
          "2023",
          "2023",
          "2023",
          "2023",
          "2023",
          "2023",
          "2023",
          "2023",
          "2023",
          "2023",
          "2024",
          "2024",
          "2024",
          "2024",
          "2024",
          "2024",
          "2024",
          "2024",
          "2014",
          "2014",
          "2015",
          "2016",
          "2016",
          "2016",
          "2016",
          "2016",
          "2017",
          "2017",
          "2017",
          "2017",
          "2017",
          "2017",
          "2017",
          "2017",
          "2017",
          "2017",
          "2017",
          "2017",
          "2018",
          "2018",
          "2018",
          "2018",
          "2018",
          "2018",
          "2018",
          "2018",
          "2018",
          "2018",
          "2018",
          "2018",
          "2019",
          "2019",
          "2019",
          "2019",
          "2019",
          "2019",
          "2019",
          "2019",
          "2019",
          "2019",
          "2019",
          "2019",
          "2020",
          "2020",
          "2020",
          "2020",
          "2020",
          "2020",
          "2020",
          "2020",
          "2020",
          "2020",
          "2020",
          "2020",
          "2021",
          "2021",
          "2021",
          "2021",
          "2021",
          "2021",
          "2021",
          "2021",
          "2021",
          "2021",
          "2021",
          "2021",
          "2022",
          "2022",
          "2022",
          "2022",
          "2022",
          "2022",
          "2022",
          "2022",
          "2022",
          "2022",
          "2022",
          "2022",
          "2023",
          "2023",
          "2023",
          "2023",
          "2023",
          "2023",
          "2023",
          "2023",
          "2023",
          "2023",
          "2023",
          "2023",
          "2024",
          "2024",
          "2024",
          "2024",
          "2024",
          "2024",
          "2024",
          "2024",
          "2014",
          "2014",
          "2015",
          "2016",
          "2016",
          "2016",
          "2016",
          "2016",
          "2017",
          "2017",
          "2017",
          "2017",
          "2017",
          "2017",
          "2017",
          "2017",
          "2017",
          "2017",
          "2017",
          "2017",
          "2018",
          "2018",
          "2018",
          "2018",
          "2018",
          "2018",
          "2018",
          "2018",
          "2018",
          "2018",
          "2018",
          "2018",
          "2019",
          "2019",
          "2019",
          "2019",
          "2019",
          "2019",
          "2019",
          "2019",
          "2019",
          "2019",
          "2019",
          "2019",
          "2020",
          "2020",
          "2020",
          "2020",
          "2020",
          "2020",
          "2020",
          "2020",
          "2020",
          "2020",
          "2020",
          "2020",
          "2021",
          "2021",
          "2021",
          "2021",
          "2021",
          "2021",
          "2021",
          "2021",
          "2021",
          "2021",
          "2021",
          "2021",
          "2022",
          "2022",
          "2022",
          "2022",
          "2022",
          "2022",
          "2022",
          "2022",
          "2022",
          "2022",
          "2022",
          "2022",
          "2023",
          "2023",
          "2023",
          "2023",
          "2023",
          "2023",
          "2023",
          "2023",
          "2023",
          "2023",
          "2023",
          "2023",
          "2024",
          "2024",
          "2024",
          "2024",
          "2024",
          "2024",
          "2024",
          "2024"
         ],
         "x0": " ",
         "xaxis": "x",
         "y": [
          4418.5,
          4152.03125,
          4000,
          9185,
          11304.09090909091,
          10247.272727272728,
          8942,
          9125,
          7187.045454545455,
          6633.476190476191,
          6429.818181818182,
          9050,
          10323.076923076924,
          6901.728395061728,
          7042.112676056338,
          7419.047619047619,
          7099.152542372882,
          6889.470588235294,
          7091.548117154812,
          7010.0847457627115,
          5191.045627376426,
          5307.112860892388,
          5592.717391304348,
          5626.26953125,
          5953.60294117647,
          5058.90522875817,
          4963.218623481781,
          5462.652671755725,
          5024.945054945055,
          5410.267527675277,
          5388.410714285715,
          5346.369565217391,
          5470.2338709677415,
          5564.8,
          5700.450784593438,
          5585.632798573975,
          5631.956168831169,
          5596.354740061162,
          5585.831666666667,
          5523.030794165316,
          5466.028657616893,
          5708.081779053085,
          5668.691176470588,
          5598.809523809524,
          5824.382645803698,
          5437.389635316698,
          6377.307692307692,
          5768.161527165932,
          5756.416337285903,
          5544.137353433835,
          5694.361823361824,
          5722.75415896488,
          5783.991847826087,
          6370.177884615385,
          6164.338345864661,
          5649.189602446483,
          6183.227194492255,
          6271.700787401574,
          6425.994475138122,
          6202.74322169059,
          6282.953172205438,
          6322.5641025641025,
          6478.116666666667,
          6151.409657320873,
          6594.629981024668,
          6446.527570789865,
          6455.824585635359,
          6369.011126564673,
          6267.920779220779,
          6309.136363636364,
          6214.418635170604,
          6357.483063328425,
          6394.245901639344,
          6271.290450928382,
          6265.883443708609,
          6326.592797783934,
          6305.512786002691,
          6223.372282608696,
          6247.497829232996,
          6278.675879396985,
          6291.474829931973,
          6299.957627118644,
          7171.203071672355,
          6324.892086330935,
          6275.738396624472,
          6313.9203778677465,
          6270.3562005277045,
          6260.895380434783,
          6316.598639455782,
          7073.724035608308,
          6910.624301675977,
          6585.680051813471,
          7122.653583617747,
          7819.479338842975,
          7057.146189735614,
          7120.361356932153,
          7678.46034214619,
          7462.818791946309,
          7072.477707006369,
          7175.264705882353,
          0,
          688.90625,
          0,
          9101.666666666666,
          1000,
          2652.7272727272725,
          8872,
          9080,
          3933.3333333333335,
          5310.428571428572,
          6320.490909090909,
          0,
          813.0769230769231,
          4614.814814814815,
          4110.140845070423,
          3576.190476190476,
          3884.6610169491523,
          6701.294117647059,
          6852.740585774059,
          6775.367231638418,
          5082.718631178707,
          5221.167979002625,
          5524.402173913043,
          5491.77734375,
          5847.077205882353,
          4963.692810457516,
          4867.287449392713,
          5349.618320610687,
          4926.996336996337,
          5336.10701107011,
          5316.419642857143,
          5254.054347826087,
          5395.0887096774195,
          5487.966666666666,
          5615.938659058488,
          5509.661319073084,
          5558.392857142857,
          5525.206422018348,
          5495.5,
          5436.880064829822,
          5392.393665158371,
          5624.411764705882,
          5585.764705882353,
          5522.542242703533,
          5737.741109530583,
          5358.474088291747,
          6286.047008547009,
          5689.486049926579,
          5671.814229249012,
          5463.768844221106,
          5608.7008547008545,
          5639.426987060998,
          5703.195652173913,
          6277.796474358975,
          6077.857142857143,
          5568.755351681957,
          6092.78313253012,
          6184.699212598425,
          6340.665745856353,
          6112.913875598086,
          6193.104229607251,
          6234.378205128205,
          6389.848333333333,
          6062.147975077882,
          6498.385199240986,
          6361.6691505216095,
          6369.063535911602,
          6281.582753824757,
          6181.058441558442,
          6225.568870523416,
          6137.490813648294,
          6272.1575846833575,
          6308.665300546448,
          6186.63925729443,
          6178.564238410596,
          6238.409972299169,
          6216.907133243607,
          6144.582880434783,
          6160.87988422576,
          6198.329145728643,
          6211.160544217687,
          6220.826271186441,
          7091.757679180887,
          6244.792805755395,
          6199.3530239099855,
          6232.835357624831,
          6190.38654353562,
          6179.577445652174,
          6226.869387755102,
          6993.137982195845,
          6828.687150837989,
          6505.415803108808,
          7039.112627986348,
          7734.264462809917,
          6970.606531881804,
          7033.945427728613,
          7596.998444790047,
          7379.135906040268,
          6983.886942675159,
          7093.962418300654,
          0,
          848.59375,
          0,
          9254.166666666666,
          1090.909090909091,
          2690.909090909091,
          9001,
          9190,
          4091.818181818182,
          5526.380952380952,
          6528.2,
          0,
          1483.076923076923,
          4722.777777777777,
          4304.718309859155,
          3695.2380952380954,
          4121.271186440678,
          6904.235294117647,
          7077.092050209205,
          7001.186440677966,
          5293.346007604563,
          5393.031496062992,
          5660.978260869565,
          5724.16015625,
          6053.235294117647,
          5155.964052287582,
          5060.704453441295,
          5561.908396946565,
          5125.879120879121,
          5488.643911439114,
          5466.473214285715,
          5426.391304347826,
          5530.5,
          5639.558333333333,
          5781.811697574893,
          5655.285204991087,
          5705.12987012987,
          5665.938837920489,
          5651.9366666666665,
          5590.640194489465,
          5539.090497737557,
          5785.437589670014,
          5744.261764705882,
          5673.2811059907835,
          5910.863442389758,
          5515.614203454895,
          6469.821937321937,
          5845.569750367107,
          5837.399209486166,
          5625.336683417086,
          5770.47150997151,
          5809.574861367837,
          5863.616847826087,
          6461.13141025641,
          6240.198496240601,
          5729.40366972477,
          6285.506024096386,
          6359.944881889764,
          6511.732044198895,
          6294.087719298245,
          6370.7930513595165,
          6411.222756410257,
          6567.183333333333,
          6243.660436137072,
          6686.470588235294,
          6532.047690014903,
          6545.995856353591,
          6455.614742698192,
          6358.994805194805,
          6396.603305785124,
          6294.6863517060365,
          6447.474226804124,
          6489.077868852459,
          6359.1246684350135,
          6359.414569536424,
          6416.7590027700835,
          6387.6056527590845,
          6307.335597826087,
          6332.070911722142,
          6362.386934673367,
          6368.58231292517,
          6377.612994350283,
          7257.672354948805,
          6402.81582733813,
          6353.676511954993,
          6395.107962213226,
          6347.540897097625,
          6334.716032608696,
          6395.07619047619,
          7160.700296735905,
          6994.553072625698,
          6665.284974093264,
          7208.839590443686,
          7902.743801652892,
          7141.010886469673,
          7207.280235988201,
          7763.685847589424,
          7549.798657718121,
          7168.664012738854,
          7262.199346405228
         ],
         "y0": " ",
         "yaxis": "y"
        },
        {
         "alignmentgroup": "True",
         "customdata": [
          [
           "Dec"
          ],
          [
           "Nov"
          ],
          [
           "Sep"
          ],
          [
           "Apr"
          ],
          [
           "Aug"
          ],
          [
           "Dec"
          ],
          [
           "Feb"
          ],
          [
           "Jan"
          ],
          [
           "Jul"
          ],
          [
           "Jun"
          ],
          [
           "Mar"
          ],
          [
           "May"
          ],
          [
           "Nov"
          ],
          [
           "Oct"
          ],
          [
           "Sep"
          ],
          [
           "Apr"
          ],
          [
           "Aug"
          ],
          [
           "Dec"
          ],
          [
           "Feb"
          ],
          [
           "Jan"
          ],
          [
           "Jul"
          ],
          [
           "Jun"
          ],
          [
           "Mar"
          ],
          [
           "May"
          ],
          [
           "Nov"
          ],
          [
           "Oct"
          ],
          [
           "Sep"
          ],
          [
           "Apr"
          ],
          [
           "Aug"
          ],
          [
           "Dec"
          ],
          [
           "Feb"
          ],
          [
           "Jan"
          ],
          [
           "Jul"
          ],
          [
           "Jun"
          ],
          [
           "Mar"
          ],
          [
           "May"
          ],
          [
           "Nov"
          ],
          [
           "Oct"
          ],
          [
           "Sep"
          ],
          [
           "Apr"
          ],
          [
           "Aug"
          ],
          [
           "Dec"
          ],
          [
           "Feb"
          ],
          [
           "Jan"
          ],
          [
           "Jul"
          ],
          [
           "Jun"
          ],
          [
           "Mar"
          ],
          [
           "May"
          ],
          [
           "Nov"
          ],
          [
           "Oct"
          ],
          [
           "Sep"
          ],
          [
           "Apr"
          ],
          [
           "Aug"
          ],
          [
           "Dec"
          ],
          [
           "Feb"
          ],
          [
           "Jan"
          ],
          [
           "Jul"
          ],
          [
           "Jun"
          ],
          [
           "Mar"
          ],
          [
           "May"
          ],
          [
           "Nov"
          ],
          [
           "Oct"
          ],
          [
           "Sep"
          ],
          [
           "Apr"
          ],
          [
           "Aug"
          ],
          [
           "Dec"
          ],
          [
           "Feb"
          ],
          [
           "Jan"
          ],
          [
           "Jul"
          ],
          [
           "Jun"
          ],
          [
           "Mar"
          ],
          [
           "May"
          ],
          [
           "Nov"
          ],
          [
           "Oct"
          ],
          [
           "Sep"
          ],
          [
           "Apr"
          ],
          [
           "Aug"
          ],
          [
           "Dec"
          ],
          [
           "Feb"
          ],
          [
           "Jan"
          ],
          [
           "Jul"
          ],
          [
           "Jun"
          ],
          [
           "Mar"
          ],
          [
           "May"
          ],
          [
           "Nov"
          ],
          [
           "Oct"
          ],
          [
           "Sep"
          ],
          [
           "Apr"
          ],
          [
           "Aug"
          ],
          [
           "Feb"
          ],
          [
           "Jan"
          ],
          [
           "Jul"
          ],
          [
           "Jun"
          ],
          [
           "Mar"
          ],
          [
           "May"
          ],
          [
           "Sep"
          ],
          [
           "Dec"
          ],
          [
           "Nov"
          ],
          [
           "Sep"
          ],
          [
           "Apr"
          ],
          [
           "Aug"
          ],
          [
           "Dec"
          ],
          [
           "Feb"
          ],
          [
           "Jan"
          ],
          [
           "Jul"
          ],
          [
           "Jun"
          ],
          [
           "Mar"
          ],
          [
           "May"
          ],
          [
           "Nov"
          ],
          [
           "Oct"
          ],
          [
           "Sep"
          ],
          [
           "Apr"
          ],
          [
           "Aug"
          ],
          [
           "Dec"
          ],
          [
           "Feb"
          ],
          [
           "Jan"
          ],
          [
           "Jul"
          ],
          [
           "Jun"
          ],
          [
           "Mar"
          ],
          [
           "May"
          ],
          [
           "Nov"
          ],
          [
           "Oct"
          ],
          [
           "Sep"
          ],
          [
           "Apr"
          ],
          [
           "Aug"
          ],
          [
           "Dec"
          ],
          [
           "Feb"
          ],
          [
           "Jan"
          ],
          [
           "Jul"
          ],
          [
           "Jun"
          ],
          [
           "Mar"
          ],
          [
           "May"
          ],
          [
           "Nov"
          ],
          [
           "Oct"
          ],
          [
           "Sep"
          ],
          [
           "Apr"
          ],
          [
           "Aug"
          ],
          [
           "Dec"
          ],
          [
           "Feb"
          ],
          [
           "Jan"
          ],
          [
           "Jul"
          ],
          [
           "Jun"
          ],
          [
           "Mar"
          ],
          [
           "May"
          ],
          [
           "Nov"
          ],
          [
           "Oct"
          ],
          [
           "Sep"
          ],
          [
           "Apr"
          ],
          [
           "Aug"
          ],
          [
           "Dec"
          ],
          [
           "Feb"
          ],
          [
           "Jan"
          ],
          [
           "Jul"
          ],
          [
           "Jun"
          ],
          [
           "Mar"
          ],
          [
           "May"
          ],
          [
           "Nov"
          ],
          [
           "Oct"
          ],
          [
           "Sep"
          ],
          [
           "Apr"
          ],
          [
           "Aug"
          ],
          [
           "Dec"
          ],
          [
           "Feb"
          ],
          [
           "Jan"
          ],
          [
           "Jul"
          ],
          [
           "Jun"
          ],
          [
           "Mar"
          ],
          [
           "May"
          ],
          [
           "Nov"
          ],
          [
           "Oct"
          ],
          [
           "Sep"
          ],
          [
           "Apr"
          ],
          [
           "Aug"
          ],
          [
           "Dec"
          ],
          [
           "Feb"
          ],
          [
           "Jan"
          ],
          [
           "Jul"
          ],
          [
           "Jun"
          ],
          [
           "Mar"
          ],
          [
           "May"
          ],
          [
           "Nov"
          ],
          [
           "Oct"
          ],
          [
           "Sep"
          ],
          [
           "Apr"
          ],
          [
           "Aug"
          ],
          [
           "Feb"
          ],
          [
           "Jan"
          ],
          [
           "Jul"
          ],
          [
           "Jun"
          ],
          [
           "Mar"
          ],
          [
           "May"
          ],
          [
           "Sep"
          ],
          [
           "Dec"
          ],
          [
           "Nov"
          ],
          [
           "Sep"
          ],
          [
           "Apr"
          ],
          [
           "Aug"
          ],
          [
           "Dec"
          ],
          [
           "Feb"
          ],
          [
           "Jan"
          ],
          [
           "Jul"
          ],
          [
           "Jun"
          ],
          [
           "Mar"
          ],
          [
           "May"
          ],
          [
           "Nov"
          ],
          [
           "Oct"
          ],
          [
           "Sep"
          ],
          [
           "Apr"
          ],
          [
           "Aug"
          ],
          [
           "Dec"
          ],
          [
           "Feb"
          ],
          [
           "Jan"
          ],
          [
           "Jul"
          ],
          [
           "Jun"
          ],
          [
           "Mar"
          ],
          [
           "May"
          ],
          [
           "Nov"
          ],
          [
           "Oct"
          ],
          [
           "Sep"
          ],
          [
           "Apr"
          ],
          [
           "Aug"
          ],
          [
           "Dec"
          ],
          [
           "Feb"
          ],
          [
           "Jan"
          ],
          [
           "Jul"
          ],
          [
           "Jun"
          ],
          [
           "Mar"
          ],
          [
           "May"
          ],
          [
           "Nov"
          ],
          [
           "Oct"
          ],
          [
           "Sep"
          ],
          [
           "Apr"
          ],
          [
           "Aug"
          ],
          [
           "Dec"
          ],
          [
           "Feb"
          ],
          [
           "Jan"
          ],
          [
           "Jul"
          ],
          [
           "Jun"
          ],
          [
           "Mar"
          ],
          [
           "May"
          ],
          [
           "Nov"
          ],
          [
           "Oct"
          ],
          [
           "Sep"
          ],
          [
           "Apr"
          ],
          [
           "Aug"
          ],
          [
           "Dec"
          ],
          [
           "Feb"
          ],
          [
           "Jan"
          ],
          [
           "Jul"
          ],
          [
           "Jun"
          ],
          [
           "Mar"
          ],
          [
           "May"
          ],
          [
           "Nov"
          ],
          [
           "Oct"
          ],
          [
           "Sep"
          ],
          [
           "Apr"
          ],
          [
           "Aug"
          ],
          [
           "Dec"
          ],
          [
           "Feb"
          ],
          [
           "Jan"
          ],
          [
           "Jul"
          ],
          [
           "Jun"
          ],
          [
           "Mar"
          ],
          [
           "May"
          ],
          [
           "Nov"
          ],
          [
           "Oct"
          ],
          [
           "Sep"
          ],
          [
           "Apr"
          ],
          [
           "Aug"
          ],
          [
           "Dec"
          ],
          [
           "Feb"
          ],
          [
           "Jan"
          ],
          [
           "Jul"
          ],
          [
           "Jun"
          ],
          [
           "Mar"
          ],
          [
           "May"
          ],
          [
           "Nov"
          ],
          [
           "Oct"
          ],
          [
           "Sep"
          ],
          [
           "Apr"
          ],
          [
           "Aug"
          ],
          [
           "Feb"
          ],
          [
           "Jan"
          ],
          [
           "Jul"
          ],
          [
           "Jun"
          ],
          [
           "Mar"
          ],
          [
           "May"
          ],
          [
           "Sep"
          ]
         ],
         "hovertemplate": "commodity=Green Gram Dal (Moong Dal)<br>year=%{x}<br>value=%{y}<br>month=%{customdata[0]}<extra></extra>",
         "legendgroup": "Green Gram Dal (Moong Dal)",
         "marker": {
          "color": "#00cc96"
         },
         "name": "Green Gram Dal (Moong Dal)",
         "notched": false,
         "offsetgroup": "Green Gram Dal (Moong Dal)",
         "orientation": "v",
         "showlegend": true,
         "type": "box",
         "x": [
          "2016",
          "2016",
          "2016",
          "2017",
          "2017",
          "2017",
          "2017",
          "2017",
          "2017",
          "2017",
          "2017",
          "2017",
          "2017",
          "2017",
          "2017",
          "2018",
          "2018",
          "2018",
          "2018",
          "2018",
          "2018",
          "2018",
          "2018",
          "2018",
          "2018",
          "2018",
          "2018",
          "2019",
          "2019",
          "2019",
          "2019",
          "2019",
          "2019",
          "2019",
          "2019",
          "2019",
          "2019",
          "2019",
          "2019",
          "2020",
          "2020",
          "2020",
          "2020",
          "2020",
          "2020",
          "2020",
          "2020",
          "2020",
          "2020",
          "2020",
          "2020",
          "2021",
          "2021",
          "2021",
          "2021",
          "2021",
          "2021",
          "2021",
          "2021",
          "2021",
          "2021",
          "2021",
          "2021",
          "2022",
          "2022",
          "2022",
          "2022",
          "2022",
          "2022",
          "2022",
          "2022",
          "2022",
          "2022",
          "2022",
          "2022",
          "2023",
          "2023",
          "2023",
          "2023",
          "2023",
          "2023",
          "2023",
          "2023",
          "2023",
          "2023",
          "2023",
          "2023",
          "2024",
          "2024",
          "2024",
          "2024",
          "2024",
          "2024",
          "2024",
          "2024",
          "2024",
          "2016",
          "2016",
          "2016",
          "2017",
          "2017",
          "2017",
          "2017",
          "2017",
          "2017",
          "2017",
          "2017",
          "2017",
          "2017",
          "2017",
          "2017",
          "2018",
          "2018",
          "2018",
          "2018",
          "2018",
          "2018",
          "2018",
          "2018",
          "2018",
          "2018",
          "2018",
          "2018",
          "2019",
          "2019",
          "2019",
          "2019",
          "2019",
          "2019",
          "2019",
          "2019",
          "2019",
          "2019",
          "2019",
          "2019",
          "2020",
          "2020",
          "2020",
          "2020",
          "2020",
          "2020",
          "2020",
          "2020",
          "2020",
          "2020",
          "2020",
          "2020",
          "2021",
          "2021",
          "2021",
          "2021",
          "2021",
          "2021",
          "2021",
          "2021",
          "2021",
          "2021",
          "2021",
          "2021",
          "2022",
          "2022",
          "2022",
          "2022",
          "2022",
          "2022",
          "2022",
          "2022",
          "2022",
          "2022",
          "2022",
          "2022",
          "2023",
          "2023",
          "2023",
          "2023",
          "2023",
          "2023",
          "2023",
          "2023",
          "2023",
          "2023",
          "2023",
          "2023",
          "2024",
          "2024",
          "2024",
          "2024",
          "2024",
          "2024",
          "2024",
          "2024",
          "2024",
          "2016",
          "2016",
          "2016",
          "2017",
          "2017",
          "2017",
          "2017",
          "2017",
          "2017",
          "2017",
          "2017",
          "2017",
          "2017",
          "2017",
          "2017",
          "2018",
          "2018",
          "2018",
          "2018",
          "2018",
          "2018",
          "2018",
          "2018",
          "2018",
          "2018",
          "2018",
          "2018",
          "2019",
          "2019",
          "2019",
          "2019",
          "2019",
          "2019",
          "2019",
          "2019",
          "2019",
          "2019",
          "2019",
          "2019",
          "2020",
          "2020",
          "2020",
          "2020",
          "2020",
          "2020",
          "2020",
          "2020",
          "2020",
          "2020",
          "2020",
          "2020",
          "2021",
          "2021",
          "2021",
          "2021",
          "2021",
          "2021",
          "2021",
          "2021",
          "2021",
          "2021",
          "2021",
          "2021",
          "2022",
          "2022",
          "2022",
          "2022",
          "2022",
          "2022",
          "2022",
          "2022",
          "2022",
          "2022",
          "2022",
          "2022",
          "2023",
          "2023",
          "2023",
          "2023",
          "2023",
          "2023",
          "2023",
          "2023",
          "2023",
          "2023",
          "2023",
          "2023",
          "2024",
          "2024",
          "2024",
          "2024",
          "2024",
          "2024",
          "2024",
          "2024",
          "2024"
         ],
         "x0": " ",
         "xaxis": "x",
         "y": [
          7850,
          8191.818181818182,
          8490,
          6184.903846153846,
          6186.206896551724,
          5758.365384615385,
          7367.5,
          7801.666666666667,
          6185.089285714285,
          6272.539682539683,
          6690.909090909091,
          6253.770491803279,
          5822.1827411167515,
          5921.475,
          6047.355072463768,
          5909.813664596273,
          6200.276679841897,
          6462.174479166667,
          5860.1832460732985,
          5785.384615384615,
          6130.353773584906,
          6088.75,
          5962.391304347826,
          5988.717948717948,
          6328.352112676056,
          6149.784263959391,
          6158.983333333334,
          6727.24,
          7054.681697612732,
          7760.425925925926,
          6660.24011299435,
          6529.640102827763,
          7212.680412371134,
          7247.984496124031,
          6709.264935064935,
          6893.6754176610975,
          7414.430379746836,
          7153.09585492228,
          7058.492462311558,
          9007.566727605119,
          8599.865753424658,
          8571.272506082725,
          8007.839694656489,
          7937.732860520095,
          8756.55919395466,
          9049.540952380952,
          8230.699059561128,
          9114.95890410959,
          8516.637279596976,
          8495.700234192038,
          8368.5859030837,
          8760.42345276873,
          8274.96462264151,
          8519.208226221079,
          8631.328267477204,
          8614.606469002696,
          8311.731132075472,
          8778.566844919786,
          8663.12893081761,
          8984.126843657818,
          8481.128851540616,
          8480.560975609756,
          8398.040816326531,
          8563.098484848484,
          8536.962209302326,
          8634.608108108108,
          8555.520215633424,
          8496.183462532299,
          8539.724233983286,
          8586.0987012987,
          8528.092105263158,
          8597.88746803069,
          8635.115273775216,
          8533.00303030303,
          8538.048192771084,
          9118.682242990653,
          9332.551928783383,
          9705.07662835249,
          8847.963636363636,
          8718.9375,
          9324.920227920227,
          9234.459064327486,
          8878.488439306358,
          9226.444444444445,
          9591.066666666668,
          9481.666666666666,
          9364.865714285714,
          10055.134615384615,
          10110.707692307693,
          9821.952054794521,
          9762.550819672131,
          10158.971518987342,
          10102.952218430035,
          9931.122377622378,
          10072.087096774194,
          10200,
          1316.6666666666667,
          754.5454545454545,
          8460,
          3032.6923076923076,
          3782.9885057471265,
          5626.153846153846,
          0,
          1300,
          2508.660714285714,
          3061.2698412698414,
          2918.181818181818,
          3590.5737704918033,
          5486.111675126904,
          5574.45,
          5513.224637681159,
          5765.403726708075,
          6079.940711462451,
          6345,
          5723.926701570681,
          5660.625,
          6006.556603773585,
          5947.361111111111,
          5814.755434782609,
          5844.679487179487,
          6219.971830985915,
          6040.634517766497,
          6040.96,
          6611.866666666667,
          6932.09549071618,
          7634.78835978836,
          6542.175141242938,
          6413.560411311054,
          7090.976804123711,
          7118.782945736434,
          6578.688311688312,
          6772.303102625298,
          7297.359493670886,
          7036.774611398963,
          6942.713567839196,
          8887.118829981719,
          8502.575342465754,
          8468.136253041363,
          7844.414758269721,
          7810.4988179669035,
          8649.335012594458,
          8935.329523809523,
          8106.852664576802,
          9004.859589041096,
          8414.884130982367,
          8387.42857142857,
          8271.958149779735,
          8644.328990228014,
          8178.778301886792,
          8413.41645244216,
          8523.060790273556,
          8506.603773584906,
          8202.709905660377,
          8664.243315508022,
          8512.509433962265,
          8879.250737463128,
          8374.487394957983,
          8369.248780487806,
          8299.086167800453,
          8458.75,
          8429.05523255814,
          8529.2,
          8447.390835579516,
          8387.829457364342,
          8435.598885793872,
          8470.290909090909,
          8422.77894736842,
          8485.25063938619,
          8526.521613832852,
          8422.181818181818,
          8432.469879518072,
          9016.105919003116,
          9236.3353115727,
          9600.823754789271,
          8746.290909090909,
          8617.36607142857,
          9221.894586894587,
          9134.21052631579,
          8779.615606936417,
          9120.996913580248,
          9493.466666666667,
          9383.522012578616,
          9268.614285714286,
          9940.038461538461,
          9997.307692307691,
          9719.058219178081,
          9662.422950819671,
          10035.553797468354,
          9993.071672354949,
          9816.503496503496,
          9951.91935483871,
          10150,
          1350,
          772.7272727272727,
          8523.333333333334,
          3249.0384615384614,
          4032.9885057471265,
          5881.995192307692,
          0,
          1316.6666666666667,
          2678.214285714286,
          3286.031746031746,
          2998.181818181818,
          3816.72131147541,
          5754.086294416244,
          5851.15,
          5855.471014492754,
          6039.217391304348,
          6311.166007905138,
          6566.994791666667,
          5983.507853403142,
          5906.971153846154,
          6250.872641509434,
          6215.555555555556,
          6082.961956521739,
          6130.7692307692305,
          6433.6760563380285,
          6252.677664974619,
          6267.766666666666,
          6834.250666666667,
          7171.405835543766,
          7885.10582010582,
          6759.025423728814,
          6632.840616966581,
          7329.317010309278,
          7364.50645994832,
          6820.885714285714,
          6997.992840095465,
          7523.949367088608,
          7266.567357512953,
          7172.826633165829,
          9134.069469835465,
          8705.38904109589,
          8675.445255474453,
          8120.119592875318,
          8057.721040189125,
          8865.97732997481,
          9169.413333333334,
          8348.846394984326,
          9229.830479452055,
          8622.214105793451,
          8598.63700234192,
          8471.218061674008,
          8873.560260586319,
          8371.650943396226,
          8615.539845758354,
          8742.203647416414,
          8726.56873315364,
          8426.497641509433,
          8896.804812834225,
          8779.32389937107,
          9093.353982300885,
          8576.974789915967,
          8577.146341463415,
          8501.485260770974,
          8668.212121212122,
          8647.491279069767,
          8734.524324324324,
          8664.654986522912,
          8597.937984496124,
          8645.880222841226,
          8700.667532467533,
          8637.871052631579,
          8703.485933503836,
          8744.57060518732,
          8644.936363636363,
          8644.744578313253,
          9225.548286604362,
          9423.578635014837,
          9806.091954022988,
          8949.330303030303,
          8819.863095238095,
          9423.524216524216,
          9337.663742690058,
          8951.800578034683,
          9327.697530864198,
          9688.183333333332,
          9577.861635220126,
          9456.828571428572,
          10182.461538461539,
          10200.138461538461,
          9929.818493150686,
          9870.003278688524,
          10283.151898734177,
          10246.058020477816,
          10048.08041958042,
          10190.758064516129,
          10250
         ],
         "y0": " ",
         "yaxis": "y"
        },
        {
         "alignmentgroup": "True",
         "customdata": [
          [
           "Aug"
          ],
          [
           "May"
          ],
          [
           "Aug"
          ],
          [
           "May"
          ],
          [
           "Aug"
          ],
          [
           "May"
          ]
         ],
         "hovertemplate": "commodity=Dalda<br>year=%{x}<br>value=%{y}<br>month=%{customdata[0]}<extra></extra>",
         "legendgroup": "Dalda",
         "marker": {
          "color": "#ab63fa"
         },
         "name": "Dalda",
         "notched": false,
         "offsetgroup": "Dalda",
         "orientation": "v",
         "showlegend": true,
         "type": "box",
         "x": [
          "2019",
          "2019",
          "2019",
          "2019",
          "2019",
          "2019"
         ],
         "x0": " ",
         "xaxis": "x",
         "y": [
          7000,
          6850,
          6800,
          6700,
          7200,
          7000
         ],
         "y0": " ",
         "yaxis": "y"
        }
       ],
       "layout": {
        "boxmode": "group",
        "legend": {
         "title": {
          "text": "commodity"
         },
         "tracegroupgap": 0
        },
        "margin": {
         "t": 60
        },
        "template": {
         "data": {
          "bar": [
           {
            "error_x": {
             "color": "#2a3f5f"
            },
            "error_y": {
             "color": "#2a3f5f"
            },
            "marker": {
             "line": {
              "color": "#E5ECF6",
              "width": 0.5
             },
             "pattern": {
              "fillmode": "overlay",
              "size": 10,
              "solidity": 0.2
             }
            },
            "type": "bar"
           }
          ],
          "barpolar": [
           {
            "marker": {
             "line": {
              "color": "#E5ECF6",
              "width": 0.5
             },
             "pattern": {
              "fillmode": "overlay",
              "size": 10,
              "solidity": 0.2
             }
            },
            "type": "barpolar"
           }
          ],
          "carpet": [
           {
            "aaxis": {
             "endlinecolor": "#2a3f5f",
             "gridcolor": "white",
             "linecolor": "white",
             "minorgridcolor": "white",
             "startlinecolor": "#2a3f5f"
            },
            "baxis": {
             "endlinecolor": "#2a3f5f",
             "gridcolor": "white",
             "linecolor": "white",
             "minorgridcolor": "white",
             "startlinecolor": "#2a3f5f"
            },
            "type": "carpet"
           }
          ],
          "choropleth": [
           {
            "colorbar": {
             "outlinewidth": 0,
             "ticks": ""
            },
            "type": "choropleth"
           }
          ],
          "contour": [
           {
            "colorbar": {
             "outlinewidth": 0,
             "ticks": ""
            },
            "colorscale": [
             [
              0,
              "#0d0887"
             ],
             [
              0.1111111111111111,
              "#46039f"
             ],
             [
              0.2222222222222222,
              "#7201a8"
             ],
             [
              0.3333333333333333,
              "#9c179e"
             ],
             [
              0.4444444444444444,
              "#bd3786"
             ],
             [
              0.5555555555555556,
              "#d8576b"
             ],
             [
              0.6666666666666666,
              "#ed7953"
             ],
             [
              0.7777777777777778,
              "#fb9f3a"
             ],
             [
              0.8888888888888888,
              "#fdca26"
             ],
             [
              1,
              "#f0f921"
             ]
            ],
            "type": "contour"
           }
          ],
          "contourcarpet": [
           {
            "colorbar": {
             "outlinewidth": 0,
             "ticks": ""
            },
            "type": "contourcarpet"
           }
          ],
          "heatmap": [
           {
            "colorbar": {
             "outlinewidth": 0,
             "ticks": ""
            },
            "colorscale": [
             [
              0,
              "#0d0887"
             ],
             [
              0.1111111111111111,
              "#46039f"
             ],
             [
              0.2222222222222222,
              "#7201a8"
             ],
             [
              0.3333333333333333,
              "#9c179e"
             ],
             [
              0.4444444444444444,
              "#bd3786"
             ],
             [
              0.5555555555555556,
              "#d8576b"
             ],
             [
              0.6666666666666666,
              "#ed7953"
             ],
             [
              0.7777777777777778,
              "#fb9f3a"
             ],
             [
              0.8888888888888888,
              "#fdca26"
             ],
             [
              1,
              "#f0f921"
             ]
            ],
            "type": "heatmap"
           }
          ],
          "heatmapgl": [
           {
            "colorbar": {
             "outlinewidth": 0,
             "ticks": ""
            },
            "colorscale": [
             [
              0,
              "#0d0887"
             ],
             [
              0.1111111111111111,
              "#46039f"
             ],
             [
              0.2222222222222222,
              "#7201a8"
             ],
             [
              0.3333333333333333,
              "#9c179e"
             ],
             [
              0.4444444444444444,
              "#bd3786"
             ],
             [
              0.5555555555555556,
              "#d8576b"
             ],
             [
              0.6666666666666666,
              "#ed7953"
             ],
             [
              0.7777777777777778,
              "#fb9f3a"
             ],
             [
              0.8888888888888888,
              "#fdca26"
             ],
             [
              1,
              "#f0f921"
             ]
            ],
            "type": "heatmapgl"
           }
          ],
          "histogram": [
           {
            "marker": {
             "pattern": {
              "fillmode": "overlay",
              "size": 10,
              "solidity": 0.2
             }
            },
            "type": "histogram"
           }
          ],
          "histogram2d": [
           {
            "colorbar": {
             "outlinewidth": 0,
             "ticks": ""
            },
            "colorscale": [
             [
              0,
              "#0d0887"
             ],
             [
              0.1111111111111111,
              "#46039f"
             ],
             [
              0.2222222222222222,
              "#7201a8"
             ],
             [
              0.3333333333333333,
              "#9c179e"
             ],
             [
              0.4444444444444444,
              "#bd3786"
             ],
             [
              0.5555555555555556,
              "#d8576b"
             ],
             [
              0.6666666666666666,
              "#ed7953"
             ],
             [
              0.7777777777777778,
              "#fb9f3a"
             ],
             [
              0.8888888888888888,
              "#fdca26"
             ],
             [
              1,
              "#f0f921"
             ]
            ],
            "type": "histogram2d"
           }
          ],
          "histogram2dcontour": [
           {
            "colorbar": {
             "outlinewidth": 0,
             "ticks": ""
            },
            "colorscale": [
             [
              0,
              "#0d0887"
             ],
             [
              0.1111111111111111,
              "#46039f"
             ],
             [
              0.2222222222222222,
              "#7201a8"
             ],
             [
              0.3333333333333333,
              "#9c179e"
             ],
             [
              0.4444444444444444,
              "#bd3786"
             ],
             [
              0.5555555555555556,
              "#d8576b"
             ],
             [
              0.6666666666666666,
              "#ed7953"
             ],
             [
              0.7777777777777778,
              "#fb9f3a"
             ],
             [
              0.8888888888888888,
              "#fdca26"
             ],
             [
              1,
              "#f0f921"
             ]
            ],
            "type": "histogram2dcontour"
           }
          ],
          "mesh3d": [
           {
            "colorbar": {
             "outlinewidth": 0,
             "ticks": ""
            },
            "type": "mesh3d"
           }
          ],
          "parcoords": [
           {
            "line": {
             "colorbar": {
              "outlinewidth": 0,
              "ticks": ""
             }
            },
            "type": "parcoords"
           }
          ],
          "pie": [
           {
            "automargin": true,
            "type": "pie"
           }
          ],
          "scatter": [
           {
            "fillpattern": {
             "fillmode": "overlay",
             "size": 10,
             "solidity": 0.2
            },
            "type": "scatter"
           }
          ],
          "scatter3d": [
           {
            "line": {
             "colorbar": {
              "outlinewidth": 0,
              "ticks": ""
             }
            },
            "marker": {
             "colorbar": {
              "outlinewidth": 0,
              "ticks": ""
             }
            },
            "type": "scatter3d"
           }
          ],
          "scattercarpet": [
           {
            "marker": {
             "colorbar": {
              "outlinewidth": 0,
              "ticks": ""
             }
            },
            "type": "scattercarpet"
           }
          ],
          "scattergeo": [
           {
            "marker": {
             "colorbar": {
              "outlinewidth": 0,
              "ticks": ""
             }
            },
            "type": "scattergeo"
           }
          ],
          "scattergl": [
           {
            "marker": {
             "colorbar": {
              "outlinewidth": 0,
              "ticks": ""
             }
            },
            "type": "scattergl"
           }
          ],
          "scattermapbox": [
           {
            "marker": {
             "colorbar": {
              "outlinewidth": 0,
              "ticks": ""
             }
            },
            "type": "scattermapbox"
           }
          ],
          "scatterpolar": [
           {
            "marker": {
             "colorbar": {
              "outlinewidth": 0,
              "ticks": ""
             }
            },
            "type": "scatterpolar"
           }
          ],
          "scatterpolargl": [
           {
            "marker": {
             "colorbar": {
              "outlinewidth": 0,
              "ticks": ""
             }
            },
            "type": "scatterpolargl"
           }
          ],
          "scatterternary": [
           {
            "marker": {
             "colorbar": {
              "outlinewidth": 0,
              "ticks": ""
             }
            },
            "type": "scatterternary"
           }
          ],
          "surface": [
           {
            "colorbar": {
             "outlinewidth": 0,
             "ticks": ""
            },
            "colorscale": [
             [
              0,
              "#0d0887"
             ],
             [
              0.1111111111111111,
              "#46039f"
             ],
             [
              0.2222222222222222,
              "#7201a8"
             ],
             [
              0.3333333333333333,
              "#9c179e"
             ],
             [
              0.4444444444444444,
              "#bd3786"
             ],
             [
              0.5555555555555556,
              "#d8576b"
             ],
             [
              0.6666666666666666,
              "#ed7953"
             ],
             [
              0.7777777777777778,
              "#fb9f3a"
             ],
             [
              0.8888888888888888,
              "#fdca26"
             ],
             [
              1,
              "#f0f921"
             ]
            ],
            "type": "surface"
           }
          ],
          "table": [
           {
            "cells": {
             "fill": {
              "color": "#EBF0F8"
             },
             "line": {
              "color": "white"
             }
            },
            "header": {
             "fill": {
              "color": "#C8D4E3"
             },
             "line": {
              "color": "white"
             }
            },
            "type": "table"
           }
          ]
         },
         "layout": {
          "annotationdefaults": {
           "arrowcolor": "#2a3f5f",
           "arrowhead": 0,
           "arrowwidth": 1
          },
          "autotypenumbers": "strict",
          "coloraxis": {
           "colorbar": {
            "outlinewidth": 0,
            "ticks": ""
           }
          },
          "colorscale": {
           "diverging": [
            [
             0,
             "#8e0152"
            ],
            [
             0.1,
             "#c51b7d"
            ],
            [
             0.2,
             "#de77ae"
            ],
            [
             0.3,
             "#f1b6da"
            ],
            [
             0.4,
             "#fde0ef"
            ],
            [
             0.5,
             "#f7f7f7"
            ],
            [
             0.6,
             "#e6f5d0"
            ],
            [
             0.7,
             "#b8e186"
            ],
            [
             0.8,
             "#7fbc41"
            ],
            [
             0.9,
             "#4d9221"
            ],
            [
             1,
             "#276419"
            ]
           ],
           "sequential": [
            [
             0,
             "#0d0887"
            ],
            [
             0.1111111111111111,
             "#46039f"
            ],
            [
             0.2222222222222222,
             "#7201a8"
            ],
            [
             0.3333333333333333,
             "#9c179e"
            ],
            [
             0.4444444444444444,
             "#bd3786"
            ],
            [
             0.5555555555555556,
             "#d8576b"
            ],
            [
             0.6666666666666666,
             "#ed7953"
            ],
            [
             0.7777777777777778,
             "#fb9f3a"
            ],
            [
             0.8888888888888888,
             "#fdca26"
            ],
            [
             1,
             "#f0f921"
            ]
           ],
           "sequentialminus": [
            [
             0,
             "#0d0887"
            ],
            [
             0.1111111111111111,
             "#46039f"
            ],
            [
             0.2222222222222222,
             "#7201a8"
            ],
            [
             0.3333333333333333,
             "#9c179e"
            ],
            [
             0.4444444444444444,
             "#bd3786"
            ],
            [
             0.5555555555555556,
             "#d8576b"
            ],
            [
             0.6666666666666666,
             "#ed7953"
            ],
            [
             0.7777777777777778,
             "#fb9f3a"
            ],
            [
             0.8888888888888888,
             "#fdca26"
            ],
            [
             1,
             "#f0f921"
            ]
           ]
          },
          "colorway": [
           "#636efa",
           "#EF553B",
           "#00cc96",
           "#ab63fa",
           "#FFA15A",
           "#19d3f3",
           "#FF6692",
           "#B6E880",
           "#FF97FF",
           "#FECB52"
          ],
          "font": {
           "color": "#2a3f5f"
          },
          "geo": {
           "bgcolor": "white",
           "lakecolor": "white",
           "landcolor": "#E5ECF6",
           "showlakes": true,
           "showland": true,
           "subunitcolor": "white"
          },
          "hoverlabel": {
           "align": "left"
          },
          "hovermode": "closest",
          "mapbox": {
           "style": "light"
          },
          "paper_bgcolor": "white",
          "plot_bgcolor": "#E5ECF6",
          "polar": {
           "angularaxis": {
            "gridcolor": "white",
            "linecolor": "white",
            "ticks": ""
           },
           "bgcolor": "#E5ECF6",
           "radialaxis": {
            "gridcolor": "white",
            "linecolor": "white",
            "ticks": ""
           }
          },
          "scene": {
           "xaxis": {
            "backgroundcolor": "#E5ECF6",
            "gridcolor": "white",
            "gridwidth": 2,
            "linecolor": "white",
            "showbackground": true,
            "ticks": "",
            "zerolinecolor": "white"
           },
           "yaxis": {
            "backgroundcolor": "#E5ECF6",
            "gridcolor": "white",
            "gridwidth": 2,
            "linecolor": "white",
            "showbackground": true,
            "ticks": "",
            "zerolinecolor": "white"
           },
           "zaxis": {
            "backgroundcolor": "#E5ECF6",
            "gridcolor": "white",
            "gridwidth": 2,
            "linecolor": "white",
            "showbackground": true,
            "ticks": "",
            "zerolinecolor": "white"
           }
          },
          "shapedefaults": {
           "line": {
            "color": "#2a3f5f"
           }
          },
          "ternary": {
           "aaxis": {
            "gridcolor": "white",
            "linecolor": "white",
            "ticks": ""
           },
           "baxis": {
            "gridcolor": "white",
            "linecolor": "white",
            "ticks": ""
           },
           "bgcolor": "#E5ECF6",
           "caxis": {
            "gridcolor": "white",
            "linecolor": "white",
            "ticks": ""
           }
          },
          "title": {
           "x": 0.05
          },
          "xaxis": {
           "automargin": true,
           "gridcolor": "white",
           "linecolor": "white",
           "ticks": "",
           "title": {
            "standoff": 15
           },
           "zerolinecolor": "white",
           "zerolinewidth": 2
          },
          "yaxis": {
           "automargin": true,
           "gridcolor": "white",
           "linecolor": "white",
           "ticks": "",
           "title": {
            "standoff": 15
           },
           "zerolinecolor": "white",
           "zerolinewidth": 2
          }
         }
        },
        "xaxis": {
         "anchor": "y",
         "domain": [
          0,
          1
         ],
         "title": {
          "text": "year"
         }
        },
        "yaxis": {
         "anchor": "x",
         "domain": [
          0,
          1
         ],
         "title": {
          "text": "value"
         }
        }
       }
      }
     },
     "metadata": {},
     "output_type": "display_data"
    }
   ],
   "source": [
    "px.box(\n",
    "    data_frame=up_yearly,\n",
    "    x=up_yearly[\"year\"],\n",
    "    y=[\n",
    "        up_yearly[\"modal_rs_quintal\"],\n",
    "        up_yearly[\"min_rs_quintal\"],\n",
    "        up_yearly[\"max_rs_quintal\"],\n",
    "    ],\n",
    "    color=up_yearly[\"commodity\"],\n",
    "    hover_data=\"month\"\n",
    ")"
   ]
  },
  {
   "cell_type": "code",
   "execution_count": null,
   "metadata": {},
   "outputs": [],
   "source": [
    "andhra_yearly_district = (\n",
    "    andhra.groupby([\"year\",\"district_name\",\"commodity\"])\n",
    "    .agg(\n",
    "        {\"modal_rs_quintal\": \"mean\", \"min_rs_quintal\": \"mean\", \"max_rs_quintal\": \"mean\"}\n",
    "    )\n",
    "    .reset_index()\n",
    ")"
   ]
  },
  {
   "cell_type": "code",
   "execution_count": null,
   "metadata": {},
   "outputs": [],
   "source": [
    "up_yearly_district = (\n",
    "    up.groupby([\"year\", \"district_name\", \"commodity\"])\n",
    "    .agg(\n",
    "        {\"modal_rs_quintal\": \"mean\", \"min_rs_quintal\": \"mean\", \"max_rs_quintal\": \"mean\"}\n",
    "    )\n",
    "    .reset_index()\n",
    ")"
   ]
  },
  {
   "cell_type": "code",
   "execution_count": null,
   "metadata": {},
   "outputs": [
    {
     "data": {
      "text/html": [
       "<div>\n",
       "<style scoped>\n",
       "    .dataframe tbody tr th:only-of-type {\n",
       "        vertical-align: middle;\n",
       "    }\n",
       "\n",
       "    .dataframe tbody tr th {\n",
       "        vertical-align: top;\n",
       "    }\n",
       "\n",
       "    .dataframe thead th {\n",
       "        text-align: right;\n",
       "    }\n",
       "</style>\n",
       "<table border=\"1\" class=\"dataframe\">\n",
       "  <thead>\n",
       "    <tr style=\"text-align: right;\">\n",
       "      <th></th>\n",
       "      <th>year</th>\n",
       "      <th>district_name</th>\n",
       "      <th>commodity</th>\n",
       "      <th>modal_rs_quintal</th>\n",
       "      <th>min_rs_quintal</th>\n",
       "      <th>max_rs_quintal</th>\n",
       "    </tr>\n",
       "  </thead>\n",
       "  <tbody>\n",
       "    <tr>\n",
       "      <th>0</th>\n",
       "      <td>2014</td>\n",
       "      <td>Chittor</td>\n",
       "      <td>Gur(Jaggery)</td>\n",
       "      <td>2001.063830</td>\n",
       "      <td>1606.382979</td>\n",
       "      <td>2018.765957</td>\n",
       "    </tr>\n",
       "    <tr>\n",
       "      <th>1</th>\n",
       "      <td>2014</td>\n",
       "      <td>Chittor</td>\n",
       "      <td>Tomato</td>\n",
       "      <td>893.751124</td>\n",
       "      <td>671.805097</td>\n",
       "      <td>1129.007496</td>\n",
       "    </tr>\n",
       "    <tr>\n",
       "      <th>2</th>\n",
       "      <td>2014</td>\n",
       "      <td>East Godavari</td>\n",
       "      <td>Gur(Jaggery)</td>\n",
       "      <td>3210.204082</td>\n",
       "      <td>3010.204082</td>\n",
       "      <td>3446.938776</td>\n",
       "    </tr>\n",
       "    <tr>\n",
       "      <th>3</th>\n",
       "      <td>2014</td>\n",
       "      <td>Guntur</td>\n",
       "      <td>Rice</td>\n",
       "      <td>4092.584746</td>\n",
       "      <td>4002.118644</td>\n",
       "      <td>4182.203390</td>\n",
       "    </tr>\n",
       "    <tr>\n",
       "      <th>4</th>\n",
       "      <td>2014</td>\n",
       "      <td>Krishna</td>\n",
       "      <td>Potato</td>\n",
       "      <td>2846.846847</td>\n",
       "      <td>2737.837838</td>\n",
       "      <td>2946.846847</td>\n",
       "    </tr>\n",
       "    <tr>\n",
       "      <th>...</th>\n",
       "      <td>...</td>\n",
       "      <td>...</td>\n",
       "      <td>...</td>\n",
       "      <td>...</td>\n",
       "      <td>...</td>\n",
       "      <td>...</td>\n",
       "    </tr>\n",
       "    <tr>\n",
       "      <th>170</th>\n",
       "      <td>2024</td>\n",
       "      <td>Chittor</td>\n",
       "      <td>Potato</td>\n",
       "      <td>2235.200000</td>\n",
       "      <td>1691.200000</td>\n",
       "      <td>2847.200000</td>\n",
       "    </tr>\n",
       "    <tr>\n",
       "      <th>171</th>\n",
       "      <td>2024</td>\n",
       "      <td>Chittor</td>\n",
       "      <td>Tomato</td>\n",
       "      <td>2668.576598</td>\n",
       "      <td>2130.211098</td>\n",
       "      <td>3160.291918</td>\n",
       "    </tr>\n",
       "    <tr>\n",
       "      <th>172</th>\n",
       "      <td>2024</td>\n",
       "      <td>Kurnool</td>\n",
       "      <td>Onion</td>\n",
       "      <td>2120.181495</td>\n",
       "      <td>1689.224199</td>\n",
       "      <td>2416.715302</td>\n",
       "    </tr>\n",
       "    <tr>\n",
       "      <th>173</th>\n",
       "      <td>2024</td>\n",
       "      <td>Kurnool</td>\n",
       "      <td>Tomato</td>\n",
       "      <td>2704.371585</td>\n",
       "      <td>2370.491803</td>\n",
       "      <td>3015.519126</td>\n",
       "    </tr>\n",
       "    <tr>\n",
       "      <th>174</th>\n",
       "      <td>2024</td>\n",
       "      <td>Visakhapatnam</td>\n",
       "      <td>Gur(Jaggery)</td>\n",
       "      <td>3860.744467</td>\n",
       "      <td>3660.000000</td>\n",
       "      <td>4061.503018</td>\n",
       "    </tr>\n",
       "  </tbody>\n",
       "</table>\n",
       "<p>175 rows × 6 columns</p>\n",
       "</div>"
      ],
      "text/plain": [
       "     year  district_name     commodity  modal_rs_quintal  min_rs_quintal  \\\n",
       "0    2014        Chittor  Gur(Jaggery)       2001.063830     1606.382979   \n",
       "1    2014        Chittor        Tomato        893.751124      671.805097   \n",
       "2    2014  East Godavari  Gur(Jaggery)       3210.204082     3010.204082   \n",
       "3    2014         Guntur          Rice       4092.584746     4002.118644   \n",
       "4    2014        Krishna        Potato       2846.846847     2737.837838   \n",
       "..    ...            ...           ...               ...             ...   \n",
       "170  2024        Chittor        Potato       2235.200000     1691.200000   \n",
       "171  2024        Chittor        Tomato       2668.576598     2130.211098   \n",
       "172  2024        Kurnool         Onion       2120.181495     1689.224199   \n",
       "173  2024        Kurnool        Tomato       2704.371585     2370.491803   \n",
       "174  2024  Visakhapatnam  Gur(Jaggery)       3860.744467     3660.000000   \n",
       "\n",
       "     max_rs_quintal  \n",
       "0       2018.765957  \n",
       "1       1129.007496  \n",
       "2       3446.938776  \n",
       "3       4182.203390  \n",
       "4       2946.846847  \n",
       "..              ...  \n",
       "170     2847.200000  \n",
       "171     3160.291918  \n",
       "172     2416.715302  \n",
       "173     3015.519126  \n",
       "174     4061.503018  \n",
       "\n",
       "[175 rows x 6 columns]"
      ]
     },
     "execution_count": 30,
     "metadata": {},
     "output_type": "execute_result"
    }
   ],
   "source": [
    "andhra_yearly_district"
   ]
  },
  {
   "cell_type": "code",
   "execution_count": null,
   "metadata": {},
   "outputs": [
    {
     "data": {
      "application/vnd.plotly.v1+json": {
       "config": {
        "plotlyServerURL": "https://plot.ly"
       },
       "data": [
        {
         "alignmentgroup": "True",
         "hovertemplate": "commodity=Arhar Dal(Tur Dal)<br>year=%{x}<br>value=%{y}<extra></extra>",
         "legendgroup": "Arhar Dal(Tur Dal)",
         "marker": {
          "color": "#636efa",
          "pattern": {
           "shape": ""
          }
         },
         "name": "Arhar Dal(Tur Dal)",
         "offsetgroup": "Arhar Dal(Tur Dal)",
         "orientation": "v",
         "showlegend": true,
         "textposition": "auto",
         "type": "bar",
         "x": [
          "2014",
          "2015",
          "2016",
          "2017",
          "2018",
          "2019",
          "2020",
          "2021",
          "2022",
          "2023",
          "2024"
         ],
         "xaxis": "x",
         "y": [
          0,
          0,
          5000,
          0,
          0,
          0,
          0,
          0,
          0,
          0,
          0
         ],
         "yaxis": "y"
        },
        {
         "alignmentgroup": "True",
         "hovertemplate": "commodity=Bengal Gram Dal (Chana Dal)<br>year=%{x}<br>value=%{y}<extra></extra>",
         "legendgroup": "Bengal Gram Dal (Chana Dal)",
         "marker": {
          "color": "#EF553B",
          "pattern": {
           "shape": ""
          }
         },
         "name": "Bengal Gram Dal (Chana Dal)",
         "offsetgroup": "Bengal Gram Dal (Chana Dal)",
         "orientation": "v",
         "showlegend": true,
         "textposition": "auto",
         "type": "bar",
         "x": [
          "2014",
          "2015",
          "2016",
          "2017",
          "2018",
          "2019",
          "2020",
          "2021",
          "2022",
          "2023",
          "2024"
         ],
         "xaxis": "x",
         "y": [
          0,
          0,
          5608.333333333334,
          0,
          0,
          0,
          0,
          0,
          0,
          0,
          0
         ],
         "yaxis": "y"
        },
        {
         "alignmentgroup": "True",
         "hovertemplate": "commodity=Green Gram Dal (Moong Dal)<br>year=%{x}<br>value=%{y}<extra></extra>",
         "legendgroup": "Green Gram Dal (Moong Dal)",
         "marker": {
          "color": "#00cc96",
          "pattern": {
           "shape": ""
          }
         },
         "name": "Green Gram Dal (Moong Dal)",
         "offsetgroup": "Green Gram Dal (Moong Dal)",
         "orientation": "v",
         "showlegend": true,
         "textposition": "auto",
         "type": "bar",
         "x": [
          "2014",
          "2015",
          "2016",
          "2017",
          "2018",
          "2019",
          "2020",
          "2021",
          "2022",
          "2023",
          "2024"
         ],
         "xaxis": "x",
         "y": [
          0,
          3400,
          0,
          0,
          0,
          0,
          0,
          0,
          0,
          0,
          0
         ],
         "yaxis": "y"
        },
        {
         "alignmentgroup": "True",
         "hovertemplate": "commodity=Gur(Jaggery)<br>year=%{x}<br>value=%{y}<extra></extra>",
         "legendgroup": "Gur(Jaggery)",
         "marker": {
          "color": "#ab63fa",
          "pattern": {
           "shape": ""
          }
         },
         "name": "Gur(Jaggery)",
         "offsetgroup": "Gur(Jaggery)",
         "orientation": "v",
         "showlegend": true,
         "textposition": "auto",
         "type": "bar",
         "x": [
          "2014",
          "2015",
          "2016",
          "2017",
          "2018",
          "2019",
          "2020",
          "2021",
          "2022",
          "2023",
          "2024"
         ],
         "xaxis": "x",
         "y": [
          2700.1653385107093,
          2389.77853093888,
          2176.456657149555,
          2964.7930797012937,
          2729.59062802236,
          2899.2552491972638,
          3638.076409978308,
          3502.125898876405,
          3251.936296689419,
          3604.822411123382,
          3660.760164434885
         ],
         "yaxis": "y"
        },
        {
         "alignmentgroup": "True",
         "hovertemplate": "commodity=Masur Dal<br>year=%{x}<br>value=%{y}<extra></extra>",
         "legendgroup": "Masur Dal",
         "marker": {
          "color": "#FFA15A",
          "pattern": {
           "shape": ""
          }
         },
         "name": "Masur Dal",
         "offsetgroup": "Masur Dal",
         "orientation": "v",
         "showlegend": true,
         "textposition": "auto",
         "type": "bar",
         "x": [
          "2014",
          "2015",
          "2016",
          "2017",
          "2018",
          "2019",
          "2020",
          "2021",
          "2022",
          "2023",
          "2024"
         ],
         "xaxis": "x",
         "y": [
          0,
          6068,
          0,
          0,
          0,
          0,
          0,
          0,
          0,
          0,
          0
         ],
         "yaxis": "y"
        },
        {
         "alignmentgroup": "True",
         "hovertemplate": "commodity=Onion<br>year=%{x}<br>value=%{y}<extra></extra>",
         "legendgroup": "Onion",
         "marker": {
          "color": "#19d3f3",
          "pattern": {
           "shape": ""
          }
         },
         "name": "Onion",
         "offsetgroup": "Onion",
         "orientation": "v",
         "showlegend": true,
         "textposition": "auto",
         "type": "bar",
         "x": [
          "2014",
          "2015",
          "2016",
          "2017",
          "2018",
          "2019",
          "2020",
          "2021",
          "2022",
          "2023",
          "2024"
         ],
         "xaxis": "x",
         "y": [
          1276.4574595139484,
          1979.5096597890085,
          1148.8588578043698,
          1106.9320285765207,
          968.495983935743,
          1479.631678359417,
          3413.037037037037,
          1927.903370786517,
          1432.018581081081,
          1636.8724832214766,
          2120.1814946619215
         ],
         "yaxis": "y"
        },
        {
         "alignmentgroup": "True",
         "hovertemplate": "commodity=Potato<br>year=%{x}<br>value=%{y}<extra></extra>",
         "legendgroup": "Potato",
         "marker": {
          "color": "#FF6692",
          "pattern": {
           "shape": ""
          }
         },
         "name": "Potato",
         "offsetgroup": "Potato",
         "orientation": "v",
         "showlegend": true,
         "textposition": "auto",
         "type": "bar",
         "x": [
          "2014",
          "2015",
          "2016",
          "2017",
          "2018",
          "2019",
          "2020",
          "2021",
          "2022",
          "2023",
          "2024"
         ],
         "xaxis": "x",
         "y": [
          2197.102041961855,
          1328.9322088858737,
          1682.6734367673455,
          1103.4600633952768,
          750.6127450980392,
          1260.4,
          0,
          0,
          1622.9166666666667,
          1512.3456790123457,
          2235.2
         ],
         "yaxis": "y"
        },
        {
         "alignmentgroup": "True",
         "hovertemplate": "commodity=Rice<br>year=%{x}<br>value=%{y}<extra></extra>",
         "legendgroup": "Rice",
         "marker": {
          "color": "#B6E880",
          "pattern": {
           "shape": ""
          }
         },
         "name": "Rice",
         "offsetgroup": "Rice",
         "orientation": "v",
         "showlegend": true,
         "textposition": "auto",
         "type": "bar",
         "x": [
          "2014",
          "2015",
          "2016",
          "2017",
          "2018",
          "2019",
          "2020",
          "2021",
          "2022",
          "2023",
          "2024"
         ],
         "xaxis": "x",
         "y": [
          3451.9480795528016,
          3463.8282401719553,
          3447.7012055424134,
          3512.107945622469,
          3879.196103896104,
          4011.5231990231987,
          0,
          0,
          0,
          0,
          0
         ],
         "yaxis": "y"
        },
        {
         "alignmentgroup": "True",
         "hovertemplate": "commodity=Tomato<br>year=%{x}<br>value=%{y}<extra></extra>",
         "legendgroup": "Tomato",
         "marker": {
          "color": "#FF97FF",
          "pattern": {
           "shape": ""
          }
         },
         "name": "Tomato",
         "offsetgroup": "Tomato",
         "orientation": "v",
         "showlegend": true,
         "textposition": "auto",
         "type": "bar",
         "x": [
          "2014",
          "2015",
          "2016",
          "2017",
          "2018",
          "2019",
          "2020",
          "2021",
          "2022",
          "2023",
          "2024"
         ],
         "xaxis": "x",
         "y": [
          1246.8453377296544,
          1529.8477891087637,
          1403.8529323529247,
          1310.9568975502439,
          452.6560706521739,
          1660.900813186594,
          1411.2096553290235,
          1730.647389558233,
          1545.5587970732768,
          2070.6763882843106,
          2686.474091505336
         ],
         "yaxis": "y"
        },
        {
         "alignmentgroup": "True",
         "hovertemplate": "commodity=Wheat<br>year=%{x}<br>value=%{y}<extra></extra>",
         "legendgroup": "Wheat",
         "marker": {
          "color": "#FECB52",
          "pattern": {
           "shape": ""
          }
         },
         "name": "Wheat",
         "offsetgroup": "Wheat",
         "orientation": "v",
         "showlegend": true,
         "textposition": "auto",
         "type": "bar",
         "x": [
          "2014",
          "2015",
          "2016",
          "2017",
          "2018",
          "2019",
          "2020",
          "2021",
          "2022",
          "2023",
          "2024"
         ],
         "xaxis": "x",
         "y": [
          2211.1111111111113,
          2241.358108108108,
          2117.25,
          3100,
          0,
          0,
          0,
          0,
          0,
          0,
          0
         ],
         "yaxis": "y"
        }
       ],
       "layout": {
        "barmode": "group",
        "legend": {
         "title": {
          "text": "commodity"
         },
         "tracegroupgap": 0
        },
        "margin": {
         "t": 60
        },
        "template": {
         "data": {
          "bar": [
           {
            "error_x": {
             "color": "#2a3f5f"
            },
            "error_y": {
             "color": "#2a3f5f"
            },
            "marker": {
             "line": {
              "color": "#E5ECF6",
              "width": 0.5
             },
             "pattern": {
              "fillmode": "overlay",
              "size": 10,
              "solidity": 0.2
             }
            },
            "type": "bar"
           }
          ],
          "barpolar": [
           {
            "marker": {
             "line": {
              "color": "#E5ECF6",
              "width": 0.5
             },
             "pattern": {
              "fillmode": "overlay",
              "size": 10,
              "solidity": 0.2
             }
            },
            "type": "barpolar"
           }
          ],
          "carpet": [
           {
            "aaxis": {
             "endlinecolor": "#2a3f5f",
             "gridcolor": "white",
             "linecolor": "white",
             "minorgridcolor": "white",
             "startlinecolor": "#2a3f5f"
            },
            "baxis": {
             "endlinecolor": "#2a3f5f",
             "gridcolor": "white",
             "linecolor": "white",
             "minorgridcolor": "white",
             "startlinecolor": "#2a3f5f"
            },
            "type": "carpet"
           }
          ],
          "choropleth": [
           {
            "colorbar": {
             "outlinewidth": 0,
             "ticks": ""
            },
            "type": "choropleth"
           }
          ],
          "contour": [
           {
            "colorbar": {
             "outlinewidth": 0,
             "ticks": ""
            },
            "colorscale": [
             [
              0,
              "#0d0887"
             ],
             [
              0.1111111111111111,
              "#46039f"
             ],
             [
              0.2222222222222222,
              "#7201a8"
             ],
             [
              0.3333333333333333,
              "#9c179e"
             ],
             [
              0.4444444444444444,
              "#bd3786"
             ],
             [
              0.5555555555555556,
              "#d8576b"
             ],
             [
              0.6666666666666666,
              "#ed7953"
             ],
             [
              0.7777777777777778,
              "#fb9f3a"
             ],
             [
              0.8888888888888888,
              "#fdca26"
             ],
             [
              1,
              "#f0f921"
             ]
            ],
            "type": "contour"
           }
          ],
          "contourcarpet": [
           {
            "colorbar": {
             "outlinewidth": 0,
             "ticks": ""
            },
            "type": "contourcarpet"
           }
          ],
          "heatmap": [
           {
            "colorbar": {
             "outlinewidth": 0,
             "ticks": ""
            },
            "colorscale": [
             [
              0,
              "#0d0887"
             ],
             [
              0.1111111111111111,
              "#46039f"
             ],
             [
              0.2222222222222222,
              "#7201a8"
             ],
             [
              0.3333333333333333,
              "#9c179e"
             ],
             [
              0.4444444444444444,
              "#bd3786"
             ],
             [
              0.5555555555555556,
              "#d8576b"
             ],
             [
              0.6666666666666666,
              "#ed7953"
             ],
             [
              0.7777777777777778,
              "#fb9f3a"
             ],
             [
              0.8888888888888888,
              "#fdca26"
             ],
             [
              1,
              "#f0f921"
             ]
            ],
            "type": "heatmap"
           }
          ],
          "heatmapgl": [
           {
            "colorbar": {
             "outlinewidth": 0,
             "ticks": ""
            },
            "colorscale": [
             [
              0,
              "#0d0887"
             ],
             [
              0.1111111111111111,
              "#46039f"
             ],
             [
              0.2222222222222222,
              "#7201a8"
             ],
             [
              0.3333333333333333,
              "#9c179e"
             ],
             [
              0.4444444444444444,
              "#bd3786"
             ],
             [
              0.5555555555555556,
              "#d8576b"
             ],
             [
              0.6666666666666666,
              "#ed7953"
             ],
             [
              0.7777777777777778,
              "#fb9f3a"
             ],
             [
              0.8888888888888888,
              "#fdca26"
             ],
             [
              1,
              "#f0f921"
             ]
            ],
            "type": "heatmapgl"
           }
          ],
          "histogram": [
           {
            "marker": {
             "pattern": {
              "fillmode": "overlay",
              "size": 10,
              "solidity": 0.2
             }
            },
            "type": "histogram"
           }
          ],
          "histogram2d": [
           {
            "colorbar": {
             "outlinewidth": 0,
             "ticks": ""
            },
            "colorscale": [
             [
              0,
              "#0d0887"
             ],
             [
              0.1111111111111111,
              "#46039f"
             ],
             [
              0.2222222222222222,
              "#7201a8"
             ],
             [
              0.3333333333333333,
              "#9c179e"
             ],
             [
              0.4444444444444444,
              "#bd3786"
             ],
             [
              0.5555555555555556,
              "#d8576b"
             ],
             [
              0.6666666666666666,
              "#ed7953"
             ],
             [
              0.7777777777777778,
              "#fb9f3a"
             ],
             [
              0.8888888888888888,
              "#fdca26"
             ],
             [
              1,
              "#f0f921"
             ]
            ],
            "type": "histogram2d"
           }
          ],
          "histogram2dcontour": [
           {
            "colorbar": {
             "outlinewidth": 0,
             "ticks": ""
            },
            "colorscale": [
             [
              0,
              "#0d0887"
             ],
             [
              0.1111111111111111,
              "#46039f"
             ],
             [
              0.2222222222222222,
              "#7201a8"
             ],
             [
              0.3333333333333333,
              "#9c179e"
             ],
             [
              0.4444444444444444,
              "#bd3786"
             ],
             [
              0.5555555555555556,
              "#d8576b"
             ],
             [
              0.6666666666666666,
              "#ed7953"
             ],
             [
              0.7777777777777778,
              "#fb9f3a"
             ],
             [
              0.8888888888888888,
              "#fdca26"
             ],
             [
              1,
              "#f0f921"
             ]
            ],
            "type": "histogram2dcontour"
           }
          ],
          "mesh3d": [
           {
            "colorbar": {
             "outlinewidth": 0,
             "ticks": ""
            },
            "type": "mesh3d"
           }
          ],
          "parcoords": [
           {
            "line": {
             "colorbar": {
              "outlinewidth": 0,
              "ticks": ""
             }
            },
            "type": "parcoords"
           }
          ],
          "pie": [
           {
            "automargin": true,
            "type": "pie"
           }
          ],
          "scatter": [
           {
            "fillpattern": {
             "fillmode": "overlay",
             "size": 10,
             "solidity": 0.2
            },
            "type": "scatter"
           }
          ],
          "scatter3d": [
           {
            "line": {
             "colorbar": {
              "outlinewidth": 0,
              "ticks": ""
             }
            },
            "marker": {
             "colorbar": {
              "outlinewidth": 0,
              "ticks": ""
             }
            },
            "type": "scatter3d"
           }
          ],
          "scattercarpet": [
           {
            "marker": {
             "colorbar": {
              "outlinewidth": 0,
              "ticks": ""
             }
            },
            "type": "scattercarpet"
           }
          ],
          "scattergeo": [
           {
            "marker": {
             "colorbar": {
              "outlinewidth": 0,
              "ticks": ""
             }
            },
            "type": "scattergeo"
           }
          ],
          "scattergl": [
           {
            "marker": {
             "colorbar": {
              "outlinewidth": 0,
              "ticks": ""
             }
            },
            "type": "scattergl"
           }
          ],
          "scattermapbox": [
           {
            "marker": {
             "colorbar": {
              "outlinewidth": 0,
              "ticks": ""
             }
            },
            "type": "scattermapbox"
           }
          ],
          "scatterpolar": [
           {
            "marker": {
             "colorbar": {
              "outlinewidth": 0,
              "ticks": ""
             }
            },
            "type": "scatterpolar"
           }
          ],
          "scatterpolargl": [
           {
            "marker": {
             "colorbar": {
              "outlinewidth": 0,
              "ticks": ""
             }
            },
            "type": "scatterpolargl"
           }
          ],
          "scatterternary": [
           {
            "marker": {
             "colorbar": {
              "outlinewidth": 0,
              "ticks": ""
             }
            },
            "type": "scatterternary"
           }
          ],
          "surface": [
           {
            "colorbar": {
             "outlinewidth": 0,
             "ticks": ""
            },
            "colorscale": [
             [
              0,
              "#0d0887"
             ],
             [
              0.1111111111111111,
              "#46039f"
             ],
             [
              0.2222222222222222,
              "#7201a8"
             ],
             [
              0.3333333333333333,
              "#9c179e"
             ],
             [
              0.4444444444444444,
              "#bd3786"
             ],
             [
              0.5555555555555556,
              "#d8576b"
             ],
             [
              0.6666666666666666,
              "#ed7953"
             ],
             [
              0.7777777777777778,
              "#fb9f3a"
             ],
             [
              0.8888888888888888,
              "#fdca26"
             ],
             [
              1,
              "#f0f921"
             ]
            ],
            "type": "surface"
           }
          ],
          "table": [
           {
            "cells": {
             "fill": {
              "color": "#EBF0F8"
             },
             "line": {
              "color": "white"
             }
            },
            "header": {
             "fill": {
              "color": "#C8D4E3"
             },
             "line": {
              "color": "white"
             }
            },
            "type": "table"
           }
          ]
         },
         "layout": {
          "annotationdefaults": {
           "arrowcolor": "#2a3f5f",
           "arrowhead": 0,
           "arrowwidth": 1
          },
          "autotypenumbers": "strict",
          "coloraxis": {
           "colorbar": {
            "outlinewidth": 0,
            "ticks": ""
           }
          },
          "colorscale": {
           "diverging": [
            [
             0,
             "#8e0152"
            ],
            [
             0.1,
             "#c51b7d"
            ],
            [
             0.2,
             "#de77ae"
            ],
            [
             0.3,
             "#f1b6da"
            ],
            [
             0.4,
             "#fde0ef"
            ],
            [
             0.5,
             "#f7f7f7"
            ],
            [
             0.6,
             "#e6f5d0"
            ],
            [
             0.7,
             "#b8e186"
            ],
            [
             0.8,
             "#7fbc41"
            ],
            [
             0.9,
             "#4d9221"
            ],
            [
             1,
             "#276419"
            ]
           ],
           "sequential": [
            [
             0,
             "#0d0887"
            ],
            [
             0.1111111111111111,
             "#46039f"
            ],
            [
             0.2222222222222222,
             "#7201a8"
            ],
            [
             0.3333333333333333,
             "#9c179e"
            ],
            [
             0.4444444444444444,
             "#bd3786"
            ],
            [
             0.5555555555555556,
             "#d8576b"
            ],
            [
             0.6666666666666666,
             "#ed7953"
            ],
            [
             0.7777777777777778,
             "#fb9f3a"
            ],
            [
             0.8888888888888888,
             "#fdca26"
            ],
            [
             1,
             "#f0f921"
            ]
           ],
           "sequentialminus": [
            [
             0,
             "#0d0887"
            ],
            [
             0.1111111111111111,
             "#46039f"
            ],
            [
             0.2222222222222222,
             "#7201a8"
            ],
            [
             0.3333333333333333,
             "#9c179e"
            ],
            [
             0.4444444444444444,
             "#bd3786"
            ],
            [
             0.5555555555555556,
             "#d8576b"
            ],
            [
             0.6666666666666666,
             "#ed7953"
            ],
            [
             0.7777777777777778,
             "#fb9f3a"
            ],
            [
             0.8888888888888888,
             "#fdca26"
            ],
            [
             1,
             "#f0f921"
            ]
           ]
          },
          "colorway": [
           "#636efa",
           "#EF553B",
           "#00cc96",
           "#ab63fa",
           "#FFA15A",
           "#19d3f3",
           "#FF6692",
           "#B6E880",
           "#FF97FF",
           "#FECB52"
          ],
          "font": {
           "color": "#2a3f5f"
          },
          "geo": {
           "bgcolor": "white",
           "lakecolor": "white",
           "landcolor": "#E5ECF6",
           "showlakes": true,
           "showland": true,
           "subunitcolor": "white"
          },
          "hoverlabel": {
           "align": "left"
          },
          "hovermode": "closest",
          "mapbox": {
           "style": "light"
          },
          "paper_bgcolor": "white",
          "plot_bgcolor": "#E5ECF6",
          "polar": {
           "angularaxis": {
            "gridcolor": "white",
            "linecolor": "white",
            "ticks": ""
           },
           "bgcolor": "#E5ECF6",
           "radialaxis": {
            "gridcolor": "white",
            "linecolor": "white",
            "ticks": ""
           }
          },
          "scene": {
           "xaxis": {
            "backgroundcolor": "#E5ECF6",
            "gridcolor": "white",
            "gridwidth": 2,
            "linecolor": "white",
            "showbackground": true,
            "ticks": "",
            "zerolinecolor": "white"
           },
           "yaxis": {
            "backgroundcolor": "#E5ECF6",
            "gridcolor": "white",
            "gridwidth": 2,
            "linecolor": "white",
            "showbackground": true,
            "ticks": "",
            "zerolinecolor": "white"
           },
           "zaxis": {
            "backgroundcolor": "#E5ECF6",
            "gridcolor": "white",
            "gridwidth": 2,
            "linecolor": "white",
            "showbackground": true,
            "ticks": "",
            "zerolinecolor": "white"
           }
          },
          "shapedefaults": {
           "line": {
            "color": "#2a3f5f"
           }
          },
          "ternary": {
           "aaxis": {
            "gridcolor": "white",
            "linecolor": "white",
            "ticks": ""
           },
           "baxis": {
            "gridcolor": "white",
            "linecolor": "white",
            "ticks": ""
           },
           "bgcolor": "#E5ECF6",
           "caxis": {
            "gridcolor": "white",
            "linecolor": "white",
            "ticks": ""
           }
          },
          "title": {
           "x": 0.05
          },
          "xaxis": {
           "automargin": true,
           "gridcolor": "white",
           "linecolor": "white",
           "ticks": "",
           "title": {
            "standoff": 15
           },
           "zerolinecolor": "white",
           "zerolinewidth": 2
          },
          "yaxis": {
           "automargin": true,
           "gridcolor": "white",
           "linecolor": "white",
           "ticks": "",
           "title": {
            "standoff": 15
           },
           "zerolinecolor": "white",
           "zerolinewidth": 2
          }
         }
        },
        "xaxis": {
         "anchor": "y",
         "domain": [
          0,
          1
         ],
         "gridcolor": "#bbbbbb",
         "showgrid": true,
         "title": {
          "text": "year"
         }
        },
        "yaxis": {
         "anchor": "x",
         "domain": [
          0,
          1
         ],
         "showgrid": false,
         "title": {
          "text": "value"
         }
        }
       }
      }
     },
     "metadata": {},
     "output_type": "display_data"
    }
   ],
   "source": [
    "# Pivot the DataFrame to create separate columns for each district\n",
    "ap_pivoted_df = andhra_yearly_district.pivot_table(\n",
    "    index=\"year\", columns=\"commodity\", values=\"modal_rs_quintal\", fill_value=0\n",
    ")\n",
    "\n",
    "# Create the grouped bar chart\n",
    "fig = px.bar(\n",
    "    data_frame=ap_pivoted_df,\n",
    "    barmode=\"group\",\n",
    ")\n",
    "fig.update_layout(\n",
    "    xaxis_showgrid=True,  # Add grid lines on the x-axis\n",
    "    yaxis_showgrid=False\n",
    ")\n",
    "\n",
    "# Optionally, customize grid line appearance\n",
    "fig.update_layout(\n",
    "    xaxis_gridcolor=\"#bbbbbb\",  # Set grid line color for x-axis\n",
    ")\n",
    "fig.show()"
   ]
  },
  {
   "cell_type": "code",
   "execution_count": null,
   "metadata": {},
   "outputs": [
    {
     "data": {
      "application/vnd.plotly.v1+json": {
       "config": {
        "plotlyServerURL": "https://plot.ly"
       },
       "data": [
        {
         "alignmentgroup": "True",
         "hovertemplate": "commodity=Arhar Dal(Tur Dal)<br>year=%{x}<br>value=%{y}<extra></extra>",
         "legendgroup": "Arhar Dal(Tur Dal)",
         "marker": {
          "color": "#636efa",
          "pattern": {
           "shape": ""
          }
         },
         "name": "Arhar Dal(Tur Dal)",
         "offsetgroup": "Arhar Dal(Tur Dal)",
         "orientation": "v",
         "showlegend": true,
         "textposition": "auto",
         "type": "bar",
         "x": [
          "2014",
          "2015",
          "2016",
          "2017",
          "2018",
          "2019",
          "2020",
          "2021",
          "2022",
          "2023",
          "2024"
         ],
         "xaxis": "x",
         "y": [
          6774.19480278176,
          0,
          8689.046957671957,
          6001.693414600472,
          5936.985119986877,
          7363.303090496211,
          8345.82162024204,
          9153.863039584072,
          9186.330769804692,
          11614.226052878781,
          14183.076489538349
         ],
         "yaxis": "y"
        },
        {
         "alignmentgroup": "True",
         "hovertemplate": "commodity=Bengal Gram Dal (Chana Dal)<br>year=%{x}<br>value=%{y}<extra></extra>",
         "legendgroup": "Bengal Gram Dal (Chana Dal)",
         "marker": {
          "color": "#EF553B",
          "pattern": {
           "shape": ""
          }
         },
         "name": "Bengal Gram Dal (Chana Dal)",
         "offsetgroup": "Bengal Gram Dal (Chana Dal)",
         "orientation": "v",
         "showlegend": true,
         "textposition": "auto",
         "type": "bar",
         "x": [
          "2014",
          "2015",
          "2016",
          "2017",
          "2018",
          "2019",
          "2020",
          "2021",
          "2022",
          "2023",
          "2024"
         ],
         "xaxis": "x",
         "y": [
          4024.4550865800866,
          4000,
          8885.77380952381,
          6696.95112754241,
          5350.09841223632,
          5634.205623787039,
          5925.732598244794,
          6395.903410855871,
          6266.637885855939,
          6410.846562314598,
          7370.1291700720085
         ],
         "yaxis": "y"
        },
        {
         "alignmentgroup": "True",
         "hovertemplate": "commodity=Black Gram Dal (Urd Dal)<br>year=%{x}<br>value=%{y}<extra></extra>",
         "legendgroup": "Black Gram Dal (Urd Dal)",
         "marker": {
          "color": "#00cc96",
          "pattern": {
           "shape": ""
          }
         },
         "name": "Black Gram Dal (Urd Dal)",
         "offsetgroup": "Black Gram Dal (Urd Dal)",
         "orientation": "v",
         "showlegend": true,
         "textposition": "auto",
         "type": "bar",
         "x": [
          "2014",
          "2015",
          "2016",
          "2017",
          "2018",
          "2019",
          "2020",
          "2021",
          "2022",
          "2023",
          "2024"
         ],
         "xaxis": "x",
         "y": [
          6581.5443345277035,
          0,
          10039.612698412699,
          9884.08676770553,
          5835.477166367975,
          6672.087530112293,
          8591.755500744423,
          8983.409320219484,
          8788.412283252143,
          9263.548430789066,
          10073.87611574206
         ],
         "yaxis": "y"
        },
        {
         "alignmentgroup": "True",
         "hovertemplate": "commodity=Dalda<br>year=%{x}<br>value=%{y}<extra></extra>",
         "legendgroup": "Dalda",
         "marker": {
          "color": "#ab63fa",
          "pattern": {
           "shape": ""
          }
         },
         "name": "Dalda",
         "offsetgroup": "Dalda",
         "orientation": "v",
         "showlegend": true,
         "textposition": "auto",
         "type": "bar",
         "x": [
          "2014",
          "2015",
          "2016",
          "2017",
          "2018",
          "2019",
          "2020",
          "2021",
          "2022",
          "2023",
          "2024"
         ],
         "xaxis": "x",
         "y": [
          0,
          0,
          0,
          0,
          0,
          6925,
          0,
          0,
          0,
          0,
          0
         ],
         "yaxis": "y"
        },
        {
         "alignmentgroup": "True",
         "hovertemplate": "commodity=Green Gram Dal (Moong Dal)<br>year=%{x}<br>value=%{y}<extra></extra>",
         "legendgroup": "Green Gram Dal (Moong Dal)",
         "marker": {
          "color": "#FFA15A",
          "pattern": {
           "shape": ""
          }
         },
         "name": "Green Gram Dal (Moong Dal)",
         "offsetgroup": "Green Gram Dal (Moong Dal)",
         "orientation": "v",
         "showlegend": true,
         "textposition": "auto",
         "type": "bar",
         "x": [
          "2014",
          "2015",
          "2016",
          "2017",
          "2018",
          "2019",
          "2020",
          "2021",
          "2022",
          "2023",
          "2024"
         ],
         "xaxis": "x",
         "y": [
          0,
          0,
          8134,
          5898.928160017742,
          6029.165939633929,
          7040.923831129451,
          8681.454347383607,
          8552.176025858846,
          8647.654234411239,
          9095.072231789782,
          9894.752621762296
         ],
         "yaxis": "y"
        },
        {
         "alignmentgroup": "True",
         "hovertemplate": "commodity=Gur(Jaggery)<br>year=%{x}<br>value=%{y}<extra></extra>",
         "legendgroup": "Gur(Jaggery)",
         "marker": {
          "color": "#19d3f3",
          "pattern": {
           "shape": ""
          }
         },
         "name": "Gur(Jaggery)",
         "offsetgroup": "Gur(Jaggery)",
         "orientation": "v",
         "showlegend": true,
         "textposition": "auto",
         "type": "bar",
         "x": [
          "2014",
          "2015",
          "2016",
          "2017",
          "2018",
          "2019",
          "2020",
          "2021",
          "2022",
          "2023",
          "2024"
         ],
         "xaxis": "x",
         "y": [
          3020.918807967031,
          2858.288179607942,
          3130.9521346094816,
          3246.797920828928,
          3040.078946170258,
          3029.322847017519,
          3278.3578616035784,
          3330.9929213661717,
          3555.7966362190978,
          3701.5982397743933,
          4048.95022053945
         ],
         "yaxis": "y"
        },
        {
         "alignmentgroup": "True",
         "hovertemplate": "commodity=Masur Dal<br>year=%{x}<br>value=%{y}<extra></extra>",
         "legendgroup": "Masur Dal",
         "marker": {
          "color": "#FF6692",
          "pattern": {
           "shape": ""
          }
         },
         "name": "Masur Dal",
         "offsetgroup": "Masur Dal",
         "orientation": "v",
         "showlegend": true,
         "textposition": "auto",
         "type": "bar",
         "x": [
          "2014",
          "2015",
          "2016",
          "2017",
          "2018",
          "2019",
          "2020",
          "2021",
          "2022",
          "2023",
          "2024"
         ],
         "xaxis": "x",
         "y": [
          5546.010416666667,
          0,
          7788.90625,
          4893.476175854574,
          4916.081994984948,
          5583.185326671413,
          6426.430448983921,
          7789.170670334305,
          8182.439073939293,
          8070.5173259793555,
          8207.551382830847
         ],
         "yaxis": "y"
        },
        {
         "alignmentgroup": "True",
         "hovertemplate": "commodity=Mustard Oil<br>year=%{x}<br>value=%{y}<extra></extra>",
         "legendgroup": "Mustard Oil",
         "marker": {
          "color": "#B6E880",
          "pattern": {
           "shape": ""
          }
         },
         "name": "Mustard Oil",
         "offsetgroup": "Mustard Oil",
         "orientation": "v",
         "showlegend": true,
         "textposition": "auto",
         "type": "bar",
         "x": [
          "2014",
          "2015",
          "2016",
          "2017",
          "2018",
          "2019",
          "2020",
          "2021",
          "2022",
          "2023",
          "2024"
         ],
         "xaxis": "x",
         "y": [
          7898.612835227408,
          8228.466895726047,
          8771.636868643482,
          8590.000280383536,
          8853.769423678756,
          9137.159280037202,
          10166.082328446442,
          14310.436160435695,
          15838.541532455805,
          13476.087490257154,
          12854.613398206482
         ],
         "yaxis": "y"
        },
        {
         "alignmentgroup": "True",
         "hovertemplate": "commodity=Onion<br>year=%{x}<br>value=%{y}<extra></extra>",
         "legendgroup": "Onion",
         "marker": {
          "color": "#FF97FF",
          "pattern": {
           "shape": ""
          }
         },
         "name": "Onion",
         "offsetgroup": "Onion",
         "orientation": "v",
         "showlegend": true,
         "textposition": "auto",
         "type": "bar",
         "x": [
          "2014",
          "2015",
          "2016",
          "2017",
          "2018",
          "2019",
          "2020",
          "2021",
          "2022",
          "2023",
          "2024"
         ],
         "xaxis": "x",
         "y": [
          1592.0695185713196,
          2110.765411058582,
          957.8269468712035,
          1445.8270632226267,
          1419.7398681694804,
          1669.9212095289301,
          2241.912673129002,
          2076.4752702087444,
          1547.3511736761072,
          1754.1826985687233,
          2053.5739048528953
         ],
         "yaxis": "y"
        },
        {
         "alignmentgroup": "True",
         "hovertemplate": "commodity=Potato<br>year=%{x}<br>value=%{y}<extra></extra>",
         "legendgroup": "Potato",
         "marker": {
          "color": "#FECB52",
          "pattern": {
           "shape": ""
          }
         },
         "name": "Potato",
         "offsetgroup": "Potato",
         "orientation": "v",
         "showlegend": true,
         "textposition": "auto",
         "type": "bar",
         "x": [
          "2014",
          "2015",
          "2016",
          "2017",
          "2018",
          "2019",
          "2020",
          "2021",
          "2022",
          "2023",
          "2024"
         ],
         "xaxis": "x",
         "y": [
          1567.8019162309497,
          639.0596685438758,
          1001.339592177597,
          502.8695273508717,
          988.3625352645574,
          777.6067067355875,
          1819.071117359476,
          957.5477250072729,
          1199.6978447287406,
          926.7382213826077,
          1525.3479937465536
         ],
         "yaxis": "y"
        },
        {
         "alignmentgroup": "True",
         "hovertemplate": "commodity=Rice<br>year=%{x}<br>value=%{y}<extra></extra>",
         "legendgroup": "Rice",
         "marker": {
          "color": "#636efa",
          "pattern": {
           "shape": ""
          }
         },
         "name": "Rice",
         "offsetgroup": "Rice",
         "orientation": "v",
         "showlegend": true,
         "textposition": "auto",
         "type": "bar",
         "x": [
          "2014",
          "2015",
          "2016",
          "2017",
          "2018",
          "2019",
          "2020",
          "2021",
          "2022",
          "2023",
          "2024"
         ],
         "xaxis": "x",
         "y": [
          2045.9424451829304,
          2049.7825055085905,
          2156.7084920839557,
          2242.6118586784132,
          2327.091767908471,
          2463.1665907779256,
          2549.501327545341,
          2477.9136875132667,
          2574.2852668433798,
          2704.6929170702833,
          2959.963966880541
         ],
         "yaxis": "y"
        },
        {
         "alignmentgroup": "True",
         "hovertemplate": "commodity=Sugar<br>year=%{x}<br>value=%{y}<extra></extra>",
         "legendgroup": "Sugar",
         "marker": {
          "color": "#EF553B",
          "pattern": {
           "shape": ""
          }
         },
         "name": "Sugar",
         "offsetgroup": "Sugar",
         "orientation": "v",
         "showlegend": true,
         "textposition": "auto",
         "type": "bar",
         "x": [
          "2014",
          "2015",
          "2016",
          "2017",
          "2018",
          "2019",
          "2020",
          "2021",
          "2022",
          "2023",
          "2024"
         ],
         "xaxis": "x",
         "y": [
          3160.754742498503,
          2821.680781396259,
          3471.1262683751665,
          3803.615205437614,
          3384.3071427760915,
          3423.274218683836,
          3440.4254559869114,
          3540.0753839233407,
          3722.816026930398,
          3861.5821174279527,
          4086.278836030707
         ],
         "yaxis": "y"
        },
        {
         "alignmentgroup": "True",
         "hovertemplate": "commodity=Tomato<br>year=%{x}<br>value=%{y}<extra></extra>",
         "legendgroup": "Tomato",
         "marker": {
          "color": "#00cc96",
          "pattern": {
           "shape": ""
          }
         },
         "name": "Tomato",
         "offsetgroup": "Tomato",
         "orientation": "v",
         "showlegend": true,
         "textposition": "auto",
         "type": "bar",
         "x": [
          "2014",
          "2015",
          "2016",
          "2017",
          "2018",
          "2019",
          "2020",
          "2021",
          "2022",
          "2023",
          "2024"
         ],
         "xaxis": "x",
         "y": [
          1436.0578011341975,
          1509.5131511340996,
          1354.8728188722152,
          1945.546503251475,
          1146.2327311771105,
          1547.8864466019068,
          1909.726652815198,
          1572.996549031463,
          1790.3458450170156,
          1860.6411986107044,
          2090.2777927407424
         ],
         "yaxis": "y"
        },
        {
         "alignmentgroup": "True",
         "hovertemplate": "commodity=Wheat<br>year=%{x}<br>value=%{y}<extra></extra>",
         "legendgroup": "Wheat",
         "marker": {
          "color": "#ab63fa",
          "pattern": {
           "shape": ""
          }
         },
         "name": "Wheat",
         "offsetgroup": "Wheat",
         "orientation": "v",
         "showlegend": true,
         "textposition": "auto",
         "type": "bar",
         "x": [
          "2014",
          "2015",
          "2016",
          "2017",
          "2018",
          "2019",
          "2020",
          "2021",
          "2022",
          "2023",
          "2024"
         ],
         "xaxis": "x",
         "y": [
          1476.8795380542842,
          1493.7178522830966,
          1639.702584884027,
          1622.3268296789215,
          1715.2137356189237,
          1881.4883439962039,
          1877.8820946807111,
          1818.6349879617997,
          2152.1134454812814,
          2336.2338479728996,
          2417.911821759033
         ],
         "yaxis": "y"
        }
       ],
       "layout": {
        "barmode": "group",
        "legend": {
         "title": {
          "text": "commodity"
         },
         "tracegroupgap": 0
        },
        "margin": {
         "t": 60
        },
        "template": {
         "data": {
          "bar": [
           {
            "error_x": {
             "color": "#2a3f5f"
            },
            "error_y": {
             "color": "#2a3f5f"
            },
            "marker": {
             "line": {
              "color": "#E5ECF6",
              "width": 0.5
             },
             "pattern": {
              "fillmode": "overlay",
              "size": 10,
              "solidity": 0.2
             }
            },
            "type": "bar"
           }
          ],
          "barpolar": [
           {
            "marker": {
             "line": {
              "color": "#E5ECF6",
              "width": 0.5
             },
             "pattern": {
              "fillmode": "overlay",
              "size": 10,
              "solidity": 0.2
             }
            },
            "type": "barpolar"
           }
          ],
          "carpet": [
           {
            "aaxis": {
             "endlinecolor": "#2a3f5f",
             "gridcolor": "white",
             "linecolor": "white",
             "minorgridcolor": "white",
             "startlinecolor": "#2a3f5f"
            },
            "baxis": {
             "endlinecolor": "#2a3f5f",
             "gridcolor": "white",
             "linecolor": "white",
             "minorgridcolor": "white",
             "startlinecolor": "#2a3f5f"
            },
            "type": "carpet"
           }
          ],
          "choropleth": [
           {
            "colorbar": {
             "outlinewidth": 0,
             "ticks": ""
            },
            "type": "choropleth"
           }
          ],
          "contour": [
           {
            "colorbar": {
             "outlinewidth": 0,
             "ticks": ""
            },
            "colorscale": [
             [
              0,
              "#0d0887"
             ],
             [
              0.1111111111111111,
              "#46039f"
             ],
             [
              0.2222222222222222,
              "#7201a8"
             ],
             [
              0.3333333333333333,
              "#9c179e"
             ],
             [
              0.4444444444444444,
              "#bd3786"
             ],
             [
              0.5555555555555556,
              "#d8576b"
             ],
             [
              0.6666666666666666,
              "#ed7953"
             ],
             [
              0.7777777777777778,
              "#fb9f3a"
             ],
             [
              0.8888888888888888,
              "#fdca26"
             ],
             [
              1,
              "#f0f921"
             ]
            ],
            "type": "contour"
           }
          ],
          "contourcarpet": [
           {
            "colorbar": {
             "outlinewidth": 0,
             "ticks": ""
            },
            "type": "contourcarpet"
           }
          ],
          "heatmap": [
           {
            "colorbar": {
             "outlinewidth": 0,
             "ticks": ""
            },
            "colorscale": [
             [
              0,
              "#0d0887"
             ],
             [
              0.1111111111111111,
              "#46039f"
             ],
             [
              0.2222222222222222,
              "#7201a8"
             ],
             [
              0.3333333333333333,
              "#9c179e"
             ],
             [
              0.4444444444444444,
              "#bd3786"
             ],
             [
              0.5555555555555556,
              "#d8576b"
             ],
             [
              0.6666666666666666,
              "#ed7953"
             ],
             [
              0.7777777777777778,
              "#fb9f3a"
             ],
             [
              0.8888888888888888,
              "#fdca26"
             ],
             [
              1,
              "#f0f921"
             ]
            ],
            "type": "heatmap"
           }
          ],
          "heatmapgl": [
           {
            "colorbar": {
             "outlinewidth": 0,
             "ticks": ""
            },
            "colorscale": [
             [
              0,
              "#0d0887"
             ],
             [
              0.1111111111111111,
              "#46039f"
             ],
             [
              0.2222222222222222,
              "#7201a8"
             ],
             [
              0.3333333333333333,
              "#9c179e"
             ],
             [
              0.4444444444444444,
              "#bd3786"
             ],
             [
              0.5555555555555556,
              "#d8576b"
             ],
             [
              0.6666666666666666,
              "#ed7953"
             ],
             [
              0.7777777777777778,
              "#fb9f3a"
             ],
             [
              0.8888888888888888,
              "#fdca26"
             ],
             [
              1,
              "#f0f921"
             ]
            ],
            "type": "heatmapgl"
           }
          ],
          "histogram": [
           {
            "marker": {
             "pattern": {
              "fillmode": "overlay",
              "size": 10,
              "solidity": 0.2
             }
            },
            "type": "histogram"
           }
          ],
          "histogram2d": [
           {
            "colorbar": {
             "outlinewidth": 0,
             "ticks": ""
            },
            "colorscale": [
             [
              0,
              "#0d0887"
             ],
             [
              0.1111111111111111,
              "#46039f"
             ],
             [
              0.2222222222222222,
              "#7201a8"
             ],
             [
              0.3333333333333333,
              "#9c179e"
             ],
             [
              0.4444444444444444,
              "#bd3786"
             ],
             [
              0.5555555555555556,
              "#d8576b"
             ],
             [
              0.6666666666666666,
              "#ed7953"
             ],
             [
              0.7777777777777778,
              "#fb9f3a"
             ],
             [
              0.8888888888888888,
              "#fdca26"
             ],
             [
              1,
              "#f0f921"
             ]
            ],
            "type": "histogram2d"
           }
          ],
          "histogram2dcontour": [
           {
            "colorbar": {
             "outlinewidth": 0,
             "ticks": ""
            },
            "colorscale": [
             [
              0,
              "#0d0887"
             ],
             [
              0.1111111111111111,
              "#46039f"
             ],
             [
              0.2222222222222222,
              "#7201a8"
             ],
             [
              0.3333333333333333,
              "#9c179e"
             ],
             [
              0.4444444444444444,
              "#bd3786"
             ],
             [
              0.5555555555555556,
              "#d8576b"
             ],
             [
              0.6666666666666666,
              "#ed7953"
             ],
             [
              0.7777777777777778,
              "#fb9f3a"
             ],
             [
              0.8888888888888888,
              "#fdca26"
             ],
             [
              1,
              "#f0f921"
             ]
            ],
            "type": "histogram2dcontour"
           }
          ],
          "mesh3d": [
           {
            "colorbar": {
             "outlinewidth": 0,
             "ticks": ""
            },
            "type": "mesh3d"
           }
          ],
          "parcoords": [
           {
            "line": {
             "colorbar": {
              "outlinewidth": 0,
              "ticks": ""
             }
            },
            "type": "parcoords"
           }
          ],
          "pie": [
           {
            "automargin": true,
            "type": "pie"
           }
          ],
          "scatter": [
           {
            "fillpattern": {
             "fillmode": "overlay",
             "size": 10,
             "solidity": 0.2
            },
            "type": "scatter"
           }
          ],
          "scatter3d": [
           {
            "line": {
             "colorbar": {
              "outlinewidth": 0,
              "ticks": ""
             }
            },
            "marker": {
             "colorbar": {
              "outlinewidth": 0,
              "ticks": ""
             }
            },
            "type": "scatter3d"
           }
          ],
          "scattercarpet": [
           {
            "marker": {
             "colorbar": {
              "outlinewidth": 0,
              "ticks": ""
             }
            },
            "type": "scattercarpet"
           }
          ],
          "scattergeo": [
           {
            "marker": {
             "colorbar": {
              "outlinewidth": 0,
              "ticks": ""
             }
            },
            "type": "scattergeo"
           }
          ],
          "scattergl": [
           {
            "marker": {
             "colorbar": {
              "outlinewidth": 0,
              "ticks": ""
             }
            },
            "type": "scattergl"
           }
          ],
          "scattermapbox": [
           {
            "marker": {
             "colorbar": {
              "outlinewidth": 0,
              "ticks": ""
             }
            },
            "type": "scattermapbox"
           }
          ],
          "scatterpolar": [
           {
            "marker": {
             "colorbar": {
              "outlinewidth": 0,
              "ticks": ""
             }
            },
            "type": "scatterpolar"
           }
          ],
          "scatterpolargl": [
           {
            "marker": {
             "colorbar": {
              "outlinewidth": 0,
              "ticks": ""
             }
            },
            "type": "scatterpolargl"
           }
          ],
          "scatterternary": [
           {
            "marker": {
             "colorbar": {
              "outlinewidth": 0,
              "ticks": ""
             }
            },
            "type": "scatterternary"
           }
          ],
          "surface": [
           {
            "colorbar": {
             "outlinewidth": 0,
             "ticks": ""
            },
            "colorscale": [
             [
              0,
              "#0d0887"
             ],
             [
              0.1111111111111111,
              "#46039f"
             ],
             [
              0.2222222222222222,
              "#7201a8"
             ],
             [
              0.3333333333333333,
              "#9c179e"
             ],
             [
              0.4444444444444444,
              "#bd3786"
             ],
             [
              0.5555555555555556,
              "#d8576b"
             ],
             [
              0.6666666666666666,
              "#ed7953"
             ],
             [
              0.7777777777777778,
              "#fb9f3a"
             ],
             [
              0.8888888888888888,
              "#fdca26"
             ],
             [
              1,
              "#f0f921"
             ]
            ],
            "type": "surface"
           }
          ],
          "table": [
           {
            "cells": {
             "fill": {
              "color": "#EBF0F8"
             },
             "line": {
              "color": "white"
             }
            },
            "header": {
             "fill": {
              "color": "#C8D4E3"
             },
             "line": {
              "color": "white"
             }
            },
            "type": "table"
           }
          ]
         },
         "layout": {
          "annotationdefaults": {
           "arrowcolor": "#2a3f5f",
           "arrowhead": 0,
           "arrowwidth": 1
          },
          "autotypenumbers": "strict",
          "coloraxis": {
           "colorbar": {
            "outlinewidth": 0,
            "ticks": ""
           }
          },
          "colorscale": {
           "diverging": [
            [
             0,
             "#8e0152"
            ],
            [
             0.1,
             "#c51b7d"
            ],
            [
             0.2,
             "#de77ae"
            ],
            [
             0.3,
             "#f1b6da"
            ],
            [
             0.4,
             "#fde0ef"
            ],
            [
             0.5,
             "#f7f7f7"
            ],
            [
             0.6,
             "#e6f5d0"
            ],
            [
             0.7,
             "#b8e186"
            ],
            [
             0.8,
             "#7fbc41"
            ],
            [
             0.9,
             "#4d9221"
            ],
            [
             1,
             "#276419"
            ]
           ],
           "sequential": [
            [
             0,
             "#0d0887"
            ],
            [
             0.1111111111111111,
             "#46039f"
            ],
            [
             0.2222222222222222,
             "#7201a8"
            ],
            [
             0.3333333333333333,
             "#9c179e"
            ],
            [
             0.4444444444444444,
             "#bd3786"
            ],
            [
             0.5555555555555556,
             "#d8576b"
            ],
            [
             0.6666666666666666,
             "#ed7953"
            ],
            [
             0.7777777777777778,
             "#fb9f3a"
            ],
            [
             0.8888888888888888,
             "#fdca26"
            ],
            [
             1,
             "#f0f921"
            ]
           ],
           "sequentialminus": [
            [
             0,
             "#0d0887"
            ],
            [
             0.1111111111111111,
             "#46039f"
            ],
            [
             0.2222222222222222,
             "#7201a8"
            ],
            [
             0.3333333333333333,
             "#9c179e"
            ],
            [
             0.4444444444444444,
             "#bd3786"
            ],
            [
             0.5555555555555556,
             "#d8576b"
            ],
            [
             0.6666666666666666,
             "#ed7953"
            ],
            [
             0.7777777777777778,
             "#fb9f3a"
            ],
            [
             0.8888888888888888,
             "#fdca26"
            ],
            [
             1,
             "#f0f921"
            ]
           ]
          },
          "colorway": [
           "#636efa",
           "#EF553B",
           "#00cc96",
           "#ab63fa",
           "#FFA15A",
           "#19d3f3",
           "#FF6692",
           "#B6E880",
           "#FF97FF",
           "#FECB52"
          ],
          "font": {
           "color": "#2a3f5f"
          },
          "geo": {
           "bgcolor": "white",
           "lakecolor": "white",
           "landcolor": "#E5ECF6",
           "showlakes": true,
           "showland": true,
           "subunitcolor": "white"
          },
          "hoverlabel": {
           "align": "left"
          },
          "hovermode": "closest",
          "mapbox": {
           "style": "light"
          },
          "paper_bgcolor": "white",
          "plot_bgcolor": "#E5ECF6",
          "polar": {
           "angularaxis": {
            "gridcolor": "white",
            "linecolor": "white",
            "ticks": ""
           },
           "bgcolor": "#E5ECF6",
           "radialaxis": {
            "gridcolor": "white",
            "linecolor": "white",
            "ticks": ""
           }
          },
          "scene": {
           "xaxis": {
            "backgroundcolor": "#E5ECF6",
            "gridcolor": "white",
            "gridwidth": 2,
            "linecolor": "white",
            "showbackground": true,
            "ticks": "",
            "zerolinecolor": "white"
           },
           "yaxis": {
            "backgroundcolor": "#E5ECF6",
            "gridcolor": "white",
            "gridwidth": 2,
            "linecolor": "white",
            "showbackground": true,
            "ticks": "",
            "zerolinecolor": "white"
           },
           "zaxis": {
            "backgroundcolor": "#E5ECF6",
            "gridcolor": "white",
            "gridwidth": 2,
            "linecolor": "white",
            "showbackground": true,
            "ticks": "",
            "zerolinecolor": "white"
           }
          },
          "shapedefaults": {
           "line": {
            "color": "#2a3f5f"
           }
          },
          "ternary": {
           "aaxis": {
            "gridcolor": "white",
            "linecolor": "white",
            "ticks": ""
           },
           "baxis": {
            "gridcolor": "white",
            "linecolor": "white",
            "ticks": ""
           },
           "bgcolor": "#E5ECF6",
           "caxis": {
            "gridcolor": "white",
            "linecolor": "white",
            "ticks": ""
           }
          },
          "title": {
           "x": 0.05
          },
          "xaxis": {
           "automargin": true,
           "gridcolor": "white",
           "linecolor": "white",
           "ticks": "",
           "title": {
            "standoff": 15
           },
           "zerolinecolor": "white",
           "zerolinewidth": 2
          },
          "yaxis": {
           "automargin": true,
           "gridcolor": "white",
           "linecolor": "white",
           "ticks": "",
           "title": {
            "standoff": 15
           },
           "zerolinecolor": "white",
           "zerolinewidth": 2
          }
         }
        },
        "xaxis": {
         "anchor": "y",
         "domain": [
          0,
          1
         ],
         "gridcolor": "#bbbbbb",
         "showgrid": true,
         "title": {
          "text": "year"
         }
        },
        "yaxis": {
         "anchor": "x",
         "domain": [
          0,
          1
         ],
         "showgrid": false,
         "title": {
          "text": "value"
         }
        }
       }
      }
     },
     "metadata": {},
     "output_type": "display_data"
    }
   ],
   "source": [
    "up_yearly_district = up_yearly.groupby()\n",
    "up_pivoted_df = up_yearly_district.pivot_table(\n",
    "    index=\"year\", columns=\"commodity\", values=\"modal_rs_quintal\", fill_value=0\n",
    ")\n",
    "\n",
    "# Create the grouped bar chart\n",
    "fig = px.bar(\n",
    "    data_frame=up_pivoted_df,\n",
    "    barmode=\"group\",\n",
    ")\n",
    "fig.update_layout(\n",
    "    xaxis_showgrid=True, yaxis_showgrid=False  # Add grid lines on the x-axis\n",
    ")\n",
    "\n",
    "# Optionally, customize grid line appearance\n",
    "fig.update_layout(\n",
    "    xaxis_gridcolor=\"#bbbbbb\",  # Set grid line color for x-axis\n",
    ")\n",
    "fig.show()"
   ]
  },
  {
   "cell_type": "code",
   "execution_count": null,
   "metadata": {},
   "outputs": [],
   "source": []
  },
  {
   "cell_type": "code",
   "execution_count": null,
   "metadata": {},
   "outputs": [],
   "source": []
  },
  {
   "cell_type": "code",
   "execution_count": null,
   "metadata": {},
   "outputs": [],
   "source": []
  }
 ],
 "metadata": {
  "kernelspec": {
   "display_name": ".venv",
   "language": "python",
   "name": "python3"
  },
  "language_info": {
   "codemirror_mode": {
    "name": "ipython",
    "version": 3
   },
   "file_extension": ".py",
   "mimetype": "text/x-python",
   "name": "python",
   "nbconvert_exporter": "python",
   "pygments_lexer": "ipython3",
   "version": "3.12.3"
  }
 },
 "nbformat": 4,
 "nbformat_minor": 2
}
