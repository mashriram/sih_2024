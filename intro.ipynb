{
 "cells": [
  {
   "cell_type": "markdown",
   "metadata": {},
   "source": [
    "## Problem Statement:\n",
    "## Development of AI-ML based models for predicting prices of agri-horticultural commodities such as pulses and vegetable (onion, potato)"
   ]
  },
  {
   "cell_type": "markdown",
   "metadata": {},
   "source": [
    "#### Problem Description:\n",
    "##### The Department of Consumer Affairs monitors the daily prices of 22 essential food commodities through 550 price reporting centres across the country. The Department also maintains buffer stock of pulses, viz., gram, tur, urad, moon and masur, and onion for strategic market interventions to stabilize the volatility in prices. Decisions for market interventions such as release of stocks from the buffer are taken on the basis of the price trends and outlook. At present, the analyses of prices are based on the seasonality, historical and emerging trends, market intelligence inputs, crop sowing and production estimates. ARIMA based economic models have also been used to examine and forecast prices of pulses."
   ]
  },
  {
   "cell_type": "markdown",
   "metadata": {},
   "source": []
  },
  {
   "cell_type": "markdown",
   "metadata": {},
   "source": [
    "#### Approach\n",
    "\n",
    "### Data Sourcing\n",
    "\n",
    "&nbsp;&nbsp;&nbsp;&nbsp;1. Get the list of 22 essential food commodities\n",
    "\n",
    "&nbsp;&nbsp;&nbsp;&nbsp;2. Get the list of 550 price reporting centres across the country\n",
    "\n",
    "&nbsp;&nbsp;&nbsp;&nbsp;3. Get the Daily prices for all the 22 essential commodities for the last 5 years\n",
    "\n",
    "&nbsp;&nbsp;&nbsp;&nbsp;4. Get the Buffer stock availability information\n",
    "    \n",
    "&nbsp;&nbsp;&nbsp;&nbsp;5. Get the market interventions done in the past\n",
    "\n",
    "&nbsp;&nbsp;&nbsp;&nbsp;6. Get the price of these commodities in the commodity exchange\n",
    "\n",
    "&nbsp;&nbsp;&nbsp;&nbsp;7. Get any report / study conducted in the past\n",
    "\n",
    "### Data Cleaning\n",
    "\n",
    "### Exploratory Data Analysis\n",
    "\n",
    "&nbsp;&nbsp;&nbsp;&nbsp;1. Plot the prices of commodities over the years. Cehck if there is any pattern\n",
    "\n",
    "&nbsp;&nbsp;&nbsp;&nbsp;2. Determinants of Commodity Market \n",
    "\n",
    "&nbsp;&nbsp;&nbsp;&nbsp;&nbsp;&nbsp;&nbsp;&nbsp; a. Supply and Demand\n",
    "\n",
    "&nbsp;&nbsp;&nbsp;&nbsp;&nbsp;&nbsp;&nbsp;&nbsp; b. Cost of Production\n",
    "\n",
    "&nbsp;&nbsp;&nbsp;&nbsp;&nbsp;&nbsp;&nbsp;&nbsp; c. Economic Growth\n",
    "\n",
    "&nbsp;&nbsp;&nbsp;&nbsp;&nbsp;&nbsp;&nbsp;&nbsp; d. GeoPolitical Events\n",
    "\n",
    "&nbsp;&nbsp;&nbsp;&nbsp;&nbsp;&nbsp;&nbsp;&nbsp; e. Natural Diasters\n",
    "\n",
    "&nbsp;&nbsp;&nbsp;&nbsp;&nbsp;&nbsp;&nbsp;&nbsp; f. Speculative Trading\n",
    "\n",
    "&nbsp;&nbsp;&nbsp;&nbsp;&nbsp;&nbsp;&nbsp;&nbsp; g. Government Policies\n",
    "\n",
    "&nbsp;&nbsp;&nbsp;&nbsp;3. Identify the factors that can influence the price \n",
    "\n",
    "&nbsp;&nbsp;&nbsp;&nbsp;&nbsp;&nbsp;&nbsp;&nbsp; a. Monsoon / Rainfall\n",
    "\n",
    "&nbsp;&nbsp;&nbsp;&nbsp;&nbsp;&nbsp;&nbsp;&nbsp; b. Floods \n",
    "\n",
    "&nbsp;&nbsp;&nbsp;&nbsp;&nbsp;&nbsp;&nbsp;&nbsp; c. Drought \n",
    "\n",
    "&nbsp;&nbsp;&nbsp;&nbsp;&nbsp;&nbsp;&nbsp;&nbsp; d. Temperature\n",
    "\n",
    "&nbsp;&nbsp;&nbsp;&nbsp;&nbsp;&nbsp;&nbsp;&nbsp; e. Ground Water\n",
    "\n",
    "&nbsp;&nbsp;&nbsp;&nbsp;&nbsp;&nbsp;&nbsp;&nbsp; f. Demand / Supply\n",
    "\n",
    "&nbsp;&nbsp;&nbsp;&nbsp;&nbsp;&nbsp;&nbsp;&nbsp; g. Cost of Petrol / Diesel / Coal / Electricity\n",
    "\n",
    "&nbsp;&nbsp;&nbsp;&nbsp;&nbsp;&nbsp;&nbsp;&nbsp; h. Crop Insurance\n",
    "\n",
    "&nbsp;&nbsp;&nbsp;&nbsp;&nbsp;&nbsp;&nbsp;&nbsp; g. Government Schemes\n",
    "\n",
    "&nbsp;&nbsp;&nbsp;&nbsp;&nbsp;&nbsp;&nbsp;&nbsp; h. Commodity prices in the Exchange\n",
    "\n",
    "&nbsp;&nbsp;&nbsp;&nbsp;&nbsp;&nbsp;&nbsp;&nbsp; i. Import / Export\n",
    "\n",
    "### Model Building\n",
    "\n",
    "### Model Evaluation\n",
    "\n",
    "### Model Deployment"
   ]
  },
  {
   "cell_type": "markdown",
   "metadata": {},
   "source": []
  }
 ],
 "metadata": {
  "kernelspec": {
   "display_name": ".venv",
   "language": "python",
   "name": "python3"
  },
  "language_info": {
   "name": "python",
   "version": "3.12.3"
  }
 },
 "nbformat": 4,
 "nbformat_minor": 2
}
